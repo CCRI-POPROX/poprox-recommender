{
 "cells": [
  {
   "cell_type": "markdown",
   "metadata": {},
   "source": [
    "Code to experiment with calculating calibration."
   ]
  },
  {
   "cell_type": "code",
   "execution_count": 1,
   "metadata": {},
   "outputs": [],
   "source": [
    "import pandas as pd"
   ]
  },
  {
   "cell_type": "markdown",
   "metadata": {},
   "source": [
    "Get topics for news the user clicked on and news user was shown (impressions)"
   ]
  },
  {
   "cell_type": "code",
   "execution_count": 32,
   "metadata": {},
   "outputs": [],
   "source": [
    "behavior_df = pd.read_table(\"../data/test_mind_large/behaviors.tsv\",\n",
    "               header='infer',\n",
    "               usecols=range(5),\n",
    "               names=[\n",
    "                   'impression_id', 'user', 'time',\n",
    "                   'clicked_news', 'impressions'\n",
    "               ])\n",
    "behavior_df.fillna('', inplace = True)\n",
    "behavior_df.head()\n",
    "# Users may appear multiple times in behavior_df. \n",
    "# For the purposes of this experiment, we are treating each row as unique and \n",
    "# extracting history and the current impressions. However in the future, \n",
    "# all history for a user may need to be considered."
   ]
  },
  {
   "cell_type": "code",
   "execution_count": 39,
   "metadata": {},
   "outputs": [
    {
     "data": {
      "text/html": [
       "<div>\n",
       "<style scoped>\n",
       "    .dataframe tbody tr th:only-of-type {\n",
       "        vertical-align: middle;\n",
       "    }\n",
       "\n",
       "    .dataframe tbody tr th {\n",
       "        vertical-align: top;\n",
       "    }\n",
       "\n",
       "    .dataframe thead th {\n",
       "        text-align: right;\n",
       "    }\n",
       "</style>\n",
       "<table border=\"1\" class=\"dataframe\">\n",
       "  <thead>\n",
       "    <tr style=\"text-align: right;\">\n",
       "      <th></th>\n",
       "      <th>news_id</th>\n",
       "      <th>topic</th>\n",
       "      <th>subtopic</th>\n",
       "      <th>title</th>\n",
       "    </tr>\n",
       "  </thead>\n",
       "  <tbody>\n",
       "    <tr>\n",
       "      <th>0</th>\n",
       "      <td>N88753</td>\n",
       "      <td>lifestyle</td>\n",
       "      <td>lifestyleroyals</td>\n",
       "      <td>The Brands Queen Elizabeth, Prince Charles, an...</td>\n",
       "    </tr>\n",
       "    <tr>\n",
       "      <th>1</th>\n",
       "      <td>N23144</td>\n",
       "      <td>health</td>\n",
       "      <td>weightloss</td>\n",
       "      <td>50 Worst Habits For Belly Fat</td>\n",
       "    </tr>\n",
       "    <tr>\n",
       "      <th>2</th>\n",
       "      <td>N86255</td>\n",
       "      <td>health</td>\n",
       "      <td>medical</td>\n",
       "      <td>Dispose of unwanted prescription drugs during ...</td>\n",
       "    </tr>\n",
       "    <tr>\n",
       "      <th>3</th>\n",
       "      <td>N93187</td>\n",
       "      <td>news</td>\n",
       "      <td>newsworld</td>\n",
       "      <td>The Cost of Trump's Aid Freeze in the Trenches...</td>\n",
       "    </tr>\n",
       "    <tr>\n",
       "      <th>4</th>\n",
       "      <td>N75236</td>\n",
       "      <td>health</td>\n",
       "      <td>voices</td>\n",
       "      <td>I Was An NBA Wife. Here's How It Affected My M...</td>\n",
       "    </tr>\n",
       "  </tbody>\n",
       "</table>\n",
       "</div>"
      ],
      "text/plain": [
       "  news_id      topic         subtopic  \\\n",
       "0  N88753  lifestyle  lifestyleroyals   \n",
       "1  N23144     health       weightloss   \n",
       "2  N86255     health          medical   \n",
       "3  N93187       news        newsworld   \n",
       "4  N75236     health           voices   \n",
       "\n",
       "                                               title  \n",
       "0  The Brands Queen Elizabeth, Prince Charles, an...  \n",
       "1                      50 Worst Habits For Belly Fat  \n",
       "2  Dispose of unwanted prescription drugs during ...  \n",
       "3  The Cost of Trump's Aid Freeze in the Trenches...  \n",
       "4  I Was An NBA Wife. Here's How It Affected My M...  "
      ]
     },
     "execution_count": 39,
     "metadata": {},
     "output_type": "execute_result"
    }
   ],
   "source": [
    "news_df = pd.read_table(\"../data/test_mind_large/news.tsv\",\n",
    "            header = 'infer', \n",
    "            usecols = range(4),\n",
    "            names = ['news_id', 'topic', 'subtopic', 'title'])\n",
    "news_df.head()"
   ]
  },
  {
   "cell_type": "code",
   "execution_count": 50,
   "metadata": {},
   "outputs": [
    {
     "name": "stderr",
     "output_type": "stream",
     "text": [
      "C:\\Users\\Eliza\\AppData\\Local\\Temp\\ipykernel_13948\\1990249385.py:2: SettingWithCopyWarning: \n",
      "A value is trying to be set on a copy of a slice from a DataFrame.\n",
      "Try using .loc[row_indexer,col_indexer] = value instead\n",
      "\n",
      "See the caveats in the documentation: https://pandas.pydata.org/pandas-docs/stable/user_guide/indexing.html#returning-a-view-versus-a-copy\n",
      "  user_clicked_topics['news_id'] = user_clicked_topics['clicked_news'].apply(lambda x: x.split(' '))\n"
     ]
    }
   ],
   "source": [
    "user_clicked_topics = behavior_df[['impression_id', 'clicked_news']]\n",
    "user_clicked_topics['news_id'] = user_clicked_topics['clicked_news'].apply(lambda x: x.split(' '))\n",
    "user_clicked_topics = user_clicked_topics.explode('news_id')\n",
    "user_clicked_topics.drop(columns=['clicked_news'], inplace=True)\n",
    "user_clicked_topics = pd.merge(user_clicked_topics, news_df)\n",
    "user_clicked_topics = user_clicked_topics.groupby(by='impression_id')['topic'].apply(list).reset_index(name=\"clicked_topics\")"
   ]
  },
  {
   "cell_type": "code",
   "execution_count": 53,
   "metadata": {},
   "outputs": [
    {
     "name": "stderr",
     "output_type": "stream",
     "text": [
      "C:\\Users\\Eliza\\AppData\\Local\\Temp\\ipykernel_13948\\4280619239.py:2: SettingWithCopyWarning: \n",
      "A value is trying to be set on a copy of a slice from a DataFrame.\n",
      "Try using .loc[row_indexer,col_indexer] = value instead\n",
      "\n",
      "See the caveats in the documentation: https://pandas.pydata.org/pandas-docs/stable/user_guide/indexing.html#returning-a-view-versus-a-copy\n",
      "  user_shown_topics['news_id'] = user_shown_topics['impressions'].apply(lambda x: x.split(' '))\n"
     ]
    }
   ],
   "source": [
    "user_shown_topics = behavior_df[['impression_id', 'impressions']]\n",
    "user_shown_topics['news_id'] = user_shown_topics['impressions'].apply(lambda x: x.split(' '))\n",
    "user_shown_topics = user_shown_topics.explode('news_id')\n",
    "user_shown_topics['news_id'] = user_shown_topics['news_id'].apply(lambda x: x.split(\"-\")[0])\n",
    "user_shown_topics.drop(columns=['impressions'], inplace=True)\n",
    "user_shown_topics = pd.merge(user_shown_topics, news_df)\n",
    "user_shown_topics = user_shown_topics.groupby(by='impression_id')['topic'].apply(list).reset_index(name=\"shown_topics\")"
   ]
  },
  {
   "cell_type": "code",
   "execution_count": 54,
   "metadata": {},
   "outputs": [],
   "source": [
    "topics_df = pd.merge(user_clicked_topics, user_shown_topics)"
   ]
  },
  {
   "cell_type": "code",
   "execution_count": 55,
   "metadata": {},
   "outputs": [
    {
     "data": {
      "text/html": [
       "<div>\n",
       "<style scoped>\n",
       "    .dataframe tbody tr th:only-of-type {\n",
       "        vertical-align: middle;\n",
       "    }\n",
       "\n",
       "    .dataframe tbody tr th {\n",
       "        vertical-align: top;\n",
       "    }\n",
       "\n",
       "    .dataframe thead th {\n",
       "        text-align: right;\n",
       "    }\n",
       "</style>\n",
       "<table border=\"1\" class=\"dataframe\">\n",
       "  <thead>\n",
       "    <tr style=\"text-align: right;\">\n",
       "      <th></th>\n",
       "      <th>impression_id</th>\n",
       "      <th>clicked_topics</th>\n",
       "      <th>shown_topics</th>\n",
       "    </tr>\n",
       "  </thead>\n",
       "  <tbody>\n",
       "    <tr>\n",
       "      <th>0</th>\n",
       "      <td>1</td>\n",
       "      <td>[foodanddrink, health, news, travel, sports, l...</td>\n",
       "      <td>[movies, lifestyle, news, tv, lifestyle, fooda...</td>\n",
       "    </tr>\n",
       "    <tr>\n",
       "      <th>1</th>\n",
       "      <td>2</td>\n",
       "      <td>[tv, tv, sports, news, sports, news, entertain...</td>\n",
       "      <td>[lifestyle, autos, news, travel, video, entert...</td>\n",
       "    </tr>\n",
       "    <tr>\n",
       "      <th>2</th>\n",
       "      <td>3</td>\n",
       "      <td>[sports, movies, lifestyle, sports, travel, ne...</td>\n",
       "      <td>[lifestyle, sports, movies, news, sports, spor...</td>\n",
       "    </tr>\n",
       "    <tr>\n",
       "      <th>3</th>\n",
       "      <td>4</td>\n",
       "      <td>[foodanddrink, lifestyle, foodanddrink, tv, ne...</td>\n",
       "      <td>[foodanddrink, lifestyle, weather, autos, vide...</td>\n",
       "    </tr>\n",
       "    <tr>\n",
       "      <th>4</th>\n",
       "      <td>5</td>\n",
       "      <td>[news, travel, news, news, movies, tv, news, l...</td>\n",
       "      <td>[lifestyle, health, lifestyle, foodanddrink, s...</td>\n",
       "    </tr>\n",
       "    <tr>\n",
       "      <th>...</th>\n",
       "      <td>...</td>\n",
       "      <td>...</td>\n",
       "      <td>...</td>\n",
       "    </tr>\n",
       "    <tr>\n",
       "      <th>365196</th>\n",
       "      <td>376467</td>\n",
       "      <td>[lifestyle, lifestyle, travel, entertainment, ...</td>\n",
       "      <td>[sports, sports, news, lifestyle]</td>\n",
       "    </tr>\n",
       "    <tr>\n",
       "      <th>365197</th>\n",
       "      <td>376468</td>\n",
       "      <td>[news, news, finance, weather, sports, sports,...</td>\n",
       "      <td>[sports, lifestyle, weather, lifestyle, lifest...</td>\n",
       "    </tr>\n",
       "    <tr>\n",
       "      <th>365198</th>\n",
       "      <td>376469</td>\n",
       "      <td>[movies, news, sports, sports, tv, sports, new...</td>\n",
       "      <td>[news, news, music, weather, news, news, finan...</td>\n",
       "    </tr>\n",
       "    <tr>\n",
       "      <th>365199</th>\n",
       "      <td>376470</td>\n",
       "      <td>[news, autos, health, tv, finance, tv, sports,...</td>\n",
       "      <td>[news, news, tv, lifestyle, finance, sports, m...</td>\n",
       "    </tr>\n",
       "    <tr>\n",
       "      <th>365200</th>\n",
       "      <td>376471</td>\n",
       "      <td>[weather, news, news, news, news, travel, news...</td>\n",
       "      <td>[video, news, video, video, tv, news, travel, ...</td>\n",
       "    </tr>\n",
       "  </tbody>\n",
       "</table>\n",
       "<p>365201 rows × 3 columns</p>\n",
       "</div>"
      ],
      "text/plain": [
       "        impression_id                                     clicked_topics  \\\n",
       "0                   1  [foodanddrink, health, news, travel, sports, l...   \n",
       "1                   2  [tv, tv, sports, news, sports, news, entertain...   \n",
       "2                   3  [sports, movies, lifestyle, sports, travel, ne...   \n",
       "3                   4  [foodanddrink, lifestyle, foodanddrink, tv, ne...   \n",
       "4                   5  [news, travel, news, news, movies, tv, news, l...   \n",
       "...               ...                                                ...   \n",
       "365196         376467  [lifestyle, lifestyle, travel, entertainment, ...   \n",
       "365197         376468  [news, news, finance, weather, sports, sports,...   \n",
       "365198         376469  [movies, news, sports, sports, tv, sports, new...   \n",
       "365199         376470  [news, autos, health, tv, finance, tv, sports,...   \n",
       "365200         376471  [weather, news, news, news, news, travel, news...   \n",
       "\n",
       "                                             shown_topics  \n",
       "0       [movies, lifestyle, news, tv, lifestyle, fooda...  \n",
       "1       [lifestyle, autos, news, travel, video, entert...  \n",
       "2       [lifestyle, sports, movies, news, sports, spor...  \n",
       "3       [foodanddrink, lifestyle, weather, autos, vide...  \n",
       "4       [lifestyle, health, lifestyle, foodanddrink, s...  \n",
       "...                                                   ...  \n",
       "365196                  [sports, sports, news, lifestyle]  \n",
       "365197  [sports, lifestyle, weather, lifestyle, lifest...  \n",
       "365198  [news, news, music, weather, news, news, finan...  \n",
       "365199  [news, news, tv, lifestyle, finance, sports, m...  \n",
       "365200  [video, news, video, video, tv, news, travel, ...  \n",
       "\n",
       "[365201 rows x 3 columns]"
      ]
     },
     "execution_count": 55,
     "metadata": {},
     "output_type": "execute_result"
    }
   ],
   "source": [
    "topics_df"
   ]
  },
  {
   "cell_type": "markdown",
   "metadata": {},
   "source": [
    "Calculate calibration"
   ]
  }
 ],
 "metadata": {
  "kernelspec": {
   "display_name": "poprox-recsys-exp0",
   "language": "python",
   "name": "python3"
  },
  "language_info": {
   "codemirror_mode": {
    "name": "ipython",
    "version": 3
   },
   "file_extension": ".py",
   "mimetype": "text/x-python",
   "name": "python",
   "nbconvert_exporter": "python",
   "pygments_lexer": "ipython3",
   "version": "3.11.9"
  }
 },
 "nbformat": 4,
 "nbformat_minor": 2
}
