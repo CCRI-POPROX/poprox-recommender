{
 "cells": [
  {
   "cell_type": "markdown",
   "id": "76fd0221",
   "metadata": {
    "papermill": {
     "duration": 0.010622,
     "end_time": "2025-09-12T19:08:19.290420",
     "exception": false,
     "start_time": "2025-09-12T19:08:19.279798",
     "status": "completed"
    },
    "tags": []
   },
   "source": [
    "# Offline Evaluation Metrics Visualizations\n",
    "\n",
    "This notebook visualizes user-specific performance metrics of various recommenders in the mind-subset dataset to assess effectiveness and ranking overlap. We explore two metric groups:\n",
    "\n",
    "1. **Effectiveness Metrics**: We use ranking-based metrics, Normalized Discounted Cumulative Gain (NDCG) and Reciprocal Rank (RR), to evaluate recommender effectiveness.\n",
    "2. **Ranking Overlap Metrics**: We use Rank-Based Overlap (RBO) to assess consistency in top-k recommendations relative to final rankings.\n",
    "\n",
    "> [!NOTE]\n",
    "> This is a *parameterized* notebook, and is used to render the other specific evaluation notebooks with [Papermill](https://papermill.readthedocs.io/en/latest/).  By default, it displays\n",
    "> the MIND Subset results, for easy editing."
   ]
  },
  {
   "cell_type": "code",
   "execution_count": 1,
   "id": "e82acae8",
   "metadata": {
    "execution": {
     "iopub.execute_input": "2025-09-12T19:08:19.293161Z",
     "iopub.status.busy": "2025-09-12T19:08:19.293040Z",
     "iopub.status.idle": "2025-09-12T19:08:19.294815Z",
     "shell.execute_reply": "2025-09-12T19:08:19.294629Z"
    },
    "papermill": {
     "duration": 0.003683,
     "end_time": "2025-09-12T19:08:19.295340",
     "exception": false,
     "start_time": "2025-09-12T19:08:19.291657",
     "status": "completed"
    },
    "tags": [
     "parameters"
    ]
   },
   "outputs": [],
   "source": [
    "EVAL_NAME = \"mind-subset\""
   ]
  },
  {
   "cell_type": "code",
   "execution_count": 2,
   "id": "558f8054",
   "metadata": {
    "execution": {
     "iopub.execute_input": "2025-09-12T19:08:19.297959Z",
     "iopub.status.busy": "2025-09-12T19:08:19.297781Z",
     "iopub.status.idle": "2025-09-12T19:08:19.299303Z",
     "shell.execute_reply": "2025-09-12T19:08:19.299085Z"
    },
    "papermill": {
     "duration": 0.00315,
     "end_time": "2025-09-12T19:08:19.299733",
     "exception": false,
     "start_time": "2025-09-12T19:08:19.296583",
     "status": "completed"
    },
    "tags": [
     "injected-parameters"
    ]
   },
   "outputs": [],
   "source": [
    "# Parameters\n",
    "EVAL_NAME = \"mind-small\"\n"
   ]
  },
  {
   "cell_type": "markdown",
   "id": "c2641056",
   "metadata": {
    "papermill": {
     "duration": 0.000915,
     "end_time": "2025-09-12T19:08:19.301632",
     "exception": false,
     "start_time": "2025-09-12T19:08:19.300717",
     "status": "completed"
    },
    "tags": []
   },
   "source": [
    "## Setup"
   ]
  },
  {
   "cell_type": "markdown",
   "id": "046f2a64",
   "metadata": {
    "papermill": {
     "duration": 0.000949,
     "end_time": "2025-09-12T19:08:19.303589",
     "exception": false,
     "start_time": "2025-09-12T19:08:19.302640",
     "status": "completed"
    },
    "tags": []
   },
   "source": [
    "### Importing Libraries"
   ]
  },
  {
   "cell_type": "markdown",
   "id": "29746948",
   "metadata": {
    "papermill": {
     "duration": 0.000907,
     "end_time": "2025-09-12T19:08:19.305461",
     "exception": false,
     "start_time": "2025-09-12T19:08:19.304554",
     "status": "completed"
    },
    "tags": []
   },
   "source": [
    "PyData packages:"
   ]
  },
  {
   "cell_type": "code",
   "execution_count": 3,
   "id": "70b02420",
   "metadata": {
    "execution": {
     "iopub.execute_input": "2025-09-12T19:08:19.307661Z",
     "iopub.status.busy": "2025-09-12T19:08:19.307575Z",
     "iopub.status.idle": "2025-09-12T19:08:19.795795Z",
     "shell.execute_reply": "2025-09-12T19:08:19.795388Z"
    },
    "papermill": {
     "duration": 0.489922,
     "end_time": "2025-09-12T19:08:19.796360",
     "exception": false,
     "start_time": "2025-09-12T19:08:19.306438",
     "status": "completed"
    },
    "tags": []
   },
   "outputs": [],
   "source": [
    "import matplotlib.pyplot as plt\n",
    "import numpy as np\n",
    "import pandas as pd\n",
    "import seaborn as sns"
   ]
  },
  {
   "cell_type": "markdown",
   "id": "2a2dc22c",
   "metadata": {
    "papermill": {
     "duration": 0.009076,
     "end_time": "2025-09-12T19:08:19.806694",
     "exception": false,
     "start_time": "2025-09-12T19:08:19.797618",
     "status": "completed"
    },
    "tags": []
   },
   "source": [
    "Local code and display support:"
   ]
  },
  {
   "cell_type": "code",
   "execution_count": 4,
   "id": "c9c3fd9e",
   "metadata": {
    "execution": {
     "iopub.execute_input": "2025-09-12T19:08:19.809374Z",
     "iopub.status.busy": "2025-09-12T19:08:19.809207Z",
     "iopub.status.idle": "2025-09-12T19:08:19.811531Z",
     "shell.execute_reply": "2025-09-12T19:08:19.811285Z"
    },
    "papermill": {
     "duration": 0.004205,
     "end_time": "2025-09-12T19:08:19.811981",
     "exception": false,
     "start_time": "2025-09-12T19:08:19.807776",
     "status": "completed"
    },
    "tags": []
   },
   "outputs": [],
   "source": [
    "from IPython.display import HTML\n",
    "\n",
    "from poprox_recommender.eval_tables import EvalTable"
   ]
  },
  {
   "cell_type": "markdown",
   "id": "bfeb987f",
   "metadata": {
    "papermill": {
     "duration": 0.000974,
     "end_time": "2025-09-12T19:08:19.813986",
     "exception": false,
     "start_time": "2025-09-12T19:08:19.813012",
     "status": "completed"
    },
    "tags": []
   },
   "source": [
    "### Loading Data"
   ]
  },
  {
   "cell_type": "code",
   "execution_count": 5,
   "id": "a93f5ff3",
   "metadata": {
    "execution": {
     "iopub.execute_input": "2025-09-12T19:08:19.816444Z",
     "iopub.status.busy": "2025-09-12T19:08:19.816331Z",
     "iopub.status.idle": "2025-09-12T19:08:20.137341Z",
     "shell.execute_reply": "2025-09-12T19:08:20.137072Z"
    },
    "papermill": {
     "duration": 0.322877,
     "end_time": "2025-09-12T19:08:20.137905",
     "exception": false,
     "start_time": "2025-09-12T19:08:19.815028",
     "status": "completed"
    },
    "tags": []
   },
   "outputs": [
    {
     "data": {
      "text/html": [
       "<div>\n",
       "<style scoped>\n",
       "    .dataframe tbody tr th:only-of-type {\n",
       "        vertical-align: middle;\n",
       "    }\n",
       "\n",
       "    .dataframe tbody tr th {\n",
       "        vertical-align: top;\n",
       "    }\n",
       "\n",
       "    .dataframe thead th {\n",
       "        text-align: right;\n",
       "    }\n",
       "</style>\n",
       "<table border=\"1\" class=\"dataframe\">\n",
       "  <thead>\n",
       "    <tr style=\"text-align: right;\">\n",
       "      <th></th>\n",
       "      <th>pipeline</th>\n",
       "      <th>profile_id</th>\n",
       "      <th>Unnamed: 0</th>\n",
       "      <th>personalized</th>\n",
       "      <th>NDCG@5</th>\n",
       "      <th>NDCG@10</th>\n",
       "      <th>RR</th>\n",
       "      <th>RBO@5</th>\n",
       "      <th>RBO@10</th>\n",
       "      <th>rank_based_entropy</th>\n",
       "      <th>least_item_promoted</th>\n",
       "      <th>intralist_similarity</th>\n",
       "    </tr>\n",
       "  </thead>\n",
       "  <tbody>\n",
       "    <tr>\n",
       "      <th>0</th>\n",
       "      <td>nrms</td>\n",
       "      <td>00001040-f87f-52ba-8fe6-1efe165ec8a5</td>\n",
       "      <td>0</td>\n",
       "      <td>True</td>\n",
       "      <td>0.715338</td>\n",
       "      <td>0.715338</td>\n",
       "      <td>1.000000</td>\n",
       "      <td>0.0</td>\n",
       "      <td>0.0</td>\n",
       "      <td>NaN</td>\n",
       "      <td>0.0</td>\n",
       "      <td>NaN</td>\n",
       "    </tr>\n",
       "    <tr>\n",
       "      <th>1</th>\n",
       "      <td>nrms</td>\n",
       "      <td>0001b413-8cad-5037-bab0-aa7e68a9b98a</td>\n",
       "      <td>1</td>\n",
       "      <td>True</td>\n",
       "      <td>0.215338</td>\n",
       "      <td>0.382005</td>\n",
       "      <td>0.200000</td>\n",
       "      <td>0.0</td>\n",
       "      <td>0.0</td>\n",
       "      <td>NaN</td>\n",
       "      <td>0.0</td>\n",
       "      <td>NaN</td>\n",
       "    </tr>\n",
       "    <tr>\n",
       "      <th>2</th>\n",
       "      <td>nrms</td>\n",
       "      <td>0004f064-0d3c-51b4-873f-0ac7b65c76ef</td>\n",
       "      <td>2</td>\n",
       "      <td>True</td>\n",
       "      <td>0.000000</td>\n",
       "      <td>0.000000</td>\n",
       "      <td>0.000000</td>\n",
       "      <td>0.0</td>\n",
       "      <td>0.0</td>\n",
       "      <td>NaN</td>\n",
       "      <td>0.0</td>\n",
       "      <td>NaN</td>\n",
       "    </tr>\n",
       "    <tr>\n",
       "      <th>3</th>\n",
       "      <td>nrms</td>\n",
       "      <td>0004f84f-4f61-506f-8ca4-aad221b50f58</td>\n",
       "      <td>3</td>\n",
       "      <td>True</td>\n",
       "      <td>0.000000</td>\n",
       "      <td>0.000000</td>\n",
       "      <td>0.000000</td>\n",
       "      <td>0.0</td>\n",
       "      <td>0.0</td>\n",
       "      <td>NaN</td>\n",
       "      <td>0.0</td>\n",
       "      <td>NaN</td>\n",
       "    </tr>\n",
       "    <tr>\n",
       "      <th>4</th>\n",
       "      <td>nrms</td>\n",
       "      <td>00059a77-de83-5d8a-b046-a9a297620af5</td>\n",
       "      <td>4</td>\n",
       "      <td>True</td>\n",
       "      <td>0.630930</td>\n",
       "      <td>0.630930</td>\n",
       "      <td>0.333333</td>\n",
       "      <td>0.0</td>\n",
       "      <td>0.0</td>\n",
       "      <td>NaN</td>\n",
       "      <td>0.0</td>\n",
       "      <td>NaN</td>\n",
       "    </tr>\n",
       "  </tbody>\n",
       "</table>\n",
       "</div>"
      ],
      "text/plain": [
       "  pipeline                            profile_id  Unnamed: 0  personalized  \\\n",
       "0     nrms  00001040-f87f-52ba-8fe6-1efe165ec8a5           0          True   \n",
       "1     nrms  0001b413-8cad-5037-bab0-aa7e68a9b98a           1          True   \n",
       "2     nrms  0004f064-0d3c-51b4-873f-0ac7b65c76ef           2          True   \n",
       "3     nrms  0004f84f-4f61-506f-8ca4-aad221b50f58           3          True   \n",
       "4     nrms  00059a77-de83-5d8a-b046-a9a297620af5           4          True   \n",
       "\n",
       "     NDCG@5   NDCG@10        RR  RBO@5  RBO@10  rank_based_entropy  \\\n",
       "0  0.715338  0.715338  1.000000    0.0     0.0                 NaN   \n",
       "1  0.215338  0.382005  0.200000    0.0     0.0                 NaN   \n",
       "2  0.000000  0.000000  0.000000    0.0     0.0                 NaN   \n",
       "3  0.000000  0.000000  0.000000    0.0     0.0                 NaN   \n",
       "4  0.630930  0.630930  0.333333    0.0     0.0                 NaN   \n",
       "\n",
       "   least_item_promoted  intralist_similarity  \n",
       "0                  0.0                   NaN  \n",
       "1                  0.0                   NaN  \n",
       "2                  0.0                   NaN  \n",
       "3                  0.0                   NaN  \n",
       "4                  0.0                   NaN  "
      ]
     },
     "execution_count": 5,
     "metadata": {},
     "output_type": "execute_result"
    }
   ],
   "source": [
    "mind_subset_user_metrics = pd.read_csv(f\"../outputs/{EVAL_NAME}-profile-metrics.csv.gz\")\n",
    "mind_subset_user_metrics.head()"
   ]
  },
  {
   "cell_type": "code",
   "execution_count": 6,
   "id": "3a6ec2d4",
   "metadata": {
    "execution": {
     "iopub.execute_input": "2025-09-12T19:08:20.140847Z",
     "iopub.status.busy": "2025-09-12T19:08:20.140743Z",
     "iopub.status.idle": "2025-09-12T19:08:20.142297Z",
     "shell.execute_reply": "2025-09-12T19:08:20.142131Z"
    },
    "papermill": {
     "duration": 0.003549,
     "end_time": "2025-09-12T19:08:20.142770",
     "exception": false,
     "start_time": "2025-09-12T19:08:20.139221",
     "status": "completed"
    },
    "tags": []
   },
   "outputs": [],
   "source": [
    "effectiveness_metrics = [\"NDCG@5\", \"NDCG@10\", \"RR\"]\n",
    "overlap_metrics = [\"RBO@5\", \"RBO@10\"]"
   ]
  },
  {
   "cell_type": "markdown",
   "id": "c541e87d",
   "metadata": {
    "papermill": {
     "duration": 0.001065,
     "end_time": "2025-09-12T19:08:20.145001",
     "exception": false,
     "start_time": "2025-09-12T19:08:20.143936",
     "status": "completed"
    },
    "tags": []
   },
   "source": [
    "## Results"
   ]
  },
  {
   "cell_type": "markdown",
   "id": "41f78b8f",
   "metadata": {
    "papermill": {
     "duration": 0.00102,
     "end_time": "2025-09-12T19:08:20.147111",
     "exception": false,
     "start_time": "2025-09-12T19:08:20.146091",
     "status": "completed"
    },
    "tags": []
   },
   "source": [
    "### Effectiveness Metrics\n",
    "\n",
    "NDCG measures how well the recommendations align with user test data, focusing on the top-k positions, such as the top 5 (NDCG@5) or top 10 (NDCG@10). Likewise, RR evaluates how well the recommender finds the most relevant item as the top result."
   ]
  },
  {
   "cell_type": "code",
   "execution_count": 7,
   "id": "3d6e2454",
   "metadata": {
    "execution": {
     "iopub.execute_input": "2025-09-12T19:08:20.149831Z",
     "iopub.status.busy": "2025-09-12T19:08:20.149662Z",
     "iopub.status.idle": "2025-09-12T19:08:23.417541Z",
     "shell.execute_reply": "2025-09-12T19:08:23.417316Z"
    },
    "papermill": {
     "duration": 3.269902,
     "end_time": "2025-09-12T19:08:23.418119",
     "exception": false,
     "start_time": "2025-09-12T19:08:20.148217",
     "status": "completed"
    },
    "tags": []
   },
   "outputs": [
    {
     "data": {
      "image/png": "[encoded data removed]",
      "text/plain": [
       "<Figure size 1200x300 with 3 Axes>"
      ]
     },
     "metadata": {},
     "output_type": "display_data"
    }
   ],
   "source": [
    "plt.figure(figsize=(12, 3))\n",
    "plt.subplots_adjust(wspace=0.3)\n",
    "\n",
    "for i, metric in enumerate(effectiveness_metrics, 1):\n",
    "    plt.subplot(1, 3, i)\n",
    "    sns.barplot(data=mind_subset_user_metrics, x=\"pipeline\", y=metric)\n",
    "    plt.xticks(rotation=45)\n",
    "\n",
    "plt.show()"
   ]
  },
  {
   "cell_type": "markdown",
   "id": "22eabf45",
   "metadata": {
    "papermill": {
     "duration": 0.001313,
     "end_time": "2025-09-12T19:08:23.420926",
     "exception": false,
     "start_time": "2025-09-12T19:08:23.419613",
     "status": "completed"
    },
    "tags": []
   },
   "source": [
    "The summary tables show the mean values, standard deviation, and quantiles (10%ile, Median, 90%ile), each accompanied by their respective 95% confidence intervals for effectiveness metrics across recommenders."
   ]
  },
  {
   "cell_type": "code",
   "execution_count": 8,
   "id": "25632f44",
   "metadata": {
    "execution": {
     "iopub.execute_input": "2025-09-12T19:08:23.423932Z",
     "iopub.status.busy": "2025-09-12T19:08:23.423795Z",
     "iopub.status.idle": "2025-09-12T19:16:07.135259Z",
     "shell.execute_reply": "2025-09-12T19:16:07.135032Z"
    },
    "papermill": {
     "duration": 463.713751,
     "end_time": "2025-09-12T19:16:07.135905",
     "exception": false,
     "start_time": "2025-09-12T19:08:23.422154",
     "status": "completed"
    },
    "tags": []
   },
   "outputs": [
    {
     "data": {
      "text/html": [
       "<h3>Summary Table for NDCG@5</h3>"
      ],
      "text/plain": [
       "<IPython.core.display.HTML object>"
      ]
     },
     "metadata": {},
     "output_type": "display_data"
    },
    {
     "data": {
      "text/html": [
       "<table>\n",
       "<thead><tr>\n",
       "<th>Algorithm\n",
       "<th>Mean\n",
       "<th>Std Dev\n",
       "<th>10%ile\n",
       "<th>Median\n",
       "<th>90%ile\n",
       "<th>Dist. (KDE)\n",
       "</tr></thead>\n",
       "<tbody>\n",
       "<tr><td>nrms\n",
       "<td>0.414<br><span style=\"font-size: 75%;\">(0.411,0.416)</span></td>\n",
       "<td>0.412<br><span style=\"font-size: 75%;\">(0.411,0.413)</span></td>\n",
       "<td>0.000<br><span style=\"font-size: 75%;\">(0.000,0.000)</span></td>\n",
       "<td>0.380<br><span style=\"font-size: 75%;\">(0.380,0.421)</span></td>\n",
       "<td>1.000<br><span style=\"font-size: 75%;\">(1.000,1.000)</span></td>\n",
       "<td><img src=\"data:image/png;base64,iVBORw0KGgoAAAANSUhEUgAAASwAAAAZCAYAAACLvRPfAAAAOnRFWHRTb2Z0d2FyZQBNYXRwbG90bGliIHZlcnNpb24zLjEwLjMsIGh0dHBzOi8vbWF0cGxvdGxpYi5vcmcvZiW1igAAAAlwSFlzAAAPYQAAD2EBqD+naQAACDlJREFUeJztnF1IVOkfxz/HOTPNS+bYqGSpM6bRRW3gRZZEtAhlSEG0i12UFEEJUmzURQhGEHVRQWx1UdCFRLRZtBIhZBu9QIQgRN30Qik56vSizmjpOM44M8//wv85O6bbls2Muj0f+PI888yc5/mdw5zv83ZmFCGEQCKRSGYAKVMdgEQikXwt0rAkEsmM4ZsNq7KyEkVRUBQFq9VKRUUFDQ0NBAKBRMQnkUgkOsq3rmE9f/6c+vp6rly5Qmtrq16emprKjh07OHHiBGazOe6BSiQSyTcbloYQgidPnlBfX099fT2dnZ0ArFixghs3bjBv3ry4BiqRSCSTNqxYotEot27dorKykr6+PnJycrh58yZFRUXxiFEikUiAOBmWRmtrKxs3buTly5dYrVYuXbrE5s2b41W9RCL5wYnrLmFhYSHNzc2UlZUxNDTEL7/8wrFjx5CPekkkkngQ1xGWRjgc5sCBA5w5cwaA7du3c+HCBYxGY7ybkkgk05hIJMKzZ89oaWmhpaWFTZs2UV5ePun61DjG9nelqsrp06dZsmQJ1dXVXLx4kZ6eHq5du4bNZktEkxKJZBoghODu3bvcvn2blpYWHj9+jN/v1983m83fZVgJGWHF0tjYSEVFBYFAgBUrVtDY2EhGRkYim5RIJFPAvXv3qK2tpbm5eUx5amoqy5cvp7i4mPXr17NmzZpJt5FwwwJobm5mw4YN+Hw+Fi9eTFNTEy6XK9HNSiSSJPDo0SNqa2t58OABABaLha1bt7Jq1SqKi4tZvHgxBoMhLm0lxbAAXrx4QVlZGZ2dnWRnZ9PU1MSyZcuS0bREIkkAT58+paamhqamJgBMJhNVVVXU1NSQnZ2dmEZFEunq6hJLly4VgLDZbOLs2bMiEokkM4Qfm3BYiPv3hfjjj9E0HJ7qiCQzEI/HI3bu3CkURRGAUFVV7Nq1S7jd7oS3nVTDEkIIn88nSktLBSAAsXr1avHq1atkh/Hj8eefQuTkCAF/KydntHySRKNRMTw8LHw+n/D7/SIajcYxYMl0w+/3iyNHjgibzabfv1u2bBGtra1JiyFpU8JYotEo586d4+DBg/j9fsxmM0ePHmXfvn1xm+tKYmhogF9/HbWpWBRlNL1+Hf7/gO/w8DCdnZ243W48Hg9v374do56eHvx+P36/n6GhISKRiF6dqqrMmTNHl8PhID8/n4KCAgoKCigsLKSgoAC73Z6kE5fEg+HhYS5fvszhw4fxeDwArFy5klOnTlFSUpLUWKbEsDTa29vZvXs3d+7cAaC4uJhDhw6xbt06TCbTVIX13yISAZcLuroA6Ac6AHdM6rZYcP/0E+6ODt6/f5/wkBwOB4sWLdJVWFjIwoULcTgczJ07l7S0tC92XEIIBgcH6e/vH6NgMEg4HB4jgPT0dL3uuXPn4nA4sFgsCT/PmU5bWxvnz5+nrq4Or9cLgNPp5Pjx41RUVKBoHV4SmVLDgtEvX11dHfv37+fjx48A2O12Nm/ezJYtWygtLUVVE/K42H+GYDCI1+vF6/XS29uL1+vlw4cPeDwePI8f4/nrLzyABxj4ivqsVitOp5Pc3Fzmz58/RllZWcyePRubzYbVatXTYDDIx48f+fTpk67u7m7a2tp0tba28uHDh39tX1EU0tLSSE9PJyUlhVAoRCgUIhgMEgqFGB4eJhqNftc1s9vt5Ofn43K5yM/P1/Mulwun00lqaup31T9TCQQC3Llzh3PnzumL6QB5eXns3buXPXv2TOm/sUy5YWl4PB5OnjzJtWvXePfunV6ekZHB2rVrcblc5ObmkpeXR15eHjk5OZhMJv2/uTRFIhECgQBDQ0MEAgE9r01jBgcH9bw2rdE+q+W1GyRW4XCYaDQ6TsC4GFJSUkhJScFgMOj5z8sMBoOe146JTWPbiEQiRKNRRkZG9Bg1aefwLWQAeYAzJnXu24dz2zacTicOhyNhvefg4CBtbW28fv16jNxuN319fQwODn51XSaTCbvdjt1uJy0tDYvFgqqqugwGA9FolP7+fnw+Hz6fD6/Xq4+8voTD4cDpdOJyucjOziYzM3OMHA6HbtaaZlrHKoTA7XbT3Nys6+nTp/r1URSFsrIyqqurKS8vnxbLNdPGsDQikQgPHz7k6tWrXL9+nd7e3qkOaUZgMBj06U5GRgaZmZksWLCABcEgCy5cYD6wAMgFJvytwf378PPPyQx5QkKhEH19ffT19eHz+VAUBZPJhMlkYtasWZhMJsxmM3a7fVI9vRCCgYEBurq6ePPmzThpxjkZVFVl1qxZqKqK0WgcZ56xnVTs69j3Y4+JrcNoNP6jYo9RVRUhBJFIZIxCoRC9vb10d3fT09NDT08P3d3dDAyMH3NnZ2ezbds2qqqqKCgomNS1SBTTzrBiCYfDPHjwgCdPntDZ2UlHR4cubU79TxiNRqxWKxaLBYvFgs1m06cyE01pLBaLnprNZv0m0RT7ZdOkjULE6G6rrolGR1o6UXnscVr6+QhN+zLH9uia0tPTSUtLIyVlgt+ya2tYHs/4RXcYXXjPyYE3b2Aa9KDTgU+fPuF2u2lvb6e9vZ3379/T29ur3+jatFsb5U7jW+hfUVWVoqIiSkpKKCkpYeXKlTidzilZn/oaprVhfQltgfVzszAYDFgslmkxfJ02aLuEMNa0JtgllHwbQghCoZA+PdeWD8LhMCMjI3peG+londTn0j7z+abByMiIXo+W1xQKhcYdMzIygqIoY0ZwBoMBo9Goj7w1ZWVlkZubO6M2IGasYUm+kYYG+O03fbcQgNxc+P13aVaSGYM0LIlEMmP4H8vaPJ6vFGpjAAAAAElFTkSuQmCC\"></td>\n",
       "</tr>\n",
       "<tr><td>nrms_rrf_static_user\n",
       "<td>0.379<br><span style=\"font-size: 75%;\">(0.376,0.382)</span></td>\n",
       "<td>0.408<br><span style=\"font-size: 75%;\">(0.407,0.409)</span></td>\n",
       "<td>0.000<br><span style=\"font-size: 75%;\">(0.000,0.000)</span></td>\n",
       "<td>0.250<br><span style=\"font-size: 75%;\">(0.250,0.250)</span></td>\n",
       "<td>1.000<br><span style=\"font-size: 75%;\">(1.000,1.000)</span></td>\n",
       "<td><img src=\"data:image/png;base64,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\"></td>\n",
       "</tr>\n",
       "<tr><td>nrms_topic_scores\n",
       "<td>0.414<br><span style=\"font-size: 75%;\">(0.411,0.417)</span></td>\n",
       "<td>0.412<br><span style=\"font-size: 75%;\">(0.411,0.413)</span></td>\n",
       "<td>0.000<br><span style=\"font-size: 75%;\">(0.000,0.000)</span></td>\n",
       "<td>0.402<br><span style=\"font-size: 75%;\">(0.380,0.430)</span></td>\n",
       "<td>1.000<br><span style=\"font-size: 75%;\">(1.000,1.000)</span></td>\n",
       "<td><img src=\"data:image/png;base64,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\"></td>\n",
       "</tr>\n",
       "<tr><td>nrms_topics_static\n",
       "<td>0.295<br><span style=\"font-size: 75%;\">(0.292,0.298)</span></td>\n",
       "<td>0.396<br><span style=\"font-size: 75%;\">(0.395,0.398)</span></td>\n",
       "<td>0.000<br><span style=\"font-size: 75%;\">(0.000,0.000)</span></td>\n",
       "<td>0.000<br><span style=\"font-size: 75%;\">(0.000,0.000)</span></td>\n",
       "<td>1.000<br><span style=\"font-size: 75%;\">(1.000,1.000)</span></td>\n",
       "<td><img src=\"data:image/png;base64,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\"></td>\n",
       "</tr>\n",
       "<tr><td>softmax\n",
       "<td>0.407<br><span style=\"font-size: 75%;\">(0.404,0.410)</span></td>\n",
       "<td>0.410<br><span style=\"font-size: 75%;\">(0.409,0.411)</span></td>\n",
       "<td>0.000<br><span style=\"font-size: 75%;\">(0.000,0.000)</span></td>\n",
       "<td>0.380<br><span style=\"font-size: 75%;\">(0.380,0.380)</span></td>\n",
       "<td>1.000<br><span style=\"font-size: 75%;\">(1.000,1.000)</span></td>\n",
       "<td><img src=\"data:image/png;base64,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\"></td>\n",
       "</tr>\n",
       "</tbody>\n",
       "</table>\n"
      ],
      "text/plain": [
       "<IPython.core.display.HTML object>"
      ]
     },
     "metadata": {},
     "output_type": "display_data"
    },
    {
     "data": {
      "text/html": [
       "<h3>Summary Table for NDCG@10</h3>"
      ],
      "text/plain": [
       "<IPython.core.display.HTML object>"
      ]
     },
     "metadata": {},
     "output_type": "display_data"
    },
    {
     "data": {
      "text/html": [
       "<table>\n",
       "<thead><tr>\n",
       "<th>Algorithm\n",
       "<th>Mean\n",
       "<th>Std Dev\n",
       "<th>10%ile\n",
       "<th>Median\n",
       "<th>90%ile\n",
       "<th>Dist. (KDE)\n",
       "</tr></thead>\n",
       "<tbody>\n",
       "<tr><td>nrms\n",
       "<td>0.478<br><span style=\"font-size: 75%;\">(0.476,0.481)</span></td>\n",
       "<td>0.372<br><span style=\"font-size: 75%;\">(0.371,0.373)</span></td>\n",
       "<td>0.000<br><span style=\"font-size: 75%;\">(0.000,0.000)</span></td>\n",
       "<td>0.431<br><span style=\"font-size: 75%;\">(0.431,0.431)</span></td>\n",
       "<td>1.000<br><span style=\"font-size: 75%;\">(1.000,1.000)</span></td>\n",
       "<td><img src=\"data:image/png;base64,iVBORw0KGgoAAAANSUhEUgAAASwAAAAZCAYAAACLvRPfAAAAOnRFWHRTb2Z0d2FyZQBNYXRwbG90bGliIHZlcnNpb24zLjEwLjMsIGh0dHBzOi8vbWF0cGxvdGxpYi5vcmcvZiW1igAAAAlwSFlzAAAPYQAAD2EBqD+naQAAChVJREFUeJztnG1sU2Ubx3+n7dZt7L1lW6VrB3PqNpxGEFHicEskQQlxCony4gcnSCBBExPfkATRjIgmGidR4gd1fgDiBr5kGCFjU5iIbhpJWpIhc2tm1jL21o51XXvO/XzY0/OswTw4t7Ybnl/yz33W097XdU7bf+7d131XEkIINDQ0NOYAungnoKGhofF30QxLQ0NjzjBlwxobG8Pv90cjFw0NjRsIj8dDTU0NdrsdSZKQJIn169dPq88pG9bhw4fJy8tjy5YtnD59Gm0KTENDYzLt7e1s3LiR/Px8du3ahcvlwmQy8cILL/Dmm29Oq29pqpPuTzzxBIcPH1b/XrhwIZs3b+bJJ5+ksLBwWsloaGjMbT7//HM2bNhAKBQC4J577mHHjh2sX7+epKSk6QcQU0SWZdHS0iKeeuopkZaWJgBVq1evFn19fVPtUkND4wagrq5O6HQ6AYi1a9eKtra2GY8x5RHWZEZHR/niiy+oq6vj5MmTKIpCYWEhjY2N3HrrrdN3Uw0NjTnBRx99xDPPPIMQgurqag4ePIher5/xONMyrMk4HA7WrFlDV1cXmZmZHD16lIqKipnoWkNDYxZTW1vLzp07Adi+fTu1tbXodNFZgDBjvZaWlnLu3DnuvfdehoaGWLVqFR9//PFMda8xm5BlaGmBQ4cmWlmOd0YacWL//v2qWT3//PO8//77UTMrYOpzWNfD7/eLxx9/XJ3Xevnll4UsyzMdRiNeNDQIYbUKAf+T1TrxuMa/BkVRxJ49e9Tv+auvvioURYl63Bn7l3AyiqKwZ88eXn/9dQCqqqqoq6sjNTV1pkPdcASDQX777Te6urro6emJkNfrJTExMUJGo5GcnBysVisLFizAarVitVrJz88nKytrZpM7ehTWrZuwqclI0kRbXw+PPjqzMTVmHUIIXnzxRd566y0A3njjDXbt2hWT2FExrDB1dXVs2bKF8fFxysrK+PLLLykoKIhWuDlJMBikvb2dlpYWmpubaW1t5erVqzPSd2ZmJoWFhREqKCjAZrORn58/tTKzLENBAfT0/PV5SQKrFf74A6Iw2aoxO1AUhZ07d3LgwAEA3nnnHZ577rmYxY+qYQGcPXuWqqoqPB4PZrOZhoYGysvLoxly1jM8PMzXX39NfX09TU1NjIyMRJzPzs6muLhYHS2FR05ZWVkEg0ECgQDj4+MEAgHGxsbweDz09PTw559/qm1fX99188jJycFms2GxWEhPTyc1NZW0tDRVQgiCwSDj4+MEL15k/LPPCAEyoPxX4WMzYAfs+/djX7sWm81GcnLyTN86jTgiyzJPP/00n3zyCZIk8eGHH7J169aY5hB1wwLo6enhkUceob29HYPBwIEDB2J+ofFmYGCAr776ivr6ek6cOEEwGFTPZWdns3LlSh544AEqKiooLS2d9sTl6OgonZ2dXLp0KUIul4vu7m5GR0ene0nXxWq1snLlSiorK6msrIz56FoIgSzLGAyGmMa9EQkGg2zevJkjR46g0+n49NNP2bRpU8zziIlhwcQXqLq6Wl0lX11dzd69e7nppptiET7mCCFwOp00NjZy/Phxzpw5gzypmlZcXMy6deuoqqrijjvuiG5l5S9yGxwcxOVy4XK5cLvd+Hw+fD4fIyMj6rFOpyMhIWFivqyvj4RjxzAAeibKy+EWwAO4gO6CArqvXLlm1AgTuyLC5lVRUYHFYpmRa3G5XPz8889cunSJ7u5u1ZS7u7vx+XykpqZiMplUmc1mioqKWL58OcuWLcNkMk07jxsZt9tNdXU1x48fJyEhgUOHDvHYY4/FJ5moT+tPQlEUUVNTIyRJEoBITEwU27ZtE52dnbFMIyoEg0Fx4cIFceTIEbF9+3Zht9sjdgEA4vbbbxevvfaacDgc8U536oRCE9VASYqsEIYlSULk5wsRCglFUUR/f79obm4Wu3fvFvfdd58wGAzX3I/i4mKxY8cO0dDQINxu93WrTIFAQHR2dopvvvlG7N27V6xZs0bk5ORc0+9UdfPNN4uNGzeK2tpa8csvv4hgMBijmzq7CYVCora2VqSnpwtAGI1G0djYGNecYjbCmkxzczO7d++mtbUVAL1ez4YNG3jppZcoKSmZdv9jY2MMDQ2pGh4eJhQKIcsyiqKorSRJGI1GtdoWPjYYDBgMBvR6vdqGQiGGh4cZHh5W+xwYGMDpdHL+/HkcDgdjY2MReRiNRioqKnj44Yd56KGHWLRo0bSvLa6Eq4QQWSn8G1VCn8/HmTNnaGpqorm5mV9//fWajfMJCQnk5uaSl5dHXl4eOTk5+Hy+iJHgX31cDQYDZWVllJSUYLfbsdls2O127HY7JpOJoaEh+vv7VfX19XH+/Hl+/PFHOjo6rukvNTWV5cuXs2LFClasWMGSJUvIzs7+Z/dsjtLW1sa2bdtob28HYOnSpRw8eJC77rorrnnFxbDCfP/999TU1PDtt9+qj1ksFoqKiigqKuKWW26hqKiI7OxsRkdHIzQyMsLly5fxeDwR6u/vJxAIxOV6UlJSWLx4MUuWLGH16tVUVlYyb968uOQSNY4ehWefjawW5ufDu+9OaUnDwMAA3333HadOneLUqVM4nc6/9Tqj0cjChQtZunQpd999N8uWLePOO+/8xxtrBwcH+emnnzh37hxnz57lhx9+wOv1XvO8vLw8SktLKSkpobS0lNtuu40FCxZgsVhumPdYCEFHRwfvvfceH3zwAUIIMjIy2LdvH1u3bo3KVpupElfDCtPW1sa+ffs4duzYjP1cjSRJZGRkkJmZSUZGBgkJCej1evR6PTqdDr1ej6IoarVtsmRZRpZldVQWCoUwGAxkZGREKDMzk6KiIsrKyigrK2PRokUxnYuKG7IMp09Dby9YLHD//dNeyhAIBLh8+TJutxu3243H48HtdpOWlobNZlOXYsyfPx8pPKKLArIs43A4aG1tVdXV1fV/X5OWlobFYsFisWAymSI+I+np6aSnpzNv3jxSUlJISUkhOTlZbY1GI0lJSSQlJanHsTSG/v5+mpqaOHHiBCdPnsTlcqnnNm3axNtvv01ubm7M8rkes8KwwgwNDdHR0cHFixcj5PV6I97wsObPn09ubm6EzGYzWVlZpKWl/TvMQyPqeL1eLly4gNPpxOFw4HQ66ejooLe3NyrVVr1ef42JJSUlkZycHKHwY5PPJyUlYTAY0Ol06o/m6XQ6FEVhYGCAK1euqOrr6+P333+PGCQkJiZSXl7OK6+8Miv3As8qw9LQmEsIIfD5fPT29qoaHBxU5zrD8nq9+P1+dTrD7/dz9epVxsbG1LV0chz3Yy5evJhVq1bx4IMPUl5eTkpKStxyuR6aYWlozAJCoZBqXuF28rHf71fbyQo/Lyy/308oFEIIgaIoCCEQQiBJEllZWZjNZsxmc8Tyjrm0tEgzLA0NjTmDNsmjoaExZ/gPtVVdWKL8dV8AAAAASUVORK5CYII=\"></td>\n",
       "</tr>\n",
       "<tr><td>nrms_rrf_static_user\n",
       "<td>0.442<br><span style=\"font-size: 75%;\">(0.439,0.444)</span></td>\n",
       "<td>0.374<br><span style=\"font-size: 75%;\">(0.373,0.376)</span></td>\n",
       "<td>0.000<br><span style=\"font-size: 75%;\">(0.000,0.000)</span></td>\n",
       "<td>0.387<br><span style=\"font-size: 75%;\">(0.387,0.387)</span></td>\n",
       "<td>1.000<br><span style=\"font-size: 75%;\">(1.000,1.000)</span></td>\n",
       "<td><img src=\"data:image/png;base64,iVBORw0KGgoAAAANSUhEUgAAASwAAAAZCAYAAACLvRPfAAAAOnRFWHRTb2Z0d2FyZQBNYXRwbG90bGliIHZlcnNpb24zLjEwLjMsIGh0dHBzOi8vbWF0cGxvdGxpYi5vcmcvZiW1igAAAAlwSFlzAAAPYQAAD2EBqD+naQAACcRJREFUeJztnF9sU+Ubxz/t1q117WSlY2vXDdiyP0UMq5llQ8BMkC0alaEJksCNN2K8MP5JMIKiMTijFxpvjPEPEQ0S3CZeiBLASFA3xuLQjXVO56Dt2rm5rtDRtV17zu8CelxhP2Ws3R88n+TJ277nnPd5Ttp+z3Oe9z1ViKIoIiMjIzMPUM52ADIyMjLXiyxYMjIy84YpC9ajjz6KQqFAoVBgNBrZuXMnfX19yYhNRkZGJg7FVGtYvb29fPDBB3z00UcMDg5K/ffeey/PPvssNTU1CQ9SRkZm/iOKIoIgkJKScsNjTDnDKioqor6+HqfTSUNDAxs2bADg6NGj1NbW8tZbb91wMDIyMjcfXV1dvPjii5SUlPD5559Pa6wpZ1iT0dfXR319Pe+//z4AO3fu5NVXX0WhUEx3aBkZmXlIX18fBw4c4LPPPqOjo0Pqf/jhh2loaLjxgcUEIQiC+Nprr4mACIjbt28XI5FIooaXkZGZB3g8HnHDhg2SDgCiSqUSH3jgAXH//v2i3++f1vgJybAm8t577/HEE08giiKbN29m3759pKWlJdKFjIzMHKS1tZW6ujrcbjdKpZLq6mq2bNlCXV0der0+IT4SLlgABw8eZOvWrYyPj1NTU0NjYyMZGRmJdiMjIzNH+Pjjj3n88ccJhUJYLBa++OILSktLE+4nKYIFcOTIETZt2kQgEMBms/HVV19hMBiS4UomUUSjcPIkeDxgNMKaNTCNGR2Zm5/x8XGee+453nnnHQAefPBBPvnkEzIzM5PjcLr3rP9Ec3OzqNfrRUAsKSkR//jjj2S6k5kOjY2iaDaLIvxtZvPlfhmZSRgaGhKrq6ulWtXu3bvFaDSaVJ9Jy7BidHd3U1NTg8PhIDc3l6+//pry8vJkupy3eL1eWltb+emnn3C73QwODjI0NCRZIBBArVaj0WikVqPRYDAYMJlMGI1GjEYjJpOJvLw8CgoKMBgM/z5b29QEjzxyWaYmEjuuoQE2bUrOScvMS86cOcPGjRs5f/48Wq2Wffv2UVdXl3S/SRcsALfbTW1tLR0dHeh0Og4dOsQ999yTbLdzGlEUOXv2LCdOnODUqVOcOnWKnp6ehPtRq9UUFBSwePFiCgoKyMvLk8TNZDJhyslhUVUVqf39kw+gUIDZDH198u2hDAAHDhzgscceY2xsjKKiIr788ktuu+22GfE9I4IF4PP52LhxIydOnEClUvHhhx+ydevW/9RarUuXLvHtt99y+PBhDh8+jMPhuGaf4uJibDYbS5cuJTs7O860Wi3BYJCxsTGpDQQCDA4O4vF4cLvdeDwePB4PLpeLgYEBrvfjVQPaq0wJCDErLUXIyEAURenRLIVCgVKpRKlUYjAYyM/Pl6ygoIDCwkLy8vL+U5/xzUw0GuWFF17gjTfeAKC2tpb9+/eTlZU1YzHMmGABBINBtm3bJi0cW7t2La+//jpVVVUzFcKMIggCHR0dHDt2jKNHj/Ldd98RCoWk7Wq1mrVr11JVVcXKlSux2WwsXLgwYf5DoRD9/f04HA7Onz+Pw+HA7XZL5vF4GPB4iApCwnxejclk4q677mLVqlWsWrUKq9WKSqVKiq9IJMLAwABut5v+/n7cbjcXLlxgwYIFLFy4MM5MJhOpqalJieNmZGRkhC1btnDkyBEAduzYwZ49e6b1mM2NMKOCBZdV+uWXX+bNN9+UfrwPPfQQe/bsmbG0MlmEw2F+++03WlpaOHbsGMePH2doaChunyVLlnD//fdz3333UV1djUajmaVoLxM9fpyR9eu5BIwC/ivtKJcrqcorllJfj7K8HIVCIT0TJooioigSiUQYHBzE6XTidDpxOBw4nU7OnTtHJBKJ86fRaKioqKCyspKqqiqqqqrIzc2dUsyiKHLu3DnOnDlDe3s77e3t/Pzzz7hcruvOKDUaDVarlTvvvJOKigoqKiooKSlBqZT/wGQikUiETz/9lN27d+NwONBoNOzdu5fNmzfPSjwzLlgxnE4nr7zyCnv37kUQBBQKBdu2baOuro7ly5ezdOnSKat3IBBgZGSEixcv4vf7pdbv9yNcySImnm5KSgpqtTqukK1Wq0lLS0OlUqFSqaTXgiDg9/sZHR2VxvT5fPT09GC32+nq6uL3338nGo3GxZSRkcHdd9/NunXrqK2txWKxzK1bpGgUliyB/v5ri+4wrRpWIBDg9OnT/Pjjj5J5vd5r9lu8eDF33HEHixYtisuC9Ho9Fy9exOl04nK5cLlcOJ1Oent7uXDhwqQ+U1JSMBqNUq1uwYIF+Hw+hoeH42x8fPyaYzMzM7HZbFRWVlJZWcnKlSv/s0txBEGgsbGRl156ie7ubuDyxfbQoUOsWLFi1uKaNcGKYbfb2bVrF01NTXH9Go2GZcuWcfvtt2M0GgmHw4RCIcLhMOFwmGAwyPDwMH/99ZdkY2Njs3QWf6PT6VixYgXr1q1j/fr12Gy2ub/SPzZLCPGileBZQlEU+fXXX2lpaaG5uZnm5mY6OzuvOyuaiEqlYvny5VitVsrLy7FarRQXF5Odnf2vWZIgCPT09NDW1kZbWxunT5+mvb190u9PUVERVquVsrIyLBYLZWVllJaW3rQLoQVB4JtvvmHXrl20t7cDoNfref7553nyySe55ZZbZjW+WResGK2trbz77rv88ssvdHV1EQwGb2ic1NRUMjMz0el0UqvVauPqFbEMJxKJEAwGJYsVs8PhMOPj45KFw2GUSqU0lk6nk8YvLCzEYrFgsVhYtmwZJpNpbmVQ10tTEzz1FLhcf/fl58Pbbyd1SYPf76e1tZWzZ8/i9XrjsiCv14tOpyM/Px+z2YzZbJYK+mVlZQm9EEQiETo7O6UZ25aWFux2+//d32w2YzQayc3NJScnh5ycHHJzc8nKypK+HzHTarVSBp+enj7jdZ9/IhQK0dbWxvfff8/Jkyf54Ycf8Pl8wOWL7zPPPMPTTz/NrbfeOruBXmHOCNZEotEovb29dHZ20tHRgdfrJT09nfT0dNLS0khLSyM9PR29Xk92djYGg0EyrVY7PwVjLiCvdI/D5/NJYtrd3Y3dbqe7u/uauuRUSU1NjSs9TCxBTPY+1jfRJv4Wrt4+mSBGo1F8Ph9erzfO7HZ73EQQgFarZfv27ezYsWPO3RLPScGSkZnLDA8P09vby8DAAH/++Wdc6/P5pBpnzEZHR6+pbc4lsrOzWbNmDatXr2b16tWUl5cnbSZ3usiCJSMzA0QiEUKhUFwJIlZ6mFiCuLocMbE/ZrFabigUijsmtl2YZJmKQqEgKysLvV4vtXq9nsLCQoqLi+fNXYksWDIyMvMGedGJjIzMvOF/UJd+Tc4fb9UAAAAASUVORK5CYII=\"></td>\n",
       "</tr>\n",
       "<tr><td>nrms_topic_scores\n",
       "<td>0.479<br><span style=\"font-size: 75%;\">(0.476,0.481)</span></td>\n",
       "<td>0.372<br><span style=\"font-size: 75%;\">(0.371,0.373)</span></td>\n",
       "<td>0.000<br><span style=\"font-size: 75%;\">(0.000,0.000)</span></td>\n",
       "<td>0.431<br><span style=\"font-size: 75%;\">(0.431,0.431)</span></td>\n",
       "<td>1.000<br><span style=\"font-size: 75%;\">(1.000,1.000)</span></td>\n",
       "<td><img src=\"data:image/png;base64,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\"></td>\n",
       "</tr>\n",
       "<tr><td>nrms_topics_static\n",
       "<td>0.354<br><span style=\"font-size: 75%;\">(0.351,0.357)</span></td>\n",
       "<td>0.375<br><span style=\"font-size: 75%;\">(0.374,0.377)</span></td>\n",
       "<td>0.000<br><span style=\"font-size: 75%;\">(0.000,0.000)</span></td>\n",
       "<td>0.315<br><span style=\"font-size: 75%;\">(0.301,0.315)</span></td>\n",
       "<td>1.000<br><span style=\"font-size: 75%;\">(1.000,1.000)</span></td>\n",
       "<td><img src=\"data:image/png;base64,iVBORw0KGgoAAAANSUhEUgAAASwAAAAZCAYAAACLvRPfAAAAOnRFWHRTb2Z0d2FyZQBNYXRwbG90bGliIHZlcnNpb24zLjEwLjMsIGh0dHBzOi8vbWF0cGxvdGxpYi5vcmcvZiW1igAAAAlwSFlzAAAPYQAAD2EBqD+naQAACCFJREFUeJztnEtME2sbx39TSgu0pXJpy8WDUoxRi4iJoiYao+YkgomL41koLrws9CReDrLRuHCjK0nkgInEaGTlRo/EmKi4PBoPQWMiUaIJl8ZgAZHC1xYo7bSdb4EzKeL3eSvUy/tL/nkmb2Gep2XmP8/7TgdJURQFgUAg+A7QJbsAgUAg+FSEYQkEgu+GzzasnTt3IkkSkiThcDg4fvw4XV1ds1GbQCAQTEP63DWsrq4urly5QnNzM2/evNHGN27cSG1tLdu3b094kQKBQABfYFgqsixz+/ZtLl++zN27d4nFYgCcOXOGkydPIklSQgsVCASCLzasePr6+qirq+P8+fMAHD16lPr6enQ6sUQmEAgSR0IMS6WhoYGamhoAdu/eTXNzM6mpqYnavUAg+MlJqGEBXL16lb179xKJRKisrOT69euYTKZEphAIBD8pCTcsgLt377Jjxw6CwSBr167l9u3bZGdnJzqNQCD4yZgVwwJoa2tj27ZtjI6OsnTpUlpbWykqKpqNVAKB4Cdh1gwLoLOzk61bt/L69WsKCwtpbW2ltLR0ttL9+ESj8OABDAxAfj5s2AApKcmuSiD4JCKRCOFwmIyMjC/ex6zexnO5XPz7778sW7YMj8fDhg0buH///mym/HFpaYGFC2HTJqiunooLF06NCwTfGOPj47S1tXHhwgUOHDjA6tWrMZvNNDU1fd2OlTnA6/Uq69evVwDFaDQqN27cmIu0Pw43biiKJCkKTJckTUl8noJvgHA4rFy9elVZs2aNIkmSAszQvn37virHrE4J4wkGg1RXV3Pz5k0kSaK+vp4jR46I72p9jGh0qpN6/frDr0sSzJ8PbreYHgqSwujoKJcuXaKxsRGPx6ON5+XlsXLlSk3l5eU4nc6vOufnzLAAotEohw4d4uLFiwCsXLmSuro6tmzZMlclfLOMjo7S09NDd3c3brcbr9eLz+fD19WF759/8AGTQMo76eOiGZj3669YFy9m3rx5WK1WsrKysNls2Gw27HY7NpuNzMxM8QSCIGF0d3fT0NBAc3Mz4+PjADgcDg4dOsS+ffuYP39+wnPOqWEBKIpCY2Mjp06dwu/3A1BVVcXZs2dxuVxzWUpSGBkZoaOjg46ODp4+fcqLFy/o7u5mZGRk1nMbDAZyc3Ox2WxatNls5OTkYLVayczM1GSxWEhLSyM1NXWaDAbDjG3RJf88KIrCgwcPOHfuHLdu3UK1j7KyMo4dO8auXbswGo2zln/ODUvl7du3nD59mqamJiKRCDqdjv3791NdXc2qVauwWCzJKCthBINBXr58SWdnJ8+fP6ezs5OOjg76+vr+5+/k5+dTUlJCSUkJNpsNq9WKdWgI6/nzzAPSgSgQeacoIAMBwPfHH/wnJ2eqK/P5GBkZ4e3bt5rGxsZm7b2mpKRgtVrJycnRlJubi91up7i4mJKSEpxOJwsWLBBPPnynyLLMtWvXqK+v58mTJ9p4VVUVtbW1bN68eU6696QZlkpXVxcnTpygJe5ulyRJLFu2jIqKCioqKli8eDFGoxGj0YjBYNBiOBxmcnKSUCikxVAoRCQSQZblaVGn06HX60lJSdGiwWAgLS1Nk9FonNZV6PV6LQJaHlXBYJDBwUH6+/vxeDxa7Onpobe3V3sg/H2Ki4spLy9nxYoVLF++nEWLFuF0OjGbzTN/WF3D8nimltrf5xPXsILB4DQDGx4e1ra9Xi+BQAC/3z9NoVAIWZYJh8PIsqzpS9HpdBQVFeF0OnE6nRQXF2uxqKiIzMxMMjIy/u+BL8syfr+foaEhhoaGePPmjbbt8/kIBAKMjY0xNjZGIBAgFAqRlpZGenq6poyMDLKzs8nPz58hi8Uips3v8Hq93Lt3jzt37nDv3j2Gh4cBSEtLY8+ePdTU1LBkyZI5rSnphqXy8OFDGhsbaW9v59WrV8kuJyFkZ2dTWlqKy+XC5XJRVlZGWVkZVqv183bU0gK//z61Hf/nUk+sv/+G335LTNEfQVEU7UKgmlk4HMbn8zE8PIzX69XU39+P2+3WDHxycvKj+9fpdFgsFm1aGolEGB8f1/Q1hvkpmEwmCgsLKSgooKCggMLCQux2+7TuMScnh+zsbEwmE+np6T/ElNjv9+N2u+nt7eXZs2e0trbS3t4+7aKbl5fH4cOHOXjwILm5uUmp85sxrHgGBwd5/Pgxjx49or29HY/HQzgcJhQKaVGWZVJTU2d0R+q6Snx3pNfricViRKNRIpGIFtV9xXdNk5OT2skYiURm1KZ2eGpeh8OhHdhqLCoqwuVy4XA4Ene1bmmBP/+cfrfwl1/gr7/mzKy+hlgsxuDgID09Pbjdbu3kUGN/fz+fcyhmZWVht9ux2+04HA5sNhtZWVmYzWYsFgtmsxmz2YzRaNS6YVUTExN4vV4GBgamSV1T/VwyMjIwmUyYTCbtGHxf8d29qpSUFHQ63Ufj+9vxY5IkzRhXFGWa1GM/GAxqxj8xMcH4+DgDAwP09vbi9Xo/+N7KysqoqqqisrKSdevWJX1K/00a1reCoihEo1Htqm40GpN7Nf2Bv+kei8WYmJjA7/cTCAS0Kaper9fMQJXZbMZgMCS8BvUEjp/e9/f3a9Nmr9erdZE+ny/h+ZNNbm4uxcXFLFq0iE2bNlFZWTkrd/q+BmFYAsEXoBrs+x2L2qGrU2W1i1e7erXDl2WZaDSqdT/x27FYTJP6mtopfWg8/rVoNKr9C3O1+1Kj2gnGR5vNpq0jZmZmJvtj/SjCsAQCwXfD979aKBAIfhr+C8CkprhDpss6AAAAAElFTkSuQmCC\"></td>\n",
       "</tr>\n",
       "<tr><td>softmax\n",
       "<td>0.472<br><span style=\"font-size: 75%;\">(0.469,0.475)</span></td>\n",
       "<td>0.371<br><span style=\"font-size: 75%;\">(0.370,0.372)</span></td>\n",
       "<td>0.000<br><span style=\"font-size: 75%;\">(0.000,0.000)</span></td>\n",
       "<td>0.431<br><span style=\"font-size: 75%;\">(0.431,0.431)</span></td>\n",
       "<td>1.000<br><span style=\"font-size: 75%;\">(1.000,1.000)</span></td>\n",
       "<td><img src=\"data:image/png;base64,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\"></td>\n",
       "</tr>\n",
       "</tbody>\n",
       "</table>\n"
      ],
      "text/plain": [
       "<IPython.core.display.HTML object>"
      ]
     },
     "metadata": {},
     "output_type": "display_data"
    },
    {
     "data": {
      "text/html": [
       "<h3>Summary Table for RR</h3>"
      ],
      "text/plain": [
       "<IPython.core.display.HTML object>"
      ]
     },
     "metadata": {},
     "output_type": "display_data"
    },
    {
     "data": {
      "text/html": [
       "<table>\n",
       "<thead><tr>\n",
       "<th>Algorithm\n",
       "<th>Mean\n",
       "<th>Std Dev\n",
       "<th>10%ile\n",
       "<th>Median\n",
       "<th>90%ile\n",
       "<th>Dist. (KDE)\n",
       "</tr></thead>\n",
       "<tbody>\n",
       "<tr><td>nrms\n",
       "<td>0.370<br><span style=\"font-size: 75%;\">(0.367,0.372)</span></td>\n",
       "<td>0.362<br><span style=\"font-size: 75%;\">(0.361,0.364)</span></td>\n",
       "<td>0.000<br><span style=\"font-size: 75%;\">(0.000,0.000)</span></td>\n",
       "<td>0.250<br><span style=\"font-size: 75%;\">(0.250,0.250)</span></td>\n",
       "<td>1.000<br><span style=\"font-size: 75%;\">(1.000,1.000)</span></td>\n",
       "<td><img src=\"data:image/png;base64,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\"></td>\n",
       "</tr>\n",
       "<tr><td>nrms_rrf_static_user\n",
       "<td>0.331<br><span style=\"font-size: 75%;\">(0.329,0.334)</span></td>\n",
       "<td>0.349<br><span style=\"font-size: 75%;\">(0.348,0.351)</span></td>\n",
       "<td>0.000<br><span style=\"font-size: 75%;\">(0.000,0.000)</span></td>\n",
       "<td>0.200<br><span style=\"font-size: 75%;\">(0.200,0.200)</span></td>\n",
       "<td>1.000<br><span style=\"font-size: 75%;\">(1.000,1.000)</span></td>\n",
       "<td><img src=\"data:image/png;base64,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\"></td>\n",
       "</tr>\n",
       "<tr><td>nrms_topic_scores\n",
       "<td>0.370<br><span style=\"font-size: 75%;\">(0.368,0.373)</span></td>\n",
       "<td>0.362<br><span style=\"font-size: 75%;\">(0.361,0.364)</span></td>\n",
       "<td>0.000<br><span style=\"font-size: 75%;\">(0.000,0.000)</span></td>\n",
       "<td>0.250<br><span style=\"font-size: 75%;\">(0.250,0.250)</span></td>\n",
       "<td>1.000<br><span style=\"font-size: 75%;\">(1.000,1.000)</span></td>\n",
       "<td><img src=\"data:image/png;base64,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\"></td>\n",
       "</tr>\n",
       "<tr><td>nrms_topics_static\n",
       "<td>0.245<br><span style=\"font-size: 75%;\">(0.242,0.247)</span></td>\n",
       "<td>0.312<br><span style=\"font-size: 75%;\">(0.310,0.314)</span></td>\n",
       "<td>0.000<br><span style=\"font-size: 75%;\">(0.000,0.000)</span></td>\n",
       "<td>0.143<br><span style=\"font-size: 75%;\">(0.125,0.143)</span></td>\n",
       "<td>1.000<br><span style=\"font-size: 75%;\">(1.000,1.000)</span></td>\n",
       "<td><img src=\"data:image/png;base64,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\"></td>\n",
       "</tr>\n",
       "<tr><td>softmax\n",
       "<td>0.361<br><span style=\"font-size: 75%;\">(0.358,0.364)</span></td>\n",
       "<td>0.358<br><span style=\"font-size: 75%;\">(0.356,0.359)</span></td>\n",
       "<td>0.000<br><span style=\"font-size: 75%;\">(0.000,0.000)</span></td>\n",
       "<td>0.250<br><span style=\"font-size: 75%;\">(0.250,0.250)</span></td>\n",
       "<td>1.000<br><span style=\"font-size: 75%;\">(1.000,1.000)</span></td>\n",
       "<td><img src=\"data:image/png;base64,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\"></td>\n",
       "</tr>\n",
       "</tbody>\n",
       "</table>\n"
      ],
      "text/plain": [
       "<IPython.core.display.HTML object>"
      ]
     },
     "metadata": {},
     "output_type": "display_data"
    }
   ],
   "source": [
    "for metric in effectiveness_metrics:\n",
    "    tw = EvalTable(mind_subset_user_metrics, \"pipeline\", metric)\n",
    "    tw.add_stat(\"Mean\", np.mean, ci=True)\n",
    "    tw.add_stat(\"Std Dev\", np.std, ci=True)\n",
    "    tw.add_quantiles([\"10%ile\", \"Median\", \"90%ile\"], [0.1, 0.5, 0.9], ci=True)\n",
    "    display(HTML(f\"<h3>Summary Table for {metric}</h3>\"))\n",
    "    display(HTML(tw.html_table()))"
   ]
  },
  {
   "cell_type": "markdown",
   "id": "8f2085ad",
   "metadata": {
    "papermill": {
     "duration": 0.002553,
     "end_time": "2025-09-12T19:16:07.140921",
     "exception": false,
     "start_time": "2025-09-12T19:16:07.138368",
     "status": "completed"
    },
    "tags": []
   },
   "source": [
    "### Ranking Overlap Metrics\n",
    "RBO measures the similarity between two ranked lists, evaluating how much overlap exists between pure top-k recommendations and the actual rankings produced after recommendations. RBO can be applied at different list depths to analyze performance consistency, such as RBO@5 and RBO@10."
   ]
  },
  {
   "cell_type": "code",
   "execution_count": 9,
   "id": "e814150d",
   "metadata": {
    "execution": {
     "iopub.execute_input": "2025-09-12T19:16:07.146501Z",
     "iopub.status.busy": "2025-09-12T19:16:07.146393Z",
     "iopub.status.idle": "2025-09-12T19:16:09.336640Z",
     "shell.execute_reply": "2025-09-12T19:16:09.336327Z"
    },
    "papermill": {
     "duration": 2.193753,
     "end_time": "2025-09-12T19:16:09.337107",
     "exception": false,
     "start_time": "2025-09-12T19:16:07.143354",
     "status": "completed"
    },
    "tags": []
   },
   "outputs": [
    {
     "data": {
      "image/png": "[encoded data removed]",
      "text/plain": [
       "<Figure size 800x300 with 2 Axes>"
      ]
     },
     "metadata": {},
     "output_type": "display_data"
    }
   ],
   "source": [
    "plt.figure(figsize=(8, 3))\n",
    "plt.subplots_adjust(wspace=0.3)\n",
    "\n",
    "for i, metric in enumerate(overlap_metrics, 1):\n",
    "    plt.subplot(1, 2, i)\n",
    "    sns.barplot(data=mind_subset_user_metrics, x=\"pipeline\", y=metric)\n",
    "    plt.xticks(rotation=45)\n",
    "\n",
    "plt.show()"
   ]
  },
  {
   "cell_type": "markdown",
   "id": "0004c224",
   "metadata": {
    "papermill": {
     "duration": 0.009377,
     "end_time": "2025-09-12T19:16:09.348307",
     "exception": false,
     "start_time": "2025-09-12T19:16:09.338930",
     "status": "completed"
    },
    "tags": []
   },
   "source": [
    "The summary tables show the mean values, standard deviation, and quantiles (10%ile, Median, 90%ile), each accompanied by their respective 95% confidence intervals for ranking overlap metrics across recommenders."
   ]
  },
  {
   "cell_type": "code",
   "execution_count": 10,
   "id": "39273d26",
   "metadata": {
    "execution": {
     "iopub.execute_input": "2025-09-12T19:16:09.351813Z",
     "iopub.status.busy": "2025-09-12T19:16:09.351705Z",
     "iopub.status.idle": "2025-09-12T19:20:46.523360Z",
     "shell.execute_reply": "2025-09-12T19:20:46.523115Z"
    },
    "papermill": {
     "duration": 277.174041,
     "end_time": "2025-09-12T19:20:46.523916",
     "exception": false,
     "start_time": "2025-09-12T19:16:09.349875",
     "status": "completed"
    },
    "tags": []
   },
   "outputs": [
    {
     "data": {
      "text/html": [
       "<h3>Summary Table for RBO@5</h3>"
      ],
      "text/plain": [
       "<IPython.core.display.HTML object>"
      ]
     },
     "metadata": {},
     "output_type": "display_data"
    },
    {
     "data": {
      "text/html": [
       "<table>\n",
       "<thead><tr>\n",
       "<th>Algorithm\n",
       "<th>Mean\n",
       "<th>Std Dev\n",
       "<th>10%ile\n",
       "<th>Median\n",
       "<th>90%ile\n",
       "<th>Dist. (KDE)\n",
       "</tr></thead>\n",
       "<tbody>\n",
       "<tr><td>nrms\n",
       "<td>0.000<br><span style=\"font-size: 75%;\">(0.000,0.000)</span></td>\n",
       "<td>0.000<br><span style=\"font-size: 75%;\">(0.000,0.000)</span></td>\n",
       "<td>0.000<br><span style=\"font-size: 75%;\">(0.000,0.000)</span></td>\n",
       "<td>0.000<br><span style=\"font-size: 75%;\">(0.000,0.000)</span></td>\n",
       "<td>0.000<br><span style=\"font-size: 75%;\">(0.000,0.000)</span></td>\n",
       "<td></td>\n",
       "</tr>\n",
       "<tr><td>nrms_rrf_static_user\n",
       "<td>0.000<br><span style=\"font-size: 75%;\">(0.000,0.000)</span></td>\n",
       "<td>0.000<br><span style=\"font-size: 75%;\">(0.000,0.000)</span></td>\n",
       "<td>0.000<br><span style=\"font-size: 75%;\">(0.000,0.000)</span></td>\n",
       "<td>0.000<br><span style=\"font-size: 75%;\">(0.000,0.000)</span></td>\n",
       "<td>0.000<br><span style=\"font-size: 75%;\">(0.000,0.000)</span></td>\n",
       "<td></td>\n",
       "</tr>\n",
       "<tr><td>nrms_topic_scores\n",
       "<td>0.000<br><span style=\"font-size: 75%;\">(0.000,0.000)</span></td>\n",
       "<td>0.000<br><span style=\"font-size: 75%;\">(0.000,0.000)</span></td>\n",
       "<td>0.000<br><span style=\"font-size: 75%;\">(0.000,0.000)</span></td>\n",
       "<td>0.000<br><span style=\"font-size: 75%;\">(0.000,0.000)</span></td>\n",
       "<td>0.000<br><span style=\"font-size: 75%;\">(0.000,0.000)</span></td>\n",
       "<td></td>\n",
       "</tr>\n",
       "<tr><td>nrms_topics_static\n",
       "<td>0.000<br><span style=\"font-size: 75%;\">(0.000,0.000)</span></td>\n",
       "<td>0.000<br><span style=\"font-size: 75%;\">(0.000,0.000)</span></td>\n",
       "<td>0.000<br><span style=\"font-size: 75%;\">(0.000,0.000)</span></td>\n",
       "<td>0.000<br><span style=\"font-size: 75%;\">(0.000,0.000)</span></td>\n",
       "<td>0.000<br><span style=\"font-size: 75%;\">(0.000,0.000)</span></td>\n",
       "<td></td>\n",
       "</tr>\n",
       "<tr><td>softmax\n",
       "<td>0.734<br><span style=\"font-size: 75%;\">(0.732,0.735)</span></td>\n",
       "<td>0.232<br><span style=\"font-size: 75%;\">(0.230,0.233)</span></td>\n",
       "<td>0.440<br><span style=\"font-size: 75%;\">(0.436,0.440)</span></td>\n",
       "<td>0.779<br><span style=\"font-size: 75%;\">(0.768,0.779)</span></td>\n",
       "<td>0.972<br><span style=\"font-size: 75%;\">(0.972,0.972)</span></td>\n",
       "<td><img src=\"data:image/png;base64,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\"></td>\n",
       "</tr>\n",
       "</tbody>\n",
       "</table>\n"
      ],
      "text/plain": [
       "<IPython.core.display.HTML object>"
      ]
     },
     "metadata": {},
     "output_type": "display_data"
    },
    {
     "data": {
      "text/html": [
       "<h3>Summary Table for RBO@10</h3>"
      ],
      "text/plain": [
       "<IPython.core.display.HTML object>"
      ]
     },
     "metadata": {},
     "output_type": "display_data"
    },
    {
     "data": {
      "text/html": [
       "<table>\n",
       "<thead><tr>\n",
       "<th>Algorithm\n",
       "<th>Mean\n",
       "<th>Std Dev\n",
       "<th>10%ile\n",
       "<th>Median\n",
       "<th>90%ile\n",
       "<th>Dist. (KDE)\n",
       "</tr></thead>\n",
       "<tbody>\n",
       "<tr><td>nrms\n",
       "<td>0.000<br><span style=\"font-size: 75%;\">(0.000,0.000)</span></td>\n",
       "<td>0.000<br><span style=\"font-size: 75%;\">(0.000,0.000)</span></td>\n",
       "<td>0.000<br><span style=\"font-size: 75%;\">(0.000,0.000)</span></td>\n",
       "<td>0.000<br><span style=\"font-size: 75%;\">(0.000,0.000)</span></td>\n",
       "<td>0.000<br><span style=\"font-size: 75%;\">(0.000,0.000)</span></td>\n",
       "<td></td>\n",
       "</tr>\n",
       "<tr><td>nrms_rrf_static_user\n",
       "<td>0.000<br><span style=\"font-size: 75%;\">(0.000,0.000)</span></td>\n",
       "<td>0.000<br><span style=\"font-size: 75%;\">(0.000,0.000)</span></td>\n",
       "<td>0.000<br><span style=\"font-size: 75%;\">(0.000,0.000)</span></td>\n",
       "<td>0.000<br><span style=\"font-size: 75%;\">(0.000,0.000)</span></td>\n",
       "<td>0.000<br><span style=\"font-size: 75%;\">(0.000,0.000)</span></td>\n",
       "<td></td>\n",
       "</tr>\n",
       "<tr><td>nrms_topic_scores\n",
       "<td>0.000<br><span style=\"font-size: 75%;\">(0.000,0.000)</span></td>\n",
       "<td>0.000<br><span style=\"font-size: 75%;\">(0.000,0.000)</span></td>\n",
       "<td>0.000<br><span style=\"font-size: 75%;\">(0.000,0.000)</span></td>\n",
       "<td>0.000<br><span style=\"font-size: 75%;\">(0.000,0.000)</span></td>\n",
       "<td>0.000<br><span style=\"font-size: 75%;\">(0.000,0.000)</span></td>\n",
       "<td></td>\n",
       "</tr>\n",
       "<tr><td>nrms_topics_static\n",
       "<td>0.000<br><span style=\"font-size: 75%;\">(0.000,0.000)</span></td>\n",
       "<td>0.000<br><span style=\"font-size: 75%;\">(0.000,0.000)</span></td>\n",
       "<td>0.000<br><span style=\"font-size: 75%;\">(0.000,0.000)</span></td>\n",
       "<td>0.000<br><span style=\"font-size: 75%;\">(0.000,0.000)</span></td>\n",
       "<td>0.000<br><span style=\"font-size: 75%;\">(0.000,0.000)</span></td>\n",
       "<td></td>\n",
       "</tr>\n",
       "<tr><td>softmax\n",
       "<td>0.754<br><span style=\"font-size: 75%;\">(0.753,0.756)</span></td>\n",
       "<td>0.198<br><span style=\"font-size: 75%;\">(0.196,0.200)</span></td>\n",
       "<td>0.549<br><span style=\"font-size: 75%;\">(0.545,0.552)</span></td>\n",
       "<td>0.795<br><span style=\"font-size: 75%;\">(0.794,0.796)</span></td>\n",
       "<td>0.953<br><span style=\"font-size: 75%;\">(0.952,0.954)</span></td>\n",
       "<td><img src=\"data:image/png;base64,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\"></td>\n",
       "</tr>\n",
       "</tbody>\n",
       "</table>\n"
      ],
      "text/plain": [
       "<IPython.core.display.HTML object>"
      ]
     },
     "metadata": {},
     "output_type": "display_data"
    }
   ],
   "source": [
    "for metric in overlap_metrics:\n",
    "    tw = EvalTable(mind_subset_user_metrics, \"pipeline\", metric)\n",
    "    tw.add_stat(\"Mean\", np.mean, ci=True)\n",
    "    tw.add_stat(\"Std Dev\", np.std, ci=True)\n",
    "    tw.add_quantiles([\"10%ile\", \"Median\", \"90%ile\"], [0.1, 0.5, 0.9], ci=True)\n",
    "    display(HTML(f\"<h3>Summary Table for {metric}</h3>\"))\n",
    "    display(HTML(tw.html_table()))"
   ]
  }
 ],
 "metadata": {
  "jupytext": {
   "formats": "ipynb,md:myst"
  },
  "kernelspec": {
   "display_name": "Python 3 (ipykernel)",
   "language": "python",
   "name": "python3"
  },
  "language_info": {
   "codemirror_mode": {
    "name": "ipython",
    "version": 3
   },
   "file_extension": ".py",
   "mimetype": "text/x-python",
   "name": "python",
   "nbconvert_exporter": "python",
   "pygments_lexer": "ipython3",
   "version": "3.12.9"
  },
  "papermill": {
   "default_parameters": {},
   "duration": 748.100968,
   "end_time": "2025-09-12T19:20:46.740802",
   "environment_variables": {},
   "exception": null,
   "input_path": "basic-eval-template.ipynb",
   "output_path": "mind-small.ipynb",
   "parameters": {
    "EVAL_NAME": "mind-small"
   },
   "start_time": "2025-09-12T19:08:18.639834",
   "version": "2.6.0"
  }
 },
 "nbformat": 4,
 "nbformat_minor": 5
}