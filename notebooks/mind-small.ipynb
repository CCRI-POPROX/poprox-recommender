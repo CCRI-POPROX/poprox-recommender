{
 "cells": [
  {
   "cell_type": "markdown",
   "id": "d3cdb14d",
   "metadata": {},
   "source": [
    "# Offline Evaluation Metrics Visualizations\n",
    "This notebook visualizes user-specific performance metrics of various recommenders in the mind-small dataset to assess effectiveness and ranking overlap. We explore two metric groups:\n",
    "1. **Effectiveness Metrics**: We use ranking-based metrics, Normalized Discounted Cumulative Gain (NDCG) and Reciprocal Rank (RR), to evaluate recommender effectiveness.\n",
    "2. **Ranking Overlap Metrics**: We use Rank-Based Overlap (RBO) to assess consistency in top-k recommendations relative to final rankings."
   ]
  },
  {
   "cell_type": "markdown",
   "id": "ec148553",
   "metadata": {},
   "source": [
    "## 1. Setup"
   ]
  },
  {
   "cell_type": "markdown",
   "id": "5ff73481",
   "metadata": {},
   "source": [
    "### 1. 1 Importing Libraries"
   ]
  },
  {
   "cell_type": "markdown",
   "id": "e7c4ba15",
   "metadata": {},
   "source": [
    "PyData packages:"
   ]
  },
  {
   "cell_type": "code",
   "execution_count": 1,
   "id": "cb208c1a",
   "metadata": {
    "execution": {
     "iopub.execute_input": "2024-11-26T21:28:24.575739Z",
     "iopub.status.busy": "2024-11-26T21:28:24.575577Z",
     "iopub.status.idle": "2024-11-26T21:28:25.477440Z",
     "shell.execute_reply": "2024-11-26T21:28:25.476583Z"
    }
   },
   "outputs": [],
   "source": [
    "import matplotlib.pyplot as plt\n",
    "import numpy as np\n",
    "import pandas as pd\n",
    "import seaborn as sns"
   ]
  },
  {
   "cell_type": "markdown",
   "id": "938bd0a6",
   "metadata": {},
   "source": [
    "Local code:"
   ]
  },
  {
   "cell_type": "code",
   "execution_count": 2,
   "id": "7e6530c2",
   "metadata": {
    "execution": {
     "iopub.execute_input": "2024-11-26T21:28:25.480325Z",
     "iopub.status.busy": "2024-11-26T21:28:25.480066Z",
     "iopub.status.idle": "2024-11-26T21:28:25.484823Z",
     "shell.execute_reply": "2024-11-26T21:28:25.484212Z"
    }
   },
   "outputs": [],
   "source": [
    "from IPython.display import HTML\n",
    "\n",
    "from poprox_recommender.eval_tables import EvalTable"
   ]
  },
  {
   "cell_type": "markdown",
   "id": "3f7943fc",
   "metadata": {},
   "source": [
    "Set up progress:"
   ]
  },
  {
   "cell_type": "code",
   "execution_count": 3,
   "id": "9e217cc9",
   "metadata": {
    "execution": {
     "iopub.execute_input": "2024-11-26T21:28:25.487017Z",
     "iopub.status.busy": "2024-11-26T21:28:25.486861Z",
     "iopub.status.idle": "2024-11-26T21:28:25.494022Z",
     "shell.execute_reply": "2024-11-26T21:28:25.493403Z"
    }
   },
   "outputs": [
    {
     "name": "stderr",
     "output_type": "stream",
     "text": [
      "/tmp/ipykernel_361739/2439040576.py:1: TqdmWarning: IProgress not found. Please update jupyter and ipywidgets. See https://ipywidgets.readthedocs.io/en/stable/user_install.html\n",
      "  from tqdm.autonotebook import tqdm as notebook_tqdm\n"
     ]
    }
   ],
   "source": [
    "from tqdm.autonotebook import tqdm as notebook_tqdm"
   ]
  },
  {
   "cell_type": "markdown",
   "id": "6c25f1f1",
   "metadata": {},
   "source": [
    "### 1. 2 Loading Data"
   ]
  },
  {
   "cell_type": "code",
   "execution_count": 4,
   "id": "2c81019e",
   "metadata": {
    "execution": {
     "iopub.execute_input": "2024-11-26T21:28:25.495840Z",
     "iopub.status.busy": "2024-11-26T21:28:25.495494Z",
     "iopub.status.idle": "2024-11-26T21:28:26.026550Z",
     "shell.execute_reply": "2024-11-26T21:28:26.025800Z"
    }
   },
   "outputs": [
    {
     "data": {
      "text/html": [
       "<div>\n",
       "<style scoped>\n",
       "    .dataframe tbody tr th:only-of-type {\n",
       "        vertical-align: middle;\n",
       "    }\n",
       "\n",
       "    .dataframe tbody tr th {\n",
       "        vertical-align: top;\n",
       "    }\n",
       "\n",
       "    .dataframe thead th {\n",
       "        text-align: right;\n",
       "    }\n",
       "</style>\n",
       "<table border=\"1\" class=\"dataframe\">\n",
       "  <thead>\n",
       "    <tr style=\"text-align: right;\">\n",
       "      <th></th>\n",
       "      <th>Unnamed: 0</th>\n",
       "      <th>profile_id</th>\n",
       "      <th>recommender</th>\n",
       "      <th>personalized</th>\n",
       "      <th>NDCG@5</th>\n",
       "      <th>NDCG@10</th>\n",
       "      <th>RR</th>\n",
       "      <th>RBO@5</th>\n",
       "      <th>RBO@10</th>\n",
       "    </tr>\n",
       "  </thead>\n",
       "  <tbody>\n",
       "    <tr>\n",
       "      <th>0</th>\n",
       "      <td>0</td>\n",
       "      <td>0001b413-8cad-5037-bab0-aa7e68a9b98a</td>\n",
       "      <td>nrms</td>\n",
       "      <td>True</td>\n",
       "      <td>0.215338</td>\n",
       "      <td>0.373071</td>\n",
       "      <td>0.2</td>\n",
       "      <td>0.409510</td>\n",
       "      <td>0.651322</td>\n",
       "    </tr>\n",
       "    <tr>\n",
       "      <th>1</th>\n",
       "      <td>1</td>\n",
       "      <td>0001b413-8cad-5037-bab0-aa7e68a9b98a</td>\n",
       "      <td>mmr</td>\n",
       "      <td>True</td>\n",
       "      <td>0.000000</td>\n",
       "      <td>0.150515</td>\n",
       "      <td>0.1</td>\n",
       "      <td>0.203347</td>\n",
       "      <td>0.292404</td>\n",
       "    </tr>\n",
       "    <tr>\n",
       "      <th>2</th>\n",
       "      <td>2</td>\n",
       "      <td>0001b413-8cad-5037-bab0-aa7e68a9b98a</td>\n",
       "      <td>pfar</td>\n",
       "      <td>True</td>\n",
       "      <td>0.215338</td>\n",
       "      <td>0.373071</td>\n",
       "      <td>0.2</td>\n",
       "      <td>0.409510</td>\n",
       "      <td>0.651322</td>\n",
       "    </tr>\n",
       "    <tr>\n",
       "      <th>3</th>\n",
       "      <td>3</td>\n",
       "      <td>0001b413-8cad-5037-bab0-aa7e68a9b98a</td>\n",
       "      <td>topic-cali</td>\n",
       "      <td>True</td>\n",
       "      <td>0.215338</td>\n",
       "      <td>0.373071</td>\n",
       "      <td>0.2</td>\n",
       "      <td>0.409510</td>\n",
       "      <td>0.651322</td>\n",
       "    </tr>\n",
       "    <tr>\n",
       "      <th>4</th>\n",
       "      <td>4</td>\n",
       "      <td>0001b413-8cad-5037-bab0-aa7e68a9b98a</td>\n",
       "      <td>locality-cali</td>\n",
       "      <td>True</td>\n",
       "      <td>0.215338</td>\n",
       "      <td>0.373071</td>\n",
       "      <td>0.2</td>\n",
       "      <td>0.409510</td>\n",
       "      <td>0.651322</td>\n",
       "    </tr>\n",
       "  </tbody>\n",
       "</table>\n",
       "</div>"
      ],
      "text/plain": [
       "   Unnamed: 0                            profile_id    recommender  \\\n",
       "0           0  0001b413-8cad-5037-bab0-aa7e68a9b98a           nrms   \n",
       "1           1  0001b413-8cad-5037-bab0-aa7e68a9b98a            mmr   \n",
       "2           2  0001b413-8cad-5037-bab0-aa7e68a9b98a           pfar   \n",
       "3           3  0001b413-8cad-5037-bab0-aa7e68a9b98a     topic-cali   \n",
       "4           4  0001b413-8cad-5037-bab0-aa7e68a9b98a  locality-cali   \n",
       "\n",
       "   personalized    NDCG@5   NDCG@10   RR     RBO@5    RBO@10  \n",
       "0          True  0.215338  0.373071  0.2  0.409510  0.651322  \n",
       "1          True  0.000000  0.150515  0.1  0.203347  0.292404  \n",
       "2          True  0.215338  0.373071  0.2  0.409510  0.651322  \n",
       "3          True  0.215338  0.373071  0.2  0.409510  0.651322  \n",
       "4          True  0.215338  0.373071  0.2  0.409510  0.651322  "
      ]
     },
     "execution_count": 4,
     "metadata": {},
     "output_type": "execute_result"
    }
   ],
   "source": [
    "mind_small_user_metrics = pd.read_csv(\"../outputs/mind-small/profile-metrics.csv.gz\")\n",
    "mind_small_user_metrics.head()"
   ]
  },
  {
   "cell_type": "code",
   "execution_count": 5,
   "id": "564f5179",
   "metadata": {
    "execution": {
     "iopub.execute_input": "2024-11-26T21:28:26.028291Z",
     "iopub.status.busy": "2024-11-26T21:28:26.028102Z",
     "iopub.status.idle": "2024-11-26T21:28:26.031227Z",
     "shell.execute_reply": "2024-11-26T21:28:26.030637Z"
    }
   },
   "outputs": [],
   "source": [
    "effectiveness_metrics = [\"NDCG@5\", \"NDCG@10\", \"RR\"]\n",
    "overlap_metrics = [\"RBO@5\", \"RBO@10\"]"
   ]
  },
  {
   "cell_type": "markdown",
   "id": "6c609d20",
   "metadata": {},
   "source": [
    "## 2. Results"
   ]
  },
  {
   "cell_type": "markdown",
   "id": "750e1676",
   "metadata": {},
   "source": [
    "### 2. 1 Effectiveness Metrics\n",
    "NDCG measures how well the recommendations align with user test data, focusing on the top-k positions, such as the top 5 (NDCG@5) or top 10 (NDCG@10). Likewise, RR evaluates how well the recommender finds the most relevant item as the top result."
   ]
  },
  {
   "cell_type": "code",
   "execution_count": 6,
   "id": "a0df5219",
   "metadata": {
    "execution": {
     "iopub.execute_input": "2024-11-26T21:28:26.033018Z",
     "iopub.status.busy": "2024-11-26T21:28:26.032868Z",
     "iopub.status.idle": "2024-11-26T21:28:37.163634Z",
     "shell.execute_reply": "2024-11-26T21:28:37.162895Z"
    }
   },
   "outputs": [
    {
     "data": {
      "image/png": "[encoded data removed]",
      "text/plain": [
       "<Figure size 1200x300 with 3 Axes>"
      ]
     },
     "metadata": {},
     "output_type": "display_data"
    }
   ],
   "source": [
    "plt.figure(figsize=(12, 3))\n",
    "plt.subplots_adjust(wspace=0.3)\n",
    "\n",
    "for i, metric in enumerate(effectiveness_metrics, 1):\n",
    "    plt.subplot(1, 3, i)\n",
    "    sns.barplot(data=mind_small_user_metrics, x=\"recommender\", y=metric)\n",
    "    plt.xticks(rotation=45)\n",
    "\n",
    "plt.show()"
   ]
  },
  {
   "cell_type": "markdown",
   "id": "e6f772c0",
   "metadata": {},
   "source": [
    "The summary tables show the mean values, standard deviation, and quantiles (10%ile, Median, 90%ile), each accompanied by their respective 95% confidence intervals for effectiveness metrics across recommenders."
   ]
  },
  {
   "cell_type": "code",
   "execution_count": 7,
   "id": "b3e74c48",
   "metadata": {
    "execution": {
     "iopub.execute_input": "2024-11-26T21:28:37.165646Z",
     "iopub.status.busy": "2024-11-26T21:28:37.165463Z",
     "iopub.status.idle": "2024-11-26T21:47:29.480604Z",
     "shell.execute_reply": "2024-11-26T21:47:29.479787Z"
    }
   },
   "outputs": [
    {
     "name": "stderr",
     "output_type": "stream",
     "text": [
      "\r",
      "Mean:   0%|                                                                                                                                                              | 0/6 [00:00<?, ?it/s]"
     ]
    },
    {
     "name": "stderr",
     "output_type": "stream",
     "text": [
      "\r",
      "Mean:  17%|█████████████████████████                                                                                                                             | 1/6 [00:26<02:10, 26.07s/it]"
     ]
    },
    {
     "name": "stderr",
     "output_type": "stream",
     "text": [
      "\r",
      "Mean:  33%|██████████████████████████████████████████████████                                                                                                    | 2/6 [00:44<01:25, 21.35s/it]"
     ]
    },
    {
     "name": "stderr",
     "output_type": "stream",
     "text": [
      "\r",
      "Mean:  50%|███████████████████████████████████████████████████████████████████████████                                                                           | 3/6 [01:00<00:57, 19.04s/it]"
     ]
    },
    {
     "name": "stderr",
     "output_type": "stream",
     "text": [
      "\r",
      "Mean:  67%|████████████████████████████████████████████████████████████████████████████████████████████████████                                                  | 4/6 [01:18<00:37, 18.54s/it]"
     ]
    },
    {
     "name": "stderr",
     "output_type": "stream",
     "text": [
      "\r",
      "Mean:  83%|█████████████████████████████████████████████████████████████████████████████████████████████████████████████████████████████                         | 5/6 [01:34<00:17, 17.70s/it]"
     ]
    },
    {
     "name": "stderr",
     "output_type": "stream",
     "text": [
      "\r",
      "Mean: 100%|██████████████████████████████████████████████████████████████████████████████████████████████████████████████████████████████████████████████████████| 6/6 [01:51<00:00, 17.62s/it]"
     ]
    },
    {
     "name": "stderr",
     "output_type": "stream",
     "text": [
      "\r",
      "Mean: 100%|██████████████████████████████████████████████████████████████████████████████████████████████████████████████████████████████████████████████████████| 6/6 [01:51<00:00, 18.65s/it]"
     ]
    },
    {
     "name": "stderr",
     "output_type": "stream",
     "text": [
      "\n"
     ]
    },
    {
     "name": "stderr",
     "output_type": "stream",
     "text": [
      "\r",
      "Std Dev:   0%|                                                                                                                                                           | 0/6 [00:00<?, ?it/s]"
     ]
    },
    {
     "name": "stderr",
     "output_type": "stream",
     "text": [
      "\r",
      "Std Dev:  17%|████████████████████████▌                                                                                                                          | 1/6 [00:18<01:32, 18.43s/it]"
     ]
    },
    {
     "name": "stderr",
     "output_type": "stream",
     "text": [
      "\r",
      "Std Dev:  33%|█████████████████████████████████████████████████                                                                                                  | 2/6 [00:36<01:13, 18.46s/it]"
     ]
    },
    {
     "name": "stderr",
     "output_type": "stream",
     "text": [
      "\r",
      "Std Dev:  50%|█████████████████████████████████████████████████████████████████████████▌                                                                         | 3/6 [00:55<00:55, 18.49s/it]"
     ]
    },
    {
     "name": "stderr",
     "output_type": "stream",
     "text": [
      "\r",
      "Std Dev:  67%|██████████████████████████████████████████████████████████████████████████████████████████████████                                                 | 4/6 [01:13<00:36, 18.39s/it]"
     ]
    },
    {
     "name": "stderr",
     "output_type": "stream",
     "text": [
      "\r",
      "Std Dev:  83%|██████████████████████████████████████████████████████████████████████████████████████████████████████████████████████████▌                        | 5/6 [01:32<00:18, 18.38s/it]"
     ]
    },
    {
     "name": "stderr",
     "output_type": "stream",
     "text": [
      "\r",
      "Std Dev: 100%|███████████████████████████████████████████████████████████████████████████████████████████████████████████████████████████████████████████████████| 6/6 [01:50<00:00, 18.35s/it]"
     ]
    },
    {
     "name": "stderr",
     "output_type": "stream",
     "text": [
      "\r",
      "Std Dev: 100%|███████████████████████████████████████████████████████████████████████████████████████████████████████████████████████████████████████████████████| 6/6 [01:50<00:00, 18.39s/it]"
     ]
    },
    {
     "name": "stderr",
     "output_type": "stream",
     "text": [
      "\n"
     ]
    },
    {
     "name": "stderr",
     "output_type": "stream",
     "text": [
      "\r",
      "quantiles:   0%|                                                                                                                                                         | 0/6 [00:00<?, ?it/s]"
     ]
    },
    {
     "name": "stderr",
     "output_type": "stream",
     "text": [
      "\r",
      "quantiles:  17%|████████████████████████▏                                                                                                                        | 1/6 [00:26<02:13, 26.67s/it]"
     ]
    },
    {
     "name": "stderr",
     "output_type": "stream",
     "text": [
      "\r",
      "quantiles:  33%|████████████████████████████████████████████████▎                                                                                                | 2/6 [00:52<01:44, 26.01s/it]"
     ]
    },
    {
     "name": "stderr",
     "output_type": "stream",
     "text": [
      "\r",
      "quantiles:  50%|████████████████████████████████████████████████████████████████████████▌                                                                        | 3/6 [01:18<01:18, 26.29s/it]"
     ]
    },
    {
     "name": "stderr",
     "output_type": "stream",
     "text": [
      "\r",
      "quantiles:  67%|████████████████████████████████████████████████████████████████████████████████████████████████▋                                                | 4/6 [01:45<00:52, 26.41s/it]"
     ]
    },
    {
     "name": "stderr",
     "output_type": "stream",
     "text": [
      "\r",
      "quantiles:  83%|████████████████████████████████████████████████████████████████████████████████████████████████████████████████████████▊                        | 5/6 [02:12<00:26, 26.47s/it]"
     ]
    },
    {
     "name": "stderr",
     "output_type": "stream",
     "text": [
      "\r",
      "quantiles: 100%|█████████████████████████████████████████████████████████████████████████████████████████████████████████████████████████████████████████████████| 6/6 [02:38<00:00, 26.54s/it]"
     ]
    },
    {
     "name": "stderr",
     "output_type": "stream",
     "text": [
      "\r",
      "quantiles: 100%|█████████████████████████████████████████████████████████████████████████████████████████████████████████████████████████████████████████████████| 6/6 [02:38<00:00, 26.45s/it]"
     ]
    },
    {
     "name": "stderr",
     "output_type": "stream",
     "text": [
      "\n"
     ]
    },
    {
     "data": {
      "text/html": [
       "<h3>Summary Table for NDCG@5</h3>"
      ],
      "text/plain": [
       "<IPython.core.display.HTML object>"
      ]
     },
     "metadata": {},
     "output_type": "display_data"
    },
    {
     "data": {
      "text/html": [
       "<table>\n",
       "<thead><tr>\n",
       "<th>Algorithm\n",
       "<th>Mean\n",
       "<th>Std Dev\n",
       "<th>10%ile\n",
       "<th>Median\n",
       "<th>90%ile\n",
       "<th>Dist. (KDE)\n",
       "</tr></thead>\n",
       "<tbody>\n",
       "<tr><td>locality-cali\n",
       "<td>0.417<br><span style=\"font-size: 75%;\">(0.414,0.420)</span></td>\n",
       "<td>0.411<br><span style=\"font-size: 75%;\">(0.410,0.412)</span></td>\n",
       "<td>0.000<br><span style=\"font-size: 75%;\">(0.000,0.000)</span></td>\n",
       "<td>0.431<br><span style=\"font-size: 75%;\">(0.402,0.431)</span></td>\n",
       "<td>1.000<br><span style=\"font-size: 75%;\">(1.000,1.000)</span></td>\n",
       "<td><img src=\"data:image/png;base64,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\"></td>\n",
       "</tr>\n",
       "<tr><td>mmr\n",
       "<td>0.356<br><span style=\"font-size: 75%;\">(0.352,0.360)</span></td>\n",
       "<td>0.533<br><span style=\"font-size: 75%;\">(0.527,0.538)</span></td>\n",
       "<td>0.000<br><span style=\"font-size: 75%;\">(0.000,0.000)</span></td>\n",
       "<td>0.000<br><span style=\"font-size: 75%;\">(0.000,0.000)</span></td>\n",
       "<td>1.000<br><span style=\"font-size: 75%;\">(1.000,1.000)</span></td>\n",
       "<td><img src=\"data:image/png;base64,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\"></td>\n",
       "</tr>\n",
       "<tr><td>nrms\n",
       "<td>0.417<br><span style=\"font-size: 75%;\">(0.414,0.420)</span></td>\n",
       "<td>0.411<br><span style=\"font-size: 75%;\">(0.410,0.412)</span></td>\n",
       "<td>0.000<br><span style=\"font-size: 75%;\">(0.000,0.000)</span></td>\n",
       "<td>0.431<br><span style=\"font-size: 75%;\">(0.402,0.431)</span></td>\n",
       "<td>1.000<br><span style=\"font-size: 75%;\">(1.000,1.000)</span></td>\n",
       "<td><img src=\"data:image/png;base64,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\"></td>\n",
       "</tr>\n",
       "<tr><td>pfar\n",
       "<td>0.417<br><span style=\"font-size: 75%;\">(0.414,0.420)</span></td>\n",
       "<td>0.411<br><span style=\"font-size: 75%;\">(0.410,0.412)</span></td>\n",
       "<td>0.000<br><span style=\"font-size: 75%;\">(0.000,0.000)</span></td>\n",
       "<td>0.431<br><span style=\"font-size: 75%;\">(0.402,0.431)</span></td>\n",
       "<td>1.000<br><span style=\"font-size: 75%;\">(1.000,1.000)</span></td>\n",
       "<td><img src=\"data:image/png;base64,iVBORw0KGgoAAAANSUhEUgAAASwAAAAZCAYAAACLvRPfAAAAOXRFWHRTb2Z0d2FyZQBNYXRwbG90bGliIHZlcnNpb24zLjkuMiwgaHR0cHM6Ly9tYXRwbG90bGliLm9yZy8hTgPZAAAACXBIWXMAAA9hAAAPYQGoP6dpAAAIUklEQVR4nO2cS2hTWRjHf0maNEnTdxtfbRK1trjoxsXUCtZR8LHwgTooOIjtCCIqDBVRcSEuFBURRaiIuBAd6QjTqujCIioyooIIdeGz1aSt2lijjW3a5iY3ObOouTZWrY+0teP5wZ9zuDf3nO/eJP/znXNvohNCCCQSiWQEoB/uACQSieRLkYYlkUhGDF9tWCtXrkSn06HT6bBarSxfvpyzZ88SDAYHIz6JRCLR0H3tGtb9+/eprq6murqaJ0+eaNvT0tKoqKhgz549mM3mhAcqkUgkX21YMYQQ3Llzh+rqak6fPs3z588BmDZtGmfOnMFutyc0UIlEIvlmw+pLNBrl/PnzlJeX4/f7cTqdnD9/nuLi4kTEKJFIJECCDCvGo0ePWLBgAQ0NDdhsNqqrq5k/f36impdIJD85Cb1LWFRUxK1bt5g5cyaBQICFCxeyf/9+5KNeEokE+G4vSPhjDVlZWdTV1bFmzRqEEGzatIl169YRiUQS3ZVEIvmBUVWV+vp6jhw5QkVFBZMnT+bo0aPf1WZCp4R9EUJw6NAhKisrEUKwZMkSTp06Je8gSiT/Yzo7O6mqquLixYvcvn2b7u7uuP2rVq3i+PHj39z+oBlWjJqaGlasWEEoFKKsrIxz586RkZExmF1KJJIhJhgMcuTIEXbt2oXP59O2p6WlUVJSwtSpUykpKaGkpIScnJxv7mfQDQvg2rVrLFy4kI6ODoqLi7l48SJjx44d7G4lEskgo6oqJ0+eZMeOHTQ3NwNQWFjIxo0bKSsro6ioCL0+cStPQ2JYAHfv3mXevHl4vV6cTid1dXUUFRUNRdcSiSTBCCG4cOECmzdv5uHDhwCMGzeOHTt2UF5eTlJS0qD0O2SGBeB2u5k7dy4NDQ2kp6dz4MABysvL0el0QxWCJBKBf/+F1lYYMwamTweDYbijkowg7t27R2VlJZcuXQJ6b7Rt27aNdevWYbFYBrdzMcS0tbWJ0tJSAQhAzJkzR3g8nqEO4+ekpkaIvDwh4L3y8nq3fyGKogi/3y+8Xq/weDziwYMHor6+Xjx69Ei8fPlSKIoyiCcgGU58Pp9Yv369MBgMAhAmk0ls2bJF+P3+IYthSDOsGKqqcuDAAbZv304wGMRms7F3717Wrl2b0PmupA+1tfDbb7021Zd32W347795/ssvNDc3a2ptbcXr9cYpEAgM2JXFYiEjI4Pc3FwmTpxIQUEBBQUFTJo0iYKCAsaNGyff5xFER0cHx44dY+fOnbS3twOwePFi9u3bx8SJE4c0lmExrBiPHz9m9erVXL9+HYCysjK2b9/OjBkzBm0O/FMSiRBwOGh58YIm0OTpU39Bb8r7NZjNZiwWC8nJyfT09PD27dsvOs5isVBQUEBhYSGTJk2isLCQCRMmkJ2dTVZWFpmZmZ+cWgghUBQFv9/fT8FgEFVV46TT6cjMzCQrK4usrCytj+zsbGmaA3D//n2qqqo4ceKENlAVFxdz8OBBZs2aNSwxDathQe/vEA8fPszWrVvp6uoCwG63s3TpUpYtW8b06dMxyDWWjxIKhQgEAvh8Ptra2uLU2tpKS0tLr9xu2js7B2wv2Wgk3+nE4XDgcDgYO3Yso0ePjlNOTo5mUh+uPUYiETo6OjQD8Xq9NDY20tjYSENDA42NjbjdblRVHTAWs9lMZmYmer0eRVFQFIVQKISiKN98veLONTkZp9PJ+PHj4+RyuXC5XOTk5PyUa6tdXV3U1dVRVVXFlStXtO2TJ0+msrKSioqKYU0mht2wYng8Hnbv3k1NTQ2vX7/Wto8ePZrZs2fjcrnIz8/XlJeXh8lk0j5Usf/oUlWV7u7uOHV1dREIBDR1dnZq9a6urn4KBoMoiqKVsS9LNBolEonElQB6vR6dThdXGgyGL5Zer487Vq/XE4lE+ilmULHzCYfDX3WNUwEn4HqnWN3xrp7711/of//9O9/Jz6OqKh6Ph4aGBh4/fqyVTU1NtLe38+bNmy/6VYROpyM9PZ2MjAwyMzNJT0/HYrGQlJQUp2g0qrUbk9/vH7B9q9WK0+nE5XIxZswYcnNzycnJ0crs7GxSUlKwWCxYrVasVisWiyXuM/mjI4SgqamJmzdvcuPGDW7evEl9fb12/fV6PYsWLWLDhg3MnDnzhzivH8awYoTDYa5evcrp06epra39og/Xz05aWhp2u53c3Fzsdjt2u51Ro0a9N3ivl/w//iB9oIauXoVffx2CiD+NEILOzk7NXABMJhPJycmazGYzqamp3zylU1WVZ8+e4Xa74/T06VOampp48eLFd52DwWDAaDTGGeenBqu++/u+3mg0xslkMmEymfrVY/307U+n08UNdNFoFEVR8Pl8vHr1ira2Nq3s6OjoF39eXh4rV65k7dq1OByO77oWieaHM6y+hEIhLl++TH19Pc3NzbS0tGjlQEaWnJysjXxWqxWbzYbNZiM1NVWr22w2UlJS+ik25TGbzVppNBrjsiGDwaCNOEIIotEoQgit/mF2pKrqR7OmSCQSd3ys/FiWZjQaSU1NJSUlJS5+o9H4+QsZiYDLBc+f9190h96F97w8cLvlIw6Aoii0tLTg8XjweDy8fPmSV69eaV94n8/H69ev6enp0bL4WLY90khKSmLKlCmUlpYybdo0SktLyc/PH+6wPskPbVifo6enR1sLiRkF9I5uFotFrnt9SOwuIcSbVizN/+cfWLJk6OP6HyCEIBQK0d3dTTgcRlVVrYzpU4PWh/v6Hv9hPRQKaQqHwyiKEndM7LVA3ICn1+sxGo3alLZvNu5wOAb/2akEMmINS/IN1NbCn3/Cs2fvt+Xnw8GD0qwkIwJpWBKJZMTwH4cfv1/adAcQAAAAAElFTkSuQmCC\"></td>\n",
       "</tr>\n",
       "<tr><td>softmax\n",
       "<td>0.383<br><span style=\"font-size: 75%;\">(0.381,0.386)</span></td>\n",
       "<td>0.406<br><span style=\"font-size: 75%;\">(0.405,0.407)</span></td>\n",
       "<td>0.000<br><span style=\"font-size: 75%;\">(0.000,0.000)</span></td>\n",
       "<td>0.281<br><span style=\"font-size: 75%;\">(0.250,0.315)</span></td>\n",
       "<td>1.000<br><span style=\"font-size: 75%;\">(1.000,1.000)</span></td>\n",
       "<td><img src=\"data:image/png;base64,iVBORw0KGgoAAAANSUhEUgAAASwAAAAZCAYAAACLvRPfAAAAOXRFWHRTb2Z0d2FyZQBNYXRwbG90bGliIHZlcnNpb24zLjkuMiwgaHR0cHM6Ly9tYXRwbG90bGliLm9yZy8hTgPZAAAACXBIWXMAAA9hAAAPYQGoP6dpAAAH5ElEQVR4nO2cTWhTSxvHf8c0adKIbZr4mtqmflEXgq26EYtX1IUfqAh6rQWpiC1U6OJuXFUQdaELFb0qKCi6siraiqigGwVvQSgotoqCV1Oapi39sEm0zcf58NyF7zlvYvW9VtOm1fnBw5zMOZl5ZjL5P5M5cyLpuq4jEAgEk4ApmXZAIBAIvhUhWAKBYNIwasGqqqpCkiQkScLpdLJjxw7u3r2Loihj4Z9AIBCYSKNdw3r16hUNDQ00NDTg9/vNfLfbTU1NDYcOHcJms6XdUYFAIBi1YBnouk5LSwtXrlzh6tWr9Pb2ArBy5UoaGxvJz89Pq6MCgUDw3YKVjKqq3Lx5k927dzM0NERJSQl37txh/vz56fBRIBAIgDQJlsHz58/ZuHEjgUAAl8tFY2Mjq1atSlfxAoHgFyetdwkXLlxIS0sLS5cuJRQKsWbNGi5evJjOKgQCwS9M2rc1zJgxg4cPH1JZWYmqqlRXV1NfX4/YnyoQCH6UMdmH5XA4aGhoYP/+/QAcOXKEmpoaVFUdi+oEAsEvQlrXsL7EhQsXqK2t5ePHj2zcuJFr166Rk5MzllUKBIIJQG9vL62trbS1tdHa2kprayt1dXXU1tZ+d5ljLlgAt27dorKykng8Tnl5Obdv3xbbHgSCnwxd12lubub06dM8evTI3OqUTE1NDefPn//uOsZFsACam5vZtGkT4XCYBQsWcO/ePXw+33hULRAIxhBZlrl+/TonTpzgyZMnZr4kSZSUlFBWVkZpaSllZWUsWbKEwsLC765r3AQL4MWLF6xbt46uri68Xi/nzp1j8+bN41W9QCBII6FQiHPnznHmzBm6u7sBsNvtVFVVsWvXLsrKynA6nWmtc1wFCyAQCLB+/XpevnwJQEVFBadOnWLGjBnj6cbPiabBX39BTw8UFMBvv4HFkmmvBD8ZPT09nDhxgrNnzzI0NASA1+ulrq6OPXv24PF4xqzucRcsgFgsxsGDBzl27BiapuFyuTh58qT5YLXgO2hqgj/+gGDwf3lFRfDnn7Bly6iLi8Vi9PX10d/fT39/v3kcDodJJBLIsmymsizjcDjIzc0lLy/PTN1uN3PmzGH27Nk4HI40NlaQCfx+P0ePHuXSpUskEgng097LvXv3sn37drKzs8fch4wIlsHTp0+prq7m2bNnAKxdu5Z9+/ZRXl6ORcwMvp2mJvj9d/j8ozTE/8aNFNF6//49nZ2dBAIBOjs7CQaDdHV1pVgoFEqriwUFBcydO/eL5vV6mTLlx3bYyLJMPB5HUZQUA0wRFWNq9CQSCe7fv8/ly5dpbGxE0zQAli1bRn19PRs2bBjXSUZGBQtAURSOHz/OgQMHTNX2er1s2bKFrVu3smLFCrKysjLp4sRG02D2bPRgkCFgAOgHeoEuw5xOusrL6eruprOzk/fv339T0TabjenTp6eYy+XCbreTnZ2NzWYz02g0SiQSIRwOm2lfXx9+v58PHz7833rsdjs+nw+Xy5UyS8vNzQUgHo+TSCSIx+PE43Gi0SjhcJhwOEwoFCIcDhOLxf61PdOmTcPlcpGXl0dBQQGzZs0yrbi4mFmzZjFz5sxfXthUVeXBgwdcvXqVpqYmIpGIeW7NmjXU19ezYsWKjPwayrhgGbx+/ZrDhw9z69YtwuGwme/xeFi9ejU+n4+ioiIKCwspKiqioKDA/Bsbo+MkSUJVVWKxWIpFo1Gi0SjDw8MMDw+bx9FodMS1sVgMWZZTorQsy2iaZu7WT+4ySZKwWCxYLBamTJliHmdlZX3RPj+X/L7kVNd1Pn78mGKKophtMdvU18eg388AkBhFf7tcLnw+n9mvRt8mW25u7g8PSl3XGRwcxO/3097eztu3b2lvb8fv9+P3+wkEAmbUTheSJGG1WsnKykLX9W8SMwOLxUJhYSHFxcX4fD6Ki4vxer243W48Hg9utxu3201+fj45OTnYbLZJvYyhqipv3ryhra3NtMePHzMwMGBeM3PmTCoqKti5cyeLFy/OoLcTSLAMZFnmwYMH3Lhxg5s3bzI4OJhplyYVdmA68B+gMNlqayncutUUqKlTp2bSTRNFUQgEAgSDQSKRSMosLRKJIEkSdrvdnNXZ7XYcDgd5eXnmbMkwh8OB1WodMUOSZTllNjY4OEh3dzcdHR10dHQQCATo6Oigs7Nz1E9jSJKEw+EwzWazjQhMyQHNsK+9Nq413v95gDOE+EtB0EiBlECnaRqKohCJRAiFQinW3t5OPB4f0S6Px8O2bduorKxk+fLlP/yTPV1MOMFKRlEUHj16RFtbm7nOEgwGCQaD9PT0mJE5uQkWiyVlABnmdDpxOp3k5OSkHH9+nfHFsFqtWK1WbDab+SUw/mkVPg1UXdfRdR1N09A0zRwcqqqOSBVFMY+T81VVTRlYRpo8mA3Lysoy/Tbt77/J37sXD+ABvvoMwcOHsHLlWH5ckx5N0+jt7SUQCJjre4FAgL6+PgYGBnj37p1pw8PDmXY3beTk5LBw4UJKS0spLS1l0aJFLF26FKvVmmnXRjChBUvwDfx3DYuurpGL7vBp4b2oCNrbxRaHNCLL8ohlh1gshqIoIwKSEYiSA5OxxJB8zsg37PPAZ5RtBEAjCCZfr6oqkiSNCHYWi4Xc3FxcLpdpeXl5FBcXM2/evAkzg/o3hGD9DBh3CSFVtL5yl1AgmKwIwRIIBJOGfwAzj0LAZ7pkdgAAAABJRU5ErkJggg==\"></td>\n",
       "</tr>\n",
       "<tr><td>topic-cali\n",
       "<td>0.417<br><span style=\"font-size: 75%;\">(0.414,0.420)</span></td>\n",
       "<td>0.411<br><span style=\"font-size: 75%;\">(0.410,0.412)</span></td>\n",
       "<td>0.000<br><span style=\"font-size: 75%;\">(0.000,0.000)</span></td>\n",
       "<td>0.431<br><span style=\"font-size: 75%;\">(0.402,0.431)</span></td>\n",
       "<td>1.000<br><span style=\"font-size: 75%;\">(1.000,1.000)</span></td>\n",
       "<td><img src=\"data:image/png;base64,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\"></td>\n",
       "</tr>\n",
       "</tbody>\n",
       "</table>\n"
      ],
      "text/plain": [
       "<IPython.core.display.HTML object>"
      ]
     },
     "metadata": {},
     "output_type": "display_data"
    },
    {
     "name": "stderr",
     "output_type": "stream",
     "text": [
      "\r",
      "Mean:   0%|                                                                                                                                                              | 0/6 [00:00<?, ?it/s]"
     ]
    },
    {
     "name": "stderr",
     "output_type": "stream",
     "text": [
      "\r",
      "Mean:  17%|█████████████████████████                                                                                                                             | 1/6 [00:17<01:29, 17.84s/it]"
     ]
    },
    {
     "name": "stderr",
     "output_type": "stream",
     "text": [
      "\r",
      "Mean:  33%|██████████████████████████████████████████████████                                                                                                    | 2/6 [00:35<01:11, 17.79s/it]"
     ]
    },
    {
     "name": "stderr",
     "output_type": "stream",
     "text": [
      "\r",
      "Mean:  50%|███████████████████████████████████████████████████████████████████████████                                                                           | 3/6 [00:52<00:51, 17.24s/it]"
     ]
    },
    {
     "name": "stderr",
     "output_type": "stream",
     "text": [
      "\r",
      "Mean:  67%|████████████████████████████████████████████████████████████████████████████████████████████████████                                                  | 4/6 [01:08<00:33, 16.85s/it]"
     ]
    },
    {
     "name": "stderr",
     "output_type": "stream",
     "text": [
      "\r",
      "Mean:  83%|█████████████████████████████████████████████████████████████████████████████████████████████████████████████████████████████                         | 5/6 [01:26<00:17, 17.14s/it]"
     ]
    },
    {
     "name": "stderr",
     "output_type": "stream",
     "text": [
      "\r",
      "Mean: 100%|██████████████████████████████████████████████████████████████████████████████████████████████████████████████████████████████████████████████████████| 6/6 [01:43<00:00, 17.24s/it]"
     ]
    },
    {
     "name": "stderr",
     "output_type": "stream",
     "text": [
      "\r",
      "Mean: 100%|██████████████████████████████████████████████████████████████████████████████████████████████████████████████████████████████████████████████████████| 6/6 [01:43<00:00, 17.25s/it]"
     ]
    },
    {
     "name": "stderr",
     "output_type": "stream",
     "text": [
      "\n"
     ]
    },
    {
     "name": "stderr",
     "output_type": "stream",
     "text": [
      "\r",
      "Std Dev:   0%|                                                                                                                                                           | 0/6 [00:00<?, ?it/s]"
     ]
    },
    {
     "name": "stderr",
     "output_type": "stream",
     "text": [
      "\r",
      "Std Dev:  17%|████████████████████████▌                                                                                                                          | 1/6 [00:18<01:31, 18.25s/it]"
     ]
    },
    {
     "name": "stderr",
     "output_type": "stream",
     "text": [
      "\r",
      "Std Dev:  33%|█████████████████████████████████████████████████                                                                                                  | 2/6 [00:36<01:13, 18.38s/it]"
     ]
    },
    {
     "name": "stderr",
     "output_type": "stream",
     "text": [
      "\r",
      "Std Dev:  50%|█████████████████████████████████████████████████████████████████████████▌                                                                         | 3/6 [00:55<00:55, 18.36s/it]"
     ]
    },
    {
     "name": "stderr",
     "output_type": "stream",
     "text": [
      "\r",
      "Std Dev:  67%|██████████████████████████████████████████████████████████████████████████████████████████████████                                                 | 4/6 [01:13<00:36, 18.35s/it]"
     ]
    },
    {
     "name": "stderr",
     "output_type": "stream",
     "text": [
      "\r",
      "Std Dev:  83%|██████████████████████████████████████████████████████████████████████████████████████████████████████████████████████████▌                        | 5/6 [01:31<00:18, 18.35s/it]"
     ]
    },
    {
     "name": "stderr",
     "output_type": "stream",
     "text": [
      "\r",
      "Std Dev: 100%|███████████████████████████████████████████████████████████████████████████████████████████████████████████████████████████████████████████████████| 6/6 [01:49<00:00, 18.31s/it]"
     ]
    },
    {
     "name": "stderr",
     "output_type": "stream",
     "text": [
      "\r",
      "Std Dev: 100%|███████████████████████████████████████████████████████████████████████████████████████████████████████████████████████████████████████████████████| 6/6 [01:49<00:00, 18.33s/it]"
     ]
    },
    {
     "name": "stderr",
     "output_type": "stream",
     "text": [
      "\n"
     ]
    },
    {
     "name": "stderr",
     "output_type": "stream",
     "text": [
      "\r",
      "quantiles:   0%|                                                                                                                                                         | 0/6 [00:00<?, ?it/s]"
     ]
    },
    {
     "name": "stderr",
     "output_type": "stream",
     "text": [
      "\r",
      "quantiles:  17%|████████████████████████▏                                                                                                                        | 1/6 [00:27<02:15, 27.13s/it]"
     ]
    },
    {
     "name": "stderr",
     "output_type": "stream",
     "text": [
      "\r",
      "quantiles:  33%|████████████████████████████████████████████████▎                                                                                                | 2/6 [00:54<01:49, 27.34s/it]"
     ]
    },
    {
     "name": "stderr",
     "output_type": "stream",
     "text": [
      "\r",
      "quantiles:  50%|████████████████████████████████████████████████████████████████████████▌                                                                        | 3/6 [01:21<01:21, 27.17s/it]"
     ]
    },
    {
     "name": "stderr",
     "output_type": "stream",
     "text": [
      "\r",
      "quantiles:  67%|████████████████████████████████████████████████████████████████████████████████████████████████▋                                                | 4/6 [01:48<00:54, 27.13s/it]"
     ]
    },
    {
     "name": "stderr",
     "output_type": "stream",
     "text": [
      "\r",
      "quantiles:  83%|████████████████████████████████████████████████████████████████████████████████████████████████████████████████████████▊                        | 5/6 [02:15<00:27, 27.19s/it]"
     ]
    },
    {
     "name": "stderr",
     "output_type": "stream",
     "text": [
      "\r",
      "quantiles: 100%|█████████████████████████████████████████████████████████████████████████████████████████████████████████████████████████████████████████████████| 6/6 [02:42<00:00, 27.14s/it]"
     ]
    },
    {
     "name": "stderr",
     "output_type": "stream",
     "text": [
      "\r",
      "quantiles: 100%|█████████████████████████████████████████████████████████████████████████████████████████████████████████████████████████████████████████████████| 6/6 [02:42<00:00, 27.17s/it]"
     ]
    },
    {
     "name": "stderr",
     "output_type": "stream",
     "text": [
      "\n"
     ]
    },
    {
     "data": {
      "text/html": [
       "<h3>Summary Table for NDCG@10</h3>"
      ],
      "text/plain": [
       "<IPython.core.display.HTML object>"
      ]
     },
     "metadata": {},
     "output_type": "display_data"
    },
    {
     "data": {
      "text/html": [
       "<table>\n",
       "<thead><tr>\n",
       "<th>Algorithm\n",
       "<th>Mean\n",
       "<th>Std Dev\n",
       "<th>10%ile\n",
       "<th>Median\n",
       "<th>90%ile\n",
       "<th>Dist. (KDE)\n",
       "</tr></thead>\n",
       "<tbody>\n",
       "<tr><td>locality-cali\n",
       "<td>0.483<br><span style=\"font-size: 75%;\">(0.480,0.485)</span></td>\n",
       "<td>0.370<br><span style=\"font-size: 75%;\">(0.369,0.371)</span></td>\n",
       "<td>0.000<br><span style=\"font-size: 75%;\">(0.000,0.000)</span></td>\n",
       "<td>0.431<br><span style=\"font-size: 75%;\">(0.431,0.431)</span></td>\n",
       "<td>1.000<br><span style=\"font-size: 75%;\">(1.000,1.000)</span></td>\n",
       "<td><img src=\"data:image/png;base64,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\"></td>\n",
       "</tr>\n",
       "<tr><td>mmr\n",
       "<td>0.498<br><span style=\"font-size: 75%;\">(0.493,0.504)</span></td>\n",
       "<td>0.775<br><span style=\"font-size: 75%;\">(0.765,0.786)</span></td>\n",
       "<td>0.000<br><span style=\"font-size: 75%;\">(0.000,0.000)</span></td>\n",
       "<td>0.333<br><span style=\"font-size: 75%;\">(0.333,0.333)</span></td>\n",
       "<td>1.000<br><span style=\"font-size: 75%;\">(1.000,1.000)</span></td>\n",
       "<td><img src=\"data:image/png;base64,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\"></td>\n",
       "</tr>\n",
       "<tr><td>nrms\n",
       "<td>0.482<br><span style=\"font-size: 75%;\">(0.480,0.485)</span></td>\n",
       "<td>0.370<br><span style=\"font-size: 75%;\">(0.369,0.371)</span></td>\n",
       "<td>0.000<br><span style=\"font-size: 75%;\">(0.000,0.000)</span></td>\n",
       "<td>0.431<br><span style=\"font-size: 75%;\">(0.431,0.431)</span></td>\n",
       "<td>1.000<br><span style=\"font-size: 75%;\">(1.000,1.000)</span></td>\n",
       "<td><img src=\"data:image/png;base64,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\"></td>\n",
       "</tr>\n",
       "<tr><td>pfar\n",
       "<td>0.483<br><span style=\"font-size: 75%;\">(0.480,0.485)</span></td>\n",
       "<td>0.370<br><span style=\"font-size: 75%;\">(0.369,0.371)</span></td>\n",
       "<td>0.000<br><span style=\"font-size: 75%;\">(0.000,0.000)</span></td>\n",
       "<td>0.431<br><span style=\"font-size: 75%;\">(0.431,0.431)</span></td>\n",
       "<td>1.000<br><span style=\"font-size: 75%;\">(1.000,1.000)</span></td>\n",
       "<td><img src=\"data:image/png;base64,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\"></td>\n",
       "</tr>\n",
       "<tr><td>softmax\n",
       "<td>0.451<br><span style=\"font-size: 75%;\">(0.448,0.453)</span></td>\n",
       "<td>0.369<br><span style=\"font-size: 75%;\">(0.367,0.370)</span></td>\n",
       "<td>0.000<br><span style=\"font-size: 75%;\">(0.000,0.000)</span></td>\n",
       "<td>0.387<br><span style=\"font-size: 75%;\">(0.387,0.387)</span></td>\n",
       "<td>1.000<br><span style=\"font-size: 75%;\">(1.000,1.000)</span></td>\n",
       "<td><img src=\"data:image/png;base64,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\"></td>\n",
       "</tr>\n",
       "<tr><td>topic-cali\n",
       "<td>0.483<br><span style=\"font-size: 75%;\">(0.480,0.485)</span></td>\n",
       "<td>0.370<br><span style=\"font-size: 75%;\">(0.369,0.371)</span></td>\n",
       "<td>0.000<br><span style=\"font-size: 75%;\">(0.000,0.000)</span></td>\n",
       "<td>0.431<br><span style=\"font-size: 75%;\">(0.431,0.431)</span></td>\n",
       "<td>1.000<br><span style=\"font-size: 75%;\">(1.000,1.000)</span></td>\n",
       "<td><img src=\"data:image/png;base64,iVBORw0KGgoAAAANSUhEUgAAASwAAAAZCAYAAACLvRPfAAAAOXRFWHRTb2Z0d2FyZQBNYXRwbG90bGliIHZlcnNpb24zLjkuMiwgaHR0cHM6Ly9tYXRwbG90bGliLm9yZy8hTgPZAAAACXBIWXMAAA9hAAAPYQGoP6dpAAAJ8ElEQVR4nO2bbUwcVRfHfzML7FK6sIBsl5SXBa1UxETFWoOpVqnJ9kNRqdQPvoRETZVqbUwTg0l9CV9oo43U1BCt0SYtGksrH0xIGkC0tlJrtBICtA1FbCmwu8DyvsvOzn0+VOZhQx/7wi50+8wvObkTZuaeM8Psf86994wkhBDo6OjoRADyYgego6Ojc63ogqWjoxMx6IKlo6MTFtxuNzt37sRutyNJEpIkUVJSMq8+o673hHPnznHs2DE2btxIQkLCvJzr6OjcerS2trJ7926++eYbfD4fAElJSbz88su8+uqr8+pbut5J9/LyciorKzEajRQVFfH888/jcDiIiYmZVyA6OjqRT11dHZs2bcLv9wOQn5/P66+/zrPPPktsbOy8+7/uIWFWVhZ33XUXPp+PQ4cO8eSTT5KamkpZWRmnT5+ed0A6OjqRyaFDhygpKcHv9+NwOGhpaeHUqVOUlpaGRKzgBjIsACEEp0+f5sCBA9TU1NDf3w+AwWDgk08+4bXXXgtJcDo6OpFBTU0NL7zwAqqq8txzz/HVV18RFXXdM05XR8wTRVHE0aNHxYYNGwQgAFFWViamp6fn27WOjk4E8OWXXwpJkgQgSktLhaIoYfN1QxnW/xA+du7cyTvvvIMQgsLCQr799luSkpJC0b3OzUYgAMeOQV8fpKbCmjVgMCx2VDoLzGeffcbmzZsB2Lx5M59++imyHMbig1ArYF1dnYiLixOAuOOOO0RHR0eoXegsNocPC5GWJgT819LSLv9d5/+GPXv2aKOqrVu3ClVVw+4zZBnWbFpbWykqKqKnp4eEhAS+/vpr1q9fH2o3tyRCCLq6ujh79izd3d2cP39eM5fLhRACIQSqqjLzr7NYLKSkpJCSkoLVaiUlJQWbzYbdbicrKwu73Y7ZbA5NgEeOwDPPXJap2UjS5ba2FoqLQ+NL56alsrKS8vJyALZv386uXbuQZp6BMBIWwQJwOp1s3LiRn3/+GUmSqKiooLy8PLzpYoTS29tLY2MjDQ0NNDY2cunSpZD7SEpKIisri8zMTOx2O5mZmdp2WloaFosFw9WGdIEA2O1w8eKV90sSpKVBd7c+PLxFEULw3nvvUVFRAcC7777L+++/vyBiBWEULACfz8e2bduorq4G4KmnnmL//v3Ex8eHy2VEoKoqLS0t1NbWUl9fT2dnZ9B+o9FITk4O2dnZQWaz2ZBlWasaliQJIQQejweXy4XT6cTlcuFyuejt7aWnp4fu7m6GhoauKS6LxUJiYiJJSUkkJiYG1dZJkgSDg0gtLchcrocx/NPKwDIga8b27SNr06bQZXU6NwVCCLZv387u3buBy1nW22+/vaAxhFWwZvjiiy8oKytjenqalStX8t1337Fy5cpwu72pCAQCHD9+nNraWg4fPhyURcmyTH5+PuvWraOwsJCCgoKQ1a0AjI6OauLV09NDT08Pf/31l9a63e6Q+ZpNamoqjz76KIWFhRQWFpKVlRUWP/+GEGLB3v63MqqqsmXLFi352LNnD2+88caCx7EgggXw66+/UlxcTG9vL2azmX379lFSUnJLP0zDw8McPXqU+vp66uvrcTqd2r74+HiKiop4+umnefzxx7FYLIsW5/T0NB6Ph6GhIYaHh7VWURQAba6Mzk7UXbsQQABQ/zEFuAScB7qB7vh4hkZH5/jJzs7WxOuxxx7DarWGJP6+vj5+++03urq6NEGeseHhYSwWC8nJyUG2YsUKVq9ezapVqxb13kcCIyMjlJWVUVNTgyRJfP7557z00kuLE0zYp/Vn0d/fLx555BFtZeGee+4R+/fvFz6fbyHDCBtut1v8+OOPoqKiQhQUFAhZlrVrBYTFYhGlpaXi+++/F16vd7HDvX4U5fJqoCQFrxDOmCQJkZ4uhKIIj8cjmpubxY4dO0RBQYEwGAxB9wIQeXl5YuvWraKurk643e6rrjIpiiIuXrwoGhsbRWVlpSguLhZpaWlz+r1ey8nJES+++KLYu3ev+OOPP8JaRxRJqKoqDhw4IJYtWyYAYTAYxMGDBxc1pgXLsGbw+/188MEHVFVVMT4+DsDy5cvZtm0br7zySsg+qFYUhZGREc38fj+BQABVVQkEAgQCASRJIjo6mpiYmKA2KioKWZYxGAya+f1+RkdHtf5GR0cZGhqis7OTtrY22tratIr/2dx9992sX78eh8PBmjVrIv+by5lVQgheKbzKKuHY2Bg//fQTjY2NNDU18eeff845xmQyYbPZNLNarYyNjXHhwgX+/vtvLl26pGV9s5FlmdzcXHJzc8nMzCQjI0NbVEhOTtayx8HBQQYHB3G5XLS2tnLy5EnOnz8/p7+lS5fy0EMP8fDDD1NQUEB+fj7Jyck3dr8ilPb2drZs2UJzczMAOTk5VFdXs3bt2kWNa8EFawaPx0N1dTVVVVXaD91sNnPvvfeSnZ3N7bffrk02WywWJiYmmJiYYHJykomJCcbHx3E6nTidTgYGBjQbHBxkZGREE8OFxm63c9999+FwOHA4HGRkZCxKHGHlyBF4883g1cL0dPj442suaXC73TQ3N9PU1ERTUxNnzpy5pvMMBgOZmZk88MADrFq1igcffJD777+fpUuX3sCFgMvl4tSpU5w8eZJffvmFlpYWxsbG5hxntVo1UczNzSUnJ4fly5djs9mwWCy3zNTGhQsX2Lt3Lx999BGKohAbG8uOHTt46623MBqNix3e4gnWDD6fj4MHD/Lhhx/S0dER8v7j4uKIj48nJiYGg8EQlDkJIfD7/UxPT2utz+cLysJUVUVVVWRZJiEhgYSEBOLj47XtFStWkJeXR15eHrm5uTf8w4k4QlzpPjk5ycDAAP39/ZoNDAxgNptJT08nIyOD9PR0bDbb1csv5kEgEKCtrY0TJ05w/PhxTpw4QXd397+eYzQatawwOTl5zjNiNpuJi4tjyZIlLFmyhNjYWK01mUyYTCaMRqO2bTKZwnqNsxkZGeGHH36goaGBhoaGoBdHUVERVVVV2O32BYnlWlh0wZpBVVV+//13zp07F1Qs2dXVxfj4OHFxcXMsJSWFZcuWYbVatfa2224jMTFRe1iio6PnHdvMLbpV3qI618f4+DidnZ20t7fT3t5OR0cHZ8+epb+/H4/HExafUVFRQQJmMpk0kbuSmUwmrY2OjkaW5SBTVTVoWDw4OIjb7ebMmTOoqqr5lWWZ1atXU15ezoYNG8JybfPhphEsHZ1IxOv1ahlhX18fw8PD2lzn7HZqaorJyUnNJiYm8Hq9+Hw+vF4vXq/3ivNzC8Gdd97JE088wbp161i7du1NvWqqC5aOzk2CoihzRGzGpqamgmxycpKpqSlt3+xjFEXRPt+aMYDExMQrlndE0jyrLlg6OjoRg/5hn46OTsTwH9x4UFt5rGb4AAAAAElFTkSuQmCC\"></td>\n",
       "</tr>\n",
       "</tbody>\n",
       "</table>\n"
      ],
      "text/plain": [
       "<IPython.core.display.HTML object>"
      ]
     },
     "metadata": {},
     "output_type": "display_data"
    },
    {
     "name": "stderr",
     "output_type": "stream",
     "text": [
      "\r",
      "Mean:   0%|                                                                                                                                                              | 0/6 [00:00<?, ?it/s]"
     ]
    },
    {
     "name": "stderr",
     "output_type": "stream",
     "text": [
      "\r",
      "Mean:  17%|█████████████████████████                                                                                                                             | 1/6 [00:17<01:27, 17.42s/it]"
     ]
    },
    {
     "name": "stderr",
     "output_type": "stream",
     "text": [
      "\r",
      "Mean:  33%|██████████████████████████████████████████████████                                                                                                    | 2/6 [00:35<01:10, 17.55s/it]"
     ]
    },
    {
     "name": "stderr",
     "output_type": "stream",
     "text": [
      "\r",
      "Mean:  50%|███████████████████████████████████████████████████████████████████████████                                                                           | 3/6 [00:52<00:52, 17.52s/it]"
     ]
    },
    {
     "name": "stderr",
     "output_type": "stream",
     "text": [
      "\r",
      "Mean:  67%|████████████████████████████████████████████████████████████████████████████████████████████████████                                                  | 4/6 [01:08<00:34, 17.07s/it]"
     ]
    },
    {
     "name": "stderr",
     "output_type": "stream",
     "text": [
      "\r",
      "Mean:  83%|█████████████████████████████████████████████████████████████████████████████████████████████████████████████████████████████                         | 5/6 [01:26<00:17, 17.28s/it]"
     ]
    },
    {
     "name": "stderr",
     "output_type": "stream",
     "text": [
      "\r",
      "Mean: 100%|██████████████████████████████████████████████████████████████████████████████████████████████████████████████████████████████████████████████████████| 6/6 [01:44<00:00, 17.36s/it]"
     ]
    },
    {
     "name": "stderr",
     "output_type": "stream",
     "text": [
      "\r",
      "Mean: 100%|██████████████████████████████████████████████████████████████████████████████████████████████████████████████████████████████████████████████████████| 6/6 [01:44<00:00, 17.35s/it]"
     ]
    },
    {
     "name": "stderr",
     "output_type": "stream",
     "text": [
      "\n"
     ]
    },
    {
     "name": "stderr",
     "output_type": "stream",
     "text": [
      "\r",
      "Std Dev:   0%|                                                                                                                                                           | 0/6 [00:00<?, ?it/s]"
     ]
    },
    {
     "name": "stderr",
     "output_type": "stream",
     "text": [
      "\r",
      "Std Dev:  17%|████████████████████████▌                                                                                                                          | 1/6 [00:16<01:23, 16.62s/it]"
     ]
    },
    {
     "name": "stderr",
     "output_type": "stream",
     "text": [
      "\r",
      "Std Dev:  33%|█████████████████████████████████████████████████                                                                                                  | 2/6 [00:34<01:10, 17.59s/it]"
     ]
    },
    {
     "name": "stderr",
     "output_type": "stream",
     "text": [
      "\r",
      "Std Dev:  50%|█████████████████████████████████████████████████████████████████████████▌                                                                         | 3/6 [00:53<00:53, 17.92s/it]"
     ]
    },
    {
     "name": "stderr",
     "output_type": "stream",
     "text": [
      "\r",
      "Std Dev:  67%|██████████████████████████████████████████████████████████████████████████████████████████████████                                                 | 4/6 [01:10<00:35, 17.54s/it]"
     ]
    },
    {
     "name": "stderr",
     "output_type": "stream",
     "text": [
      "\r",
      "Std Dev:  83%|██████████████████████████████████████████████████████████████████████████████████████████████████████████████████████████▌                        | 5/6 [01:28<00:17, 17.79s/it]"
     ]
    },
    {
     "name": "stderr",
     "output_type": "stream",
     "text": [
      "\r",
      "Std Dev: 100%|███████████████████████████████████████████████████████████████████████████████████████████████████████████████████████████████████████████████████| 6/6 [01:46<00:00, 17.98s/it]"
     ]
    },
    {
     "name": "stderr",
     "output_type": "stream",
     "text": [
      "\r",
      "Std Dev: 100%|███████████████████████████████████████████████████████████████████████████████████████████████████████████████████████████████████████████████████| 6/6 [01:46<00:00, 17.79s/it]"
     ]
    },
    {
     "name": "stderr",
     "output_type": "stream",
     "text": [
      "\n"
     ]
    },
    {
     "name": "stderr",
     "output_type": "stream",
     "text": [
      "\r",
      "quantiles:   0%|                                                                                                                                                         | 0/6 [00:00<?, ?it/s]"
     ]
    },
    {
     "name": "stderr",
     "output_type": "stream",
     "text": [
      "\r",
      "quantiles:  17%|████████████████████████▏                                                                                                                        | 1/6 [00:27<02:15, 27.11s/it]"
     ]
    },
    {
     "name": "stderr",
     "output_type": "stream",
     "text": [
      "\r",
      "quantiles:  33%|████████████████████████████████████████████████▎                                                                                                | 2/6 [00:53<01:47, 26.83s/it]"
     ]
    },
    {
     "name": "stderr",
     "output_type": "stream",
     "text": [
      "\r",
      "quantiles:  50%|████████████████████████████████████████████████████████████████████████▌                                                                        | 3/6 [01:20<01:20, 26.86s/it]"
     ]
    },
    {
     "name": "stderr",
     "output_type": "stream",
     "text": [
      "\r",
      "quantiles:  67%|████████████████████████████████████████████████████████████████████████████████████████████████▋                                                | 4/6 [01:47<00:53, 26.90s/it]"
     ]
    },
    {
     "name": "stderr",
     "output_type": "stream",
     "text": [
      "\r",
      "quantiles:  83%|████████████████████████████████████████████████████████████████████████████████████████████████████████████████████████▊                        | 5/6 [02:14<00:27, 27.03s/it]"
     ]
    },
    {
     "name": "stderr",
     "output_type": "stream",
     "text": [
      "\r",
      "quantiles: 100%|█████████████████████████████████████████████████████████████████████████████████████████████████████████████████████████████████████████████████| 6/6 [02:41<00:00, 27.01s/it]"
     ]
    },
    {
     "name": "stderr",
     "output_type": "stream",
     "text": [
      "\r",
      "quantiles: 100%|█████████████████████████████████████████████████████████████████████████████████████████████████████████████████████████████████████████████████| 6/6 [02:41<00:00, 26.97s/it]"
     ]
    },
    {
     "name": "stderr",
     "output_type": "stream",
     "text": [
      "\n"
     ]
    },
    {
     "data": {
      "text/html": [
       "<h3>Summary Table for RR</h3>"
      ],
      "text/plain": [
       "<IPython.core.display.HTML object>"
      ]
     },
     "metadata": {},
     "output_type": "display_data"
    },
    {
     "data": {
      "text/html": [
       "<table>\n",
       "<thead><tr>\n",
       "<th>Algorithm\n",
       "<th>Mean\n",
       "<th>Std Dev\n",
       "<th>10%ile\n",
       "<th>Median\n",
       "<th>90%ile\n",
       "<th>Dist. (KDE)\n",
       "</tr></thead>\n",
       "<tbody>\n",
       "<tr><td>locality-cali\n",
       "<td>0.371<br><span style=\"font-size: 75%;\">(0.368,0.373)</span></td>\n",
       "<td>0.359<br><span style=\"font-size: 75%;\">(0.358,0.361)</span></td>\n",
       "<td>0.000<br><span style=\"font-size: 75%;\">(0.000,0.000)</span></td>\n",
       "<td>0.250<br><span style=\"font-size: 75%;\">(0.250,0.250)</span></td>\n",
       "<td>1.000<br><span style=\"font-size: 75%;\">(1.000,1.000)</span></td>\n",
       "<td><img src=\"data:image/png;base64,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\"></td>\n",
       "</tr>\n",
       "<tr><td>mmr\n",
       "<td>0.311<br><span style=\"font-size: 75%;\">(0.309,0.314)</span></td>\n",
       "<td>0.380<br><span style=\"font-size: 75%;\">(0.378,0.381)</span></td>\n",
       "<td>0.000<br><span style=\"font-size: 75%;\">(0.000,0.000)</span></td>\n",
       "<td>0.143<br><span style=\"font-size: 75%;\">(0.143,0.143)</span></td>\n",
       "<td>1.000<br><span style=\"font-size: 75%;\">(1.000,1.000)</span></td>\n",
       "<td><img src=\"data:image/png;base64,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\"></td>\n",
       "</tr>\n",
       "<tr><td>nrms\n",
       "<td>0.371<br><span style=\"font-size: 75%;\">(0.368,0.373)</span></td>\n",
       "<td>0.359<br><span style=\"font-size: 75%;\">(0.358,0.361)</span></td>\n",
       "<td>0.000<br><span style=\"font-size: 75%;\">(0.000,0.000)</span></td>\n",
       "<td>0.250<br><span style=\"font-size: 75%;\">(0.250,0.250)</span></td>\n",
       "<td>1.000<br><span style=\"font-size: 75%;\">(1.000,1.000)</span></td>\n",
       "<td><img src=\"data:image/png;base64,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\"></td>\n",
       "</tr>\n",
       "<tr><td>pfar\n",
       "<td>0.371<br><span style=\"font-size: 75%;\">(0.368,0.373)</span></td>\n",
       "<td>0.359<br><span style=\"font-size: 75%;\">(0.358,0.361)</span></td>\n",
       "<td>0.000<br><span style=\"font-size: 75%;\">(0.000,0.000)</span></td>\n",
       "<td>0.250<br><span style=\"font-size: 75%;\">(0.250,0.250)</span></td>\n",
       "<td>1.000<br><span style=\"font-size: 75%;\">(1.000,1.000)</span></td>\n",
       "<td><img src=\"data:image/png;base64,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\"></td>\n",
       "</tr>\n",
       "<tr><td>softmax\n",
       "<td>0.332<br><span style=\"font-size: 75%;\">(0.329,0.334)</span></td>\n",
       "<td>0.341<br><span style=\"font-size: 75%;\">(0.340,0.343)</span></td>\n",
       "<td>0.000<br><span style=\"font-size: 75%;\">(0.000,0.000)</span></td>\n",
       "<td>0.200<br><span style=\"font-size: 75%;\">(0.200,0.200)</span></td>\n",
       "<td>1.000<br><span style=\"font-size: 75%;\">(1.000,1.000)</span></td>\n",
       "<td><img src=\"data:image/png;base64,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\"></td>\n",
       "</tr>\n",
       "<tr><td>topic-cali\n",
       "<td>0.371<br><span style=\"font-size: 75%;\">(0.368,0.373)</span></td>\n",
       "<td>0.359<br><span style=\"font-size: 75%;\">(0.358,0.361)</span></td>\n",
       "<td>0.000<br><span style=\"font-size: 75%;\">(0.000,0.000)</span></td>\n",
       "<td>0.250<br><span style=\"font-size: 75%;\">(0.250,0.250)</span></td>\n",
       "<td>1.000<br><span style=\"font-size: 75%;\">(1.000,1.000)</span></td>\n",
       "<td><img src=\"data:image/png;base64,iVBORw0KGgoAAAANSUhEUgAAASwAAAAZCAYAAACLvRPfAAAAOXRFWHRTb2Z0d2FyZQBNYXRwbG90bGliIHZlcnNpb24zLjkuMiwgaHR0cHM6Ly9tYXRwbG90bGliLm9yZy8hTgPZAAAACXBIWXMAAA9hAAAPYQGoP6dpAAAJ4klEQVR4nO2cf0xTVxvHv7e15WeVoiiOVgsvKvJDZ3E6Mrc5JJoYf7zookaTvRP1dUGdZhtgUDOz/eGPsWVbVEhwaNBoJNLoH4L+oRgXfjUBjbMZblIV6CjILEKttL29z/uH8QqCvkBbat35JE9Oezg85zn33vP0uc8593JERGAwGAw/QOJrAxgMBmOwMIfFYDD8hiE7rLVr14LjOHAch/DwcGRmZkKv14PdWTIYjFdx9+5ddHV1uaVjyA5r7969yM3NhUqlgsViQX5+PubOnYuEhATk5+czx8VgMEScTidKS0uxaNEixMTEoLi42C193HCT7i6XCxUVFTh+/Dh0Oh2ePHkCAFi9ejWKiooQHBzslmEMBsN/MRqNOHr0KIqKitDW1ibWb9myBYcOHRq23mE7rN50dXWhsLAQO3fuBM/z0Gq1OHfuHNRqtbuqBw0RwWg0wmQy9fubRCKBWq2GWq2GRMLSdgyGt+jq6kJGRgZKS0vFusjISGRkZGDDhg2IiYlxS79HHNYzrl27hpUrV6KjowPjx4+HTqfDe++95yn1fbDb7aivr0dlZSWqqqpQWVmJ9vb2V/5PQEAAYmNjMWXKFEydOhVxcXHQarWIj4+HTCbzip0Mxj+FtrY2LF68GPX19QCAhQsXYvPmzVi6dKnH5pdHHRYA3L9/H8uWLcPNmzchk8lQUFCAjIwMj+mvq6vDoUOHcObMGfE29BlyuRzR0dHgOK5PvcPhQHNzM5xO54A6AwICMGPGDGi1Wmi1WiQnJyMpKQlyudxjdr/J2O32fucCAIKDg9kx/IdgNBqxcOFCNDY2IiIiAhcuXMA777zj+Y7IC3R3d9PKlSsJAAGgNWvWUEtLy7D19fT00MmTJ+ndd98VdQKgiIgIWr58OR08eJAqKyupp6fnpTqcTic1NjZSeXk5/fzzz7R161aaP38+jR49uo/OZyKXy2n27Nm0efNmKiwspOvXr5PT6Rz2GN5E2tvb6YsvvqDAwMABj2FQUBB9+eWX9ODBA1+byvAi169fpwkTJhAA0mg09Mcff3itL684LCIil8tFe/fuJY7jCACFhITQgQMHyG63D1rH7du3KTc3l8aPHy9OAplMRuvWraOqqioSBMEjdt65c4dKSkooJyeH0tLSSKlUDjgBg4OD6YMPPqCsrCw6e/YsNTc3u92/P2KxWGj37t0UGho64HF6URQKBX399df06NEjX5vO8DAVFRWkUCgIAM2YMYP++usvr/bnNYf1jLq6OkpJSREv3qlTp9KlS5de2v7hw4eUn5/fL5qKioqib7/9lsxms7dNJkEQyGg0UklJCWVnZ1NqaupLI7G33nqL0tPTad++fXT58uU3elJarVbat29fH4eu1WqprKyM7HZ7PykrK6NZs2aJbceOHUvfffcd2Ww2Xw+F4QFKSkpILpcTAPrwww+ps7PT6316PIc1EIIg4MSJE8jOzhYT47NmzUJYWBiCgoIQGBiIoKAgWK1WXLx4EXa7HQAglUqxaNEirF+/HsuXL/dpYlwQBDQ0NKC2tha1tbWoqanBb7/9BkEQ+rTjOA4xMTFQqVSIiooSy4kTJ8LlcqG7uxtWq7VP+aLYbDaoVCokJCQgMTERCQkJiI+Ph0Kh6G+YywX8+ivQ2gpMnAi8/z4glXp8/FevXsX69etx7949AEB8fDy++eYbrFixol/OsDeCIECn02HPnj1oaGgAAMTGxqK4uBgpKSket5PhfYgIeXl5yM7OBgCkp6fj1KlTCAwMHJHOR4zOzk7asWMHSaXSV95CJCUlUV5eHrW2to6keUPGarXStWvXKC8vj1atWkUajWZQt0jDlbi4ONq/f//zKLO0lEilIgKei0r1tN5DPH78mD7//HPRhkmTJlFxcTHxPD8kPU6nk44dO0ZRUVEEgCQSCeXm5g4pRcDwPU6nkz777DPxeti2bduQrwV3GJEI60WMRiNu3ryJJ0+eoKenRyxdLhfS0tLw9ttvv/JX+3Wmvb0dt2/fhslkQktLi1iazWbIZDIoFAqEhoYiNDRU/KxQKPpIYGAg7t69C4PBAIPBgFu3bsFsNot9yGQy/Hv2bPy3uhqpeOFxhWfH7exZYMUKt8ZSVVWFTz/9FH/++ScAYNOmTfj+++8HjvQGSWdnJ7Zv3y7ueJ45cyZOnDiBpKQkt2xleB+r1YrVq1ejrKwMHMfhhx9+wI4dO0bWiBFzjQy36OjooKKiIpo7d26fqOtfAB0AqKN3lMVxRGo10TB/+SwWC2VlZZFEIhHzh+Xl5R4dT2lpKY0bN05ckR3qggxjZDGZTGI+MigoiHQ6nU/sYA7LD7lRWEiZAI3u5bgCAPoPQPrejquiYkh6TSYTffXVV+KqDwD65JNPyGKxeGUcra2ttGTJErEvjUZDx44dY9tHXiPsdjsdPnxY3LYQERFBNTU1PrOHOSx/5NQpIoCsAB0FSPtCrms2QAUAGQ4eHFR+oaGhgTZs2CCu+ACgxMREOn/+vNeHIggCFRUVUWRkZJ+V5NOnT5PL5fJ6/4yB4XmeiouLKTo6Wjwv8fHx1NjY6FO7fJLDYrjJ1avARx+JXwlALYAjAM4AcPRqqlAokJycjDlz5iA5ORkOhwNNTU1obm5GU1MTmpqaYDAYxLdszJs3Dzt37sTixYtHNI9os9lw5MgR7N+/H3///TcAIDExEVu2bMGCBQsQGxvrt3lNf4LneVy4cAG7du2CwWAA8PRZwD179mDjxo0+f3KBOSx/xOUCNBrAZHp689eLBwB+AVAWEIA6qRQ2m21QKpcuXYqcnByvPfs5WLq7u/HTTz8hLy8Pjx49EuvVajVSU1OxYMECzJs3D1FRUT6fPG8CHR0dqKmpQXV1Naqrq6HX6/H48WMAQFhYGHJycrBt2zaEhIT42NKnMIflr+h0wMcfP/3c+xT2WiXkly3D77//Dr1eD71ejxs3biAkJASTJk3qI9OmTcPkyZNHfgyvwGKxoKCgAJcuXUJ1dTUcDke/NuHh4YiMjERkZCQmTJgAhUIBuVzeR2QyGSQSifjSSY7jxO8D8TpGcS+bos/qe5dEBEEQwPM8XC4XeJ4Hz/Ow2+3o7OyExWLBw4cPxbK1tbWf3jFjxiAzMxNZWVlQKpXeG9gwYA7Ln9HpgO3bgZaW53VqNfDjj25vaXidsNlsqKysxJUrV3DlyhXU19eD53lfm/XGEBcXh5SUFFGmT58OqRc2H3sC5rD8nRHa6f46IQgCLBYLzGYzzGYz2traYDabYbPZ4HA44HA4YLfb4XA44HQ6xaijdwQyEK/zVPh/EWHvUiqVQiqVYtSoUaLIZDKEhYVBqVRCqVQiPDwcSqUSGo0G4eHhIzYOd2EOi8Fg+A3s9ZsMBsNv+B9VKuearYEdggAAAABJRU5ErkJggg==\"></td>\n",
       "</tr>\n",
       "</tbody>\n",
       "</table>\n"
      ],
      "text/plain": [
       "<IPython.core.display.HTML object>"
      ]
     },
     "metadata": {},
     "output_type": "display_data"
    }
   ],
   "source": [
    "for metric in effectiveness_metrics:\n",
    "    tw = EvalTable(mind_small_user_metrics, \"recommender\", metric, progress=notebook_tqdm)\n",
    "    tw.add_stat(\"Mean\", np.mean, ci=True)\n",
    "    tw.add_stat(\"Std Dev\", np.std, ci=True)\n",
    "    tw.add_quantiles([\"10%ile\", \"Median\", \"90%ile\"], [0.1, 0.5, 0.9], ci=True)\n",
    "    display(HTML(f\"<h3>Summary Table for {metric}</h3>\"))\n",
    "    display(HTML(tw.html_table()))"
   ]
  },
  {
   "cell_type": "markdown",
   "id": "1b6b798c",
   "metadata": {},
   "source": [
    "### 2. 2 Ranking Overlap Metrics\n",
    "RBO measures the similarity between two ranked lists, evaluating how much overlap exists between pure top-k recommendations and the actual rankings produced after recommendations. RBO can be applied at different list depths to analyze performance consistency, such as RBO@5 and RBO@10."
   ]
  },
  {
   "cell_type": "code",
   "execution_count": 8,
   "id": "6b61bc70",
   "metadata": {
    "execution": {
     "iopub.execute_input": "2024-11-26T21:47:29.482807Z",
     "iopub.status.busy": "2024-11-26T21:47:29.482615Z",
     "iopub.status.idle": "2024-11-26T21:47:36.621737Z",
     "shell.execute_reply": "2024-11-26T21:47:36.621025Z"
    }
   },
   "outputs": [
    {
     "data": {
      "image/png": "[encoded data removed]",
      "text/plain": [
       "<Figure size 800x300 with 2 Axes>"
      ]
     },
     "metadata": {},
     "output_type": "display_data"
    }
   ],
   "source": [
    "plt.figure(figsize=(8, 3))\n",
    "plt.subplots_adjust(wspace=0.3)\n",
    "\n",
    "for i, metric in enumerate(overlap_metrics, 1):\n",
    "    plt.subplot(1, 2, i)\n",
    "    sns.barplot(data=mind_small_user_metrics, x=\"recommender\", y=metric)\n",
    "    plt.xticks(rotation=45)\n",
    "\n",
    "plt.show()"
   ]
  },
  {
   "cell_type": "markdown",
   "id": "a7e4cc4b",
   "metadata": {},
   "source": [
    "The summary tables show the mean values, standard deviation, and quantiles (10%ile, Median, 90%ile), each accompanied by their respective 95% confidence intervals for ranking overlap metrics across recommenders."
   ]
  },
  {
   "cell_type": "code",
   "execution_count": 9,
   "id": "4ed0c94c",
   "metadata": {
    "execution": {
     "iopub.execute_input": "2024-11-26T21:47:36.623536Z",
     "iopub.status.busy": "2024-11-26T21:47:36.623374Z",
     "iopub.status.idle": "2024-11-26T21:59:32.218685Z",
     "shell.execute_reply": "2024-11-26T21:59:32.217920Z"
    }
   },
   "outputs": [
    {
     "name": "stderr",
     "output_type": "stream",
     "text": [
      "\r",
      "Mean:   0%|                                                                                                                                                              | 0/6 [00:00<?, ?it/s]"
     ]
    },
    {
     "name": "stderr",
     "output_type": "stream",
     "text": [
      "\r",
      "Mean:  17%|█████████████████████████                                                                                                                             | 1/6 [00:16<01:20, 16.02s/it]"
     ]
    },
    {
     "name": "stderr",
     "output_type": "stream",
     "text": [
      "\r",
      "Mean:  33%|██████████████████████████████████████████████████                                                                                                    | 2/6 [00:32<01:04, 16.07s/it]"
     ]
    },
    {
     "name": "stderr",
     "output_type": "stream",
     "text": [
      "\r",
      "Mean:  50%|███████████████████████████████████████████████████████████████████████████                                                                           | 3/6 [00:49<00:50, 16.77s/it]"
     ]
    },
    {
     "name": "stderr",
     "output_type": "stream",
     "text": [
      "\r",
      "Mean:  67%|████████████████████████████████████████████████████████████████████████████████████████████████████                                                  | 4/6 [01:05<00:33, 16.51s/it]"
     ]
    },
    {
     "name": "stderr",
     "output_type": "stream",
     "text": [
      "\r",
      "Mean:  83%|█████████████████████████████████████████████████████████████████████████████████████████████████████████████████████████████                         | 5/6 [01:21<00:16, 16.33s/it]"
     ]
    },
    {
     "name": "stderr",
     "output_type": "stream",
     "text": [
      "\r",
      "Mean: 100%|██████████████████████████████████████████████████████████████████████████████████████████████████████████████████████████████████████████████████████| 6/6 [01:39<00:00, 16.74s/it]"
     ]
    },
    {
     "name": "stderr",
     "output_type": "stream",
     "text": [
      "\r",
      "Mean: 100%|██████████████████████████████████████████████████████████████████████████████████████████████████████████████████████████████████████████████████████| 6/6 [01:39<00:00, 16.57s/it]"
     ]
    },
    {
     "name": "stderr",
     "output_type": "stream",
     "text": [
      "\n"
     ]
    },
    {
     "name": "stderr",
     "output_type": "stream",
     "text": [
      "\r",
      "Std Dev:   0%|                                                                                                                                                           | 0/6 [00:00<?, ?it/s]"
     ]
    },
    {
     "name": "stderr",
     "output_type": "stream",
     "text": [
      "\r",
      "Std Dev:  17%|████████████████████████▌                                                                                                                          | 1/6 [00:17<01:25, 17.01s/it]"
     ]
    },
    {
     "name": "stderr",
     "output_type": "stream",
     "text": [
      "\r",
      "Std Dev:  33%|█████████████████████████████████████████████████                                                                                                  | 2/6 [00:35<01:11, 17.89s/it]"
     ]
    },
    {
     "name": "stderr",
     "output_type": "stream",
     "text": [
      "\r",
      "Std Dev:  50%|█████████████████████████████████████████████████████████████████████████▌                                                                         | 3/6 [00:52<00:52, 17.43s/it]"
     ]
    },
    {
     "name": "stderr",
     "output_type": "stream",
     "text": [
      "\r",
      "Std Dev:  67%|██████████████████████████████████████████████████████████████████████████████████████████████████                                                 | 4/6 [01:09<00:34, 17.22s/it]"
     ]
    },
    {
     "name": "stderr",
     "output_type": "stream",
     "text": [
      "\r",
      "Std Dev:  83%|██████████████████████████████████████████████████████████████████████████████████████████████████████████████████████████▌                        | 5/6 [01:25<00:16, 16.99s/it]"
     ]
    },
    {
     "name": "stderr",
     "output_type": "stream",
     "text": [
      "\r",
      "Std Dev: 100%|███████████████████████████████████████████████████████████████████████████████████████████████████████████████████████████████████████████████████| 6/6 [01:44<00:00, 17.47s/it]"
     ]
    },
    {
     "name": "stderr",
     "output_type": "stream",
     "text": [
      "\r",
      "Std Dev: 100%|███████████████████████████████████████████████████████████████████████████████████████████████████████████████████████████████████████████████████| 6/6 [01:44<00:00, 17.38s/it]"
     ]
    },
    {
     "name": "stderr",
     "output_type": "stream",
     "text": [
      "\n"
     ]
    },
    {
     "name": "stderr",
     "output_type": "stream",
     "text": [
      "\r",
      "quantiles:   0%|                                                                                                                                                         | 0/6 [00:00<?, ?it/s]"
     ]
    },
    {
     "name": "stderr",
     "output_type": "stream",
     "text": [
      "\r",
      "quantiles:  17%|████████████████████████▏                                                                                                                        | 1/6 [00:22<01:53, 22.78s/it]"
     ]
    },
    {
     "name": "stderr",
     "output_type": "stream",
     "text": [
      "\r",
      "quantiles:  33%|████████████████████████████████████████████████▎                                                                                                | 2/6 [00:50<01:41, 25.44s/it]"
     ]
    },
    {
     "name": "stderr",
     "output_type": "stream",
     "text": [
      "\r",
      "quantiles:  50%|████████████████████████████████████████████████████████████████████████▌                                                                        | 3/6 [01:12<01:12, 24.26s/it]"
     ]
    },
    {
     "name": "stderr",
     "output_type": "stream",
     "text": [
      "\r",
      "quantiles:  67%|████████████████████████████████████████████████████████████████████████████████████████████████▋                                                | 4/6 [01:35<00:47, 23.69s/it]"
     ]
    },
    {
     "name": "stderr",
     "output_type": "stream",
     "text": [
      "\r",
      "quantiles:  83%|████████████████████████████████████████████████████████████████████████████████████████████████████████████████████████▊                        | 5/6 [02:06<00:26, 26.14s/it]"
     ]
    },
    {
     "name": "stderr",
     "output_type": "stream",
     "text": [
      "\r",
      "quantiles: 100%|█████████████████████████████████████████████████████████████████████████████████████████████████████████████████████████████████████████████████| 6/6 [02:28<00:00, 24.98s/it]"
     ]
    },
    {
     "name": "stderr",
     "output_type": "stream",
     "text": [
      "\r",
      "quantiles: 100%|█████████████████████████████████████████████████████████████████████████████████████████████████████████████████████████████████████████████████| 6/6 [02:28<00:00, 24.83s/it]"
     ]
    },
    {
     "name": "stderr",
     "output_type": "stream",
     "text": [
      "\n"
     ]
    },
    {
     "data": {
      "text/html": [
       "<h3>Summary Table for RBO@5</h3>"
      ],
      "text/plain": [
       "<IPython.core.display.HTML object>"
      ]
     },
     "metadata": {},
     "output_type": "display_data"
    },
    {
     "data": {
      "text/html": [
       "<table>\n",
       "<thead><tr>\n",
       "<th>Algorithm\n",
       "<th>Mean\n",
       "<th>Std Dev\n",
       "<th>10%ile\n",
       "<th>Median\n",
       "<th>90%ile\n",
       "<th>Dist. (KDE)\n",
       "</tr></thead>\n",
       "<tbody>\n",
       "<tr><td>locality-cali\n",
       "<td>0.391<br><span style=\"font-size: 75%;\">(0.391,0.392)</span></td>\n",
       "<td>0.073<br><span style=\"font-size: 75%;\">(0.072,0.074)</span></td>\n",
       "<td>0.396<br><span style=\"font-size: 75%;\">(0.396,0.396)</span></td>\n",
       "<td>0.410<br><span style=\"font-size: 75%;\">(0.410,0.410)</span></td>\n",
       "<td>0.410<br><span style=\"font-size: 75%;\">(0.410,0.410)</span></td>\n",
       "<td><img src=\"data:image/png;base64,iVBORw0KGgoAAAANSUhEUgAAASwAAAAZCAYAAACLvRPfAAAAOXRFWHRTb2Z0d2FyZQBNYXRwbG90bGliIHZlcnNpb24zLjkuMiwgaHR0cHM6Ly9tYXRwbG90bGliLm9yZy8hTgPZAAAACXBIWXMAAA9hAAAPYQGoP6dpAAAD6ElEQVR4nO3dz0sbaRzH8feTaKi74A+MdIMiRYIS/JWACILoUlhYREGlB70LxUOpB/+BHj2LXnr0WqJiEEWwgerBk1KiwR9QiNEskeAhYjSaPHvQmTXbwq5x22yS7wu+TDIzmXyZwIdnngmJ0lprhBAiD1hy3YAQQvxbElhCiLwhgVUkZmdnUUrR2tqa61aEyJoEVpHwer0ABAIBDg8Pc9yNENmRwCoC5+fn+P1+8/n8/HzumhHiCSSwioDP5yOVSpnPjdGWEPlGAqsILCwsADA2NoZSiq2tLU5OTnLblBBZkMAqcIlEgpWVFQDGx8fp6uoC/goxIfKJBFaBW1tb4/Lykvr6ejweD8PDw4DMY4n8JIFV4IxgGhwcRCnF0NAQAH6/n1gslsvWhHg0CawCdnt7y9LSEoAZVA0NDbS3t5NKpcxtQuQLCawCtrGxQSwWo7q6mu7ubnO9XBaKfCWBVcCMQBoYGKCkpMRcb4y2VldXubi4yElvQmRDAqtAaa3NO4FGQBlaWlpwOp1cX1+bdxCFyAcSWIUolWL7/XtCoRA/PXvGby9fZmx+OPkuXyIV+UQCq9B4vfDiBQuvXwPw+9UVZS7X3foHjHksn8/H9fX1D29TiGxIYBUSrxdevYJwGGM6fRDg5ORu/YPQ6uzsxOFwEI/HWV9fz0GzQjyeBFahSKXg7VvQmiMgAFiBfgDjR2UnJu72AywWi1wWirzz6MCKxWJEo1Hkl5Wzd3FxwebmJjMzM0xNTbG8vMzp6enTzumnTxAOowEjfn4FqoztWsPx8d1+94zLwsXFRQ4ODri9vc3+/YX4AUr+eZdM09PTvHv3DpvNRl1dXUZVVlailPpmFROtNel0Gq21+TiZTBIMBtne3ubo6Oib4WS323G73bS1tVFRUYHFYkEpZS611tzc3JBMJs1lMpkkGo0S+fyZCPAHcHl/vKGv3gGIRMyHPT09VFVVcXZ2RlNTEzabjcbGRlwuFy6Xi/Ly8u9wdkQx6+jooLe3N/sD6EeamJjQSikNSD2hamtrdX9/vx4dHdXNzc3aarX+p8d3go7ejasy6+PHjM9zbm5OezweXVZWlvNzIlX4NTk5+djIyaCy+decZDJJJBIhHA6bdXx8TDweN0cVD6sYGaMiY4RksVhwOp14PB7cbjc1NTUZ+ycSCXZ3d9nZ2SEQCJBIJDJGaul0GqUUNpuN0tLSjKXdbsfx/DmON2/45ewMB/Dz3xtSCurq4MsXsFq/6jedThMKhdjb2yMYDLK/v8/V1dV3Oz+iOPX19TEyMpL167MKLPE/ZdwlBHj4sRqX5B8+wP28lRD5SAJLCJE3/gQZlwrap9bqbQAAAABJRU5ErkJggg==\"></td>\n",
       "</tr>\n",
       "<tr><td>mmr\n",
       "<td>0.227<br><span style=\"font-size: 75%;\">(0.227,0.227)</span></td>\n",
       "<td>0.058<br><span style=\"font-size: 75%;\">(0.057,0.059)</span></td>\n",
       "<td>0.203<br><span style=\"font-size: 75%;\">(0.203,0.203)</span></td>\n",
       "<td>0.203<br><span style=\"font-size: 75%;\">(0.203,0.203)</span></td>\n",
       "<td>0.307<br><span style=\"font-size: 75%;\">(0.307,0.307)</span></td>\n",
       "<td><img src=\"data:image/png;base64,iVBORw0KGgoAAAANSUhEUgAAASwAAAAZCAYAAACLvRPfAAAAOXRFWHRTb2Z0d2FyZQBNYXRwbG90bGliIHZlcnNpb24zLjkuMiwgaHR0cHM6Ly9tYXRwbG90bGliLm9yZy8hTgPZAAAACXBIWXMAAA9hAAAPYQGoP6dpAAAEyElEQVR4nO3bwU+TSRjH8e9LW1pUIiddbLVuegApqVAaD14MoezBEGKMTQxhPXrFgxcS/Au86NGYPSyswaDBiFFhCUIvJhgKh4akxoRiaIsKhBjRSMvL7IH2tbW4ixgobp9PMnnbvu/Q523SX2amg6aUUgghxE+gpNAFCCHEVklgCSF+GhJYWbq6utA0jcbGxkKXIoTYhCZrWF94PB7C4TAAs7OzOJ3OAlckhMgmI6y0aDRqhBXAnTt3CliNEGIzElhpjx49AsBqtQLQ09ODDD6F2FsksNIePnwIQGdnJzabjUgkQigUKnBVQohsEljA8vIywWAQgPb2ds6dOwdAd3d3AasSQnxNAgsYHBxE13VqampwuVxcunQJgLt375JKpQpcnRAiQwILGBgYAKC1tRWA5uZmDh8+zMLCAkNDQ4UsTQiRpegDK5lM8vTpU+BLYJnNZtra2gCZFgqxlxT9PqyRkRH8fj+HDh0ikUhgMpkAmJqawuv1YrVaefPmDRUVFYUtVAghI6zMdLClpcUIK4C6ujrcbjerq6vcu3evUOUJIbIUdWAppfLWrzI0TTMW33u6u2FsDHp7N466vsuVCiGgyKeE4XAYj8eDzWZjcXGR/fv355yPxWIcO3YMpRQzwK+ZEw4H3LwJ58/vdslCFLWiHmFlRld+vz8vrAAcL17QlM7zv7JPxONw4QL09+9ClUKIDAks8qeDwMa0r6OD39NP/wD+BILAa6VYUwquXPmh6eHS0hKvXr2SfwESYouKdko4Pz/PkSNHAEgkElRWVuZeMDYGjY2sAL8AH7/qbwYcwFGPB4fbjcPhwG6343A4cDqdVFVVUV5enve+i4uLPHjwgL6+PkZHR9F1ncrKSvx+P83NzTQ1NRl1CSFyfXdgPXnyhIGBARoaGvD5fNTW1mKxWHaqvh1z+/ZtLl++zKlTpxgfH8+/oLcX0nux/gbuA1FgFngNbGX/u91up7q6murqaux2O8+ePTNCKqO0tJRkMpnTz+12c/r0aerr6/F6vXg8HsrKyrZ3o0L8j5i/t8Pg4CC3bt0ynlutVk6ePInP58PpdKJpGoBx/PpxISilSKVSRksmkzx+/Bj4xnQQIGvE9Vu6ZawD82yEV+zaNWIHDxKLxYjH48zNzRGNRnn79i3xeJx4PM7IyEjOn/Z6vQQCAQKBAHa7nefPnzM8PMzw8DCTk5NMT08zPT1tXG8ymThx4gQulwtd10mlUqytrRlHm81GeXk5Bw4cMI779u1D0zRKSkrQNC3v8WZNiJ3m8/k4c+bMtvt/9whrdHSUoaEhJiYmmJiY4P3799t+870gHA5TW1ubf0LX4fjxjQX2zT4iTdv4tTAahaz9WxnLy8u8fPmSSCRCJBIhGo1SX19PIBDA5XJ9s56lpSWCwSChUIjJyUlCoRALCws/cIdC7B1Xr17l+vXr2+7/Q2tYSilmZmaM8Hr37t2m1+wFFovFaKWlpVgsFurq6rh48eK3O/X3b/waCLmhlRmN3L+/41sblFIkEglCoRCJRAKz2ZxzLyaTic+fP/PhwwdWVlaM46dPn1BK5bT19fW81zJNiN1w9uzZf//O/YeiXXTfsv5+6OiAWOzLa0ePwo0bsg9LiF0mgSWE+Gn8A39y7oVHgB4HAAAAAElFTkSuQmCC\"></td>\n",
       "</tr>\n",
       "<tr><td>nrms\n",
       "<td>0.391<br><span style=\"font-size: 75%;\">(0.391,0.392)</span></td>\n",
       "<td>0.073<br><span style=\"font-size: 75%;\">(0.072,0.074)</span></td>\n",
       "<td>0.396<br><span style=\"font-size: 75%;\">(0.396,0.396)</span></td>\n",
       "<td>0.410<br><span style=\"font-size: 75%;\">(0.410,0.410)</span></td>\n",
       "<td>0.410<br><span style=\"font-size: 75%;\">(0.410,0.410)</span></td>\n",
       "<td><img src=\"data:image/png;base64,iVBORw0KGgoAAAANSUhEUgAAASwAAAAZCAYAAACLvRPfAAAAOXRFWHRTb2Z0d2FyZQBNYXRwbG90bGliIHZlcnNpb24zLjkuMiwgaHR0cHM6Ly9tYXRwbG90bGliLm9yZy8hTgPZAAAACXBIWXMAAA9hAAAPYQGoP6dpAAAD6ElEQVR4nO3dz0sbaRzH8feTaKi74A+MdIMiRYIS/JWACILoUlhYREGlB70LxUOpB/+BHj2LXnr0WqJiEEWwgerBk1KiwR9QiNEskeAhYjSaPHvQmTXbwq5x22yS7wu+TDIzmXyZwIdnngmJ0lprhBAiD1hy3YAQQvxbElhCiLwhgVUkZmdnUUrR2tqa61aEyJoEVpHwer0ABAIBDg8Pc9yNENmRwCoC5+fn+P1+8/n8/HzumhHiCSSwioDP5yOVSpnPjdGWEPlGAqsILCwsADA2NoZSiq2tLU5OTnLblBBZkMAqcIlEgpWVFQDGx8fp6uoC/goxIfKJBFaBW1tb4/Lykvr6ejweD8PDw4DMY4n8JIFV4IxgGhwcRCnF0NAQAH6/n1gslsvWhHg0CawCdnt7y9LSEoAZVA0NDbS3t5NKpcxtQuQLCawCtrGxQSwWo7q6mu7ubnO9XBaKfCWBVcCMQBoYGKCkpMRcb4y2VldXubi4yElvQmRDAqtAaa3NO4FGQBlaWlpwOp1cX1+bdxCFyAcSWIUolWL7/XtCoRA/PXvGby9fZmx+OPkuXyIV+UQCq9B4vfDiBQuvXwPw+9UVZS7X3foHjHksn8/H9fX1D29TiGxIYBUSrxdevYJwGGM6fRDg5ORu/YPQ6uzsxOFwEI/HWV9fz0GzQjyeBFahSKXg7VvQmiMgAFiBfgDjR2UnJu72AywWi1wWirzz6MCKxWJEo1Hkl5Wzd3FxwebmJjMzM0xNTbG8vMzp6enTzumnTxAOowEjfn4FqoztWsPx8d1+94zLwsXFRQ4ODri9vc3+/YX4AUr+eZdM09PTvHv3DpvNRl1dXUZVVlailPpmFROtNel0Gq21+TiZTBIMBtne3ubo6Oib4WS323G73bS1tVFRUYHFYkEpZS611tzc3JBMJs1lMpkkGo0S+fyZCPAHcHl/vKGv3gGIRMyHPT09VFVVcXZ2RlNTEzabjcbGRlwuFy6Xi/Ly8u9wdkQx6+jooLe3N/sD6EeamJjQSikNSD2hamtrdX9/vx4dHdXNzc3aarX+p8d3go7ejasy6+PHjM9zbm5OezweXVZWlvNzIlX4NTk5+djIyaCy+decZDJJJBIhHA6bdXx8TDweN0cVD6sYGaMiY4RksVhwOp14PB7cbjc1NTUZ+ycSCXZ3d9nZ2SEQCJBIJDJGaul0GqUUNpuN0tLSjKXdbsfx/DmON2/45ewMB/Dz3xtSCurq4MsXsFq/6jedThMKhdjb2yMYDLK/v8/V1dV3Oz+iOPX19TEyMpL167MKLPE/ZdwlBHj4sRqX5B8+wP28lRD5SAJLCJE3/gQZlwrap9bqbQAAAABJRU5ErkJggg==\"></td>\n",
       "</tr>\n",
       "<tr><td>pfar\n",
       "<td>0.391<br><span style=\"font-size: 75%;\">(0.391,0.392)</span></td>\n",
       "<td>0.073<br><span style=\"font-size: 75%;\">(0.072,0.074)</span></td>\n",
       "<td>0.396<br><span style=\"font-size: 75%;\">(0.396,0.396)</span></td>\n",
       "<td>0.410<br><span style=\"font-size: 75%;\">(0.410,0.410)</span></td>\n",
       "<td>0.410<br><span style=\"font-size: 75%;\">(0.410,0.410)</span></td>\n",
       "<td><img src=\"data:image/png;base64,iVBORw0KGgoAAAANSUhEUgAAASwAAAAZCAYAAACLvRPfAAAAOXRFWHRTb2Z0d2FyZQBNYXRwbG90bGliIHZlcnNpb24zLjkuMiwgaHR0cHM6Ly9tYXRwbG90bGliLm9yZy8hTgPZAAAACXBIWXMAAA9hAAAPYQGoP6dpAAAD6ElEQVR4nO3dz0sbaRzH8feTaKi74A+MdIMiRYIS/JWACILoUlhYREGlB70LxUOpB/+BHj2LXnr0WqJiEEWwgerBk1KiwR9QiNEskeAhYjSaPHvQmTXbwq5x22yS7wu+TDIzmXyZwIdnngmJ0lprhBAiD1hy3YAQQvxbElhCiLwhgVUkZmdnUUrR2tqa61aEyJoEVpHwer0ABAIBDg8Pc9yNENmRwCoC5+fn+P1+8/n8/HzumhHiCSSwioDP5yOVSpnPjdGWEPlGAqsILCwsADA2NoZSiq2tLU5OTnLblBBZkMAqcIlEgpWVFQDGx8fp6uoC/goxIfKJBFaBW1tb4/Lykvr6ejweD8PDw4DMY4n8JIFV4IxgGhwcRCnF0NAQAH6/n1gslsvWhHg0CawCdnt7y9LSEoAZVA0NDbS3t5NKpcxtQuQLCawCtrGxQSwWo7q6mu7ubnO9XBaKfCWBVcCMQBoYGKCkpMRcb4y2VldXubi4yElvQmRDAqtAaa3NO4FGQBlaWlpwOp1cX1+bdxCFyAcSWIUolWL7/XtCoRA/PXvGby9fZmx+OPkuXyIV+UQCq9B4vfDiBQuvXwPw+9UVZS7X3foHjHksn8/H9fX1D29TiGxIYBUSrxdevYJwGGM6fRDg5ORu/YPQ6uzsxOFwEI/HWV9fz0GzQjyeBFahSKXg7VvQmiMgAFiBfgDjR2UnJu72AywWi1wWirzz6MCKxWJEo1Hkl5Wzd3FxwebmJjMzM0xNTbG8vMzp6enTzumnTxAOowEjfn4FqoztWsPx8d1+94zLwsXFRQ4ODri9vc3+/YX4AUr+eZdM09PTvHv3DpvNRl1dXUZVVlailPpmFROtNel0Gq21+TiZTBIMBtne3ubo6Oib4WS323G73bS1tVFRUYHFYkEpZS611tzc3JBMJs1lMpkkGo0S+fyZCPAHcHl/vKGv3gGIRMyHPT09VFVVcXZ2RlNTEzabjcbGRlwuFy6Xi/Ly8u9wdkQx6+jooLe3N/sD6EeamJjQSikNSD2hamtrdX9/vx4dHdXNzc3aarX+p8d3go7ejasy6+PHjM9zbm5OezweXVZWlvNzIlX4NTk5+djIyaCy+decZDJJJBIhHA6bdXx8TDweN0cVD6sYGaMiY4RksVhwOp14PB7cbjc1NTUZ+ycSCXZ3d9nZ2SEQCJBIJDJGaul0GqUUNpuN0tLSjKXdbsfx/DmON2/45ewMB/Dz3xtSCurq4MsXsFq/6jedThMKhdjb2yMYDLK/v8/V1dV3Oz+iOPX19TEyMpL167MKLPE/ZdwlBHj4sRqX5B8+wP28lRD5SAJLCJE3/gQZlwrap9bqbQAAAABJRU5ErkJggg==\"></td>\n",
       "</tr>\n",
       "<tr><td>softmax\n",
       "<td>0.210<br><span style=\"font-size: 75%;\">(0.209,0.211)</span></td>\n",
       "<td>0.111<br><span style=\"font-size: 75%;\">(0.111,0.112)</span></td>\n",
       "<td>0.044<br><span style=\"font-size: 75%;\">(0.044,0.058)</span></td>\n",
       "<td>0.216<br><span style=\"font-size: 75%;\">(0.216,0.219)</span></td>\n",
       "<td>0.364<br><span style=\"font-size: 75%;\">(0.351,0.364)</span></td>\n",
       "<td><img src=\"data:image/png;base64,iVBORw0KGgoAAAANSUhEUgAAASwAAAAZCAYAAACLvRPfAAAAOXRFWHRTb2Z0d2FyZQBNYXRwbG90bGliIHZlcnNpb24zLjkuMiwgaHR0cHM6Ly9tYXRwbG90bGliLm9yZy8hTgPZAAAACXBIWXMAAA9hAAAPYQGoP6dpAAAGaklEQVR4nO3cT0xT2R7A8e/tLaDyFAht8U9rRgL4J6ijojHFyjSBDSExIlh1xM1ENi9kXJjo5Llp8sJCNmPihkh4MYRAAmIMCxPFMAZpJCWiC1BIVGLBCgVRHy3S9rZvgXPHOuizgPLvfJKTk5zDufd3m/THvb9zQQqHw2EEQRAWAc18ByAIgvC1RMISBGHREAnrT01NoNGAJEU2jWaqNTXN6enq6uqQJAlJkigrK5vTYwvCUiWJGhagKPDDDzAwMP28JIHRCM+fgyzP+nS3bt2ioKCAQCCgjlVWVlJaWjrrYwvCUiYSFsAff4DVynvgNhAC/gGs/qjXAStbW+Gnn2Z1KqfTidVqxev1YrPZ2L59OxcuXECr1dLS0kJOTs6sji8IS5l2vgNYCPwuF/8B/g185h4LLfDjL79gLiggOzsbs9mM0WiM6jx9fX3k5+fj9XrJzc3l6tWrxMbG0t3dTV1dHUeOHMHpdLJp06ZZXpEgLE3L+g4rGAxSW1uL/bffeO52A7Ae2Aj890Mb/9AHpllvMpnIzMwkIyODjIwM0tPTycjIwGQyodFElgfdbjdms5n+/n727NlDa2srq1evBmBiYoKDBw/S2dlJZmYmDodDnRME4S+LOmGFQiEURSEYDKIoCoqi4PP5ePPmDWNjY2r/9u1b/H4/gUCAYDBIIBDA7/fT0NBAX18fACkaDf8KhTgNrPjkPGHAtW4d7RUVOO7fx+Fw8OjRIxRFmTYuWZbR6XTo9XoMBgN6vZ6HDx/S29tLWloa7e3tGAyGiDWDg4NkZWXx6tUrDh06RFNT09+SniAsdws6YfX393Px4kW6urrwer2Mj4/j9Xrxer34fD7mIvTk5GTOnTvHP41GVv3889Tgx8eVpKm+sREKC9Xh8fFxHjx4QG9vL319fWp7+vRpRDH9YykpKTgcDlJTU6ed7+joICcnh8nJSfLz8zl//jwHDhxA+jMGQVjmFmTCevHiBeXl5VRXV3/2y/85kiSRmJhIUlKS2ickJBAXF0dMTAxarVbtU1NTOX369F+PX01N8OuvkbuFJhP8/ntEsvqSYDDI0NAQHo8Hj8fD8PAwHo8Hn8/H8ePH/299qra2lpKSEjUZ79q1izNnzmCz2YiLi4vqsxCEpSbqhBUOh7/Zb/zBwUHKy8upqqrC7/cDkJubS2lpKUlJScTHx6tt1apVxMTEIMsyWq0WWZaRZZmYmJjZPUopCrS1gdsN69aBxTInrzJEo7u7m0uXLlFTU8P79++Bqbuz4uJi4uPj0Wg0apNlmR07dmC1WklMTPyucQrC9xZ1wrp27RoVFRXYbDaOHj3Khg0bvnrt5OQkXV1dOBwOnj17xujoKCMjI2pzu91qXchqtWK327FYLNFd0RIyOjrKlStXuHz5MoODg1/8WY1Gw969e8nLyyMvL4/9+/cTGxv7nSIVhO8j6oRVXFxMY2Pj1GJJwmKxYLPZKCoqwmAwEA6H8Xq96iPRwMAA9z8Uqjs7O5mcnPzi8S0WC3a7HavVOvOrWmICgQDXr1/H6XQSCoUims/no729nd7e3og1a9asoaioiFOnTmGxWEQBX1gSok5YQ0NDNDY2Ul9fz71799RxjUbD+vXrGRkZUR9jpqPT6TCbzWRmZmIwGEhOTkan06HT6UhJScFoNIoi8wy4XC5aWlq4ffs2LS0teDwedW7jxo2cPHmSkpIStmzZMo9RCsLszKro7nK5aGhooL6+HqfTGTG3YsUKdVt/9+7dmM1mzGYz6enpIiF9Y6FQiLa2NmpqamhoaODdu3fq3IkTJ6iqqmLlypXzGKEgzMyc7RL29/czPDyMXq9Hr9cTHx8vEtMCMDExQXNzMzU1Ndy8eRNFUdi3bx83btxg7dq18x2eIERlQb7WIHwbd+/epbCwkNevX2MymWhubmbnzp3zHZYgfDVRiV1GcnJy6OjoYPPmzbhcLrKzs2lubp7vsAThq4k7rGVobGyM4uJi7ty5gyRJ2O12Dh8+THp6ung5VVjQRMJapgKBAGVlZVRWVqpjsiyTlpbGtm3b2Lp1KwkJCQBqLfLTXhCilZWVNat/oSQS1jIWDoepqqqiurqanp6eiN1EQfgWzp49S0VFxYzXi4QlAFPJ6+XLlzx+/Jienh6ePHnCxMSE+jeNn/aCMBP5+fkcO3ZsxutFwhIEYdEQu4SCICwa/wPknKWFLbN/ogAAAABJRU5ErkJggg==\"></td>\n",
       "</tr>\n",
       "<tr><td>topic-cali\n",
       "<td>0.391<br><span style=\"font-size: 75%;\">(0.391,0.392)</span></td>\n",
       "<td>0.073<br><span style=\"font-size: 75%;\">(0.072,0.074)</span></td>\n",
       "<td>0.396<br><span style=\"font-size: 75%;\">(0.396,0.396)</span></td>\n",
       "<td>0.410<br><span style=\"font-size: 75%;\">(0.410,0.410)</span></td>\n",
       "<td>0.410<br><span style=\"font-size: 75%;\">(0.410,0.410)</span></td>\n",
       "<td><img src=\"data:image/png;base64,iVBORw0KGgoAAAANSUhEUgAAASwAAAAZCAYAAACLvRPfAAAAOXRFWHRTb2Z0d2FyZQBNYXRwbG90bGliIHZlcnNpb24zLjkuMiwgaHR0cHM6Ly9tYXRwbG90bGliLm9yZy8hTgPZAAAACXBIWXMAAA9hAAAPYQGoP6dpAAAD6ElEQVR4nO3dz0sbaRzH8feTaKi74A+MdIMiRYIS/JWACILoUlhYREGlB70LxUOpB/+BHj2LXnr0WqJiEEWwgerBk1KiwR9QiNEskeAhYjSaPHvQmTXbwq5x22yS7wu+TDIzmXyZwIdnngmJ0lprhBAiD1hy3YAQQvxbElhCiLwhgVUkZmdnUUrR2tqa61aEyJoEVpHwer0ABAIBDg8Pc9yNENmRwCoC5+fn+P1+8/n8/HzumhHiCSSwioDP5yOVSpnPjdGWEPlGAqsILCwsADA2NoZSiq2tLU5OTnLblBBZkMAqcIlEgpWVFQDGx8fp6uoC/goxIfKJBFaBW1tb4/Lykvr6ejweD8PDw4DMY4n8JIFV4IxgGhwcRCnF0NAQAH6/n1gslsvWhHg0CawCdnt7y9LSEoAZVA0NDbS3t5NKpcxtQuQLCawCtrGxQSwWo7q6mu7ubnO9XBaKfCWBVcCMQBoYGKCkpMRcb4y2VldXubi4yElvQmRDAqtAaa3NO4FGQBlaWlpwOp1cX1+bdxCFyAcSWIUolWL7/XtCoRA/PXvGby9fZmx+OPkuXyIV+UQCq9B4vfDiBQuvXwPw+9UVZS7X3foHjHksn8/H9fX1D29TiGxIYBUSrxdevYJwGGM6fRDg5ORu/YPQ6uzsxOFwEI/HWV9fz0GzQjyeBFahSKXg7VvQmiMgAFiBfgDjR2UnJu72AywWi1wWirzz6MCKxWJEo1Hkl5Wzd3FxwebmJjMzM0xNTbG8vMzp6enTzumnTxAOowEjfn4FqoztWsPx8d1+94zLwsXFRQ4ODri9vc3+/YX4AUr+eZdM09PTvHv3DpvNRl1dXUZVVlailPpmFROtNel0Gq21+TiZTBIMBtne3ubo6Oib4WS323G73bS1tVFRUYHFYkEpZS611tzc3JBMJs1lMpkkGo0S+fyZCPAHcHl/vKGv3gGIRMyHPT09VFVVcXZ2RlNTEzabjcbGRlwuFy6Xi/Ly8u9wdkQx6+jooLe3N/sD6EeamJjQSikNSD2hamtrdX9/vx4dHdXNzc3aarX+p8d3go7ejasy6+PHjM9zbm5OezweXVZWlvNzIlX4NTk5+djIyaCy+decZDJJJBIhHA6bdXx8TDweN0cVD6sYGaMiY4RksVhwOp14PB7cbjc1NTUZ+ycSCXZ3d9nZ2SEQCJBIJDJGaul0GqUUNpuN0tLSjKXdbsfx/DmON2/45ewMB/Dz3xtSCurq4MsXsFq/6jedThMKhdjb2yMYDLK/v8/V1dV3Oz+iOPX19TEyMpL167MKLPE/ZdwlBHj4sRqX5B8+wP28lRD5SAJLCJE3/gQZlwrap9bqbQAAAABJRU5ErkJggg==\"></td>\n",
       "</tr>\n",
       "</tbody>\n",
       "</table>\n"
      ],
      "text/plain": [
       "<IPython.core.display.HTML object>"
      ]
     },
     "metadata": {},
     "output_type": "display_data"
    },
    {
     "name": "stderr",
     "output_type": "stream",
     "text": [
      "\r",
      "Mean:   0%|                                                                                                                                                              | 0/6 [00:00<?, ?it/s]"
     ]
    },
    {
     "name": "stderr",
     "output_type": "stream",
     "text": [
      "\r",
      "Mean:  17%|█████████████████████████                                                                                                                             | 1/6 [00:16<01:21, 16.28s/it]"
     ]
    },
    {
     "name": "stderr",
     "output_type": "stream",
     "text": [
      "\r",
      "Mean:  33%|██████████████████████████████████████████████████                                                                                                    | 2/6 [00:32<01:04, 16.15s/it]"
     ]
    },
    {
     "name": "stderr",
     "output_type": "stream",
     "text": [
      "\r",
      "Mean:  50%|███████████████████████████████████████████████████████████████████████████                                                                           | 3/6 [00:48<00:48, 16.11s/it]"
     ]
    },
    {
     "name": "stderr",
     "output_type": "stream",
     "text": [
      "\r",
      "Mean:  67%|████████████████████████████████████████████████████████████████████████████████████████████████████                                                  | 4/6 [01:05<00:33, 16.67s/it]"
     ]
    },
    {
     "name": "stderr",
     "output_type": "stream",
     "text": [
      "\r",
      "Mean:  83%|█████████████████████████████████████████████████████████████████████████████████████████████████████████████████████████████                         | 5/6 [01:22<00:16, 16.48s/it]"
     ]
    },
    {
     "name": "stderr",
     "output_type": "stream",
     "text": [
      "\r",
      "Mean: 100%|██████████████████████████████████████████████████████████████████████████████████████████████████████████████████████████████████████████████████████| 6/6 [01:39<00:00, 16.86s/it]"
     ]
    },
    {
     "name": "stderr",
     "output_type": "stream",
     "text": [
      "\r",
      "Mean: 100%|██████████████████████████████████████████████████████████████████████████████████████████████████████████████████████████████████████████████████████| 6/6 [01:39<00:00, 16.61s/it]"
     ]
    },
    {
     "name": "stderr",
     "output_type": "stream",
     "text": [
      "\n"
     ]
    },
    {
     "name": "stderr",
     "output_type": "stream",
     "text": [
      "\r",
      "Std Dev:   0%|                                                                                                                                                           | 0/6 [00:00<?, ?it/s]"
     ]
    },
    {
     "name": "stderr",
     "output_type": "stream",
     "text": [
      "\r",
      "Std Dev:  17%|████████████████████████▌                                                                                                                          | 1/6 [00:18<01:32, 18.56s/it]"
     ]
    },
    {
     "name": "stderr",
     "output_type": "stream",
     "text": [
      "\r",
      "Std Dev:  33%|█████████████████████████████████████████████████                                                                                                  | 2/6 [00:37<01:14, 18.56s/it]"
     ]
    },
    {
     "name": "stderr",
     "output_type": "stream",
     "text": [
      "\r",
      "Std Dev:  50%|█████████████████████████████████████████████████████████████████████████▌                                                                         | 3/6 [00:54<00:53, 17.90s/it]"
     ]
    },
    {
     "name": "stderr",
     "output_type": "stream",
     "text": [
      "\r",
      "Std Dev:  67%|██████████████████████████████████████████████████████████████████████████████████████████████████                                                 | 4/6 [01:11<00:34, 17.48s/it]"
     ]
    },
    {
     "name": "stderr",
     "output_type": "stream",
     "text": [
      "\r",
      "Std Dev:  83%|██████████████████████████████████████████████████████████████████████████████████████████████████████████████████████████▌                        | 5/6 [01:27<00:17, 17.22s/it]"
     ]
    },
    {
     "name": "stderr",
     "output_type": "stream",
     "text": [
      "\r",
      "Std Dev: 100%|███████████████████████████████████████████████████████████████████████████████████████████████████████████████████████████████████████████████████| 6/6 [01:44<00:00, 17.09s/it]"
     ]
    },
    {
     "name": "stderr",
     "output_type": "stream",
     "text": [
      "\r",
      "Std Dev: 100%|███████████████████████████████████████████████████████████████████████████████████████████████████████████████████████████████████████████████████| 6/6 [01:44<00:00, 17.45s/it]"
     ]
    },
    {
     "name": "stderr",
     "output_type": "stream",
     "text": [
      "\n"
     ]
    },
    {
     "name": "stderr",
     "output_type": "stream",
     "text": [
      "\r",
      "quantiles:   0%|                                                                                                                                                         | 0/6 [00:00<?, ?it/s]"
     ]
    },
    {
     "name": "stderr",
     "output_type": "stream",
     "text": [
      "\r",
      "quantiles:  17%|████████████████████████▏                                                                                                                        | 1/6 [00:24<02:01, 24.22s/it]"
     ]
    },
    {
     "name": "stderr",
     "output_type": "stream",
     "text": [
      "\r",
      "quantiles:  33%|████████████████████████████████████████████████▎                                                                                                | 2/6 [00:53<01:48, 27.23s/it]"
     ]
    },
    {
     "name": "stderr",
     "output_type": "stream",
     "text": [
      "\r",
      "quantiles:  50%|████████████████████████████████████████████████████████████████████████▌                                                                        | 3/6 [01:17<01:17, 25.87s/it]"
     ]
    },
    {
     "name": "stderr",
     "output_type": "stream",
     "text": [
      "\r",
      "quantiles:  67%|████████████████████████████████████████████████████████████████████████████████████████████████▋                                                | 4/6 [01:42<00:50, 25.22s/it]"
     ]
    },
    {
     "name": "stderr",
     "output_type": "stream",
     "text": [
      "\r",
      "quantiles:  83%|████████████████████████████████████████████████████████████████████████████████████████████████████████████████████████▊                        | 5/6 [02:12<00:27, 27.12s/it]"
     ]
    },
    {
     "name": "stderr",
     "output_type": "stream",
     "text": [
      "\r",
      "quantiles: 100%|█████████████████████████████████████████████████████████████████████████████████████████████████████████████████████████████████████████████████| 6/6 [02:36<00:00, 26.15s/it]"
     ]
    },
    {
     "name": "stderr",
     "output_type": "stream",
     "text": [
      "\r",
      "quantiles: 100%|█████████████████████████████████████████████████████████████████████████████████████████████████████████████████████████████████████████████████| 6/6 [02:36<00:00, 26.13s/it]"
     ]
    },
    {
     "name": "stderr",
     "output_type": "stream",
     "text": [
      "\n"
     ]
    },
    {
     "data": {
      "text/html": [
       "<h3>Summary Table for RBO@10</h3>"
      ],
      "text/plain": [
       "<IPython.core.display.HTML object>"
      ]
     },
     "metadata": {},
     "output_type": "display_data"
    },
    {
     "data": {
      "text/html": [
       "<table>\n",
       "<thead><tr>\n",
       "<th>Algorithm\n",
       "<th>Mean\n",
       "<th>Std Dev\n",
       "<th>10%ile\n",
       "<th>Median\n",
       "<th>90%ile\n",
       "<th>Dist. (KDE)\n",
       "</tr></thead>\n",
       "<tbody>\n",
       "<tr><td>locality-cali\n",
       "<td>0.608<br><span style=\"font-size: 75%;\">(0.607,0.609)</span></td>\n",
       "<td>0.126<br><span style=\"font-size: 75%;\">(0.125,0.128)</span></td>\n",
       "<td>0.525<br><span style=\"font-size: 75%;\">(0.525,0.525)</span></td>\n",
       "<td>0.651<br><span style=\"font-size: 75%;\">(0.651,0.651)</span></td>\n",
       "<td>0.651<br><span style=\"font-size: 75%;\">(0.651,0.651)</span></td>\n",
       "<td><img src=\"data:image/png;base64,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\"></td>\n",
       "</tr>\n",
       "<tr><td>mmr\n",
       "<td>0.323<br><span style=\"font-size: 75%;\">(0.322,0.323)</span></td>\n",
       "<td>0.103<br><span style=\"font-size: 75%;\">(0.102,0.103)</span></td>\n",
       "<td>0.235<br><span style=\"font-size: 75%;\">(0.235,0.235)</span></td>\n",
       "<td>0.308<br><span style=\"font-size: 75%;\">(0.307,0.311)</span></td>\n",
       "<td>0.453<br><span style=\"font-size: 75%;\">(0.453,0.453)</span></td>\n",
       "<td><img src=\"data:image/png;base64,iVBORw0KGgoAAAANSUhEUgAAASwAAAAZCAYAAACLvRPfAAAAOXRFWHRTb2Z0d2FyZQBNYXRwbG90bGliIHZlcnNpb24zLjkuMiwgaHR0cHM6Ly9tYXRwbG90bGliLm9yZy8hTgPZAAAACXBIWXMAAA9hAAAPYQGoP6dpAAAHBElEQVR4nO3bf0hT6x8H8PeZ26S5LNnU/LF2qW5YsiIqLPRifk2I/klkWCsryOqPCC5RYD+gICE0SVyIWMQlhJTaXdkPJIr05jVk9i1E4auQt5ncm43a5tevG5vHnc/3D9np7vqjTWdLe17wYcfznPOcz7bDZ8/zuHFERGAYhpkHJJFOgGEYJlisYDEMM2+wgjVDhYWF4DgOWq0WIyMjkU6HYb4LrGDNQFNTE0wmEwBgYGAA586di3BGDPN94Niie2jcbjfS09PR39+PnJwctLS0gOM4vHjxAlu3bo10egyzoLERVoguXryI/v5+aDQaPHjwAAcPHgQRobi4GF6vN9LpMcyCxgpWCLq7u3HlyhUAQHV1NZRKJSorK5GQkICenh5cunQpwhkyzMLGpoRBEgQBWVlZaG9vR35+Pu7duye2mUwmFBYWQiqV4vXr19DpdBHMlGEWLjbCCtKNGzfQ3t4OpVKJq1evBrTp9Xrs2rULY2NjKC4uhs/ni1CWDLOwsYIVBJvNhpKSEgBAaWkpNBpNQDvHcaipqcGSJUvw8uVLGI3GSKTJMAseK1hBOHnyJIaGhrBhwwYcP3580mOSk5NRUVEBADh9+jT279+PtrY2hDTj9vmA334DGhrGH9lIjWECETOt5uZmAkAcx1FHR8e0xwqCQHq9ngCIsXbtWjIajeRwOKa/kNlMlJpKBHyO1NTx/VN49uwZFRQU0OXLl8nlcs3k6THMvMIK1jS8Xi+tWbOGANCxY8eCOkcQBLJYLHTo0CFSKBRi4Vq0aBHl5uZSSUkJmUwmslqtJAjC+ElmMxHHBRYrYHwfx00oWp2dnbRjx46AwpiUlES1tbU0Ojo66+dttVqprKyMzGYz+Xy+WffHMOHCCtY0ysvLCQDFx8d/eYQ0iaGhIaquriadThdQXPyhUqnoXzk5dDQmhsoBMgPUCdD//lm0NBqisTGyWq1UVFREHMcRAJJKpXTgwAHSarVin6tWraL6+voZFRqr1UpHjhwhqVQq9peWlkZ1dXXE83zI/TFMuLGCNYWBgQFxhHTz5s1Z9SUIAnV2dtL169fp6NGjtHHjRpLJZJMWMX9IAVoKUApAqwHa8OOPJJfLxfbdu3fTmzdviIjI4/GQ0Wik+Pj4gKnomTNnqKWlhTwez7T5vX37lg4fPhxQqDIzM2np0qXi3ytWrKBr1659sS+GmUvse1hT0Ov1MJvNyMrKQmtrKziOC2v/Xq8XXV1d+M8vv6CvthZ/APgDQB8AxzTn5eTkoLy8HJs3b57QNjIygqqqKlRUVGB4eFjcr1AosG3bNmzfvh1yuRw2mw0fPnyAzWaDzWbDq1evMDY2BgDIy8vDhQsXkJmZieHhYdTU1KCyshIfP34EACxbtgwFBQXIz89HdnY25HJ5+F4UhvmSUCscz/Of114WqMePHxMAioqKoq6urrm9WEvLhLWr/wI0AFAPQP8G6DlATWVlZLFYgnrtHQ4H1dXVUVFRESUmJk47kvNHXl4etbW1Tdqfy+WiqqoqSk5ODjgnNjaWDAYD3b59mz59+hTmF4ZhJgp5hNXQ0ICzZ8/CYDBg3759SE9PD2P5jDyPxwOdToe+vj6cOHEClZWVc3tBnw/44Qfgr7/Gy9U/cRyQmgpYrUBUVMjdExG6u7vx5MkTtLa2QiaTITExMSBWr14d1Pvo9XrR3NyMxsZG3L9/HzabLaB95cqVyMjIwJYtW5CRkYH169cjOjo65JwZZiohFyz/VMlv3bp12Lt3LwwGA5YvXx72BL+20tJSnD9/HklJSejt7UVsbOzcX/TuXUCvH9/++9vhn4b++itQUDD3eYRAEARYLBY0Njbi4cOH6OnpmXCMRCJBSkoKtFptQKSkpIjFMiEhgRU1JmghFyy3241Hjx6hvr4eTU1N4HlebEtLS4NarYZarYZKpYJKpUJcXBykUunkFw/zulCoeJ6H2+2Gy+WC2+2G2+3GnTt34PF40NDQgD179ny9ZO7eBX7+Gfjzz8/7NBqgquqbK1aTcTqd6OjogMViEcNutwd1blxcHNRqNZRKJRQKBWJiYsSIjo6GTCaDTCaDXC4XtyUSCTiOg0QiEcN/P031ONU+5uvZtGkTsrOzZ3z+rBbdHQ4HzGYzbt26hefPn884iW9Nbm4unj59+vVvap8P+P13YHAQSEoCfvppRtPAbwERYXBwEO/evZsQf1/w9y/2M9+HU6dOib8ImYmw/Zfw/fv36O3thd1uDwin0wlBECYcH6bLzopUKkVMTAwUCoX4yb548WLo9XqoVKpIp7fgCYIAp9MJm80Gu90Ol8slhn/k6/V6wfM8eJ7H6OiouE1EEARBfPT/4JzGv6oj3l+T3Wffwr33vdq5c+esZi7saw0Mw8wb7MfPDMPMG/8HpCLoRFxMexgAAAAASUVORK5CYII=\"></td>\n",
       "</tr>\n",
       "<tr><td>nrms\n",
       "<td>0.608<br><span style=\"font-size: 75%;\">(0.607,0.609)</span></td>\n",
       "<td>0.126<br><span style=\"font-size: 75%;\">(0.125,0.128)</span></td>\n",
       "<td>0.525<br><span style=\"font-size: 75%;\">(0.525,0.525)</span></td>\n",
       "<td>0.651<br><span style=\"font-size: 75%;\">(0.651,0.651)</span></td>\n",
       "<td>0.651<br><span style=\"font-size: 75%;\">(0.651,0.651)</span></td>\n",
       "<td><img src=\"data:image/png;base64,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\"></td>\n",
       "</tr>\n",
       "<tr><td>pfar\n",
       "<td>0.608<br><span style=\"font-size: 75%;\">(0.607,0.609)</span></td>\n",
       "<td>0.126<br><span style=\"font-size: 75%;\">(0.124,0.128)</span></td>\n",
       "<td>0.525<br><span style=\"font-size: 75%;\">(0.525,0.525)</span></td>\n",
       "<td>0.651<br><span style=\"font-size: 75%;\">(0.651,0.651)</span></td>\n",
       "<td>0.651<br><span style=\"font-size: 75%;\">(0.651,0.651)</span></td>\n",
       "<td><img src=\"data:image/png;base64,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\"></td>\n",
       "</tr>\n",
       "<tr><td>softmax\n",
       "<td>0.372<br><span style=\"font-size: 75%;\">(0.371,0.373)</span></td>\n",
       "<td>0.145<br><span style=\"font-size: 75%;\">(0.145,0.146)</span></td>\n",
       "<td>0.173<br><span style=\"font-size: 75%;\">(0.172,0.176)</span></td>\n",
       "<td>0.381<br><span style=\"font-size: 75%;\">(0.380,0.384)</span></td>\n",
       "<td>0.552<br><span style=\"font-size: 75%;\">(0.552,0.553)</span></td>\n",
       "<td><img src=\"data:image/png;base64,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\"></td>\n",
       "</tr>\n",
       "<tr><td>topic-cali\n",
       "<td>0.608<br><span style=\"font-size: 75%;\">(0.607,0.609)</span></td>\n",
       "<td>0.126<br><span style=\"font-size: 75%;\">(0.124,0.128)</span></td>\n",
       "<td>0.525<br><span style=\"font-size: 75%;\">(0.525,0.525)</span></td>\n",
       "<td>0.651<br><span style=\"font-size: 75%;\">(0.651,0.651)</span></td>\n",
       "<td>0.651<br><span style=\"font-size: 75%;\">(0.651,0.651)</span></td>\n",
       "<td><img src=\"data:image/png;base64,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\"></td>\n",
       "</tr>\n",
       "</tbody>\n",
       "</table>\n"
      ],
      "text/plain": [
       "<IPython.core.display.HTML object>"
      ]
     },
     "metadata": {},
     "output_type": "display_data"
    }
   ],
   "source": [
    "for metric in overlap_metrics:\n",
    "    tw = EvalTable(mind_small_user_metrics, \"recommender\", metric, progress=notebook_tqdm)\n",
    "    tw.add_stat(\"Mean\", np.mean, ci=True)\n",
    "    tw.add_stat(\"Std Dev\", np.std, ci=True)\n",
    "    tw.add_quantiles([\"10%ile\", \"Median\", \"90%ile\"], [0.1, 0.5, 0.9], ci=True)\n",
    "    display(HTML(f\"<h3>Summary Table for {metric}</h3>\"))\n",
    "    display(HTML(tw.html_table()))"
   ]
  }
 ],
 "metadata": {
  "jupytext": {
   "formats": "ipynb,md:myst"
  },
  "kernelspec": {
   "display_name": "Python 3 (ipykernel)",
   "language": "python",
   "name": "python3"
  },
  "language_info": {
   "codemirror_mode": {
    "name": "ipython",
    "version": 3
   },
   "file_extension": ".py",
   "mimetype": "text/x-python",
   "name": "python",
   "nbconvert_exporter": "python",
   "pygments_lexer": "ipython3",
   "version": "3.11.10"
  }
 },
 "nbformat": 4,
 "nbformat_minor": 5
}
