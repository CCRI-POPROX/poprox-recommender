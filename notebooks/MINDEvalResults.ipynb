{
 "cells": [
  {
   "cell_type": "markdown",
   "metadata": {},
   "source": [
    "# Offline Evaluation Metrics Visualizations\n",
    "This notebook visualizes user-specific performance metrics of various recommenders in the MIND validation dataset to assess effectiveness and ranking overlap. We explore two metric groups:\n",
    "1. **Effectiveness Metrics**: We use ranking-based metrics, Normalized Discounted Cumulative Gain (NDCG) and Mean Reciprocal Rank (MRR), to evaluate recommender effectiveness.\n",
    "2. **Ranking Overlap Metrics**: We use Rank-Based Overlap (RBO) to assess consistency in top-k recommendations relative to fianl rankings."
   ]
  },
  {
   "cell_type": "markdown",
   "metadata": {},
   "source": [
    "## 1. Setup"
   ]
  },
  {
   "cell_type": "markdown",
   "metadata": {},
   "source": [
    "### 1. 1 Importing Libraries"
   ]
  },
  {
   "cell_type": "markdown",
   "metadata": {},
   "source": [
    "PyData packages:"
   ]
  },
  {
   "cell_type": "code",
   "execution_count": 5,
   "metadata": {},
   "outputs": [],
   "source": [
    "import numpy as np\n",
    "import pandas as pd\n",
    "import matplotlib.pyplot as plt\n",
    "import seaborn as sns\n",
    "from scipy.stats import sem, t"
   ]
  },
  {
   "cell_type": "markdown",
   "metadata": {},
   "source": [
    "Local code:"
   ]
  },
  {
   "cell_type": "code",
   "execution_count": 6,
   "metadata": {},
   "outputs": [],
   "source": [
    "from poprox_recommender.eval_tables import EvalTable\n",
    "from IPython.display import HTML"
   ]
  },
  {
   "cell_type": "markdown",
   "metadata": {},
   "source": [
    "### 1. 2 Loading Data"
   ]
  },
  {
   "cell_type": "code",
   "execution_count": 18,
   "metadata": {},
   "outputs": [
    {
     "data": {
      "text/html": [
       "<div>\n",
       "<style scoped>\n",
       "    .dataframe tbody tr th:only-of-type {\n",
       "        vertical-align: middle;\n",
       "    }\n",
       "\n",
       "    .dataframe tbody tr th {\n",
       "        vertical-align: top;\n",
       "    }\n",
       "\n",
       "    .dataframe thead th {\n",
       "        text-align: right;\n",
       "    }\n",
       "</style>\n",
       "<table border=\"1\" class=\"dataframe\">\n",
       "  <thead>\n",
       "    <tr style=\"text-align: right;\">\n",
       "      <th></th>\n",
       "      <th>user_id</th>\n",
       "      <th>recommender</th>\n",
       "      <th>NDCG@5</th>\n",
       "      <th>NDCG@10</th>\n",
       "      <th>MRR</th>\n",
       "      <th>RBO@5</th>\n",
       "      <th>RBO@10</th>\n",
       "      <th>personalized</th>\n",
       "    </tr>\n",
       "  </thead>\n",
       "  <tbody>\n",
       "    <tr>\n",
       "      <th>0</th>\n",
       "      <td>bf5bb199-a039-5d82-812b-a7f69df5788a</td>\n",
       "      <td>nrms</td>\n",
       "      <td>1.00000</td>\n",
       "      <td>1.00000</td>\n",
       "      <td>0.500000</td>\n",
       "      <td>0.409510</td>\n",
       "      <td>0.651322</td>\n",
       "      <td>True</td>\n",
       "    </tr>\n",
       "    <tr>\n",
       "      <th>1</th>\n",
       "      <td>bf5bb199-a039-5d82-812b-a7f69df5788a</td>\n",
       "      <td>mmr</td>\n",
       "      <td>0.63093</td>\n",
       "      <td>0.63093</td>\n",
       "      <td>0.333333</td>\n",
       "      <td>0.337510</td>\n",
       "      <td>0.501731</td>\n",
       "      <td>True</td>\n",
       "    </tr>\n",
       "    <tr>\n",
       "      <th>2</th>\n",
       "      <td>bf5bb199-a039-5d82-812b-a7f69df5788a</td>\n",
       "      <td>pfar</td>\n",
       "      <td>1.00000</td>\n",
       "      <td>1.00000</td>\n",
       "      <td>0.500000</td>\n",
       "      <td>0.409510</td>\n",
       "      <td>0.651322</td>\n",
       "      <td>True</td>\n",
       "    </tr>\n",
       "    <tr>\n",
       "      <th>3</th>\n",
       "      <td>bf5bb199-a039-5d82-812b-a7f69df5788a</td>\n",
       "      <td>topic-cali</td>\n",
       "      <td>1.00000</td>\n",
       "      <td>1.00000</td>\n",
       "      <td>0.500000</td>\n",
       "      <td>0.409510</td>\n",
       "      <td>0.651322</td>\n",
       "      <td>True</td>\n",
       "    </tr>\n",
       "    <tr>\n",
       "      <th>4</th>\n",
       "      <td>bf5bb199-a039-5d82-812b-a7f69df5788a</td>\n",
       "      <td>softmax</td>\n",
       "      <td>1.00000</td>\n",
       "      <td>1.00000</td>\n",
       "      <td>1.000000</td>\n",
       "      <td>0.232938</td>\n",
       "      <td>0.435088</td>\n",
       "      <td>True</td>\n",
       "    </tr>\n",
       "  </tbody>\n",
       "</table>\n",
       "</div>"
      ],
      "text/plain": [
       "                                user_id recommender   NDCG@5  NDCG@10  \\\n",
       "0  bf5bb199-a039-5d82-812b-a7f69df5788a        nrms  1.00000  1.00000   \n",
       "1  bf5bb199-a039-5d82-812b-a7f69df5788a         mmr  0.63093  0.63093   \n",
       "2  bf5bb199-a039-5d82-812b-a7f69df5788a        pfar  1.00000  1.00000   \n",
       "3  bf5bb199-a039-5d82-812b-a7f69df5788a  topic-cali  1.00000  1.00000   \n",
       "4  bf5bb199-a039-5d82-812b-a7f69df5788a     softmax  1.00000  1.00000   \n",
       "\n",
       "        MRR     RBO@5    RBO@10  personalized  \n",
       "0  0.500000  0.409510  0.651322          True  \n",
       "1  0.333333  0.337510  0.501731          True  \n",
       "2  0.500000  0.409510  0.651322          True  \n",
       "3  0.500000  0.409510  0.651322          True  \n",
       "4  1.000000  0.232938  0.435088          True  "
      ]
     },
     "execution_count": 18,
     "metadata": {},
     "output_type": "execute_result"
    }
   ],
   "source": [
    "mind_val_user_metrics = pd.read_csv('../outputs/mind-val-user-metrics.csv.gz')\n",
    "mind_val_user_metrics.head()"
   ]
  },
  {
   "cell_type": "code",
   "execution_count": 19,
   "metadata": {},
   "outputs": [],
   "source": [
    "metrics = ['NDCG@5', 'NDCG@10', 'MRR', 'RBO@5', 'RBO@10']"
   ]
  },
  {
   "cell_type": "markdown",
   "metadata": {},
   "source": [
    "## 2. Results"
   ]
  },
  {
   "cell_type": "markdown",
   "metadata": {},
   "source": [
    "### 2. 1 Effectiveness Metrics\n",
    "NDCG@5 shows how well the top 5 recommendations match user preferences, while NDCG@10 looks at the top 10. Comparing them helps us see how performance changes with longer recommendation lists. Likewise, MRR evaluates how quickly the most relevant item appears in the recommendations."
   ]
  },
  {
   "cell_type": "code",
   "execution_count": 20,
   "metadata": {},
   "outputs": [
    {
     "data": {
      "image/png": "[encoded data removed]",
      "text/plain": [
       "<Figure size 1200x300 with 3 Axes>"
      ]
     },
     "metadata": {},
     "output_type": "display_data"
    }
   ],
   "source": [
    "plt.figure(figsize=(12, 3))\n",
    "plt.subplots_adjust(wspace=0.3)\n",
    "\n",
    "for i, metric in enumerate(metrics[:3], 1):\n",
    "    plt.subplot(1, 3, i)\n",
    "    sns.barplot(data=mind_val_user_metrics, x='recommender', y=metric)\n",
    "    plt.xticks(fontsize=8)\n",
    "    plt.ylim(0, 1)\n",
    "\n",
    "\n",
    "plt.show()\n"
   ]
  },
  {
   "cell_type": "markdown",
   "metadata": {},
   "source": [
    "The summary tables show the mean values and 95% confidence intervals for effectiveness metrics across recommenders."
   ]
  },
  {
   "cell_type": "code",
   "execution_count": 21,
   "metadata": {},
   "outputs": [
    {
     "name": "stderr",
     "output_type": "stream",
     "text": [
      "Mean: 100%|██████████| 5/5 [04:53<00:00, 58.64s/it]\n"
     ]
    },
    {
     "data": {
      "text/html": [
       "<h3>Summary Table for NDCG@5</h3>"
      ],
      "text/plain": [
       "<IPython.core.display.HTML object>"
      ]
     },
     "metadata": {},
     "output_type": "display_data"
    },
    {
     "data": {
      "text/html": [
       "<table>\n",
       "<thead><tr>\n",
       "<th>Algorithm\n",
       "<th>Mean\n",
       "<th>Dist. (KDE)\n",
       "</tr></thead>\n",
       "<tbody>\n",
       "<tr><td>mmr\n",
       "<td>0.360<br><span style=\"font-size: 75%;\">(0.358,0.362)</span></td>\n",
       "<td><img src=\"data:image/png;base64,iVBORw0KGgoAAAANSUhEUgAAASwAAAAZCAYAAACLvRPfAAAAOXRFWHRTb2Z0d2FyZQBNYXRwbG90bGliIHZlcnNpb24zLjkuMiwgaHR0cHM6Ly9tYXRwbG90bGliLm9yZy8hTgPZAAAACXBIWXMAAA9hAAAPYQGoP6dpAAAG5UlEQVR4nO2cT0wT6RvHP/1Hx0JbiImkYzEEDPEkoV4kcVGJUZqgiWYPxsQQs3szEY0XMfHCmRjXE55EE2+LxgjBoonoxnDRhoseSDYrWqgpkNIOY2lhOr+Dv5ltqawilL/vJ/lm3g7TeZ++88533veZGSy6rusIBALBJsC63gEIBALBjyIMSyAQbBqWbVjnzp3DYrFgsVjYuXMn7e3tjIyMFCE0gUAgyMey3BzW6OgoPT093Lt3j4mJCXN9Q0MDly9f5vz581gsllUPVCAQCJZtWAaapjE4OMjdu3d5/PgxmUwGgCtXrtDV1YXVKmabAoFgdflpw8plenqa27dv09nZCcDZs2fp6enB6XSuOECBQCAwWBXDMnjw4AEXLlxgfn6e5uZmHj16hMfjWa3dCwSCbc6qGhbAs2fPOHPmDLOzs9TX1zMwMIDP51vNKgQCwTZl1Q0LIBwOEwwGicViVFdXEwqFqKurW+1qBALBNqMomfFAIMDw8DB79+7lw4cPHDp0iHA4XIyqBALBNqJot/Jqamp4/fo1gUCAyclJjhw5wsuXL4tVnUAg2AYU9dmDXbt28eLFCw4fPoyiKLS0tPDkyZNiVikQCLYwRX9YyuPx8PTpU06dOsXc3BynT5/m/v37xa5WIBBsQdbk6U5Jkujt7aWtrQ1N02hra6OrqwvxjyIEgu1DMpkkkUisaB9FuUu4FNlslqtXr3Lr1i0AmpqauHPnDvv27VurEAQCQRFJJpMMDQ3x/v17Pn78mKdEIkFnZyc3btz46f3bVzHW72K1Wrl58yY1NTVcu3aNV69esX//fjo6Oujo6ECSpLUMZ/OiafDXXxCNgs8Hv/wCNtt6RyXYhmSzWcLhMKFQiFAoxPDwMAsLC0tuH4vFVlTfmo6wchkbG+PixYv09/cDUFdXR3d3N0ePHl2PcDYPDx9CeztEIv+u8/vhjz/gzJmiVKnrOqlUCkVRUFWVTCbD/Py8qYWFBZxOJ6WlpabKysooKSkRL8JvQSYnJwmFQgwMDDA4OMjU1FTe32tra2lsbKS6upo9e/aYqqqqoqysbEV1r5thwdcTobe3l0uXLhGNRgE4cOAAra2tnDx5koaGBvESdS4PH8Kvv8LiQ2aYwp9/ftO0stksyWSSeDzOzMwM8Xg8rzwzM2MqkUiY5WQySTKZRFEUNE1bdrhOpxOfz4csy+zevRtZlpFlGb/fj9/vp6qqClmWxTunGxxFURgZGeH58+cMDAzw5s2bvPyz2+2mubmZEydOcPz4cWpra4sWy7oalkEikeD69et0d3eTzWbN9T6fj9bWVpqampBlGZ/Ph8/nw+v1rvjKres6mqbljRSM0YIhTdPMcjabXVK6rpsH8EebMzf+xb9F13Wy2Syapv2rTIaF338nNT3NHJhKAbNAEki6XCjHjpFUFBKJhGlGiUQir11/FovFgsvlwuFw5Mlut5NOp1FV1RyBLYfKykpkWaaioqJAJSUlWK1WLBaLuQTIZDKm0uk0mUwGTdMKjg18NU5JksylJEmUlpbidrvxeDx4PB7cbneeJEnadqNDVVWJRqOMjY0xMjLC27dvCYfDjI6OFvTr+vp6gsEgwWCQxsZGHA7HmsS4IQzLIBaL0d/fT19fH6FQCFVVv7mdJElUVlbidDqxWq3YbDZTQIHx5BqSMZ1Z7km1FZAkKc8MysvL85Zer5fy8nLKy8vxer14vV7zpHa73ZSWlv7QiHdhYQFVVYnH40SjUcbHx5mYmGBiYoLx8XEikQifPn0iEomQTqfX4JcvH5vNRllZGW63G5fLZRqdIafTic1mw263m33PKBvmaijXbA391+fF3/nWPhZ/HzDLxgUvV5qmkUqlCjQ9PU00GiUajaIoypLt4ff7OXjwIMFgkJaWFmRZXqtDkceGMqxc0uk0Q0ND9PX18e7dO7NRV3pb9HvY7XYcDkdeB7Tb7XnG+F8dEQpHTIvJbfKlmn+xEdtmZrD//Tc7AGmR3IDn/3L/9hueY8fweDwFxrTRpl66rjM1NUUkEiEajRZMVePxOPPz8+YJaCzh66ippKTElDHSyzUKm82Gruuk02nS6TRzc3OmVFXNm/Ia5S9fvqxzq6wvLpcLWZapr68nEAgQCARoaGigsrJyvUMDNrBhLUUqleLz58/EYjEymUze1Mno1EbnNWSz2fI6tsPhyCsbMq6OG5KhIfiRGxIvXsCRI8WOZsuiaRqqqqIoCrOzsyiKQiqVMo0u1/iMfpebPshNEyxOG+SmD75XXs62gLlO1/WCEZ6hHTt2FKiiosJMtfh8Ptxu98Y9B9iEhrVt0TSorobx8cKkO3xNvPv98M8/4hEHwZZFGJZAINg0/A+ALfXaY6Q2UAAAAABJRU5ErkJggg==\"></td>\n",
       "</tr>\n",
       "<tr><td>nrms\n",
       "<td>0.452<br><span style=\"font-size: 75%;\">(0.450,0.453)</span></td>\n",
       "<td><img src=\"data:image/png;base64,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\"></td>\n",
       "</tr>\n",
       "<tr><td>pfar\n",
       "<td>0.453<br><span style=\"font-size: 75%;\">(0.452,0.455)</span></td>\n",
       "<td><img src=\"data:image/png;base64,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\"></td>\n",
       "</tr>\n",
       "<tr><td>softmax\n",
       "<td>0.418<br><span style=\"font-size: 75%;\">(0.417,0.420)</span></td>\n",
       "<td><img src=\"data:image/png;base64,iVBORw0KGgoAAAANSUhEUgAAASwAAAAZCAYAAACLvRPfAAAAOXRFWHRTb2Z0d2FyZQBNYXRwbG90bGliIHZlcnNpb24zLjkuMiwgaHR0cHM6Ly9tYXRwbG90bGliLm9yZy8hTgPZAAAACXBIWXMAAA9hAAAPYQGoP6dpAAAHwUlEQVR4nO2cXUhUWxvHf3s7o+N2dHRyJlLHjlKSJmlfSPTBgSgoCKPCLpSCLkLootsgiILuPZRB0aEoEsM6FUGRB6qLAiELUhjtywRN5TjajI7j6Hzt96Kz9zuj9qUzWqf1gz9rzZ5xrUf32s+z1rOWI6mqqiIQCAQ/AfJCGyAQCATfinBYAoHgp+G7Hdbu3buRJAlJkqioqODu3btEIpFE2CYQCAQxfLfDqq+v5+jRo6SmpvLs2TMqKyspLy/n+vXrhMPhRNgoEAgEAEizTboPDg5SV1fHuXPn8Hq9AKxevZrm5mZsNltcjRQIBAKYg8PScLvd1NfXU1dXh9vtZs2aNTx69AiLxRIvGwUCgQCIg8PSePXqFVu2bMHlcrFp0yaam5tRFCUeTQsEAgEQx13CFStW0NzcjMVi4enTp+zdu5dAIBCv5gUCgSC+xxpWr17NvXv3UBSFBw8eUFNTIxLxAoEgbsT9HNbGjRu5ffs2ycnJ3Lhxg8OHD4tjDwKBIC4k5ODo9u3baWxsRJZlLl26xJEjR4TTEggEcyZhJ9337NnD5cuXkSSJ8+fPc+jQIUKhUKK6EwgEvwBx2yX8HA0NDRw8eJBwOExVVRXXrl3DaDQmskuBQPAD4ff7cTqdtLW1UV5eztq1a2fdliGOds1IdXU1iqKwf/9+mpqa8Pv9NDU1YTKZEt21YCbCYXjyBAYGYMkS2LwZkpIW2irBfwRVVWlpaeHJkye0tbXR1tbG69ev9c23Y8eOzclhoc4T9+/fV00mkwqo27ZtU8fGxuara4HGX3+pal6eqsL/lZf36bpAMAfcbrd65swZtaSkRAWmKTs7W926dat68eLFOfWT8CVhNI8fP2bXrl34fD7Wr1/P2bNnqaiomK/uf21u3YJ9+z65qWgk6VN58ybs2fPFJlRVZXx8nNHRUUZGRhgdHWV0dBSv14vRaCQ9PT1GWVlZpKSkJOgXEiw0qqrS2trKhQsXaGxsxO/3A6AoCjt37mTNmjWUlZVRVlZGTk4OkjbW5sC8OiyAlpYWduzYwcjICACVlZWcPn2a0tLS+TTj1yIcht9+gw8fpr01CfwDuBYvZvDPPxkcHsblcjE4ODijJicnv7lbSZIoKCiguLiYkpISiouLdSXyX7dUVWVychKfz0c4HMZqtWIwJDz78cvQ19dHQ0MDV69exel06tdLS0upra2lpqYmYfd33h0WQE9PDydPnuTKlStEIhEkSaK6uppTp05RWFg43+b8JwkEAgwMDNDf30/f33/Td/Ik/cDAv9Lq7lm0LcsyGRkZWCwWMjIyMJvNBINBvF6vrrGxMb40tPLy8li5ciUlJSWsXLmSoqIirFYrmZmZZGZmoiiKHpFDoRAjIyO43W48Hg9DQ0P09vbG6MOHD4yMjODz+fD5fNOO0VitVmw2GzabDbvdTn5+PsuXL6eoqIjly5fjcDiQZfH1cJ/D6/Vy584drl69ysOHD/V7m5KSQlVVFbW1tWzYsCEus6gvsSAOS6Ozs5MTJ05w8+ZNAAwGA2VlZaxatSpG2dnZ39ReJBJhYmKC8fFxfD4f4+PjuqJfR9f9fr+uiYkJ/H4/gUCAYDAYo8+dI5NlGYPBgMFgICkpSa/P9FqWZZKSkqYp+rPR12VZRpZlJElClmV95hAIBPRyYmICj8fD8PAwQ0NDDA8PMzw8jMfj+eb7YADsgH3pUmxFRdjtdmw2G4sXL8Zut8coOzubtLS0rw7MSCSCy+Wis7NTV0dHB52dnfT393/dJoMBi8VCIBDQvw0kkZhMJgoLC1m6dCkOhwOHw0F+fj4OhwObzUZ6ejoZGRmkp6f/52drgUCA9vZ2WltbaW1t5fnz5zidzphnYPPmzRw4cIB9+/aRmZk5b7YtqMPSePHiBcePH6e5uXnG99PS0jAajRgMBoxGo17XHtjJyUkmJiYIBoPzbPmPjdFoJCcnh1yzmRynkxwgB1gyRVZAAnj8GH7/PeF2eTweOjo6cDqdetnd3Y3H48Hj8Xz2vJ7ZbCYrKwur1UpeXp7uWLS61WpFURTS0tJIS0tDURRkWWb432WupsHBQbq7u3nz5g1v376lq6vru8aOyWTCbDbPGJy0AKMFmc+VX5MWsLQyuq8vyWg0xgQ7rS5JEuFwmFAoFCOv18vQ0FCMXC7XjH+PZcuWceDAAWpqaigoKJj1/Z8LP4TD0nj//j0vX76kvb1dV1dX16zaMplMKIqCoiikpqbGDGJtUKempk6TyWQiOTmZ5ORk3Tlqg2AqqqoSDof1gRA9IKZe02Zp2uenaurPq6pKJBLRFT0FT0lJITk5Wa9bLBYWLVqkS1v+LFq06NMyR8th9fVNT7rDp8R7Xh50dy/4EQctsa85r5SUFH2ZmKiZTSgUoqenh3fv3tHb20tPT09M+fHjR7xe73fl7352rFYr69evZ926dXqZm5u70Gb9WA5rJsbGxnSPHwwG9eVaKBTSH1iTyRSj1NTUGR3ML422SwixTus7dgl/dbTlqdfrxefzTQtOoVBIDy6aogOO9loLdFODkhbQptajg1q0gsEg4XBYfx6i0xdT21RVddpsLCkpCbPZTHZ2dozsdju5ubkJz0fNhh/eYQniyK1bcPRo7G6hwwF//CGcleCnQDgsgUDw0/A/cqucOgmuh8oAAAAASUVORK5CYII=\"></td>\n",
       "</tr>\n",
       "<tr><td>topic-cali\n",
       "<td>0.453<br><span style=\"font-size: 75%;\">(0.452,0.455)</span></td>\n",
       "<td><img src=\"data:image/png;base64,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\"></td>\n",
       "</tr>\n",
       "</tbody>\n",
       "</table>\n"
      ],
      "text/plain": [
       "<IPython.core.display.HTML object>"
      ]
     },
     "metadata": {},
     "output_type": "display_data"
    },
    {
     "name": "stderr",
     "output_type": "stream",
     "text": [
      "Mean: 100%|██████████| 5/5 [04:57<00:00, 59.50s/it]\n"
     ]
    },
    {
     "data": {
      "text/html": [
       "<h3>Summary Table for NDCG@10</h3>"
      ],
      "text/plain": [
       "<IPython.core.display.HTML object>"
      ]
     },
     "metadata": {},
     "output_type": "display_data"
    },
    {
     "data": {
      "text/html": [
       "<table>\n",
       "<thead><tr>\n",
       "<th>Algorithm\n",
       "<th>Mean\n",
       "<th>Dist. (KDE)\n",
       "</tr></thead>\n",
       "<tbody>\n",
       "<tr><td>mmr\n",
       "<td>0.505<br><span style=\"font-size: 75%;\">(0.502,0.507)</span></td>\n",
       "<td><img src=\"data:image/png;base64,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\"></td>\n",
       "</tr>\n",
       "<tr><td>nrms\n",
       "<td>0.547<br><span style=\"font-size: 75%;\">(0.546,0.549)</span></td>\n",
       "<td><img src=\"data:image/png;base64,iVBORw0KGgoAAAANSUhEUgAAASwAAAAZCAYAAACLvRPfAAAAOXRFWHRTb2Z0d2FyZQBNYXRwbG90bGliIHZlcnNpb24zLjkuMiwgaHR0cHM6Ly9tYXRwbG90bGliLm9yZy8hTgPZAAAACXBIWXMAAA9hAAAPYQGoP6dpAAAJ/klEQVR4nO2cbWyTVRvHf11f1nbr3OiK7ehes3VsiyCREHVDnsfggplVUGpU1GBCUKdoghKNRBOjX9QIfjCRhCEuOEcCkgCBwJKhiMSIIiPKCE7cS+c2cKNbR++268t5Pozerg55HGs3Xu5f8s+5c9/pua5z2l7nnOucViWEECgoKChcB6RMtwMKCgoK/xYlYCkoKFw3TDhgPfjgg6hUKlQqFffeey9Hjx5Nhl8KCgoK45hwwPrkk0+ora1Fq9Xy1VdfUVVVxZIlS/jhhx+S4Z+CgoKCjOpqk+6dnZ28++67bN26lUgkAsBjjz1GfX09Op0uoU4qKCgowCQCVoyzZ8/yzjvvsG3bNqLRKI8//jiff/45KSlKekxBQSGxTDpgxWhqaqKmpoZwOMzatWv58MMPE1GtgoKCgkzCpkHV1dVs3boVgA0bNigBS0FBAYBgMMjBgwd58cUXOXz48KTq0iTIJwCefPJJ+vr6WLduHa+++ipWq5UVK1Yk0oSCgsJ1wPnz59m3bx979+6lqakJn88HQDQaZdGiRVddb0IDFsArr7xCT08PGzduZOXKlVgsFqqrqxNt5qZECIFKpZpuNxQU/pHOzk6ee+45Dh48yNhsU05ODg888AAul2tS9ScshzWWaDTKihUr2L59O+np6TQ3N7NgwYJEm7khcbvdHDp0iPb2drq7u3G73XR3d9Pd3Y3X68VoNGI0GklLS5OVk5NDYWGhrIKCAoqKikhLS5vu5ijcRDQ0NFBbW4vX6wXgjjvuwOl04nQ6mTdvXkIG26QELBhdt9bU1NDc3IzJZGL//v1UVVUlw9R1TTgc5rvvvmPfvn3s37+fn3/+OWF15+fnU1FRQXl5OeXl5VRUVFBWVobJZEqYDQWFwcFBXnjhBb744gsA7rrrLj777DMcDkfCbSUtYAEMDw/jdDo5fPgwRqOR3bt3s3jx4mSZu24QQnDkyBG2bNnC7t27GRoakp+lpKSwYMEC5syZQ25uLna7XVZmZiZ+vx+fz4fP50OSJIaHh3G73XR0dNDe3i7L4/H8o3273U5ZWRnl5eWUlZXhcDiw2WzYbDYyMjImNBIKIQgGg6SmpirL1ZuQb775hqeeeoquri7UajVvvvkm69evR6NJeLYJSHLAApAkiUceeYQDBw6g0+nYuXMnTqczmSavWXp7e6mvr+fTTz+lra1Nvm82m1myZAk1NTVUV1djNpsnbau/v5/W1lZZp06d4tSpU5w7d+6Kr9Pr9VitVqxWK1qtlnA4HKeRkRH8fj+SJCFJEn6/HyEEer2e3NxcWXl5eRQXF3Pfffdhs9kubywSgSNHoLcXbDZYuBDU6km3XSH5SJLEW2+9xYYNGxBCUFRURENDA3feeWdyDYspIBAIiGXLlglAaDQasX379qkwe03g9XpFQ0ODcDqdQq1WC0AAIj09XaxatUp8++23IhwOT5k/Fy5cEEePHhV1dXVi7dq14v777xelpaUiIyND9i3Rmj9/vnj77bfFTz/9JKLR6KgjX34phN0uBPwlu330foIIh8Oiv79f+P3+v+wqTJrm5mZRVFQkv78rV64UXq93SmwnfYYVIxwO88wzz8in4D/++GNWr16N+gYcUb1eL3v37mXHjh0cOHCAYDAoP7v77rtZtWoVLpeL9PT0afRyPJIk0dfXJ0sIgVqtRqPRyNJqtaSlpcnJf4PBgF6vZ2BgALfbjdvtpqurC7fbzfHjx8f9xnTWrFk4KypY2tTEf4DUsQ9jS8qdO+Hhh/+138FgkBMnTtDa2sqvv/4q67fffpP7XqPRkJGRgclkwmQyUVhYyO233y6rsLBQWdL+HwYHB1m3bh11dXXAaGph06ZN1NTUTJ0TUxIWLxGJRMTq1avlyFxSUiI2bdokJEmaMh+i0aiIRCIiFAqJSCQy6fp8Pp84duyYqKurEy+99JJYtGiRSE1NjZthOBwOsX79etHa2pqAFlxf9PT0iM2bN4uHHnpIGI3GuH4xgXgURAOIC7FZlkolRG6uEFeYdfb394s9e/aI1157TVRWVo7r76tRRkaGWLhwoVizZo2oq6sTP/74o/D7/VPYU9cuwWBQNDY2CpvNJvfX888/L4aGhqbclymbYcUQQvDee+/x/vvvy4lhi8XCmjVrqK2t/df5GyEEHo9HHs1jZV9fHxcuXGBgYEAuBwcHCYfDXK6pBoMh7qiA0WhEr9fLM4eYVCpVXLLb5/MxNDRER0cH0Wh0XL2lpaW4XC5cLhe33XabMnoDfr+fQx99xJ433mAP0Pe359lAwSXlP/oo+VVVSJIkH++IHfE4f/78uLotFgvz5s2jtLQUh8Mha9asWfLmhNfrZXh4mKGhIc6cOUNLSwstLS388ssvjIyMjKtTrVYze/ZsSktLycvLIz8/n7y8PPLy8rDb7cyYMeOG/aG/EILjx49TX19PY2MjAwMDADgcDjZv3sw999wzLX5NecCKcfHiRbZs2cLGjRvp7OwERhO+BQUFZGdnk52djcViITs7Gxg9OTtW586dQ5Kk6XB9HBaLhblz5zJnzhzmzp3L/PnzKSsrU4LU5WhshCeeIAocA3Zf0ukJVjN79mwqKyupqqqisrKS4uLiq+7vUCjE6dOnaWlp4eTJk3IZ+5JeCYPBQGZmJllZWWRmZmIymeLOyMWUmpqKXq+PK3U6nbzM1mq1cdcx6XQ6tFoter1eHlCTsSMbjUbp6emhra2N77//nm3bttHa2io/t1qtPPvss7z++uvo9fqE2p4I0xawYoTDYXbs2MEHH3zAiRMnJvx6i8UStzNls9kwm82YzWZmzJiB2WwmKysLnU4n//FgSkoKKpWKcDgs73bFZk2SJBEIBPD7/QQCAflaCBH3ATQajaSnp1NSUoLVak1Cz9ygfP01/Pe/424PAh1A56WyY/lyuqJRjEaj/P7a7XZyc3PJz88nKysrqW4KIejp6eHkyZP8/vvvdHV1yers7KS3t/eyM/apICUlRV4RxHJyY5WWlha3OjAYDOh0OkZGRmQFg0GCwSC9vb20tbVx9uxZ/H5/nB29Xs+yZct4+umnWbx4cdKOKkyEaQ9YMYQQnDlzht7eXvr7+2X9+eefAMycOZNbb72VmTNnysrJycFgMEyz5woTIhKBggL444/RrNXfUanAbof29mv6iEM0GsXr9eLxeBgcHMTj8eDxeLh48aKcOhibQggEAgSDwbgyFAoRCoUIh8Nx5ViNjIwQCoUIBAKXXbYmEo1GQ2FhIQ6Hg6VLl+JyubjllluSanOiXDMBS+EmYtcuWL589Hrsx+8qdwlvFkKhUNzBYZ/Px/Dw8DjFAuRYjYyMyEvM2HJUp9NhsVgoKSmhuLiY/Px8tFrtdDfziigBS2F62LULXn4Zurv/upebCx99pAQrhX9ECVgKCgrXDf8D5C1I9kQONLIAAAAASUVORK5CYII=\"></td>\n",
       "</tr>\n",
       "<tr><td>pfar\n",
       "<td>0.549<br><span style=\"font-size: 75%;\">(0.548,0.551)</span></td>\n",
       "<td><img src=\"data:image/png;base64,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\"></td>\n",
       "</tr>\n",
       "<tr><td>softmax\n",
       "<td>0.517<br><span style=\"font-size: 75%;\">(0.516,0.519)</span></td>\n",
       "<td><img src=\"data:image/png;base64,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\"></td>\n",
       "</tr>\n",
       "<tr><td>topic-cali\n",
       "<td>0.549<br><span style=\"font-size: 75%;\">(0.548,0.551)</span></td>\n",
       "<td><img src=\"data:image/png;base64,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\"></td>\n",
       "</tr>\n",
       "</tbody>\n",
       "</table>\n"
      ],
      "text/plain": [
       "<IPython.core.display.HTML object>"
      ]
     },
     "metadata": {},
     "output_type": "display_data"
    },
    {
     "name": "stderr",
     "output_type": "stream",
     "text": [
      "Mean: 100%|██████████| 5/5 [04:51<00:00, 58.33s/it]\n"
     ]
    },
    {
     "data": {
      "text/html": [
       "<h3>Summary Table for MRR</h3>"
      ],
      "text/plain": [
       "<IPython.core.display.HTML object>"
      ]
     },
     "metadata": {},
     "output_type": "display_data"
    },
    {
     "data": {
      "text/html": [
       "<table>\n",
       "<thead><tr>\n",
       "<th>Algorithm\n",
       "<th>Mean\n",
       "<th>Dist. (KDE)\n",
       "</tr></thead>\n",
       "<tbody>\n",
       "<tr><td>mmr\n",
       "<td>0.313<br><span style=\"font-size: 75%;\">(0.312,0.314)</span></td>\n",
       "<td><img src=\"data:image/png;base64,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\"></td>\n",
       "</tr>\n",
       "<tr><td>nrms\n",
       "<td>0.372<br><span style=\"font-size: 75%;\">(0.370,0.373)</span></td>\n",
       "<td><img src=\"data:image/png;base64,iVBORw0KGgoAAAANSUhEUgAAASwAAAAZCAYAAACLvRPfAAAAOXRFWHRTb2Z0d2FyZQBNYXRwbG90bGliIHZlcnNpb24zLjkuMiwgaHR0cHM6Ly9tYXRwbG90bGliLm9yZy8hTgPZAAAACXBIWXMAAA9hAAAPYQGoP6dpAAAJ2ElEQVR4nO2bbVBUVRzGn12UfWFYlN2QFIhVYXjJgMzJzZwJyuzNURi+WDaZ41gmBYaVxRemqQ9tzWg55OgIlrkMmSxigQpN2ljjDFGbNYMBq2m6pA3sCiUb+/b0gbzCECnt3WXWzm/mzL2znPP/P2fvnueec+9BQZIQCASCCEA52QIEAoHgRhGGJRAIIoYJG9bSpUuhUCig1WpRW1sbCk0CgeAmIxAIYPfu3fB4PEHFmbBhWSwWLFmyBG63G0888QReeOGFoEUIBIKbl4sXL+Lhhx/GmjVrUFFREVSsCRuWwWDAoUOHpMTbtm1DQUEBenp6ghIiEAhuPo4cOYKcnBy0tLRAo9EgPT09qHiKYN4Sfvrpp3jyySfR39+PGTNm4JNPPsHixYuDEiQQCCIfj8eDiooKvPPOOwCAefPmoa6uDllZWUHFDcqwAMBut6OoqAg//vgjVCoV2tracMcddwQlSiAQRC52ux0rV65Ee3s7AKCkpARvv/021Gp10LGDNiwAuHLlCoqKitDS0oKMjAy0t7cjJiYmaHECgSCyOHPmDO666y64XC7Ex8ejpqYGy5cvly2+LIYFAL29vcjNzYXD4cDq1auxe/duOcLeEB6PB+fOncPZs2fx559/YsaMGVKRw9UF49Pd3Y2NGzfC4XCM+dusWbOwZcsWpKWlTYIyQbhxu91YtGgRbDYb7rzzTjQ2NiIpKUnWHLIZFgB8+eWXKCgoQCAQwEcffYRVq1bJFVqCJI4fP44PP/wQ3d3d+Pnnn+FwODBeN3Q6HRITE5GWlobMzExkZWUhMzMTmZmZiIuLk13f/4mvv/4ay5cvR19f37h19Ho9GhsbsWjRojAqE0wGa9euRXV1NQwGA2w2m+xmBQCgzFRWVhIAY2Ji2NnZKVtcv9/PhoYGLly4kADGFI1Gw6ysLM6fP5/JycmMjo7+x3ojy6xZs/jII4/w1VdfZV1dHU+dOkWfzyeb5puZuro6qlQqAuCCBQvY3NzMw4cPS6W5uZkLFiwgAKpUKn788ceTLVkQQnbt2kUAVCgUbG1tDVkeWWdYAOD3+/HAAw/g2LFjyM3NxYkTJ4Jalnk8HlgsFpjNZvz0008AAJVKhaeeegr33XcfjEYjjEYjEhISoFAopHYk0d/fj0uXLqGnpwednZ3o6OjAqVOn0NHRMe42DLVaDaPRiJSUFNx2221ISUlBSkoKkpKSkJCQgFtuuQV6vR5RUVH/uU+RDEmYzWZs3rwZALBixQpYLBZotdoxdQcHB/H444+jsbERAPDWW2/hpZdeGnWdBJGPzWaDyWTC0NAQ3njjjaD3Wv0roXBBh8NBg8FAAHz++ef/c5yDBw/SaDRKMyKdTsfNmzfz119/DVqjy+XiV199xaqqKq5bt4533303tVrtdWdl+PsuYjAYmJ2dzTVr1nDfvn10Op1B6QkEAvzmm2+4YcMGpqSkMDMzk4899hhLS0v53nvvsampiRcuXAi638Hg9Xr5zDPPSN9DWVnZdWekPp+PpaWlUptnn32WXq83TIoFocbpdHL27NkEwEcffZR+vz+k+UJiWCTZ3Nws/UjNZvOEfqRnzpzhsmXLpPaJiYk0m83s7+8PlVySw4PLbrfz888/Z01NDSsrK/n000/z/vvvZ0ZGBvV6PRUKxT+amFKppMlkYmVlJU+cOHHD/e3p6aHZbGZWVtZ1jTIqKoolJSXs6+sbKZo8epSsrR0+hmhJ29vbyyVLlkiG/e67706o/datW6Xv7sEHHxzdB0FE4vf7pXGampoa9E37RgiZYZHkyy+/LA22vLw8trW1/Wt9t9vN119/nWq1mgA4ZcoUvvLKK/z9999DKXNCeL1eXrx4kT/88AM/++wzvvjii8zOzh5jLnFxcSwsLGRVVRW7uroYCAQ4NDREm83G6upqbtiwgQsXLqRSqZTaqNVqrly5kk1NTWxpaeH27dtZXl7OFStWjMoxffp0btu2jd59+8ikJBK4VpKSyPp6Wftss9mYmppKANRqtTxw4MB/inPgwAFpFms0Gvn999/LqlMQPtxuN9euXSs9o/z222/DkjekhuX3+7lz505OmzZNujOXlJTw8uXLUp3Lly+zubmZr732GufMmSMNyoKCAnZ0dIRSnqz88ssv3LVrF4uLi6X+jiyJiYnjvggwmUzcsWMHXS7Xv+b44osvOG/ePKldNsDWkWYFkArFcJHJtPbu3UuNRkMAnD17Nk+ePBlUvJMnT0pLCI1GQ4vFIotOQfiw2+3My8uTxnRNTU3YcofUsK5y6dIlrlq1Shpot956K9etW8ecnJwxS6yZM2eyrq6OgUAgHNJCgs/nY1tbG998803m5+ePMqq4uDjm5+ezvLycFouFp0+fnlBsr9fL7VVV1I+YmRUAbALoH2layclBLQ89Hs+oZ08PPfSQbMu4vr4+Ll26VIq9ceNG8VwrQqivr6dOpyMAGgwGHj58OKz5w2JYV2ltbWVaWtqYGcbcuXO5evVqVldXc2BgIJySwsIff/zB48eP8/Tp0/IY8dGjdAIsAzhlxPeYAXAHwMGrxnX06IRDX7lyhVarlffee68Ut6KiQvbtHj6fjxUVFVKOxYsXs6GhgYODg7LmEcjD0NAQy8rKpOt1zz338Pz582HXEVbDIofXvlu2bGF5eTn3798vyxu//x21tdIS8CzAcoC6EcZlALgJ4N7nnmN7e/t1bwJOp5N79uxhYWGhtPwDwNjYWDY0NIS0K1arlbGxsVJOrVbL4uJi1tbWhvwli2B8AoEAu7u7uWfPHq5fv57p6enSNdq0aRM9Hs+k6JJ9H5YgDBw7BuTnj/poAEANgK0Azv1Dk5kzZyI9PR1Tp06F2+3G4OCgdHQ4HPD5fFJdo9GIwsJCrF+/HnPnzg1dP/7Gbrfj/fffh9Vqxblz19RHR0djzpw5iI+Px/Tp0xEfH4/4+HjodDpERUVBqVRCqVRK5+Pt7/o/7fsabzhzeHIy6pwkvF4v3G73qNLX14e2tjb09vaOijFt2jR88MEHsv5v4EQRhhWJ+P1AairgcAzPs0bgA9AAoCUmBp15eejs6sJvv/123ZC33347CgsLUVRUhJycnEkZ5CTx3Xffob6+HvX19ejq6gq7BsE1oqOjMX/+fJhMJphMJuTn50Ov10+qJmFYkYrVChQXD5+PvIRXjWb/fqCoCADgcrnQ2dkJu90OANBoNNBqtdIxISEBqampYRR/fUjCbrfj/PnzcLlccDqdcDqdcLlcGBgYQCAQGFX8fv+4cQTDKBSKMWXq1KnQaDTQaDRQq9XQaDSIjY1Fbm4u8vLyoFKpJlv2KIRhRTJWK1BaCly4cO2z5GRg61bJrASCmwlhWAKBIGL4Czkc8yriMKcOAAAAAElFTkSuQmCC\"></td>\n",
       "</tr>\n",
       "<tr><td>pfar\n",
       "<td>0.372<br><span style=\"font-size: 75%;\">(0.370,0.373)</span></td>\n",
       "<td><img src=\"data:image/png;base64,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\"></td>\n",
       "</tr>\n",
       "<tr><td>softmax\n",
       "<td>0.333<br><span style=\"font-size: 75%;\">(0.332,0.334)</span></td>\n",
       "<td><img src=\"data:image/png;base64,iVBORw0KGgoAAAANSUhEUgAAASwAAAAZCAYAAACLvRPfAAAAOXRFWHRTb2Z0d2FyZQBNYXRwbG90bGliIHZlcnNpb24zLjkuMiwgaHR0cHM6Ly9tYXRwbG90bGliLm9yZy8hTgPZAAAACXBIWXMAAA9hAAAPYQGoP6dpAAAJKklEQVR4nO2de0xUxx7Hv2fdXZaXBMRCAwhriA3YNCm0QIuYamJttCqprQkaHgZNS1tKsUIae+3DpDZaCLkaza2LlmiAtJGmFeMLEIoWEhI11T4hBbZLgcuWgmC3wO6e7/3DcK5bqPLYA2Lmk0yyOTvzm9+cnfPd38xvFiSShEAgEMwBNLPtgEAgEEwUIVgCgWDOMGnBWr16NSRJgp+fHy5cuKCGTwKBQDAukxassrIyJCUlYWBgAGvWrMEnn3yihl8CgUAwhkkL1oIFC1BVVYXU1FQ4nU688soreOutt+B0OtXwTyAQCBSkqWYJSeLDDz/E7t27AQAbNmxAaWkpvL293eqgQCAQjDJlwRqlvLwcW7duxfDwMOLi4vD111/DYDC4yz+BQPCAMDw8DA8Pj2nZmHaWMCUlBRcvXkRAQACamprw9ttvT9ekQCB4gCCJ8vJyREZGora2dlq2ph1hjXLmzBmsXbsWAHD+/Hk8++yz7jArEAjmMFevXsUbb7yBb775BgDw/PPPo7Kycsr23CZYAPD666/j0KFDCA4Oxo0bNxAYGOgu02MYHBxEd3c3rFYrfv/9d1itVlitVmg0GkRERCAiIgJGoxGBgYGQJEk1P1TD6QQuXQK6uoCHHwaSkoB582bbq3EZGBhAX1/fmOv+/v6YP3/+LHgkmG16enrwzjvv4OjRoyAJLy8v7Nq1Czt27ICnp+fUDdON2Gw2RkVFEQCTk5Mpy7I7zVOWZVZXV3PdunWUJIkA7lm8vLwYHR3NjRs38v333+fJkyf5888/0+FwuNU3t1JRQYaGksD/S2jo7ev3EbIs88CBA9Tr9ePee71ez4MHD7p9HgjuX2RZ5qFDh+jn56fMg82bN9NisbjFvlsFiySvXbtGnU5HADSZTG6xabPZWFxczEcffdTlgfDx8aHRaGRcXBzXrFnD9PR0btmyhcuWLWNISMhdRc1gMDAmJoYZGRksKirixYsX2dvb6xZ/p0VFBSlJrmIF3L4mSfeNaNlsNqalpSn308PDgwaDQSkeHh7Ke2lpabTZbLPtskBlZFnmrl27lM89JiaGly9fdmsfbhcskty/f78S3TQ3N0/Zjs1m4549e7hgwQLlJnh7e/O1117jTz/9dM/2Q0NDbGlp4blz51hYWMitW7fyiSeeoKen5z8KWUhICBMTE7lp0ybm5uby448/ZllZGauqqtjQ0MBvv/2WLS0t7Ozs5MDAwJTHNi4OBxkayk6A/X8XrFHRCgu7XW8WaW9vZ0xMDAFQo9GwsLBwTBQlyzILCgqo0WiUydve3j5LHgvURpZl5ufnK8/RRx99pMoqRhXBcjqdXLlyJQHwySef5MjIyKRtVFZW0mg0KjcgPDycBQUF7Ovrc4t/LS0trKio4Lvvvsvk5GSXviZTIiMj+fLLL/Pzzz+n1Wqdsk/9/f38T24u4+6w7Q8wBuBGgDsBngA4ApC1tdO+B1OlpqZG+QIJDAxkTU3NXetXV1dPqr5g7iHLMnNzc5V5e+DAAdX6UkWwSNJisdDf358AuHLlSn7//fcTatfa2sr169e7RDylpaW02+1quarQ39/PhoYGfvbZZywqKuLOnTuZkpLC5cuXc+nSpTQajQwKCqKvr68SOdxZJEni448/zry8PNbW1t5TqGVZZl1dHdPS0lyiPukuArkE4Be5uTO+L2S327l3715l3LGxsTSbzRNq297eztjYWCUi27t37/29hyiYMLIsMzs7W5mfhw8fVrU/1QSLJL/66itlL0Or1XLHjh28efPmuHU7Ozu5Z88eGgwGpX5+fj4HBwfVdHHKyLLMvr4+VlZWMicnZ8z+GgD6+vryhRdeoMlkYltbG69cucJjx44xJyeHzzzzjCLooyUqPJwFAP8LcBDgDYCnAP4bYA7AhXfUTUxMZGNj44yM9ccff2R8fLzSd0ZGxqT3pGw2G9PT0xUbCQkJE1rWC+5fnE4ns7KylM/0yJEjqvepqmCR5C+//MINGzYogwoKCmJJSQn/+OMPfvnll8zOzmZ0dLTLg7tixQr+8MMParvmdrq6ulhaWsq0tDQuXLhwQktKHx8fbtu2jY2NjZTt9tvZwPE23QHeBPiv+fNdorEXX3yR169fV2U8DoeDBQUFypeOn58fS0pKphzdybLMkpISJYNkMBhYWFgooq05SF1dHZ9++mllZXHs2LEZ6Vd1wRrl7NmzXLJkyT8+uJIkMTY2lmVlZQ9EGtzpdLKpqYkffPAB4+PjKUkSAwICuGLFCr755pv89NNPefXqVQ4NDbk2HM0S/l207sgSdnR0MDMz02VZGhcXR5PJ5LZEQHNzMxMTExX7zz33nNtS0xaLhatXr3aJFqeTnBHMHE1NTVy1apVLtv3EiRMz1v+MCRZJDg8Pc9++ffT29r69H7NkCbOysnjy5Mn740iBigwNDU1ciMc7hxUWNuZIw/Xr1/nSSy9Rq9W6ZFEzMzNZU1NDi8Uy4eilt7eXp06dYl5eHhMSEhSbvr6+LC4uVuVMnclkoq+vr7IFkJCQwPz8fJ4+fdotyRXB9JFlmd3d3ayrq2NycrIyz7RaLV999VX+9ttvM+qPW0+6T5Rbt27h1q1bCA4Onumu5w6TOOne09OD48ePw2Qyobm52eU9rVaL0NBQhIeHY9GiRdDpdBgZGXEpv/76K7777rsxdletWgWTyYTw8HBVhggAZrMZ27dvR1VVlct1SZLw2GOPISIiAj4+PvD29laKp6cnJEkat4zHnPylg5u58zEffU0SsizDbrfD4XDA4XDAbrfDZrPBbDajtbUV7e3tsNlsSluNRoPU1FS89957MBqNMz6OWREsgTqQxOXLl1FcXIz6+np0dHTA4XBMuP0jjzyCpKQkLF++HElJSYiIiFDP2b/R1taGS5cuob6+HvX19WhpaZmxvgV3R5IkhIaGYtmyZdi9ezeioqJmzxchWA8uTqcTXV1dMJvNMJvNsFgsIAm9Xg+9Xg+dTge9Xo+AgAA89dRTeOihh2bbZYXu7m40NDTAarXizz//dCl//fUXeHs7Q4kSxDS+N3dGmqOv582bB61WC61WC51OB61WCw8PD4SFhWHx4sUwGo1YtGjRtP8sjLsQgiUQCOYM4r/mCASCOcP/AMpFSQW8smr2AAAAAElFTkSuQmCC\"></td>\n",
       "</tr>\n",
       "<tr><td>topic-cali\n",
       "<td>0.372<br><span style=\"font-size: 75%;\">(0.370,0.373)</span></td>\n",
       "<td><img src=\"data:image/png;base64,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\"></td>\n",
       "</tr>\n",
       "</tbody>\n",
       "</table>\n"
      ],
      "text/plain": [
       "<IPython.core.display.HTML object>"
      ]
     },
     "metadata": {},
     "output_type": "display_data"
    }
   ],
   "source": [
    "for metric in metrics[:3]:\n",
    "    tw = EvalTable(mind_val_user_metrics, 'recommender', metric)\n",
    "    tw.add_stat('Mean', np.mean, ci=True)\n",
    "    #tw.add_quantiles(['10%ile', 'Median', '90%ile'], [0.1, 0.5, 0.9], ci=True)\n",
    "    display(HTML(f\"<h3>Summary Table for {metric}</h3>\"))\n",
    "    display(HTML(tw.html_table()))\n"
   ]
  },
  {
   "cell_type": "markdown",
   "metadata": {},
   "source": [
    "### 2. 2 Ranking Overlap Metrics\n",
    "RBO@5 measures the overlap between the top 5 recommendations and the final rankings, while RBO@10 measures for the top 10. Comparing them shows how consistency changes with longer lists. "
   ]
  },
  {
   "cell_type": "code",
   "execution_count": 22,
   "metadata": {},
   "outputs": [
    {
     "data": {
      "image/png": "[encoded data removed]",
      "text/plain": [
       "<Figure size 800x300 with 2 Axes>"
      ]
     },
     "metadata": {},
     "output_type": "display_data"
    }
   ],
   "source": [
    "plt.figure(figsize=(8, 3))\n",
    "plt.subplots_adjust(wspace=0.3)\n",
    "\n",
    "for i, metric in enumerate(metrics[3:], 1):\n",
    "    plt.subplot(1, 2, i)\n",
    "    sns.barplot(data=mind_val_user_metrics, x='recommender', y=metric)\n",
    "    plt.title(metric)\n",
    "    plt.xticks(fontsize=8)\n",
    "    plt.ylim(0, 1)\n",
    "\n",
    "plt.show()"
   ]
  },
  {
   "cell_type": "markdown",
   "metadata": {},
   "source": [
    "The summary tables show the mean values and 95% confidence intervals for ranking overlap metrics across recommenders."
   ]
  },
  {
   "cell_type": "code",
   "execution_count": 23,
   "metadata": {},
   "outputs": [
    {
     "name": "stderr",
     "output_type": "stream",
     "text": [
      "Mean: 100%|██████████| 5/5 [04:52<00:00, 58.50s/it]\n"
     ]
    },
    {
     "data": {
      "text/html": [
       "<h3>Summary Table for RBO@5</h3>"
      ],
      "text/plain": [
       "<IPython.core.display.HTML object>"
      ]
     },
     "metadata": {},
     "output_type": "display_data"
    },
    {
     "data": {
      "text/html": [
       "<table>\n",
       "<thead><tr>\n",
       "<th>Algorithm\n",
       "<th>Mean\n",
       "<th>Dist. (KDE)\n",
       "</tr></thead>\n",
       "<tbody>\n",
       "<tr><td>mmr\n",
       "<td>0.227<br><span style=\"font-size: 75%;\">(0.227,0.227)</span></td>\n",
       "<td><img src=\"data:image/png;base64,iVBORw0KGgoAAAANSUhEUgAAASwAAAAZCAYAAACLvRPfAAAAOXRFWHRTb2Z0d2FyZQBNYXRwbG90bGliIHZlcnNpb24zLjkuMiwgaHR0cHM6Ly9tYXRwbG90bGliLm9yZy8hTgPZAAAACXBIWXMAAA9hAAAPYQGoP6dpAAAEiElEQVR4nO3cS0xTWRzH8e8tSKkjjwQjBk3ABekj2BoEAisgk0AC2oWBBN24IXHDDpYsZuLSNTtWLoagDYESUnBgrAsNlA0JjG3jwiaCEaO2RCqFtt5Z0NaWwshjoDD9f5KTy33/Lwk/zjm3qaKqqooQQpwBmkwXIIQQ+yWBJYQ4MySwkvT396MoCi0tLZkuRQixC0XmsH4wm80sLi6Sk5PDhw8fuHjxYqZLEkIkkR5WjM/nY3FxEYBoNMro6GhmCxJCpJHAihkfH09Zf/r0aYYqEULsRQIrxm63A/DgwQMAZmZm+Pz5cyZLEkLsIIEFrK2t8eLFCwB6e3uxWCwyLBTiFJLAAqampgiHw+j1eiorK+no6ADAZrNluDIhRDIJLH7MX1mtVgA6OzsBmJ6e5suXLxmrSwiRKusDKxKJMDExAcDt27cB0Ov1XL9+nUgkwtjYWCbLE0IkyfrAevXqFX6/n5KSEhoaGhLb470seVsoxOmR9YEVfzvY3t5Obm5uYnvysNDv92ekNiFEKgmsWGDFh4NxBoOBqqoqwuGwDAuFOCWyOrC8Xi9v3rwhLy+P1tbWtP2JYeGTJ+B0wtDQ9jIaPdlChRBAlgdWvHfV1NREQUFB2v54YP3pcBBoboZ796C5GSoqYGTkJEsVQpDlgbXz4ww7Gd1uTEAYsCfvWFmBjo4jh1YwGOTjx49HuoYQ2SRrv63h06dPlJaW8v37d3w+H+Xl5akHRKNQUcFvy8v8DrQBfwBB4FtsGbp0ifNTUxSXlFBcXMyFCxdQFOVf76uqKrOzswwODjI8PEwwGMRisWC1WrFarVRXV6PRZPX/ESH2dODAGh8fx2azUVdXR11dHWazGa1We1z1HZvHjx9z//59LBYLCwsL6Qc4ndDczN9A1T6vqdFoKCoqorS0FL1ej8FgwGAwoNfruXz5MqOjowwODvL69es9r1FWVsatW7eor6/HZDJhNBopLCw8xBMK8f9z4MDq6elhYGAgsX7u3Dlu3LhBbW0t165d+2kPIxN2e0Sbzcbc3Bz9/f08fPgw/aShoe05K+BX4K/YZg3wC3Ae0AHBwkICGxuEw+F916PT6ejs7KS7uxuj0YjD4cButzM5Ocn6+nra8WVlZZhMJq5cucLW1habm5uJtrW1RX5+PgUFBSlNp9OhKEqiAbv+nLwuxHGrqamhsbHx0OcfOLBevnzJs2fPmJ+fx+VynflvNHC5XNTW1qbviPWwAFTAz3ZIaYGUP+3nz1EbGwmFQgQCAdbW1nj37h1erxePx4PH48Hr9bK8vMzNmzfp7u7m7t27FBUVpd1yc3MTp9OJw+FgaWkJt9vN+/fv//NnFiJT+vr6ePTo0aHPP9Iclqqq+Hw+XC4X8/PzZ24C2Ww209vbu3vvIjaHxcoK7PYrUhS4ehXevoWcnJ/eKxKJpHwwdb8CgQAejwe3283q6iparTal5eXlEQqF+Pr1a6Ktr6+zsbGBqqppDdhzKcRxa2tro6ur69DnZ+2k+76MjGy/DYTU0IoHnM0Gd+6cfF1CZCkJLCHEmfEP6/zAsvbt+5UAAAAASUVORK5CYII=\"></td>\n",
       "</tr>\n",
       "<tr><td>nrms\n",
       "<td>0.391<br><span style=\"font-size: 75%;\">(0.391,0.392)</span></td>\n",
       "<td><img src=\"data:image/png;base64,iVBORw0KGgoAAAANSUhEUgAAASwAAAAZCAYAAACLvRPfAAAAOXRFWHRTb2Z0d2FyZQBNYXRwbG90bGliIHZlcnNpb24zLjkuMiwgaHR0cHM6Ly9tYXRwbG90bGliLm9yZy8hTgPZAAAACXBIWXMAAA9hAAAPYQGoP6dpAAADtUlEQVR4nO3cwUvjaBjH8W8aW0EFEWV0sIq7IAgehCgLPTmg9CC1K6wHD/4Pjih41YPHgfXidW7jTVBbUHZBB1pEWBW7FEQQRUcrglAtK9I2yR5qgq49bDvOdJo+H3gJSdM3Dw38eN8kjWKapokQQpQBV6kLEEKI/0sCSwhRNiSwKsTi4iKKotDT01PqUoQomgRWhVhZWQEgFotxenpa2mKEKJIEVgW4u7tjc3PTXl9bWythNUIUTwKrAqyvr5PJZOz11dXVElYjRPEksCqAFVAjIyMAbG1tcXt7W8KKhCiOBJbDZTIZwuEwAFNTU3R1dZHNZtnY2ChxZUIUTgLL4SKRCMlkkqamJnw+H8FgEJBpoShPElgOZwVTIBBAVVWGh4cBCIfDz65rCVEOJLAczDRN+3EGa2Tl8/lobGwkmUwSjUZLWZ4QBZPAcrB4PM7JyQnV1dX4/X4AVFUlEAgAMi0U5UcCy8GsQBocHKS2ttbe/vQ6lvz3XZQTCSwHswLLCiiL3+/H4/FwfHzM4eFhKUoToigSWA6VSCTY2dkBsC+0W+rq6hgYGABkWijKiwSWE+k6oQ8fAPilq4u3b9682EUebxDlSALLaZaXoaOD1cfACh4eQkdHbvsT1oX37e1trq+vv3eVQhRFAstJlpdhdJR/vnzhz8dNvwJcXMDo6LPQ8nq9aJqGaZr2k/BC/OgKDqybmxuurq4wDONb1FMRUqkUkUiEhYUF5ufnCYVCJBKJr+tU12FiAkyTP4AH4CegG8C6E/j+fW6/R9a0UN7eIMqFUug73WdnZ5mbm8Pj8eD1emlra7NbQ0MDiqK8PEiebU6W7ydNp9PE43F2d3c5OjrKu09LSwuapqFpGvX19S8+13WdTCZDOp22l+l0Gl3X0c/P0UMhDOAv4G9gAvj9v51sbsK7dwDs7++jaRo1NTXMzMzgcrlQVdVeVtp5E99eX18f/f39xXdgFmhyctJUFMUEpH1Fa21tNYPBoDk+Pm52d3ebLpfr1Y/xOTe2et4+fbLPpWEYZnt7e8l/C2mV06anpwuNnGcKHmFB7g0Al5eXnJ+fc3Z2Zi9TqVShXVUMRVHo7Oykt7cXTdNobm5+9vn9/T0HBwfs7e0Ri8V4eHjI24fH47Gb2+3G7XZTVVWFenaG+vEjLkAFfgZ+y1fIkxEWQDQaZWlpiWw2i2EYGIaRG7E9mToK8VqGhoYYGxsr+vtFBZb4Ael67m7gxQXkO6WKAl4vnJyAqn738oR4DRJYQoiy8S82kd0QPRDQ4gAAAABJRU5ErkJggg==\"></td>\n",
       "</tr>\n",
       "<tr><td>pfar\n",
       "<td>0.391<br><span style=\"font-size: 75%;\">(0.391,0.391)</span></td>\n",
       "<td><img src=\"data:image/png;base64,iVBORw0KGgoAAAANSUhEUgAAASwAAAAZCAYAAACLvRPfAAAAOXRFWHRTb2Z0d2FyZQBNYXRwbG90bGliIHZlcnNpb24zLjkuMiwgaHR0cHM6Ly9tYXRwbG90bGliLm9yZy8hTgPZAAAACXBIWXMAAA9hAAAPYQGoP6dpAAADtUlEQVR4nO3cwUvjaBjH8W8aW0EFEWV0sIq7IAgehCgLPTmg9CC1K6wHD/4Pjih41YPHgfXidW7jTVBbUHZBGVpEWBW7FEQQRUcrglAtK9I2yR5qgq49bDvOdJo+H3gJSdM3Dw38eN8kjWKapokQQpQBV6kLEEKI/0sCSwhRNiSwKsTi4iKKotDT01PqUoQomgRWhVhZWQEgFotxenpa2mKEKJIEVgW4u7tjc3PTXl9bWythNUIUTwKrAqyvr5PJZOz11dXVElYjRPEksCqAFVAjIyMAbG1tcXt7W8KKhCiOBJbDZTIZwuEwAFNTU3R1dZHNZtnY2ChxZUIUTgLL4SKRCMlkkqamJnw+H8FgEJBpoShPElgOZwVTIBBAVVWGh4cBCIfDz65rCVEOJLAczDRN+3EGa2Tl8/lobGwkmUwSjUZLWZ4QBZPAcrB4PM7JyQnV1dX4/X4AVFUlEAgAMi0U5UcCy8GsQBocHKS2ttbe/vQ6lvz3XZQTCSwHswLLCiiL3+/H4/FwfHzM4eFhKUoToigSWA6VSCTY2dkBsC+0W+rq6hgYGABkWijKiwSWE+k6oQ8fAPilq4u3b9682EUebxDlSALLaZaXoaOD1cfACh4eQkdHbvsT1oX37e1trq+vv3eVQhRFAstJlpdhdJR/vnzhz8dNvwJcXMDo6LPQ8nq9aJqGaZr2k/BC/OgKDqybmxuurq4wDONb1FMRUqkUkUiEhYUF5ufnCYVCJBKJr+tU12FiAkyTP4AH4CegG8C6E/j+fW6/R9a0UN7eIMqFUug73WdnZ5mbm8Pj8eD1emlra7NbQ0MDiqK8PEiebU6W7ydNp9PE43F2d3c5OjrKu09LSwuapqFpGvX19S8+13WdTCZDOp22l+l0Gl3X0c/P0UMhDOAv4G9gAvj9v51sbsK7dwDs7++jaRo1NTXMzMzgcrlQVdVeVtp5E99eX18f/f39xXdgFmhyctJUFMUEpH1Fa21tNYPBoDk+Pm52d3ebLpfr1Y/xOTe2et4+fbLPpWEYZnt7e8l/C2mV06anpwuNnGcKHmFB7g0Al5eXnJ+fc3Z2Zi9TqVShXVUMRVHo7Oykt7cXTdNobm5+9vn9/T0HBwfs7e0Ri8V4eHjI24fH47Gb2+3G7XZTVVWFenaG+vEjLkAFfgZ+y1fIkxEWQDQaZWlpiWw2i2EYGIaRG7E9mToK8VqGhoYYGxsr+vtFBZb4Ael67m7gxQXkO6WKAl4vnJyAqn738oR4DRJYQoiy8S9HeN0RQHT55QAAAABJRU5ErkJggg==\"></td>\n",
       "</tr>\n",
       "<tr><td>softmax\n",
       "<td>0.210<br><span style=\"font-size: 75%;\">(0.210,0.211)</span></td>\n",
       "<td><img src=\"data:image/png;base64,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\"></td>\n",
       "</tr>\n",
       "<tr><td>topic-cali\n",
       "<td>0.391<br><span style=\"font-size: 75%;\">(0.391,0.391)</span></td>\n",
       "<td><img src=\"data:image/png;base64,iVBORw0KGgoAAAANSUhEUgAAASwAAAAZCAYAAACLvRPfAAAAOXRFWHRTb2Z0d2FyZQBNYXRwbG90bGliIHZlcnNpb24zLjkuMiwgaHR0cHM6Ly9tYXRwbG90bGliLm9yZy8hTgPZAAAACXBIWXMAAA9hAAAPYQGoP6dpAAADtUlEQVR4nO3cwUvjaBjH8W8aW0EFEWV0sIq7IAgehCgLPTmg9CC1K6wHD/4Pjih41YPHgfXidW7jTVBbUHZBGVpEWBW7FEQQRUcrglAtK9I2yR5qgq49bDvOdJo+H3gJSdM3Dw38eN8kjWKapokQQpQBV6kLEEKI/0sCSwhRNiSwKsTi4iKKotDT01PqUoQomgRWhVhZWQEgFotxenpa2mKEKJIEVgW4u7tjc3PTXl9bWythNUIUTwKrAqyvr5PJZOz11dXVElYjRPEksCqAFVAjIyMAbG1tcXt7W8KKhCiOBJbDZTIZwuEwAFNTU3R1dZHNZtnY2ChxZUIUTgLL4SKRCMlkkqamJnw+H8FgEJBpoShPElgOZwVTIBBAVVWGh4cBCIfDz65rCVEOJLAczDRN+3EGa2Tl8/lobGwkmUwSjUZLWZ4QBZPAcrB4PM7JyQnV1dX4/X4AVFUlEAgAMi0U5UcCy8GsQBocHKS2ttbe/vQ6lvz3XZQTCSwHswLLCiiL3+/H4/FwfHzM4eFhKUoToigSWA6VSCTY2dkBsC+0W+rq6hgYGABkWijKiwSWE+k6oQ8fAPilq4u3b9682EUebxDlSALLaZaXoaOD1cfACh4eQkdHbvsT1oX37e1trq+vv3eVQhRFAstJlpdhdJR/vnzhz8dNvwJcXMDo6LPQ8nq9aJqGaZr2k/BC/OgKDqybmxuurq4wDONb1FMRUqkUkUiEhYUF5ufnCYVCJBKJr+tU12FiAkyTP4AH4CegG8C6E/j+fW6/R9a0UN7eIMqFUug73WdnZ5mbm8Pj8eD1emlra7NbQ0MDiqK8PEiebU6W7ydNp9PE43F2d3c5OjrKu09LSwuapqFpGvX19S8+13WdTCZDOp22l+l0Gl3X0c/P0UMhDOAv4G9gAvj9v51sbsK7dwDs7++jaRo1NTXMzMzgcrlQVdVeVtp5E99eX18f/f39xXdgFmhyctJUFMUEpH1Fa21tNYPBoDk+Pm52d3ebLpfr1Y/xOTe2et4+fbLPpWEYZnt7e8l/C2mV06anpwuNnGcKHmFB7g0Al5eXnJ+fc3Z2Zi9TqVShXVUMRVHo7Oykt7cXTdNobm5+9vn9/T0HBwfs7e0Ri8V4eHjI24fH47Gb2+3G7XZTVVWFenaG+vEjLkAFfgZ+y1fIkxEWQDQaZWlpiWw2i2EYGIaRG7E9mToK8VqGhoYYGxsr+vtFBZb4Ael67m7gxQXkO6WKAl4vnJyAqn738oR4DRJYQoiy8S9HeN0RQHT55QAAAABJRU5ErkJggg==\"></td>\n",
       "</tr>\n",
       "</tbody>\n",
       "</table>\n"
      ],
      "text/plain": [
       "<IPython.core.display.HTML object>"
      ]
     },
     "metadata": {},
     "output_type": "display_data"
    },
    {
     "name": "stderr",
     "output_type": "stream",
     "text": [
      "Mean:  40%|████      | 2/5 [01:55<02:53, 57.76s/it]"
     ]
    },
    {
     "name": "stderr",
     "output_type": "stream",
     "text": [
      "Mean: 100%|██████████| 5/5 [04:47<00:00, 57.55s/it]\n"
     ]
    },
    {
     "data": {
      "text/html": [
       "<h3>Summary Table for RBO@10</h3>"
      ],
      "text/plain": [
       "<IPython.core.display.HTML object>"
      ]
     },
     "metadata": {},
     "output_type": "display_data"
    },
    {
     "data": {
      "text/html": [
       "<table>\n",
       "<thead><tr>\n",
       "<th>Algorithm\n",
       "<th>Mean\n",
       "<th>Dist. (KDE)\n",
       "</tr></thead>\n",
       "<tbody>\n",
       "<tr><td>mmr\n",
       "<td>0.323<br><span style=\"font-size: 75%;\">(0.323,0.324)</span></td>\n",
       "<td><img src=\"data:image/png;base64,iVBORw0KGgoAAAANSUhEUgAAASwAAAAZCAYAAACLvRPfAAAAOXRFWHRTb2Z0d2FyZQBNYXRwbG90bGliIHZlcnNpb24zLjkuMiwgaHR0cHM6Ly9tYXRwbG90bGliLm9yZy8hTgPZAAAACXBIWXMAAA9hAAAPYQGoP6dpAAAG10lEQVR4nO3bfUhU6R7A8e+MjmmaL1hjY1MtUZNXKtjMJoKlF251kSCqDY1eiKAXKFtIC+mFisS4VzPxDyER8hoSSeM/S2zI7Y0FSdwRlLISbSN2HJzCbEbLHGd++4e32XypHUfNtOcDP46cc57n+Z0zZ36eeeaMRkQERVGUCUA73gkoiqL4SxUsRVEmDFWwAnTo0CE0Gg3z58/n/fv3452OonwTVMEKgM1mo6SkBICWlhYKCgrGNyFF+UaoghWA3Nxcenp6iI2NBSA7Oxu73T7OWSnK5KcK1jC1tbVx+fJlAMrLyzGbzXR2dpKVlTXOmSnK5KcK1jBdvHiR7u5uzGYz69evp7CwEICysjJqamrGOTtFmdxUwRqGV69eUVRUBMDp06fRaDQsX76cPXv2AJCeno7X6x3HDBVlclMFaxguXbpEV1cXS5cuJSUlxbf+woULTJs2jdraWsrKysYxQ0WZ3DTqSXf/vH79mrlz5+JyuaisrGTz5s39tufl5XHs2DHi4uJoamoiMjJynDJVlMlL3WH5qbCwEJfLxaJFi9i0adOg7UeOHMFkMtHW1kZ2dnZgg3g8cO8eXLvWt/R4Pru7y+WioKCAhoaGwMZTlIlGlL/15s0biY6OFkCuX7/+yf1u3rwpgABiNpslNzdXnj175t8gFouI0SgCf4XR2Ld+CI2NjZKQkCCAhIaGfjavQDx//ly6u7tHtU9FGSlVsPyQk5MjgCQkJEhvb+9n9z18+LBoNBpf4QIkKSlJcnJypLq6Wrq6ugY3slhENJr+xQr61mk0g4pWRUWFRERECCAhISG+cc6ePSter3dEx9rZ2SkHDhwQQEwmkzQ0NIyoP0UZTapg/Y2mpiaJiooSQK5evepXG7vdLkVFRbJ27VrRarX9ipdWq5XExETZuXOn5OfnS9Uvv8jjuDhxDixWHxet2bNFenvF7XZLZmamr681a9ZIa2urHD161LcuNTVV3r59G9Cx1tTUyIIFC/rlGxYWJleuXAmoP0UZbapgfYbT6ZTExEQBZOXKleJ2u4fdh8PhkOLiYtm4caPExcX1KwYDYxrIP0D+CbIT5CjIv0GugPyckyOrV6/27Xv8+PF++ZSUlEhwcLAAkpycLK2trX7n6Ha75dy5cxIUFCSAGI1GsVgssmHDBt94e/fuHfruUFG+IPUt4SeICNu2bcNisWAwGLBarRgMhhH3a7fbqauro66uDqvVStNvv2Gz2XD62T4iIoLS0lK2bt06aNv9+/fZsmUL7e3tREdHk5SUREJCgi9MJhNarRan04nL5cLpdNLR0UF+fj4PHjwAIC0tjaKiImJiYvB6veTk5HDmzBm8Xi+LFy/mxo0bmEymEZ8HRQnIcCvc06dPZffu3f5PJk9QH+atdDqdVFdXj91Ad++KgDhBHoP8D+S/IP8ByQTZDfIvkO8XLJB169ZJY2PjZ7trbm723RUOJ6KioqS8vHzIPm/fvi16vV4ACQ4OliVLlsiuXbskLy9PqqqqpK2tbQxOjKIMNuw7rNTUVCoqKtDpdBw8eJBTp06h1+tHr4J+BW7dukVKSgoiQnFxMfv27Ru7wTwe+O47sNn6Zq0G0mjAaITff4egIL+6dLvdWK1Wnjx54ovHjx/T0tICQFRUFJGRkb6YN28e58+fZ86cOZ/s0263s2PHDu7evTvkdqPRiNls9kVSUhLh4eF+5aso/hp2wbJarZw4cYKqqioAwsPDycjIICMjY1I8LNnc3ExycjIdHR3s37/f90PnMVVZCT/+2Pf3xy+HRtO3vHEDtmwZ8TAejwetVovmQ7/DJCK8ePGC+vp66uvraWhooL6+nubmZgZeRlqtloULFzJr1izi4+MxGAy+iIuLQ6/Xo9friYmJQatVjwMq/gl4DuvOnTtkZWVRW1sLwPTp09m+fTtTp05Fp9P1i0DfIGPtw6F/fApKS0tpbGxkxYoV3Lt3jylTpnyZZCor4aef4I8//lo3ezYUFIxKsRpLLpeLuro6ampqfGGz2fxqGxQUxIwZM4iNjSUsLGxQhIaGEhIS0i90Oh1arXZQfLjOPrX82Nd6TU52y5YtY9WqVQG3H9Gku4hgsVg4efIkTU1NASfxtZk5cyZWq5X4+PgvO7DHA7/+CnY7GAzwww9+fwz82thsNh49eoTdbh8UDocDh8NBR0fHeKepfGGZmZnk5uYG3H5UviXs7e3l2rVrPHz4ELfbPSi+ZgP/C4eFhZGenk5iYuJ4pvVN6Onp4eXLlzgcDtrb23n37t2g6OnpGTJEBK/X6wvP/3/GNPCueajLexQueSVAKSkppKWlBdxePdagKMqEoWY7FUWZMP4ERGzXCiBL4B4AAAAASUVORK5CYII=\"></td>\n",
       "</tr>\n",
       "<tr><td>nrms\n",
       "<td>0.608<br><span style=\"font-size: 75%;\">(0.607,0.608)</span></td>\n",
       "<td><img src=\"data:image/png;base64,iVBORw0KGgoAAAANSUhEUgAAASwAAAAZCAYAAACLvRPfAAAAOXRFWHRTb2Z0d2FyZQBNYXRwbG90bGliIHZlcnNpb24zLjkuMiwgaHR0cHM6Ly9tYXRwbG90bGliLm9yZy8hTgPZAAAACXBIWXMAAA9hAAAPYQGoP6dpAAAFMklEQVR4nO3cTWgTaRjA8f/MpE0bbcYmTdlWU6rYg4WChUJ0aVGhFwuiYPALlB7Kwl48SC8LrhfZgwdveyj4UehBxY96V6SiRTxYhdoVPBWNaauJtrHph+lM3j3UzDa27jbV3Wza5wcPk2Q+3mfC8Mz7vhmiKaUUQghRAPR8JyCEEMslBUsIUTCkYIk15ebNm2iahs/nI5VK5TsdkSMpWGJNuXjxIgDj4+P09fXlORuRKylYYs149eoVd+7ccd7funUrj9mIlZCCJdaM7u5ulFJUVlYCcPv2bSzLynNWIhdSsMSaYNs2ly9fBuD8+fP4/X7i8TgPHjzIc2YiF1KwxJpw9+5dIpEIPp+PcDjMgQMHABkWFhopWGJNyEy2Hz9+nJKSEsLhMAC9vb2k0+l8piZyoMmT7mK1e/fuHRs3bsSyLAYHB2loaCCVSlFZWUkikeDhw4c0NzfnO02xDNLDEqteT08PlmURCoVoaGgAoLi4mP379wPzz2aJwiAFS6xqSilnONjR0ZG17uDBg8D8PJYMCwuDDAnFqtbf309LSwvr1q1jdHSUsrIyZ93s7CyBQIBkMsnjx48JhUJ5zFQsh/SwxKp26dIlAA4fPpxVrABKSkrYt28fIMPCQiEFS6xaiUSC69evA4uHgxkLh4Uy2Pj/k4IlCpttw/37cPXq/NK2nVU9PT1MT09TX1/Pjh07ltx97969eDwehoeHefbs2X+Ts1gxKViicPX2Qm0t7NkDx47NL2triXV309HRwcmTJ4H53pWmaUsewuPx0NbWBshDpIVAJt1FYerthXAYFly+FtAF/ApMfP6svb2drq4u3G73Vw917do1jh49Sl1dHS9fvvxqcRP5l3PBikQiTExMUFNTg2ma/1Ze4m+kUimGhoYYGBhgaGgIv99PfX0927Zto66ujuLi4nyn+M3m5uZ4+/Ytbrcbn8+HYRh/rbTt+Z7VmzekgFHgD+AXYPDzJo1FRfx+7x4/trT8Y1uTk5MEAgE+ffpEZ2cnra2t7Ny5E6/X+93PS3ybnAvWmTNnOHv2LABer5dgMEhNTQ3BYBC/34/L5cIwDFwul/Na7li5UUqRTqexbduJdDrN2NgYAwMDPH/+/Kt/PmcYBlu3bmXLli14vV7Wr1+fFS6Xa9E+X7a1sM1MZHICcLlcFBUVZUUqlWJ6ejorpqammJiYIJFIZIXH46GiogK/3+8s3W43Y2NjjIyMEI1GicViziS4pmnOtoFAgNKZGcaePGEEiH9xLuXAb8BPgNHXB7t3L+s7P3ToEDdu3HDe67rO9u3baW5uJhgMLrmPXNe5a2pqYteuXSs/gMrR6dOnlc/nU4BEHqO8vFy1traqU6dOqfb2dhUKhVRZWVne8/qeYRjGsrYrAlUD6mdQMVAqE1euLPu6TiQS6sKFC+rEiRNq8+bNeT/31RqdnZ25lpwsK57DmpqaIhKJ8Pr1ayc+fvyIbdtYluUs5f+GVkbXdQzDcELXdUzTpLGxkaamJmpraxfd4ZVSjIyM8OLFCyKRCMlkksnJSZLJpBP2gl/RMjRNc3rFC9vMtKtpGrquo+s6Siksy2Jubi4r3G43paWleDyerDBNkw0bNmCaJqZp4vV6mZmZIR6PE4/Hef/+PfF4nNnZWaqqqqiurnaioqIC27b58OEDsVjMiZmnT/nh3DmqgSrADyzZ18mhh/WlaDRKf38/jx49Ynx8fEXHEIu1tbVx5MiRFe8vk+6i8GTmsKJRWOry1TTYtAmGh2Hh3JcoeFKwhBAF40/qhr0ebL7orwAAAABJRU5ErkJggg==\"></td>\n",
       "</tr>\n",
       "<tr><td>pfar\n",
       "<td>0.608<br><span style=\"font-size: 75%;\">(0.607,0.608)</span></td>\n",
       "<td><img src=\"data:image/png;base64,iVBORw0KGgoAAAANSUhEUgAAASwAAAAZCAYAAACLvRPfAAAAOXRFWHRTb2Z0d2FyZQBNYXRwbG90bGliIHZlcnNpb24zLjkuMiwgaHR0cHM6Ly9tYXRwbG90bGliLm9yZy8hTgPZAAAACXBIWXMAAA9hAAAPYQGoP6dpAAAFL0lEQVR4nO3cTWgTaRjA8f/MpE0bbUaTpqzVdKvYg4WCLoVYqKjQiwVRMPgFikJPe/AgvSy4XoQFD972UPCj0IOKH/GuYEWLeLAKtSt4KppNW020jU0/TGfy7qFmtrFVmqy72bTPDx4mk/l6Jkyeed83QzSllEIIIUqAXuwEhBBiqaRgCSFKhhQssaLcunULTdPw+Xyk0+lipyPyJAVLrCiXLl0CYGxsjN7e3iJnI/IlBUusGK9fv+bu3bvO/O3bt4uYjSiEFCyxYnR3d6OUoqamBoA7d+5gWVaRsxL5kIIlVgTbtrly5QoAFy5cwO/3k0gkePjwYZEzE/mQgiVWhHv37hGNRvH5fITDYfbv3w9It7DUSMESK0J2sP3YsWNUVFQQDocBiEQiZDKZYqYm8qDJk+5iuXv37h3r16/HsiwGBgZoamoinU5TU1NDMpnk0aNHtLa2FjtNsQTSwhLLXk9PD5ZlEQqFaGpqAqC8vJx9+/YBc89midIgBUssa0oppzvY0dGRs+zAgQPA3DiWdAtLg3QJxbLW19fHjh07WLVqFSMjI1RVVTnLZmZmCAQCpFIpnjx5QigUKmKmYimkhSWWtcuXLwNw6NChnGIFUFFRwd69ewHpFpYKKVhi2Uomk9y4cQNY2B3Mmt8tlM7G/58ULFHabBsePIBr1+amtu0s6unpYWpqisbGRrZv377o5nv27MHj8TA0NMTz58//m5xFwaRgidIViUB9PezeDUePzk3r64l3d9PR0cGpU6eAudaVpmmL7sLj8dDe3g7IQ6SlQAbdRWmKRCAchnmXrwV0Ab8C45/fO3nyJF1dXZSXl391V9evX+fIkSM0NDTw6tWrrxY3UXx5F6xoNMr4+Dh1dXWYpvlv5SW+IZ1OMzg4SH9/P4ODg/j9fhobG9myZQsNDQ3f/HKWitnZWd6+fYvb7cbn82EYxt8LbXuuZfXnn6SBEeAP4Bdg4PMqP5WV8fv9+7Qs4YHQiYkJAoEAnz59orOzk7a2NlpaWvB6vd/9vMQ/k3fBOnv2LOfOnQPA6/USDAapq6sjGAzi9/txuVwYhoHL5XJeyx0rP0opMpkMtm07kclkGB0dpb+/nxcvXnz1z+cMw2Dz5s1s2rQJr9fL6tWrc8Llci3Y5stjzT9mNrI5AbhcLsrKynIinU4zNTWVE5OTk4yPj5NMJnPC4/FQXV2N3+93pm63m9HRUYaHh4nFYsTjcWcQXNM0Z91AIEDl9DSjT58yDCS+OBcf8BvQARi9vbBr15I+84MHD3Lz5k1nXtd1tm7dSmtrK8FgcNFt5LrOX3NzMzt37ix8BypPZ86cUT6fTwESRYy1a9eqtrY2dfr0aXXixAkVCoVUVVVV0fP6nmEYxpLWKwf1I6ifQSVAqWxcvbrk6zqZTKqLFy+q48ePq40bNxb93JdrdHZ25ltychQ8hjU5OUk0GuXNmzdOfPz4Edu2sSzLmcr/DRVG13UMw3BC13VM02Tbtm00NzdTX1+/4A6vlGJ4eJiXL18SjUZJpVJMTEyQSqWcsOf9ipalaZrTKp5/zOxxNU1D13V0XUcphWVZzM7O5oTb7aayshKPx5MTpmmyZs0aTNPENE28Xi/T09MkEgkSiQTv378nkUgwMzPDunXrqK2tdaK6uhrbtvnw4QPxeNyJ6WfP+OH8eWqBWuZaVYu2dfJoYX0pFovR19fH48ePGRsbK2gfYqH29nYOHz5c8PYy6C5KT3YMKxaDxS5fTYMNG2BoCOaPfYmSJwVLCFEy/gIqsb0i1HzjUgAAAABJRU5ErkJggg==\"></td>\n",
       "</tr>\n",
       "<tr><td>softmax\n",
       "<td>0.373<br><span style=\"font-size: 75%;\">(0.373,0.374)</span></td>\n",
       "<td><img src=\"data:image/png;base64,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\"></td>\n",
       "</tr>\n",
       "<tr><td>topic-cali\n",
       "<td>0.608<br><span style=\"font-size: 75%;\">(0.607,0.608)</span></td>\n",
       "<td><img src=\"data:image/png;base64,iVBORw0KGgoAAAANSUhEUgAAASwAAAAZCAYAAACLvRPfAAAAOXRFWHRTb2Z0d2FyZQBNYXRwbG90bGliIHZlcnNpb24zLjkuMiwgaHR0cHM6Ly9tYXRwbG90bGliLm9yZy8hTgPZAAAACXBIWXMAAA9hAAAPYQGoP6dpAAAFL0lEQVR4nO3cTWgTaRjA8f/MpE0bbUaTpqzVdKvYg4WCLoVYqKjQiwVRMPgFikJPe/AgvSy4XoQFD972UPCj0IOKH/GuYEWLeLAKtSt4KppNW020jU0/TGfy7qFmtrFVmqy72bTPDx4mk/l6Jkyeed83QzSllEIIIUqAXuwEhBBiqaRgCSFKhhQssaLcunULTdPw+Xyk0+lipyPyJAVLrCiXLl0CYGxsjN7e3iJnI/IlBUusGK9fv+bu3bvO/O3bt4uYjSiEFCyxYnR3d6OUoqamBoA7d+5gWVaRsxL5kIIlVgTbtrly5QoAFy5cwO/3k0gkePjwYZEzE/mQgiVWhHv37hGNRvH5fITDYfbv3w9It7DUSMESK0J2sP3YsWNUVFQQDocBiEQiZDKZYqYm8qDJk+5iuXv37h3r16/HsiwGBgZoamoinU5TU1NDMpnk0aNHtLa2FjtNsQTSwhLLXk9PD5ZlEQqFaGpqAqC8vJx9+/YBc89midIgBUssa0oppzvY0dGRs+zAgQPA3DiWdAtLg3QJxbLW19fHjh07WLVqFSMjI1RVVTnLZmZmCAQCpFIpnjx5QigUKmKmYimkhSWWtcuXLwNw6NChnGIFUFFRwd69ewHpFpYKKVhi2Uomk9y4cQNY2B3Mmt8tlM7G/58ULFHabBsePIBr1+amtu0s6unpYWpqisbGRrZv377o5nv27MHj8TA0NMTz58//m5xFwaRgidIViUB9PezeDUePzk3r64l3d9PR0cGpU6eAudaVpmmL7sLj8dDe3g7IQ6SlQAbdRWmKRCAchnmXrwV0Ab8C45/fO3nyJF1dXZSXl391V9evX+fIkSM0NDTw6tWrrxY3UXx5F6xoNMr4+Dh1dXWYpvlv5SW+IZ1OMzg4SH9/P4ODg/j9fhobG9myZQsNDQ3f/HKWitnZWd6+fYvb7cbn82EYxt8LbXuuZfXnn6SBEeAP4Bdg4PMqP5WV8fv9+7Qs4YHQiYkJAoEAnz59orOzk7a2NlpaWvB6vd/9vMQ/k3fBOnv2LOfOnQPA6/USDAapq6sjGAzi9/txuVwYhoHL5XJeyx0rP0opMpkMtm07kclkGB0dpb+/nxcvXnz1z+cMw2Dz5s1s2rQJr9fL6tWrc8Llci3Y5stjzT9mNrI5AbhcLsrKynIinU4zNTWVE5OTk4yPj5NMJnPC4/FQXV2N3+93pm63m9HRUYaHh4nFYsTjcWcQXNM0Z91AIEDl9DSjT58yDCS+OBcf8BvQARi9vbBr15I+84MHD3Lz5k1nXtd1tm7dSmtrK8FgcNFt5LrOX3NzMzt37ix8BypPZ86cUT6fTwESRYy1a9eqtrY2dfr0aXXixAkVCoVUVVVV0fP6nmEYxpLWKwf1I6ifQSVAqWxcvbrk6zqZTKqLFy+q48ePq40bNxb93JdrdHZ25ltychQ8hjU5OUk0GuXNmzdOfPz4Edu2sSzLmcr/DRVG13UMw3BC13VM02Tbtm00NzdTX1+/4A6vlGJ4eJiXL18SjUZJpVJMTEyQSqWcsOf9ipalaZrTKp5/zOxxNU1D13V0XUcphWVZzM7O5oTb7aayshKPx5MTpmmyZs0aTNPENE28Xi/T09MkEgkSiQTv378nkUgwMzPDunXrqK2tdaK6uhrbtvnw4QPxeNyJ6WfP+OH8eWqBWuZaVYu2dfJoYX0pFovR19fH48ePGRsbK2gfYqH29nYOHz5c8PYy6C5KT3YMKxaDxS5fTYMNG2BoCOaPfYmSJwVLCFEy/gIqsb0i1HzjUgAAAABJRU5ErkJggg==\"></td>\n",
       "</tr>\n",
       "</tbody>\n",
       "</table>\n"
      ],
      "text/plain": [
       "<IPython.core.display.HTML object>"
      ]
     },
     "metadata": {},
     "output_type": "display_data"
    }
   ],
   "source": [
    "for metric in metrics[3:]:\n",
    "    tw = EvalTable(mind_val_user_metrics, 'recommender', metric)\n",
    "    tw.add_stat('Mean', np.mean, ci=True)\n",
    "    #tw.add_quantiles(['10%ile', 'Median', '90%ile'], [0.1, 0.5, 0.9], ci=True)\n",
    "    display(HTML(f\"<h3>Summary Table for {metric}</h3>\"))\n",
    "    display(HTML(tw.html_table()))\n"
   ]
  }
 ],
 "metadata": {
  "jupytext": {
   "formats": "ipynb,md:myst"
  },
  "kernelspec": {
   "display_name": "Python 3 (ipykernel)",
   "language": "python",
   "name": "python3"
  },
  "language_info": {
   "codemirror_mode": {
    "name": "ipython",
    "version": 3
   },
   "file_extension": ".py",
   "mimetype": "text/x-python",
   "name": "python",
   "nbconvert_exporter": "python",
   "pygments_lexer": "ipython3",
   "version": "3.11.10"
  }
 },
 "nbformat": 4,
 "nbformat_minor": 4
}
