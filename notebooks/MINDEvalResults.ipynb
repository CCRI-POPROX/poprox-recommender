{
 "cells": [
  {
   "cell_type": "markdown",
   "metadata": {},
   "source": [
    "# Offline Evaluation Metrics Visualizations\n",
    "This notebook visualizes user-specific performance metrics of various recommenders in the MIND validation dataset to assess effectiveness and ranking overlap. We explore two metric groups:\n",
    "1. **Effectiveness Metrics**: We use ranking-based metrics, Normalized Discounted Cumulative Gain (NDCG) and Mean Reciprocal Rank (MRR), to evaluate recommender effectiveness.\n",
    "2. **Ranking Overlap Metrics**: We use Rank-Based Overlap (RBO) to assess consistency in top-k recommendations relative to fianl rankings."
   ]
  },
  {
   "cell_type": "markdown",
   "metadata": {},
   "source": [
    "## 1. Setup"
   ]
  },
  {
   "cell_type": "markdown",
   "metadata": {},
   "source": [
    "### 1. 1 Importing Libraries"
   ]
  },
  {
   "cell_type": "markdown",
   "metadata": {},
   "source": [
    "PyData packages:"
   ]
  },
  {
   "cell_type": "code",
   "execution_count": 7,
   "metadata": {},
   "outputs": [],
   "source": [
    "import numpy as np\n",
    "import pandas as pd\n",
    "import matplotlib.pyplot as plt\n",
    "import seaborn as sns\n",
    "from scipy.stats import sem, t"
   ]
  },
  {
   "cell_type": "markdown",
   "metadata": {},
   "source": [
    "Local code:"
   ]
  },
  {
   "cell_type": "code",
   "execution_count": 8,
   "metadata": {},
   "outputs": [],
   "source": [
    "from poprox_recommender.eval_tables import EvalTable\n",
    "from IPython.display import HTML"
   ]
  },
  {
   "cell_type": "markdown",
   "metadata": {},
   "source": [
    "### 1. 2 Loading Data"
   ]
  },
  {
   "cell_type": "code",
   "execution_count": 9,
   "metadata": {},
   "outputs": [
    {
     "data": {
      "text/html": [
       "<div>\n",
       "<style scoped>\n",
       "    .dataframe tbody tr th:only-of-type {\n",
       "        vertical-align: middle;\n",
       "    }\n",
       "\n",
       "    .dataframe tbody tr th {\n",
       "        vertical-align: top;\n",
       "    }\n",
       "\n",
       "    .dataframe thead th {\n",
       "        text-align: right;\n",
       "    }\n",
       "</style>\n",
       "<table border=\"1\" class=\"dataframe\">\n",
       "  <thead>\n",
       "    <tr style=\"text-align: right;\">\n",
       "      <th></th>\n",
       "      <th>user_id</th>\n",
       "      <th>recommender</th>\n",
       "      <th>NDCG@5</th>\n",
       "      <th>NDCG@10</th>\n",
       "      <th>MRR</th>\n",
       "      <th>RBO@5</th>\n",
       "      <th>RBO@10</th>\n",
       "      <th>personalized</th>\n",
       "    </tr>\n",
       "  </thead>\n",
       "  <tbody>\n",
       "    <tr>\n",
       "      <th>0</th>\n",
       "      <td>bf5bb199-a039-5d82-812b-a7f69df5788a</td>\n",
       "      <td>nrms</td>\n",
       "      <td>1.00000</td>\n",
       "      <td>1.00000</td>\n",
       "      <td>0.500000</td>\n",
       "      <td>0.409510</td>\n",
       "      <td>0.651322</td>\n",
       "      <td>True</td>\n",
       "    </tr>\n",
       "    <tr>\n",
       "      <th>1</th>\n",
       "      <td>bf5bb199-a039-5d82-812b-a7f69df5788a</td>\n",
       "      <td>mmr</td>\n",
       "      <td>0.63093</td>\n",
       "      <td>0.63093</td>\n",
       "      <td>0.333333</td>\n",
       "      <td>0.337510</td>\n",
       "      <td>0.501731</td>\n",
       "      <td>True</td>\n",
       "    </tr>\n",
       "    <tr>\n",
       "      <th>2</th>\n",
       "      <td>bf5bb199-a039-5d82-812b-a7f69df5788a</td>\n",
       "      <td>pfar</td>\n",
       "      <td>1.00000</td>\n",
       "      <td>1.00000</td>\n",
       "      <td>0.500000</td>\n",
       "      <td>0.409510</td>\n",
       "      <td>0.651322</td>\n",
       "      <td>True</td>\n",
       "    </tr>\n",
       "    <tr>\n",
       "      <th>3</th>\n",
       "      <td>bf5bb199-a039-5d82-812b-a7f69df5788a</td>\n",
       "      <td>topic-cali</td>\n",
       "      <td>1.00000</td>\n",
       "      <td>1.00000</td>\n",
       "      <td>0.500000</td>\n",
       "      <td>0.409510</td>\n",
       "      <td>0.651322</td>\n",
       "      <td>True</td>\n",
       "    </tr>\n",
       "    <tr>\n",
       "      <th>4</th>\n",
       "      <td>bf5bb199-a039-5d82-812b-a7f69df5788a</td>\n",
       "      <td>softmax</td>\n",
       "      <td>1.00000</td>\n",
       "      <td>1.00000</td>\n",
       "      <td>1.000000</td>\n",
       "      <td>0.232938</td>\n",
       "      <td>0.435088</td>\n",
       "      <td>True</td>\n",
       "    </tr>\n",
       "  </tbody>\n",
       "</table>\n",
       "</div>"
      ],
      "text/plain": [
       "                                user_id recommender   NDCG@5  NDCG@10  \\\n",
       "0  bf5bb199-a039-5d82-812b-a7f69df5788a        nrms  1.00000  1.00000   \n",
       "1  bf5bb199-a039-5d82-812b-a7f69df5788a         mmr  0.63093  0.63093   \n",
       "2  bf5bb199-a039-5d82-812b-a7f69df5788a        pfar  1.00000  1.00000   \n",
       "3  bf5bb199-a039-5d82-812b-a7f69df5788a  topic-cali  1.00000  1.00000   \n",
       "4  bf5bb199-a039-5d82-812b-a7f69df5788a     softmax  1.00000  1.00000   \n",
       "\n",
       "        MRR     RBO@5    RBO@10  personalized  \n",
       "0  0.500000  0.409510  0.651322          True  \n",
       "1  0.333333  0.337510  0.501731          True  \n",
       "2  0.500000  0.409510  0.651322          True  \n",
       "3  0.500000  0.409510  0.651322          True  \n",
       "4  1.000000  0.232938  0.435088          True  "
      ]
     },
     "execution_count": 9,
     "metadata": {},
     "output_type": "execute_result"
    }
   ],
   "source": [
    "mind_val_user_metrics = pd.read_csv('../outputs/mind-val-user-metrics.csv.gz')\n",
    "mind_val_user_metrics.head()"
   ]
  },
  {
   "cell_type": "code",
   "execution_count": 10,
   "metadata": {},
   "outputs": [],
   "source": [
    "metrics = ['NDCG@5', 'NDCG@10', 'MRR', 'RBO@5', 'RBO@10']"
   ]
  },
  {
   "cell_type": "markdown",
   "metadata": {},
   "source": [
    "## 2. Results"
   ]
  },
  {
   "cell_type": "markdown",
   "metadata": {},
   "source": [
    "### 2. 1 Effectiveness Metrics\n",
    "NDCG@5 shows how well the top 5 recommendations match user preferences, while NDCG@10 looks at the top 10. Comparing them helps us see how performance changes with longer recommendation lists. Likewise, MRR evaluates how quickly the most relevant item appears in the recommendations."
   ]
  },
  {
   "cell_type": "code",
   "execution_count": 11,
   "metadata": {},
   "outputs": [
    {
     "data": {
      "image/png": "[encoded data removed]",
      "text/plain": [
       "<Figure size 1200x300 with 3 Axes>"
      ]
     },
     "metadata": {},
     "output_type": "display_data"
    }
   ],
   "source": [
    "plt.figure(figsize=(12, 3))\n",
    "plt.subplots_adjust(wspace=0.3)\n",
    "\n",
    "for i, metric in enumerate(metrics[:3], 1):\n",
    "    plt.subplot(1, 3, i)\n",
    "    sns.barplot(data=mind_val_user_metrics, x='recommender', y=metric)\n",
    "    plt.xticks(fontsize=8)\n",
    "    plt.ylim(0, 1)\n",
    "    \n",
    "plt.show()"
   ]
  },
  {
   "cell_type": "markdown",
   "metadata": {},
   "source": [
    "The summary tables show the mean values and 95% confidence intervals for effectiveness metrics across recommenders."
   ]
  },
  {
   "cell_type": "code",
   "execution_count": 12,
   "metadata": {},
   "outputs": [
    {
     "ename": "KeyboardInterrupt",
     "evalue": "",
     "output_type": "error",
     "traceback": [
      "\u001b[0;31m---------------------------------------------------------------------------\u001b[0m",
      "\u001b[0;31mKeyboardInterrupt\u001b[0m                         Traceback (most recent call last)",
      "Cell \u001b[0;32mIn[12], line 3\u001b[0m\n\u001b[1;32m      1\u001b[0m \u001b[38;5;28;01mfor\u001b[39;00m metric \u001b[38;5;129;01min\u001b[39;00m metrics[:\u001b[38;5;241m3\u001b[39m]:\n\u001b[1;32m      2\u001b[0m     tw \u001b[38;5;241m=\u001b[39m EvalTable(mind_val_user_metrics, \u001b[38;5;124m'\u001b[39m\u001b[38;5;124mrecommender\u001b[39m\u001b[38;5;124m'\u001b[39m, metric)\n\u001b[0;32m----> 3\u001b[0m     \u001b[43mtw\u001b[49m\u001b[38;5;241;43m.\u001b[39;49m\u001b[43madd_stat\u001b[49m\u001b[43m(\u001b[49m\u001b[38;5;124;43m'\u001b[39;49m\u001b[38;5;124;43mMean\u001b[39;49m\u001b[38;5;124;43m'\u001b[39;49m\u001b[43m,\u001b[49m\u001b[43m \u001b[49m\u001b[43mnp\u001b[49m\u001b[38;5;241;43m.\u001b[39;49m\u001b[43mmean\u001b[49m\u001b[43m,\u001b[49m\u001b[43m \u001b[49m\u001b[43mci\u001b[49m\u001b[38;5;241;43m=\u001b[39;49m\u001b[38;5;28;43;01mTrue\u001b[39;49;00m\u001b[43m)\u001b[49m\n\u001b[1;32m      4\u001b[0m     \u001b[38;5;66;03m#tw.add_quantiles(['10%ile', 'Median', '90%ile'], [0.1, 0.5, 0.9], ci=True)\u001b[39;00m\n\u001b[1;32m      5\u001b[0m     display(HTML(\u001b[38;5;124mf\u001b[39m\u001b[38;5;124m\"\u001b[39m\u001b[38;5;124m<h3>Summary Table for \u001b[39m\u001b[38;5;132;01m{\u001b[39;00mmetric\u001b[38;5;132;01m}\u001b[39;00m\u001b[38;5;124m</h3>\u001b[39m\u001b[38;5;124m\"\u001b[39m))\n",
      "File \u001b[0;32m/storage/sp3886/poprox-recommender/src/poprox_recommender/eval_tables/__init__.py:42\u001b[0m, in \u001b[0;36mEvalTable.add_stat\u001b[0;34m(self, label, func, ci)\u001b[0m\n\u001b[1;32m     40\u001b[0m \u001b[38;5;28mself\u001b[39m\u001b[38;5;241m.\u001b[39mstats\u001b[38;5;241m.\u001b[39mappend(label)\n\u001b[1;32m     41\u001b[0m \u001b[38;5;28;01mfor\u001b[39;00m rd \u001b[38;5;129;01min\u001b[39;00m \u001b[38;5;28mself\u001b[39m\u001b[38;5;241m.\u001b[39mprogress(\u001b[38;5;28mself\u001b[39m\u001b[38;5;241m.\u001b[39mrowdata, desc\u001b[38;5;241m=\u001b[39mlabel):\n\u001b[0;32m---> 42\u001b[0m     sr \u001b[38;5;241m=\u001b[39m \u001b[43mu\u001b[49m\u001b[38;5;241;43m.\u001b[39;49m\u001b[43mestimate_stat\u001b[49m\u001b[43m(\u001b[49m\u001b[43mrd\u001b[49m\u001b[38;5;241;43m.\u001b[39;49m\u001b[43mdata\u001b[49m\u001b[43m,\u001b[49m\u001b[43m \u001b[49m\u001b[43mfunc\u001b[49m\u001b[43m,\u001b[49m\u001b[43m \u001b[49m\u001b[43mci\u001b[49m\u001b[38;5;241;43m=\u001b[39;49m\u001b[43mci\u001b[49m\u001b[43m)\u001b[49m\n\u001b[1;32m     43\u001b[0m     rd\u001b[38;5;241m.\u001b[39mstats\u001b[38;5;241m.\u001b[39mappend(sr)\n",
      "File \u001b[0;32m/storage/sp3886/poprox-recommender/src/poprox_recommender/eval_tables/statutil.py:43\u001b[0m, in \u001b[0;36mestimate_stat\u001b[0;34m(data, stat, ci, **kwargs)\u001b[0m\n\u001b[1;32m     40\u001b[0m     \u001b[38;5;28;01mreturn\u001b[39;00m StatCI(val, \u001b[38;5;28;01mNone\u001b[39;00m, \u001b[38;5;28;01mNone\u001b[39;00m)\n\u001b[1;32m     42\u001b[0m \u001b[38;5;66;03m# vectorization & BCA both impose massive memory costs\u001b[39;00m\n\u001b[0;32m---> 43\u001b[0m br \u001b[38;5;241m=\u001b[39m \u001b[43mbootstrap\u001b[49m\u001b[43m(\u001b[49m\u001b[43m[\u001b[49m\u001b[43mdata\u001b[49m\u001b[43m]\u001b[49m\u001b[43m,\u001b[49m\u001b[43m \u001b[49m\u001b[43mstat\u001b[49m\u001b[43m,\u001b[49m\u001b[43m \u001b[49m\u001b[43mmethod\u001b[49m\u001b[38;5;241;43m=\u001b[39;49m\u001b[38;5;124;43m\"\u001b[39;49m\u001b[38;5;124;43mbasic\u001b[39;49m\u001b[38;5;124;43m\"\u001b[39;49m\u001b[43m,\u001b[49m\u001b[43m \u001b[49m\u001b[43mvectorized\u001b[49m\u001b[38;5;241;43m=\u001b[39;49m\u001b[38;5;28;43;01mFalse\u001b[39;49;00m\u001b[43m,\u001b[49m\u001b[43m \u001b[49m\u001b[38;5;241;43m*\u001b[39;49m\u001b[38;5;241;43m*\u001b[39;49m\u001b[43mkwargs\u001b[49m\u001b[43m)\u001b[49m\n\u001b[1;32m     44\u001b[0m ci \u001b[38;5;241m=\u001b[39m br\u001b[38;5;241m.\u001b[39mconfidence_interval\n\u001b[1;32m     45\u001b[0m \u001b[38;5;28;01mreturn\u001b[39;00m StatCI(val, ci\u001b[38;5;241m.\u001b[39mlow, ci\u001b[38;5;241m.\u001b[39mhigh)\n",
      "File \u001b[0;32m/storage/sp3886/poprox-recommender/.pixi/envs/dev/lib/python3.11/site-packages/scipy/stats/_resampling.py:651\u001b[0m, in \u001b[0;36mbootstrap\u001b[0;34m(data, statistic, n_resamples, batch, vectorized, paired, axis, confidence_level, alternative, method, bootstrap_result, random_state)\u001b[0m\n\u001b[1;32m    649\u001b[0m resampled_data \u001b[38;5;241m=\u001b[39m []\n\u001b[1;32m    650\u001b[0m \u001b[38;5;28;01mfor\u001b[39;00m sample \u001b[38;5;129;01min\u001b[39;00m data:\n\u001b[0;32m--> 651\u001b[0m     resample \u001b[38;5;241m=\u001b[39m \u001b[43m_bootstrap_resample\u001b[49m\u001b[43m(\u001b[49m\u001b[43msample\u001b[49m\u001b[43m,\u001b[49m\u001b[43m \u001b[49m\u001b[43mn_resamples\u001b[49m\u001b[38;5;241;43m=\u001b[39;49m\u001b[43mbatch_actual\u001b[49m\u001b[43m,\u001b[49m\n\u001b[1;32m    652\u001b[0m \u001b[43m                                   \u001b[49m\u001b[43mrandom_state\u001b[49m\u001b[38;5;241;43m=\u001b[39;49m\u001b[43mrandom_state\u001b[49m\u001b[43m)\u001b[49m\n\u001b[1;32m    653\u001b[0m     resampled_data\u001b[38;5;241m.\u001b[39mappend(resample)\n\u001b[1;32m    655\u001b[0m \u001b[38;5;66;03m# Compute bootstrap distribution of statistic\u001b[39;00m\n",
      "File \u001b[0;32m/storage/sp3886/poprox-recommender/.pixi/envs/dev/lib/python3.11/site-packages/scipy/stats/_resampling.py:69\u001b[0m, in \u001b[0;36m_bootstrap_resample\u001b[0;34m(sample, n_resamples, random_state)\u001b[0m\n\u001b[1;32m     66\u001b[0m n \u001b[38;5;241m=\u001b[39m sample\u001b[38;5;241m.\u001b[39mshape[\u001b[38;5;241m-\u001b[39m\u001b[38;5;241m1\u001b[39m]\n\u001b[1;32m     68\u001b[0m \u001b[38;5;66;03m# bootstrap - each row is a random resample of original observations\u001b[39;00m\n\u001b[0;32m---> 69\u001b[0m i \u001b[38;5;241m=\u001b[39m \u001b[43mrng_integers\u001b[49m\u001b[43m(\u001b[49m\u001b[43mrandom_state\u001b[49m\u001b[43m,\u001b[49m\u001b[43m \u001b[49m\u001b[38;5;241;43m0\u001b[39;49m\u001b[43m,\u001b[49m\u001b[43m \u001b[49m\u001b[43mn\u001b[49m\u001b[43m,\u001b[49m\u001b[43m \u001b[49m\u001b[43m(\u001b[49m\u001b[43mn_resamples\u001b[49m\u001b[43m,\u001b[49m\u001b[43m \u001b[49m\u001b[43mn\u001b[49m\u001b[43m)\u001b[49m\u001b[43m)\u001b[49m\n\u001b[1;32m     71\u001b[0m resamples \u001b[38;5;241m=\u001b[39m sample[\u001b[38;5;241m.\u001b[39m\u001b[38;5;241m.\u001b[39m\u001b[38;5;241m.\u001b[39m, i]\n\u001b[1;32m     72\u001b[0m \u001b[38;5;28;01mreturn\u001b[39;00m resamples\n",
      "File \u001b[0;32m/storage/sp3886/poprox-recommender/.pixi/envs/dev/lib/python3.11/site-packages/scipy/_lib/_util.py:579\u001b[0m, in \u001b[0;36mrng_integers\u001b[0;34m(gen, low, high, size, dtype, endpoint)\u001b[0m\n\u001b[1;32m    576\u001b[0m         \u001b[38;5;28;01mreturn\u001b[39;00m gen\u001b[38;5;241m.\u001b[39mrandint(low, high\u001b[38;5;241m=\u001b[39mhigh \u001b[38;5;241m+\u001b[39m \u001b[38;5;241m1\u001b[39m, size\u001b[38;5;241m=\u001b[39msize, dtype\u001b[38;5;241m=\u001b[39mdtype)\n\u001b[1;32m    578\u001b[0m \u001b[38;5;66;03m# exclusive\u001b[39;00m\n\u001b[0;32m--> 579\u001b[0m \u001b[38;5;28;01mreturn\u001b[39;00m \u001b[43mgen\u001b[49m\u001b[38;5;241;43m.\u001b[39;49m\u001b[43mrandint\u001b[49m\u001b[43m(\u001b[49m\u001b[43mlow\u001b[49m\u001b[43m,\u001b[49m\u001b[43m \u001b[49m\u001b[43mhigh\u001b[49m\u001b[38;5;241;43m=\u001b[39;49m\u001b[43mhigh\u001b[49m\u001b[43m,\u001b[49m\u001b[43m \u001b[49m\u001b[43msize\u001b[49m\u001b[38;5;241;43m=\u001b[39;49m\u001b[43msize\u001b[49m\u001b[43m,\u001b[49m\u001b[43m \u001b[49m\u001b[43mdtype\u001b[49m\u001b[38;5;241;43m=\u001b[39;49m\u001b[43mdtype\u001b[49m\u001b[43m)\u001b[49m\n",
      "\u001b[0;31mKeyboardInterrupt\u001b[0m: "
     ]
    }
   ],
   "source": [
    "for metric in metrics[:3]:\n",
    "    tw = EvalTable(mind_val_user_metrics, 'recommender', metric)\n",
    "    tw.add_stat('Mean', np.mean, ci=True)\n",
    "    #tw.add_quantiles(['10%ile', 'Median', '90%ile'], [0.1, 0.5, 0.9], ci=True)\n",
    "    display(HTML(f\"<h3>Summary Table for {metric}</h3>\"))\n",
    "    display(HTML(tw.html_table()))"
   ]
  },
  {
   "cell_type": "markdown",
   "metadata": {},
   "source": [
    "### 2. 2 Ranking Overlap Metrics\n",
    "Define RBO: RBO@5 measures the overlap between the top 5 recommendations and the final rankings, while RBO@10 measures for the top 10. Comparing them shows how consistency changes with longer lists. "
   ]
  },
  {
   "cell_type": "code",
   "execution_count": null,
   "metadata": {},
   "outputs": [],
   "source": [
    "plt.figure(figsize=(8, 3))\n",
    "plt.subplots_adjust(wspace=0.3)\n",
    "\n",
    "for i, metric in enumerate(metrics[3:], 1):\n",
    "    plt.subplot(1, 2, i)\n",
    "    sns.barplot(data=mind_val_user_metrics, x='recommender', y=metric)\n",
    "    plt.title(metric)\n",
    "    plt.xticks(fontsize=8)\n",
    "    plt.ylim(0, 1)\n",
    "\n",
    "plt.show()"
   ]
  },
  {
   "cell_type": "markdown",
   "metadata": {},
   "source": [
    "The summary tables show the mean values and 95% confidence intervals for ranking overlap metrics across recommenders."
   ]
  },
  {
   "cell_type": "code",
   "execution_count": null,
   "metadata": {},
   "outputs": [],
   "source": [
    "for metric in metrics[3:]:\n",
    "    tw = EvalTable(mind_val_user_metrics, 'recommender', metric)\n",
    "    tw.add_stat('Mean', np.mean, ci=True)\n",
    "    #tw.add_quantiles(['10%ile', 'Median', '90%ile'], [0.1, 0.5, 0.9], ci=True)\n",
    "    display(HTML(f\"<h3>Summary Table for {metric}</h3>\"))\n",
    "    display(HTML(tw.html_table()))"
   ]
  }
 ],
 "metadata": {
  "jupytext": {
   "formats": "ipynb,md:myst"
  },
  "kernelspec": {
   "display_name": "Python 3 (ipykernel)",
   "language": "python",
   "name": "python3"
  },
  "language_info": {
   "codemirror_mode": {
    "name": "ipython",
    "version": 3
   },
   "file_extension": ".py",
   "mimetype": "text/x-python",
   "name": "python",
   "nbconvert_exporter": "python",
   "pygments_lexer": "ipython3",
   "version": "3.11.10"
  }
 },
 "nbformat": 4,
 "nbformat_minor": 4
}
