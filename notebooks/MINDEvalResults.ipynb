{
 "cells": [
  {
   "cell_type": "markdown",
   "metadata": {},
   "source": [
    "# Offline Evaluation Metrics Visualizations\n",
    "This notebook visualizes user-specific performance metrics of various recommenders in the MIND validation dataset to assess effectiveness and ranking overlap. We explore two metric groups:\n",
    "1. **Effectiveness Metrics**: We use ranking-based metrics, Normalized Discounted Cumulative Gain (NDCG) and Mean Reciprocal Rank (MRR), to evaluate recommender effectiveness.\n",
    "2. **Ranking Overlap Metrics**: We use Rank-Based Overlap (RBO) to assess consistency in top-k recommendations relative to fianl rankings."
   ]
  },
  {
   "cell_type": "markdown",
   "metadata": {},
   "source": [
    "## 1. Setup"
   ]
  },
  {
   "cell_type": "code",
   "execution_count": 6,
   "metadata": {},
   "outputs": [
    {
     "data": {
      "text/html": [
       "<div>\n",
       "<style scoped>\n",
       "    .dataframe tbody tr th:only-of-type {\n",
       "        vertical-align: middle;\n",
       "    }\n",
       "\n",
       "    .dataframe tbody tr th {\n",
       "        vertical-align: top;\n",
       "    }\n",
       "\n",
       "    .dataframe thead th {\n",
       "        text-align: right;\n",
       "    }\n",
       "</style>\n",
       "<table border=\"1\" class=\"dataframe\">\n",
       "  <thead>\n",
       "    <tr style=\"text-align: right;\">\n",
       "      <th></th>\n",
       "      <th>user_id</th>\n",
       "      <th>recommender</th>\n",
       "      <th>NDCG@5</th>\n",
       "      <th>NDCG@10</th>\n",
       "      <th>MRR</th>\n",
       "      <th>RBO@5</th>\n",
       "      <th>RBO@10</th>\n",
       "      <th>personalized</th>\n",
       "    </tr>\n",
       "  </thead>\n",
       "  <tbody>\n",
       "    <tr>\n",
       "      <th>0</th>\n",
       "      <td>bf5bb199-a039-5d82-812b-a7f69df5788a</td>\n",
       "      <td>nrms</td>\n",
       "      <td>1.00000</td>\n",
       "      <td>1.00000</td>\n",
       "      <td>0.500000</td>\n",
       "      <td>0.409510</td>\n",
       "      <td>0.651322</td>\n",
       "      <td>True</td>\n",
       "    </tr>\n",
       "    <tr>\n",
       "      <th>1</th>\n",
       "      <td>bf5bb199-a039-5d82-812b-a7f69df5788a</td>\n",
       "      <td>mmr</td>\n",
       "      <td>0.63093</td>\n",
       "      <td>0.63093</td>\n",
       "      <td>0.333333</td>\n",
       "      <td>0.337510</td>\n",
       "      <td>0.501731</td>\n",
       "      <td>True</td>\n",
       "    </tr>\n",
       "    <tr>\n",
       "      <th>2</th>\n",
       "      <td>bf5bb199-a039-5d82-812b-a7f69df5788a</td>\n",
       "      <td>pfar</td>\n",
       "      <td>1.00000</td>\n",
       "      <td>1.00000</td>\n",
       "      <td>0.500000</td>\n",
       "      <td>0.409510</td>\n",
       "      <td>0.651322</td>\n",
       "      <td>True</td>\n",
       "    </tr>\n",
       "    <tr>\n",
       "      <th>3</th>\n",
       "      <td>bf5bb199-a039-5d82-812b-a7f69df5788a</td>\n",
       "      <td>topic-cali</td>\n",
       "      <td>1.00000</td>\n",
       "      <td>1.00000</td>\n",
       "      <td>0.500000</td>\n",
       "      <td>0.409510</td>\n",
       "      <td>0.651322</td>\n",
       "      <td>True</td>\n",
       "    </tr>\n",
       "    <tr>\n",
       "      <th>4</th>\n",
       "      <td>bf5bb199-a039-5d82-812b-a7f69df5788a</td>\n",
       "      <td>softmax</td>\n",
       "      <td>1.00000</td>\n",
       "      <td>1.00000</td>\n",
       "      <td>1.000000</td>\n",
       "      <td>0.232938</td>\n",
       "      <td>0.435088</td>\n",
       "      <td>True</td>\n",
       "    </tr>\n",
       "  </tbody>\n",
       "</table>\n",
       "</div>"
      ],
      "text/plain": [
       "                                user_id recommender   NDCG@5  NDCG@10  \\\n",
       "0  bf5bb199-a039-5d82-812b-a7f69df5788a        nrms  1.00000  1.00000   \n",
       "1  bf5bb199-a039-5d82-812b-a7f69df5788a         mmr  0.63093  0.63093   \n",
       "2  bf5bb199-a039-5d82-812b-a7f69df5788a        pfar  1.00000  1.00000   \n",
       "3  bf5bb199-a039-5d82-812b-a7f69df5788a  topic-cali  1.00000  1.00000   \n",
       "4  bf5bb199-a039-5d82-812b-a7f69df5788a     softmax  1.00000  1.00000   \n",
       "\n",
       "        MRR     RBO@5    RBO@10  personalized  \n",
       "0  0.500000  0.409510  0.651322          True  \n",
       "1  0.333333  0.337510  0.501731          True  \n",
       "2  0.500000  0.409510  0.651322          True  \n",
       "3  0.500000  0.409510  0.651322          True  \n",
       "4  1.000000  0.232938  0.435088          True  "
      ]
     },
     "execution_count": 6,
     "metadata": {},
     "output_type": "execute_result"
    }
   ],
   "source": [
    "# Importing Libraries\n",
    "import numpy as np\n",
    "import pandas as pd\n",
    "import matplotlib.pyplot as plt\n",
    "import seaborn as sns\n",
    "from scipy.stats import sem, t\n",
    "from IPython.display import display, HTML\n",
    "\n",
    "# Loading Data\n",
    "mind_val_user_metrics = pd.read_csv('../outputs/mind-val-user-metrics.csv.gz')\n",
    "mind_val_user_metrics.head()"
   ]
  },
  {
   "cell_type": "markdown",
   "metadata": {},
   "source": [
    "## 2. Visualizations\n",
    "To evaluate the plot, look for higher values in the bars. Higher values indicate better performance in terms of the respective metric. Error bars show the variability of the results. The exact values of the error bars are provided in the summary table below."
   ]
  },
  {
   "cell_type": "markdown",
   "metadata": {},
   "source": [
    "### 2. 1 Effectiveness Metrics"
   ]
  },
  {
   "cell_type": "code",
   "execution_count": 7,
   "metadata": {},
   "outputs": [
    {
     "data": {
      "image/png": "[encoded data removed]",
      "text/plain": [
       "<Figure size 1200x300 with 3 Axes>"
      ]
     },
     "metadata": {},
     "output_type": "display_data"
    }
   ],
   "source": [
    "plt.figure(figsize=(12, 3))\n",
    "plt.subplots_adjust(wspace=0.3)\n",
    "\n",
    "plt.subplot(1, 3, 1)\n",
    "sns.barplot(data=mind_val_user_metrics, x='recommender', y='NDCG@5')\n",
    "plt.xticks(fontsize=8)\n",
    "\n",
    "plt.subplot(1, 3, 2)\n",
    "sns.barplot(data=mind_val_user_metrics, x='recommender', y='NDCG@10')\n",
    "plt.xticks(fontsize=8)\n",
    "\n",
    "plt.subplot(1, 3, 3)\n",
    "sns.barplot(data=mind_val_user_metrics, x='recommender', y='MRR')\n",
    "plt.xticks(fontsize=8)\n",
    "\n",
    "plt.show()"
   ]
  },
  {
   "cell_type": "code",
   "execution_count": 8,
   "metadata": {},
   "outputs": [
    {
     "data": {
      "text/html": [
       "<div style='display: inline-block; margin-right: 50px;'><h3>Summary Table for NDCG@5</h3><table border=\"1\" class=\"dataframe\">\n",
       "  <thead>\n",
       "    <tr style=\"text-align: right;\">\n",
       "      <th>recommender</th>\n",
       "      <th>Mean (95% CI)</th>\n",
       "    </tr>\n",
       "  </thead>\n",
       "  <tbody>\n",
       "    <tr>\n",
       "      <td>mmr</td>\n",
       "      <td>0.3600<br>(0.3583 - 0.3617)</td>\n",
       "    </tr>\n",
       "    <tr>\n",
       "      <td>nrms</td>\n",
       "      <td>0.4520<br>(0.4504 - 0.4535)</td>\n",
       "    </tr>\n",
       "    <tr>\n",
       "      <td>pfar</td>\n",
       "      <td>0.4533<br>(0.4518 - 0.4548)</td>\n",
       "    </tr>\n",
       "    <tr>\n",
       "      <td>softmax</td>\n",
       "      <td>0.4182<br>(0.4167 - 0.4197)</td>\n",
       "    </tr>\n",
       "    <tr>\n",
       "      <td>topic-cali</td>\n",
       "      <td>0.4533<br>(0.4517 - 0.4548)</td>\n",
       "    </tr>\n",
       "  </tbody>\n",
       "</table></div><div style='display: inline-block; margin-right: 50px;'><h3>Summary Table for NDCG@10</h3><table border=\"1\" class=\"dataframe\">\n",
       "  <thead>\n",
       "    <tr style=\"text-align: right;\">\n",
       "      <th>recommender</th>\n",
       "      <th>Mean (95% CI)</th>\n",
       "    </tr>\n",
       "  </thead>\n",
       "  <tbody>\n",
       "    <tr>\n",
       "      <td>mmr</td>\n",
       "      <td>0.5049<br>(0.5024 - 0.5074)</td>\n",
       "    </tr>\n",
       "    <tr>\n",
       "      <td>nrms</td>\n",
       "      <td>0.5472<br>(0.5457 - 0.5487)</td>\n",
       "    </tr>\n",
       "    <tr>\n",
       "      <td>pfar</td>\n",
       "      <td>0.5492<br>(0.5477 - 0.5507)</td>\n",
       "    </tr>\n",
       "    <tr>\n",
       "      <td>softmax</td>\n",
       "      <td>0.5173<br>(0.5158 - 0.5188)</td>\n",
       "    </tr>\n",
       "    <tr>\n",
       "      <td>topic-cali</td>\n",
       "      <td>0.5491<br>(0.5476 - 0.5506)</td>\n",
       "    </tr>\n",
       "  </tbody>\n",
       "</table></div><div style='display: inline-block; margin-right: 50px;'><h3>Summary Table for MRR</h3><table border=\"1\" class=\"dataframe\">\n",
       "  <thead>\n",
       "    <tr style=\"text-align: right;\">\n",
       "      <th>recommender</th>\n",
       "      <th>Mean (95% CI)</th>\n",
       "    </tr>\n",
       "  </thead>\n",
       "  <tbody>\n",
       "    <tr>\n",
       "      <td>mmr</td>\n",
       "      <td>0.3128<br>(0.3116 - 0.3140)</td>\n",
       "    </tr>\n",
       "    <tr>\n",
       "      <td>nrms</td>\n",
       "      <td>0.3715<br>(0.3704 - 0.3727)</td>\n",
       "    </tr>\n",
       "    <tr>\n",
       "      <td>pfar</td>\n",
       "      <td>0.3716<br>(0.3704 - 0.3727)</td>\n",
       "    </tr>\n",
       "    <tr>\n",
       "      <td>softmax</td>\n",
       "      <td>0.3333<br>(0.3322 - 0.3344)</td>\n",
       "    </tr>\n",
       "    <tr>\n",
       "      <td>topic-cali</td>\n",
       "      <td>0.3716<br>(0.3704 - 0.3727)</td>\n",
       "    </tr>\n",
       "  </tbody>\n",
       "</table></div>"
      ],
      "text/plain": [
       "<IPython.core.display.HTML object>"
      ]
     },
     "metadata": {},
     "output_type": "display_data"
    }
   ],
   "source": [
    "# Function to calculate CI\n",
    "def calculate_ci(data, confidence=0.95):\n",
    "    se = sem(data)\n",
    "    h = se * t.ppf((1 + confidence) / 2, len(data) - 1)\n",
    "    return (np.mean(data) - h, np.mean(data) + h)\n",
    "\n",
    "metrics = ['NDCG@5', 'NDCG@10', 'MRR']\n",
    "\n",
    "html_tables = \"\"\n",
    "\n",
    "# Generate summary tables\n",
    "for metric in metrics:\n",
    "    summary_table = mind_val_user_metrics.groupby('recommender')[metric].agg(\n",
    "        Mean='mean'\n",
    "    ).reset_index()\n",
    "\n",
    "    summary_table['Mean (95% CI)'] = summary_table.apply(\n",
    "        lambda row: (\n",
    "            f\"{row['Mean']:.4f}<br>\"\n",
    "            f\"({calculate_ci(mind_val_user_metrics[mind_val_user_metrics['recommender'] == row['recommender']][metric])[0]:.4f} \"\n",
    "            f\"- {calculate_ci(mind_val_user_metrics[mind_val_user_metrics['recommender'] == row['recommender']][metric])[1]:.4f})\"\n",
    "        ),\n",
    "        axis=1\n",
    "    )\n",
    "\n",
    "    summary_table = summary_table[['recommender', 'Mean (95% CI)']]\n",
    "\n",
    "    # Add to html_tables string for side by side display\n",
    "    html_tables+= f\"<div style='display: inline-block; margin-right: 50px;'><h3>Summary Table for {metric}</h3>{summary_table.to_html(index=False, escape=False)}</div>\"\n",
    "\n",
    "display(HTML(html_tables))"
   ]
  },
  {
   "cell_type": "markdown",
   "metadata": {},
   "source": [
    "### 2. 2 Ranking Overlap Metrics"
   ]
  },
  {
   "cell_type": "code",
   "execution_count": 9,
   "metadata": {},
   "outputs": [
    {
     "data": {
      "image/png": "[encoded data removed]",
      "text/plain": [
       "<Figure size 800x300 with 2 Axes>"
      ]
     },
     "metadata": {},
     "output_type": "display_data"
    }
   ],
   "source": [
    "plt.figure(figsize=(8, 3))\n",
    "\n",
    "plt.subplots_adjust(wspace=0.3)\n",
    "\n",
    "plt.subplot(1, 2, 1)\n",
    "sns.barplot(data=mind_val_user_metrics, x='recommender', y='RBO@5')\n",
    "plt.xticks(fontsize=8)\n",
    "\n",
    "plt.subplot(1, 2, 2)\n",
    "sns.barplot(data=mind_val_user_metrics, x='recommender', y='RBO@10')\n",
    "plt.xticks(fontsize=8)\n",
    "\n",
    "plt.show()"
   ]
  },
  {
   "cell_type": "code",
   "execution_count": 10,
   "metadata": {},
   "outputs": [
    {
     "data": {
      "text/html": [
       "<div style='display: inline-block; margin-right: 50px;'><h3>Summary Table for RBO@5</h3><table border=\"1\" class=\"dataframe\">\n",
       "  <thead>\n",
       "    <tr style=\"text-align: right;\">\n",
       "      <th>recommender</th>\n",
       "      <th>Mean (95% CI)</th>\n",
       "    </tr>\n",
       "  </thead>\n",
       "  <tbody>\n",
       "    <tr>\n",
       "      <td>mmr</td>\n",
       "      <td>0.2272<br>(0.2270 - 0.2274)</td>\n",
       "    </tr>\n",
       "    <tr>\n",
       "      <td>nrms</td>\n",
       "      <td>0.3913<br>(0.3910 - 0.3915)</td>\n",
       "    </tr>\n",
       "    <tr>\n",
       "      <td>pfar</td>\n",
       "      <td>0.3913<br>(0.3910 - 0.3915)</td>\n",
       "    </tr>\n",
       "    <tr>\n",
       "      <td>softmax</td>\n",
       "      <td>0.2104<br>(0.2100 - 0.2107)</td>\n",
       "    </tr>\n",
       "    <tr>\n",
       "      <td>topic-cali</td>\n",
       "      <td>0.3913<br>(0.3910 - 0.3915)</td>\n",
       "    </tr>\n",
       "  </tbody>\n",
       "</table></div><div style='display: inline-block; margin-right: 50px;'><h3>Summary Table for RBO@10</h3><table border=\"1\" class=\"dataframe\">\n",
       "  <thead>\n",
       "    <tr style=\"text-align: right;\">\n",
       "      <th>recommender</th>\n",
       "      <th>Mean (95% CI)</th>\n",
       "    </tr>\n",
       "  </thead>\n",
       "  <tbody>\n",
       "    <tr>\n",
       "      <td>mmr</td>\n",
       "      <td>0.3233<br>(0.3230 - 0.3237)</td>\n",
       "    </tr>\n",
       "    <tr>\n",
       "      <td>nrms</td>\n",
       "      <td>0.6078<br>(0.6074 - 0.6082)</td>\n",
       "    </tr>\n",
       "    <tr>\n",
       "      <td>pfar</td>\n",
       "      <td>0.6078<br>(0.6074 - 0.6082)</td>\n",
       "    </tr>\n",
       "    <tr>\n",
       "      <td>softmax</td>\n",
       "      <td>0.3731<br>(0.3726 - 0.3735)</td>\n",
       "    </tr>\n",
       "    <tr>\n",
       "      <td>topic-cali</td>\n",
       "      <td>0.6078<br>(0.6074 - 0.6082)</td>\n",
       "    </tr>\n",
       "  </tbody>\n",
       "</table></div>"
      ],
      "text/plain": [
       "<IPython.core.display.HTML object>"
      ]
     },
     "metadata": {},
     "output_type": "display_data"
    }
   ],
   "source": [
    "metrics = ['RBO@5', 'RBO@10']\n",
    "\n",
    "html_tables = \"\"\n",
    "\n",
    "for metric in metrics:\n",
    "    summary_table = mind_val_user_metrics.groupby('recommender')[metric].agg(\n",
    "        Mean='mean'\n",
    "    ).reset_index()\n",
    "\n",
    "    summary_table['Mean (95% CI)'] = summary_table.apply(\n",
    "        lambda row: (\n",
    "            f\"{row['Mean']:.4f}<br>\"\n",
    "            f\"({calculate_ci(mind_val_user_metrics[mind_val_user_metrics['recommender'] == row['recommender']][metric])[0]:.4f} \"\n",
    "            f\"- {calculate_ci(mind_val_user_metrics[mind_val_user_metrics['recommender'] == row['recommender']][metric])[1]:.4f})\"\n",
    "        ),\n",
    "        axis=1\n",
    "    )\n",
    "\n",
    "    summary_table = summary_table[['recommender', 'Mean (95% CI)']]\n",
    "\n",
    "    html_tables+= f\"<div style='display: inline-block; margin-right: 50px;'><h3>Summary Table for {metric}</h3>{summary_table.to_html(index=False, escape=False)}</div>\"\n",
    "\n",
    "display(HTML(html_tables))"
   ]
  }
 ],
 "metadata": {
  "jupytext": {
   "formats": "ipynb,md:myst"
  },
  "kernelspec": {
   "display_name": "Python 3 (ipykernel)",
   "language": "python",
   "name": "python3"
  },
  "language_info": {
   "codemirror_mode": {
    "name": "ipython",
    "version": 3
   },
   "file_extension": ".py",
   "mimetype": "text/x-python",
   "name": "python",
   "nbconvert_exporter": "python",
   "pygments_lexer": "ipython3",
   "version": "3.11.10"
  }
 },
 "nbformat": 4,
 "nbformat_minor": 4
}
