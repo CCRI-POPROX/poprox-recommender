{
 "cells": [
  {
   "cell_type": "markdown",
   "id": "a1c2fa42",
   "metadata": {},
   "source": [
    "# Offline Evaluation Metrics Visualizations\n",
    "This notebook visualizes user-specific performance metrics of various recommenders in the mind-subset dataset to assess effectiveness and ranking overlap. We explore two metric groups:\n",
    "1. **Effectiveness Metrics**: We use ranking-based metrics, Normalized Discounted Cumulative Gain (NDCG) and Reciprocal Rank (RR), to evaluate recommender effectiveness.\n",
    "2. **Ranking Overlap Metrics**: We use Rank-Based Overlap (RBO) to assess consistency in top-k recommendations relative to final rankings."
   ]
  },
  {
   "cell_type": "markdown",
   "id": "7118cd15",
   "metadata": {},
   "source": [
    "## 1. Setup"
   ]
  },
  {
   "cell_type": "markdown",
   "id": "b31d5e95",
   "metadata": {},
   "source": [
    "### 1. 1 Importing Libraries"
   ]
  },
  {
   "cell_type": "markdown",
   "id": "f20de022",
   "metadata": {},
   "source": [
    "PyData packages:"
   ]
  },
  {
   "cell_type": "code",
   "execution_count": 1,
   "id": "ce5b29c3",
   "metadata": {
    "execution": {
     "iopub.execute_input": "2024-11-26T21:59:35.885595Z",
     "iopub.status.busy": "2024-11-26T21:59:35.885424Z",
     "iopub.status.idle": "2024-11-26T21:59:36.780319Z",
     "shell.execute_reply": "2024-11-26T21:59:36.779384Z"
    }
   },
   "outputs": [],
   "source": [
    "import matplotlib.pyplot as plt\n",
    "import numpy as np\n",
    "import pandas as pd\n",
    "import seaborn as sns"
   ]
  },
  {
   "cell_type": "markdown",
   "id": "e722bb36",
   "metadata": {},
   "source": [
    "Local code:"
   ]
  },
  {
   "cell_type": "code",
   "execution_count": 2,
   "id": "c69dda27",
   "metadata": {
    "execution": {
     "iopub.execute_input": "2024-11-26T21:59:36.783209Z",
     "iopub.status.busy": "2024-11-26T21:59:36.782956Z",
     "iopub.status.idle": "2024-11-26T21:59:36.787596Z",
     "shell.execute_reply": "2024-11-26T21:59:36.786995Z"
    }
   },
   "outputs": [],
   "source": [
    "from IPython.display import HTML\n",
    "\n",
    "from poprox_recommender.eval_tables import EvalTable"
   ]
  },
  {
   "cell_type": "markdown",
   "id": "4cf08e0c",
   "metadata": {},
   "source": [
    "Set up progress:"
   ]
  },
  {
   "cell_type": "code",
   "execution_count": 3,
   "id": "2d9d7565",
   "metadata": {
    "execution": {
     "iopub.execute_input": "2024-11-26T21:59:36.789694Z",
     "iopub.status.busy": "2024-11-26T21:59:36.789538Z",
     "iopub.status.idle": "2024-11-26T21:59:36.797180Z",
     "shell.execute_reply": "2024-11-26T21:59:36.796547Z"
    }
   },
   "outputs": [
    {
     "name": "stderr",
     "output_type": "stream",
     "text": [
      "/tmp/ipykernel_363318/2439040576.py:1: TqdmWarning: IProgress not found. Please update jupyter and ipywidgets. See https://ipywidgets.readthedocs.io/en/stable/user_install.html\n",
      "  from tqdm.autonotebook import tqdm as notebook_tqdm\n"
     ]
    }
   ],
   "source": [
    "from tqdm.autonotebook import tqdm as notebook_tqdm"
   ]
  },
  {
   "cell_type": "markdown",
   "id": "84963ce3",
   "metadata": {},
   "source": [
    "### 1. 2 Loading Data"
   ]
  },
  {
   "cell_type": "code",
   "execution_count": 4,
   "id": "f78eca3b",
   "metadata": {
    "execution": {
     "iopub.execute_input": "2024-11-26T21:59:36.798787Z",
     "iopub.status.busy": "2024-11-26T21:59:36.798630Z",
     "iopub.status.idle": "2024-11-26T21:59:36.823207Z",
     "shell.execute_reply": "2024-11-26T21:59:36.822580Z"
    }
   },
   "outputs": [
    {
     "data": {
      "text/html": [
       "<div>\n",
       "<style scoped>\n",
       "    .dataframe tbody tr th:only-of-type {\n",
       "        vertical-align: middle;\n",
       "    }\n",
       "\n",
       "    .dataframe tbody tr th {\n",
       "        vertical-align: top;\n",
       "    }\n",
       "\n",
       "    .dataframe thead th {\n",
       "        text-align: right;\n",
       "    }\n",
       "</style>\n",
       "<table border=\"1\" class=\"dataframe\">\n",
       "  <thead>\n",
       "    <tr style=\"text-align: right;\">\n",
       "      <th></th>\n",
       "      <th>Unnamed: 0</th>\n",
       "      <th>profile_id</th>\n",
       "      <th>recommender</th>\n",
       "      <th>personalized</th>\n",
       "      <th>NDCG@5</th>\n",
       "      <th>NDCG@10</th>\n",
       "      <th>RR</th>\n",
       "      <th>RBO@5</th>\n",
       "      <th>RBO@10</th>\n",
       "    </tr>\n",
       "  </thead>\n",
       "  <tbody>\n",
       "    <tr>\n",
       "      <th>0</th>\n",
       "      <td>0</td>\n",
       "      <td>0120aa53-e102-5328-8a96-2a71a9bf9083</td>\n",
       "      <td>nrms</td>\n",
       "      <td>True</td>\n",
       "      <td>0.63093</td>\n",
       "      <td>0.63093</td>\n",
       "      <td>0.333333</td>\n",
       "      <td>0.409510</td>\n",
       "      <td>0.651322</td>\n",
       "    </tr>\n",
       "    <tr>\n",
       "      <th>1</th>\n",
       "      <td>1</td>\n",
       "      <td>0120aa53-e102-5328-8a96-2a71a9bf9083</td>\n",
       "      <td>mmr</td>\n",
       "      <td>True</td>\n",
       "      <td>0.00000</td>\n",
       "      <td>0.00000</td>\n",
       "      <td>0.000000</td>\n",
       "      <td>0.203347</td>\n",
       "      <td>0.235416</td>\n",
       "    </tr>\n",
       "    <tr>\n",
       "      <th>2</th>\n",
       "      <td>2</td>\n",
       "      <td>0120aa53-e102-5328-8a96-2a71a9bf9083</td>\n",
       "      <td>pfar</td>\n",
       "      <td>True</td>\n",
       "      <td>0.63093</td>\n",
       "      <td>0.63093</td>\n",
       "      <td>0.333333</td>\n",
       "      <td>0.409510</td>\n",
       "      <td>0.651322</td>\n",
       "    </tr>\n",
       "    <tr>\n",
       "      <th>3</th>\n",
       "      <td>3</td>\n",
       "      <td>0120aa53-e102-5328-8a96-2a71a9bf9083</td>\n",
       "      <td>topic-cali</td>\n",
       "      <td>True</td>\n",
       "      <td>0.63093</td>\n",
       "      <td>0.63093</td>\n",
       "      <td>0.333333</td>\n",
       "      <td>0.409510</td>\n",
       "      <td>0.651322</td>\n",
       "    </tr>\n",
       "    <tr>\n",
       "      <th>4</th>\n",
       "      <td>4</td>\n",
       "      <td>0120aa53-e102-5328-8a96-2a71a9bf9083</td>\n",
       "      <td>locality-cali</td>\n",
       "      <td>True</td>\n",
       "      <td>0.63093</td>\n",
       "      <td>0.63093</td>\n",
       "      <td>0.333333</td>\n",
       "      <td>0.409510</td>\n",
       "      <td>0.651322</td>\n",
       "    </tr>\n",
       "  </tbody>\n",
       "</table>\n",
       "</div>"
      ],
      "text/plain": [
       "   Unnamed: 0                            profile_id    recommender  \\\n",
       "0           0  0120aa53-e102-5328-8a96-2a71a9bf9083           nrms   \n",
       "1           1  0120aa53-e102-5328-8a96-2a71a9bf9083            mmr   \n",
       "2           2  0120aa53-e102-5328-8a96-2a71a9bf9083           pfar   \n",
       "3           3  0120aa53-e102-5328-8a96-2a71a9bf9083     topic-cali   \n",
       "4           4  0120aa53-e102-5328-8a96-2a71a9bf9083  locality-cali   \n",
       "\n",
       "   personalized   NDCG@5  NDCG@10        RR     RBO@5    RBO@10  \n",
       "0          True  0.63093  0.63093  0.333333  0.409510  0.651322  \n",
       "1          True  0.00000  0.00000  0.000000  0.203347  0.235416  \n",
       "2          True  0.63093  0.63093  0.333333  0.409510  0.651322  \n",
       "3          True  0.63093  0.63093  0.333333  0.409510  0.651322  \n",
       "4          True  0.63093  0.63093  0.333333  0.409510  0.651322  "
      ]
     },
     "execution_count": 4,
     "metadata": {},
     "output_type": "execute_result"
    }
   ],
   "source": [
    "mind_subset_user_metrics = pd.read_csv(\"../outputs/mind-subset/profile-metrics.csv.gz\")\n",
    "mind_subset_user_metrics.head()"
   ]
  },
  {
   "cell_type": "code",
   "execution_count": 5,
   "id": "dcbdf91a",
   "metadata": {
    "execution": {
     "iopub.execute_input": "2024-11-26T21:59:36.825023Z",
     "iopub.status.busy": "2024-11-26T21:59:36.824861Z",
     "iopub.status.idle": "2024-11-26T21:59:36.827804Z",
     "shell.execute_reply": "2024-11-26T21:59:36.827263Z"
    }
   },
   "outputs": [],
   "source": [
    "effectiveness_metrics = [\"NDCG@5\", \"NDCG@10\", \"RR\"]\n",
    "overlap_metrics = [\"RBO@5\", \"RBO@10\"]"
   ]
  },
  {
   "cell_type": "markdown",
   "id": "1a40c311",
   "metadata": {},
   "source": [
    "## 2. Results"
   ]
  },
  {
   "cell_type": "markdown",
   "id": "f6e0c14c",
   "metadata": {},
   "source": [
    "### 2. 1 Effectiveness Metrics\n",
    "NDCG measures how well the recommendations align with user test data, focusing on the top-k positions, such as the top 5 (NDCG@5) or top 10 (NDCG@10). Likewise, RR evaluates how well the recommender finds the most relevant item as the top result."
   ]
  },
  {
   "cell_type": "code",
   "execution_count": 6,
   "id": "c5405f31",
   "metadata": {
    "execution": {
     "iopub.execute_input": "2024-11-26T21:59:36.829823Z",
     "iopub.status.busy": "2024-11-26T21:59:36.829672Z",
     "iopub.status.idle": "2024-11-26T21:59:37.537725Z",
     "shell.execute_reply": "2024-11-26T21:59:37.537104Z"
    }
   },
   "outputs": [
    {
     "data": {
      "image/png": "[encoded data removed]",
      "text/plain": [
       "<Figure size 1200x300 with 3 Axes>"
      ]
     },
     "metadata": {},
     "output_type": "display_data"
    }
   ],
   "source": [
    "plt.figure(figsize=(12, 3))\n",
    "plt.subplots_adjust(wspace=0.3)\n",
    "\n",
    "for i, metric in enumerate(effectiveness_metrics, 1):\n",
    "    plt.subplot(1, 3, i)\n",
    "    sns.barplot(data=mind_subset_user_metrics, x=\"recommender\", y=metric)\n",
    "    plt.xticks(rotation=45)\n",
    "\n",
    "plt.show()"
   ]
  },
  {
   "cell_type": "markdown",
   "id": "57630506",
   "metadata": {},
   "source": [
    "The summary tables show the mean values, standard deviation, and quantiles (10%ile, Median, 90%ile), each accompanied by their respective 95% confidence intervals for effectiveness metrics across recommenders."
   ]
  },
  {
   "cell_type": "code",
   "execution_count": 7,
   "id": "e6695fed",
   "metadata": {
    "execution": {
     "iopub.execute_input": "2024-11-26T21:59:37.539458Z",
     "iopub.status.busy": "2024-11-26T21:59:37.539294Z",
     "iopub.status.idle": "2024-11-26T22:00:07.833481Z",
     "shell.execute_reply": "2024-11-26T22:00:07.832388Z"
    }
   },
   "outputs": [
    {
     "name": "stderr",
     "output_type": "stream",
     "text": [
      "\r",
      "Mean:   0%|                                                                                                                                                              | 0/6 [00:00<?, ?it/s]"
     ]
    },
    {
     "name": "stderr",
     "output_type": "stream",
     "text": [
      "\r",
      "Mean:  17%|█████████████████████████                                                                                                                             | 1/6 [00:00<00:01,  4.59it/s]"
     ]
    },
    {
     "name": "stderr",
     "output_type": "stream",
     "text": [
      "\r",
      "Mean:  33%|██████████████████████████████████████████████████                                                                                                    | 2/6 [00:00<00:00,  4.68it/s]"
     ]
    },
    {
     "name": "stderr",
     "output_type": "stream",
     "text": [
      "\r",
      "Mean:  50%|███████████████████████████████████████████████████████████████████████████                                                                           | 3/6 [00:00<00:00,  4.69it/s]"
     ]
    },
    {
     "name": "stderr",
     "output_type": "stream",
     "text": [
      "\r",
      "Mean:  67%|████████████████████████████████████████████████████████████████████████████████████████████████████                                                  | 4/6 [00:00<00:00,  4.71it/s]"
     ]
    },
    {
     "name": "stderr",
     "output_type": "stream",
     "text": [
      "\r",
      "Mean:  83%|█████████████████████████████████████████████████████████████████████████████████████████████████████████████████████████████                         | 5/6 [00:01<00:00,  4.70it/s]"
     ]
    },
    {
     "name": "stderr",
     "output_type": "stream",
     "text": [
      "\r",
      "Mean: 100%|██████████████████████████████████████████████████████████████████████████████████████████████████████████████████████████████████████████████████████| 6/6 [00:01<00:00,  4.69it/s]"
     ]
    },
    {
     "name": "stderr",
     "output_type": "stream",
     "text": [
      "\r",
      "Mean: 100%|██████████████████████████████████████████████████████████████████████████████████████████████████████████████████████████████████████████████████████| 6/6 [00:01<00:00,  4.69it/s]"
     ]
    },
    {
     "name": "stderr",
     "output_type": "stream",
     "text": [
      "\n"
     ]
    },
    {
     "name": "stderr",
     "output_type": "stream",
     "text": [
      "\r",
      "Std Dev:   0%|                                                                                                                                                           | 0/6 [00:00<?, ?it/s]"
     ]
    },
    {
     "name": "stderr",
     "output_type": "stream",
     "text": [
      "\r",
      "Std Dev:  17%|████████████████████████▌                                                                                                                          | 1/6 [00:00<00:01,  2.80it/s]"
     ]
    },
    {
     "name": "stderr",
     "output_type": "stream",
     "text": [
      "\r",
      "Std Dev:  33%|█████████████████████████████████████████████████                                                                                                  | 2/6 [00:00<00:01,  2.83it/s]"
     ]
    },
    {
     "name": "stderr",
     "output_type": "stream",
     "text": [
      "\r",
      "Std Dev:  50%|█████████████████████████████████████████████████████████████████████████▌                                                                         | 3/6 [00:01<00:01,  2.79it/s]"
     ]
    },
    {
     "name": "stderr",
     "output_type": "stream",
     "text": [
      "\r",
      "Std Dev:  67%|██████████████████████████████████████████████████████████████████████████████████████████████████                                                 | 4/6 [00:01<00:00,  2.79it/s]"
     ]
    },
    {
     "name": "stderr",
     "output_type": "stream",
     "text": [
      "\r",
      "Std Dev:  83%|██████████████████████████████████████████████████████████████████████████████████████████████████████████████████████████▌                        | 5/6 [00:01<00:00,  2.77it/s]"
     ]
    },
    {
     "name": "stderr",
     "output_type": "stream",
     "text": [
      "\r",
      "Std Dev: 100%|███████████████████████████████████████████████████████████████████████████████████████████████████████████████████████████████████████████████████| 6/6 [00:02<00:00,  2.77it/s]"
     ]
    },
    {
     "name": "stderr",
     "output_type": "stream",
     "text": [
      "\r",
      "Std Dev: 100%|███████████████████████████████████████████████████████████████████████████████████████████████████████████████████████████████████████████████████| 6/6 [00:02<00:00,  2.78it/s]"
     ]
    },
    {
     "name": "stderr",
     "output_type": "stream",
     "text": [
      "\n"
     ]
    },
    {
     "name": "stderr",
     "output_type": "stream",
     "text": [
      "\r",
      "quantiles:   0%|                                                                                                                                                         | 0/6 [00:00<?, ?it/s]"
     ]
    },
    {
     "name": "stderr",
     "output_type": "stream",
     "text": [
      "\r",
      "quantiles:  17%|████████████████████████▏                                                                                                                        | 1/6 [00:01<00:05,  1.03s/it]"
     ]
    },
    {
     "name": "stderr",
     "output_type": "stream",
     "text": [
      "\r",
      "quantiles:  33%|████████████████████████████████████████████████▎                                                                                                | 2/6 [00:02<00:04,  1.02s/it]"
     ]
    },
    {
     "name": "stderr",
     "output_type": "stream",
     "text": [
      "\r",
      "quantiles:  50%|████████████████████████████████████████████████████████████████████████▌                                                                        | 3/6 [00:03<00:03,  1.02s/it]"
     ]
    },
    {
     "name": "stderr",
     "output_type": "stream",
     "text": [
      "\r",
      "quantiles:  67%|████████████████████████████████████████████████████████████████████████████████████████████████▋                                                | 4/6 [00:04<00:02,  1.02s/it]"
     ]
    },
    {
     "name": "stderr",
     "output_type": "stream",
     "text": [
      "\r",
      "quantiles:  83%|████████████████████████████████████████████████████████████████████████████████████████████████████████████████████████▊                        | 5/6 [00:05<00:01,  1.02s/it]"
     ]
    },
    {
     "name": "stderr",
     "output_type": "stream",
     "text": [
      "\r",
      "quantiles: 100%|█████████████████████████████████████████████████████████████████████████████████████████████████████████████████████████████████████████████████| 6/6 [00:06<00:00,  1.02s/it]"
     ]
    },
    {
     "name": "stderr",
     "output_type": "stream",
     "text": [
      "\r",
      "quantiles: 100%|█████████████████████████████████████████████████████████████████████████████████████████████████████████████████████████████████████████████████| 6/6 [00:06<00:00,  1.02s/it]"
     ]
    },
    {
     "name": "stderr",
     "output_type": "stream",
     "text": [
      "\n"
     ]
    },
    {
     "data": {
      "text/html": [
       "<h3>Summary Table for NDCG@5</h3>"
      ],
      "text/plain": [
       "<IPython.core.display.HTML object>"
      ]
     },
     "metadata": {},
     "output_type": "display_data"
    },
    {
     "data": {
      "text/html": [
       "<table>\n",
       "<thead><tr>\n",
       "<th>Algorithm\n",
       "<th>Mean\n",
       "<th>Std Dev\n",
       "<th>10%ile\n",
       "<th>Median\n",
       "<th>90%ile\n",
       "<th>Dist. (KDE)\n",
       "</tr></thead>\n",
       "<tbody>\n",
       "<tr><td>locality-cali\n",
       "<td>0.413<br><span style=\"font-size: 75%;\">(0.387,0.438)</span></td>\n",
       "<td>0.410<br><span style=\"font-size: 75%;\">(0.401,0.419)</span></td>\n",
       "<td>0.000<br><span style=\"font-size: 75%;\">(0.000,0.000)</span></td>\n",
       "<td>0.380<br><span style=\"font-size: 75%;\">(0.315,0.431)</span></td>\n",
       "<td>1.000<br><span style=\"font-size: 75%;\">(1.000,1.000)</span></td>\n",
       "<td><img src=\"data:image/png;base64,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\"></td>\n",
       "</tr>\n",
       "<tr><td>mmr\n",
       "<td>0.363<br><span style=\"font-size: 75%;\">(0.328,0.396)</span></td>\n",
       "<td>0.554<br><span style=\"font-size: 75%;\">(0.510,0.601)</span></td>\n",
       "<td>0.000<br><span style=\"font-size: 75%;\">(0.000,0.000)</span></td>\n",
       "<td>0.000<br><span style=\"font-size: 75%;\">(0.000,0.000)</span></td>\n",
       "<td>1.000<br><span style=\"font-size: 75%;\">(1.000,1.000)</span></td>\n",
       "<td><img src=\"data:image/png;base64,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\"></td>\n",
       "</tr>\n",
       "<tr><td>nrms\n",
       "<td>0.410<br><span style=\"font-size: 75%;\">(0.384,0.436)</span></td>\n",
       "<td>0.408<br><span style=\"font-size: 75%;\">(0.399,0.418)</span></td>\n",
       "<td>0.000<br><span style=\"font-size: 75%;\">(0.000,0.000)</span></td>\n",
       "<td>0.380<br><span style=\"font-size: 75%;\">(0.315,0.431)</span></td>\n",
       "<td>1.000<br><span style=\"font-size: 75%;\">(1.000,1.000)</span></td>\n",
       "<td><img src=\"data:image/png;base64,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\"></td>\n",
       "</tr>\n",
       "<tr><td>pfar\n",
       "<td>0.413<br><span style=\"font-size: 75%;\">(0.387,0.438)</span></td>\n",
       "<td>0.410<br><span style=\"font-size: 75%;\">(0.401,0.420)</span></td>\n",
       "<td>0.000<br><span style=\"font-size: 75%;\">(0.000,0.000)</span></td>\n",
       "<td>0.380<br><span style=\"font-size: 75%;\">(0.315,0.431)</span></td>\n",
       "<td>1.000<br><span style=\"font-size: 75%;\">(1.000,1.000)</span></td>\n",
       "<td><img src=\"data:image/png;base64,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\"></td>\n",
       "</tr>\n",
       "<tr><td>softmax\n",
       "<td>0.384<br><span style=\"font-size: 75%;\">(0.359,0.409)</span></td>\n",
       "<td>0.407<br><span style=\"font-size: 75%;\">(0.398,0.418)</span></td>\n",
       "<td>0.000<br><span style=\"font-size: 75%;\">(0.000,0.000)</span></td>\n",
       "<td>0.250<br><span style=\"font-size: 75%;\">(0.215,0.380)</span></td>\n",
       "<td>1.000<br><span style=\"font-size: 75%;\">(1.000,1.000)</span></td>\n",
       "<td><img src=\"data:image/png;base64,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\"></td>\n",
       "</tr>\n",
       "<tr><td>topic-cali\n",
       "<td>0.413<br><span style=\"font-size: 75%;\">(0.387,0.438)</span></td>\n",
       "<td>0.410<br><span style=\"font-size: 75%;\">(0.401,0.419)</span></td>\n",
       "<td>0.000<br><span style=\"font-size: 75%;\">(0.000,0.000)</span></td>\n",
       "<td>0.380<br><span style=\"font-size: 75%;\">(0.315,0.431)</span></td>\n",
       "<td>1.000<br><span style=\"font-size: 75%;\">(1.000,1.000)</span></td>\n",
       "<td><img src=\"data:image/png;base64,iVBORw0KGgoAAAANSUhEUgAAASwAAAAZCAYAAACLvRPfAAAAOXRFWHRTb2Z0d2FyZQBNYXRwbG90bGliIHZlcnNpb24zLjkuMiwgaHR0cHM6Ly9tYXRwbG90bGliLm9yZy8hTgPZAAAACXBIWXMAAA9hAAAPYQGoP6dpAAAIZ0lEQVR4nO2c3U8TaRuHr6F82C9oQastXxqjJhqLgJgoqNUT4roHujHGaIgHa4LxwD3wxH/AeLp7RvBAOVCj2WhCosaQCApBjSYqKolGXC0VKMjQ2tIC/Zg92J15W3BFfJG28lzJL3cy83S4Z9r+5u7z3IOkKIqCQCAQZABZqU5AIBAIvhZhWAKBIGOYs2GdOnUKSZK+qPz8fGprazlx4gTNzc28efPme+QuEAgWGdJc57Du3bvHo0ePCAaDmsbHxwkEArx7947e3l6mpqZmvG7t2rXs3buXvXv3sn37dnJzc+ftJAQCweJgzoY1G5FIhFevXtHT00NPTw8PHz6kq6uLaDSqjTGbzezZs4eGhgbq6+vJycmZzxQEAsEPyrwb1ufw+/20tbVx48YNbt68yfDwsLbPZrNx+PBhjh49yqZNm753KgKBIINZEMNKJB6P8/jxYy5fvszFixcZGRnR9jmdTo4dO0ZDQwMWi2Uh0xIIBBnAghtWIpFIhNu3b9PS0kJra6s296XX6zl06BDHjx+npqYGSZJSlaJAIEgjUmpYiYyNjXHp0iWampp48eKFtr2yspLGxkYOHz6M2WxOYYYCgSDVpI1hqSiKwv3792lqauLq1atMTk4CYDKZOHLkCI2NjVRWVqY4S4FAMBuKojA5OUk4HCYcDhMKhcjPz8dms33zMdPOsBIZHR3lwoULNDc38/r1a237li1baGxs5ODBg5hMphRmKBAsThRFYXBwkOfPn/Pu3Tvev3+fJFmWCYfDTLeX06dPc/bs2W/+u2ltWCqKotDR0UFTUxPXr18nEokAYDQaOXDgAEePHmXnzp1kZYnG/S8Si0FnJwwOgt0O27eDTpfqrARpjqIovH37lsePH/PkyROePHnC06dPk1b7Z0On06HX6zl58iRnzpz55lwywrASGR4e5vz585w7d46+vj5te3l5OQ0NDTQ0NLB27doUZpimXLsGv/0GHs//tpWUwB9/wC+/pC4vQdoRi8V49uwZXV1ddHZ20tXVxdDQ0IxxWVlZrFu3jtWrV1NeXp4km82GXq/HYDCg1+vnrdcy4wxLRVEUuru7aWlp4cqVK3z69Enbt379evbv38/+/fupqqoSq4zXrsGBAzD9rVavy59/MvXzz8iyzOjoKLIsI8sygUBAe5JhfHycYDDIxMQE0WiUaDRKLBbTok6nIzs7m5ycHHJycsjOziYvLw+TyYTZbE6KVquVoqIiCgsLsVqt6ESVl1JUg7pz5w7t7e10dnYSCASSxuTk5FBZWZmkjRs3otfrFzTXjDWsRMLhMK2trbS0tNDW1pbUVV9aWsq+ffuor6+nrq6OgoKCFGa68PhlGc/69Xi8XjzAEDD4b1TllSSCKfoYSJKExWJh6dKlrFixYoYcDgclJSWUlJRQUFAgbj7zQDwe5+XLl7S3t9Pe3s7du3cZGxtLGqM+D1xXV0ddXR01NTULbk6f44cwrER8Ph83btzg+vXr3Lp1i1AopO3Lysqiuroal8uFy+WitrY2ow0sFArh8Xjo7+/H7XZr0e124/F48Hg8M+6UX0KSJK36sVqt5OfnYzKZMBqNWtTr9WRnZ2sVlU6nQ6fTEY/HiUQimqLRKBMTE1plplZrgUCAsbExRkdHk6rir8FgMGjmVVZWlqTy8nJKS0vT4kuVbsTjcXp7e+no6NAManR0NGmM2Wxmx44d7N69m127duF0OtOy8v3hDCuRcDhMW1sbra2tdHR0JM15qaxatQqn00lFRQUVFRU4nU7Ky8tT+nyjoij4fD4GBgYYGBjgw4cPDAwMaCbU399Pf3//jA/df2EFSoBiwAHYgRX/yg7YgKLmZiy//rqgCxeRSET7GToyMoLX62VoaEjT4OCgdt6yLH/VMW02m2ZgiVK3Wa3WH75KCwQCPHz4kPv379Pd3c2DBw/w+XxJYwwGA3V1dbhcLnbv3k11dTXZ2dmpSXgO/NCGNZ3+/n7u3r1LR0fHfxoY/FOJORwO7UNeVlaGw+HAYrFgsVgoKCjQYm5u7oyKQ+0/mZqaYnJyksnJSSYmJvj06RN+vz9JsiwzMjLC8PBwUpyYmPiqczKZTJSVlVFaWqrFRBX39WH86afZD9TeDi7XHK7mwhIKhTTzUg1brSbdbjfv378nGAzOehz1eqmacb2KizEYDAtwRvOD1+vl2bNnSert7SUejyeNMxgM1NbW4nK52LVrF5s3b87IfzqwqAxrOrIs09PTk/Rmv3z5UmtWTTWFhYU4HA6Ki4txOBw4HI4ZX7BZ53ViMVi5Ej58mDnpDv9MvJeUwF9/ZXSLg1qVqn1Aib1BqqElPrf6JSwWC8XFxZrsdjs2m43ly5drstlsWCyW716VRKNRPn78iNvtpq+vL0mvX7/G6/V+9nUrV65k69atbNu2ja1bt+J0OjPSoKazqA3rc8Tjcbxeb9Kd2+12MzQ0pFVFPp8Pn8+H3+8nEokQi8U+eyydTkdeXp4ms9msVWaqrFYrNpuNZcuWaXHZsmXY7XaWLFkyPyelrhJCsmklrBIuhtaGcDisvaeJVVpiDIfDczpmfn6+ttpZWFiI2WzGaDRiMBgwGAwYjUaWLFmCTqdDkiSysrK0ODU1pXWAqzEYDCZV2rIsz2i+TESSJNasWaNNaVRUVFBVVYXD4fh/L1daIgxrHlAUhXg8ri3zA+Tl5aXXpOXn+rBKS+H33xeFWX0NiqLg9/u1eUNVXq93hqavqn1PJEnCbrezevXqGdqwYQNGo3HBckk1wrAWE6LTfd6IRCL4fD5kWWZsbEyLgUCAUChEKBRifHxcq57Um5oa4/E4ubm56PX6pAZLo9GoVdtqxV1UVJReN78UIgxLIBBkDOLhO4FAkDH8DbeOaPKtkv+DAAAAAElFTkSuQmCC\"></td>\n",
       "</tr>\n",
       "</tbody>\n",
       "</table>\n"
      ],
      "text/plain": [
       "<IPython.core.display.HTML object>"
      ]
     },
     "metadata": {},
     "output_type": "display_data"
    },
    {
     "name": "stderr",
     "output_type": "stream",
     "text": [
      "\r",
      "Mean:   0%|                                                                                                                                                              | 0/6 [00:00<?, ?it/s]"
     ]
    },
    {
     "name": "stderr",
     "output_type": "stream",
     "text": [
      "\r",
      "Mean:  17%|█████████████████████████                                                                                                                             | 1/6 [00:00<00:01,  2.96it/s]"
     ]
    },
    {
     "name": "stderr",
     "output_type": "stream",
     "text": [
      "\r",
      "Mean:  33%|██████████████████████████████████████████████████                                                                                                    | 2/6 [00:00<00:01,  3.75it/s]"
     ]
    },
    {
     "name": "stderr",
     "output_type": "stream",
     "text": [
      "\r",
      "Mean:  50%|███████████████████████████████████████████████████████████████████████████                                                                           | 3/6 [00:00<00:00,  4.11it/s]"
     ]
    },
    {
     "name": "stderr",
     "output_type": "stream",
     "text": [
      "\r",
      "Mean:  67%|████████████████████████████████████████████████████████████████████████████████████████████████████                                                  | 4/6 [00:00<00:00,  4.25it/s]"
     ]
    },
    {
     "name": "stderr",
     "output_type": "stream",
     "text": [
      "\r",
      "Mean:  83%|█████████████████████████████████████████████████████████████████████████████████████████████████████████████████████████████                         | 5/6 [00:01<00:00,  4.42it/s]"
     ]
    },
    {
     "name": "stderr",
     "output_type": "stream",
     "text": [
      "\r",
      "Mean: 100%|██████████████████████████████████████████████████████████████████████████████████████████████████████████████████████████████████████████████████████| 6/6 [00:01<00:00,  4.48it/s]"
     ]
    },
    {
     "name": "stderr",
     "output_type": "stream",
     "text": [
      "\r",
      "Mean: 100%|██████████████████████████████████████████████████████████████████████████████████████████████████████████████████████████████████████████████████████| 6/6 [00:01<00:00,  4.22it/s]"
     ]
    },
    {
     "name": "stderr",
     "output_type": "stream",
     "text": [
      "\n"
     ]
    },
    {
     "name": "stderr",
     "output_type": "stream",
     "text": [
      "\r",
      "Std Dev:   0%|                                                                                                                                                           | 0/6 [00:00<?, ?it/s]"
     ]
    },
    {
     "name": "stderr",
     "output_type": "stream",
     "text": [
      "\r",
      "Std Dev:  17%|████████████████████████▌                                                                                                                          | 1/6 [00:00<00:01,  2.78it/s]"
     ]
    },
    {
     "name": "stderr",
     "output_type": "stream",
     "text": [
      "\r",
      "Std Dev:  33%|█████████████████████████████████████████████████                                                                                                  | 2/6 [00:00<00:01,  2.77it/s]"
     ]
    },
    {
     "name": "stderr",
     "output_type": "stream",
     "text": [
      "\r",
      "Std Dev:  50%|█████████████████████████████████████████████████████████████████████████▌                                                                         | 3/6 [00:01<00:01,  2.77it/s]"
     ]
    },
    {
     "name": "stderr",
     "output_type": "stream",
     "text": [
      "\r",
      "Std Dev:  67%|██████████████████████████████████████████████████████████████████████████████████████████████████                                                 | 4/6 [00:01<00:00,  2.77it/s]"
     ]
    },
    {
     "name": "stderr",
     "output_type": "stream",
     "text": [
      "\r",
      "Std Dev:  83%|██████████████████████████████████████████████████████████████████████████████████████████████████████████████████████████▌                        | 5/6 [00:01<00:00,  2.78it/s]"
     ]
    },
    {
     "name": "stderr",
     "output_type": "stream",
     "text": [
      "\r",
      "Std Dev: 100%|███████████████████████████████████████████████████████████████████████████████████████████████████████████████████████████████████████████████████| 6/6 [00:02<00:00,  2.77it/s]"
     ]
    },
    {
     "name": "stderr",
     "output_type": "stream",
     "text": [
      "\r",
      "Std Dev: 100%|███████████████████████████████████████████████████████████████████████████████████████████████████████████████████████████████████████████████████| 6/6 [00:02<00:00,  2.77it/s]"
     ]
    },
    {
     "name": "stderr",
     "output_type": "stream",
     "text": [
      "\n"
     ]
    },
    {
     "name": "stderr",
     "output_type": "stream",
     "text": [
      "\r",
      "quantiles:   0%|                                                                                                                                                         | 0/6 [00:00<?, ?it/s]"
     ]
    },
    {
     "name": "stderr",
     "output_type": "stream",
     "text": [
      "\r",
      "quantiles:  17%|████████████████████████▏                                                                                                                        | 1/6 [00:01<00:05,  1.04s/it]"
     ]
    },
    {
     "name": "stderr",
     "output_type": "stream",
     "text": [
      "\r",
      "quantiles:  33%|████████████████████████████████████████████████▎                                                                                                | 2/6 [00:02<00:04,  1.04s/it]"
     ]
    },
    {
     "name": "stderr",
     "output_type": "stream",
     "text": [
      "\r",
      "quantiles:  50%|████████████████████████████████████████████████████████████████████████▌                                                                        | 3/6 [00:03<00:03,  1.04s/it]"
     ]
    },
    {
     "name": "stderr",
     "output_type": "stream",
     "text": [
      "\r",
      "quantiles:  67%|████████████████████████████████████████████████████████████████████████████████████████████████▋                                                | 4/6 [00:04<00:02,  1.04s/it]"
     ]
    },
    {
     "name": "stderr",
     "output_type": "stream",
     "text": [
      "\r",
      "quantiles:  83%|████████████████████████████████████████████████████████████████████████████████████████████████████████████████████████▊                        | 5/6 [00:05<00:01,  1.03s/it]"
     ]
    },
    {
     "name": "stderr",
     "output_type": "stream",
     "text": [
      "\r",
      "quantiles: 100%|█████████████████████████████████████████████████████████████████████████████████████████████████████████████████████████████████████████████████| 6/6 [00:06<00:00,  1.03s/it]"
     ]
    },
    {
     "name": "stderr",
     "output_type": "stream",
     "text": [
      "\r",
      "quantiles: 100%|█████████████████████████████████████████████████████████████████████████████████████████████████████████████████████████████████████████████████| 6/6 [00:06<00:00,  1.04s/it]"
     ]
    },
    {
     "name": "stderr",
     "output_type": "stream",
     "text": [
      "\n"
     ]
    },
    {
     "data": {
      "text/html": [
       "<h3>Summary Table for NDCG@10</h3>"
      ],
      "text/plain": [
       "<IPython.core.display.HTML object>"
      ]
     },
     "metadata": {},
     "output_type": "display_data"
    },
    {
     "data": {
      "text/html": [
       "<table>\n",
       "<thead><tr>\n",
       "<th>Algorithm\n",
       "<th>Mean\n",
       "<th>Std Dev\n",
       "<th>10%ile\n",
       "<th>Median\n",
       "<th>90%ile\n",
       "<th>Dist. (KDE)\n",
       "</tr></thead>\n",
       "<tbody>\n",
       "<tr><td>locality-cali\n",
       "<td>0.480<br><span style=\"font-size: 75%;\">(0.457,0.503)</span></td>\n",
       "<td>0.368<br><span style=\"font-size: 75%;\">(0.359,0.378)</span></td>\n",
       "<td>0.000<br><span style=\"font-size: 75%;\">(0.000,0.000)</span></td>\n",
       "<td>0.431<br><span style=\"font-size: 75%;\">(0.395,0.457)</span></td>\n",
       "<td>1.000<br><span style=\"font-size: 75%;\">(1.000,1.000)</span></td>\n",
       "<td><img src=\"data:image/png;base64,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\"></td>\n",
       "</tr>\n",
       "<tr><td>mmr\n",
       "<td>0.520<br><span style=\"font-size: 75%;\">(0.467,0.570)</span></td>\n",
       "<td>0.826<br><span style=\"font-size: 75%;\">(0.737,0.924)</span></td>\n",
       "<td>0.000<br><span style=\"font-size: 75%;\">(0.000,0.000)</span></td>\n",
       "<td>0.333<br><span style=\"font-size: 75%;\">(0.315,0.356)</span></td>\n",
       "<td>1.000<br><span style=\"font-size: 75%;\">(1.000,1.000)</span></td>\n",
       "<td><img src=\"data:image/png;base64,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\"></td>\n",
       "</tr>\n",
       "<tr><td>nrms\n",
       "<td>0.477<br><span style=\"font-size: 75%;\">(0.454,0.500)</span></td>\n",
       "<td>0.367<br><span style=\"font-size: 75%;\">(0.357,0.376)</span></td>\n",
       "<td>0.000<br><span style=\"font-size: 75%;\">(0.000,0.000)</span></td>\n",
       "<td>0.431<br><span style=\"font-size: 75%;\">(0.395,0.455)</span></td>\n",
       "<td>1.000<br><span style=\"font-size: 75%;\">(1.000,1.000)</span></td>\n",
       "<td><img src=\"data:image/png;base64,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\"></td>\n",
       "</tr>\n",
       "<tr><td>pfar\n",
       "<td>0.480<br><span style=\"font-size: 75%;\">(0.457,0.502)</span></td>\n",
       "<td>0.368<br><span style=\"font-size: 75%;\">(0.359,0.378)</span></td>\n",
       "<td>0.000<br><span style=\"font-size: 75%;\">(0.000,0.000)</span></td>\n",
       "<td>0.431<br><span style=\"font-size: 75%;\">(0.395,0.457)</span></td>\n",
       "<td>1.000<br><span style=\"font-size: 75%;\">(1.000,1.000)</span></td>\n",
       "<td><img src=\"data:image/png;base64,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\"></td>\n",
       "</tr>\n",
       "<tr><td>softmax\n",
       "<td>0.451<br><span style=\"font-size: 75%;\">(0.428,0.474)</span></td>\n",
       "<td>0.370<br><span style=\"font-size: 75%;\">(0.361,0.381)</span></td>\n",
       "<td>0.000<br><span style=\"font-size: 75%;\">(0.000,0.000)</span></td>\n",
       "<td>0.387<br><span style=\"font-size: 75%;\">(0.380,0.431)</span></td>\n",
       "<td>1.000<br><span style=\"font-size: 75%;\">(1.000,1.000)</span></td>\n",
       "<td><img src=\"data:image/png;base64,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\"></td>\n",
       "</tr>\n",
       "<tr><td>topic-cali\n",
       "<td>0.480<br><span style=\"font-size: 75%;\">(0.457,0.503)</span></td>\n",
       "<td>0.368<br><span style=\"font-size: 75%;\">(0.359,0.378)</span></td>\n",
       "<td>0.000<br><span style=\"font-size: 75%;\">(0.000,0.000)</span></td>\n",
       "<td>0.431<br><span style=\"font-size: 75%;\">(0.394,0.455)</span></td>\n",
       "<td>1.000<br><span style=\"font-size: 75%;\">(1.000,1.000)</span></td>\n",
       "<td><img src=\"data:image/png;base64,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\"></td>\n",
       "</tr>\n",
       "</tbody>\n",
       "</table>\n"
      ],
      "text/plain": [
       "<IPython.core.display.HTML object>"
      ]
     },
     "metadata": {},
     "output_type": "display_data"
    },
    {
     "name": "stderr",
     "output_type": "stream",
     "text": [
      "\r",
      "Mean:   0%|                                                                                                                                                              | 0/6 [00:00<?, ?it/s]"
     ]
    },
    {
     "name": "stderr",
     "output_type": "stream",
     "text": [
      "\r",
      "Mean:  17%|█████████████████████████                                                                                                                             | 1/6 [00:00<00:01,  4.20it/s]"
     ]
    },
    {
     "name": "stderr",
     "output_type": "stream",
     "text": [
      "\r",
      "Mean:  33%|██████████████████████████████████████████████████                                                                                                    | 2/6 [00:00<00:00,  4.59it/s]"
     ]
    },
    {
     "name": "stderr",
     "output_type": "stream",
     "text": [
      "\r",
      "Mean:  50%|███████████████████████████████████████████████████████████████████████████                                                                           | 3/6 [00:00<00:00,  4.74it/s]"
     ]
    },
    {
     "name": "stderr",
     "output_type": "stream",
     "text": [
      "\r",
      "Mean:  67%|████████████████████████████████████████████████████████████████████████████████████████████████████                                                  | 4/6 [00:00<00:00,  4.81it/s]"
     ]
    },
    {
     "name": "stderr",
     "output_type": "stream",
     "text": [
      "\r",
      "Mean:  83%|█████████████████████████████████████████████████████████████████████████████████████████████████████████████████████████████                         | 5/6 [00:01<00:00,  4.84it/s]"
     ]
    },
    {
     "name": "stderr",
     "output_type": "stream",
     "text": [
      "\r",
      "Mean: 100%|██████████████████████████████████████████████████████████████████████████████████████████████████████████████████████████████████████████████████████| 6/6 [00:01<00:00,  4.87it/s]"
     ]
    },
    {
     "name": "stderr",
     "output_type": "stream",
     "text": [
      "\r",
      "Mean: 100%|██████████████████████████████████████████████████████████████████████████████████████████████████████████████████████████████████████████████████████| 6/6 [00:01<00:00,  4.78it/s]"
     ]
    },
    {
     "name": "stderr",
     "output_type": "stream",
     "text": [
      "\n"
     ]
    },
    {
     "name": "stderr",
     "output_type": "stream",
     "text": [
      "\r",
      "Std Dev:   0%|                                                                                                                                                           | 0/6 [00:00<?, ?it/s]"
     ]
    },
    {
     "name": "stderr",
     "output_type": "stream",
     "text": [
      "\r",
      "Std Dev:  17%|████████████████████████▌                                                                                                                          | 1/6 [00:00<00:01,  2.83it/s]"
     ]
    },
    {
     "name": "stderr",
     "output_type": "stream",
     "text": [
      "\r",
      "Std Dev:  33%|█████████████████████████████████████████████████                                                                                                  | 2/6 [00:00<00:01,  2.84it/s]"
     ]
    },
    {
     "name": "stderr",
     "output_type": "stream",
     "text": [
      "\r",
      "Std Dev:  50%|█████████████████████████████████████████████████████████████████████████▌                                                                         | 3/6 [00:01<00:01,  2.86it/s]"
     ]
    },
    {
     "name": "stderr",
     "output_type": "stream",
     "text": [
      "\r",
      "Std Dev:  67%|██████████████████████████████████████████████████████████████████████████████████████████████████                                                 | 4/6 [00:01<00:00,  2.88it/s]"
     ]
    },
    {
     "name": "stderr",
     "output_type": "stream",
     "text": [
      "\r",
      "Std Dev:  83%|██████████████████████████████████████████████████████████████████████████████████████████████████████████████████████████▌                        | 5/6 [00:01<00:00,  2.90it/s]"
     ]
    },
    {
     "name": "stderr",
     "output_type": "stream",
     "text": [
      "\r",
      "Std Dev: 100%|███████████████████████████████████████████████████████████████████████████████████████████████████████████████████████████████████████████████████| 6/6 [00:02<00:00,  2.91it/s]"
     ]
    },
    {
     "name": "stderr",
     "output_type": "stream",
     "text": [
      "\r",
      "Std Dev: 100%|███████████████████████████████████████████████████████████████████████████████████████████████████████████████████████████████████████████████████| 6/6 [00:02<00:00,  2.89it/s]"
     ]
    },
    {
     "name": "stderr",
     "output_type": "stream",
     "text": [
      "\n"
     ]
    },
    {
     "name": "stderr",
     "output_type": "stream",
     "text": [
      "\r",
      "quantiles:   0%|                                                                                                                                                         | 0/6 [00:00<?, ?it/s]"
     ]
    },
    {
     "name": "stderr",
     "output_type": "stream",
     "text": [
      "\r",
      "quantiles:  17%|████████████████████████▏                                                                                                                        | 1/6 [00:01<00:05,  1.03s/it]"
     ]
    },
    {
     "name": "stderr",
     "output_type": "stream",
     "text": [
      "\r",
      "quantiles:  33%|████████████████████████████████████████████████▎                                                                                                | 2/6 [00:02<00:04,  1.03s/it]"
     ]
    },
    {
     "name": "stderr",
     "output_type": "stream",
     "text": [
      "\r",
      "quantiles:  50%|████████████████████████████████████████████████████████████████████████▌                                                                        | 3/6 [00:03<00:03,  1.03s/it]"
     ]
    },
    {
     "name": "stderr",
     "output_type": "stream",
     "text": [
      "\r",
      "quantiles:  67%|████████████████████████████████████████████████████████████████████████████████████████████████▋                                                | 4/6 [00:04<00:02,  1.03s/it]"
     ]
    },
    {
     "name": "stderr",
     "output_type": "stream",
     "text": [
      "\r",
      "quantiles:  83%|████████████████████████████████████████████████████████████████████████████████████████████████████████████████████████▊                        | 5/6 [00:05<00:01,  1.03s/it]"
     ]
    },
    {
     "name": "stderr",
     "output_type": "stream",
     "text": [
      "\r",
      "quantiles: 100%|█████████████████████████████████████████████████████████████████████████████████████████████████████████████████████████████████████████████████| 6/6 [00:06<00:00,  1.03s/it]"
     ]
    },
    {
     "name": "stderr",
     "output_type": "stream",
     "text": [
      "\r",
      "quantiles: 100%|█████████████████████████████████████████████████████████████████████████████████████████████████████████████████████████████████████████████████| 6/6 [00:06<00:00,  1.03s/it]"
     ]
    },
    {
     "name": "stderr",
     "output_type": "stream",
     "text": [
      "\n"
     ]
    },
    {
     "data": {
      "text/html": [
       "<h3>Summary Table for RR</h3>"
      ],
      "text/plain": [
       "<IPython.core.display.HTML object>"
      ]
     },
     "metadata": {},
     "output_type": "display_data"
    },
    {
     "data": {
      "text/html": [
       "<table>\n",
       "<thead><tr>\n",
       "<th>Algorithm\n",
       "<th>Mean\n",
       "<th>Std Dev\n",
       "<th>10%ile\n",
       "<th>Median\n",
       "<th>90%ile\n",
       "<th>Dist. (KDE)\n",
       "</tr></thead>\n",
       "<tbody>\n",
       "<tr><td>locality-cali\n",
       "<td>0.377<br><span style=\"font-size: 75%;\">(0.355,0.400)</span></td>\n",
       "<td>0.364<br><span style=\"font-size: 75%;\">(0.353,0.377)</span></td>\n",
       "<td>0.000<br><span style=\"font-size: 75%;\">(0.000,0.000)</span></td>\n",
       "<td>0.250<br><span style=\"font-size: 75%;\">(0.225,0.250)</span></td>\n",
       "<td>1.000<br><span style=\"font-size: 75%;\">(1.000,1.000)</span></td>\n",
       "<td><img src=\"data:image/png;base64,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\"></td>\n",
       "</tr>\n",
       "<tr><td>mmr\n",
       "<td>0.320<br><span style=\"font-size: 75%;\">(0.296,0.344)</span></td>\n",
       "<td>0.385<br><span style=\"font-size: 75%;\">(0.372,0.399)</span></td>\n",
       "<td>0.000<br><span style=\"font-size: 75%;\">(0.000,0.000)</span></td>\n",
       "<td>0.143<br><span style=\"font-size: 75%;\">(0.143,0.167)</span></td>\n",
       "<td>1.000<br><span style=\"font-size: 75%;\">(1.000,1.000)</span></td>\n",
       "<td><img src=\"data:image/png;base64,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\"></td>\n",
       "</tr>\n",
       "<tr><td>nrms\n",
       "<td>0.377<br><span style=\"font-size: 75%;\">(0.354,0.399)</span></td>\n",
       "<td>0.364<br><span style=\"font-size: 75%;\">(0.353,0.377)</span></td>\n",
       "<td>0.000<br><span style=\"font-size: 75%;\">(0.000,0.000)</span></td>\n",
       "<td>0.250<br><span style=\"font-size: 75%;\">(0.200,0.250)</span></td>\n",
       "<td>1.000<br><span style=\"font-size: 75%;\">(1.000,1.000)</span></td>\n",
       "<td><img src=\"data:image/png;base64,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\"></td>\n",
       "</tr>\n",
       "<tr><td>pfar\n",
       "<td>0.377<br><span style=\"font-size: 75%;\">(0.355,0.399)</span></td>\n",
       "<td>0.364<br><span style=\"font-size: 75%;\">(0.353,0.377)</span></td>\n",
       "<td>0.000<br><span style=\"font-size: 75%;\">(0.000,0.000)</span></td>\n",
       "<td>0.250<br><span style=\"font-size: 75%;\">(0.200,0.250)</span></td>\n",
       "<td>1.000<br><span style=\"font-size: 75%;\">(1.000,1.000)</span></td>\n",
       "<td><img src=\"data:image/png;base64,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\"></td>\n",
       "</tr>\n",
       "<tr><td>softmax\n",
       "<td>0.345<br><span style=\"font-size: 75%;\">(0.323,0.366)</span></td>\n",
       "<td>0.353<br><span style=\"font-size: 75%;\">(0.340,0.367)</span></td>\n",
       "<td>0.000<br><span style=\"font-size: 75%;\">(0.000,0.000)</span></td>\n",
       "<td>0.200<br><span style=\"font-size: 75%;\">(0.200,0.250)</span></td>\n",
       "<td>1.000<br><span style=\"font-size: 75%;\">(1.000,1.000)</span></td>\n",
       "<td><img src=\"data:image/png;base64,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\"></td>\n",
       "</tr>\n",
       "<tr><td>topic-cali\n",
       "<td>0.377<br><span style=\"font-size: 75%;\">(0.354,0.400)</span></td>\n",
       "<td>0.364<br><span style=\"font-size: 75%;\">(0.353,0.377)</span></td>\n",
       "<td>0.000<br><span style=\"font-size: 75%;\">(0.000,0.000)</span></td>\n",
       "<td>0.250<br><span style=\"font-size: 75%;\">(0.225,0.250)</span></td>\n",
       "<td>1.000<br><span style=\"font-size: 75%;\">(1.000,1.000)</span></td>\n",
       "<td><img src=\"data:image/png;base64,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\"></td>\n",
       "</tr>\n",
       "</tbody>\n",
       "</table>\n"
      ],
      "text/plain": [
       "<IPython.core.display.HTML object>"
      ]
     },
     "metadata": {},
     "output_type": "display_data"
    }
   ],
   "source": [
    "for metric in effectiveness_metrics:\n",
    "    tw = EvalTable(mind_subset_user_metrics, \"recommender\", metric, progress=notebook_tqdm)\n",
    "    tw.add_stat(\"Mean\", np.mean, ci=True)\n",
    "    tw.add_stat(\"Std Dev\", np.std, ci=True)\n",
    "    tw.add_quantiles([\"10%ile\", \"Median\", \"90%ile\"], [0.1, 0.5, 0.9], ci=True)\n",
    "    display(HTML(f\"<h3>Summary Table for {metric}</h3>\"))\n",
    "    display(HTML(tw.html_table()))"
   ]
  },
  {
   "cell_type": "markdown",
   "id": "4851f833",
   "metadata": {},
   "source": [
    "### 2. 2 Ranking Overlap Metrics\n",
    "RBO measures the similarity between two ranked lists, evaluating how much overlap exists between pure top-k recommendations and the actual rankings produced after recommendations. RBO can be applied at different list depths to analyze performance consistency, such as RBO@5 and RBO@10."
   ]
  },
  {
   "cell_type": "code",
   "execution_count": 8,
   "id": "ffafe35e",
   "metadata": {
    "execution": {
     "iopub.execute_input": "2024-11-26T22:00:07.836300Z",
     "iopub.status.busy": "2024-11-26T22:00:07.836051Z",
     "iopub.status.idle": "2024-11-26T22:00:08.279970Z",
     "shell.execute_reply": "2024-11-26T22:00:08.279201Z"
    }
   },
   "outputs": [
    {
     "data": {
      "image/png": "[encoded data removed]",
      "text/plain": [
       "<Figure size 800x300 with 2 Axes>"
      ]
     },
     "metadata": {},
     "output_type": "display_data"
    }
   ],
   "source": [
    "plt.figure(figsize=(8, 3))\n",
    "plt.subplots_adjust(wspace=0.3)\n",
    "\n",
    "for i, metric in enumerate(overlap_metrics, 1):\n",
    "    plt.subplot(1, 2, i)\n",
    "    sns.barplot(data=mind_subset_user_metrics, x=\"recommender\", y=metric)\n",
    "    plt.xticks(rotation=45)\n",
    "\n",
    "plt.show()"
   ]
  },
  {
   "cell_type": "markdown",
   "id": "cb9f3a6e",
   "metadata": {},
   "source": [
    "The summary tables show the mean values, standard deviation, and quantiles (10%ile, Median, 90%ile), each accompanied by their respective 95% confidence intervals for ranking overlap metrics across recommenders."
   ]
  },
  {
   "cell_type": "code",
   "execution_count": 9,
   "id": "f9494ca3",
   "metadata": {
    "execution": {
     "iopub.execute_input": "2024-11-26T22:00:08.281836Z",
     "iopub.status.busy": "2024-11-26T22:00:08.281655Z",
     "iopub.status.idle": "2024-11-26T22:00:27.874075Z",
     "shell.execute_reply": "2024-11-26T22:00:27.873000Z"
    }
   },
   "outputs": [
    {
     "name": "stderr",
     "output_type": "stream",
     "text": [
      "\r",
      "Mean:   0%|                                                                                                                                                              | 0/6 [00:00<?, ?it/s]"
     ]
    },
    {
     "name": "stderr",
     "output_type": "stream",
     "text": [
      "\r",
      "Mean:  17%|█████████████████████████                                                                                                                             | 1/6 [00:00<00:01,  3.98it/s]"
     ]
    },
    {
     "name": "stderr",
     "output_type": "stream",
     "text": [
      "\r",
      "Mean:  33%|██████████████████████████████████████████████████                                                                                                    | 2/6 [00:00<00:00,  4.33it/s]"
     ]
    },
    {
     "name": "stderr",
     "output_type": "stream",
     "text": [
      "\r",
      "Mean:  50%|███████████████████████████████████████████████████████████████████████████                                                                           | 3/6 [00:00<00:00,  4.40it/s]"
     ]
    },
    {
     "name": "stderr",
     "output_type": "stream",
     "text": [
      "\r",
      "Mean:  67%|████████████████████████████████████████████████████████████████████████████████████████████████████                                                  | 4/6 [00:00<00:00,  4.45it/s]"
     ]
    },
    {
     "name": "stderr",
     "output_type": "stream",
     "text": [
      "\r",
      "Mean:  83%|█████████████████████████████████████████████████████████████████████████████████████████████████████████████████████████████                         | 5/6 [00:01<00:00,  4.53it/s]"
     ]
    },
    {
     "name": "stderr",
     "output_type": "stream",
     "text": [
      "\r",
      "Mean: 100%|██████████████████████████████████████████████████████████████████████████████████████████████████████████████████████████████████████████████████████| 6/6 [00:01<00:00,  4.51it/s]"
     ]
    },
    {
     "name": "stderr",
     "output_type": "stream",
     "text": [
      "\r",
      "Mean: 100%|██████████████████████████████████████████████████████████████████████████████████████████████████████████████████████████████████████████████████████| 6/6 [00:01<00:00,  4.45it/s]"
     ]
    },
    {
     "name": "stderr",
     "output_type": "stream",
     "text": [
      "\n"
     ]
    },
    {
     "name": "stderr",
     "output_type": "stream",
     "text": [
      "\r",
      "Std Dev:   0%|                                                                                                                                                           | 0/6 [00:00<?, ?it/s]"
     ]
    },
    {
     "name": "stderr",
     "output_type": "stream",
     "text": [
      "\r",
      "Std Dev:  17%|████████████████████████▌                                                                                                                          | 1/6 [00:00<00:01,  2.76it/s]"
     ]
    },
    {
     "name": "stderr",
     "output_type": "stream",
     "text": [
      "\r",
      "Std Dev:  33%|█████████████████████████████████████████████████                                                                                                  | 2/6 [00:00<00:01,  2.77it/s]"
     ]
    },
    {
     "name": "stderr",
     "output_type": "stream",
     "text": [
      "\r",
      "Std Dev:  50%|█████████████████████████████████████████████████████████████████████████▌                                                                         | 3/6 [00:01<00:01,  2.78it/s]"
     ]
    },
    {
     "name": "stderr",
     "output_type": "stream",
     "text": [
      "\r",
      "Std Dev:  67%|██████████████████████████████████████████████████████████████████████████████████████████████████                                                 | 4/6 [00:01<00:00,  2.75it/s]"
     ]
    },
    {
     "name": "stderr",
     "output_type": "stream",
     "text": [
      "\r",
      "Std Dev:  83%|██████████████████████████████████████████████████████████████████████████████████████████████████████████████████████████▌                        | 5/6 [00:01<00:00,  2.76it/s]"
     ]
    },
    {
     "name": "stderr",
     "output_type": "stream",
     "text": [
      "\r",
      "Std Dev: 100%|███████████████████████████████████████████████████████████████████████████████████████████████████████████████████████████████████████████████████| 6/6 [00:02<00:00,  2.77it/s]"
     ]
    },
    {
     "name": "stderr",
     "output_type": "stream",
     "text": [
      "\r",
      "Std Dev: 100%|███████████████████████████████████████████████████████████████████████████████████████████████████████████████████████████████████████████████████| 6/6 [00:02<00:00,  2.76it/s]"
     ]
    },
    {
     "name": "stderr",
     "output_type": "stream",
     "text": [
      "\n"
     ]
    },
    {
     "name": "stderr",
     "output_type": "stream",
     "text": [
      "\r",
      "quantiles:   0%|                                                                                                                                                         | 0/6 [00:00<?, ?it/s]"
     ]
    },
    {
     "name": "stderr",
     "output_type": "stream",
     "text": [
      "\r",
      "quantiles:  17%|████████████████████████▏                                                                                                                        | 1/6 [00:00<00:04,  1.03it/s]"
     ]
    },
    {
     "name": "stderr",
     "output_type": "stream",
     "text": [
      "\r",
      "quantiles:  33%|████████████████████████████████████████████████▎                                                                                                | 2/6 [00:02<00:04,  1.02s/it]"
     ]
    },
    {
     "name": "stderr",
     "output_type": "stream",
     "text": [
      "\r",
      "quantiles:  50%|████████████████████████████████████████████████████████████████████████▌                                                                        | 3/6 [00:02<00:02,  1.01it/s]"
     ]
    },
    {
     "name": "stderr",
     "output_type": "stream",
     "text": [
      "\r",
      "quantiles:  67%|████████████████████████████████████████████████████████████████████████████████████████████████▋                                                | 4/6 [00:03<00:01,  1.02it/s]"
     ]
    },
    {
     "name": "stderr",
     "output_type": "stream",
     "text": [
      "\r",
      "quantiles:  83%|████████████████████████████████████████████████████████████████████████████████████████████████████████████████████████▊                        | 5/6 [00:05<00:01,  1.02s/it]"
     ]
    },
    {
     "name": "stderr",
     "output_type": "stream",
     "text": [
      "\r",
      "quantiles: 100%|█████████████████████████████████████████████████████████████████████████████████████████████████████████████████████████████████████████████████| 6/6 [00:06<00:00,  1.01s/it]"
     ]
    },
    {
     "name": "stderr",
     "output_type": "stream",
     "text": [
      "\r",
      "quantiles: 100%|█████████████████████████████████████████████████████████████████████████████████████████████████████████████████████████████████████████████████| 6/6 [00:06<00:00,  1.00s/it]"
     ]
    },
    {
     "name": "stderr",
     "output_type": "stream",
     "text": [
      "\n"
     ]
    },
    {
     "data": {
      "text/html": [
       "<h3>Summary Table for RBO@5</h3>"
      ],
      "text/plain": [
       "<IPython.core.display.HTML object>"
      ]
     },
     "metadata": {},
     "output_type": "display_data"
    },
    {
     "data": {
      "text/html": [
       "<table>\n",
       "<thead><tr>\n",
       "<th>Algorithm\n",
       "<th>Mean\n",
       "<th>Std Dev\n",
       "<th>10%ile\n",
       "<th>Median\n",
       "<th>90%ile\n",
       "<th>Dist. (KDE)\n",
       "</tr></thead>\n",
       "<tbody>\n",
       "<tr><td>locality-cali\n",
       "<td>0.389<br><span style=\"font-size: 75%;\">(0.384,0.394)</span></td>\n",
       "<td>0.078<br><span style=\"font-size: 75%;\">(0.067,0.089)</span></td>\n",
       "<td>0.396<br><span style=\"font-size: 75%;\">(0.307,0.396)</span></td>\n",
       "<td>0.410<br><span style=\"font-size: 75%;\">(0.410,0.410)</span></td>\n",
       "<td>0.410<br><span style=\"font-size: 75%;\">(0.410,0.410)</span></td>\n",
       "<td><img src=\"data:image/png;base64,iVBORw0KGgoAAAANSUhEUgAAASwAAAAZCAYAAACLvRPfAAAAOXRFWHRTb2Z0d2FyZQBNYXRwbG90bGliIHZlcnNpb24zLjkuMiwgaHR0cHM6Ly9tYXRwbG90bGliLm9yZy8hTgPZAAAACXBIWXMAAA9hAAAPYQGoP6dpAAAFKElEQVR4nO3ab0hTexzH8fc256lsO3M1UzQQH3X1mWgQqUVPDAkESQyMblYSch90sSRuoI/6gwX39iAjuAVxCx+lkBDc6EmwuKRFeS+S5oMV5dXVam7GpS3PObsP0uFEw82/W98X/PideX7nnK8bfvyd344pEolEEEKIJGBe7QKEEGKhJLCEEElDAus70dDQgMlkwmazMTQ0tNrlCJEQk6xhpb6enh6qq6ujr7dt20ZfXx82m20VqxIifjLDSnE+n4/GxkYAjh49Sm5uLkNDQzQ0NCD/q0SykRlWqtF1cLthbIxIdja1V67Q1d1NUVERT58+pb+/n4qKCiYnJ7l48SItLS2rXbEQCyaBlUq6u+HECRgZAaATqAfSLBZ6+/ooLi4G4Nq1azQ1NWE2m3nw4AF79uxZvZqFiIPcEqaK7m7Yvz8aVv8CP03tatV1il+/jg49fvw4hw8fxjAM6urqePPmzYqXK0QiZIaVCnQd8vOjYRUBqoA/gRLgL8C6dSu8egUWCwCfP3+mrKyMZ8+eUVpaitvtRlGU1alfiAWSGVYqcLujYQXwO1/DSgH+AKwAb99+HTdl/fr1dHV14XQ6efLkCe3t7StbsxAJkMBKBWNj0U0P0Dy1fR74YZ5xAPn5+XR0dHwde/48w8PDy1mlEIsmgZUKcnIAMIAG4D+gAvh5nnEz1dXVUVlZSTgcpqmpSR51EGuarGGlgqk1rN9GRmgGMoB/gILp/SYT5OXFrGHN5PF4KCoqIhQKcevWLQ4ePLhytQsRB5lhpQKLhcGWFn6Zevkrs8IK4PLlOcMKoKCggLa2NgCam5vx+/3LWKwQiZPASgGapvHj7duEgUpFoXHmzrw8uHMHamq+eY6TJ09SWFiIz+fj9OnTy1muEAmTW8IUcPbsWVpbW3E4HAz8/Te5Hs/XBfacHCgvn3dmNdujR48oLy8HwO12U1ZWtpxlCxE3Cawk19/fT2lpKZqmLcn6U2NjI9evX6ewsJDnz5+Tnp6+RJUKsXhyS5jEhoeHOXToEJqmUVNTQ319/aLP2d7ejsvl4sWLFxw5coTBwcElqFSIpRH3DGt0dJRAIIDdbsdut7Nx40bMZsm9bzEMA7/fj9fr5d27dzEtFAqxefNmXC5XTO90OsnMzIx5+lzXdR4/fkxPTw93797l5cuXALhcLgYGBsjKylqSejs7O2PCb+fOnRw7doza2loyMjKW5BpCJCLuwDpz5gwXLlyI+ZnNZosGmKqqqKqKw+FAVVXsdjtWq5W0tDQsFku0N5vNmKa+wZruZ2+vJdNv08y3KxKJMDk5GdO+fPnCp0+f8Hq90fb+/Xs0TUvouhs2bCAzMxOn04nX68Xn80X3paWlsXv3bs6dO8f27dsX9wvOcv/+fa5evcq9e/fQdR0Au93Ovn37cDgcrFu3DkVRor1lnnWytfp5itVRUlLCrl27Ej4+7sBqa2ujo6ODiYmJhP8Iv1ebNm1iy5YtMU1RFD5+/IjP5+PDhw/RPhAIzPkQp6qqVFVVUV1dzd69e1FVdVlrHh0d5ebNm9y4cQOPx7Os1xKp79SpU1y6dCnh4xNedI9EIoTDYSYmJmJaIBAgGAwSDAYJBALRYJtuuq6jaRqGYcx5zrVsrhmh1WqNaenp6WRkZJCdnR3TsrKysFqtC76WYRgEg0H8fj/j4+OMj4+jKAo7duyI6zxLxTAMHj58SG9vL6FQiFAoRDgcjvbJ+HmKlVdVVcWBAwcSPl6+JRRCJA1ZLRdCJI3/AVXfF+N1lIxBAAAAAElFTkSuQmCC\"></td>\n",
       "</tr>\n",
       "<tr><td>mmr\n",
       "<td>0.227<br><span style=\"font-size: 75%;\">(0.223,0.231)</span></td>\n",
       "<td>0.061<br><span style=\"font-size: 75%;\">(0.056,0.066)</span></td>\n",
       "<td>0.203<br><span style=\"font-size: 75%;\">(0.203,0.203)</span></td>\n",
       "<td>0.203<br><span style=\"font-size: 75%;\">(0.203,0.216)</span></td>\n",
       "<td>0.307<br><span style=\"font-size: 75%;\">(0.307,0.307)</span></td>\n",
       "<td><img src=\"data:image/png;base64,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\"></td>\n",
       "</tr>\n",
       "<tr><td>nrms\n",
       "<td>0.389<br><span style=\"font-size: 75%;\">(0.384,0.394)</span></td>\n",
       "<td>0.078<br><span style=\"font-size: 75%;\">(0.067,0.089)</span></td>\n",
       "<td>0.396<br><span style=\"font-size: 75%;\">(0.307,0.396)</span></td>\n",
       "<td>0.410<br><span style=\"font-size: 75%;\">(0.410,0.410)</span></td>\n",
       "<td>0.410<br><span style=\"font-size: 75%;\">(0.410,0.410)</span></td>\n",
       "<td><img src=\"data:image/png;base64,iVBORw0KGgoAAAANSUhEUgAAASwAAAAZCAYAAACLvRPfAAAAOXRFWHRTb2Z0d2FyZQBNYXRwbG90bGliIHZlcnNpb24zLjkuMiwgaHR0cHM6Ly9tYXRwbG90bGliLm9yZy8hTgPZAAAACXBIWXMAAA9hAAAPYQGoP6dpAAAFO0lEQVR4nO3cXUhUaRjA8f/ojGfK5sxoOiZK1HYTKnSxSUWWdCPhElIYBUYyaAverYsXblG7NxZYCwXZ1Xrh9sFeqJAQ201gzMViUdGiJNjHRaaNTunMLDgfZ+bshXUw011n1MaZnh+8nDNn3vO+z8zAM+95zjAmXdd1hBAiBWQkOwAhhFgqSVhCiJQhCesr4XK5MJlM2Gw2hoeHkx2OEAkxSQ0r/fX19VFTU2M83r59Ow8ePMBmsyUxKiHiJyusNOf1ejl16hQADQ0NFBUVMTw8jMvlQr6rRKqRhJWOolHo70e/dYum2lomJiYoLS3l6tWrdHd3Y7FY6Onp4dKlS8mOVIi4SMJKN729sGULHDjAH3V1dN+/jxnoqq/HarWye/durly5AkBrayv37t1LarhCxENqWOmktxdqa0HXGQPKgCngF+Bnkwm6u+HIEXRdx+Vy0dXVRV5eHo8ePWLz5s1JDV2IpZCElS6i0dmV1egoOvAd8CfwLfAXYDGZoLgYXr2CzExmZmbYu3cvT548oby8HLfbjaIoyXwFQvwvuSRMF243jI4C8BuzyUoBfgcsALoOr1/P9gPWrVtHT08Pubm5PHz4kPb29uTELUQcJGGli/FxAF4BP3441AaULNIPYOvWrXR0dMz2bWtjZGRktaMUYlkkYaWLwkJigAv4B9gH/LBIv7mOHTtGVVUVoVCIpqYm+amDWNOkhpUuolEub9xIs89HNvA38M3c5+fVsOZ68eIFZWVlBINBbty4QV1d3RcMXIilkxVWmhgeGeGnmRkAfmWBZAVw+fJnyQpg27ZtnD17FoDm5mbev3+/qrEKkShJWGlA0zTq6+sJhsNU7djB90VFn3YoLjZ+0rCYlpYWSkpKmJycpLW1dZUjFiIxckmYBs6fP8+ZM2ew2+0MDg5SXFg4ezdwfHy2ZrVv34Irq/ncbjf79+839isqKlY7dCHiIgkrxT19+pTy8nIikQjXr1/nxIkTyxqvsbGRzs5OSktLefz4MVlZWSsUqRDLJ5eEKez58+ecPHmSSCTC4cOHV6RY3t7eTn5+PkNDQzQ0NMhf0Yg1Je4V1tjYGD6fD1VVsdlsbNiwgYwMyXv/Rdd1pqammJiYwOPx4PF4jP1QKEReXt5nLTc3F4fDgdlsNsaJxWIMDAzQ19fH7du3efbsGQD5+fkMDg7idDpXJN6bN29+slKrqKigsbGRo0ePsn79+hWZQ4hExJ2wTp8+zYULFz45ZrPZUFUVVVWx2+3Y7XYcDgd2ux1VVbFYLJjNZjIzM41tRkYGpg93rz5u5++vJR/fprlvl67raJpGOBwmEokYLRAI4PF4ePv2rZGgwuFwQvPabDZycnLIyckxxvvIbDZTWVlJW1sbu3btWt4LnOfu3btcu3aNO3fuEIvFAFBVlUOHDuFwOFAUBavViqIoKIpC5iI1srX6eYrk2LlzJ5WVlQmfH3fCOnfuHB0dHfj9fjRNS3jir5HdbqegoMBoTqcTRVF49+4dXq8Xr9fL5OQkXq+XQCCw4BiqqlJdXU1NTQ0HDx7E4XCsasxv3ryhq6uLzs5OXr58uapzifTX0tLCxYsXEz4/4aK7rusEg0H8fj+BQACfz4ff78fn8zE9PY3P5zOOaZpmtGg0iqZpxrf2/DHXsoVWhGazGYvFYrSsrCyys7MpKChg06ZNxtbpdGK1Wpc8l6ZpTE9PMzU1ZTSr1cqePXuSUgiPxWL09/czMDBAMBgkGAwSCoWMbSp+nuLLq66u5vjx4wmfL3cJhRApQ6rlQoiU8S9z2hHGevfxQwAAAABJRU5ErkJggg==\"></td>\n",
       "</tr>\n",
       "<tr><td>pfar\n",
       "<td>0.389<br><span style=\"font-size: 75%;\">(0.384,0.394)</span></td>\n",
       "<td>0.078<br><span style=\"font-size: 75%;\">(0.067,0.089)</span></td>\n",
       "<td>0.396<br><span style=\"font-size: 75%;\">(0.307,0.396)</span></td>\n",
       "<td>0.410<br><span style=\"font-size: 75%;\">(0.410,0.410)</span></td>\n",
       "<td>0.410<br><span style=\"font-size: 75%;\">(0.410,0.410)</span></td>\n",
       "<td><img src=\"data:image/png;base64,iVBORw0KGgoAAAANSUhEUgAAASwAAAAZCAYAAACLvRPfAAAAOXRFWHRTb2Z0d2FyZQBNYXRwbG90bGliIHZlcnNpb24zLjkuMiwgaHR0cHM6Ly9tYXRwbG90bGliLm9yZy8hTgPZAAAACXBIWXMAAA9hAAAPYQGoP6dpAAAFKElEQVR4nO3ab0hTexzH8fc256lsO3M1UzQQH3X1mWgQqUVPDAkESQyMblYSch90sSRuoI/6gwX39iAjuAVxCx+lkBDc6EmwuKRFeS+S5oMV5dXVam7GpS3PObsP0uFEw82/W98X/PideX7nnK8bfvyd344pEolEEEKIJGBe7QKEEGKhJLCEEElDAus70dDQgMlkwmazMTQ0tNrlCJEQk6xhpb6enh6qq6ujr7dt20ZfXx82m20VqxIifjLDSnE+n4/GxkYAjh49Sm5uLkNDQzQ0NCD/q0SykRlWqtF1cLthbIxIdja1V67Q1d1NUVERT58+pb+/n4qKCiYnJ7l48SItLS2rXbEQCyaBlUq6u+HECRgZAaATqAfSLBZ6+/ooLi4G4Nq1azQ1NWE2m3nw4AF79uxZvZqFiIPcEqaK7m7Yvz8aVv8CP03tatV1il+/jg49fvw4hw8fxjAM6urqePPmzYqXK0QiZIaVCnQd8vOjYRUBqoA/gRLgL8C6dSu8egUWCwCfP3+mrKyMZ8+eUVpaitvtRlGU1alfiAWSGVYqcLujYQXwO1/DSgH+AKwAb99+HTdl/fr1dHV14XQ6efLkCe3t7StbsxAJkMBKBWNj0U0P0Dy1fR74YZ5xAPn5+XR0dHwde/48w8PDy1mlEIsmgZUKcnIAMIAG4D+gAvh5nnEz1dXVUVlZSTgcpqmpSR51EGuarGGlgqk1rN9GRmgGMoB/gILp/SYT5OXFrGHN5PF4KCoqIhQKcevWLQ4ePLhytQsRB5lhpQKLhcGWFn6Zevkrs8IK4PLlOcMKoKCggLa2NgCam5vx+/3LWKwQiZPASgGapvHj7duEgUpFoXHmzrw8uHMHamq+eY6TJ09SWFiIz+fj9OnTy1muEAmTW8IUcPbsWVpbW3E4HAz8/Te5Hs/XBfacHCgvn3dmNdujR48oLy8HwO12U1ZWtpxlCxE3Cawk19/fT2lpKZqmLcn6U2NjI9evX6ewsJDnz5+Tnp6+RJUKsXhyS5jEhoeHOXToEJqmUVNTQ319/aLP2d7ejsvl4sWLFxw5coTBwcElqFSIpRH3DGt0dJRAIIDdbsdut7Nx40bMZsm9bzEMA7/fj9fr5d27dzEtFAqxefNmXC5XTO90OsnMzIx5+lzXdR4/fkxPTw93797l5cuXALhcLgYGBsjKylqSejs7O2PCb+fOnRw7doza2loyMjKW5BpCJCLuwDpz5gwXLlyI+ZnNZosGmKqqqKqKw+FAVVXsdjtWq5W0tDQsFku0N5vNmKa+wZruZ2+vJdNv08y3KxKJMDk5GdO+fPnCp0+f8Hq90fb+/Xs0TUvouhs2bCAzMxOn04nX68Xn80X3paWlsXv3bs6dO8f27dsX9wvOcv/+fa5evcq9e/fQdR0Au93Ovn37cDgcrFu3DkVRor1lnnWytfp5itVRUlLCrl27Ej4+7sBqa2ujo6ODiYmJhP8Iv1ebNm1iy5YtMU1RFD5+/IjP5+PDhw/RPhAIzPkQp6qqVFVVUV1dzd69e1FVdVlrHh0d5ebNm9y4cQOPx7Os1xKp79SpU1y6dCnh4xNedI9EIoTDYSYmJmJaIBAgGAwSDAYJBALRYJtuuq6jaRqGYcx5zrVsrhmh1WqNaenp6WRkZJCdnR3TsrKysFqtC76WYRgEg0H8fj/j4+OMj4+jKAo7duyI6zxLxTAMHj58SG9vL6FQiFAoRDgcjvbJ+HmKlVdVVcWBAwcSPl6+JRRCJA1ZLRdCJI3/AVXfF+N1lIxBAAAAAElFTkSuQmCC\"></td>\n",
       "</tr>\n",
       "<tr><td>softmax\n",
       "<td>0.209<br><span style=\"font-size: 75%;\">(0.202,0.215)</span></td>\n",
       "<td>0.108<br><span style=\"font-size: 75%;\">(0.105,0.112)</span></td>\n",
       "<td>0.058<br><span style=\"font-size: 75%;\">(0.044,0.071)</span></td>\n",
       "<td>0.216<br><span style=\"font-size: 75%;\">(0.206,0.220)</span></td>\n",
       "<td>0.351<br><span style=\"font-size: 75%;\">(0.346,0.364)</span></td>\n",
       "<td><img src=\"data:image/png;base64,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\"></td>\n",
       "</tr>\n",
       "<tr><td>topic-cali\n",
       "<td>0.389<br><span style=\"font-size: 75%;\">(0.384,0.394)</span></td>\n",
       "<td>0.078<br><span style=\"font-size: 75%;\">(0.067,0.089)</span></td>\n",
       "<td>0.396<br><span style=\"font-size: 75%;\">(0.307,0.396)</span></td>\n",
       "<td>0.410<br><span style=\"font-size: 75%;\">(0.410,0.410)</span></td>\n",
       "<td>0.410<br><span style=\"font-size: 75%;\">(0.410,0.410)</span></td>\n",
       "<td><img src=\"data:image/png;base64,iVBORw0KGgoAAAANSUhEUgAAASwAAAAZCAYAAACLvRPfAAAAOXRFWHRTb2Z0d2FyZQBNYXRwbG90bGliIHZlcnNpb24zLjkuMiwgaHR0cHM6Ly9tYXRwbG90bGliLm9yZy8hTgPZAAAACXBIWXMAAA9hAAAPYQGoP6dpAAAFKElEQVR4nO3ab0hTexzH8fc256lsO3M1UzQQH3X1mWgQqUVPDAkESQyMblYSch90sSRuoI/6gwX39iAjuAVxCx+lkBDc6EmwuKRFeS+S5oMV5dXVam7GpS3PObsP0uFEw82/W98X/PideX7nnK8bfvyd344pEolEEEKIJGBe7QKEEGKhJLCEEElDAus70dDQgMlkwmazMTQ0tNrlCJEQk6xhpb6enh6qq6ujr7dt20ZfXx82m20VqxIifjLDSnE+n4/GxkYAjh49Sm5uLkNDQzQ0NCD/q0SykRlWqtF1cLthbIxIdja1V67Q1d1NUVERT58+pb+/n4qKCiYnJ7l48SItLS2rXbEQCyaBlUq6u+HECRgZAaATqAfSLBZ6+/ooLi4G4Nq1azQ1NWE2m3nw4AF79uxZvZqFiIPcEqaK7m7Yvz8aVv8CP03tatV1il+/jg49fvw4hw8fxjAM6urqePPmzYqXK0QiZIaVCnQd8vOjYRUBqoA/gRLgL8C6dSu8egUWCwCfP3+mrKyMZ8+eUVpaitvtRlGU1alfiAWSGVYqcLujYQXwO1/DSgH+AKwAb99+HTdl/fr1dHV14XQ6efLkCe3t7StbsxAJkMBKBWNj0U0P0Dy1fR74YZ5xAPn5+XR0dHwde/48w8PDy1mlEIsmgZUKcnIAMIAG4D+gAvh5nnEz1dXVUVlZSTgcpqmpSR51EGuarGGlgqk1rN9GRmgGMoB/gILp/SYT5OXFrGHN5PF4KCoqIhQKcevWLQ4ePLhytQsRB5lhpQKLhcGWFn6Zevkrs8IK4PLlOcMKoKCggLa2NgCam5vx+/3LWKwQiZPASgGapvHj7duEgUpFoXHmzrw8uHMHamq+eY6TJ09SWFiIz+fj9OnTy1muEAmTW8IUcPbsWVpbW3E4HAz8/Te5Hs/XBfacHCgvn3dmNdujR48oLy8HwO12U1ZWtpxlCxE3Cawk19/fT2lpKZqmLcn6U2NjI9evX6ewsJDnz5+Tnp6+RJUKsXhyS5jEhoeHOXToEJqmUVNTQ319/aLP2d7ejsvl4sWLFxw5coTBwcElqFSIpRH3DGt0dJRAIIDdbsdut7Nx40bMZsm9bzEMA7/fj9fr5d27dzEtFAqxefNmXC5XTO90OsnMzIx5+lzXdR4/fkxPTw93797l5cuXALhcLgYGBsjKylqSejs7O2PCb+fOnRw7doza2loyMjKW5BpCJCLuwDpz5gwXLlyI+ZnNZosGmKqqqKqKw+FAVVXsdjtWq5W0tDQsFku0N5vNmKa+wZruZ2+vJdNv08y3KxKJMDk5GdO+fPnCp0+f8Hq90fb+/Xs0TUvouhs2bCAzMxOn04nX68Xn80X3paWlsXv3bs6dO8f27dsX9wvOcv/+fa5evcq9e/fQdR0Au93Ovn37cDgcrFu3DkVRor1lnnWytfp5itVRUlLCrl27Ej4+7sBqa2ujo6ODiYmJhP8Iv1ebNm1iy5YtMU1RFD5+/IjP5+PDhw/RPhAIzPkQp6qqVFVVUV1dzd69e1FVdVlrHh0d5ebNm9y4cQOPx7Os1xKp79SpU1y6dCnh4xNedI9EIoTDYSYmJmJaIBAgGAwSDAYJBALRYJtuuq6jaRqGYcx5zrVsrhmh1WqNaenp6WRkZJCdnR3TsrKysFqtC76WYRgEg0H8fj/j4+OMj4+jKAo7duyI6zxLxTAMHj58SG9vL6FQiFAoRDgcjvbJ+HmKlVdVVcWBAwcSPl6+JRRCJA1ZLRdCJI3/AVXfF+N1lIxBAAAAAElFTkSuQmCC\"></td>\n",
       "</tr>\n",
       "</tbody>\n",
       "</table>\n"
      ],
      "text/plain": [
       "<IPython.core.display.HTML object>"
      ]
     },
     "metadata": {},
     "output_type": "display_data"
    },
    {
     "name": "stderr",
     "output_type": "stream",
     "text": [
      "\r",
      "Mean:   0%|                                                                                                                                                              | 0/6 [00:00<?, ?it/s]"
     ]
    },
    {
     "name": "stderr",
     "output_type": "stream",
     "text": [
      "\r",
      "Mean:  17%|█████████████████████████                                                                                                                             | 1/6 [00:00<00:01,  3.99it/s]"
     ]
    },
    {
     "name": "stderr",
     "output_type": "stream",
     "text": [
      "\r",
      "Mean:  33%|██████████████████████████████████████████████████                                                                                                    | 2/6 [00:00<00:00,  4.32it/s]"
     ]
    },
    {
     "name": "stderr",
     "output_type": "stream",
     "text": [
      "\r",
      "Mean:  50%|███████████████████████████████████████████████████████████████████████████                                                                           | 3/6 [00:00<00:00,  4.35it/s]"
     ]
    },
    {
     "name": "stderr",
     "output_type": "stream",
     "text": [
      "\r",
      "Mean:  67%|████████████████████████████████████████████████████████████████████████████████████████████████████                                                  | 4/6 [00:00<00:00,  4.43it/s]"
     ]
    },
    {
     "name": "stderr",
     "output_type": "stream",
     "text": [
      "\r",
      "Mean:  83%|█████████████████████████████████████████████████████████████████████████████████████████████████████████████████████████████                         | 5/6 [00:01<00:00,  4.40it/s]"
     ]
    },
    {
     "name": "stderr",
     "output_type": "stream",
     "text": [
      "\r",
      "Mean: 100%|██████████████████████████████████████████████████████████████████████████████████████████████████████████████████████████████████████████████████████| 6/6 [00:01<00:00,  4.45it/s]"
     ]
    },
    {
     "name": "stderr",
     "output_type": "stream",
     "text": [
      "\r",
      "Mean: 100%|██████████████████████████████████████████████████████████████████████████████████████████████████████████████████████████████████████████████████████| 6/6 [00:01<00:00,  4.39it/s]"
     ]
    },
    {
     "name": "stderr",
     "output_type": "stream",
     "text": [
      "\n"
     ]
    },
    {
     "name": "stderr",
     "output_type": "stream",
     "text": [
      "\r",
      "Std Dev:   0%|                                                                                                                                                           | 0/6 [00:00<?, ?it/s]"
     ]
    },
    {
     "name": "stderr",
     "output_type": "stream",
     "text": [
      "\r",
      "Std Dev:  17%|████████████████████████▌                                                                                                                          | 1/6 [00:00<00:01,  2.78it/s]"
     ]
    },
    {
     "name": "stderr",
     "output_type": "stream",
     "text": [
      "\r",
      "Std Dev:  33%|█████████████████████████████████████████████████                                                                                                  | 2/6 [00:00<00:01,  2.76it/s]"
     ]
    },
    {
     "name": "stderr",
     "output_type": "stream",
     "text": [
      "\r",
      "Std Dev:  50%|█████████████████████████████████████████████████████████████████████████▌                                                                         | 3/6 [00:01<00:01,  2.75it/s]"
     ]
    },
    {
     "name": "stderr",
     "output_type": "stream",
     "text": [
      "\r",
      "Std Dev:  67%|██████████████████████████████████████████████████████████████████████████████████████████████████                                                 | 4/6 [00:01<00:00,  2.75it/s]"
     ]
    },
    {
     "name": "stderr",
     "output_type": "stream",
     "text": [
      "\r",
      "Std Dev:  83%|██████████████████████████████████████████████████████████████████████████████████████████████████████████████████████████▌                        | 5/6 [00:01<00:00,  2.74it/s]"
     ]
    },
    {
     "name": "stderr",
     "output_type": "stream",
     "text": [
      "\r",
      "Std Dev: 100%|███████████████████████████████████████████████████████████████████████████████████████████████████████████████████████████████████████████████████| 6/6 [00:02<00:00,  2.75it/s]"
     ]
    },
    {
     "name": "stderr",
     "output_type": "stream",
     "text": [
      "\r",
      "Std Dev: 100%|███████████████████████████████████████████████████████████████████████████████████████████████████████████████████████████████████████████████████| 6/6 [00:02<00:00,  2.75it/s]"
     ]
    },
    {
     "name": "stderr",
     "output_type": "stream",
     "text": [
      "\n"
     ]
    },
    {
     "name": "stderr",
     "output_type": "stream",
     "text": [
      "\r",
      "quantiles:   0%|                                                                                                                                                         | 0/6 [00:00<?, ?it/s]"
     ]
    },
    {
     "name": "stderr",
     "output_type": "stream",
     "text": [
      "\r",
      "quantiles:  17%|████████████████████████▏                                                                                                                        | 1/6 [00:01<00:05,  1.02s/it]"
     ]
    },
    {
     "name": "stderr",
     "output_type": "stream",
     "text": [
      "\r",
      "quantiles:  33%|████████████████████████████████████████████████▎                                                                                                | 2/6 [00:02<00:04,  1.06s/it]"
     ]
    },
    {
     "name": "stderr",
     "output_type": "stream",
     "text": [
      "\r",
      "quantiles:  50%|████████████████████████████████████████████████████████████████████████▌                                                                        | 3/6 [00:03<00:03,  1.03s/it]"
     ]
    },
    {
     "name": "stderr",
     "output_type": "stream",
     "text": [
      "\r",
      "quantiles:  67%|████████████████████████████████████████████████████████████████████████████████████████████████▋                                                | 4/6 [00:04<00:02,  1.02s/it]"
     ]
    },
    {
     "name": "stderr",
     "output_type": "stream",
     "text": [
      "\r",
      "quantiles:  83%|████████████████████████████████████████████████████████████████████████████████████████████████████████████████████████▊                        | 5/6 [00:05<00:01,  1.05s/it]"
     ]
    },
    {
     "name": "stderr",
     "output_type": "stream",
     "text": [
      "\r",
      "quantiles: 100%|█████████████████████████████████████████████████████████████████████████████████████████████████████████████████████████████████████████████████| 6/6 [00:06<00:00,  1.03s/it]"
     ]
    },
    {
     "name": "stderr",
     "output_type": "stream",
     "text": [
      "\r",
      "quantiles: 100%|█████████████████████████████████████████████████████████████████████████████████████████████████████████████████████████████████████████████████| 6/6 [00:06<00:00,  1.03s/it]"
     ]
    },
    {
     "name": "stderr",
     "output_type": "stream",
     "text": [
      "\n"
     ]
    },
    {
     "data": {
      "text/html": [
       "<h3>Summary Table for RBO@10</h3>"
      ],
      "text/plain": [
       "<IPython.core.display.HTML object>"
      ]
     },
     "metadata": {},
     "output_type": "display_data"
    },
    {
     "data": {
      "text/html": [
       "<table>\n",
       "<thead><tr>\n",
       "<th>Algorithm\n",
       "<th>Mean\n",
       "<th>Std Dev\n",
       "<th>10%ile\n",
       "<th>Median\n",
       "<th>90%ile\n",
       "<th>Dist. (KDE)\n",
       "</tr></thead>\n",
       "<tbody>\n",
       "<tr><td>locality-cali\n",
       "<td>0.604<br><span style=\"font-size: 75%;\">(0.596,0.612)</span></td>\n",
       "<td>0.133<br><span style=\"font-size: 75%;\">(0.118,0.150)</span></td>\n",
       "<td>0.525<br><span style=\"font-size: 75%;\">(0.371,0.525)</span></td>\n",
       "<td>0.651<br><span style=\"font-size: 75%;\">(0.651,0.651)</span></td>\n",
       "<td>0.651<br><span style=\"font-size: 75%;\">(0.651,0.651)</span></td>\n",
       "<td><img src=\"data:image/png;base64,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\"></td>\n",
       "</tr>\n",
       "<tr><td>mmr\n",
       "<td>0.323<br><span style=\"font-size: 75%;\">(0.317,0.330)</span></td>\n",
       "<td>0.107<br><span style=\"font-size: 75%;\">(0.101,0.113)</span></td>\n",
       "<td>0.235<br><span style=\"font-size: 75%;\">(0.235,0.235)</span></td>\n",
       "<td>0.309<br><span style=\"font-size: 75%;\">(0.299,0.321)</span></td>\n",
       "<td>0.453<br><span style=\"font-size: 75%;\">(0.453,0.472)</span></td>\n",
       "<td><img src=\"data:image/png;base64,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\"></td>\n",
       "</tr>\n",
       "<tr><td>nrms\n",
       "<td>0.604<br><span style=\"font-size: 75%;\">(0.596,0.612)</span></td>\n",
       "<td>0.133<br><span style=\"font-size: 75%;\">(0.118,0.150)</span></td>\n",
       "<td>0.525<br><span style=\"font-size: 75%;\">(0.371,0.525)</span></td>\n",
       "<td>0.651<br><span style=\"font-size: 75%;\">(0.651,0.651)</span></td>\n",
       "<td>0.651<br><span style=\"font-size: 75%;\">(0.651,0.651)</span></td>\n",
       "<td><img src=\"data:image/png;base64,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\"></td>\n",
       "</tr>\n",
       "<tr><td>pfar\n",
       "<td>0.604<br><span style=\"font-size: 75%;\">(0.596,0.612)</span></td>\n",
       "<td>0.133<br><span style=\"font-size: 75%;\">(0.118,0.150)</span></td>\n",
       "<td>0.525<br><span style=\"font-size: 75%;\">(0.371,0.525)</span></td>\n",
       "<td>0.651<br><span style=\"font-size: 75%;\">(0.651,0.651)</span></td>\n",
       "<td>0.651<br><span style=\"font-size: 75%;\">(0.651,0.651)</span></td>\n",
       "<td><img src=\"data:image/png;base64,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\"></td>\n",
       "</tr>\n",
       "<tr><td>softmax\n",
       "<td>0.371<br><span style=\"font-size: 75%;\">(0.362,0.380)</span></td>\n",
       "<td>0.142<br><span style=\"font-size: 75%;\">(0.136,0.148)</span></td>\n",
       "<td>0.180<br><span style=\"font-size: 75%;\">(0.166,0.201)</span></td>\n",
       "<td>0.374<br><span style=\"font-size: 75%;\">(0.371,0.390)</span></td>\n",
       "<td>0.549<br><span style=\"font-size: 75%;\">(0.534,0.562)</span></td>\n",
       "<td><img src=\"data:image/png;base64,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\"></td>\n",
       "</tr>\n",
       "<tr><td>topic-cali\n",
       "<td>0.604<br><span style=\"font-size: 75%;\">(0.596,0.612)</span></td>\n",
       "<td>0.133<br><span style=\"font-size: 75%;\">(0.119,0.150)</span></td>\n",
       "<td>0.525<br><span style=\"font-size: 75%;\">(0.371,0.525)</span></td>\n",
       "<td>0.651<br><span style=\"font-size: 75%;\">(0.651,0.651)</span></td>\n",
       "<td>0.651<br><span style=\"font-size: 75%;\">(0.651,0.651)</span></td>\n",
       "<td><img src=\"data:image/png;base64,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\"></td>\n",
       "</tr>\n",
       "</tbody>\n",
       "</table>\n"
      ],
      "text/plain": [
       "<IPython.core.display.HTML object>"
      ]
     },
     "metadata": {},
     "output_type": "display_data"
    }
   ],
   "source": [
    "for metric in overlap_metrics:\n",
    "    tw = EvalTable(mind_subset_user_metrics, \"recommender\", metric, progress=notebook_tqdm)\n",
    "    tw.add_stat(\"Mean\", np.mean, ci=True)\n",
    "    tw.add_stat(\"Std Dev\", np.std, ci=True)\n",
    "    tw.add_quantiles([\"10%ile\", \"Median\", \"90%ile\"], [0.1, 0.5, 0.9], ci=True)\n",
    "    display(HTML(f\"<h3>Summary Table for {metric}</h3>\"))\n",
    "    display(HTML(tw.html_table()))"
   ]
  }
 ],
 "metadata": {
  "jupytext": {
   "formats": "ipynb,md:myst"
  },
  "kernelspec": {
   "display_name": "Python 3 (ipykernel)",
   "language": "python",
   "name": "python3"
  },
  "language_info": {
   "codemirror_mode": {
    "name": "ipython",
    "version": 3
   },
   "file_extension": ".py",
   "mimetype": "text/x-python",
   "name": "python",
   "nbconvert_exporter": "python",
   "pygments_lexer": "ipython3",
   "version": "3.11.10"
  }
 },
 "nbformat": 4,
 "nbformat_minor": 5
}
