{
 "cells": [
  {
   "cell_type": "markdown",
   "id": "76fd0221",
   "metadata": {
    "papermill": {
     "duration": 0.008154,
     "end_time": "2025-05-01T22:09:24.719761",
     "exception": false,
     "start_time": "2025-05-01T22:09:24.711607",
     "status": "completed"
    },
    "tags": []
   },
   "source": [
    "# Offline Evaluation Metrics Visualizations\n",
    "\n",
    "This notebook visualizes user-specific performance metrics of various recommenders in the mind-subset dataset to assess effectiveness and ranking overlap. We explore two metric groups:\n",
    "\n",
    "1. **Effectiveness Metrics**: We use ranking-based metrics, Normalized Discounted Cumulative Gain (NDCG) and Reciprocal Rank (RR), to evaluate recommender effectiveness.\n",
    "2. **Ranking Overlap Metrics**: We use Rank-Based Overlap (RBO) to assess consistency in top-k recommendations relative to final rankings.\n",
    "\n",
    "> [!NOTE]\n",
    "> This is a *parameterized* notebook, and is used to render the other specific evaluation notebooks with [Papermill](https://papermill.readthedocs.io/en/latest/).  By default, it displays\n",
    "> the MIND Subset results, for easy editing."
   ]
  },
  {
   "cell_type": "code",
   "execution_count": 1,
   "id": "e82acae8",
   "metadata": {
    "execution": {
     "iopub.execute_input": "2025-05-01T22:09:24.728721Z",
     "iopub.status.busy": "2025-05-01T22:09:24.728579Z",
     "iopub.status.idle": "2025-05-01T22:09:24.730981Z",
     "shell.execute_reply": "2025-05-01T22:09:24.730769Z"
    },
    "papermill": {
     "duration": 0.006756,
     "end_time": "2025-05-01T22:09:24.731657",
     "exception": false,
     "start_time": "2025-05-01T22:09:24.724901",
     "status": "completed"
    },
    "tags": [
     "parameters"
    ]
   },
   "outputs": [],
   "source": [
    "EVAL_NAME = \"mind-subset\""
   ]
  },
  {
   "cell_type": "code",
   "execution_count": 2,
   "id": "37310171",
   "metadata": {
    "execution": {
     "iopub.execute_input": "2025-05-01T22:09:24.738273Z",
     "iopub.status.busy": "2025-05-01T22:09:24.738163Z",
     "iopub.status.idle": "2025-05-01T22:09:24.739704Z",
     "shell.execute_reply": "2025-05-01T22:09:24.739492Z"
    },
    "papermill": {
     "duration": 0.006025,
     "end_time": "2025-05-01T22:09:24.740645",
     "exception": false,
     "start_time": "2025-05-01T22:09:24.734620",
     "status": "completed"
    },
    "tags": [
     "injected-parameters"
    ]
   },
   "outputs": [],
   "source": [
    "# Parameters\n",
    "EVAL_NAME = \"mind-subset\""
   ]
  },
  {
   "cell_type": "markdown",
   "id": "c2641056",
   "metadata": {
    "papermill": {
     "duration": 0.002984,
     "end_time": "2025-05-01T22:09:24.747078",
     "exception": false,
     "start_time": "2025-05-01T22:09:24.744094",
     "status": "completed"
    },
    "tags": []
   },
   "source": [
    "## Setup"
   ]
  },
  {
   "cell_type": "markdown",
   "id": "046f2a64",
   "metadata": {
    "papermill": {
     "duration": 0.003031,
     "end_time": "2025-05-01T22:09:24.753209",
     "exception": false,
     "start_time": "2025-05-01T22:09:24.750178",
     "status": "completed"
    },
    "tags": []
   },
   "source": [
    "### Importing Libraries"
   ]
  },
  {
   "cell_type": "markdown",
   "id": "29746948",
   "metadata": {
    "papermill": {
     "duration": 0.002945,
     "end_time": "2025-05-01T22:09:24.759613",
     "exception": false,
     "start_time": "2025-05-01T22:09:24.756668",
     "status": "completed"
    },
    "tags": []
   },
   "source": [
    "PyData packages:"
   ]
  },
  {
   "cell_type": "code",
   "execution_count": 3,
   "id": "70b02420",
   "metadata": {
    "execution": {
     "iopub.execute_input": "2025-05-01T22:09:24.765906Z",
     "iopub.status.busy": "2025-05-01T22:09:24.765760Z",
     "iopub.status.idle": "2025-05-01T22:09:26.176962Z",
     "shell.execute_reply": "2025-05-01T22:09:26.176700Z"
    },
    "papermill": {
     "duration": 1.415465,
     "end_time": "2025-05-01T22:09:26.177875",
     "exception": false,
     "start_time": "2025-05-01T22:09:24.762410",
     "status": "completed"
    },
    "tags": []
   },
   "outputs": [],
   "source": [
    "import matplotlib.pyplot as plt\n",
    "import numpy as np\n",
    "import pandas as pd\n",
    "import seaborn as sns"
   ]
  },
  {
   "cell_type": "markdown",
   "id": "2a2dc22c",
   "metadata": {
    "papermill": {
     "duration": 0.002868,
     "end_time": "2025-05-01T22:09:26.184615",
     "exception": false,
     "start_time": "2025-05-01T22:09:26.181747",
     "status": "completed"
    },
    "tags": []
   },
   "source": [
    "Local code and display support:"
   ]
  },
  {
   "cell_type": "code",
   "execution_count": 4,
   "id": "c9c3fd9e",
   "metadata": {
    "execution": {
     "iopub.execute_input": "2025-05-01T22:09:26.190864Z",
     "iopub.status.busy": "2025-05-01T22:09:26.190720Z",
     "iopub.status.idle": "2025-05-01T22:09:26.196431Z",
     "shell.execute_reply": "2025-05-01T22:09:26.196244Z"
    },
    "papermill": {
     "duration": 0.009645,
     "end_time": "2025-05-01T22:09:26.197105",
     "exception": false,
     "start_time": "2025-05-01T22:09:26.187460",
     "status": "completed"
    },
    "tags": []
   },
   "outputs": [],
   "source": [
    "from IPython.display import HTML\n",
    "\n",
    "from poprox_recommender.eval_tables import EvalTable"
   ]
  },
  {
   "cell_type": "markdown",
   "id": "bfeb987f",
   "metadata": {
    "papermill": {
     "duration": 0.002921,
     "end_time": "2025-05-01T22:09:26.203184",
     "exception": false,
     "start_time": "2025-05-01T22:09:26.200263",
     "status": "completed"
    },
    "tags": []
   },
   "source": [
    "### Loading Data"
   ]
  },
  {
   "cell_type": "code",
   "execution_count": 5,
   "id": "a93f5ff3",
   "metadata": {
    "execution": {
     "iopub.execute_input": "2025-05-01T22:09:26.209621Z",
     "iopub.status.busy": "2025-05-01T22:09:26.209524Z",
     "iopub.status.idle": "2025-05-01T22:09:26.227402Z",
     "shell.execute_reply": "2025-05-01T22:09:26.227199Z"
    },
    "papermill": {
     "duration": 0.021806,
     "end_time": "2025-05-01T22:09:26.228071",
     "exception": false,
     "start_time": "2025-05-01T22:09:26.206265",
     "status": "completed"
    },
    "tags": []
   },
   "outputs": [
    {
     "data": {
      "text/html": [
       "<div>\n",
       "<style scoped>\n",
       "    .dataframe tbody tr th:only-of-type {\n",
       "        vertical-align: middle;\n",
       "    }\n",
       "\n",
       "    .dataframe tbody tr th {\n",
       "        vertical-align: top;\n",
       "    }\n",
       "\n",
       "    .dataframe thead th {\n",
       "        text-align: right;\n",
       "    }\n",
       "</style>\n",
       "<table border=\"1\" class=\"dataframe\">\n",
       "  <thead>\n",
       "    <tr style=\"text-align: right;\">\n",
       "      <th></th>\n",
       "      <th>pipeline</th>\n",
       "      <th>profile_id</th>\n",
       "      <th>Unnamed: 0</th>\n",
       "      <th>personalized</th>\n",
       "      <th>NDCG@5</th>\n",
       "      <th>NDCG@10</th>\n",
       "      <th>RR</th>\n",
       "      <th>RBO@5</th>\n",
       "      <th>RBO@10</th>\n",
       "    </tr>\n",
       "  </thead>\n",
       "  <tbody>\n",
       "    <tr>\n",
       "      <th>0</th>\n",
       "      <td>mmr</td>\n",
       "      <td>00410eda-2611-5ecd-a53b-22b6d97c7a26</td>\n",
       "      <td>0</td>\n",
       "      <td>True</td>\n",
       "      <td>0.000000</td>\n",
       "      <td>0.356207</td>\n",
       "      <td>0.142857</td>\n",
       "      <td>0.319285</td>\n",
       "      <td>0.532901</td>\n",
       "    </tr>\n",
       "    <tr>\n",
       "      <th>1</th>\n",
       "      <td>mmr</td>\n",
       "      <td>004fbc6f-e842-5b58-8345-73a4dbf06a69</td>\n",
       "      <td>1</td>\n",
       "      <td>True</td>\n",
       "      <td>0.000000</td>\n",
       "      <td>0.000000</td>\n",
       "      <td>0.000000</td>\n",
       "      <td>0.216469</td>\n",
       "      <td>0.325209</td>\n",
       "    </tr>\n",
       "    <tr>\n",
       "      <th>2</th>\n",
       "      <td>mmr</td>\n",
       "      <td>00523b6e-a6b7-5b79-be99-0c95035bd0f5</td>\n",
       "      <td>2</td>\n",
       "      <td>True</td>\n",
       "      <td>0.430677</td>\n",
       "      <td>0.430677</td>\n",
       "      <td>0.200000</td>\n",
       "      <td>0.279163</td>\n",
       "      <td>0.481313</td>\n",
       "    </tr>\n",
       "    <tr>\n",
       "      <th>3</th>\n",
       "      <td>mmr</td>\n",
       "      <td>0120aa53-e102-5328-8a96-2a71a9bf9083</td>\n",
       "      <td>3</td>\n",
       "      <td>True</td>\n",
       "      <td>0.500000</td>\n",
       "      <td>0.500000</td>\n",
       "      <td>0.250000</td>\n",
       "      <td>0.319816</td>\n",
       "      <td>0.507185</td>\n",
       "    </tr>\n",
       "    <tr>\n",
       "      <th>4</th>\n",
       "      <td>mmr</td>\n",
       "      <td>01afa896-a556-552c-8d78-f16b81b285c1</td>\n",
       "      <td>4</td>\n",
       "      <td>True</td>\n",
       "      <td>0.000000</td>\n",
       "      <td>0.193426</td>\n",
       "      <td>0.166667</td>\n",
       "      <td>0.247816</td>\n",
       "      <td>0.379968</td>\n",
       "    </tr>\n",
       "  </tbody>\n",
       "</table>\n",
       "</div>"
      ],
      "text/plain": [
       "  pipeline                            profile_id  Unnamed: 0  personalized  \\\n",
       "0      mmr  00410eda-2611-5ecd-a53b-22b6d97c7a26           0          True   \n",
       "1      mmr  004fbc6f-e842-5b58-8345-73a4dbf06a69           1          True   \n",
       "2      mmr  00523b6e-a6b7-5b79-be99-0c95035bd0f5           2          True   \n",
       "3      mmr  0120aa53-e102-5328-8a96-2a71a9bf9083           3          True   \n",
       "4      mmr  01afa896-a556-552c-8d78-f16b81b285c1           4          True   \n",
       "\n",
       "     NDCG@5   NDCG@10        RR     RBO@5    RBO@10  \n",
       "0  0.000000  0.356207  0.142857  0.319285  0.532901  \n",
       "1  0.000000  0.000000  0.000000  0.216469  0.325209  \n",
       "2  0.430677  0.430677  0.200000  0.279163  0.481313  \n",
       "3  0.500000  0.500000  0.250000  0.319816  0.507185  \n",
       "4  0.000000  0.193426  0.166667  0.247816  0.379968  "
      ]
     },
     "execution_count": 5,
     "metadata": {},
     "output_type": "execute_result"
    }
   ],
   "source": [
    "mind_subset_user_metrics = pd.read_csv(f\"../outputs/{EVAL_NAME}-profile-metrics.csv.gz\")\n",
    "mind_subset_user_metrics.head()"
   ]
  },
  {
   "cell_type": "code",
   "execution_count": 6,
   "id": "3a6ec2d4",
   "metadata": {
    "execution": {
     "iopub.execute_input": "2025-05-01T22:09:26.238180Z",
     "iopub.status.busy": "2025-05-01T22:09:26.238077Z",
     "iopub.status.idle": "2025-05-01T22:09:26.239602Z",
     "shell.execute_reply": "2025-05-01T22:09:26.239411Z"
    },
    "papermill": {
     "duration": 0.008545,
     "end_time": "2025-05-01T22:09:26.240152",
     "exception": false,
     "start_time": "2025-05-01T22:09:26.231607",
     "status": "completed"
    },
    "tags": []
   },
   "outputs": [],
   "source": [
    "effectiveness_metrics = [\"NDCG@5\", \"NDCG@10\", \"RR\"]\n",
    "overlap_metrics = [\"RBO@5\", \"RBO@10\"]"
   ]
  },
  {
   "cell_type": "markdown",
   "id": "c541e87d",
   "metadata": {
    "papermill": {
     "duration": 0.002929,
     "end_time": "2025-05-01T22:09:26.246181",
     "exception": false,
     "start_time": "2025-05-01T22:09:26.243252",
     "status": "completed"
    },
    "tags": []
   },
   "source": [
    "## Results"
   ]
  },
  {
   "cell_type": "markdown",
   "id": "41f78b8f",
   "metadata": {
    "papermill": {
     "duration": 0.006228,
     "end_time": "2025-05-01T22:09:26.255530",
     "exception": false,
     "start_time": "2025-05-01T22:09:26.249302",
     "status": "completed"
    },
    "tags": []
   },
   "source": [
    "### Effectiveness Metrics\n",
    "\n",
    "NDCG measures how well the recommendations align with user test data, focusing on the top-k positions, such as the top 5 (NDCG@5) or top 10 (NDCG@10). Likewise, RR evaluates how well the recommender finds the most relevant item as the top result."
   ]
  },
  {
   "cell_type": "code",
   "execution_count": 7,
   "id": "3d6e2454",
   "metadata": {
    "execution": {
     "iopub.execute_input": "2025-05-01T22:09:26.265008Z",
     "iopub.status.busy": "2025-05-01T22:09:26.264818Z",
     "iopub.status.idle": "2025-05-01T22:09:26.684795Z",
     "shell.execute_reply": "2025-05-01T22:09:26.684531Z"
    },
    "papermill": {
     "duration": 0.424211,
     "end_time": "2025-05-01T22:09:26.685477",
     "exception": false,
     "start_time": "2025-05-01T22:09:26.261266",
     "status": "completed"
    },
    "tags": []
   },
   "outputs": [
    {
     "data": {
      "image/png": "[encoded data removed]",
      "text/plain": [
       "<Figure size 1200x300 with 3 Axes>"
      ]
     },
     "metadata": {},
     "output_type": "display_data"
    }
   ],
   "source": [
    "plt.figure(figsize=(12, 3))\n",
    "plt.subplots_adjust(wspace=0.3)\n",
    "\n",
    "for i, metric in enumerate(effectiveness_metrics, 1):\n",
    "    plt.subplot(1, 3, i)\n",
    "    sns.barplot(data=mind_subset_user_metrics, x=\"pipeline\", y=metric)\n",
    "    plt.xticks(rotation=45)\n",
    "\n",
    "plt.show()"
   ]
  },
  {
   "cell_type": "markdown",
   "id": "22eabf45",
   "metadata": {
    "papermill": {
     "duration": 0.006903,
     "end_time": "2025-05-01T22:09:26.701914",
     "exception": false,
     "start_time": "2025-05-01T22:09:26.695011",
     "status": "completed"
    },
    "tags": []
   },
   "source": [
    "The summary tables show the mean values, standard deviation, and quantiles (10%ile, Median, 90%ile), each accompanied by their respective 95% confidence intervals for effectiveness metrics across recommenders."
   ]
  },
  {
   "cell_type": "code",
   "execution_count": 8,
   "id": "25632f44",
   "metadata": {
    "execution": {
     "iopub.execute_input": "2025-05-01T22:09:26.720575Z",
     "iopub.status.busy": "2025-05-01T22:09:26.720448Z",
     "iopub.status.idle": "2025-05-01T22:09:46.704667Z",
     "shell.execute_reply": "2025-05-01T22:09:46.704411Z"
    },
    "papermill": {
     "duration": 19.996043,
     "end_time": "2025-05-01T22:09:46.705469",
     "exception": false,
     "start_time": "2025-05-01T22:09:26.709426",
     "status": "completed"
    },
    "tags": []
   },
   "outputs": [
    {
     "data": {
      "text/html": [
       "<h3>Summary Table for NDCG@5</h3>"
      ],
      "text/plain": [
       "<IPython.core.display.HTML object>"
      ]
     },
     "metadata": {},
     "output_type": "display_data"
    },
    {
     "data": {
      "text/html": [
       "<table>\n",
       "<thead><tr>\n",
       "<th>Algorithm\n",
       "<th>Mean\n",
       "<th>Std Dev\n",
       "<th>10%ile\n",
       "<th>Median\n",
       "<th>90%ile\n",
       "<th>Dist. (KDE)\n",
       "</tr></thead>\n",
       "<tbody>\n",
       "<tr><td>mmr\n",
       "<td>0.418<br><span style=\"font-size: 75%;\">(0.384,0.452)</span></td>\n",
       "<td>0.554<br><span style=\"font-size: 75%;\">(0.512,0.598)</span></td>\n",
       "<td>0.000<br><span style=\"font-size: 75%;\">(0.000,0.000)</span></td>\n",
       "<td>0.208<br><span style=\"font-size: 75%;\">(0.000,0.281)</span></td>\n",
       "<td>1.000<br><span style=\"font-size: 75%;\">(1.000,1.000)</span></td>\n",
       "<td><img src=\"data:image/png;base64,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\"></td>\n",
       "</tr>\n",
       "<tr><td>nrms\n",
       "<td>0.384<br><span style=\"font-size: 75%;\">(0.359,0.409)</span></td>\n",
       "<td>0.407<br><span style=\"font-size: 75%;\">(0.398,0.417)</span></td>\n",
       "<td>0.000<br><span style=\"font-size: 75%;\">(0.000,0.000)</span></td>\n",
       "<td>0.250<br><span style=\"font-size: 75%;\">(0.202,0.380)</span></td>\n",
       "<td>1.000<br><span style=\"font-size: 75%;\">(1.000,1.000)</span></td>\n",
       "<td><img src=\"data:image/png;base64,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\"></td>\n",
       "</tr>\n",
       "<tr><td>nrms_images\n",
       "<td>0.396<br><span style=\"font-size: 75%;\">(0.371,0.422)</span></td>\n",
       "<td>0.411<br><span style=\"font-size: 75%;\">(0.402,0.421)</span></td>\n",
       "<td>0.000<br><span style=\"font-size: 75%;\">(0.000,0.000)</span></td>\n",
       "<td>0.315<br><span style=\"font-size: 75%;\">(0.215,0.403)</span></td>\n",
       "<td>1.000<br><span style=\"font-size: 75%;\">(1.000,1.000)</span></td>\n",
       "<td><img src=\"data:image/png;base64,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\"></td>\n",
       "</tr>\n",
       "<tr><td>nrms_rrf_static_user\n",
       "<td>0.273<br><span style=\"font-size: 75%;\">(0.249,0.296)</span></td>\n",
       "<td>0.377<br><span style=\"font-size: 75%;\">(0.363,0.391)</span></td>\n",
       "<td>0.000<br><span style=\"font-size: 75%;\">(0.000,0.000)</span></td>\n",
       "<td>0.000<br><span style=\"font-size: 75%;\">(0.000,0.000)</span></td>\n",
       "<td>1.000<br><span style=\"font-size: 75%;\">(1.000,1.000)</span></td>\n",
       "<td><img src=\"data:image/png;base64,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\"></td>\n",
       "</tr>\n",
       "<tr><td>nrms_topic_scores\n",
       "<td>0.273<br><span style=\"font-size: 75%;\">(0.249,0.296)</span></td>\n",
       "<td>0.377<br><span style=\"font-size: 75%;\">(0.363,0.391)</span></td>\n",
       "<td>0.000<br><span style=\"font-size: 75%;\">(0.000,0.000)</span></td>\n",
       "<td>0.000<br><span style=\"font-size: 75%;\">(0.000,0.000)</span></td>\n",
       "<td>1.000<br><span style=\"font-size: 75%;\">(1.000,1.000)</span></td>\n",
       "<td><img src=\"data:image/png;base64,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\"></td>\n",
       "</tr>\n",
       "<tr><td>nrms_topics_static\n",
       "<td>0.273<br><span style=\"font-size: 75%;\">(0.250,0.296)</span></td>\n",
       "<td>0.377<br><span style=\"font-size: 75%;\">(0.363,0.391)</span></td>\n",
       "<td>0.000<br><span style=\"font-size: 75%;\">(0.000,0.000)</span></td>\n",
       "<td>0.000<br><span style=\"font-size: 75%;\">(0.000,0.000)</span></td>\n",
       "<td>1.000<br><span style=\"font-size: 75%;\">(1.000,1.000)</span></td>\n",
       "<td><img src=\"data:image/png;base64,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\"></td>\n",
       "</tr>\n",
       "<tr><td>pfar\n",
       "<td>0.398<br><span style=\"font-size: 75%;\">(0.373,0.424)</span></td>\n",
       "<td>0.408<br><span style=\"font-size: 75%;\">(0.398,0.418)</span></td>\n",
       "<td>0.000<br><span style=\"font-size: 75%;\">(0.000,0.000)</span></td>\n",
       "<td>0.319<br><span style=\"font-size: 75%;\">(0.250,0.431)</span></td>\n",
       "<td>1.000<br><span style=\"font-size: 75%;\">(1.000,1.000)</span></td>\n",
       "<td><img src=\"data:image/png;base64,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\"></td>\n",
       "</tr>\n",
       "<tr><td>softmax\n",
       "<td>0.373<br><span style=\"font-size: 75%;\">(0.348,0.399)</span></td>\n",
       "<td>0.408<br><span style=\"font-size: 75%;\">(0.399,0.419)</span></td>\n",
       "<td>0.000<br><span style=\"font-size: 75%;\">(0.000,0.000)</span></td>\n",
       "<td>0.240<br><span style=\"font-size: 75%;\">(0.138,0.319)</span></td>\n",
       "<td>1.000<br><span style=\"font-size: 75%;\">(1.000,1.000)</span></td>\n",
       "<td><img src=\"data:image/png;base64,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\"></td>\n",
       "</tr>\n",
       "<tr><td>topic_cali\n",
       "<td>0.392<br><span style=\"font-size: 75%;\">(0.366,0.417)</span></td>\n",
       "<td>0.407<br><span style=\"font-size: 75%;\">(0.398,0.417)</span></td>\n",
       "<td>0.000<br><span style=\"font-size: 75%;\">(0.000,0.000)</span></td>\n",
       "<td>0.315<br><span style=\"font-size: 75%;\">(0.215,0.380)</span></td>\n",
       "<td>1.000<br><span style=\"font-size: 75%;\">(1.000,1.000)</span></td>\n",
       "<td><img src=\"data:image/png;base64,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\"></td>\n",
       "</tr>\n",
       "</tbody>\n",
       "</table>\n"
      ],
      "text/plain": [
       "<IPython.core.display.HTML object>"
      ]
     },
     "metadata": {},
     "output_type": "display_data"
    },
    {
     "data": {
      "text/html": [
       "<h3>Summary Table for NDCG@10</h3>"
      ],
      "text/plain": [
       "<IPython.core.display.HTML object>"
      ]
     },
     "metadata": {},
     "output_type": "display_data"
    },
    {
     "data": {
      "text/html": [
       "<table>\n",
       "<thead><tr>\n",
       "<th>Algorithm\n",
       "<th>Mean\n",
       "<th>Std Dev\n",
       "<th>10%ile\n",
       "<th>Median\n",
       "<th>90%ile\n",
       "<th>Dist. (KDE)\n",
       "</tr></thead>\n",
       "<tbody>\n",
       "<tr><td>mmr\n",
       "<td>0.579<br><span style=\"font-size: 75%;\">(0.527,0.629)</span></td>\n",
       "<td>0.819<br><span style=\"font-size: 75%;\">(0.732,0.912)</span></td>\n",
       "<td>0.000<br><span style=\"font-size: 75%;\">(0.000,0.000)</span></td>\n",
       "<td>0.384<br><span style=\"font-size: 75%;\">(0.356,0.387)</span></td>\n",
       "<td>1.000<br><span style=\"font-size: 75%;\">(1.000,1.000)</span></td>\n",
       "<td><img src=\"data:image/png;base64,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\"></td>\n",
       "</tr>\n",
       "<tr><td>nrms\n",
       "<td>0.452<br><span style=\"font-size: 75%;\">(0.429,0.474)</span></td>\n",
       "<td>0.368<br><span style=\"font-size: 75%;\">(0.358,0.378)</span></td>\n",
       "<td>0.000<br><span style=\"font-size: 75%;\">(0.000,0.000)</span></td>\n",
       "<td>0.387<br><span style=\"font-size: 75%;\">(0.362,0.431)</span></td>\n",
       "<td>1.000<br><span style=\"font-size: 75%;\">(1.000,1.000)</span></td>\n",
       "<td><img src=\"data:image/png;base64,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\"></td>\n",
       "</tr>\n",
       "<tr><td>nrms_images\n",
       "<td>0.461<br><span style=\"font-size: 75%;\">(0.438,0.485)</span></td>\n",
       "<td>0.374<br><span style=\"font-size: 75%;\">(0.365,0.384)</span></td>\n",
       "<td>0.000<br><span style=\"font-size: 75%;\">(0.000,0.000)</span></td>\n",
       "<td>0.387<br><span style=\"font-size: 75%;\">(0.380,0.431)</span></td>\n",
       "<td>1.000<br><span style=\"font-size: 75%;\">(1.000,1.000)</span></td>\n",
       "<td><img src=\"data:image/png;base64,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\"></td>\n",
       "</tr>\n",
       "<tr><td>nrms_rrf_static_user\n",
       "<td>0.336<br><span style=\"font-size: 75%;\">(0.313,0.359)</span></td>\n",
       "<td>0.358<br><span style=\"font-size: 75%;\">(0.346,0.370)</span></td>\n",
       "<td>0.000<br><span style=\"font-size: 75%;\">(0.000,0.000)</span></td>\n",
       "<td>0.315<br><span style=\"font-size: 75%;\">(0.250,0.333)</span></td>\n",
       "<td>1.000<br><span style=\"font-size: 75%;\">(1.000,1.000)</span></td>\n",
       "<td><img src=\"data:image/png;base64,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\"></td>\n",
       "</tr>\n",
       "<tr><td>nrms_topic_scores\n",
       "<td>0.336<br><span style=\"font-size: 75%;\">(0.314,0.358)</span></td>\n",
       "<td>0.358<br><span style=\"font-size: 75%;\">(0.346,0.371)</span></td>\n",
       "<td>0.000<br><span style=\"font-size: 75%;\">(0.000,0.000)</span></td>\n",
       "<td>0.315<br><span style=\"font-size: 75%;\">(0.250,0.333)</span></td>\n",
       "<td>1.000<br><span style=\"font-size: 75%;\">(1.000,1.000)</span></td>\n",
       "<td><img src=\"data:image/png;base64,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\"></td>\n",
       "</tr>\n",
       "<tr><td>nrms_topics_static\n",
       "<td>0.336<br><span style=\"font-size: 75%;\">(0.314,0.358)</span></td>\n",
       "<td>0.358<br><span style=\"font-size: 75%;\">(0.346,0.371)</span></td>\n",
       "<td>0.000<br><span style=\"font-size: 75%;\">(0.000,0.000)</span></td>\n",
       "<td>0.315<br><span style=\"font-size: 75%;\">(0.250,0.333)</span></td>\n",
       "<td>1.000<br><span style=\"font-size: 75%;\">(1.000,1.000)</span></td>\n",
       "<td><img src=\"data:image/png;base64,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\"></td>\n",
       "</tr>\n",
       "<tr><td>pfar\n",
       "<td>0.459<br><span style=\"font-size: 75%;\">(0.435,0.481)</span></td>\n",
       "<td>0.374<br><span style=\"font-size: 75%;\">(0.364,0.384)</span></td>\n",
       "<td>0.000<br><span style=\"font-size: 75%;\">(0.000,0.000)</span></td>\n",
       "<td>0.408<br><span style=\"font-size: 75%;\">(0.387,0.431)</span></td>\n",
       "<td>1.000<br><span style=\"font-size: 75%;\">(1.000,1.000)</span></td>\n",
       "<td><img src=\"data:image/png;base64,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\"></td>\n",
       "</tr>\n",
       "<tr><td>softmax\n",
       "<td>0.446<br><span style=\"font-size: 75%;\">(0.423,0.469)</span></td>\n",
       "<td>0.369<br><span style=\"font-size: 75%;\">(0.360,0.380)</span></td>\n",
       "<td>0.000<br><span style=\"font-size: 75%;\">(0.000,0.000)</span></td>\n",
       "<td>0.387<br><span style=\"font-size: 75%;\">(0.356,0.427)</span></td>\n",
       "<td>1.000<br><span style=\"font-size: 75%;\">(1.000,1.000)</span></td>\n",
       "<td><img src=\"data:image/png;base64,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\"></td>\n",
       "</tr>\n",
       "<tr><td>topic_cali\n",
       "<td>0.457<br><span style=\"font-size: 75%;\">(0.435,0.480)</span></td>\n",
       "<td>0.370<br><span style=\"font-size: 75%;\">(0.361,0.380)</span></td>\n",
       "<td>0.000<br><span style=\"font-size: 75%;\">(0.000,0.000)</span></td>\n",
       "<td>0.390<br><span style=\"font-size: 75%;\">(0.380,0.431)</span></td>\n",
       "<td>1.000<br><span style=\"font-size: 75%;\">(1.000,1.000)</span></td>\n",
       "<td><img src=\"data:image/png;base64,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\"></td>\n",
       "</tr>\n",
       "</tbody>\n",
       "</table>\n"
      ],
      "text/plain": [
       "<IPython.core.display.HTML object>"
      ]
     },
     "metadata": {},
     "output_type": "display_data"
    },
    {
     "data": {
      "text/html": [
       "<h3>Summary Table for RR</h3>"
      ],
      "text/plain": [
       "<IPython.core.display.HTML object>"
      ]
     },
     "metadata": {},
     "output_type": "display_data"
    },
    {
     "data": {
      "text/html": [
       "<table>\n",
       "<thead><tr>\n",
       "<th>Algorithm\n",
       "<th>Mean\n",
       "<th>Std Dev\n",
       "<th>10%ile\n",
       "<th>Median\n",
       "<th>90%ile\n",
       "<th>Dist. (KDE)\n",
       "</tr></thead>\n",
       "<tbody>\n",
       "<tr><td>mmr\n",
       "<td>0.333<br><span style=\"font-size: 75%;\">(0.310,0.355)</span></td>\n",
       "<td>0.357<br><span style=\"font-size: 75%;\">(0.344,0.371)</span></td>\n",
       "<td>0.000<br><span style=\"font-size: 75%;\">(0.000,0.000)</span></td>\n",
       "<td>0.200<br><span style=\"font-size: 75%;\">(0.167,0.200)</span></td>\n",
       "<td>1.000<br><span style=\"font-size: 75%;\">(1.000,1.000)</span></td>\n",
       "<td><img src=\"data:image/png;base64,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\"></td>\n",
       "</tr>\n",
       "<tr><td>nrms\n",
       "<td>0.340<br><span style=\"font-size: 75%;\">(0.318,0.360)</span></td>\n",
       "<td>0.347<br><span style=\"font-size: 75%;\">(0.334,0.362)</span></td>\n",
       "<td>0.000<br><span style=\"font-size: 75%;\">(0.000,0.000)</span></td>\n",
       "<td>0.200<br><span style=\"font-size: 75%;\">(0.200,0.250)</span></td>\n",
       "<td>1.000<br><span style=\"font-size: 75%;\">(1.000,1.000)</span></td>\n",
       "<td><img src=\"data:image/png;base64,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\"></td>\n",
       "</tr>\n",
       "<tr><td>nrms_images\n",
       "<td>0.351<br><span style=\"font-size: 75%;\">(0.329,0.373)</span></td>\n",
       "<td>0.354<br><span style=\"font-size: 75%;\">(0.341,0.367)</span></td>\n",
       "<td>0.000<br><span style=\"font-size: 75%;\">(0.000,0.000)</span></td>\n",
       "<td>0.250<br><span style=\"font-size: 75%;\">(0.200,0.250)</span></td>\n",
       "<td>1.000<br><span style=\"font-size: 75%;\">(1.000,1.000)</span></td>\n",
       "<td><img src=\"data:image/png;base64,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\"></td>\n",
       "</tr>\n",
       "<tr><td>nrms_rrf_static_user\n",
       "<td>0.236<br><span style=\"font-size: 75%;\">(0.217,0.255)</span></td>\n",
       "<td>0.308<br><span style=\"font-size: 75%;\">(0.292,0.326)</span></td>\n",
       "<td>0.000<br><span style=\"font-size: 75%;\">(0.000,0.000)</span></td>\n",
       "<td>0.125<br><span style=\"font-size: 75%;\">(0.125,0.143)</span></td>\n",
       "<td>1.000<br><span style=\"font-size: 75%;\">(0.500,1.000)</span></td>\n",
       "<td><img src=\"data:image/png;base64,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\"></td>\n",
       "</tr>\n",
       "<tr><td>nrms_topic_scores\n",
       "<td>0.236<br><span style=\"font-size: 75%;\">(0.217,0.255)</span></td>\n",
       "<td>0.308<br><span style=\"font-size: 75%;\">(0.292,0.326)</span></td>\n",
       "<td>0.000<br><span style=\"font-size: 75%;\">(0.000,0.000)</span></td>\n",
       "<td>0.125<br><span style=\"font-size: 75%;\">(0.125,0.143)</span></td>\n",
       "<td>1.000<br><span style=\"font-size: 75%;\">(0.500,1.000)</span></td>\n",
       "<td><img src=\"data:image/png;base64,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\"></td>\n",
       "</tr>\n",
       "<tr><td>nrms_topics_static\n",
       "<td>0.236<br><span style=\"font-size: 75%;\">(0.217,0.255)</span></td>\n",
       "<td>0.308<br><span style=\"font-size: 75%;\">(0.291,0.326)</span></td>\n",
       "<td>0.000<br><span style=\"font-size: 75%;\">(0.000,0.000)</span></td>\n",
       "<td>0.125<br><span style=\"font-size: 75%;\">(0.125,0.143)</span></td>\n",
       "<td>1.000<br><span style=\"font-size: 75%;\">(0.500,1.000)</span></td>\n",
       "<td><img src=\"data:image/png;base64,iVBORw0KGgoAAAANSUhEUgAAASwAAAAZCAYAAACLvRPfAAAAOnRFWHRTb2Z0d2FyZQBNYXRwbG90bGliIHZlcnNpb24zLjEwLjEsIGh0dHBzOi8vbWF0cGxvdGxpYi5vcmcvc2/+5QAAAAlwSFlzAAAPYQAAD2EBqD+naQAABbRJREFUeJztnMdOW1sUhpfpGAyi994RA5BgGKSQEQMUKcokyTuQES/BKBHvkFGUZ4iUGSDRBJhejekdbPrVv+5dvhtj43IvBpv1Sb/WsXE5Pjr++ffa28dyd3d3R4qiKFFA3HPvgKIoSrCoYSmKEjUkhPqE3t5eGhgYCPmNEhMTqba2lpqamqixsZFaWlqovb2d77NYLCG/nqIor4+QDausrIyqq6spJyfngeLi4ujo6IgODw892tnZobm5OTo/P6fp6WmWSWZmJhuXqYqKCjUxRVEeYIlE0/329pbW1tbIbrezYFqjo6Osi4uLB4/Py8ujjo4Oj2BiBQUFT72biqK8cCJiWP64urqiyclJGh4eZg0NDdH4+DhdX18/eGxRURG1trZSW1sbVwhJLz4+/ln2XVGUV2ZYvnC73TQ2NsbmBQ0ODtLMzAz52s3U1FTuhzU3N3uEHhmMDD0zRVFiixdnWL44Ozvj5IUh5MjICNeJiQk2N18gdcG0GhoaqL6+3qO6ujoqLi7mXltY3NwQ/flD5HQi8hG9eYM3+28fTlGU2DIsX9zc3NDS0hJNTU3xsFIq0hga/P5AKsPMJMwLJmaaGiYO/Db7f/0i+vqVaH393/tKS4m+fyf68OEJPqGiKDFjWP7Ax3E4HDQ7O8vmJRUzlTA4GJ0/srKy2MAgDDWl1oyPU9KnT3jx+08Qc/v5U01LUSJAzBlWoCb/8vIymxeMTCq0urrq93kY9NUQUSMRNXnVTJgWktbSkg4PFeWJeVWG9RgYRs7Pz3MaE/EyjMlJOnW5/D6vSAzs/XtqfPfOk8xKS0vD75UpiuITNawA3P34QY4vX2iGiLDk1f5PhZyPPA+9Mu8+GXpnNTU1lJ+frwtjFSUM1LAC8fs30du3Pv90RMRGBhOzf/5MdpeLF8UuLCzw8NMf6enpbFwirOyvrKzkCtlstif8QIoSvahhBQJN+spKIofjYdMd+OhhYeEremXSH5PmP4wMvbJAhzw7O5uHlCUlJbwMQyoWz2ImMzc3lysmCSK5cBb7jV8tQN7bWPcGaXJUnhI1rGDAkoaPH//eNg9XGLOE+CkSzAz9MhjY4uIirays8H2oBwcHQe8WzAGmlZGRwakNSktL44ohKczMWzAYGCqEFCgVa9p8CfsrFcLzHyMlJYWVnJxMVquVzRfCfso2fmZlmjGMWBf6RieXl5e0v79Pe3t7LNnG2kk5Z/AYqV1dXdTT0xP2+6lhBYuvdVhlZUTfvv2vSxqOj4/ZuLA0Y2Njw1Mhp9PpOTHwI/NYAiYmQ2OReRvmp0R+IgojAgjn5Pr6Op+P5rmJczEU+vr6qL+/P+x9UsOK0pXu5n+2k5MT/o92enrKwrbL5eI1Z95CykpISLgnpBskMklGUnGfeRsVj8XspwgpD0JKkzQmiQz7gsQIYV9lfzc3N++Z8WP9PgETFTCuqqoqNrLy8nK+cgiEbSQ3HY4GD4751tYWm5CYEi5QINvQ7u5uUK+F80ASNFoVqOjD4pxJSkriKtudnZ3U3d1N4aKGpTwrGGLCxPBlMYfGqBAW+yJ1BgIJDEPMwsLCe4LRSb/PHJ5i6BxLBud2u/k4IXnjHwTMRoRLPEFI6JLWcTuYrz6MRyaDpK8qwvGGcDwjtYRHDUt58eC6amJeYmQwOEkE29vbIb8mvmDS98OXUvp/3ilTkoGZRlGlJ2imTUmcwLvia2ZKJiwk+cq29BQhpGipMCSXy+URhmsQTArCY0IFnwOGg4QqiVWqmBSuV/eSUMNSoh58mTG0QYLAcBNDHVTZNoekUDBD0GjFZrNx4sE15TCbbAqTG5KKsI37om1xsxqW8qrA6Y4eH/p+kPT9RDKzZc6QymyqObMKSUoy05L5Pua29PogSWKo5gyu3Eaig2SpCITEZ7Vaua9oVswQQ0hCSInRZkChooalKErUENt2rCgKxRJ/AWyN9V5jva6/AAAAAElFTkSuQmCC\"></td>\n",
       "</tr>\n",
       "<tr><td>pfar\n",
       "<td>0.351<br><span style=\"font-size: 75%;\">(0.328,0.373)</span></td>\n",
       "<td>0.356<br><span style=\"font-size: 75%;\">(0.343,0.370)</span></td>\n",
       "<td>0.000<br><span style=\"font-size: 75%;\">(0.000,0.000)</span></td>\n",
       "<td>0.250<br><span style=\"font-size: 75%;\">(0.200,0.250)</span></td>\n",
       "<td>1.000<br><span style=\"font-size: 75%;\">(1.000,1.000)</span></td>\n",
       "<td><img src=\"data:image/png;base64,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\"></td>\n",
       "</tr>\n",
       "<tr><td>softmax\n",
       "<td>0.336<br><span style=\"font-size: 75%;\">(0.314,0.359)</span></td>\n",
       "<td>0.351<br><span style=\"font-size: 75%;\">(0.338,0.366)</span></td>\n",
       "<td>0.000<br><span style=\"font-size: 75%;\">(0.000,0.000)</span></td>\n",
       "<td>0.200<br><span style=\"font-size: 75%;\">(0.200,0.250)</span></td>\n",
       "<td>1.000<br><span style=\"font-size: 75%;\">(1.000,1.000)</span></td>\n",
       "<td><img src=\"data:image/png;base64,iVBORw0KGgoAAAANSUhEUgAAASwAAAAZCAYAAACLvRPfAAAAOnRFWHRTb2Z0d2FyZQBNYXRwbG90bGliIHZlcnNpb24zLjEwLjEsIGh0dHBzOi8vbWF0cGxvdGxpYi5vcmcvc2/+5QAAAAlwSFlzAAAPYQAAD2EBqD+naQAABk5JREFUeJztnNlOU20UhlcBAQeUwQEoIGEGwQGcQmKit2A89g6IB554zgEHnCi3wKl6C5iYEJDgBKKCgEKLMiooiCDlz/P9fNtWCn8p/KXDepI3a7MpTVvat2t9a33btb6+vi6KoigxQNJ+PwBFUZRQUcNSFCVmSNmLO/n+/bu8fPlS3r17JyMjIwGam5uTSHPgwAE5efKk0alTp4wKCwulqKhITp8+bSI/Hz58OOKPTVGU8HHtdA0Lc3rx4oX09vY6ev/+vWx3NwcPHpScnByj48ePm3j06FFzPi0tTdLT041SU1PF5XKZ+/L5fCai1dVVWV5eDtDS0pIsLCzI/Py8fPv2zYmLi4shPxcMrby8XCoqKgLEOR6Xoigxbli3b9+W9vb2TecLCgqkrq5OSktLpaSkxFFxcbFkZGRIpPj165dMTU3J5OSkE798+SLj4+Py6dMnGRsbMxHj3Yrk5GRjXDyf2tpaI455PklJWkUrSswYVltbm7S2tkpDQ4NcvHjRRES2EivwlMnGRkdHZXBw0NHQ0JDJFsnWgoHxnj9/3ujChQtGNTU1JjNUFCUKDYtSLZ6zDF4Or9cr/f39Rn19fUYDAwMme/sbzOrs2bOOcdfX15tsbNcmtrYm8vSpyOfPInl5Iteukfrt7j4VJdEMK1FhHY3si/U7GgxERKYWbNEf07Imhvg55HWxx49F7twR8Xj+nCsoEHnwQOTmzT18VooSW6hh7QJeOspK/wYE+vr1a1ATo3ykjLRlJTp27Nhms7p1izsPPO9y/RsfPlTTUhIWNaw9hpfz48ePxrieP3/umNjs7GzQ29OUcBb3a2qk9u5dqZyakqC5GKZFpjU6quWhkpCoYUUAXmK6k7aUtJFzwcCKSkSkXEQq/GKZiLjJ1jo6RK5fj/jzUJSdsrKyYkaNrKgocnNzJVzUsPYRhmpZ0LcL/P0dHdJHl3Kbv6EwzMvKkqLKSmcYlsHYEydOmBk3G5l1O3LkiKSk7MlssKJsYmZmxrxvqSgYFUL2mIoCg/r9+3fA39y7d09aWlokXNSwooknT2T9xg2ZEJHBDQ35xRG+sXZ4lwzkYlxW/Mx6Gl1MxDGi88v8GdEeW2F6NnJb7oOhXxsRg8BZWVmOsrOzzbl47ignCj6fz4z9UBW8evXK0Wc62CHCe4edJU1NTdLc3Bz2Y1HDiiYYZSguFvF6Ny+688YRken8fBl79EjGJyZMSclALAOyfNtNT087kZ0A+w0ml5eXJ263W/Lz801ErNsxYIwwNiX6Mv9nz55JV1eXUXd3d9BuODBMzf+RLW/8X4mIrB+DQocOHdqzWUU1rGjDdgnB/1+zwy4hM2Ok5Ez0//jxw4hj1hSsGNWwkW9Rq7W1NSOOSek5tpHbszXq58+fRnabFMO2dEet+F0oZGZmmjc826GqqqqkurraiJ0Guj3q/8fn85lxnc7OTkfsCf4bsmi62ufOnXNEs4isPZKoYUUjweawCgtF7t+PmZEGjIxsb2JiwgziIo49Ho8ZBRkeHt62pKCU5Nv7zJkzZhyEiDA1SlElPFhb6unpMVmTVbALFPAFcvXqVUeYE8sB+40aVrSSAJPuZIBc0QPzYo2Eb/a3b98abbU9CiMjI7OZmBVGxpqZ8gf20bLW9Pr1a7P+RJn34cMHCZY9Xb58WRobG40wKBo30YgalhJ18JZkwzrbodCbN2+cuN3lilgvKysrCxDmRieVDyBXAonHks7j8Zh9sFZ07jAqDCsYlNsY1JUrV4wo9aIhewoFNSwlZuCtyocQ87KZmD3G4LaDMtJeB42IubEw7H/dNEZCWFOLhs3sPFfWBjFoyjjKZ+9GaY1BEWm6kJ1SfgcDg6a0Y72J/a6Y1KVLl0wXN1ZRw1LiArpYlDuILMMe84HeKtPYCkokBhwxLyILy3S6OE9EdjwE2XEPZLM4/48VWRCNDSvb6KAxQVlMQ8QOVtIYsSbF7UIhJSXFrPdhTogSGZNi90S8XaRSDUuJe+iY2ozEjoKQkdlrptnrpu3H1XH/C0yQIWAyQLfbba47ZyOyIwWJMiCshqUoGzC2wVVs/a9gSyTzoTxDZEU2MupBpmQj8sdmW0SbgdmhXSIZGxkQGZydWeKY2TRMisi5eFx7Cxc1LEVRYgbdN6EoisQK/wBtRP354fJl6QAAAABJRU5ErkJggg==\"></td>\n",
       "</tr>\n",
       "<tr><td>topic_cali\n",
       "<td>0.345<br><span style=\"font-size: 75%;\">(0.324,0.367)</span></td>\n",
       "<td>0.352<br><span style=\"font-size: 75%;\">(0.339,0.365)</span></td>\n",
       "<td>0.000<br><span style=\"font-size: 75%;\">(0.000,0.000)</span></td>\n",
       "<td>0.200<br><span style=\"font-size: 75%;\">(0.200,0.250)</span></td>\n",
       "<td>1.000<br><span style=\"font-size: 75%;\">(1.000,1.000)</span></td>\n",
       "<td><img src=\"data:image/png;base64,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\"></td>\n",
       "</tr>\n",
       "</tbody>\n",
       "</table>\n"
      ],
      "text/plain": [
       "<IPython.core.display.HTML object>"
      ]
     },
     "metadata": {},
     "output_type": "display_data"
    }
   ],
   "source": [
    "for metric in effectiveness_metrics:\n",
    "    tw = EvalTable(mind_subset_user_metrics, \"pipeline\", metric)\n",
    "    tw.add_stat(\"Mean\", np.mean, ci=True)\n",
    "    tw.add_stat(\"Std Dev\", np.std, ci=True)\n",
    "    tw.add_quantiles([\"10%ile\", \"Median\", \"90%ile\"], [0.1, 0.5, 0.9], ci=True)\n",
    "    display(HTML(f\"<h3>Summary Table for {metric}</h3>\"))\n",
    "    display(HTML(tw.html_table()))"
   ]
  },
  {
   "cell_type": "markdown",
   "id": "8f2085ad",
   "metadata": {
    "papermill": {
     "duration": 0.004341,
     "end_time": "2025-05-01T22:09:46.718693",
     "exception": false,
     "start_time": "2025-05-01T22:09:46.714352",
     "status": "completed"
    },
    "tags": []
   },
   "source": [
    "### Ranking Overlap Metrics\n",
    "RBO measures the similarity between two ranked lists, evaluating how much overlap exists between pure top-k recommendations and the actual rankings produced after recommendations. RBO can be applied at different list depths to analyze performance consistency, such as RBO@5 and RBO@10."
   ]
  },
  {
   "cell_type": "code",
   "execution_count": 9,
   "id": "e814150d",
   "metadata": {
    "execution": {
     "iopub.execute_input": "2025-05-01T22:09:46.730903Z",
     "iopub.status.busy": "2025-05-01T22:09:46.730776Z",
     "iopub.status.idle": "2025-05-01T22:09:47.001197Z",
     "shell.execute_reply": "2025-05-01T22:09:47.000937Z"
    },
    "papermill": {
     "duration": 0.278974,
     "end_time": "2025-05-01T22:09:47.001942",
     "exception": false,
     "start_time": "2025-05-01T22:09:46.722968",
     "status": "completed"
    },
    "tags": []
   },
   "outputs": [
    {
     "data": {
      "image/png": "[encoded data removed]",
      "text/plain": [
       "<Figure size 800x300 with 2 Axes>"
      ]
     },
     "metadata": {},
     "output_type": "display_data"
    }
   ],
   "source": [
    "plt.figure(figsize=(8, 3))\n",
    "plt.subplots_adjust(wspace=0.3)\n",
    "\n",
    "for i, metric in enumerate(overlap_metrics, 1):\n",
    "    plt.subplot(1, 2, i)\n",
    "    sns.barplot(data=mind_subset_user_metrics, x=\"pipeline\", y=metric)\n",
    "    plt.xticks(rotation=45)\n",
    "\n",
    "plt.show()"
   ]
  },
  {
   "cell_type": "markdown",
   "id": "0004c224",
   "metadata": {
    "papermill": {
     "duration": 0.00729,
     "end_time": "2025-05-01T22:09:47.019207",
     "exception": false,
     "start_time": "2025-05-01T22:09:47.011917",
     "status": "completed"
    },
    "tags": []
   },
   "source": [
    "The summary tables show the mean values, standard deviation, and quantiles (10%ile, Median, 90%ile), each accompanied by their respective 95% confidence intervals for ranking overlap metrics across recommenders."
   ]
  },
  {
   "cell_type": "code",
   "execution_count": 10,
   "id": "39273d26",
   "metadata": {
    "execution": {
     "iopub.execute_input": "2025-05-01T22:09:47.034979Z",
     "iopub.status.busy": "2025-05-01T22:09:47.034776Z",
     "iopub.status.idle": "2025-05-01T22:09:59.638401Z",
     "shell.execute_reply": "2025-05-01T22:09:59.638150Z"
    },
    "papermill": {
     "duration": 12.612383,
     "end_time": "2025-05-01T22:09:59.639106",
     "exception": false,
     "start_time": "2025-05-01T22:09:47.026723",
     "status": "completed"
    },
    "tags": []
   },
   "outputs": [
    {
     "data": {
      "text/html": [
       "<h3>Summary Table for RBO@5</h3>"
      ],
      "text/plain": [
       "<IPython.core.display.HTML object>"
      ]
     },
     "metadata": {},
     "output_type": "display_data"
    },
    {
     "data": {
      "text/html": [
       "<table>\n",
       "<thead><tr>\n",
       "<th>Algorithm\n",
       "<th>Mean\n",
       "<th>Std Dev\n",
       "<th>10%ile\n",
       "<th>Median\n",
       "<th>90%ile\n",
       "<th>Dist. (KDE)\n",
       "</tr></thead>\n",
       "<tbody>\n",
       "<tr><td>mmr\n",
       "<td>0.301<br><span style=\"font-size: 75%;\">(0.296,0.305)</span></td>\n",
       "<td>0.077<br><span style=\"font-size: 75%;\">(0.070,0.083)</span></td>\n",
       "<td>0.228<br><span style=\"font-size: 75%;\">(0.216,0.235)</span></td>\n",
       "<td>0.307<br><span style=\"font-size: 75%;\">(0.307,0.307)</span></td>\n",
       "<td>0.378<br><span style=\"font-size: 75%;\">(0.378,0.383)</span></td>\n",
       "<td><img src=\"data:image/png;base64,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\"></td>\n",
       "</tr>\n",
       "<tr><td>nrms\n",
       "<td>0.000<br><span style=\"font-size: 75%;\">(0.000,0.000)</span></td>\n",
       "<td>0.000<br><span style=\"font-size: 75%;\">(0.000,0.000)</span></td>\n",
       "<td>0.000<br><span style=\"font-size: 75%;\">(0.000,0.000)</span></td>\n",
       "<td>0.000<br><span style=\"font-size: 75%;\">(0.000,0.000)</span></td>\n",
       "<td>0.000<br><span style=\"font-size: 75%;\">(0.000,0.000)</span></td>\n",
       "<td></td>\n",
       "</tr>\n",
       "<tr><td>nrms_images\n",
       "<td>0.000<br><span style=\"font-size: 75%;\">(0.000,0.000)</span></td>\n",
       "<td>0.000<br><span style=\"font-size: 75%;\">(0.000,0.000)</span></td>\n",
       "<td>0.000<br><span style=\"font-size: 75%;\">(0.000,0.000)</span></td>\n",
       "<td>0.000<br><span style=\"font-size: 75%;\">(0.000,0.000)</span></td>\n",
       "<td>0.000<br><span style=\"font-size: 75%;\">(0.000,0.000)</span></td>\n",
       "<td></td>\n",
       "</tr>\n",
       "<tr><td>nrms_rrf_static_user\n",
       "<td>0.000<br><span style=\"font-size: 75%;\">(0.000,0.000)</span></td>\n",
       "<td>0.000<br><span style=\"font-size: 75%;\">(0.000,0.000)</span></td>\n",
       "<td>0.000<br><span style=\"font-size: 75%;\">(0.000,0.000)</span></td>\n",
       "<td>0.000<br><span style=\"font-size: 75%;\">(0.000,0.000)</span></td>\n",
       "<td>0.000<br><span style=\"font-size: 75%;\">(0.000,0.000)</span></td>\n",
       "<td></td>\n",
       "</tr>\n",
       "<tr><td>nrms_topic_scores\n",
       "<td>0.000<br><span style=\"font-size: 75%;\">(0.000,0.000)</span></td>\n",
       "<td>0.000<br><span style=\"font-size: 75%;\">(0.000,0.000)</span></td>\n",
       "<td>0.000<br><span style=\"font-size: 75%;\">(0.000,0.000)</span></td>\n",
       "<td>0.000<br><span style=\"font-size: 75%;\">(0.000,0.000)</span></td>\n",
       "<td>0.000<br><span style=\"font-size: 75%;\">(0.000,0.000)</span></td>\n",
       "<td></td>\n",
       "</tr>\n",
       "<tr><td>nrms_topics_static\n",
       "<td>0.000<br><span style=\"font-size: 75%;\">(0.000,0.000)</span></td>\n",
       "<td>0.000<br><span style=\"font-size: 75%;\">(0.000,0.000)</span></td>\n",
       "<td>0.000<br><span style=\"font-size: 75%;\">(0.000,0.000)</span></td>\n",
       "<td>0.000<br><span style=\"font-size: 75%;\">(0.000,0.000)</span></td>\n",
       "<td>0.000<br><span style=\"font-size: 75%;\">(0.000,0.000)</span></td>\n",
       "<td></td>\n",
       "</tr>\n",
       "<tr><td>pfar\n",
       "<td>0.389<br><span style=\"font-size: 75%;\">(0.384,0.394)</span></td>\n",
       "<td>0.078<br><span style=\"font-size: 75%;\">(0.067,0.089)</span></td>\n",
       "<td>0.396<br><span style=\"font-size: 75%;\">(0.307,0.396)</span></td>\n",
       "<td>0.410<br><span style=\"font-size: 75%;\">(0.410,0.410)</span></td>\n",
       "<td>0.410<br><span style=\"font-size: 75%;\">(0.410,0.410)</span></td>\n",
       "<td><img src=\"data:image/png;base64,iVBORw0KGgoAAAANSUhEUgAAASwAAAAZCAYAAACLvRPfAAAAOnRFWHRTb2Z0d2FyZQBNYXRwbG90bGliIHZlcnNpb24zLjEwLjEsIGh0dHBzOi8vbWF0cGxvdGxpYi5vcmcvc2/+5QAAAAlwSFlzAAAPYQAAD2EBqD+naQAABNxJREFUeJztnFssZEkYx//tfr+N24TIGC+CZB6WIG6ZFxEbERNCQohgE29r0g+WsPuCBJuQ4Gk9WEz2oU1CIutFYtIPGwSxISTt8jDDuNNM4tp68xWnQy+zPcb05ez3SypVSp3uT5XzP199p6oUer1eD4ZhGBvAztIGMAzDmAoLFsMwNgML1v+E0tJSKBQKeHp6YnFx0dLmMMyDUHAMS/4MDQ0hOzvb8HNkZCQmJiaEeDGMLcEelszZ2dlBRUWFKJeVlSEkJER4WORx8bOKsTVYsOSITgeMjUH/5g0qc3OxtbWF6OhodHR0QKVSwdHREQMDA2htbbW0pQzzRbBgyY23b4Fnz4CXL/FHYSFU797BAUBPSQlcXFyQkJCA9vZ20bS6uhqjo6OWtphhTIZjWHITq9xcQK/HOoAYAPsAfgHws0IBqFTAq1diKkhTwp6eHvj7+2NqagphYWGWtp5h/hMWLDlNA8mz+vABNKDfA/gTwHcA/gLgSIIVGgqsrgL29jg+PkZSUhJmZmYQFxcHtVoNZ2dnS/8VDPNZeEooF9RqIVbEb9diRfLzO4kVVdJz6f37q3YAXF1dRRzLz88Pk5OTaG5utqz9DGMCLFhy4eNHka0CeH1d1QAg6p52RHh4ODo7O6/aNjRAo9GYy1qGeRAsWHLh6VNc0gJRAJ8ApAD48Z52N8nPz0d6ejpOT09RWVnJSx0Yq4ZjWHJBp0Pbkyeo0mrhDuBvAM9v/t4ohnWT5eVlxMTE4OTkBH19fSgsLDS39QxjEuxhyYRFjQY/HR+L8q93iRXR1vYvsSIiIiJQV1cnylVVVdjb2zOLzQzzpbBgyYCLiwuUlJTg5OwM6S9e4IeQkNsNyLO6XtJwH0qlElFRUdje3hbrsxjGGuEpoQxobGxEbW0tvL29MTc3h1CKU9HbQAqwUzkl5U7Pyhha2pCammooJycnm8F6hjEdFiwbZ3Z2VqyjOj8/R29vL4qKir7q88rLy9Hd3S228kxPT8PJyenRbGWYr4WnhDbM0tISiouLhVjl5OQ8SrCc1mMFBARgfn5ebJbmo2gYm/aw1tfXodVq4eXlJY4n8fDwgJ0d697noC7e398Xm5A3NzdFksq0nIC2xxgnWtDp4+MDBwfaCXjF5eUlxsfHxXExg4ODWFhYEPUkMDQVDAwMfBR7+/v7b3lqNDUkzysvLw9ubm6P8h0MYxbBqqmpQVNT0606Ei4SMEoUR6FENxvlVEenA9CNZ29vb8hJ5OhAOWGE9BbLqGxNSN10s7uoTAHvs7Mz4eVI6ejoSIjRxsaGQaCozUOgvvX19RVJ+jwJ6su0tDSx6DM+Ph6PycjICLq6ujA8PCyEkqCxzMrKEmNL23hoMzXllGhM78Jax5OxDLGxseJ/1myCVV9fL1ZHHx4eipuVMR0S8KCgIEMij4hu9t3dXXFuFSV6S0c5id5dkGhkZmaKA/kyMjKEeHxL1tbWxCZpimutrKx80+9i5I9SqURLS4v5g+50GS00JOGim4umiVSm/ODgQORSHQmblHQ6ncilp7bxZ1ozd3mE5OWQByklClK7u7sLQQoODjbkJE7kkZgK9RH1I00lpUTXJyYmWiQQTuM1NjYmpqQ07pRoOivltjiejPmhh21BQcGDr+e3hAzD2AwcLWcYBrbCP3PaEcZN3nUhAAAAAElFTkSuQmCC\"></td>\n",
       "</tr>\n",
       "<tr><td>softmax\n",
       "<td>0.287<br><span style=\"font-size: 75%;\">(0.280,0.293)</span></td>\n",
       "<td>0.103<br><span style=\"font-size: 75%;\">(0.098,0.108)</span></td>\n",
       "<td>0.134<br><span style=\"font-size: 75%;\">(0.121,0.148)</span></td>\n",
       "<td>0.307<br><span style=\"font-size: 75%;\">(0.307,0.310)</span></td>\n",
       "<td>0.396<br><span style=\"font-size: 75%;\">(0.396,0.410)</span></td>\n",
       "<td><img src=\"data:image/png;base64,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\"></td>\n",
       "</tr>\n",
       "<tr><td>topic_cali\n",
       "<td>0.389<br><span style=\"font-size: 75%;\">(0.384,0.394)</span></td>\n",
       "<td>0.078<br><span style=\"font-size: 75%;\">(0.067,0.089)</span></td>\n",
       "<td>0.396<br><span style=\"font-size: 75%;\">(0.307,0.396)</span></td>\n",
       "<td>0.410<br><span style=\"font-size: 75%;\">(0.410,0.410)</span></td>\n",
       "<td>0.410<br><span style=\"font-size: 75%;\">(0.410,0.410)</span></td>\n",
       "<td><img src=\"data:image/png;base64,iVBORw0KGgoAAAANSUhEUgAAASwAAAAZCAYAAACLvRPfAAAAOnRFWHRTb2Z0d2FyZQBNYXRwbG90bGliIHZlcnNpb24zLjEwLjEsIGh0dHBzOi8vbWF0cGxvdGxpYi5vcmcvc2/+5QAAAAlwSFlzAAAPYQAAD2EBqD+naQAABNxJREFUeJztnFssZEkYx//tfr+N24TIGC+CZB6WIG6ZFxEbERNCQohgE29r0g+WsPuCBJuQ4Gk9WEz2oU1CIutFYtIPGwSxISTt8jDDuNNM4tp68xWnQy+zPcb05ez3SypVSp3uT5XzP199p6oUer1eD4ZhGBvAztIGMAzDmAoLFsMwNgML1v+E0tJSKBQKeHp6YnFx0dLmMMyDUHAMS/4MDQ0hOzvb8HNkZCQmJiaEeDGMLcEelszZ2dlBRUWFKJeVlSEkJER4WORx8bOKsTVYsOSITgeMjUH/5g0qc3OxtbWF6OhodHR0QKVSwdHREQMDA2htbbW0pQzzRbBgyY23b4Fnz4CXL/FHYSFU797BAUBPSQlcXFyQkJCA9vZ20bS6uhqjo6OWtphhTIZjWHITq9xcQK/HOoAYAPsAfgHws0IBqFTAq1diKkhTwp6eHvj7+2NqagphYWGWtp5h/hMWLDlNA8mz+vABNKDfA/gTwHcA/gLgSIIVGgqsrgL29jg+PkZSUhJmZmYQFxcHtVoNZ2dnS/8VDPNZeEooF9RqIVbEb9diRfLzO4kVVdJz6f37q3YAXF1dRRzLz88Pk5OTaG5utqz9DGMCLFhy4eNHka0CeH1d1QAg6p52RHh4ODo7O6/aNjRAo9GYy1qGeRAsWHLh6VNc0gJRAJ8ApAD48Z52N8nPz0d6ejpOT09RWVnJSx0Yq4ZjWHJBp0Pbkyeo0mrhDuBvAM9v/t4ohnWT5eVlxMTE4OTkBH19fSgsLDS39QxjEuxhyYRFjQY/HR+L8q93iRXR1vYvsSIiIiJQV1cnylVVVdjb2zOLzQzzpbBgyYCLiwuUlJTg5OwM6S9e4IeQkNsNyLO6XtJwH0qlElFRUdje3hbrsxjGGuEpoQxobGxEbW0tvL29MTc3h1CKU9HbQAqwUzkl5U7Pyhha2pCammooJycnm8F6hjEdFiwbZ3Z2VqyjOj8/R29vL4qKir7q88rLy9Hd3S228kxPT8PJyenRbGWYr4WnhDbM0tISiouLhVjl5OQ8SrCc1mMFBARgfn5ebJbmo2gYm/aw1tfXodVq4eXlJY4n8fDwgJ0d697noC7e398Xm5A3NzdFksq0nIC2xxgnWtDp4+MDBwfaCXjF5eUlxsfHxXExg4ODWFhYEPUkMDQVDAwMfBR7+/v7b3lqNDUkzysvLw9ubm6P8h0MYxbBqqmpQVNT0606Ei4SMEoUR6FENxvlVEenA9CNZ29vb8hJ5OhAOWGE9BbLqGxNSN10s7uoTAHvs7Mz4eVI6ejoSIjRxsaGQaCozUOgvvX19RVJ+jwJ6su0tDSx6DM+Ph6PycjICLq6ujA8PCyEkqCxzMrKEmNL23hoMzXllGhM78Jax5OxDLGxseJ/1myCVV9fL1ZHHx4eipuVMR0S8KCgIEMij4hu9t3dXXFuFSV6S0c5id5dkGhkZmaKA/kyMjKEeHxL1tbWxCZpimutrKx80+9i5I9SqURLS4v5g+50GS00JOGim4umiVSm/ODgQORSHQmblHQ6ncilp7bxZ1ozd3mE5OWQByklClK7u7sLQQoODjbkJE7kkZgK9RH1I00lpUTXJyYmWiQQTuM1NjYmpqQ07pRoOivltjiejPmhh21BQcGDr+e3hAzD2AwcLWcYBrbCP3PaEcZN3nUhAAAAAElFTkSuQmCC\"></td>\n",
       "</tr>\n",
       "</tbody>\n",
       "</table>\n"
      ],
      "text/plain": [
       "<IPython.core.display.HTML object>"
      ]
     },
     "metadata": {},
     "output_type": "display_data"
    },
    {
     "data": {
      "text/html": [
       "<h3>Summary Table for RBO@10</h3>"
      ],
      "text/plain": [
       "<IPython.core.display.HTML object>"
      ]
     },
     "metadata": {},
     "output_type": "display_data"
    },
    {
     "data": {
      "text/html": [
       "<table>\n",
       "<thead><tr>\n",
       "<th>Algorithm\n",
       "<th>Mean\n",
       "<th>Std Dev\n",
       "<th>10%ile\n",
       "<th>Median\n",
       "<th>90%ile\n",
       "<th>Dist. (KDE)\n",
       "</tr></thead>\n",
       "<tbody>\n",
       "<tr><td>mmr\n",
       "<td>0.467<br><span style=\"font-size: 75%;\">(0.460,0.475)</span></td>\n",
       "<td>0.119<br><span style=\"font-size: 75%;\">(0.109,0.130)</span></td>\n",
       "<td>0.365<br><span style=\"font-size: 75%;\">(0.347,0.371)</span></td>\n",
       "<td>0.492<br><span style=\"font-size: 75%;\">(0.483,0.498)</span></td>\n",
       "<td>0.580<br><span style=\"font-size: 75%;\">(0.575,0.589)</span></td>\n",
       "<td><img src=\"data:image/png;base64,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\"></td>\n",
       "</tr>\n",
       "<tr><td>nrms\n",
       "<td>0.000<br><span style=\"font-size: 75%;\">(0.000,0.000)</span></td>\n",
       "<td>0.000<br><span style=\"font-size: 75%;\">(0.000,0.000)</span></td>\n",
       "<td>0.000<br><span style=\"font-size: 75%;\">(0.000,0.000)</span></td>\n",
       "<td>0.000<br><span style=\"font-size: 75%;\">(0.000,0.000)</span></td>\n",
       "<td>0.000<br><span style=\"font-size: 75%;\">(0.000,0.000)</span></td>\n",
       "<td></td>\n",
       "</tr>\n",
       "<tr><td>nrms_images\n",
       "<td>0.000<br><span style=\"font-size: 75%;\">(0.000,0.000)</span></td>\n",
       "<td>0.000<br><span style=\"font-size: 75%;\">(0.000,0.000)</span></td>\n",
       "<td>0.000<br><span style=\"font-size: 75%;\">(0.000,0.000)</span></td>\n",
       "<td>0.000<br><span style=\"font-size: 75%;\">(0.000,0.000)</span></td>\n",
       "<td>0.000<br><span style=\"font-size: 75%;\">(0.000,0.000)</span></td>\n",
       "<td></td>\n",
       "</tr>\n",
       "<tr><td>nrms_rrf_static_user\n",
       "<td>0.000<br><span style=\"font-size: 75%;\">(0.000,0.000)</span></td>\n",
       "<td>0.000<br><span style=\"font-size: 75%;\">(0.000,0.000)</span></td>\n",
       "<td>0.000<br><span style=\"font-size: 75%;\">(0.000,0.000)</span></td>\n",
       "<td>0.000<br><span style=\"font-size: 75%;\">(0.000,0.000)</span></td>\n",
       "<td>0.000<br><span style=\"font-size: 75%;\">(0.000,0.000)</span></td>\n",
       "<td></td>\n",
       "</tr>\n",
       "<tr><td>nrms_topic_scores\n",
       "<td>0.000<br><span style=\"font-size: 75%;\">(0.000,0.000)</span></td>\n",
       "<td>0.000<br><span style=\"font-size: 75%;\">(0.000,0.000)</span></td>\n",
       "<td>0.000<br><span style=\"font-size: 75%;\">(0.000,0.000)</span></td>\n",
       "<td>0.000<br><span style=\"font-size: 75%;\">(0.000,0.000)</span></td>\n",
       "<td>0.000<br><span style=\"font-size: 75%;\">(0.000,0.000)</span></td>\n",
       "<td></td>\n",
       "</tr>\n",
       "<tr><td>nrms_topics_static\n",
       "<td>0.000<br><span style=\"font-size: 75%;\">(0.000,0.000)</span></td>\n",
       "<td>0.000<br><span style=\"font-size: 75%;\">(0.000,0.000)</span></td>\n",
       "<td>0.000<br><span style=\"font-size: 75%;\">(0.000,0.000)</span></td>\n",
       "<td>0.000<br><span style=\"font-size: 75%;\">(0.000,0.000)</span></td>\n",
       "<td>0.000<br><span style=\"font-size: 75%;\">(0.000,0.000)</span></td>\n",
       "<td></td>\n",
       "</tr>\n",
       "<tr><td>pfar\n",
       "<td>0.604<br><span style=\"font-size: 75%;\">(0.596,0.612)</span></td>\n",
       "<td>0.133<br><span style=\"font-size: 75%;\">(0.118,0.150)</span></td>\n",
       "<td>0.525<br><span style=\"font-size: 75%;\">(0.371,0.525)</span></td>\n",
       "<td>0.651<br><span style=\"font-size: 75%;\">(0.651,0.651)</span></td>\n",
       "<td>0.651<br><span style=\"font-size: 75%;\">(0.651,0.651)</span></td>\n",
       "<td><img src=\"data:image/png;base64,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\"></td>\n",
       "</tr>\n",
       "<tr><td>softmax\n",
       "<td>0.479<br><span style=\"font-size: 75%;\">(0.470,0.487)</span></td>\n",
       "<td>0.138<br><span style=\"font-size: 75%;\">(0.129,0.148)</span></td>\n",
       "<td>0.323<br><span style=\"font-size: 75%;\">(0.303,0.347)</span></td>\n",
       "<td>0.508<br><span style=\"font-size: 75%;\">(0.497,0.521)</span></td>\n",
       "<td>0.617<br><span style=\"font-size: 75%;\">(0.611,0.623)</span></td>\n",
       "<td><img src=\"data:image/png;base64,iVBORw0KGgoAAAANSUhEUgAAASwAAAAZCAYAAACLvRPfAAAAOnRFWHRTb2Z0d2FyZQBNYXRwbG90bGliIHZlcnNpb24zLjEwLjEsIGh0dHBzOi8vbWF0cGxvdGxpYi5vcmcvc2/+5QAAAAlwSFlzAAAPYQAAD2EBqD+naQAABqtJREFUeJztnFtIFVsYx/9bSyvNS5JhWZmVNyg63R7OKcooKI0Ekeilh+hBLMmCgh6iXiJCewgiMCi0AqHoQoEVXVDLOmBFHBK00rKraGWWpZaah/9HyzOaO7cn3XuPfj/4WDNje1qz95r/rO+yxtHZ2dkJRVEUG+Dj6Q4oiqK4igqWoii2QQVL6R/nzgGTJwMOx3/GfR7vA0Yf6urqUFJSgiNHjmDbtm1YuXIloqKi4OPjA4fD4bLxM3v27MGzZ8/cctmKd+DQGJbiMhSltDQqT/fjFC1y5gyQmor379+jsrISjx49QlVVVTdrampyevrRo0djypQpmDp1qrSRkZEich8+fBBraGiQtry8HJ8+fer63NKlS7FhwwakpaVhzJgxg3b5iudRwVJco6MDiIoCXr3qOtQG4B8AfwMoB1Dp74+KoCC8ffvW6Wk4O5o2bRri4uIQHx8vLS0mJgbjx4+Xv/dFS0sLzp8/j7y8PNy4cUNEjVDoeCwxMXGALlrxNlSwFNcoLkZTYiJKAdz+YWUAmp38c86QKEQzZ87EjBkzuoxi5e/vP2DdevHiBU6cOCEu5qsfYpqZmYn9+/cjICBgwP4fxTtQwVJ+yZMnT1BYWIjCY8dQUl4usyorIQD+BPAHgHgAcXv3IjYrC4GBgW7t5+fPn7Fjxw7k5ubKfnR0NPLz87F48WK39kMZXFSwlG58+fIFN2/exNWrV0WoKFhWogFQAv76IVTxPTM3RUUMKsFTXLt2DRs3bsTLly/Fvdy6dSv27duHUaNGeaxPysChgjXMaWtrw4MHD+RGp925c0eOGUaMGIElS5YgedUqJOfkIKa+/uegO2HsKTISYNbO1xee5OPHj9i+fTuOHj0q+wsWLMDZs2cxmdlMxdaoYA1xGKA2GbZ3795Jpo7ZO2NPnz5Fe3t7t88weL1ixQopOWAbFBTUPUtIrMOmR5bQW7h06RLWr18v186A/unTpyWjqNgXFSwb8/37dxGd6upq1NTUiD1//lzaN2/eyI3a2tra53mCg4OxbNkyESfa9OnTnWfrKFpZWd2yhVKHdfCgV4mVgd9FamqqzCJ9fX2RnZ0t9V+uZCMV70MFy2YCxRqk4uJiMcaaWPPUFyzKHDduHEJDQyVLFxsbK8YsHttJkyb17wZmicOtW0BtLRARATCw7WE3sK9ZZnp6Ok6ePCn769atE3dRs4j2QwXLy6E7d/nyZVy4cAHXr1+XWZMVFkpSeOjGsfqbLY1Fl2FhYSJUY8eOFdEaznCYHz58WGZXdIH5nR0/fhwLFy70dNeUfqCC5YXQjbl48aKIFGdR1hgTZwWLFi2SWAxt3rx5GDlypEf7aydKS0uxdu1a1NbWiojv3LkTu3fvHtDaMGXwUMHyAhobG1FUVCQzKGbqepYSJCQkICUlBatXr5aMlwrU70E3esuWLSgoKJD9WbNmSfHpnDlzPN01pQ9UsNwMv24Gxu/evYt79+7JDKqsrEziUwY++TmLokitWbNGKsSVgYelDhkZGbKUiOUbu3btknIIjW15LypYgwgX+j5+/FgWAldUVOD+/fsiUiwv6AnX0jFDt3z5clkLx8ydMvjU19dj06ZNIl6E3zsLTzdv3izV8orNBYuuC2cErM3hj2uM++Hh4ZgwYcKwSBl3dHSIK8fyAa5he/36dVfL2iaWG3C7N/g0nz17trh3DPpSpLj2TvEMvAVOnTolMyyWiBCO4eTkZHEd+fsMhzE9JAWL67UOHDjg9O8MXppMlTGmzSdOnCgWEREh2St3DABe2tevXyWtTWtubhazbvd2jMtTaNZtzpaYsaNIsbW+3uRXUMRN+QBjJBQpxkx0qYj3Qbf8ypUrOHTokLQGjte5c+dKgsMYM7IqYjYQLD6JmGbn8gcab1yzTVfHldP5+fnJIGCsgMaFsmbbpN/NYGDLczJTZjUuH/n27dtPxkJJGgXIlaLJ34XXwRICirJpzZsKKFKsfVLsB2fILIPgAure3uFFj4LV8/x9aabOjWUmnEEbY4KEBavmxYPE+iLC3hjKQjh//nxZ6uUVMSyKCN0iU3FtjG4Tjank3uI37oBCSEHkgOKL4kzr7JgxHjOiagYnLSQkRIziqwxdOEN/+PChxB+Ncd+63lJxHSY1cnJyYJugOwcAhYtulXG3aHw9CF0wky1jt6xd45PK+uSiUSxodEOtLUWHRrfLtPz8UH5yKe4dw4xTmjegmpbGWT3FrKdHYMayGdfObruhngNLSkqSlQb/F80SKopiG4b3eg1FUWAn/gVT3YgbhSYCmgAAAABJRU5ErkJggg==\"></td>\n",
       "</tr>\n",
       "<tr><td>topic_cali\n",
       "<td>0.604<br><span style=\"font-size: 75%;\">(0.596,0.612)</span></td>\n",
       "<td>0.133<br><span style=\"font-size: 75%;\">(0.119,0.150)</span></td>\n",
       "<td>0.525<br><span style=\"font-size: 75%;\">(0.371,0.525)</span></td>\n",
       "<td>0.651<br><span style=\"font-size: 75%;\">(0.651,0.651)</span></td>\n",
       "<td>0.651<br><span style=\"font-size: 75%;\">(0.651,0.651)</span></td>\n",
       "<td><img src=\"data:image/png;base64,iVBORw0KGgoAAAANSUhEUgAAASwAAAAZCAYAAACLvRPfAAAAOnRFWHRTb2Z0d2FyZQBNYXRwbG90bGliIHZlcnNpb24zLjEwLjEsIGh0dHBzOi8vbWF0cGxvdGxpYi5vcmcvc2/+5QAAAAlwSFlzAAAPYQAAD2EBqD+naQAABeFJREFUeJztnFtIVFsYx/+Td81LmpjWREEU9KAk+SAihfrk4UDHDDqdF6MROiGnl0Gxl6wnLxyKng5p0JHAOGKEvqgRBPYQBEZB9JAg5GUCL1mapTbuw381a9qNWs5FnT18P/hYe2/3OGvW3uu/vvXtb22bYRgGBEEQLMC2ra6AIAjCehHBEgTBMohgCRHNly9f8PDhQ5w/fx5ZWVmw2WxeO3nyJKanp7e6ioIf2CSGJUQqbW1tqK+vx+TkpPdYeno6jh8/jp6eHiwtLWH37t24c+eOOiaEP+JhCRHJzZs3UV1drcRq586daru/vx9v375FV1cXnjx5goMHD2JsbAwlJSVK2ChgQphDD0sQIon29nbDZrNx5mA4nU5jaWlp1fPm5uYMh8OhzqMVFBQYLpdr0+srrB+ZEgoRRWdnJ06fPo3l5WXU1NTgxo0bKl71I+hx0QN79+4dCgoK8OjRIyQmJm5anYX1I4IlWBe3GxgYAFwuIDsbPTMzqDh1SgXaz507p6aF27atL+rx+vVrFBYWYmpqChUVFUr41vtZYfMQwRKsyb17wMWLwOio2u0H8CuARQBnzpxBe3s7oqKi/PqXAwMDKCsrw+LiImpra9HU1LRBlRcCRYYQwZpiVVnpFasHAE54xKoCwL8nTvgtVqS4uBi3bt1S283NzeopoxBeiIclWG8auG+fV6x6AFR6xOoXahmAWLsdGB4GAhAt0tDQgCtXriA6Ohq9vb0oLS0N8Y8QAkU8LMFaMGblEav/PB4Vxeo3Bs8pVvzDyMjX8wLk8uXLalrJWBiTS1+9ehW6+gtBIYIlWAsG2DntA/A7M9kB/OERr7hVzgsEPlXk1LCoqAjv379Xca3nz58HX3chaESwBGuRnY1/AFQBWAbg8IhX9CrnBUN8fDzu37+Pw4cPY3x8XMW3HjxgtEzYSkSwBMvAdX/O7m786dn/ixntAL6LVDHnijGs4uKgv48Z8o8fP1bLdmZnZ1FeXo7bt28H/X+FwBHBEsKeDx8+4OrVq9i/fz/+vnZNHasHcJ36ZD5RJ4hevx5wwN2XHTt2qMC7jmmdPXtWBeTlWdUW4UdWvCBsKlw609TUZKSnp3uXz+Tm5hrd3d2G0dVlGHv2UDa+md3+9fgG4Ha7jUuXLnnrUVVVZUxPT2/IdwlrI2kNQljApTRDQ0MYHBxU9uzZMzx9+lQFvcmhQ4eUl1VZWfktA90n011NA0PkWa0Fs+cvXLgAt9ut4lysD5f1MMb1syVAQvD4LVjDw8NwuVyIjY1dYQkJCUhOTlbbQnB8/vxZvWlgYmJClTTGcObm5lQ8RZcfP35UHdh8HeLi4tS14KtUMjIyvis5xUlLS1PnhBp2Yl0vs3FKR9Pb/B1cAqNL2ujoqPqsL5wGMi+KUzLmRYUDfX19KhP+xYsX3mMUVIfDoeJce/fuxfbt27e0jpGK34JVV1ensoB/RExMjBIuGi9cUlKSWkyqSxpHJ57na+x8NI5WutS2ovJrjGgbMdKt1kzmY77b9Bh8jUs+aAsLC95yfn5edWJ6Embj8Y2E7U/hSk1NVdeJAuY7AOnfQSHSJV/B8unTpxVGsQm2zhTZvLw8HDlyBPn5+arkfrgIlRm2DT3A1tZWdHR0qIHDDNuWwmW325GTk6PaW7cr73OWOhvffH/7e69bjaNHj+LYsWObJ1iNjY0qR0V3Pt3xaAxKCqGDHTUzM1M9raLRQ9KDgC5pZjHU14MdiB6MNu3JUBw3OgrAeusBKyUlxWv6mK/nR9u1axcOHDgQluL0M+g53r17Vz1BfPnypXcaK6zE6XSipaUFgRLSGBYFyzwl0NscedmBWOptTnk4WvuaHtXNpa7iWh7NVmIe+czbHD21t6jNPGXTJUdeejm+xk7MTh7qkZVtymsyMzPjNe6z7X1Fj9+tf4cuKSj0hHxNi6j21iLFIwgEDgojIyPK3rx5o14aqNvV3M70WIm+x833eqRSXl6uXv8TKBJ0FwTBMkgeliAIsAr/A3bbFzwWzBoSAAAAAElFTkSuQmCC\"></td>\n",
       "</tr>\n",
       "</tbody>\n",
       "</table>\n"
      ],
      "text/plain": [
       "<IPython.core.display.HTML object>"
      ]
     },
     "metadata": {},
     "output_type": "display_data"
    }
   ],
   "source": [
    "for metric in overlap_metrics:\n",
    "    tw = EvalTable(mind_subset_user_metrics, \"pipeline\", metric)\n",
    "    tw.add_stat(\"Mean\", np.mean, ci=True)\n",
    "    tw.add_stat(\"Std Dev\", np.std, ci=True)\n",
    "    tw.add_quantiles([\"10%ile\", \"Median\", \"90%ile\"], [0.1, 0.5, 0.9], ci=True)\n",
    "    display(HTML(f\"<h3>Summary Table for {metric}</h3>\"))\n",
    "    display(HTML(tw.html_table()))"
   ]
  }
 ],
 "metadata": {
  "jupytext": {
   "formats": "ipynb,md:myst"
  },
  "kernelspec": {
   "display_name": "Python 3 (ipykernel)",
   "language": "python",
   "name": "python3"
  },
  "language_info": {
   "codemirror_mode": {
    "name": "ipython",
    "version": 3
   },
   "file_extension": ".py",
   "mimetype": "text/x-python",
   "name": "python",
   "nbconvert_exporter": "python",
   "pygments_lexer": "ipython3",
   "version": "3.12.10"
  },
  "papermill": {
   "default_parameters": {},
   "duration": 36.140306,
   "end_time": "2025-05-01T22:09:59.884367",
   "environment_variables": {},
   "exception": null,
   "input_path": "basic-eval-template.ipynb",
   "output_path": "mind-subset.ipynb",
   "parameters": {
    "EVAL_NAME": "mind-subset"
   },
   "start_time": "2025-05-01T22:09:23.744061",
   "version": "2.6.0"
  }
 },
 "nbformat": 4,
 "nbformat_minor": 5
}
