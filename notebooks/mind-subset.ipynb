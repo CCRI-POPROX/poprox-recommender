{
 "cells": [
  {
   "cell_type": "markdown",
   "id": "76fd0221",
   "metadata": {
    "papermill": {
     "duration": 0.01053,
     "end_time": "2025-05-02T16:18:12.605595",
     "exception": false,
     "start_time": "2025-05-02T16:18:12.595065",
     "status": "completed"
    },
    "tags": []
   },
   "source": [
    "# Offline Evaluation Metrics Visualizations\n",
    "\n",
    "This notebook visualizes user-specific performance metrics of various recommenders in the mind-subset dataset to assess effectiveness and ranking overlap. We explore two metric groups:\n",
    "\n",
    "1. **Effectiveness Metrics**: We use ranking-based metrics, Normalized Discounted Cumulative Gain (NDCG) and Reciprocal Rank (RR), to evaluate recommender effectiveness.\n",
    "2. **Ranking Overlap Metrics**: We use Rank-Based Overlap (RBO) to assess consistency in top-k recommendations relative to final rankings.\n",
    "\n",
    "> [!NOTE]\n",
    "> This is a *parameterized* notebook, and is used to render the other specific evaluation notebooks with [Papermill](https://papermill.readthedocs.io/en/latest/).  By default, it displays\n",
    "> the MIND Subset results, for easy editing."
   ]
  },
  {
   "cell_type": "code",
   "execution_count": 1,
   "id": "e82acae8",
   "metadata": {
    "execution": {
     "iopub.execute_input": "2025-05-02T16:18:12.622395Z",
     "iopub.status.busy": "2025-05-02T16:18:12.622086Z",
     "iopub.status.idle": "2025-05-02T16:18:12.626901Z",
     "shell.execute_reply": "2025-05-02T16:18:12.626520Z"
    },
    "papermill": {
     "duration": 0.013545,
     "end_time": "2025-05-02T16:18:12.628205",
     "exception": false,
     "start_time": "2025-05-02T16:18:12.614660",
     "status": "completed"
    },
    "tags": [
     "parameters"
    ]
   },
   "outputs": [],
   "source": [
    "EVAL_NAME = \"mind-subset\""
   ]
  },
  {
   "cell_type": "code",
   "execution_count": 2,
   "id": "9503ee2f",
   "metadata": {
    "execution": {
     "iopub.execute_input": "2025-05-02T16:18:12.642106Z",
     "iopub.status.busy": "2025-05-02T16:18:12.641894Z",
     "iopub.status.idle": "2025-05-02T16:18:12.644143Z",
     "shell.execute_reply": "2025-05-02T16:18:12.643789Z"
    },
    "papermill": {
     "duration": 0.010209,
     "end_time": "2025-05-02T16:18:12.645184",
     "exception": false,
     "start_time": "2025-05-02T16:18:12.634975",
     "status": "completed"
    },
    "tags": [
     "injected-parameters"
    ]
   },
   "outputs": [],
   "source": [
    "# Parameters\n",
    "EVAL_NAME = \"mind-subset\""
   ]
  },
  {
   "cell_type": "markdown",
   "id": "c2641056",
   "metadata": {
    "papermill": {
     "duration": 0.005645,
     "end_time": "2025-05-02T16:18:12.657447",
     "exception": false,
     "start_time": "2025-05-02T16:18:12.651802",
     "status": "completed"
    },
    "tags": []
   },
   "source": [
    "## Setup"
   ]
  },
  {
   "cell_type": "markdown",
   "id": "046f2a64",
   "metadata": {
    "papermill": {
     "duration": 0.005507,
     "end_time": "2025-05-02T16:18:12.668391",
     "exception": false,
     "start_time": "2025-05-02T16:18:12.662884",
     "status": "completed"
    },
    "tags": []
   },
   "source": [
    "### Importing Libraries"
   ]
  },
  {
   "cell_type": "markdown",
   "id": "29746948",
   "metadata": {
    "papermill": {
     "duration": 0.010054,
     "end_time": "2025-05-02T16:18:12.684370",
     "exception": false,
     "start_time": "2025-05-02T16:18:12.674316",
     "status": "completed"
    },
    "tags": []
   },
   "source": [
    "PyData packages:"
   ]
  },
  {
   "cell_type": "code",
   "execution_count": 3,
   "id": "70b02420",
   "metadata": {
    "execution": {
     "iopub.execute_input": "2025-05-02T16:18:12.698205Z",
     "iopub.status.busy": "2025-05-02T16:18:12.697836Z",
     "iopub.status.idle": "2025-05-02T16:18:15.810038Z",
     "shell.execute_reply": "2025-05-02T16:18:15.809139Z"
    },
    "papermill": {
     "duration": 3.121982,
     "end_time": "2025-05-02T16:18:15.812815",
     "exception": false,
     "start_time": "2025-05-02T16:18:12.690833",
     "status": "completed"
    },
    "tags": []
   },
   "outputs": [],
   "source": [
    "import matplotlib.pyplot as plt\n",
    "import numpy as np\n",
    "import pandas as pd\n",
    "import seaborn as sns"
   ]
  },
  {
   "cell_type": "markdown",
   "id": "2a2dc22c",
   "metadata": {
    "papermill": {
     "duration": 0.013891,
     "end_time": "2025-05-02T16:18:15.840693",
     "exception": false,
     "start_time": "2025-05-02T16:18:15.826802",
     "status": "completed"
    },
    "tags": []
   },
   "source": [
    "Local code and display support:"
   ]
  },
  {
   "cell_type": "code",
   "execution_count": 4,
   "id": "c9c3fd9e",
   "metadata": {
    "execution": {
     "iopub.execute_input": "2025-05-02T16:18:15.867952Z",
     "iopub.status.busy": "2025-05-02T16:18:15.867168Z",
     "iopub.status.idle": "2025-05-02T16:18:15.895909Z",
     "shell.execute_reply": "2025-05-02T16:18:15.894896Z"
    },
    "papermill": {
     "duration": 0.046043,
     "end_time": "2025-05-02T16:18:15.898506",
     "exception": false,
     "start_time": "2025-05-02T16:18:15.852463",
     "status": "completed"
    },
    "tags": []
   },
   "outputs": [],
   "source": [
    "from IPython.display import HTML\n",
    "\n",
    "from poprox_recommender.eval_tables import EvalTable"
   ]
  },
  {
   "cell_type": "markdown",
   "id": "bfeb987f",
   "metadata": {
    "papermill": {
     "duration": 0.012562,
     "end_time": "2025-05-02T16:18:15.925484",
     "exception": false,
     "start_time": "2025-05-02T16:18:15.912922",
     "status": "completed"
    },
    "tags": []
   },
   "source": [
    "### Loading Data"
   ]
  },
  {
   "cell_type": "code",
   "execution_count": 5,
   "id": "a93f5ff3",
   "metadata": {
    "execution": {
     "iopub.execute_input": "2025-05-02T16:18:15.952097Z",
     "iopub.status.busy": "2025-05-02T16:18:15.951689Z",
     "iopub.status.idle": "2025-05-02T16:18:16.023496Z",
     "shell.execute_reply": "2025-05-02T16:18:16.022924Z"
    },
    "papermill": {
     "duration": 0.09008,
     "end_time": "2025-05-02T16:18:16.025238",
     "exception": false,
     "start_time": "2025-05-02T16:18:15.935158",
     "status": "completed"
    },
    "tags": []
   },
   "outputs": [
    {
     "data": {
      "text/html": [
       "<div>\n",
       "<style scoped>\n",
       "    .dataframe tbody tr th:only-of-type {\n",
       "        vertical-align: middle;\n",
       "    }\n",
       "\n",
       "    .dataframe tbody tr th {\n",
       "        vertical-align: top;\n",
       "    }\n",
       "\n",
       "    .dataframe thead th {\n",
       "        text-align: right;\n",
       "    }\n",
       "</style>\n",
       "<table border=\"1\" class=\"dataframe\">\n",
       "  <thead>\n",
       "    <tr style=\"text-align: right;\">\n",
       "      <th></th>\n",
       "      <th>pipeline</th>\n",
       "      <th>profile_id</th>\n",
       "      <th>Unnamed: 0</th>\n",
       "      <th>personalized</th>\n",
       "      <th>NDCG@5</th>\n",
       "      <th>NDCG@10</th>\n",
       "      <th>RR</th>\n",
       "      <th>RBO@5</th>\n",
       "      <th>RBO@10</th>\n",
       "    </tr>\n",
       "  </thead>\n",
       "  <tbody>\n",
       "    <tr>\n",
       "      <th>0</th>\n",
       "      <td>mmr</td>\n",
       "      <td>3619aa62-8427-52f4-904c-5c21a5598c99</td>\n",
       "      <td>0</td>\n",
       "      <td>True</td>\n",
       "      <td>0.00000</td>\n",
       "      <td>0.157732</td>\n",
       "      <td>0.111111</td>\n",
       "      <td>0.324388</td>\n",
       "      <td>0.524434</td>\n",
       "    </tr>\n",
       "    <tr>\n",
       "      <th>1</th>\n",
       "      <td>mmr</td>\n",
       "      <td>362f4bcd-7ae9-587a-89b8-ecf2c91d3d4b</td>\n",
       "      <td>1</td>\n",
       "      <td>True</td>\n",
       "      <td>0.00000</td>\n",
       "      <td>0.000000</td>\n",
       "      <td>0.000000</td>\n",
       "      <td>0.203347</td>\n",
       "      <td>0.314072</td>\n",
       "    </tr>\n",
       "    <tr>\n",
       "      <th>2</th>\n",
       "      <td>mmr</td>\n",
       "      <td>364b7841-790e-599c-8a59-c1362bbdd2f6</td>\n",
       "      <td>2</td>\n",
       "      <td>True</td>\n",
       "      <td>0.63093</td>\n",
       "      <td>0.630930</td>\n",
       "      <td>0.333333</td>\n",
       "      <td>0.409510</td>\n",
       "      <td>0.593150</td>\n",
       "    </tr>\n",
       "    <tr>\n",
       "      <th>3</th>\n",
       "      <td>mmr</td>\n",
       "      <td>36b1b7d4-eb60-5af3-ae16-c739bb771b7e</td>\n",
       "      <td>3</td>\n",
       "      <td>True</td>\n",
       "      <td>0.00000</td>\n",
       "      <td>0.224316</td>\n",
       "      <td>0.166667</td>\n",
       "      <td>0.293041</td>\n",
       "      <td>0.492021</td>\n",
       "    </tr>\n",
       "    <tr>\n",
       "      <th>4</th>\n",
       "      <td>mmr</td>\n",
       "      <td>36d6e166-40cb-5dfe-a615-c9f215e9bf6b</td>\n",
       "      <td>4</td>\n",
       "      <td>True</td>\n",
       "      <td>1.00000</td>\n",
       "      <td>2.692888</td>\n",
       "      <td>0.500000</td>\n",
       "      <td>0.409510</td>\n",
       "      <td>0.569857</td>\n",
       "    </tr>\n",
       "  </tbody>\n",
       "</table>\n",
       "</div>"
      ],
      "text/plain": [
       "  pipeline                            profile_id  Unnamed: 0  personalized  \\\n",
       "0      mmr  3619aa62-8427-52f4-904c-5c21a5598c99           0          True   \n",
       "1      mmr  362f4bcd-7ae9-587a-89b8-ecf2c91d3d4b           1          True   \n",
       "2      mmr  364b7841-790e-599c-8a59-c1362bbdd2f6           2          True   \n",
       "3      mmr  36b1b7d4-eb60-5af3-ae16-c739bb771b7e           3          True   \n",
       "4      mmr  36d6e166-40cb-5dfe-a615-c9f215e9bf6b           4          True   \n",
       "\n",
       "    NDCG@5   NDCG@10        RR     RBO@5    RBO@10  \n",
       "0  0.00000  0.157732  0.111111  0.324388  0.524434  \n",
       "1  0.00000  0.000000  0.000000  0.203347  0.314072  \n",
       "2  0.63093  0.630930  0.333333  0.409510  0.593150  \n",
       "3  0.00000  0.224316  0.166667  0.293041  0.492021  \n",
       "4  1.00000  2.692888  0.500000  0.409510  0.569857  "
      ]
     },
     "execution_count": 5,
     "metadata": {},
     "output_type": "execute_result"
    }
   ],
   "source": [
    "mind_subset_user_metrics = pd.read_csv(f\"../outputs/{EVAL_NAME}-profile-metrics.csv.gz\")\n",
    "mind_subset_user_metrics.head()"
   ]
  },
  {
   "cell_type": "code",
   "execution_count": 6,
   "id": "3a6ec2d4",
   "metadata": {
    "execution": {
     "iopub.execute_input": "2025-05-02T16:18:16.048037Z",
     "iopub.status.busy": "2025-05-02T16:18:16.047815Z",
     "iopub.status.idle": "2025-05-02T16:18:16.050548Z",
     "shell.execute_reply": "2025-05-02T16:18:16.050194Z"
    },
    "papermill": {
     "duration": 0.015391,
     "end_time": "2025-05-02T16:18:16.051662",
     "exception": false,
     "start_time": "2025-05-02T16:18:16.036271",
     "status": "completed"
    },
    "tags": []
   },
   "outputs": [],
   "source": [
    "effectiveness_metrics = [\"NDCG@5\", \"NDCG@10\", \"RR\"]\n",
    "overlap_metrics = [\"RBO@5\", \"RBO@10\"]"
   ]
  },
  {
   "cell_type": "markdown",
   "id": "c541e87d",
   "metadata": {
    "papermill": {
     "duration": 0.010144,
     "end_time": "2025-05-02T16:18:16.074965",
     "exception": false,
     "start_time": "2025-05-02T16:18:16.064821",
     "status": "completed"
    },
    "tags": []
   },
   "source": [
    "## Results"
   ]
  },
  {
   "cell_type": "markdown",
   "id": "41f78b8f",
   "metadata": {
    "papermill": {
     "duration": 0.008169,
     "end_time": "2025-05-02T16:18:16.092003",
     "exception": false,
     "start_time": "2025-05-02T16:18:16.083834",
     "status": "completed"
    },
    "tags": []
   },
   "source": [
    "### Effectiveness Metrics\n",
    "\n",
    "NDCG measures how well the recommendations align with user test data, focusing on the top-k positions, such as the top 5 (NDCG@5) or top 10 (NDCG@10). Likewise, RR evaluates how well the recommender finds the most relevant item as the top result."
   ]
  },
  {
   "cell_type": "code",
   "execution_count": 7,
   "id": "3d6e2454",
   "metadata": {
    "execution": {
     "iopub.execute_input": "2025-05-02T16:18:16.116381Z",
     "iopub.status.busy": "2025-05-02T16:18:16.115993Z",
     "iopub.status.idle": "2025-05-02T16:18:16.688277Z",
     "shell.execute_reply": "2025-05-02T16:18:16.688033Z"
    },
    "papermill": {
     "duration": 0.585924,
     "end_time": "2025-05-02T16:18:16.689013",
     "exception": false,
     "start_time": "2025-05-02T16:18:16.103089",
     "status": "completed"
    },
    "tags": []
   },
   "outputs": [
    {
     "data": {
      "image/png": "[encoded data removed]",
      "text/plain": [
       "<Figure size 1200x300 with 3 Axes>"
      ]
     },
     "metadata": {},
     "output_type": "display_data"
    }
   ],
   "source": [
    "plt.figure(figsize=(12, 3))\n",
    "plt.subplots_adjust(wspace=0.3)\n",
    "\n",
    "for i, metric in enumerate(effectiveness_metrics, 1):\n",
    "    plt.subplot(1, 3, i)\n",
    "    sns.barplot(data=mind_subset_user_metrics, x=\"pipeline\", y=metric)\n",
    "    plt.xticks(rotation=45)\n",
    "\n",
    "plt.show()"
   ]
  },
  {
   "cell_type": "markdown",
   "id": "22eabf45",
   "metadata": {
    "papermill": {
     "duration": 0.003622,
     "end_time": "2025-05-02T16:18:16.696344",
     "exception": false,
     "start_time": "2025-05-02T16:18:16.692722",
     "status": "completed"
    },
    "tags": []
   },
   "source": [
    "The summary tables show the mean values, standard deviation, and quantiles (10%ile, Median, 90%ile), each accompanied by their respective 95% confidence intervals for effectiveness metrics across recommenders."
   ]
  },
  {
   "cell_type": "code",
   "execution_count": 8,
   "id": "25632f44",
   "metadata": {
    "execution": {
     "iopub.execute_input": "2025-05-02T16:18:16.704055Z",
     "iopub.status.busy": "2025-05-02T16:18:16.703851Z",
     "iopub.status.idle": "2025-05-02T16:18:37.099321Z",
     "shell.execute_reply": "2025-05-02T16:18:37.099039Z"
    },
    "papermill": {
     "duration": 20.400199,
     "end_time": "2025-05-02T16:18:37.100105",
     "exception": false,
     "start_time": "2025-05-02T16:18:16.699906",
     "status": "completed"
    },
    "tags": []
   },
   "outputs": [
    {
     "data": {
      "text/html": [
       "<h3>Summary Table for NDCG@5</h3>"
      ],
      "text/plain": [
       "<IPython.core.display.HTML object>"
      ]
     },
     "metadata": {},
     "output_type": "display_data"
    },
    {
     "data": {
      "text/html": [
       "<table>\n",
       "<thead><tr>\n",
       "<th>Algorithm\n",
       "<th>Mean\n",
       "<th>Std Dev\n",
       "<th>10%ile\n",
       "<th>Median\n",
       "<th>90%ile\n",
       "<th>Dist. (KDE)\n",
       "</tr></thead>\n",
       "<tbody>\n",
       "<tr><td>mmr\n",
       "<td>0.424<br><span style=\"font-size: 75%;\">(0.390,0.459)</span></td>\n",
       "<td>0.556<br><span style=\"font-size: 75%;\">(0.514,0.599)</span></td>\n",
       "<td>0.000<br><span style=\"font-size: 75%;\">(0.000,0.000)</span></td>\n",
       "<td>0.215<br><span style=\"font-size: 75%;\">(0.000,0.315)</span></td>\n",
       "<td>1.000<br><span style=\"font-size: 75%;\">(1.000,1.000)</span></td>\n",
       "<td><img src=\"data:image/png;base64,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\"></td>\n",
       "</tr>\n",
       "<tr><td>nrms\n",
       "<td>0.396<br><span style=\"font-size: 75%;\">(0.370,0.421)</span></td>\n",
       "<td>0.411<br><span style=\"font-size: 75%;\">(0.402,0.421)</span></td>\n",
       "<td>0.000<br><span style=\"font-size: 75%;\">(0.000,0.000)</span></td>\n",
       "<td>0.315<br><span style=\"font-size: 75%;\">(0.215,0.430)</span></td>\n",
       "<td>1.000<br><span style=\"font-size: 75%;\">(1.000,1.000)</span></td>\n",
       "<td><img src=\"data:image/png;base64,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\"></td>\n",
       "</tr>\n",
       "<tr><td>nrms_images\n",
       "<td>0.390<br><span style=\"font-size: 75%;\">(0.363,0.415)</span></td>\n",
       "<td>0.407<br><span style=\"font-size: 75%;\">(0.398,0.418)</span></td>\n",
       "<td>0.000<br><span style=\"font-size: 75%;\">(0.000,0.000)</span></td>\n",
       "<td>0.315<br><span style=\"font-size: 75%;\">(0.215,0.380)</span></td>\n",
       "<td>1.000<br><span style=\"font-size: 75%;\">(1.000,1.000)</span></td>\n",
       "<td><img src=\"data:image/png;base64,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\"></td>\n",
       "</tr>\n",
       "<tr><td>nrms_rrf_static_user\n",
       "<td>0.273<br><span style=\"font-size: 75%;\">(0.249,0.296)</span></td>\n",
       "<td>0.377<br><span style=\"font-size: 75%;\">(0.363,0.391)</span></td>\n",
       "<td>0.000<br><span style=\"font-size: 75%;\">(0.000,0.000)</span></td>\n",
       "<td>0.000<br><span style=\"font-size: 75%;\">(0.000,0.000)</span></td>\n",
       "<td>1.000<br><span style=\"font-size: 75%;\">(1.000,1.000)</span></td>\n",
       "<td><img src=\"data:image/png;base64,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\"></td>\n",
       "</tr>\n",
       "<tr><td>nrms_topic_scores\n",
       "<td>0.273<br><span style=\"font-size: 75%;\">(0.250,0.297)</span></td>\n",
       "<td>0.377<br><span style=\"font-size: 75%;\">(0.363,0.391)</span></td>\n",
       "<td>0.000<br><span style=\"font-size: 75%;\">(0.000,0.000)</span></td>\n",
       "<td>0.000<br><span style=\"font-size: 75%;\">(0.000,0.000)</span></td>\n",
       "<td>1.000<br><span style=\"font-size: 75%;\">(1.000,1.000)</span></td>\n",
       "<td><img src=\"data:image/png;base64,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\"></td>\n",
       "</tr>\n",
       "<tr><td>nrms_topics_static\n",
       "<td>0.273<br><span style=\"font-size: 75%;\">(0.249,0.296)</span></td>\n",
       "<td>0.377<br><span style=\"font-size: 75%;\">(0.363,0.391)</span></td>\n",
       "<td>0.000<br><span style=\"font-size: 75%;\">(0.000,0.000)</span></td>\n",
       "<td>0.000<br><span style=\"font-size: 75%;\">(0.000,0.000)</span></td>\n",
       "<td>1.000<br><span style=\"font-size: 75%;\">(1.000,1.000)</span></td>\n",
       "<td><img src=\"data:image/png;base64,iVBORw0KGgoAAAANSUhEUgAAASwAAAAZCAYAAACLvRPfAAAAOnRFWHRTb2Z0d2FyZQBNYXRwbG90bGliIHZlcnNpb24zLjEwLjEsIGh0dHBzOi8vbWF0cGxvdGxpYi5vcmcvc2/+5QAAAAlwSFlzAAAPYQAAD2EBqD+naQAABglJREFUeJztnEtIVF8cx3++329JTSUX4itBBE1Q0rZBbsxHpLhw4WMhLdRVy3buwoWgK0EXhoaYiuImDIqCUHGRghDiqKVQmubbJr6Hfvd/Zpy/aM3Lmd8Hvpw7d0bnzL33fM/vd+4518dsNptJEAThGuDr6goIgiBcFjEsQRA817Da2trIx8fnfxUWFkalpaXU3t5OL168oJWVFcfUXBAEr8PnqmNYMzMz9OHDB/r+/buFvn37RktLS/Tjx49zf5OTk0OVlZVKubm5ytgEQRAcblgX8evXL2VaMLT379+rcn5+nk5PT43PZGRk0MOHD6mmpoby8vLs9dWCIHgBdjUsW2xvb9OrV69oaGiIpqam6OjoyHivsLCQmpqalHmFh4c7shqCIHgADjcsnd3dXRofH1djW2NjY3RycqL2R0REUG1tLTU2NlJ+fr6zqiMIwjXDqYals7m5SX19fdTT00PLy8vG/qKiImptbaWqqioKDAx0RdUEQXBTXGZYDL7+9evXyriGh4eNqCshIUFFXM3NzXTz5k1XVlEQBDfB5Yal8/XrV+rt7aXu7m5aX19X+/z9/amiooJaWlqorKxM7jAKghfjVobFIMoaGRmhrq4uevPmjbE/KytLRVz19fUUExPj0joKguB83NKwdDAtAhFXf38//fz5U+0LCQmhR48eUUNDAxUXF5Ovr0zYFwRvwO0Ni8GE1IGBAWVeCwsLxv60tDSqq6tTyszMdGkdBUFwLNfGsBhU9927d2qsC3O79vb2jPcKCgro8ePHVF5eTunp6S6tpyAI9ufaGZbO/v4+jY6OqnRxcnKSzs7OjPcQbT148ECppKSEAgICnFcx1ANjbxsbRElJRHfvEvn5Oe/7BcFDudaGZT2va3BwUA3WY72jvhwoKipKmRbGu6A7d+6oRdoO4eVLoidPiEym//alpBA9f05UUeGY7xQEF3F4eKhWs+zs7FgIwQRunlkL8yzv3bv319/nMYalgwM2PT2tZtNPTEzQ1taWxft+fn5qHSOWBmFhdnZ2tlJycvK/TZuAWVVWIm+13M//c2jIaaaFJVDWFxGEsUCsOOASQlqNC+zg4ECVrOPjYyVcaLyNjgCXjC6AGx+YgoJjyyWi2uDgYAoKCrIoQ0NDldBpsLA0C8KqBygyMtIoIXQ6eC03WBwPzikeaLC2tkYmk8kov3z5oqYesRAk6EMyl6Gjo4M6Ozv/um4eaVg6SBNnZ2fp7du3hlZXV21+Fg0CUydu3bqlJqvCwFiYyIpGA6GxnTM2pIFpaZaRlQ4+j0jr8+cL00OYA8wCFwIbCgsmw6ajmxB6OBa/hvl4Imxi0dHRxvmA+LVe2tpn89x5sRmZTCbVHqx1lesHx5M7Fb2NoMOCsGKFt+/fv0/V1dV/XX+PNyxb4IRg4H5ubo4+ffqkhOVB+hjYRSCC4BOEKRY4IYGHhxS4uEhYTOT/53P6gcU25vCf3L5NxyEhRuSCSEiPavRU1h4gatEbN0cuehSDzyDKwW/h6AfbiIb0Cw4lfrut56DhSR2oO4TjiJJ/H9IGCNtoCBCmqOiCQV9k0jhe9gD1103M2tD4vOqlHu3xscP/cRfMZrM6TnjEE4TIh6MhLjc2NpRJQZc1o7i4OEpJSVEdNsqkpCTVcd+4cUOVvO3MyNcrDcsWaBAwrcXFRePEQphxjxJpJRrOZU3tX0FKxY1Dl96L6Q1Ol/4e/o8nwCmurehSL6336dv2PHcwc05l9bSWjZ5LToU5woDRccmNXG+CMH49BeeOjaPuvT+CyeNY8PPorvrb2Iyg1NRUC7FJ4Te4G2JYVwCHCheK3mDQkKDjjx/p+OlTwsNzECMh6eDEg0vcpwx89owC8vONqAUXM0c1enSD/d6cujjq3OkmZm101mN9vK2P+dkr0nMEoaGhFBsbS/Hx8ZSYmKgiIC4hNiIMd7ijGV0GMSx7wWNYa2vnB92vMIYluDcwLE5X9XSWt5FucQoM8WtOl/U7ZjrcOaHUU3DehhmF/7kxoQsGBWGpGqI5T0cMy57wXUKgH1YX3CUUBE9EDEsQBLou/AZO1RtHIigEpQAAAABJRU5ErkJggg==\"></td>\n",
       "</tr>\n",
       "<tr><td>pfar\n",
       "<td>0.390<br><span style=\"font-size: 75%;\">(0.365,0.415)</span></td>\n",
       "<td>0.412<br><span style=\"font-size: 75%;\">(0.402,0.422)</span></td>\n",
       "<td>0.000<br><span style=\"font-size: 75%;\">(0.000,0.000)</span></td>\n",
       "<td>0.315<br><span style=\"font-size: 75%;\">(0.215,0.380)</span></td>\n",
       "<td>1.000<br><span style=\"font-size: 75%;\">(1.000,1.000)</span></td>\n",
       "<td><img src=\"data:image/png;base64,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\"></td>\n",
       "</tr>\n",
       "<tr><td>softmax\n",
       "<td>0.382<br><span style=\"font-size: 75%;\">(0.357,0.406)</span></td>\n",
       "<td>0.406<br><span style=\"font-size: 75%;\">(0.396,0.416)</span></td>\n",
       "<td>0.000<br><span style=\"font-size: 75%;\">(0.000,0.000)</span></td>\n",
       "<td>0.315<br><span style=\"font-size: 75%;\">(0.215,0.380)</span></td>\n",
       "<td>1.000<br><span style=\"font-size: 75%;\">(1.000,1.000)</span></td>\n",
       "<td><img src=\"data:image/png;base64,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\"></td>\n",
       "</tr>\n",
       "<tr><td>topic_cali\n",
       "<td>0.393<br><span style=\"font-size: 75%;\">(0.368,0.419)</span></td>\n",
       "<td>0.409<br><span style=\"font-size: 75%;\">(0.400,0.419)</span></td>\n",
       "<td>0.000<br><span style=\"font-size: 75%;\">(0.000,0.000)</span></td>\n",
       "<td>0.315<br><span style=\"font-size: 75%;\">(0.215,0.402)</span></td>\n",
       "<td>1.000<br><span style=\"font-size: 75%;\">(1.000,1.000)</span></td>\n",
       "<td><img src=\"data:image/png;base64,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\"></td>\n",
       "</tr>\n",
       "</tbody>\n",
       "</table>\n"
      ],
      "text/plain": [
       "<IPython.core.display.HTML object>"
      ]
     },
     "metadata": {},
     "output_type": "display_data"
    },
    {
     "data": {
      "text/html": [
       "<h3>Summary Table for NDCG@10</h3>"
      ],
      "text/plain": [
       "<IPython.core.display.HTML object>"
      ]
     },
     "metadata": {},
     "output_type": "display_data"
    },
    {
     "data": {
      "text/html": [
       "<table>\n",
       "<thead><tr>\n",
       "<th>Algorithm\n",
       "<th>Mean\n",
       "<th>Std Dev\n",
       "<th>10%ile\n",
       "<th>Median\n",
       "<th>90%ile\n",
       "<th>Dist. (KDE)\n",
       "</tr></thead>\n",
       "<tbody>\n",
       "<tr><td>mmr\n",
       "<td>0.581<br><span style=\"font-size: 75%;\">(0.530,0.631)</span></td>\n",
       "<td>0.819<br><span style=\"font-size: 75%;\">(0.733,0.916)</span></td>\n",
       "<td>0.000<br><span style=\"font-size: 75%;\">(0.000,0.000)</span></td>\n",
       "<td>0.387<br><span style=\"font-size: 75%;\">(0.356,0.395)</span></td>\n",
       "<td>1.000<br><span style=\"font-size: 75%;\">(1.000,1.000)</span></td>\n",
       "<td><img src=\"data:image/png;base64,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\"></td>\n",
       "</tr>\n",
       "<tr><td>nrms\n",
       "<td>0.462<br><span style=\"font-size: 75%;\">(0.439,0.485)</span></td>\n",
       "<td>0.372<br><span style=\"font-size: 75%;\">(0.363,0.382)</span></td>\n",
       "<td>0.000<br><span style=\"font-size: 75%;\">(0.000,0.000)</span></td>\n",
       "<td>0.387<br><span style=\"font-size: 75%;\">(0.387,0.431)</span></td>\n",
       "<td>1.000<br><span style=\"font-size: 75%;\">(1.000,1.000)</span></td>\n",
       "<td><img src=\"data:image/png;base64,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\"></td>\n",
       "</tr>\n",
       "<tr><td>nrms_images\n",
       "<td>0.457<br><span style=\"font-size: 75%;\">(0.434,0.480)</span></td>\n",
       "<td>0.370<br><span style=\"font-size: 75%;\">(0.360,0.380)</span></td>\n",
       "<td>0.000<br><span style=\"font-size: 75%;\">(0.000,0.000)</span></td>\n",
       "<td>0.387<br><span style=\"font-size: 75%;\">(0.387,0.431)</span></td>\n",
       "<td>1.000<br><span style=\"font-size: 75%;\">(1.000,1.000)</span></td>\n",
       "<td><img src=\"data:image/png;base64,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\"></td>\n",
       "</tr>\n",
       "<tr><td>nrms_rrf_static_user\n",
       "<td>0.336<br><span style=\"font-size: 75%;\">(0.314,0.358)</span></td>\n",
       "<td>0.358<br><span style=\"font-size: 75%;\">(0.346,0.371)</span></td>\n",
       "<td>0.000<br><span style=\"font-size: 75%;\">(0.000,0.000)</span></td>\n",
       "<td>0.315<br><span style=\"font-size: 75%;\">(0.250,0.333)</span></td>\n",
       "<td>1.000<br><span style=\"font-size: 75%;\">(1.000,1.000)</span></td>\n",
       "<td><img src=\"data:image/png;base64,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\"></td>\n",
       "</tr>\n",
       "<tr><td>nrms_topic_scores\n",
       "<td>0.336<br><span style=\"font-size: 75%;\">(0.314,0.358)</span></td>\n",
       "<td>0.358<br><span style=\"font-size: 75%;\">(0.346,0.371)</span></td>\n",
       "<td>0.000<br><span style=\"font-size: 75%;\">(0.000,0.000)</span></td>\n",
       "<td>0.315<br><span style=\"font-size: 75%;\">(0.250,0.333)</span></td>\n",
       "<td>1.000<br><span style=\"font-size: 75%;\">(1.000,1.000)</span></td>\n",
       "<td><img src=\"data:image/png;base64,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\"></td>\n",
       "</tr>\n",
       "<tr><td>nrms_topics_static\n",
       "<td>0.336<br><span style=\"font-size: 75%;\">(0.314,0.359)</span></td>\n",
       "<td>0.358<br><span style=\"font-size: 75%;\">(0.346,0.371)</span></td>\n",
       "<td>0.000<br><span style=\"font-size: 75%;\">(0.000,0.000)</span></td>\n",
       "<td>0.315<br><span style=\"font-size: 75%;\">(0.250,0.333)</span></td>\n",
       "<td>1.000<br><span style=\"font-size: 75%;\">(1.000,1.000)</span></td>\n",
       "<td><img src=\"data:image/png;base64,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\"></td>\n",
       "</tr>\n",
       "<tr><td>pfar\n",
       "<td>0.452<br><span style=\"font-size: 75%;\">(0.429,0.476)</span></td>\n",
       "<td>0.377<br><span style=\"font-size: 75%;\">(0.367,0.387)</span></td>\n",
       "<td>0.000<br><span style=\"font-size: 75%;\">(0.000,0.000)</span></td>\n",
       "<td>0.387<br><span style=\"font-size: 75%;\">(0.356,0.431)</span></td>\n",
       "<td>1.000<br><span style=\"font-size: 75%;\">(1.000,1.000)</span></td>\n",
       "<td><img src=\"data:image/png;base64,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\"></td>\n",
       "</tr>\n",
       "<tr><td>softmax\n",
       "<td>0.450<br><span style=\"font-size: 75%;\">(0.427,0.472)</span></td>\n",
       "<td>0.367<br><span style=\"font-size: 75%;\">(0.358,0.378)</span></td>\n",
       "<td>0.000<br><span style=\"font-size: 75%;\">(0.000,0.000)</span></td>\n",
       "<td>0.387<br><span style=\"font-size: 75%;\">(0.364,0.431)</span></td>\n",
       "<td>1.000<br><span style=\"font-size: 75%;\">(1.000,1.000)</span></td>\n",
       "<td><img src=\"data:image/png;base64,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\"></td>\n",
       "</tr>\n",
       "<tr><td>topic_cali\n",
       "<td>0.459<br><span style=\"font-size: 75%;\">(0.435,0.482)</span></td>\n",
       "<td>0.373<br><span style=\"font-size: 75%;\">(0.363,0.383)</span></td>\n",
       "<td>0.000<br><span style=\"font-size: 75%;\">(0.000,0.000)</span></td>\n",
       "<td>0.387<br><span style=\"font-size: 75%;\">(0.387,0.431)</span></td>\n",
       "<td>1.000<br><span style=\"font-size: 75%;\">(1.000,1.000)</span></td>\n",
       "<td><img src=\"data:image/png;base64,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\"></td>\n",
       "</tr>\n",
       "</tbody>\n",
       "</table>\n"
      ],
      "text/plain": [
       "<IPython.core.display.HTML object>"
      ]
     },
     "metadata": {},
     "output_type": "display_data"
    },
    {
     "data": {
      "text/html": [
       "<h3>Summary Table for RR</h3>"
      ],
      "text/plain": [
       "<IPython.core.display.HTML object>"
      ]
     },
     "metadata": {},
     "output_type": "display_data"
    },
    {
     "data": {
      "text/html": [
       "<table>\n",
       "<thead><tr>\n",
       "<th>Algorithm\n",
       "<th>Mean\n",
       "<th>Std Dev\n",
       "<th>10%ile\n",
       "<th>Median\n",
       "<th>90%ile\n",
       "<th>Dist. (KDE)\n",
       "</tr></thead>\n",
       "<tbody>\n",
       "<tr><td>mmr\n",
       "<td>0.337<br><span style=\"font-size: 75%;\">(0.314,0.359)</span></td>\n",
       "<td>0.361<br><span style=\"font-size: 75%;\">(0.348,0.375)</span></td>\n",
       "<td>0.000<br><span style=\"font-size: 75%;\">(0.000,0.000)</span></td>\n",
       "<td>0.200<br><span style=\"font-size: 75%;\">(0.167,0.250)</span></td>\n",
       "<td>1.000<br><span style=\"font-size: 75%;\">(1.000,1.000)</span></td>\n",
       "<td><img src=\"data:image/png;base64,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\"></td>\n",
       "</tr>\n",
       "<tr><td>nrms\n",
       "<td>0.347<br><span style=\"font-size: 75%;\">(0.325,0.369)</span></td>\n",
       "<td>0.349<br><span style=\"font-size: 75%;\">(0.336,0.363)</span></td>\n",
       "<td>0.000<br><span style=\"font-size: 75%;\">(0.000,0.000)</span></td>\n",
       "<td>0.250<br><span style=\"font-size: 75%;\">(0.200,0.250)</span></td>\n",
       "<td>1.000<br><span style=\"font-size: 75%;\">(1.000,1.000)</span></td>\n",
       "<td><img src=\"data:image/png;base64,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\"></td>\n",
       "</tr>\n",
       "<tr><td>nrms_images\n",
       "<td>0.345<br><span style=\"font-size: 75%;\">(0.323,0.366)</span></td>\n",
       "<td>0.349<br><span style=\"font-size: 75%;\">(0.336,0.363)</span></td>\n",
       "<td>0.000<br><span style=\"font-size: 75%;\">(0.000,0.000)</span></td>\n",
       "<td>0.250<br><span style=\"font-size: 75%;\">(0.200,0.250)</span></td>\n",
       "<td>1.000<br><span style=\"font-size: 75%;\">(1.000,1.000)</span></td>\n",
       "<td><img src=\"data:image/png;base64,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\"></td>\n",
       "</tr>\n",
       "<tr><td>nrms_rrf_static_user\n",
       "<td>0.236<br><span style=\"font-size: 75%;\">(0.217,0.255)</span></td>\n",
       "<td>0.308<br><span style=\"font-size: 75%;\">(0.292,0.326)</span></td>\n",
       "<td>0.000<br><span style=\"font-size: 75%;\">(0.000,0.000)</span></td>\n",
       "<td>0.125<br><span style=\"font-size: 75%;\">(0.125,0.143)</span></td>\n",
       "<td>1.000<br><span style=\"font-size: 75%;\">(0.500,1.000)</span></td>\n",
       "<td><img src=\"data:image/png;base64,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\"></td>\n",
       "</tr>\n",
       "<tr><td>nrms_topic_scores\n",
       "<td>0.236<br><span style=\"font-size: 75%;\">(0.216,0.255)</span></td>\n",
       "<td>0.308<br><span style=\"font-size: 75%;\">(0.292,0.326)</span></td>\n",
       "<td>0.000<br><span style=\"font-size: 75%;\">(0.000,0.000)</span></td>\n",
       "<td>0.125<br><span style=\"font-size: 75%;\">(0.125,0.143)</span></td>\n",
       "<td>1.000<br><span style=\"font-size: 75%;\">(0.500,1.000)</span></td>\n",
       "<td><img src=\"data:image/png;base64,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\"></td>\n",
       "</tr>\n",
       "<tr><td>nrms_topics_static\n",
       "<td>0.236<br><span style=\"font-size: 75%;\">(0.216,0.255)</span></td>\n",
       "<td>0.308<br><span style=\"font-size: 75%;\">(0.292,0.326)</span></td>\n",
       "<td>0.000<br><span style=\"font-size: 75%;\">(0.000,0.000)</span></td>\n",
       "<td>0.125<br><span style=\"font-size: 75%;\">(0.125,0.143)</span></td>\n",
       "<td>1.000<br><span style=\"font-size: 75%;\">(0.500,1.000)</span></td>\n",
       "<td><img src=\"data:image/png;base64,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\"></td>\n",
       "</tr>\n",
       "<tr><td>pfar\n",
       "<td>0.343<br><span style=\"font-size: 75%;\">(0.322,0.365)</span></td>\n",
       "<td>0.353<br><span style=\"font-size: 75%;\">(0.341,0.367)</span></td>\n",
       "<td>0.000<br><span style=\"font-size: 75%;\">(0.000,0.000)</span></td>\n",
       "<td>0.225<br><span style=\"font-size: 75%;\">(0.200,0.250)</span></td>\n",
       "<td>1.000<br><span style=\"font-size: 75%;\">(1.000,1.000)</span></td>\n",
       "<td><img src=\"data:image/png;base64,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\"></td>\n",
       "</tr>\n",
       "<tr><td>softmax\n",
       "<td>0.330<br><span style=\"font-size: 75%;\">(0.309,0.351)</span></td>\n",
       "<td>0.338<br><span style=\"font-size: 75%;\">(0.325,0.353)</span></td>\n",
       "<td>0.000<br><span style=\"font-size: 75%;\">(0.000,0.000)</span></td>\n",
       "<td>0.200<br><span style=\"font-size: 75%;\">(0.200,0.250)</span></td>\n",
       "<td>1.000<br><span style=\"font-size: 75%;\">(1.000,1.000)</span></td>\n",
       "<td><img src=\"data:image/png;base64,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\"></td>\n",
       "</tr>\n",
       "<tr><td>topic_cali\n",
       "<td>0.348<br><span style=\"font-size: 75%;\">(0.326,0.370)</span></td>\n",
       "<td>0.353<br><span style=\"font-size: 75%;\">(0.340,0.367)</span></td>\n",
       "<td>0.000<br><span style=\"font-size: 75%;\">(0.000,0.000)</span></td>\n",
       "<td>0.250<br><span style=\"font-size: 75%;\">(0.200,0.250)</span></td>\n",
       "<td>1.000<br><span style=\"font-size: 75%;\">(1.000,1.000)</span></td>\n",
       "<td><img src=\"data:image/png;base64,iVBORw0KGgoAAAANSUhEUgAAASwAAAAZCAYAAACLvRPfAAAAOnRFWHRTb2Z0d2FyZQBNYXRwbG90bGliIHZlcnNpb24zLjEwLjEsIGh0dHBzOi8vbWF0cGxvdGxpYi5vcmcvc2/+5QAAAAlwSFlzAAAPYQAAD2EBqD+naQAABk9JREFUeJztnMlOFF0Yhl8EFXEAJxQFATWAM86SiMoFuDHuvQMNOxO3XoB6HUZX7lyg6M5Zo/ygMggyqTihgGCb54TTf9lUM6l0dfM9yZtT3TRDN91vfdOprFgsFpNhGEYasCDVf4BhGMZ0McMyDCNtyPmTb/7586devXqlx48fO718+VJv3rxRR0eH3r59q7GxMaWarKwsrVixQmvWrIlr7dq1bl23bp02btyo4uJit27YsEG5ubmp/pMNw0hC1kxrWDdu3HB69OiRnj59qq9fvyZ9bE5OjoqKirRq1Srl5+f/pry8PC1cuNA9xq/IG2FQP3780MjIiNPw8HB8/f79u759+xYXt798+aLPnz/r06dPGh0d1UzByMrLy7VlyxZt3rzZrWjr1q3O0DBAwzDSxLDq6+t16dKl+O3Fixdr165d2rNnj6qqqrRp0yankpISrV+/XtnZ2UoFPK2hoSFnXB8/ftT79+/17t079ff3x9eenh51dXU5dXZ2usdPBpEaz3Hbtm1x8dxLS0u1YIFl14YROcO6efOmEwaFKioq4pFROsPLMDAw4FLa1tZWl+qi169fu5X7kqW4y5cvd8a1e/fuuHhtli1bNufPwzAymRkb1nyFNJQa3fPnz/XixQsnf8zXEiF1JI3cu3evqqur4ytR56zALBsbpe5uqahIqq2VUhS9GkaqMMP6Q6ivNTc368mTJ06+AUHTIQwMC/MKGhm1sklTymvXpHPnpM7O/+8rLpYuX5ZOnfoHz8owookZ1j+ir6/PNSbQw4cPnTC2sJebBsTOnTtdKulTy+3bt7tuZtb169Lp0+Ssv3+TL/5fvWqmZcwbzLDmkMHBQReFBU3s2bNnSYv9K1euVNXgoKpGRlQlqUJS2bgKvGkRabW2WnpoRBpshi6+P0HPFjOsFEMhn9oYRsaYiE8t29raQqMxT76k0nHzKjp5UoXV1W6urLCw0InxDJoBXpnQGDGiByNEvjHF6kUXnpGnoHg/X7hwQRcvXpz17zPDiiicjVquXFHT+fNqkvSfpGZJ7ZL6Z/HzGIjFuBhDWbRokZt98yuihoZoFvhjRlIQZudXHrtkyRJ3lvQrKigo0OrVq51R+hXx+4zMYGBgQPfv33e6d++eW+mez4SzZ8/qMrXXWWKGFWUaGqS6ugl3D0rqkNQ2rt4zZ9SXl+fqZr29vW5l7owh2rAO5lxC1Mecmp/P45juKTNs3E7VnJ4xOdgCkVJjY2NcLS0toY+l1krjKCgGxhnrSRQntz/5n5thRRlGGcrKpK6uiUX3adawMCyMy8vvGPC7B1gRb4Pg7gJSVVZ2C3CMOOaxwR0GHFOb4+yLSfoBXdaptmYR9THH54dw/WxfWVmZ7SiYY2KxmJqamnTr1i2n27dvh3a6MaMDBw5o//79Tvv27XO11rnCDCvqMNJAlxCC/6qIdwl5W2Fa7Cv1am9vd6JbithelWxHgR++ZeyDD8WOHTtcCmv8HTgZMUOIMTU0NDgRmQch/T948KBqa2t17NgxHTlyxG2zSyVmWOlA2BxWSYnEFqkImtV0IPqiscCHhjM73VLm1xjGDUtj+fAw+uENDDPD1DA3Y2o4OVBzunPnjtPdu3f14cOHCRFvTU2Njh8/7nT48GFXp4wSZljpwjyZdCflxMAwr+D4BylnGKQoDOBiYMywMb/GZvX53BUdHR11JwJfHEe8lokRLWZE1FRXV6cTJ07o0KFDkW+SmGEZkYe3KKkkxvXgwQO3YmhsWA+D1JHaGOZFbSx45Q2aAJlSHxsbj1KD28UQYzF+5imxOH706NG4iFaJXNMJMywjbaFG5rdCEUHwwUU0A5JBlwrzokPJ5YKCorPFSAZiBCSVxkY05K8qgriiSEegFujXZHVAOnIUxX2BnJXubLqbtRmWkXHFZD7M3rxIL/0wI1fi4OvTgdY7BWbMizrZ0qVLnTACVoyPSC5xpi1sT2jiNd28MFY6twxV+pXLIWFU3J4Oubm5qqysnHDJIyLMTLzkkRmWMW/AJIhKmMr210Gjde/V3d3tCtFTXRdtrsA0/RVyif5KE+bZ/O35NMtmhmUYCVD/wbiQH8Bl1owIiNUrcZaN47CPE2lYWDRGlOa3ThG5sQYv583ugXRP4f42ZliGYaQNmZfkGoahTOUXwEcRCHA9X4oAAAAASUVORK5CYII=\"></td>\n",
       "</tr>\n",
       "</tbody>\n",
       "</table>\n"
      ],
      "text/plain": [
       "<IPython.core.display.HTML object>"
      ]
     },
     "metadata": {},
     "output_type": "display_data"
    }
   ],
   "source": [
    "for metric in effectiveness_metrics:\n",
    "    tw = EvalTable(mind_subset_user_metrics, \"pipeline\", metric)\n",
    "    tw.add_stat(\"Mean\", np.mean, ci=True)\n",
    "    tw.add_stat(\"Std Dev\", np.std, ci=True)\n",
    "    tw.add_quantiles([\"10%ile\", \"Median\", \"90%ile\"], [0.1, 0.5, 0.9], ci=True)\n",
    "    display(HTML(f\"<h3>Summary Table for {metric}</h3>\"))\n",
    "    display(HTML(tw.html_table()))"
   ]
  },
  {
   "cell_type": "markdown",
   "id": "8f2085ad",
   "metadata": {
    "papermill": {
     "duration": 0.006482,
     "end_time": "2025-05-02T16:18:37.119991",
     "exception": false,
     "start_time": "2025-05-02T16:18:37.113509",
     "status": "completed"
    },
    "tags": []
   },
   "source": [
    "### Ranking Overlap Metrics\n",
    "RBO measures the similarity between two ranked lists, evaluating how much overlap exists between pure top-k recommendations and the actual rankings produced after recommendations. RBO can be applied at different list depths to analyze performance consistency, such as RBO@5 and RBO@10."
   ]
  },
  {
   "cell_type": "code",
   "execution_count": 9,
   "id": "e814150d",
   "metadata": {
    "execution": {
     "iopub.execute_input": "2025-05-02T16:18:37.134935Z",
     "iopub.status.busy": "2025-05-02T16:18:37.134827Z",
     "iopub.status.idle": "2025-05-02T16:18:37.400087Z",
     "shell.execute_reply": "2025-05-02T16:18:37.399815Z"
    },
    "papermill": {
     "duration": 0.273378,
     "end_time": "2025-05-02T16:18:37.400833",
     "exception": false,
     "start_time": "2025-05-02T16:18:37.127455",
     "status": "completed"
    },
    "tags": []
   },
   "outputs": [
    {
     "data": {
      "image/png": "[encoded data removed]",
      "text/plain": [
       "<Figure size 800x300 with 2 Axes>"
      ]
     },
     "metadata": {},
     "output_type": "display_data"
    }
   ],
   "source": [
    "plt.figure(figsize=(8, 3))\n",
    "plt.subplots_adjust(wspace=0.3)\n",
    "\n",
    "for i, metric in enumerate(overlap_metrics, 1):\n",
    "    plt.subplot(1, 2, i)\n",
    "    sns.barplot(data=mind_subset_user_metrics, x=\"pipeline\", y=metric)\n",
    "    plt.xticks(rotation=45)\n",
    "\n",
    "plt.show()"
   ]
  },
  {
   "cell_type": "markdown",
   "id": "0004c224",
   "metadata": {
    "papermill": {
     "duration": 0.013256,
     "end_time": "2025-05-02T16:18:37.426734",
     "exception": false,
     "start_time": "2025-05-02T16:18:37.413478",
     "status": "completed"
    },
    "tags": []
   },
   "source": [
    "The summary tables show the mean values, standard deviation, and quantiles (10%ile, Median, 90%ile), each accompanied by their respective 95% confidence intervals for ranking overlap metrics across recommenders."
   ]
  },
  {
   "cell_type": "code",
   "execution_count": 10,
   "id": "39273d26",
   "metadata": {
    "execution": {
     "iopub.execute_input": "2025-05-02T16:18:37.443654Z",
     "iopub.status.busy": "2025-05-02T16:18:37.443531Z",
     "iopub.status.idle": "2025-05-02T16:18:49.815970Z",
     "shell.execute_reply": "2025-05-02T16:18:49.815676Z"
    },
    "papermill": {
     "duration": 12.382713,
     "end_time": "2025-05-02T16:18:49.816702",
     "exception": false,
     "start_time": "2025-05-02T16:18:37.433989",
     "status": "completed"
    },
    "tags": []
   },
   "outputs": [
    {
     "data": {
      "text/html": [
       "<h3>Summary Table for RBO@5</h3>"
      ],
      "text/plain": [
       "<IPython.core.display.HTML object>"
      ]
     },
     "metadata": {},
     "output_type": "display_data"
    },
    {
     "data": {
      "text/html": [
       "<table>\n",
       "<thead><tr>\n",
       "<th>Algorithm\n",
       "<th>Mean\n",
       "<th>Std Dev\n",
       "<th>10%ile\n",
       "<th>Median\n",
       "<th>90%ile\n",
       "<th>Dist. (KDE)\n",
       "</tr></thead>\n",
       "<tbody>\n",
       "<tr><td>mmr\n",
       "<td>0.301<br><span style=\"font-size: 75%;\">(0.296,0.306)</span></td>\n",
       "<td>0.076<br><span style=\"font-size: 75%;\">(0.069,0.082)</span></td>\n",
       "<td>0.235<br><span style=\"font-size: 75%;\">(0.230,0.235)</span></td>\n",
       "<td>0.307<br><span style=\"font-size: 75%;\">(0.306,0.307)</span></td>\n",
       "<td>0.383<br><span style=\"font-size: 75%;\">(0.378,0.392)</span></td>\n",
       "<td><img src=\"data:image/png;base64,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\"></td>\n",
       "</tr>\n",
       "<tr><td>nrms\n",
       "<td>0.000<br><span style=\"font-size: 75%;\">(0.000,0.000)</span></td>\n",
       "<td>0.000<br><span style=\"font-size: 75%;\">(0.000,0.000)</span></td>\n",
       "<td>0.000<br><span style=\"font-size: 75%;\">(0.000,0.000)</span></td>\n",
       "<td>0.000<br><span style=\"font-size: 75%;\">(0.000,0.000)</span></td>\n",
       "<td>0.000<br><span style=\"font-size: 75%;\">(0.000,0.000)</span></td>\n",
       "<td></td>\n",
       "</tr>\n",
       "<tr><td>nrms_images\n",
       "<td>0.000<br><span style=\"font-size: 75%;\">(0.000,0.000)</span></td>\n",
       "<td>0.000<br><span style=\"font-size: 75%;\">(0.000,0.000)</span></td>\n",
       "<td>0.000<br><span style=\"font-size: 75%;\">(0.000,0.000)</span></td>\n",
       "<td>0.000<br><span style=\"font-size: 75%;\">(0.000,0.000)</span></td>\n",
       "<td>0.000<br><span style=\"font-size: 75%;\">(0.000,0.000)</span></td>\n",
       "<td></td>\n",
       "</tr>\n",
       "<tr><td>nrms_rrf_static_user\n",
       "<td>0.000<br><span style=\"font-size: 75%;\">(0.000,0.000)</span></td>\n",
       "<td>0.000<br><span style=\"font-size: 75%;\">(0.000,0.000)</span></td>\n",
       "<td>0.000<br><span style=\"font-size: 75%;\">(0.000,0.000)</span></td>\n",
       "<td>0.000<br><span style=\"font-size: 75%;\">(0.000,0.000)</span></td>\n",
       "<td>0.000<br><span style=\"font-size: 75%;\">(0.000,0.000)</span></td>\n",
       "<td></td>\n",
       "</tr>\n",
       "<tr><td>nrms_topic_scores\n",
       "<td>0.000<br><span style=\"font-size: 75%;\">(0.000,0.000)</span></td>\n",
       "<td>0.000<br><span style=\"font-size: 75%;\">(0.000,0.000)</span></td>\n",
       "<td>0.000<br><span style=\"font-size: 75%;\">(0.000,0.000)</span></td>\n",
       "<td>0.000<br><span style=\"font-size: 75%;\">(0.000,0.000)</span></td>\n",
       "<td>0.000<br><span style=\"font-size: 75%;\">(0.000,0.000)</span></td>\n",
       "<td></td>\n",
       "</tr>\n",
       "<tr><td>nrms_topics_static\n",
       "<td>0.000<br><span style=\"font-size: 75%;\">(0.000,0.000)</span></td>\n",
       "<td>0.000<br><span style=\"font-size: 75%;\">(0.000,0.000)</span></td>\n",
       "<td>0.000<br><span style=\"font-size: 75%;\">(0.000,0.000)</span></td>\n",
       "<td>0.000<br><span style=\"font-size: 75%;\">(0.000,0.000)</span></td>\n",
       "<td>0.000<br><span style=\"font-size: 75%;\">(0.000,0.000)</span></td>\n",
       "<td></td>\n",
       "</tr>\n",
       "<tr><td>pfar\n",
       "<td>0.389<br><span style=\"font-size: 75%;\">(0.384,0.394)</span></td>\n",
       "<td>0.078<br><span style=\"font-size: 75%;\">(0.067,0.089)</span></td>\n",
       "<td>0.396<br><span style=\"font-size: 75%;\">(0.307,0.396)</span></td>\n",
       "<td>0.410<br><span style=\"font-size: 75%;\">(0.410,0.410)</span></td>\n",
       "<td>0.410<br><span style=\"font-size: 75%;\">(0.410,0.410)</span></td>\n",
       "<td><img src=\"data:image/png;base64,iVBORw0KGgoAAAANSUhEUgAAASwAAAAZCAYAAACLvRPfAAAAOnRFWHRTb2Z0d2FyZQBNYXRwbG90bGliIHZlcnNpb24zLjEwLjEsIGh0dHBzOi8vbWF0cGxvdGxpYi5vcmcvc2/+5QAAAAlwSFlzAAAPYQAAD2EBqD+naQAABNxJREFUeJztnFssZEkYx//tfr+N24TIGC+CZB6WIG6ZFxEbERNCQohgE29r0g+WsPuCBJuQ4Gk9WEz2oU1CIutFYtIPGwSxISTt8jDDuNNM4tp68xWnQy+zPcb05ez3SypVSp3uT5XzP199p6oUer1eD4ZhGBvAztIGMAzDmAoLFsMwNgML1v+E0tJSKBQKeHp6YnFx0dLmMMyDUHAMS/4MDQ0hOzvb8HNkZCQmJiaEeDGMLcEelszZ2dlBRUWFKJeVlSEkJER4WORx8bOKsTVYsOSITgeMjUH/5g0qc3OxtbWF6OhodHR0QKVSwdHREQMDA2htbbW0pQzzRbBgyY23b4Fnz4CXL/FHYSFU797BAUBPSQlcXFyQkJCA9vZ20bS6uhqjo6OWtphhTIZjWHITq9xcQK/HOoAYAPsAfgHws0IBqFTAq1diKkhTwp6eHvj7+2NqagphYWGWtp5h/hMWLDlNA8mz+vABNKDfA/gTwHcA/gLgSIIVGgqsrgL29jg+PkZSUhJmZmYQFxcHtVoNZ2dnS/8VDPNZeEooF9RqIVbEb9diRfLzO4kVVdJz6f37q3YAXF1dRRzLz88Pk5OTaG5utqz9DGMCLFhy4eNHka0CeH1d1QAg6p52RHh4ODo7O6/aNjRAo9GYy1qGeRAsWHLh6VNc0gJRAJ8ApAD48Z52N8nPz0d6ejpOT09RWVnJSx0Yq4ZjWHJBp0Pbkyeo0mrhDuBvAM9v/t4ohnWT5eVlxMTE4OTkBH19fSgsLDS39QxjEuxhyYRFjQY/HR+L8q93iRXR1vYvsSIiIiJQV1cnylVVVdjb2zOLzQzzpbBgyYCLiwuUlJTg5OwM6S9e4IeQkNsNyLO6XtJwH0qlElFRUdje3hbrsxjGGuEpoQxobGxEbW0tvL29MTc3h1CKU9HbQAqwUzkl5U7Pyhha2pCammooJycnm8F6hjEdFiwbZ3Z2VqyjOj8/R29vL4qKir7q88rLy9Hd3S228kxPT8PJyenRbGWYr4WnhDbM0tISiouLhVjl5OQ8SrCc1mMFBARgfn5ebJbmo2gYm/aw1tfXodVq4eXlJY4n8fDwgJ0d697noC7e398Xm5A3NzdFksq0nIC2xxgnWtDp4+MDBwfaCXjF5eUlxsfHxXExg4ODWFhYEPUkMDQVDAwMfBR7+/v7b3lqNDUkzysvLw9ubm6P8h0MYxbBqqmpQVNT0606Ei4SMEoUR6FENxvlVEenA9CNZ29vb8hJ5OhAOWGE9BbLqGxNSN10s7uoTAHvs7Mz4eVI6ejoSIjRxsaGQaCozUOgvvX19RVJ+jwJ6su0tDSx6DM+Ph6PycjICLq6ujA8PCyEkqCxzMrKEmNL23hoMzXllGhM78Jax5OxDLGxseJ/1myCVV9fL1ZHHx4eipuVMR0S8KCgIEMij4hu9t3dXXFuFSV6S0c5id5dkGhkZmaKA/kyMjKEeHxL1tbWxCZpimutrKx80+9i5I9SqURLS4v5g+50GS00JOGim4umiVSm/ODgQORSHQmblHQ6ncilp7bxZ1ozd3mE5OWQByklClK7u7sLQQoODjbkJE7kkZgK9RH1I00lpUTXJyYmWiQQTuM1NjYmpqQ07pRoOivltjiejPmhh21BQcGDr+e3hAzD2AwcLWcYBrbCP3PaEcZN3nUhAAAAAElFTkSuQmCC\"></td>\n",
       "</tr>\n",
       "<tr><td>softmax\n",
       "<td>0.283<br><span style=\"font-size: 75%;\">(0.277,0.290)</span></td>\n",
       "<td>0.103<br><span style=\"font-size: 75%;\">(0.099,0.108)</span></td>\n",
       "<td>0.143<br><span style=\"font-size: 75%;\">(0.130,0.148)</span></td>\n",
       "<td>0.307<br><span style=\"font-size: 75%;\">(0.301,0.307)</span></td>\n",
       "<td>0.396<br><span style=\"font-size: 75%;\">(0.396,0.410)</span></td>\n",
       "<td><img src=\"data:image/png;base64,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\"></td>\n",
       "</tr>\n",
       "<tr><td>topic_cali\n",
       "<td>0.389<br><span style=\"font-size: 75%;\">(0.384,0.394)</span></td>\n",
       "<td>0.078<br><span style=\"font-size: 75%;\">(0.067,0.089)</span></td>\n",
       "<td>0.396<br><span style=\"font-size: 75%;\">(0.307,0.396)</span></td>\n",
       "<td>0.410<br><span style=\"font-size: 75%;\">(0.410,0.410)</span></td>\n",
       "<td>0.410<br><span style=\"font-size: 75%;\">(0.410,0.410)</span></td>\n",
       "<td><img src=\"data:image/png;base64,iVBORw0KGgoAAAANSUhEUgAAASwAAAAZCAYAAACLvRPfAAAAOnRFWHRTb2Z0d2FyZQBNYXRwbG90bGliIHZlcnNpb24zLjEwLjEsIGh0dHBzOi8vbWF0cGxvdGxpYi5vcmcvc2/+5QAAAAlwSFlzAAAPYQAAD2EBqD+naQAABNxJREFUeJztnFssZEkYx//tfr+N24TIGC+CZB6WIG6ZFxEbERNCQohgE29r0g+WsPuCBJuQ4Gk9WEz2oU1CIutFYtIPGwSxISTt8jDDuNNM4tp68xWnQy+zPcb05ez3SypVSp3uT5XzP199p6oUer1eD4ZhGBvAztIGMAzDmAoLFsMwNgML1v+E0tJSKBQKeHp6YnFx0dLmMMyDUHAMS/4MDQ0hOzvb8HNkZCQmJiaEeDGMLcEelszZ2dlBRUWFKJeVlSEkJER4WORx8bOKsTVYsOSITgeMjUH/5g0qc3OxtbWF6OhodHR0QKVSwdHREQMDA2htbbW0pQzzRbBgyY23b4Fnz4CXL/FHYSFU797BAUBPSQlcXFyQkJCA9vZ20bS6uhqjo6OWtphhTIZjWHITq9xcQK/HOoAYAPsAfgHws0IBqFTAq1diKkhTwp6eHvj7+2NqagphYWGWtp5h/hMWLDlNA8mz+vABNKDfA/gTwHcA/gLgSIIVGgqsrgL29jg+PkZSUhJmZmYQFxcHtVoNZ2dnS/8VDPNZeEooF9RqIVbEb9diRfLzO4kVVdJz6f37q3YAXF1dRRzLz88Pk5OTaG5utqz9DGMCLFhy4eNHka0CeH1d1QAg6p52RHh4ODo7O6/aNjRAo9GYy1qGeRAsWHLh6VNc0gJRAJ8ApAD48Z52N8nPz0d6ejpOT09RWVnJSx0Yq4ZjWHJBp0Pbkyeo0mrhDuBvAM9v/t4ohnWT5eVlxMTE4OTkBH19fSgsLDS39QxjEuxhyYRFjQY/HR+L8q93iRXR1vYvsSIiIiJQV1cnylVVVdjb2zOLzQzzpbBgyYCLiwuUlJTg5OwM6S9e4IeQkNsNyLO6XtJwH0qlElFRUdje3hbrsxjGGuEpoQxobGxEbW0tvL29MTc3h1CKU9HbQAqwUzkl5U7Pyhha2pCammooJycnm8F6hjEdFiwbZ3Z2VqyjOj8/R29vL4qKir7q88rLy9Hd3S228kxPT8PJyenRbGWYr4WnhDbM0tISiouLhVjl5OQ8SrCc1mMFBARgfn5ebJbmo2gYm/aw1tfXodVq4eXlJY4n8fDwgJ0d697noC7e398Xm5A3NzdFksq0nIC2xxgnWtDp4+MDBwfaCXjF5eUlxsfHxXExg4ODWFhYEPUkMDQVDAwMfBR7+/v7b3lqNDUkzysvLw9ubm6P8h0MYxbBqqmpQVNT0606Ei4SMEoUR6FENxvlVEenA9CNZ29vb8hJ5OhAOWGE9BbLqGxNSN10s7uoTAHvs7Mz4eVI6ejoSIjRxsaGQaCozUOgvvX19RVJ+jwJ6su0tDSx6DM+Ph6PycjICLq6ujA8PCyEkqCxzMrKEmNL23hoMzXllGhM78Jax5OxDLGxseJ/1myCVV9fL1ZHHx4eipuVMR0S8KCgIEMij4hu9t3dXXFuFSV6S0c5id5dkGhkZmaKA/kyMjKEeHxL1tbWxCZpimutrKx80+9i5I9SqURLS4v5g+50GS00JOGim4umiVSm/ODgQORSHQmblHQ6ncilp7bxZ1ozd3mE5OWQByklClK7u7sLQQoODjbkJE7kkZgK9RH1I00lpUTXJyYmWiQQTuM1NjYmpqQ07pRoOivltjiejPmhh21BQcGDr+e3hAzD2AwcLWcYBrbCP3PaEcZN3nUhAAAAAElFTkSuQmCC\"></td>\n",
       "</tr>\n",
       "</tbody>\n",
       "</table>\n"
      ],
      "text/plain": [
       "<IPython.core.display.HTML object>"
      ]
     },
     "metadata": {},
     "output_type": "display_data"
    },
    {
     "data": {
      "text/html": [
       "<h3>Summary Table for RBO@10</h3>"
      ],
      "text/plain": [
       "<IPython.core.display.HTML object>"
      ]
     },
     "metadata": {},
     "output_type": "display_data"
    },
    {
     "data": {
      "text/html": [
       "<table>\n",
       "<thead><tr>\n",
       "<th>Algorithm\n",
       "<th>Mean\n",
       "<th>Std Dev\n",
       "<th>10%ile\n",
       "<th>Median\n",
       "<th>90%ile\n",
       "<th>Dist. (KDE)\n",
       "</tr></thead>\n",
       "<tbody>\n",
       "<tr><td>mmr\n",
       "<td>0.468<br><span style=\"font-size: 75%;\">(0.460,0.475)</span></td>\n",
       "<td>0.118<br><span style=\"font-size: 75%;\">(0.108,0.128)</span></td>\n",
       "<td>0.369<br><span style=\"font-size: 75%;\">(0.357,0.371)</span></td>\n",
       "<td>0.493<br><span style=\"font-size: 75%;\">(0.484,0.498)</span></td>\n",
       "<td>0.579<br><span style=\"font-size: 75%;\">(0.571,0.587)</span></td>\n",
       "<td><img src=\"data:image/png;base64,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\"></td>\n",
       "</tr>\n",
       "<tr><td>nrms\n",
       "<td>0.000<br><span style=\"font-size: 75%;\">(0.000,0.000)</span></td>\n",
       "<td>0.000<br><span style=\"font-size: 75%;\">(0.000,0.000)</span></td>\n",
       "<td>0.000<br><span style=\"font-size: 75%;\">(0.000,0.000)</span></td>\n",
       "<td>0.000<br><span style=\"font-size: 75%;\">(0.000,0.000)</span></td>\n",
       "<td>0.000<br><span style=\"font-size: 75%;\">(0.000,0.000)</span></td>\n",
       "<td></td>\n",
       "</tr>\n",
       "<tr><td>nrms_images\n",
       "<td>0.000<br><span style=\"font-size: 75%;\">(0.000,0.000)</span></td>\n",
       "<td>0.000<br><span style=\"font-size: 75%;\">(0.000,0.000)</span></td>\n",
       "<td>0.000<br><span style=\"font-size: 75%;\">(0.000,0.000)</span></td>\n",
       "<td>0.000<br><span style=\"font-size: 75%;\">(0.000,0.000)</span></td>\n",
       "<td>0.000<br><span style=\"font-size: 75%;\">(0.000,0.000)</span></td>\n",
       "<td></td>\n",
       "</tr>\n",
       "<tr><td>nrms_rrf_static_user\n",
       "<td>0.000<br><span style=\"font-size: 75%;\">(0.000,0.000)</span></td>\n",
       "<td>0.000<br><span style=\"font-size: 75%;\">(0.000,0.000)</span></td>\n",
       "<td>0.000<br><span style=\"font-size: 75%;\">(0.000,0.000)</span></td>\n",
       "<td>0.000<br><span style=\"font-size: 75%;\">(0.000,0.000)</span></td>\n",
       "<td>0.000<br><span style=\"font-size: 75%;\">(0.000,0.000)</span></td>\n",
       "<td></td>\n",
       "</tr>\n",
       "<tr><td>nrms_topic_scores\n",
       "<td>0.000<br><span style=\"font-size: 75%;\">(0.000,0.000)</span></td>\n",
       "<td>0.000<br><span style=\"font-size: 75%;\">(0.000,0.000)</span></td>\n",
       "<td>0.000<br><span style=\"font-size: 75%;\">(0.000,0.000)</span></td>\n",
       "<td>0.000<br><span style=\"font-size: 75%;\">(0.000,0.000)</span></td>\n",
       "<td>0.000<br><span style=\"font-size: 75%;\">(0.000,0.000)</span></td>\n",
       "<td></td>\n",
       "</tr>\n",
       "<tr><td>nrms_topics_static\n",
       "<td>0.000<br><span style=\"font-size: 75%;\">(0.000,0.000)</span></td>\n",
       "<td>0.000<br><span style=\"font-size: 75%;\">(0.000,0.000)</span></td>\n",
       "<td>0.000<br><span style=\"font-size: 75%;\">(0.000,0.000)</span></td>\n",
       "<td>0.000<br><span style=\"font-size: 75%;\">(0.000,0.000)</span></td>\n",
       "<td>0.000<br><span style=\"font-size: 75%;\">(0.000,0.000)</span></td>\n",
       "<td></td>\n",
       "</tr>\n",
       "<tr><td>pfar\n",
       "<td>0.604<br><span style=\"font-size: 75%;\">(0.596,0.612)</span></td>\n",
       "<td>0.133<br><span style=\"font-size: 75%;\">(0.119,0.150)</span></td>\n",
       "<td>0.525<br><span style=\"font-size: 75%;\">(0.371,0.525)</span></td>\n",
       "<td>0.651<br><span style=\"font-size: 75%;\">(0.651,0.651)</span></td>\n",
       "<td>0.651<br><span style=\"font-size: 75%;\">(0.651,0.651)</span></td>\n",
       "<td><img src=\"data:image/png;base64,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\"></td>\n",
       "</tr>\n",
       "<tr><td>softmax\n",
       "<td>0.475<br><span style=\"font-size: 75%;\">(0.467,0.484)</span></td>\n",
       "<td>0.138<br><span style=\"font-size: 75%;\">(0.128,0.147)</span></td>\n",
       "<td>0.326<br><span style=\"font-size: 75%;\">(0.307,0.346)</span></td>\n",
       "<td>0.502<br><span style=\"font-size: 75%;\">(0.489,0.519)</span></td>\n",
       "<td>0.618<br><span style=\"font-size: 75%;\">(0.611,0.624)</span></td>\n",
       "<td><img src=\"data:image/png;base64,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\"></td>\n",
       "</tr>\n",
       "<tr><td>topic_cali\n",
       "<td>0.604<br><span style=\"font-size: 75%;\">(0.596,0.612)</span></td>\n",
       "<td>0.133<br><span style=\"font-size: 75%;\">(0.118,0.150)</span></td>\n",
       "<td>0.525<br><span style=\"font-size: 75%;\">(0.371,0.525)</span></td>\n",
       "<td>0.651<br><span style=\"font-size: 75%;\">(0.651,0.651)</span></td>\n",
       "<td>0.651<br><span style=\"font-size: 75%;\">(0.651,0.651)</span></td>\n",
       "<td><img src=\"data:image/png;base64,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\"></td>\n",
       "</tr>\n",
       "</tbody>\n",
       "</table>\n"
      ],
      "text/plain": [
       "<IPython.core.display.HTML object>"
      ]
     },
     "metadata": {},
     "output_type": "display_data"
    }
   ],
   "source": [
    "for metric in overlap_metrics:\n",
    "    tw = EvalTable(mind_subset_user_metrics, \"pipeline\", metric)\n",
    "    tw.add_stat(\"Mean\", np.mean, ci=True)\n",
    "    tw.add_stat(\"Std Dev\", np.std, ci=True)\n",
    "    tw.add_quantiles([\"10%ile\", \"Median\", \"90%ile\"], [0.1, 0.5, 0.9], ci=True)\n",
    "    display(HTML(f\"<h3>Summary Table for {metric}</h3>\"))\n",
    "    display(HTML(tw.html_table()))"
   ]
  }
 ],
 "metadata": {
  "jupytext": {
   "formats": "ipynb,md:myst"
  },
  "kernelspec": {
   "display_name": "Python 3 (ipykernel)",
   "language": "python",
   "name": "python3"
  },
  "language_info": {
   "codemirror_mode": {
    "name": "ipython",
    "version": 3
   },
   "file_extension": ".py",
   "mimetype": "text/x-python",
   "name": "python",
   "nbconvert_exporter": "python",
   "pygments_lexer": "ipython3",
   "version": "3.12.10"
  },
  "papermill": {
   "default_parameters": {},
   "duration": 40.572219,
   "end_time": "2025-05-02T16:18:50.047158",
   "environment_variables": {},
   "exception": null,
   "input_path": "basic-eval-template.ipynb",
   "output_path": "mind-subset.ipynb",
   "parameters": {
    "EVAL_NAME": "mind-subset"
   },
   "start_time": "2025-05-02T16:18:09.474939",
   "version": "2.6.0"
  }
 },
 "nbformat": 4,
 "nbformat_minor": 5
}
