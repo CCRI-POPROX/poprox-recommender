{
 "cells": [
  {
   "cell_type": "markdown",
   "id": "76fd0221",
   "metadata": {
    "papermill": {
     "duration": 0.010599,
     "end_time": "2025-06-10T17:36:14.620574",
     "exception": false,
     "start_time": "2025-06-10T17:36:14.609975",
     "status": "completed"
    },
    "tags": []
   },
   "source": [
    "# Offline Evaluation Metrics Visualizations\n",
    "\n",
    "This notebook visualizes user-specific performance metrics of various recommenders in the mind-subset dataset to assess effectiveness and ranking overlap. We explore two metric groups:\n",
    "\n",
    "1. **Effectiveness Metrics**: We use ranking-based metrics, Normalized Discounted Cumulative Gain (NDCG) and Reciprocal Rank (RR), to evaluate recommender effectiveness.\n",
    "2. **Ranking Overlap Metrics**: We use Rank-Based Overlap (RBO) to assess consistency in top-k recommendations relative to final rankings.\n",
    "\n",
    "> [!NOTE]\n",
    "> This is a *parameterized* notebook, and is used to render the other specific evaluation notebooks with [Papermill](https://papermill.readthedocs.io/en/latest/).  By default, it displays\n",
    "> the MIND Subset results, for easy editing."
   ]
  },
  {
   "cell_type": "code",
   "execution_count": 1,
   "id": "e82acae8",
   "metadata": {
    "execution": {
     "iopub.execute_input": "2025-06-10T17:36:14.623502Z",
     "iopub.status.busy": "2025-06-10T17:36:14.623378Z",
     "iopub.status.idle": "2025-06-10T17:36:14.625925Z",
     "shell.execute_reply": "2025-06-10T17:36:14.625570Z"
    },
    "papermill": {
     "duration": 0.004546,
     "end_time": "2025-06-10T17:36:14.626359",
     "exception": false,
     "start_time": "2025-06-10T17:36:14.621813",
     "status": "completed"
    },
    "tags": [
     "parameters"
    ]
   },
   "outputs": [],
   "source": [
    "EVAL_NAME = \"mind-subset\""
   ]
  },
  {
   "cell_type": "code",
   "execution_count": 2,
   "id": "20ea5f43",
   "metadata": {
    "execution": {
     "iopub.execute_input": "2025-06-10T17:36:14.628808Z",
     "iopub.status.busy": "2025-06-10T17:36:14.628686Z",
     "iopub.status.idle": "2025-06-10T17:36:14.630576Z",
     "shell.execute_reply": "2025-06-10T17:36:14.630312Z"
    },
    "papermill": {
     "duration": 0.003642,
     "end_time": "2025-06-10T17:36:14.630976",
     "exception": false,
     "start_time": "2025-06-10T17:36:14.627334",
     "status": "completed"
    },
    "tags": [
     "injected-parameters"
    ]
   },
   "outputs": [],
   "source": [
    "# Parameters\n",
    "EVAL_NAME = \"mind-subset\"\n"
   ]
  },
  {
   "cell_type": "markdown",
   "id": "c2641056",
   "metadata": {
    "papermill": {
     "duration": 0.000973,
     "end_time": "2025-06-10T17:36:14.632949",
     "exception": false,
     "start_time": "2025-06-10T17:36:14.631976",
     "status": "completed"
    },
    "tags": []
   },
   "source": [
    "## Setup"
   ]
  },
  {
   "cell_type": "markdown",
   "id": "046f2a64",
   "metadata": {
    "papermill": {
     "duration": 0.000914,
     "end_time": "2025-06-10T17:36:14.634843",
     "exception": false,
     "start_time": "2025-06-10T17:36:14.633929",
     "status": "completed"
    },
    "tags": []
   },
   "source": [
    "### Importing Libraries"
   ]
  },
  {
   "cell_type": "markdown",
   "id": "29746948",
   "metadata": {
    "papermill": {
     "duration": 0.000937,
     "end_time": "2025-06-10T17:36:14.636775",
     "exception": false,
     "start_time": "2025-06-10T17:36:14.635838",
     "status": "completed"
    },
    "tags": []
   },
   "source": [
    "PyData packages:"
   ]
  },
  {
   "cell_type": "code",
   "execution_count": 3,
   "id": "70b02420",
   "metadata": {
    "execution": {
     "iopub.execute_input": "2025-06-10T17:36:14.639158Z",
     "iopub.status.busy": "2025-06-10T17:36:14.638952Z",
     "iopub.status.idle": "2025-06-10T17:36:15.755435Z",
     "shell.execute_reply": "2025-06-10T17:36:15.755220Z"
    },
    "papermill": {
     "duration": 1.118358,
     "end_time": "2025-06-10T17:36:15.756069",
     "exception": false,
     "start_time": "2025-06-10T17:36:14.637711",
     "status": "completed"
    },
    "tags": []
   },
   "outputs": [],
   "source": [
    "import matplotlib.pyplot as plt\n",
    "import numpy as np\n",
    "import pandas as pd\n",
    "import seaborn as sns"
   ]
  },
  {
   "cell_type": "markdown",
   "id": "2a2dc22c",
   "metadata": {
    "papermill": {
     "duration": 0.001016,
     "end_time": "2025-06-10T17:36:15.758342",
     "exception": false,
     "start_time": "2025-06-10T17:36:15.757326",
     "status": "completed"
    },
    "tags": []
   },
   "source": [
    "Local code and display support:"
   ]
  },
  {
   "cell_type": "code",
   "execution_count": 4,
   "id": "c9c3fd9e",
   "metadata": {
    "execution": {
     "iopub.execute_input": "2025-06-10T17:36:15.760863Z",
     "iopub.status.busy": "2025-06-10T17:36:15.760719Z",
     "iopub.status.idle": "2025-06-10T17:36:15.763874Z",
     "shell.execute_reply": "2025-06-10T17:36:15.763616Z"
    },
    "papermill": {
     "duration": 0.005121,
     "end_time": "2025-06-10T17:36:15.764474",
     "exception": false,
     "start_time": "2025-06-10T17:36:15.759353",
     "status": "completed"
    },
    "tags": []
   },
   "outputs": [],
   "source": [
    "from IPython.display import HTML\n",
    "\n",
    "from poprox_recommender.eval_tables import EvalTable"
   ]
  },
  {
   "cell_type": "markdown",
   "id": "bfeb987f",
   "metadata": {
    "papermill": {
     "duration": 0.000987,
     "end_time": "2025-06-10T17:36:15.766915",
     "exception": false,
     "start_time": "2025-06-10T17:36:15.765928",
     "status": "completed"
    },
    "tags": []
   },
   "source": [
    "### Loading Data"
   ]
  },
  {
   "cell_type": "code",
   "execution_count": 5,
   "id": "a93f5ff3",
   "metadata": {
    "execution": {
     "iopub.execute_input": "2025-06-10T17:36:15.769457Z",
     "iopub.status.busy": "2025-06-10T17:36:15.769328Z",
     "iopub.status.idle": "2025-06-10T17:36:15.787293Z",
     "shell.execute_reply": "2025-06-10T17:36:15.787135Z"
    },
    "papermill": {
     "duration": 0.019688,
     "end_time": "2025-06-10T17:36:15.787641",
     "exception": false,
     "start_time": "2025-06-10T17:36:15.767953",
     "status": "completed"
    },
    "tags": []
   },
   "outputs": [
    {
     "data": {
      "text/html": [
       "<div>\n",
       "<style scoped>\n",
       "    .dataframe tbody tr th:only-of-type {\n",
       "        vertical-align: middle;\n",
       "    }\n",
       "\n",
       "    .dataframe tbody tr th {\n",
       "        vertical-align: top;\n",
       "    }\n",
       "\n",
       "    .dataframe thead th {\n",
       "        text-align: right;\n",
       "    }\n",
       "</style>\n",
       "<table border=\"1\" class=\"dataframe\">\n",
       "  <thead>\n",
       "    <tr style=\"text-align: right;\">\n",
       "      <th></th>\n",
       "      <th>pipeline</th>\n",
       "      <th>profile_id</th>\n",
       "      <th>Unnamed: 0</th>\n",
       "      <th>personalized</th>\n",
       "      <th>NDCG@5</th>\n",
       "      <th>NDCG@10</th>\n",
       "      <th>RR</th>\n",
       "      <th>RBO@5</th>\n",
       "      <th>RBO@10</th>\n",
       "    </tr>\n",
       "  </thead>\n",
       "  <tbody>\n",
       "    <tr>\n",
       "      <th>0</th>\n",
       "      <td>mmr</td>\n",
       "      <td>00410eda-2611-5ecd-a53b-22b6d97c7a26</td>\n",
       "      <td>0</td>\n",
       "      <td>True</td>\n",
       "      <td>0.430677</td>\n",
       "      <td>0.430677</td>\n",
       "      <td>0.200000</td>\n",
       "      <td>0.306163</td>\n",
       "      <td>0.515905</td>\n",
       "    </tr>\n",
       "    <tr>\n",
       "      <th>1</th>\n",
       "      <td>mmr</td>\n",
       "      <td>004fbc6f-e842-5b58-8345-73a4dbf06a69</td>\n",
       "      <td>1</td>\n",
       "      <td>True</td>\n",
       "      <td>0.000000</td>\n",
       "      <td>0.000000</td>\n",
       "      <td>0.000000</td>\n",
       "      <td>0.279163</td>\n",
       "      <td>0.470406</td>\n",
       "    </tr>\n",
       "    <tr>\n",
       "      <th>2</th>\n",
       "      <td>mmr</td>\n",
       "      <td>00523b6e-a6b7-5b79-be99-0c95035bd0f5</td>\n",
       "      <td>2</td>\n",
       "      <td>True</td>\n",
       "      <td>0.000000</td>\n",
       "      <td>0.386853</td>\n",
       "      <td>0.166667</td>\n",
       "      <td>0.274816</td>\n",
       "      <td>0.473796</td>\n",
       "    </tr>\n",
       "    <tr>\n",
       "      <th>3</th>\n",
       "      <td>mmr</td>\n",
       "      <td>0120aa53-e102-5328-8a96-2a71a9bf9083</td>\n",
       "      <td>3</td>\n",
       "      <td>True</td>\n",
       "      <td>0.500000</td>\n",
       "      <td>0.500000</td>\n",
       "      <td>0.250000</td>\n",
       "      <td>0.247816</td>\n",
       "      <td>0.422799</td>\n",
       "    </tr>\n",
       "    <tr>\n",
       "      <th>4</th>\n",
       "      <td>mmr</td>\n",
       "      <td>01afa896-a556-552c-8d78-f16b81b285c1</td>\n",
       "      <td>4</td>\n",
       "      <td>True</td>\n",
       "      <td>0.250000</td>\n",
       "      <td>0.400515</td>\n",
       "      <td>0.250000</td>\n",
       "      <td>0.247816</td>\n",
       "      <td>0.423384</td>\n",
       "    </tr>\n",
       "  </tbody>\n",
       "</table>\n",
       "</div>"
      ],
      "text/plain": [
       "  pipeline                            profile_id  Unnamed: 0  personalized  \\\n",
       "0      mmr  00410eda-2611-5ecd-a53b-22b6d97c7a26           0          True   \n",
       "1      mmr  004fbc6f-e842-5b58-8345-73a4dbf06a69           1          True   \n",
       "2      mmr  00523b6e-a6b7-5b79-be99-0c95035bd0f5           2          True   \n",
       "3      mmr  0120aa53-e102-5328-8a96-2a71a9bf9083           3          True   \n",
       "4      mmr  01afa896-a556-552c-8d78-f16b81b285c1           4          True   \n",
       "\n",
       "     NDCG@5   NDCG@10        RR     RBO@5    RBO@10  \n",
       "0  0.430677  0.430677  0.200000  0.306163  0.515905  \n",
       "1  0.000000  0.000000  0.000000  0.279163  0.470406  \n",
       "2  0.000000  0.386853  0.166667  0.274816  0.473796  \n",
       "3  0.500000  0.500000  0.250000  0.247816  0.422799  \n",
       "4  0.250000  0.400515  0.250000  0.247816  0.423384  "
      ]
     },
     "execution_count": 5,
     "metadata": {},
     "output_type": "execute_result"
    }
   ],
   "source": [
    "mind_subset_user_metrics = pd.read_csv(f\"../outputs/{EVAL_NAME}-profile-metrics.csv.gz\")\n",
    "mind_subset_user_metrics.head()"
   ]
  },
  {
   "cell_type": "code",
   "execution_count": 6,
   "id": "3a6ec2d4",
   "metadata": {
    "execution": {
     "iopub.execute_input": "2025-06-10T17:36:15.790313Z",
     "iopub.status.busy": "2025-06-10T17:36:15.790216Z",
     "iopub.status.idle": "2025-06-10T17:36:15.791870Z",
     "shell.execute_reply": "2025-06-10T17:36:15.791590Z"
    },
    "papermill": {
     "duration": 0.003434,
     "end_time": "2025-06-10T17:36:15.792282",
     "exception": false,
     "start_time": "2025-06-10T17:36:15.788848",
     "status": "completed"
    },
    "tags": []
   },
   "outputs": [],
   "source": [
    "effectiveness_metrics = [\"NDCG@5\", \"NDCG@10\", \"RR\"]\n",
    "overlap_metrics = [\"RBO@5\", \"RBO@10\"]"
   ]
  },
  {
   "cell_type": "markdown",
   "id": "c541e87d",
   "metadata": {
    "papermill": {
     "duration": 0.001051,
     "end_time": "2025-06-10T17:36:15.794453",
     "exception": false,
     "start_time": "2025-06-10T17:36:15.793402",
     "status": "completed"
    },
    "tags": []
   },
   "source": [
    "## Results"
   ]
  },
  {
   "cell_type": "markdown",
   "id": "41f78b8f",
   "metadata": {
    "papermill": {
     "duration": 0.001046,
     "end_time": "2025-06-10T17:36:15.796610",
     "exception": false,
     "start_time": "2025-06-10T17:36:15.795564",
     "status": "completed"
    },
    "tags": []
   },
   "source": [
    "### Effectiveness Metrics\n",
    "\n",
    "NDCG measures how well the recommendations align with user test data, focusing on the top-k positions, such as the top 5 (NDCG@5) or top 10 (NDCG@10). Likewise, RR evaluates how well the recommender finds the most relevant item as the top result."
   ]
  },
  {
   "cell_type": "code",
   "execution_count": 7,
   "id": "3d6e2454",
   "metadata": {
    "execution": {
     "iopub.execute_input": "2025-06-10T17:36:15.799140Z",
     "iopub.status.busy": "2025-06-10T17:36:15.799032Z",
     "iopub.status.idle": "2025-06-10T17:36:16.161098Z",
     "shell.execute_reply": "2025-06-10T17:36:16.160704Z"
    },
    "papermill": {
     "duration": 0.364047,
     "end_time": "2025-06-10T17:36:16.161729",
     "exception": false,
     "start_time": "2025-06-10T17:36:15.797682",
     "status": "completed"
    },
    "tags": []
   },
   "outputs": [
    {
     "data": {
      "image/png": "[encoded data removed]",
      "text/plain": [
       "<Figure size 1200x300 with 3 Axes>"
      ]
     },
     "metadata": {},
     "output_type": "display_data"
    }
   ],
   "source": [
    "plt.figure(figsize=(12, 3))\n",
    "plt.subplots_adjust(wspace=0.3)\n",
    "\n",
    "for i, metric in enumerate(effectiveness_metrics, 1):\n",
    "    plt.subplot(1, 3, i)\n",
    "    sns.barplot(data=mind_subset_user_metrics, x=\"pipeline\", y=metric)\n",
    "    plt.xticks(rotation=45)\n",
    "\n",
    "plt.show()"
   ]
  },
  {
   "cell_type": "markdown",
   "id": "22eabf45",
   "metadata": {
    "papermill": {
     "duration": 0.001242,
     "end_time": "2025-06-10T17:36:16.164422",
     "exception": false,
     "start_time": "2025-06-10T17:36:16.163180",
     "status": "completed"
    },
    "tags": []
   },
   "source": [
    "The summary tables show the mean values, standard deviation, and quantiles (10%ile, Median, 90%ile), each accompanied by their respective 95% confidence intervals for effectiveness metrics across recommenders."
   ]
  },
  {
   "cell_type": "code",
   "execution_count": 8,
   "id": "25632f44",
   "metadata": {
    "execution": {
     "iopub.execute_input": "2025-06-10T17:36:16.167496Z",
     "iopub.status.busy": "2025-06-10T17:36:16.167390Z",
     "iopub.status.idle": "2025-06-10T17:36:33.219051Z",
     "shell.execute_reply": "2025-06-10T17:36:33.218838Z"
    },
    "papermill": {
     "duration": 17.053916,
     "end_time": "2025-06-10T17:36:33.219618",
     "exception": false,
     "start_time": "2025-06-10T17:36:16.165702",
     "status": "completed"
    },
    "tags": []
   },
   "outputs": [
    {
     "data": {
      "text/html": [
       "<h3>Summary Table for NDCG@5</h3>"
      ],
      "text/plain": [
       "<IPython.core.display.HTML object>"
      ]
     },
     "metadata": {},
     "output_type": "display_data"
    },
    {
     "data": {
      "text/html": [
       "<table>\n",
       "<thead><tr>\n",
       "<th>Algorithm\n",
       "<th>Mean\n",
       "<th>Std Dev\n",
       "<th>10%ile\n",
       "<th>Median\n",
       "<th>90%ile\n",
       "<th>Dist. (KDE)\n",
       "</tr></thead>\n",
       "<tbody>\n",
       "<tr><td>mmr\n",
       "<td>0.439<br><span style=\"font-size: 75%;\">(0.404,0.472)</span></td>\n",
       "<td>0.549<br><span style=\"font-size: 75%;\">(0.507,0.593)</span></td>\n",
       "<td>0.000<br><span style=\"font-size: 75%;\">(0.000,0.000)</span></td>\n",
       "<td>0.315<br><span style=\"font-size: 75%;\">(0.215,0.380)</span></td>\n",
       "<td>1.000<br><span style=\"font-size: 75%;\">(1.000,1.000)</span></td>\n",
       "<td><img src=\"data:image/png;base64,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\"></td>\n",
       "</tr>\n",
       "<tr><td>nrms\n",
       "<td>0.392<br><span style=\"font-size: 75%;\">(0.366,0.417)</span></td>\n",
       "<td>0.409<br><span style=\"font-size: 75%;\">(0.400,0.419)</span></td>\n",
       "<td>0.000<br><span style=\"font-size: 75%;\">(0.000,0.000)</span></td>\n",
       "<td>0.315<br><span style=\"font-size: 75%;\">(0.215,0.401)</span></td>\n",
       "<td>1.000<br><span style=\"font-size: 75%;\">(1.000,1.000)</span></td>\n",
       "<td><img src=\"data:image/png;base64,iVBORw0KGgoAAAANSUhEUgAAASwAAAAZCAYAAACLvRPfAAAAOnRFWHRTb2Z0d2FyZQBNYXRwbG90bGliIHZlcnNpb24zLjEwLjEsIGh0dHBzOi8vbWF0cGxvdGxpYi5vcmcvc2/+5QAAAAlwSFlzAAAPYQAAD2EBqD+naQAACEpJREFUeJztnN1PE9kbx799f6Gl9IUXoVAiaiIFCUEpxWjWmEhIVOLuGkxAk40kXu4Fe+F/YLzbvfBOEmMwEt0Qg4kk3pC0ikohRkibAIZtoWXb0hfa0k5LaWcvtPPrLOxPUGkpnE/yzZnMnA5PmZlv5znnmeHQNE2DQCAQCgBuvgMgEAiE7UIMi0AgFAw7Nqz+/n5wOJz/K7lcDqPRiFu3buHevXuw2WwgmSeBQPhWODsdwzKZTLBYLFhbW2MUjUYRiUTgcDhgtVqxvr6+6XM1NTXo7OxEZ2cnzp8/D5lM9t2+BIFAOBjs2LC+RDKZxPz8PGZmZjA9PQ2LxQKTyYREIsH0EQgEOHfuHHp6enDlyhXI5fLvGQKBQNinfHfD2opYLIaxsTGMjo5idHQUCwsLzDaJRILLly+jt7cXHR0dEAgEux0OgUAoUHJiWNnQNI25uTk8efIEg4ODmJubY7ap1Wr09vair68PDQ0NuQyLQCAUADk3rGxomsbU1BQGBwcxNDQEj8fDbDMYDOjr68O1a9fIeBeBQACQZ8PKZmNjAy9fvsTAwABGRkawsbEBAJDJZOju7kZfXx8MBgM4HE6eIyUQCPlizxhWNh6PBw8fPsT9+/dZKWN9fT1u3ryJ69evo7S0NI8REgiEfLAnDSsDTdMwm80YGBjA06dPQVEUgE+zjF1dXbhx4wY6OjogFArzHCmBQNiKdDqNeDzOSCKRQKlUfvX+9rRhZRMKhfD48WMMDAxgcnKSWa9Wq3H16lX09PSgvb0dXC4p3icQdpt4PI7Z2VnMzs5iaWkJLpcLTqcTLpcLLpcLwWAQ8Xh8U03m7du3cefOna/+uwVjWNl8+PABDx48wNDQENxuN7Nep9Ohu7sbXV1dMBgM4PF4eYwyj6RSgNkM/P03cOgQcOYMcFD/F4RvgqZpLC4uYmJiAtPT07BarbBarfj48SPS6fSO9sXj8dDf34+7d+9+dTwFaVgZNjY2MDY2hkePHmF4eBiRSITZptFocPHiRVy6dAkXLlw4ODONw8PAr78CTuf/1mm1wB9/AD/+mL+4CAVBIBDAu3fvYLFYMDExgYmJCaysrGzZV6lUor6+HjU1NdBqtaiqqkJVVRW0Wi1UKhUkEgkkEgnEYjHEYjH4fP43x1fQhpUNRVF4/vw5nj17hhcvXiAUCjHbhEIh2tracObMGZw9exZGo3F/VtcPDwM//wz8+5BmZlb//JNlWvF4HD6fD36/H6urqwgGg6w2+9GrzDJFUVhfX0cymWSJpmlwOBxwuVzmmVIej8ecrNmSyWQoLi5mSaFQQKVSQa1WQ6PRQK1WQ6FQkBR/F6FpGvPz83j9+jXGx8cxPj4Om822qR+fz0dTUxOam5vR0NAAvV4PvV6PioqKnM/a7xvDyiaZTOLVq1cYGRnByMgIq7Ie+HRr2tzcDKPRiKamJjQ2NkKv16OoqChPEX8HUims63RYcbngBRh5spa9YjFWGhrg8/ng8/mwtraWz4i/CI/Hg0ajQXl5OSoqKlBeXs4sV1ZWslTQxy5HRKNRWCwWjI+P482bN3j79i18Pt+mfkePHoXBYEBraytaW1vR1NQEsVich4g3sy8NK5vMr4jJZILZbIbJZILdbt/Uj8PhoK6uDo2Njairq4NOp0NNTQ10Oh10Oh0UCkVOf03S6TRCoRCCwSACgQACgQD8fj9WVlY2yev1wru8jGBWSrxd+Hw+VCoVlEollEolSkpKmFYul0Mmk6GoqIhppVIphEIhBAIBBAIBhEIh+Hw+OBwOaJpGOp1m2lQqhUQiwZoloigK0WgU4XAYoVAI4XAY4XAYq6ur8Pv9jKLR6I6+h0KhYNKRbFVVVaG6uhparRYlJSUHpo5vfX0dVqsVk5OTmJqaYsagUqkUq59IJMKpU6dw+vRptLe3w2g07umSoX1vWFuxtLQEs9mMqakp5iHt7Cr7rZBIJFCpVCwplUomRxeJRIwEAgHr4s1oq4s3FoshHA4jEokgEokwF3AoFNrxoCYA8ACUflb5Z5V9bksBlP32GzQ//QSNRgONRpNzI94uiUQCPp8PKysrcLvd8Hg8jNxuN5aXl7G8vAyXy7Vtc5NKpYx5/dvUMq1GoymoNJSmabjdblitVthsNlitVrx//x7T09OsFw5k0Gq1MBqNjDk1NzcXVFnQgTSsrfB6vZiZmYHVaoXdbofD4YDD4cDi4uJ/DjrmgqKiIiiVSsYkS0tLWcqkTGV2O8p++QUqfOElZ2NjwA8/5Cb4HBGJRJjpdKfTydLS0hKcTif8fv+29sXn83Ho0CFUVlYybUVFBcrKylgqLS1FcXFxTsyNoig4nU44HA7m3LTb7VhYWIDNZsPq6uqWnyspKUFLSwtOnjyJlpYWtLW1obq6etfj3U2IYW2DWCwGt9vNSs8CgQCCwSAoikIikWApmUyyBp8zEolEEIvFrJkTiUTCDDzL5XKmzaRoIpFoe0GmUkBtLeBybR50Bz4NvGu1wF9/HcgSh8xFnzGx7LqhzHqv17ujF01yuVwoFArmWCmVSsjlckilUpbEYjF4PB5zTnC5XHC5XCSTSVAUxdxtZ9LlTFqcGWuMxWJfjOPIkSPQ6/Wor6/HiRMn0NLSgsOHD+/Ju+dvgRjWfiIzSwiwTes/ZgkJbJLJJDweD5NuZuT1ejcp8hXjhd+CVCqFTqdDbW0t09bW1uL48eM4duzYnhkU322IYe03tqrDqq4Gfv+dmNV3JB6PMyUg2YpGo4hGo4jFYowoimJNRtA0jVQqBYFAwNxtZ1qpVMqUdmTKOzQaDYqLi/fd3dLXQAxrP0Iq3Qn7FGJYBAKhYPgHvJhTt0q0vooAAAAASUVORK5CYII=\"></td>\n",
       "</tr>\n",
       "<tr><td>nrms_images\n",
       "<td>0.406<br><span style=\"font-size: 75%;\">(0.380,0.431)</span></td>\n",
       "<td>0.413<br><span style=\"font-size: 75%;\">(0.405,0.423)</span></td>\n",
       "<td>0.000<br><span style=\"font-size: 75%;\">(0.000,0.000)</span></td>\n",
       "<td>0.337<br><span style=\"font-size: 75%;\">(0.250,0.431)</span></td>\n",
       "<td>1.000<br><span style=\"font-size: 75%;\">(1.000,1.000)</span></td>\n",
       "<td><img src=\"data:image/png;base64,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\"></td>\n",
       "</tr>\n",
       "<tr><td>nrms_rrf_static_user\n",
       "<td>0.347<br><span style=\"font-size: 75%;\">(0.322,0.372)</span></td>\n",
       "<td>0.402<br><span style=\"font-size: 75%;\">(0.392,0.414)</span></td>\n",
       "<td>0.000<br><span style=\"font-size: 75%;\">(0.000,0.000)</span></td>\n",
       "<td>0.160<br><span style=\"font-size: 75%;\">(0.000,0.250)</span></td>\n",
       "<td>1.000<br><span style=\"font-size: 75%;\">(1.000,1.000)</span></td>\n",
       "<td><img src=\"data:image/png;base64,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\"></td>\n",
       "</tr>\n",
       "<tr><td>nrms_topic_scores\n",
       "<td>0.398<br><span style=\"font-size: 75%;\">(0.373,0.423)</span></td>\n",
       "<td>0.407<br><span style=\"font-size: 75%;\">(0.398,0.417)</span></td>\n",
       "<td>0.000<br><span style=\"font-size: 75%;\">(0.000,0.000)</span></td>\n",
       "<td>0.319<br><span style=\"font-size: 75%;\">(0.250,0.431)</span></td>\n",
       "<td>1.000<br><span style=\"font-size: 75%;\">(1.000,1.000)</span></td>\n",
       "<td><img src=\"data:image/png;base64,iVBORw0KGgoAAAANSUhEUgAAASwAAAAZCAYAAACLvRPfAAAAOnRFWHRTb2Z0d2FyZQBNYXRwbG90bGliIHZlcnNpb24zLjEwLjEsIGh0dHBzOi8vbWF0cGxvdGxpYi5vcmcvc2/+5QAAAAlwSFlzAAAPYQAAD2EBqD+naQAACFZJREFUeJztnE1ME1sbx3+ltDBQwFJaBFolGjUUMSRCCEWMC11oojdcb6LGr1zjx/JuXLhx7fa6lmjiR4zxqokmmLgxCpJA1URBMRq9YinQ0i8o0BY6nXehnUuFKPqqpXB+yT9nMh/tMzDzn+c550w1iqIoCAQCQQaQle4ABAKBYL4IwxIIBBnDNxvWyZMn0Wg0X1ReXh719fUcOXKEs2fP8vz5c0TlKRAI/l8039qH9fDhQ7q7u5mYmJil/v5+ent7iUQis46rqKhgx44dbN++na1bt1JQUPDDTkIgECwNvtmwvoYsy7x7947nz5/T09OD0+nk/v37KSam0+nYsmULBw4coKWlRZiXQCCYFz/csOYiGo3y4MED2trauHv3Lm/evFG3SZJES0sLBw4cYNu2bWRnZ//scAQCQYbySwzrc16/fs21a9e4dOlSinlZLBYOHTrEsWPHWLt27a8OSyAQLHDSYlhJFEXB6XRy+fJlrl69is/nU7dt3ryZ48ePs3v3bnJzc9MVokAgWECk1bBmMj09TVtbG+fOnePu3bskEgkAjEYjBw8e5OjRo9TU1KQ5SoFAkE4WjGHNxOVyceHCBVpbW3G5XOr6hoYGjh49yp49e0RHvUCwBFmQhpVElmXu3btHa2srt2/fJh6PA2AwGNi7dy+HDx/G4XCQlSXmvwoECwVFUYhGo3OqpKQEm8323Z+9oA1rJh6Ph4sXL9La2srr16/V9StXrmT//v3s378fu92exggXILIM7e0wNARlZdDcDFptuqMSLAK8Xi89PT309fUxMDCAy+ViYGCAgYEB3G43sVhszuNOnTrFmTNnvvt7M8awkiiKQkdHB+fPn+fGjRuEw2F1W21tLfv27eO3335j3bp1aYxyAXDzJvz1FwwM/LfOaoWzZ+H339MXlyCjSCQS9PX10dXVxbNnz+jp6aG3t5eRkZF5Ha/RaJAkCUmSyM3N5cSJE5w+ffq748k4w5pJJBLhzp07XLlyhba2NrVkBFizZg27du1i586dNDU1La35XTdvwh9/wOf/Wo3mY/vPP8K0BHPi8/no7Oykq6uLrq4uuru7U5KCJBqNhtWrV2O326msrMRqtaqy2WwUFxcjSRLZ2dloktfdDyCjDWsmfr+f69evc+vWLe7fv8/09LS6zWg0smXLFpqbm2lubqa2tnbxGpgsQ2VlamY1E40GrFbib94QGB3F5/MRCAQIBoOEQiFCoZC6PD4+zsTEhNpOTEwQiUSYmppieno6RYqizHqnVKvVkpubS05OTkqbn59PYWEhBQUFaltUVERxcXGKTCYTy5YtQyvK2J+Coii8ffuWR48e0dHRQUdHB69evZq1X15eHnV1dWzcuJGamhpqamqoqqoiPz//l8e8aAxrJmNjY9y7d4/bt2/T1taG3+9P2W4wGHA4HDQ2NrJhwwbWr1/P6tWrM/rGSCQSBINBPHfu4P3zT7yAF/B8apPyfVJQo8mIF9KzsrIwm81YLBYsFgulpaVYLBbKysooLy+nrKxMXS4qKvqhT/PFRiwW4+nTp3R2dvLo0SM6OzvxeDyz9quqqqKxsZGGhgYaGhqorq5eMA/4RWlYM4nH4zidTh4+fEh7ezsdHR2Mjo7O2k+SJOx2OzU1NaxatQqbzcaKFStYsWIFVqv1l05eVRSFyclJAoEAgUAAv99PIBDA5/MxMjIyS16vl5GREWRZ/ubvSmYzRqMRo9HIsmXLVBUUFJCfn6/KYDAgSRJ6vR6dTodOp0Ov16tpv6IoKIpCIpFAURRkWSYWixGNRtU2Go0yMTFBOBxmbGyMcDhMOBxWM7vkufr9/jlLkS8hSRIVFRVUVFRgtVrVZZvNppYrpaWlS2JUOZk9OZ1OHj9+THd3N06nc1ZnuF6vp76+nqamJjZt2oTD4cBkMqUp6q+z6A3rc2RZpre3l/b2dp48eUJPTw8vXrwgGo1+8biZN3XyxjYajeoNrNfrycnJUW/gRCKRIlmW1Rs2EomompycZGxsLEWjo6MpJe23YCwooDQcxgyUApYZMn9qS4CSmzcp3rlzwTw552Jqagq/34/X68Xj8eD1evF6vQwPDzM0NKRqcHCQUCg0r8/Mzs5WDe1zJQ1u+fLl6PX6n3tyP5Dx8XH6+vp4+fIlL1684OnTpzx58mTOv0lJSQkOh4OmpiYcDgd1dXUZ9SbJkjOsuUj+wkTSvPr7+3G5XHz48IEPHz4wOTmZlrh0Oh0mkymlX8dsNs9Sskwym83otdqPfVhu9+xOd1D7sPj330U1xSESiTA4OIjb7VaH1t1uNy6XS103NDSkvkHxNcxmMxUVFZSXl7N8+XJKS0vVNimTyYTRaESn0/3Uc1MUBa/XS39/f4revXvHy5cvef/+/ZzH5eTkUFtbS11dHfX19TQ2NrJmzZqMLpuFYX0FRVEIBoMMDw8TDAZTFAqFiMVixGIxpqammJqaIhaLEY/H0Wq1ZGVlpSgnJydliFeSJPLy8igqKqKwsDBFRqOR/Pz877u4kqOEH0/gv/VLfJQwHo8zPDycYmKfa3Bw8Juz28LCQvWBUlRUhMFgUEtog8FAXl4eWq2W7OxstFqtqmTWnbyGktl3siROlseBQCBlBHwuLBYL1dXV2O12NmzYQH19PdXV1RmVKc4HYViLlbnmYdls8PffS9Ks5ksikSAQCOB2u9WMzePxMDw8jMfjUZe9Xu+8y9AfgUajoby8nJUrV6qqrKykqqoKu91OSUnJL4slnQjDWsyIme4/FVmWCYVCswYKZk4HGR8fZ3JyElmWicfjyLKsaua0j6QkSVKndCRbk8n0sdxfZNnS9yAMSyAQZAyLf3xXIBAsGv4H6ZFdgx01ch4AAAAASUVORK5CYII=\"></td>\n",
       "</tr>\n",
       "<tr><td>nrms_topics_static\n",
       "<td>0.273<br><span style=\"font-size: 75%;\">(0.249,0.296)</span></td>\n",
       "<td>0.377<br><span style=\"font-size: 75%;\">(0.363,0.391)</span></td>\n",
       "<td>0.000<br><span style=\"font-size: 75%;\">(0.000,0.000)</span></td>\n",
       "<td>0.000<br><span style=\"font-size: 75%;\">(0.000,0.000)</span></td>\n",
       "<td>1.000<br><span style=\"font-size: 75%;\">(1.000,1.000)</span></td>\n",
       "<td><img src=\"data:image/png;base64,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\"></td>\n",
       "</tr>\n",
       "<tr><td>pfar\n",
       "<td>0.407<br><span style=\"font-size: 75%;\">(0.382,0.433)</span></td>\n",
       "<td>0.411<br><span style=\"font-size: 75%;\">(0.402,0.420)</span></td>\n",
       "<td>0.000<br><span style=\"font-size: 75%;\">(0.000,0.000)</span></td>\n",
       "<td>0.380<br><span style=\"font-size: 75%;\">(0.250,0.431)</span></td>\n",
       "<td>1.000<br><span style=\"font-size: 75%;\">(1.000,1.000)</span></td>\n",
       "<td><img src=\"data:image/png;base64,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\"></td>\n",
       "</tr>\n",
       "<tr><td>softmax\n",
       "<td>0.387<br><span style=\"font-size: 75%;\">(0.361,0.412)</span></td>\n",
       "<td>0.410<br><span style=\"font-size: 75%;\">(0.400,0.420)</span></td>\n",
       "<td>0.000<br><span style=\"font-size: 75%;\">(0.000,0.000)</span></td>\n",
       "<td>0.250<br><span style=\"font-size: 75%;\">(0.202,0.380)</span></td>\n",
       "<td>1.000<br><span style=\"font-size: 75%;\">(1.000,1.000)</span></td>\n",
       "<td><img src=\"data:image/png;base64,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\"></td>\n",
       "</tr>\n",
       "<tr><td>topic_cali\n",
       "<td>0.399<br><span style=\"font-size: 75%;\">(0.374,0.425)</span></td>\n",
       "<td>0.410<br><span style=\"font-size: 75%;\">(0.401,0.420)</span></td>\n",
       "<td>0.000<br><span style=\"font-size: 75%;\">(0.000,0.000)</span></td>\n",
       "<td>0.319<br><span style=\"font-size: 75%;\">(0.250,0.431)</span></td>\n",
       "<td>1.000<br><span style=\"font-size: 75%;\">(1.000,1.000)</span></td>\n",
       "<td><img src=\"data:image/png;base64,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\"></td>\n",
       "</tr>\n",
       "</tbody>\n",
       "</table>\n"
      ],
      "text/plain": [
       "<IPython.core.display.HTML object>"
      ]
     },
     "metadata": {},
     "output_type": "display_data"
    },
    {
     "data": {
      "text/html": [
       "<h3>Summary Table for NDCG@10</h3>"
      ],
      "text/plain": [
       "<IPython.core.display.HTML object>"
      ]
     },
     "metadata": {},
     "output_type": "display_data"
    },
    {
     "data": {
      "text/html": [
       "<table>\n",
       "<thead><tr>\n",
       "<th>Algorithm\n",
       "<th>Mean\n",
       "<th>Std Dev\n",
       "<th>10%ile\n",
       "<th>Median\n",
       "<th>90%ile\n",
       "<th>Dist. (KDE)\n",
       "</tr></thead>\n",
       "<tbody>\n",
       "<tr><td>mmr\n",
       "<td>0.591<br><span style=\"font-size: 75%;\">(0.539,0.640)</span></td>\n",
       "<td>0.814<br><span style=\"font-size: 75%;\">(0.726,0.907)</span></td>\n",
       "<td>0.000<br><span style=\"font-size: 75%;\">(0.000,0.000)</span></td>\n",
       "<td>0.394<br><span style=\"font-size: 75%;\">(0.387,0.431)</span></td>\n",
       "<td>1.000<br><span style=\"font-size: 75%;\">(1.000,1.000)</span></td>\n",
       "<td><img src=\"data:image/png;base64,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\"></td>\n",
       "</tr>\n",
       "<tr><td>nrms\n",
       "<td>0.457<br><span style=\"font-size: 75%;\">(0.434,0.480)</span></td>\n",
       "<td>0.372<br><span style=\"font-size: 75%;\">(0.362,0.382)</span></td>\n",
       "<td>0.000<br><span style=\"font-size: 75%;\">(0.000,0.000)</span></td>\n",
       "<td>0.387<br><span style=\"font-size: 75%;\">(0.384,0.431)</span></td>\n",
       "<td>1.000<br><span style=\"font-size: 75%;\">(1.000,1.000)</span></td>\n",
       "<td><img src=\"data:image/png;base64,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\"></td>\n",
       "</tr>\n",
       "<tr><td>nrms_images\n",
       "<td>0.468<br><span style=\"font-size: 75%;\">(0.445,0.491)</span></td>\n",
       "<td>0.378<br><span style=\"font-size: 75%;\">(0.369,0.388)</span></td>\n",
       "<td>0.000<br><span style=\"font-size: 75%;\">(0.000,0.000)</span></td>\n",
       "<td>0.431<br><span style=\"font-size: 75%;\">(0.387,0.431)</span></td>\n",
       "<td>1.000<br><span style=\"font-size: 75%;\">(1.000,1.000)</span></td>\n",
       "<td><img src=\"data:image/png;base64,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\"></td>\n",
       "</tr>\n",
       "<tr><td>nrms_rrf_static_user\n",
       "<td>0.420<br><span style=\"font-size: 75%;\">(0.396,0.442)</span></td>\n",
       "<td>0.367<br><span style=\"font-size: 75%;\">(0.356,0.378)</span></td>\n",
       "<td>0.000<br><span style=\"font-size: 75%;\">(0.000,0.000)</span></td>\n",
       "<td>0.356<br><span style=\"font-size: 75%;\">(0.352,0.387)</span></td>\n",
       "<td>1.000<br><span style=\"font-size: 75%;\">(1.000,1.000)</span></td>\n",
       "<td><img src=\"data:image/png;base64,iVBORw0KGgoAAAANSUhEUgAAASwAAAAZCAYAAACLvRPfAAAAOnRFWHRTb2Z0d2FyZQBNYXRwbG90bGliIHZlcnNpb24zLjEwLjEsIGh0dHBzOi8vbWF0cGxvdGxpYi5vcmcvc2/+5QAAAAlwSFlzAAAPYQAAD2EBqD+naQAACYtJREFUeJztnNtTW1Ubh5+U0DacAyOWNhQIIYAQAoSitILNaMXeKVDbjtU/QW+88MZrb/0LvNHBzogww1TatCoIOlPNgUM55QABv9KUCjQJFElhZ38X/diSBhD4OJb9zLzzzuy11l5rJTO/dXjX2gpRFEVkZGRkDgBH9roBMjIyMhtFFiwZGZkDw6YF69NPP0WhUPyrqVQqysvL+eijj/jqq6948ODBTrRfZrM0N0NmJigU/1hm5rPnMjL7HMVm97B++eUXbDYbS0tLLC0tsbi4KPkHDx4wMDDA0NAQCwsLUWVLSkq4ePEiFy9e5OzZs8TGxm5bRw4T4XCYYDDIzMwMfr8fQRCiBoxjx46RmpqKWq3m2LFjzwo2N0NDAzz/lysUz3xTE9TV7W5nZGQ2waYFayMIgoDX62VgYAC73Y7FYsFqtbKyKrVaTUNDA1evXqWmpoaYmJjtbsaBJRgM4vF4GBkZifATExOSSIXD4Q2/Lz4+ntTUVNIePkSzuEg2kA3k/M/nAskKBWg04PWC/F/I7FN2RLBWY2pqitu3b3Pz5k0sFgt//fWXlHby5EkuX77M1atXqaioQLE84h8CZmZmcDgcOBwO7HY7drudkZGRDZVVqVSkpKSgVCoRRVEaEERRZGFhYVPCdhIoAooaGiiqraWoqAiDwUBCQsIWeyYjs/3smmCtRBAEOjs7aWxspKmpCb/fL6Xp9XquXbvGtWvXyMnJ2e2m7SiiKOL1eunq6qKrq4vOzk7cbveqedPT08nNzUWn00n+9OnTpKWloVarUavVHD9+fN36Vi4dpxsbmfr8c/4DeIGxFX5yjfIKhYL8/HzKy8spLy+nrKyMsrIy1Gr1Vn8CGZn/iz0RrJWEQiEsFguNjY20trby999/S2nnzp3jww8/5NKlS6Smpu5hK7eGKIq43W7a29vp6Oigs7Nz1eCDVqvFZDJhMpkkcUhLS9vexnR0gNm8alIAGAQGgIGGBgYCAfr7+/H5fKvm1+l0VFZWcubMGc6cOUNZWRlxcXHb216ZA40gCASDQfx+P4FAgEAggN/vJzc3l+Li4i2/d88FayXBYJCWlha++eYbfvrpJ2mJo1QqefPNN6mvr+fdd9/lpZde2uOWro4oioyOjtLR0UF7ezvt7e1RAhUbG0tFRQU1NTVUV1dTVVW1O2IsCJCdDRMT0Zvu8Gzj/bk9rMnJSbq7u6Ulq8PhwOv1RhWNiYmhqKiIyspKSciKi4tRKpU73CmZvWZxcRGn00lvby99fX2SX2uw++yzz/jiiy+2XN++EqyVTExM8O233/L111/T19cnPT9y5Ag1NTXU19dTW1uLTqfbsz2vcDjM4OAgnZ2d0hLveYE6evQoVVVVmM1m3njjDV599VVUKtWetFeKEkKkaG0iSjg9PY3NZuOPP/7AarVitVp5+PBhVD6VSkVZWRkmk4mKigpMJhMFBQVycOWAI4oifX19WCwWLBYLv/32G6FQaM38KpWK5ORkyT744AM+/vjjLde/bwVrJS6Xi++//56mpiYcDkdE2qlTpzh//jxms5nz58+j1Wp3RMBEUeTPP//EZrNht9ux2WzYbDYeP34ckS82NpbKykrMZjNms5mqqqq9E6jVaG6GTz6B+/f/eZaZCV9+uaUjDaIoMjExgdVqlUTMZrMRCASi8sbHx1NaWkp5eTmlpaWUlpZSVFT0z7ELmX3J3NwcP/zwA21tbdy+fTtqgEpKSqKkpISSkhKMRiNGo5GcnBxSUlI4evTotrblQAjWSrxeL83NzbS2tnL37l2ePn0akZ6enk5hYSEFBQXk5+dLPi0tjYSEhDVHeFEUefr0KYFAgLGxMUZHRxkZGZF8f38/09PTUeXi4uI4e/Ys1dXV1NTU7O0MaqMIAnR1gc8HGRlQXb2tRxnC4TButxur1SpFPh0OB0+ePInKq1QqKSwsxGg0YjAYMBgMFBcXo9FoDlW0eL8xOzvLjRs3+O6777h582bEucq4uDjMZjO1tbW8/fbb6PX6XfuvDpxgrWR+fp67d+9Km9q///47i4uL65aJj48nMTGRxMREYmJimJubk2xpaWndskqlEoPBIC1xTCYTRqNRPgC7AQRBwOVyYbfb6e7upqenh56eHmZmZlbNn5ycTHFxMa+88gqFhYWSZWZmcuSIfKNsJ3jy5Ak3btzg+vXr3Lp1K0KkdDod7733Hu+88w7nzp3bs1nxgRas55mfn2dwcJDh4WGGh4dxOp0MDw/jdrvXXWc/z8mTJ8nNzUWr1Uper9djMBj+9SiBzMYRRZH79+/T09NDb28v/f393Lt3D6fTiSAIq5aJi4ujoKAAvV5Pfn4++fn56PV69Ho9iYmJu9yDg08oFOLWrVtcv36d1tZW5ufnpbS8vDwuXbrE+++/T0lJyb6Y8b5QgrUWoigSCoWYnZ0lGAxKXhAEEhMTSUhIkHx8fLwc3dpjQqEQLpeLe/fuMTQ0JJnb7V53Bn3ixAn0ej15eXkRptPp9v8yfRdZWFjgzp07NDc309LSErHfqNVquXLlyr4SqZUcCsGSeTFYXFxkdHSU4eFhXC4XTqcTp9OJy+Xi0aNH65bVaDRRIpaXl0dubu6hmDUHg0Ha2tpoaWmhra2Nubk5Ke3UqVNcvnyZK1eu7PubJrJgybwQPH78GI/Hg8vlwu12S+ZyuVaNWC6jUCg4ffp0lJDpdDq0Wu2BjWAKgkB3dzc//vgjd+7c4ddff40IUGk0Gurq6qivr+f1118/MPuCsmDJvNCIosj09LQkYB6PJ0LQgsHgmmWXxWz5etSyLe9tJiUl7WJP1md+fp7e3l7sdjsdHR38/PPPUUdu9Ho9dXV11NXV7fuZ1FrIgiVzaBFFkUePHkUImMfjkURt5bJpNdRqNVlZWWRlZZGdnU1WVhYajYaMjAzJtvvKUjAYZHx8nLGxMTwej3QTYWhoKOqie1JSEmazmbfeeosLFy7s6vGDnUIWLBmZVVgpZiMjI1E2NTW1ofckJSVx4sQJUlJSJEtOTiYlJYXjx48TExMj2fKybG5ujtnZ2Qjz+XyMj49HfCjgeV5++WVMJhOvvfYaFy5coKKi4oULIMmCJSOzBWZnZxkfH5dsbGyM8fFxJiYm8Pl8+Hy+iIv820lqaipZWVnk5ORgNBqlS/MZGRk7Ut9+QhYsGZkdQBRFgsEgPp+PyclJ6WsFy97v9xMKhRAEAUEQCIfDCIKAKIrSMZuVlp6eLi0/D/M3ymTBkpGROTAcjFimjIyMDPBf/jWfBjDbaX0AAAAASUVORK5CYII=\"></td>\n",
       "</tr>\n",
       "<tr><td>nrms_topic_scores\n",
       "<td>0.461<br><span style=\"font-size: 75%;\">(0.437,0.483)</span></td>\n",
       "<td>0.371<br><span style=\"font-size: 75%;\">(0.361,0.381)</span></td>\n",
       "<td>0.000<br><span style=\"font-size: 75%;\">(0.000,0.000)</span></td>\n",
       "<td>0.418<br><span style=\"font-size: 75%;\">(0.387,0.431)</span></td>\n",
       "<td>1.000<br><span style=\"font-size: 75%;\">(1.000,1.000)</span></td>\n",
       "<td><img src=\"data:image/png;base64,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\"></td>\n",
       "</tr>\n",
       "<tr><td>nrms_topics_static\n",
       "<td>0.336<br><span style=\"font-size: 75%;\">(0.314,0.358)</span></td>\n",
       "<td>0.358<br><span style=\"font-size: 75%;\">(0.345,0.371)</span></td>\n",
       "<td>0.000<br><span style=\"font-size: 75%;\">(0.000,0.000)</span></td>\n",
       "<td>0.315<br><span style=\"font-size: 75%;\">(0.250,0.333)</span></td>\n",
       "<td>1.000<br><span style=\"font-size: 75%;\">(1.000,1.000)</span></td>\n",
       "<td><img src=\"data:image/png;base64,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\"></td>\n",
       "</tr>\n",
       "<tr><td>pfar\n",
       "<td>0.470<br><span style=\"font-size: 75%;\">(0.446,0.493)</span></td>\n",
       "<td>0.375<br><span style=\"font-size: 75%;\">(0.366,0.384)</span></td>\n",
       "<td>0.000<br><span style=\"font-size: 75%;\">(0.000,0.000)</span></td>\n",
       "<td>0.431<br><span style=\"font-size: 75%;\">(0.387,0.431)</span></td>\n",
       "<td>1.000<br><span style=\"font-size: 75%;\">(1.000,1.000)</span></td>\n",
       "<td><img src=\"data:image/png;base64,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\"></td>\n",
       "</tr>\n",
       "<tr><td>softmax\n",
       "<td>0.456<br><span style=\"font-size: 75%;\">(0.433,0.479)</span></td>\n",
       "<td>0.371<br><span style=\"font-size: 75%;\">(0.362,0.382)</span></td>\n",
       "<td>0.000<br><span style=\"font-size: 75%;\">(0.000,0.000)</span></td>\n",
       "<td>0.387<br><span style=\"font-size: 75%;\">(0.387,0.431)</span></td>\n",
       "<td>1.000<br><span style=\"font-size: 75%;\">(1.000,1.000)</span></td>\n",
       "<td><img src=\"data:image/png;base64,iVBORw0KGgoAAAANSUhEUgAAASwAAAAZCAYAAACLvRPfAAAAOnRFWHRTb2Z0d2FyZQBNYXRwbG90bGliIHZlcnNpb24zLjEwLjEsIGh0dHBzOi8vbWF0cGxvdGxpYi5vcmcvc2/+5QAAAAlwSFlzAAAPYQAAD2EBqD+naQAACkVJREFUeJztnG1MW2Ubx38tSIBRQcp0vDjYkLJuLTDmRtlY9kAhQ7+JLCoZGhONMRqniRoTP/jRL/uiaGLMPviCm5q5qCEZbwsgqGV0o7xM2vIWZqkDpAwoLwXK/Xzg4bjS8cgm483zS/45yTlXe65z2v7Pua9z3VUIIQQyMjIymwDleicgIyMjs1Jkw5KRkdk0BN7pC9566y1Onz69otjw8HC0Wi3Hjh0jPz+fw4cPExQUdMdJyizg9XoZGBigv78fh8OBw+HA6XQyPj7O9PQ0U1NTkrxeL6GhoYSEhPgst2/fTkxMDNHR0cTExBATE4NKpUKhUPy1owsXoLAQllYLFmPOn4eCgrU7cBmZ/6G40xpWXV0dZrPZb70QgsHBQTo6OrBarfT09DA/P+8TExYWRk5ODvn5+Tz++OPEx8f/s+y3KPPz8/T09NDa2kpbW5uknp4e5ubmVn1/KpUKjUZDcnIyyUlJJJeUkOxysQcIXhqsUEBcHPT2QkDAqucis3WYm5tjZGSE4eFhSbt370an0931e96xYa2U6elpurq6aG5uprKyksrKSgYHB31iDh8+TFFRESdOnODBBx+8F2lsCsbHxzGZTDQ0NPDzzz9jMpmYmJi4baxSqSQmJoa4uDhiY2OJjY0lPDyc4OBgQkJCJAUEBDA1NcXk5KS0nJiYYHBwEKfTKWlsbGzZvAIALZC2RGqAmhr4z39W8SzIbGacTif19fU0NDTQ0NBAb28vo6OjfnHvvPMO77///l3v554Z1lLm5+exWCyUl5dTXl5OQ0MDi7sOCAggNzeXZ555hoKCAlQq1VqktG643W7q6uqorq6mtraW1tZWv7vR4OBg9u7di16vJyUlBb1ej1arZceOHQQG3vFIflkmJibo6+vDZrNhs9mwl5djq6vDCriWec1u4KDBwKETJzh06BDp6emEhoauWk4yG5+ZmRkuXrzIhQsXqK+vp7e3d9nYiIgI1Go1kZGRnDx5ktdee+2u97tmhrUUp9PJt99+y9mzZ2lqapLWh4SE8MQTT1BcXExubu6q/jjXC6/XS1NTE1VVVVRXV/Prr78yOzvrE5OQkMCRI0fIysriyJEjaLXa9Tn22lrIzkYATsCyRF23eUlAQAB6vZ6MjAwMBgMGgwGNRoNSKT/T2UoIIWhsbOTLL7/km2++YXh4WNqmVCpJTU3l6NGjZGVlodfrUavVPPDAA6v6PV43w7qVrq4uzp07x1dffYXNZpPW79ixg6KiIk6ePElaWppvYXiD43A4qKiooKKigurqakZGRny2JyQkkJeXh9FoJCsri9jY2HXKdAleLyQkQH+/f9EduAmYt2+n6dQpLpvNXL58GafT6RcXERFBRkaGj9Rq9T1PX2b1GRoa4tNPP+Wzzz6jq+uvS1Z0dDRPP/00x48fJzMzk/vvv/+e57IhDGsRIQRms5kvvviCc+fO+Th4YmIihYWFFBYWcuDAgQ1nXmNjY/z0009cunSJqqoqrl275rM9IiICo9FIXl4eubm5JCYmrlOmK2DxKSH4mtYyTwn7+/tpbGzEZDJhMpkwm81MTU35ve0jjzyCwWDg0KFDHDx4kLS0NIKD/cr6MhuEtrY2PvjgA0pLS/F4PACEhoZSUFBAcXExRqORgLV+8CI2KB6PR/zwww+isLBQBAcHC0BSQkKCePPNN0VVVZWYmJhYl/zGx8fFpUuXxLvvvisyMzNFQECAT45KpVIYDAbx3nvviV9++UXMzs6uS553zXffCREXJ8SCZS3o4YcX1v8NMzMz4sqVK+Ljjz8Wzz77rNBoND7nZlGBgYEiPT1dvPTSS+LMmTOiublZeDyeNTg4meXwer2irKxMGI1Gn8/q4MGD4vPPPxfj4+Prmt+GusNaDrfbzcWLFzl//jxlZWVMTk5K24KCgsjIyCA7O5vs7GwMBsOqX7W9Xi9Wq5XGxkbpTqK9vd2vUJ6YmIjRaMRoNJKbm0tkZOSq5rHmeL1QXw9//AHR0XD06F23MrhcLpqamjCZTDQ1NXH58mWGhob84oKCgtDr9Rw4cID09HT279+PTqeTi/r3GI/HQ2lpKadPn8ZqtQILdaknn3yS119/nczMzA0xqtkUhnUrk5OTlJeX8/3331NTU4PD4fDZrlQq2bVrF3v27JGk0WhQq9WoVCrCwsIICwuTGlg9Hg9jY2OSXC4XPT092O12Ojs7sdvtdHd3MzMz45dLXFwcx44dIycnB6PRKPeV3QFCCK5fvy6Zl9lsprm5mZs3b/rFKpVKNBoNaWlppKamkpaWRkpKCtHR0RviR7SZGRkZ4ZNPPuHDDz/kxo0bwELD94svvsirr7664b7Tm86wbkUIQXd3NzU1NZIWT/rfcd9996FQKG5rRLdj27ZtPProoz5F5A1TKN8iCCHo7e3l6tWrXL16lStXrmCxWPz69xZRq9WkpKT4aO/evfLd2Aro7u7mo48+4syZM7jdbmDhAvzGG2/wwgsvrEkB/W7Y1Ia1FCEEAwMDWK1WH3V2djI6Oorb7ZaKh0vZtm0b4eHhhIeHk5CQQFJSEhqNhqSkJJKSkti5c+faFxhlALhx4wYWiwWLxUJLSwsWiwW73e43JAdQKBQkJSX59K+lpKSwa9euf32bhRCC6upqSkpKKCsrk/ogdTodb7/9Nk899dSGnzq3pQxrJczOzuJ2u3G73czPzxMeHo5KpZLNaJMxNTVFR0cHra2ttLa20tLSQltb223rYrBwQVo0r0Xp9XoiIiLWNvF1YHR0lLNnz1JSUkJHR4e0Pj8/n1OnTnH8+PFNM7T+1xmWzNZmYGBAmoO5aGa//fbbsnfW8fHxpKSkkJqaKi0TExM3/QVsZmaGiooKSktL+fHHH5mengYW5vM+//zzvPLKKyQnJ69zlneObFgyW565uTk6OzslA1vU9evXbxsfEhKCTqeTTEyv10ud2xuZ2dlZTCYTX3/9tV8nular5eWXX+a5557bsPWplSAblsy/lpGREdra2mhpaZGGle3t7bdteoWFmRc6nQ69Xs++ffvQarUkJyevm5EJIbDb7VRVVVFZWUltbS3j4+PS9oceeoiioiKKi4s33UyR5ZANS0bmFrxeL93d3X4m9v8m90ZFRbFnzx6Sk5NJTEwkPj5eUnR09KoML2dnZ7Hb7bS3t3Pt2jXa29sxm838/vvvPnFqtZrHHnuM4uJicnJytsRc3FuRDUtGZgW43W7JKBZls9n8DGMpgYGBxMbGEhUVRWRkpPSvBWq1muDgYBQKBQqFAqVSiUKhwOv14nK5+PPPPyUNDQ3R19fnN2EeFhpts7KyyMvLIy8vj/3792/pp6GyYcnI/AMmJiaw2+3YbDasViu9vb309fXR19eHw+FY1T9cVKlU6HQ6dDod+/btQ6/XYzAY/lV9Z7JhycjcI7xeL06nE4fDgcvlwuVyMTw8LC09Hg9CCEnz8/MolUoiIyOJioqSpFariY+PZ+fOnVuiDvVPkA1LRkZm07B1B7syMjJbjv8CtmKfuR+cj+cAAAAASUVORK5CYII=\"></td>\n",
       "</tr>\n",
       "<tr><td>topic_cali\n",
       "<td>0.469<br><span style=\"font-size: 75%;\">(0.446,0.491)</span></td>\n",
       "<td>0.370<br><span style=\"font-size: 75%;\">(0.360,0.380)</span></td>\n",
       "<td>0.000<br><span style=\"font-size: 75%;\">(0.000,0.000)</span></td>\n",
       "<td>0.420<br><span style=\"font-size: 75%;\">(0.387,0.431)</span></td>\n",
       "<td>1.000<br><span style=\"font-size: 75%;\">(1.000,1.000)</span></td>\n",
       "<td><img src=\"data:image/png;base64,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\"></td>\n",
       "</tr>\n",
       "</tbody>\n",
       "</table>\n"
      ],
      "text/plain": [
       "<IPython.core.display.HTML object>"
      ]
     },
     "metadata": {},
     "output_type": "display_data"
    },
    {
     "data": {
      "text/html": [
       "<h3>Summary Table for RR</h3>"
      ],
      "text/plain": [
       "<IPython.core.display.HTML object>"
      ]
     },
     "metadata": {},
     "output_type": "display_data"
    },
    {
     "data": {
      "text/html": [
       "<table>\n",
       "<thead><tr>\n",
       "<th>Algorithm\n",
       "<th>Mean\n",
       "<th>Std Dev\n",
       "<th>10%ile\n",
       "<th>Median\n",
       "<th>90%ile\n",
       "<th>Dist. (KDE)\n",
       "</tr></thead>\n",
       "<tbody>\n",
       "<tr><td>mmr\n",
       "<td>0.349<br><span style=\"font-size: 75%;\">(0.326,0.371)</span></td>\n",
       "<td>0.364<br><span style=\"font-size: 75%;\">(0.352,0.377)</span></td>\n",
       "<td>0.000<br><span style=\"font-size: 75%;\">(0.000,0.000)</span></td>\n",
       "<td>0.250<br><span style=\"font-size: 75%;\">(0.200,0.250)</span></td>\n",
       "<td>1.000<br><span style=\"font-size: 75%;\">(1.000,1.000)</span></td>\n",
       "<td><img src=\"data:image/png;base64,iVBORw0KGgoAAAANSUhEUgAAASwAAAAZCAYAAACLvRPfAAAAOnRFWHRTb2Z0d2FyZQBNYXRwbG90bGliIHZlcnNpb24zLjEwLjEsIGh0dHBzOi8vbWF0cGxvdGxpYi5vcmcvc2/+5QAAAAlwSFlzAAAPYQAAD2EBqD+naQAAB71JREFUeJztnNtOWmkbx3+yKQqogAhuwAUWd2iTNqamB9o6B3MDk97CHExPJnPUW+jhTOagNzFpMndgg02N1jYxiEkFFVGQLnCBolhhwXfQzzVl3NQ6dVffX/LPuwK8az0Lwj/v5nlWXbVarSIQCATXAN1lByAQCASnRRiWQCC4NhjO0klRFObn52sUiUTY2Nj41vEdi8ViweFwYLfba1qHw0FLSwstLS04nU7tuLW1FYfDgV6vv7AYBQLBt6Xua9ewnjx5wvPnz49932g04na7cbvdtLW14XK5MJvNmEwm6uvrMZlMmEwmdDod5XKZUqlEqVSiXC6zv7/P7u4uhUJB0/b2Ntvb2+TzeXK5HDs7O2e+WZ1OR0tLCy6XS1N7ezttbW01rcfjwWazUVdXd+ZrCQSCb89Xj7A8Hg8AXq+XwcFBBgcHCQaDDA4OEggEcDgc5/pHL5VKbG1toSgKuVyOzc1NNjc3URSFbDbL5uYm2WxWUyaTIZvNoigKlUoFWZaRZZn5+fkTr2OxWPB4PHi9XrxeL11dXfj9fk0dHR1itCYQXDBfPcLK5XLodDqamprOK6ZzoVQqkclkkGWZDx8+IMsy6XSaVCrFxsaG1iaTSbLZ7BfPZzQakSSJnp4eenp66O3t1Vqv1yvMTCA4B77asG4CxWKRtbU11tbWSCQSJBIJ4vE4y8vLLC8vE4/HKZfLx/Y3mUz09fUxMDBAf38/AwMDDAwM0NfXh8lkOltQqgqhEKRS0N4OY2MgTFFwwxCGdQZUVWV9fZ1YLEY0GmVxcZH379+zuLhINBplf3//yH56vZ5AIMDQ0JA2nR4aGqKnpwej0Xj8BV+8gF9/hbW1f17zeOCPP+Cnn77x3QkEVxdhWN8YVVWJx+NEIhEWFhZqlM/nj+xjNBrp6+tjaGhIUzAYpLu7G/3ff8Pjx/Dvn+lgnfCvv4RpCW4MwrAuiGq1SjKZJBwOa6kg4XCYSCRCoVA4so/JZKK/UiFYKhEEBoA+4DbQAJ9My+OB5WUxPRRcGba3t5FlmUKhwM7OTs2ufzAYZHh4+MznFoZ1yVQqFRKJBOFwWDOzcDjMwsICe3t7R/apA7qA3v+r+5df8P/4Iz6fD7/fj81mu7gbENxIisUic3NzzM3NEYvFtPXdpaWlEzetnj59yrNnz858XWFYVxRVVYn/+Sfzv/1GBIgAC8B74OiJ5T/YbDYkSaKzs5OOjg6t7ejowO1243Q6aW1txWKxiFwzwRfZ39/n3bt3TE9P8/btW2ZnZ4lEIqiqemwfs9lMY2MjVqsVi8WC1WrFarXy+PFjfv755zPHIgzrKjMxAT/8UPNSFZD5ZFwHWh4fZ3lnh5WVFWRZPvXpTSYTra2tOJ1ObDYbdru9pv1czc3N2rHdbsdqtQqz+04pFAq8fv2ayclJQqEQU1NTFIvFQ59zuVzcu3eP3t5e/H4/3d3dWp5iY2PjucQmDOsqo6rg88H6+uFFdzhyDatQKBCPx1ldXSWZTLK+vk4ymdSODxJnj5tunhaDwYDdbtdKopxOZ00Fgcvlwu12ayO8pqYmYXBXlEKhwOTkJBMTE0xMTPDmzZtDo6eWlhYePHjA8PCwpo6Ojgv/TYVhXXVevPi0Swi1pvUfdgmr1Sq7u7uaeWWzWXK5nFY9oCgKiqKQz+e1kqhcLkc+n0dRlGPTNk7CYrHQ2dmJx+PRqgYO1tx8Pp+oHLhAcrkcr169IhQK8fLlS2ZmZg4ZVFdXF2NjY5r6+/vR6S7/WQnCsK4DR+Vheb3w++8XntJQrVYpFotaOdRBSdTnVQQHlQSpVIr19XVyudwXz3vr1i26u7sJBAKHJEkSBsOZ6vRvPNVqlUQiwdTUFKFQiFAoxNzcHP/+2/v9fsbHxxkfH+fRo0dIknRJEZ+MMKzrwjXOdN/Z2SGZTGrVA/F4nJWVFW1naXV19cQFXKPRiN/vp6enh0AgoLW3b99GkqSTk25vGJlMhtnZWWZmZpienmZ6epp0On3oc4FAgIcPHzI2Nsb4+Dg+n+/igz0DwrAEl065XCaRSGiVA9FolFgsxuLiIrFY7MT1Nr1eT1dXF4FAAL/fjyRJSJKEz+dDkiTa29u/u6lmtVpFlmWi0WhNTl84HD7SnPR6PXfu3GF0dJSHDx8yOjpKe3v7JUT+3xGGJbjSVCoV1tbWtBKoA8ViMZaWlo7cvfocg8FAW1ubltZxsAngcrlwOp01stvtl25uqqqSzWZJp9NsbGyQTqdJp9Osrq5qeU4rKysnPmYpEAgwMjLCyMgI9+/f5+7du5jN5gu8i/NDGJbg2lKtVkmlUtrIbGVlRZtuxuNxEonEiVPNo2hsbKSpqalGZrOZhoYGGhoaqK+vp6GhAZPJhMFgQK/Xo9frtWP4ZLKfS1VV9vb2+PjxI3t7e5q2t7fZ2trSNjfy+TxbW1tUKpVTxdrZ2anVox7UpwaDQaxW61d/l9cFYViC75ZyuUwqlSKVSmmpHQeSZZlMJqPpNBsDF4nT6dQehOl2u/F4PDXPY5Mkifr6+ssO88IRhiUQ8Ol5aYqisLW1VaN8Ps/u7i57e3sUi8WaVlXVGpXLZerq6tDpdIdUX1+vPXH3oLVarTQ3Nx9Sa2ur2BU9BmFYAoHg2nD5mWACgUBwSv4HnREeW+HCuQgAAAAASUVORK5CYII=\"></td>\n",
       "</tr>\n",
       "<tr><td>nrms\n",
       "<td>0.353<br><span style=\"font-size: 75%;\">(0.330,0.376)</span></td>\n",
       "<td>0.360<br><span style=\"font-size: 75%;\">(0.348,0.374)</span></td>\n",
       "<td>0.000<br><span style=\"font-size: 75%;\">(0.000,0.000)</span></td>\n",
       "<td>0.250<br><span style=\"font-size: 75%;\">(0.200,0.250)</span></td>\n",
       "<td>1.000<br><span style=\"font-size: 75%;\">(1.000,1.000)</span></td>\n",
       "<td><img src=\"data:image/png;base64,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\"></td>\n",
       "</tr>\n",
       "<tr><td>nrms_images\n",
       "<td>0.363<br><span style=\"font-size: 75%;\">(0.341,0.385)</span></td>\n",
       "<td>0.364<br><span style=\"font-size: 75%;\">(0.352,0.377)</span></td>\n",
       "<td>0.000<br><span style=\"font-size: 75%;\">(0.000,0.000)</span></td>\n",
       "<td>0.250<br><span style=\"font-size: 75%;\">(0.200,0.250)</span></td>\n",
       "<td>1.000<br><span style=\"font-size: 75%;\">(1.000,1.000)</span></td>\n",
       "<td><img src=\"data:image/png;base64,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\"></td>\n",
       "</tr>\n",
       "<tr><td>nrms_rrf_static_user\n",
       "<td>0.310<br><span style=\"font-size: 75%;\">(0.289,0.332)</span></td>\n",
       "<td>0.342<br><span style=\"font-size: 75%;\">(0.328,0.358)</span></td>\n",
       "<td>0.000<br><span style=\"font-size: 75%;\">(0.000,0.000)</span></td>\n",
       "<td>0.200<br><span style=\"font-size: 75%;\">(0.167,0.200)</span></td>\n",
       "<td>1.000<br><span style=\"font-size: 75%;\">(1.000,1.000)</span></td>\n",
       "<td><img src=\"data:image/png;base64,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\"></td>\n",
       "</tr>\n",
       "<tr><td>nrms_topic_scores\n",
       "<td>0.359<br><span style=\"font-size: 75%;\">(0.337,0.381)</span></td>\n",
       "<td>0.362<br><span style=\"font-size: 75%;\">(0.350,0.375)</span></td>\n",
       "<td>0.000<br><span style=\"font-size: 75%;\">(0.000,0.000)</span></td>\n",
       "<td>0.250<br><span style=\"font-size: 75%;\">(0.200,0.250)</span></td>\n",
       "<td>1.000<br><span style=\"font-size: 75%;\">(1.000,1.000)</span></td>\n",
       "<td><img src=\"data:image/png;base64,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\"></td>\n",
       "</tr>\n",
       "<tr><td>nrms_topics_static\n",
       "<td>0.236<br><span style=\"font-size: 75%;\">(0.217,0.255)</span></td>\n",
       "<td>0.308<br><span style=\"font-size: 75%;\">(0.292,0.326)</span></td>\n",
       "<td>0.000<br><span style=\"font-size: 75%;\">(0.000,0.000)</span></td>\n",
       "<td>0.125<br><span style=\"font-size: 75%;\">(0.125,0.143)</span></td>\n",
       "<td>1.000<br><span style=\"font-size: 75%;\">(0.500,1.000)</span></td>\n",
       "<td><img src=\"data:image/png;base64,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\"></td>\n",
       "</tr>\n",
       "<tr><td>pfar\n",
       "<td>0.364<br><span style=\"font-size: 75%;\">(0.342,0.387)</span></td>\n",
       "<td>0.364<br><span style=\"font-size: 75%;\">(0.352,0.378)</span></td>\n",
       "<td>0.000<br><span style=\"font-size: 75%;\">(0.000,0.000)</span></td>\n",
       "<td>0.250<br><span style=\"font-size: 75%;\">(0.200,0.250)</span></td>\n",
       "<td>1.000<br><span style=\"font-size: 75%;\">(1.000,1.000)</span></td>\n",
       "<td><img src=\"data:image/png;base64,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\"></td>\n",
       "</tr>\n",
       "<tr><td>softmax\n",
       "<td>0.346<br><span style=\"font-size: 75%;\">(0.324,0.368)</span></td>\n",
       "<td>0.355<br><span style=\"font-size: 75%;\">(0.343,0.369)</span></td>\n",
       "<td>0.000<br><span style=\"font-size: 75%;\">(0.000,0.000)</span></td>\n",
       "<td>0.200<br><span style=\"font-size: 75%;\">(0.200,0.250)</span></td>\n",
       "<td>1.000<br><span style=\"font-size: 75%;\">(1.000,1.000)</span></td>\n",
       "<td><img src=\"data:image/png;base64,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\"></td>\n",
       "</tr>\n",
       "<tr><td>topic_cali\n",
       "<td>0.366<br><span style=\"font-size: 75%;\">(0.344,0.388)</span></td>\n",
       "<td>0.365<br><span style=\"font-size: 75%;\">(0.353,0.378)</span></td>\n",
       "<td>0.000<br><span style=\"font-size: 75%;\">(0.000,0.000)</span></td>\n",
       "<td>0.250<br><span style=\"font-size: 75%;\">(0.200,0.250)</span></td>\n",
       "<td>1.000<br><span style=\"font-size: 75%;\">(1.000,1.000)</span></td>\n",
       "<td><img src=\"data:image/png;base64,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\"></td>\n",
       "</tr>\n",
       "</tbody>\n",
       "</table>\n"
      ],
      "text/plain": [
       "<IPython.core.display.HTML object>"
      ]
     },
     "metadata": {},
     "output_type": "display_data"
    }
   ],
   "source": [
    "for metric in effectiveness_metrics:\n",
    "    tw = EvalTable(mind_subset_user_metrics, \"pipeline\", metric)\n",
    "    tw.add_stat(\"Mean\", np.mean, ci=True)\n",
    "    tw.add_stat(\"Std Dev\", np.std, ci=True)\n",
    "    tw.add_quantiles([\"10%ile\", \"Median\", \"90%ile\"], [0.1, 0.5, 0.9], ci=True)\n",
    "    display(HTML(f\"<h3>Summary Table for {metric}</h3>\"))\n",
    "    display(HTML(tw.html_table()))"
   ]
  },
  {
   "cell_type": "markdown",
   "id": "8f2085ad",
   "metadata": {
    "papermill": {
     "duration": 0.023716,
     "end_time": "2025-06-10T17:36:33.252166",
     "exception": false,
     "start_time": "2025-06-10T17:36:33.228450",
     "status": "completed"
    },
    "tags": []
   },
   "source": [
    "### Ranking Overlap Metrics\n",
    "RBO measures the similarity between two ranked lists, evaluating how much overlap exists between pure top-k recommendations and the actual rankings produced after recommendations. RBO can be applied at different list depths to analyze performance consistency, such as RBO@5 and RBO@10."
   ]
  },
  {
   "cell_type": "code",
   "execution_count": 9,
   "id": "e814150d",
   "metadata": {
    "execution": {
     "iopub.execute_input": "2025-06-10T17:36:33.264446Z",
     "iopub.status.busy": "2025-06-10T17:36:33.264333Z",
     "iopub.status.idle": "2025-06-10T17:36:33.489842Z",
     "shell.execute_reply": "2025-06-10T17:36:33.489636Z"
    },
    "papermill": {
     "duration": 0.234639,
     "end_time": "2025-06-10T17:36:33.490414",
     "exception": false,
     "start_time": "2025-06-10T17:36:33.255775",
     "status": "completed"
    },
    "tags": []
   },
   "outputs": [
    {
     "data": {
      "image/png": "[encoded data removed]",
      "text/plain": [
       "<Figure size 800x300 with 2 Axes>"
      ]
     },
     "metadata": {},
     "output_type": "display_data"
    }
   ],
   "source": [
    "plt.figure(figsize=(8, 3))\n",
    "plt.subplots_adjust(wspace=0.3)\n",
    "\n",
    "for i, metric in enumerate(overlap_metrics, 1):\n",
    "    plt.subplot(1, 2, i)\n",
    "    sns.barplot(data=mind_subset_user_metrics, x=\"pipeline\", y=metric)\n",
    "    plt.xticks(rotation=45)\n",
    "\n",
    "plt.show()"
   ]
  },
  {
   "cell_type": "markdown",
   "id": "0004c224",
   "metadata": {
    "papermill": {
     "duration": 0.008787,
     "end_time": "2025-06-10T17:36:33.501189",
     "exception": false,
     "start_time": "2025-06-10T17:36:33.492402",
     "status": "completed"
    },
    "tags": []
   },
   "source": [
    "The summary tables show the mean values, standard deviation, and quantiles (10%ile, Median, 90%ile), each accompanied by their respective 95% confidence intervals for ranking overlap metrics across recommenders."
   ]
  },
  {
   "cell_type": "code",
   "execution_count": 10,
   "id": "39273d26",
   "metadata": {
    "execution": {
     "iopub.execute_input": "2025-06-10T17:36:33.505137Z",
     "iopub.status.busy": "2025-06-10T17:36:33.505040Z",
     "iopub.status.idle": "2025-06-10T17:36:44.307167Z",
     "shell.execute_reply": "2025-06-10T17:36:44.306928Z"
    },
    "papermill": {
     "duration": 10.804733,
     "end_time": "2025-06-10T17:36:44.307634",
     "exception": false,
     "start_time": "2025-06-10T17:36:33.502901",
     "status": "completed"
    },
    "tags": []
   },
   "outputs": [
    {
     "data": {
      "text/html": [
       "<h3>Summary Table for RBO@5</h3>"
      ],
      "text/plain": [
       "<IPython.core.display.HTML object>"
      ]
     },
     "metadata": {},
     "output_type": "display_data"
    },
    {
     "data": {
      "text/html": [
       "<table>\n",
       "<thead><tr>\n",
       "<th>Algorithm\n",
       "<th>Mean\n",
       "<th>Std Dev\n",
       "<th>10%ile\n",
       "<th>Median\n",
       "<th>90%ile\n",
       "<th>Dist. (KDE)\n",
       "</tr></thead>\n",
       "<tbody>\n",
       "<tr><td>mmr\n",
       "<td>0.305<br><span style=\"font-size: 75%;\">(0.300,0.309)</span></td>\n",
       "<td>0.077<br><span style=\"font-size: 75%;\">(0.070,0.084)</span></td>\n",
       "<td>0.235<br><span style=\"font-size: 75%;\">(0.230,0.248)</span></td>\n",
       "<td>0.307<br><span style=\"font-size: 75%;\">(0.307,0.319)</span></td>\n",
       "<td>0.383<br><span style=\"font-size: 75%;\">(0.378,0.391)</span></td>\n",
       "<td><img src=\"data:image/png;base64,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\"></td>\n",
       "</tr>\n",
       "<tr><td>nrms\n",
       "<td>0.000<br><span style=\"font-size: 75%;\">(0.000,0.000)</span></td>\n",
       "<td>0.000<br><span style=\"font-size: 75%;\">(0.000,0.000)</span></td>\n",
       "<td>0.000<br><span style=\"font-size: 75%;\">(0.000,0.000)</span></td>\n",
       "<td>0.000<br><span style=\"font-size: 75%;\">(0.000,0.000)</span></td>\n",
       "<td>0.000<br><span style=\"font-size: 75%;\">(0.000,0.000)</span></td>\n",
       "<td></td>\n",
       "</tr>\n",
       "<tr><td>nrms_images\n",
       "<td>0.000<br><span style=\"font-size: 75%;\">(0.000,0.000)</span></td>\n",
       "<td>0.000<br><span style=\"font-size: 75%;\">(0.000,0.000)</span></td>\n",
       "<td>0.000<br><span style=\"font-size: 75%;\">(0.000,0.000)</span></td>\n",
       "<td>0.000<br><span style=\"font-size: 75%;\">(0.000,0.000)</span></td>\n",
       "<td>0.000<br><span style=\"font-size: 75%;\">(0.000,0.000)</span></td>\n",
       "<td></td>\n",
       "</tr>\n",
       "<tr><td>nrms_rrf_static_user\n",
       "<td>0.000<br><span style=\"font-size: 75%;\">(0.000,0.000)</span></td>\n",
       "<td>0.000<br><span style=\"font-size: 75%;\">(0.000,0.000)</span></td>\n",
       "<td>0.000<br><span style=\"font-size: 75%;\">(0.000,0.000)</span></td>\n",
       "<td>0.000<br><span style=\"font-size: 75%;\">(0.000,0.000)</span></td>\n",
       "<td>0.000<br><span style=\"font-size: 75%;\">(0.000,0.000)</span></td>\n",
       "<td></td>\n",
       "</tr>\n",
       "<tr><td>nrms_topic_scores\n",
       "<td>0.000<br><span style=\"font-size: 75%;\">(0.000,0.000)</span></td>\n",
       "<td>0.000<br><span style=\"font-size: 75%;\">(0.000,0.000)</span></td>\n",
       "<td>0.000<br><span style=\"font-size: 75%;\">(0.000,0.000)</span></td>\n",
       "<td>0.000<br><span style=\"font-size: 75%;\">(0.000,0.000)</span></td>\n",
       "<td>0.000<br><span style=\"font-size: 75%;\">(0.000,0.000)</span></td>\n",
       "<td></td>\n",
       "</tr>\n",
       "<tr><td>nrms_topics_static\n",
       "<td>0.000<br><span style=\"font-size: 75%;\">(0.000,0.000)</span></td>\n",
       "<td>0.000<br><span style=\"font-size: 75%;\">(0.000,0.000)</span></td>\n",
       "<td>0.000<br><span style=\"font-size: 75%;\">(0.000,0.000)</span></td>\n",
       "<td>0.000<br><span style=\"font-size: 75%;\">(0.000,0.000)</span></td>\n",
       "<td>0.000<br><span style=\"font-size: 75%;\">(0.000,0.000)</span></td>\n",
       "<td></td>\n",
       "</tr>\n",
       "<tr><td>pfar\n",
       "<td>0.389<br><span style=\"font-size: 75%;\">(0.384,0.394)</span></td>\n",
       "<td>0.078<br><span style=\"font-size: 75%;\">(0.067,0.089)</span></td>\n",
       "<td>0.396<br><span style=\"font-size: 75%;\">(0.307,0.396)</span></td>\n",
       "<td>0.410<br><span style=\"font-size: 75%;\">(0.410,0.410)</span></td>\n",
       "<td>0.410<br><span style=\"font-size: 75%;\">(0.410,0.410)</span></td>\n",
       "<td><img src=\"data:image/png;base64,iVBORw0KGgoAAAANSUhEUgAAASwAAAAZCAYAAACLvRPfAAAAOnRFWHRTb2Z0d2FyZQBNYXRwbG90bGliIHZlcnNpb24zLjEwLjEsIGh0dHBzOi8vbWF0cGxvdGxpYi5vcmcvc2/+5QAAAAlwSFlzAAAPYQAAD2EBqD+naQAABTtJREFUeJzt3F1IVGkYwPH/6IxnyubMaDomStR2Eyp0sUlFlnQj4RJSGAVGMmgL3q2LF25RuzcWWAsF2dV64fbBXqiQENtNYMzFYlHRoiTYx0WmjU7pzCw4H2fm7IV1MNNdZ9TGmZ4fvJwzZ97zvs/MwDPvec4wJl3XdYQQIgVkJDsAIYRYKklYQoiUIQnrK+FyuTCZTNhsNoaHh5MdjhAJMUkNK/319fVRU1NjPN6+fTsPHjzAZrMlMSoh4icrrDTn9Xo5deoUAA0NDRQVFTE8PIzL5UK+q0SqkYSVjqJR6O9Hv3WLptpaJiYmKC0t5erVq3R3d2OxWOjp6eHSpUvJjlSIuEjCSje9vbBlCxw4wB91dXTfv48Z6Kqvx2q1snv3bq5cuQJAa2sr9+7dS2q4QsRDaljppLcXamtB1xkDyoAp4BfgZ5MJurvhyBF0XcflctHV1UVeXh6PHj1i8+bNSQ1diKWQhJUuotHZldXoKDrwHfAn8C3wF2AxmaC4GF69gsxMZmZm2Lt3L0+ePKG8vBy3242iKMl8BUL8L7kkTBduN4yOAvAbs8lKAX4HLAC6Dq9fz/YD1q1bR09PD7m5uTx8+JD29vbkxC1EHCRhpYvxcQBeAT9+ONQGlCzSD2Dr1q10dHTM9m1rY2RkZLWjFGJZJGGli8JCYoAL+AfYB/ywSL+5jh07RlVVFaFQiKamJvmpg1jTpIaVLqJRLm/cSLPPRzbwN/DN3Ofn1bDmevHiBWVlZQSDQW7cuEFdXd0XDFyIpZMVVpoYHhnhp5kZAH5lgWQFcPnyZ8kKYNu2bZw9exaA5uZm3r9/v6qxCpEoSVhpQNM06uvrCYbDVO3YwfdFRZ92KC42ftKwmJaWFkpKSpicnKS1tXWVIxYiMXJJmAbOnz/PmTNnsNvtDA4OUlxYOHs3cHx8tma1b9+CK6v53G43+/fvN/YrKipWO3Qh4iIJK8U9ffqU8vJyIpEI169f58SJE8sar7Gxkc7OTkpLS3n8+DFZWVkrFKkQyyeXhCns+fPnnDx5kkgkwuHDh1ekWN7e3k5+fj5DQ0M0NDTIX9GINSXuFdbY2Bg+nw9VVbHZbGzYsIGMDMl7/0XXdaamppiYmMDj8eDxeIz9UChEXl7eZy03NxeHw4HZbDbGicViDAwM0NfXx+3bt3n27BkA+fn5DA4O4nQ6VyTemzdvfrJSq6iooLGxkaNHj7J+/foVmUOIRMSdsE6fPs2FCxc+OWaz2VBVFVVVsdvt2O12HA4HdrsdVVWxWCyYzWYyMzONbUZGBqYPd68+bufvryUf36a5b5eu62iaRjgcJhKJGC0QCODxeHj79q2RoMLhcELz2mw2cnJyyMnJMcb7yGw2U1lZSVtbG7t27VreC5zn7t27XLt2jTt37hCLxQBQVZVDhw7hcDhQFAWr1YqiKCiKQuYiNbK1+nmK5Ni5cyeVlZUJnx93wjp37hwdHR34/X40TUt44q+R3W6noKDAaE6nE0VRePfuHV6vF6/Xy+TkJF6vl0AgsOAYqqpSXV1NTU0NBw8exOFwrGrMb968oauri87OTl6+fLmqc4n019LSwsWLFxM+P+Giu67rBINB/H4/gUAAn8+H3+/H5/MxPT2Nz+czjmmaZrRoNIqmaca39vwx17KFVoRmsxmLxWK0rKwssrOzKSgoYNOmTcbW6XRitVqXPJemaUxPTzM1NWU0q9XKnj17klIIj8Vi9Pf3MzAwQDAYJBgMEgqFjG0qfp7iy6uurub48eMJny93CYUQKUOq5UKIlPEvc9oRxnr38UMAAAAASUVORK5CYII=\"></td>\n",
       "</tr>\n",
       "<tr><td>softmax\n",
       "<td>0.301<br><span style=\"font-size: 75%;\">(0.295,0.307)</span></td>\n",
       "<td>0.093<br><span style=\"font-size: 75%;\">(0.088,0.099)</span></td>\n",
       "<td>0.187<br><span style=\"font-size: 75%;\">(0.175,0.193)</span></td>\n",
       "<td>0.310<br><span style=\"font-size: 75%;\">(0.308,0.324)</span></td>\n",
       "<td>0.396<br><span style=\"font-size: 75%;\">(0.396,0.410)</span></td>\n",
       "<td><img src=\"data:image/png;base64,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\"></td>\n",
       "</tr>\n",
       "<tr><td>topic_cali\n",
       "<td>0.389<br><span style=\"font-size: 75%;\">(0.384,0.394)</span></td>\n",
       "<td>0.078<br><span style=\"font-size: 75%;\">(0.067,0.089)</span></td>\n",
       "<td>0.396<br><span style=\"font-size: 75%;\">(0.307,0.396)</span></td>\n",
       "<td>0.410<br><span style=\"font-size: 75%;\">(0.410,0.410)</span></td>\n",
       "<td>0.410<br><span style=\"font-size: 75%;\">(0.410,0.410)</span></td>\n",
       "<td><img src=\"data:image/png;base64,iVBORw0KGgoAAAANSUhEUgAAASwAAAAZCAYAAACLvRPfAAAAOnRFWHRTb2Z0d2FyZQBNYXRwbG90bGliIHZlcnNpb24zLjEwLjEsIGh0dHBzOi8vbWF0cGxvdGxpYi5vcmcvc2/+5QAAAAlwSFlzAAAPYQAAD2EBqD+naQAABTtJREFUeJzt3F1IVGkYwPH/6IxnyubMaDomStR2Eyp0sUlFlnQj4RJSGAVGMmgL3q2LF25RuzcWWAsF2dV64fbBXqiQENtNYMzFYlHRoiTYx0WmjU7pzCw4H2fm7IV1MNNdZ9TGmZ4fvJwzZ97zvs/MwDPvec4wJl3XdYQQIgVkJDsAIYRYKklYQoiUIQnrK+FyuTCZTNhsNoaHh5MdjhAJMUkNK/319fVRU1NjPN6+fTsPHjzAZrMlMSoh4icrrDTn9Xo5deoUAA0NDRQVFTE8PIzL5UK+q0SqkYSVjqJR6O9Hv3WLptpaJiYmKC0t5erVq3R3d2OxWOjp6eHSpUvJjlSIuEjCSje9vbBlCxw4wB91dXTfv48Z6Kqvx2q1snv3bq5cuQJAa2sr9+7dS2q4QsRDaljppLcXamtB1xkDyoAp4BfgZ5MJurvhyBF0XcflctHV1UVeXh6PHj1i8+bNSQ1diKWQhJUuotHZldXoKDrwHfAn8C3wF2AxmaC4GF69gsxMZmZm2Lt3L0+ePKG8vBy3242iKMl8BUL8L7kkTBduN4yOAvAbs8lKAX4HLAC6Dq9fz/YD1q1bR09PD7m5uTx8+JD29vbkxC1EHCRhpYvxcQBeAT9+ONQGlCzSD2Dr1q10dHTM9m1rY2RkZLWjFGJZJGGli8JCYoAL+AfYB/ywSL+5jh07RlVVFaFQiKamJvmpg1jTpIaVLqJRLm/cSLPPRzbwN/DN3Ofn1bDmevHiBWVlZQSDQW7cuEFdXd0XDFyIpZMVVpoYHhnhp5kZAH5lgWQFcPnyZ8kKYNu2bZw9exaA5uZm3r9/v6qxCpEoSVhpQNM06uvrCYbDVO3YwfdFRZ92KC42ftKwmJaWFkpKSpicnKS1tXWVIxYiMXJJmAbOnz/PmTNnsNvtDA4OUlxYOHs3cHx8tma1b9+CK6v53G43+/fvN/YrKipWO3Qh4iIJK8U9ffqU8vJyIpEI169f58SJE8sar7Gxkc7OTkpLS3n8+DFZWVkrFKkQyyeXhCns+fPnnDx5kkgkwuHDh1ekWN7e3k5+fj5DQ0M0NDTIX9GINSXuFdbY2Bg+nw9VVbHZbGzYsIGMDMl7/0XXdaamppiYmMDj8eDxeIz9UChEXl7eZy03NxeHw4HZbDbGicViDAwM0NfXx+3bt3n27BkA+fn5DA4O4nQ6VyTemzdvfrJSq6iooLGxkaNHj7J+/foVmUOIRMSdsE6fPs2FCxc+OWaz2VBVFVVVsdvt2O12HA4HdrsdVVWxWCyYzWYyMzONbUZGBqYPd68+bufvryUf36a5b5eu62iaRjgcJhKJGC0QCODxeHj79q2RoMLhcELz2mw2cnJyyMnJMcb7yGw2U1lZSVtbG7t27VreC5zn7t27XLt2jTt37hCLxQBQVZVDhw7hcDhQFAWr1YqiKCiKQuYiNbK1+nmK5Ni5cyeVlZUJnx93wjp37hwdHR34/X40TUt44q+R3W6noKDAaE6nE0VRePfuHV6vF6/Xy+TkJF6vl0AgsOAYqqpSXV1NTU0NBw8exOFwrGrMb968oauri87OTl6+fLmqc4n019LSwsWLFxM+P+Giu67rBINB/H4/gUAAn8+H3+/H5/MxPT2Nz+czjmmaZrRoNIqmaca39vwx17KFVoRmsxmLxWK0rKwssrOzKSgoYNOmTcbW6XRitVqXPJemaUxPTzM1NWU0q9XKnj17klIIj8Vi9Pf3MzAwQDAYJBgMEgqFjG0qfp7iy6uurub48eMJny93CYUQKUOq5UKIlPEvc9oRxnr38UMAAAAASUVORK5CYII=\"></td>\n",
       "</tr>\n",
       "</tbody>\n",
       "</table>\n"
      ],
      "text/plain": [
       "<IPython.core.display.HTML object>"
      ]
     },
     "metadata": {},
     "output_type": "display_data"
    },
    {
     "data": {
      "text/html": [
       "<h3>Summary Table for RBO@10</h3>"
      ],
      "text/plain": [
       "<IPython.core.display.HTML object>"
      ]
     },
     "metadata": {},
     "output_type": "display_data"
    },
    {
     "data": {
      "text/html": [
       "<table>\n",
       "<thead><tr>\n",
       "<th>Algorithm\n",
       "<th>Mean\n",
       "<th>Std Dev\n",
       "<th>10%ile\n",
       "<th>Median\n",
       "<th>90%ile\n",
       "<th>Dist. (KDE)\n",
       "</tr></thead>\n",
       "<tbody>\n",
       "<tr><td>mmr\n",
       "<td>0.474<br><span style=\"font-size: 75%;\">(0.466,0.481)</span></td>\n",
       "<td>0.118<br><span style=\"font-size: 75%;\">(0.108,0.129)</span></td>\n",
       "<td>0.371<br><span style=\"font-size: 75%;\">(0.362,0.371)</span></td>\n",
       "<td>0.500<br><span style=\"font-size: 75%;\">(0.492,0.507)</span></td>\n",
       "<td>0.584<br><span style=\"font-size: 75%;\">(0.579,0.589)</span></td>\n",
       "<td><img src=\"data:image/png;base64,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\"></td>\n",
       "</tr>\n",
       "<tr><td>nrms\n",
       "<td>0.000<br><span style=\"font-size: 75%;\">(0.000,0.000)</span></td>\n",
       "<td>0.000<br><span style=\"font-size: 75%;\">(0.000,0.000)</span></td>\n",
       "<td>0.000<br><span style=\"font-size: 75%;\">(0.000,0.000)</span></td>\n",
       "<td>0.000<br><span style=\"font-size: 75%;\">(0.000,0.000)</span></td>\n",
       "<td>0.000<br><span style=\"font-size: 75%;\">(0.000,0.000)</span></td>\n",
       "<td></td>\n",
       "</tr>\n",
       "<tr><td>nrms_images\n",
       "<td>0.000<br><span style=\"font-size: 75%;\">(0.000,0.000)</span></td>\n",
       "<td>0.000<br><span style=\"font-size: 75%;\">(0.000,0.000)</span></td>\n",
       "<td>0.000<br><span style=\"font-size: 75%;\">(0.000,0.000)</span></td>\n",
       "<td>0.000<br><span style=\"font-size: 75%;\">(0.000,0.000)</span></td>\n",
       "<td>0.000<br><span style=\"font-size: 75%;\">(0.000,0.000)</span></td>\n",
       "<td></td>\n",
       "</tr>\n",
       "<tr><td>nrms_rrf_static_user\n",
       "<td>0.000<br><span style=\"font-size: 75%;\">(0.000,0.000)</span></td>\n",
       "<td>0.000<br><span style=\"font-size: 75%;\">(0.000,0.000)</span></td>\n",
       "<td>0.000<br><span style=\"font-size: 75%;\">(0.000,0.000)</span></td>\n",
       "<td>0.000<br><span style=\"font-size: 75%;\">(0.000,0.000)</span></td>\n",
       "<td>0.000<br><span style=\"font-size: 75%;\">(0.000,0.000)</span></td>\n",
       "<td></td>\n",
       "</tr>\n",
       "<tr><td>nrms_topic_scores\n",
       "<td>0.000<br><span style=\"font-size: 75%;\">(0.000,0.000)</span></td>\n",
       "<td>0.000<br><span style=\"font-size: 75%;\">(0.000,0.000)</span></td>\n",
       "<td>0.000<br><span style=\"font-size: 75%;\">(0.000,0.000)</span></td>\n",
       "<td>0.000<br><span style=\"font-size: 75%;\">(0.000,0.000)</span></td>\n",
       "<td>0.000<br><span style=\"font-size: 75%;\">(0.000,0.000)</span></td>\n",
       "<td></td>\n",
       "</tr>\n",
       "<tr><td>nrms_topics_static\n",
       "<td>0.000<br><span style=\"font-size: 75%;\">(0.000,0.000)</span></td>\n",
       "<td>0.000<br><span style=\"font-size: 75%;\">(0.000,0.000)</span></td>\n",
       "<td>0.000<br><span style=\"font-size: 75%;\">(0.000,0.000)</span></td>\n",
       "<td>0.000<br><span style=\"font-size: 75%;\">(0.000,0.000)</span></td>\n",
       "<td>0.000<br><span style=\"font-size: 75%;\">(0.000,0.000)</span></td>\n",
       "<td></td>\n",
       "</tr>\n",
       "<tr><td>pfar\n",
       "<td>0.604<br><span style=\"font-size: 75%;\">(0.596,0.612)</span></td>\n",
       "<td>0.133<br><span style=\"font-size: 75%;\">(0.118,0.149)</span></td>\n",
       "<td>0.525<br><span style=\"font-size: 75%;\">(0.371,0.525)</span></td>\n",
       "<td>0.651<br><span style=\"font-size: 75%;\">(0.651,0.651)</span></td>\n",
       "<td>0.651<br><span style=\"font-size: 75%;\">(0.651,0.651)</span></td>\n",
       "<td><img src=\"data:image/png;base64,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\"></td>\n",
       "</tr>\n",
       "<tr><td>softmax\n",
       "<td>0.492<br><span style=\"font-size: 75%;\">(0.484,0.500)</span></td>\n",
       "<td>0.129<br><span style=\"font-size: 75%;\">(0.119,0.140)</span></td>\n",
       "<td>0.371<br><span style=\"font-size: 75%;\">(0.362,0.371)</span></td>\n",
       "<td>0.525<br><span style=\"font-size: 75%;\">(0.518,0.529)</span></td>\n",
       "<td>0.615<br><span style=\"font-size: 75%;\">(0.609,0.621)</span></td>\n",
       "<td><img src=\"data:image/png;base64,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\"></td>\n",
       "</tr>\n",
       "<tr><td>topic_cali\n",
       "<td>0.604<br><span style=\"font-size: 75%;\">(0.596,0.613)</span></td>\n",
       "<td>0.133<br><span style=\"font-size: 75%;\">(0.118,0.150)</span></td>\n",
       "<td>0.525<br><span style=\"font-size: 75%;\">(0.371,0.525)</span></td>\n",
       "<td>0.651<br><span style=\"font-size: 75%;\">(0.651,0.651)</span></td>\n",
       "<td>0.651<br><span style=\"font-size: 75%;\">(0.651,0.651)</span></td>\n",
       "<td><img src=\"data:image/png;base64,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\"></td>\n",
       "</tr>\n",
       "</tbody>\n",
       "</table>\n"
      ],
      "text/plain": [
       "<IPython.core.display.HTML object>"
      ]
     },
     "metadata": {},
     "output_type": "display_data"
    }
   ],
   "source": [
    "for metric in overlap_metrics:\n",
    "    tw = EvalTable(mind_subset_user_metrics, \"pipeline\", metric)\n",
    "    tw.add_stat(\"Mean\", np.mean, ci=True)\n",
    "    tw.add_stat(\"Std Dev\", np.std, ci=True)\n",
    "    tw.add_quantiles([\"10%ile\", \"Median\", \"90%ile\"], [0.1, 0.5, 0.9], ci=True)\n",
    "    display(HTML(f\"<h3>Summary Table for {metric}</h3>\"))\n",
    "    display(HTML(tw.html_table()))"
   ]
  }
 ],
 "metadata": {
  "jupytext": {
   "formats": "ipynb,md:myst"
  },
  "kernelspec": {
   "display_name": "Python 3 (ipykernel)",
   "language": "python",
   "name": "python3"
  },
  "language_info": {
   "codemirror_mode": {
    "name": "ipython",
    "version": 3
   },
   "file_extension": ".py",
   "mimetype": "text/x-python",
   "name": "python",
   "nbconvert_exporter": "python",
   "pygments_lexer": "ipython3",
   "version": "3.12.9"
  },
  "papermill": {
   "default_parameters": {},
   "duration": 30.911987,
   "end_time": "2025-06-10T17:36:44.526706",
   "environment_variables": {},
   "exception": null,
   "input_path": "basic-eval-template.ipynb",
   "output_path": "mind-subset.ipynb",
   "parameters": {
    "EVAL_NAME": "mind-subset"
   },
   "start_time": "2025-06-10T17:36:13.614719",
   "version": "2.6.0"
  }
 },
 "nbformat": 4,
 "nbformat_minor": 5
}