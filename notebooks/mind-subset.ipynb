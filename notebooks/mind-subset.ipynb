{
 "cells": [
  {
   "cell_type": "markdown",
   "id": "76fd0221",
   "metadata": {
    "papermill": {
     "duration": 0.010343,
     "end_time": "2025-09-12T19:08:02.820304",
     "exception": false,
     "start_time": "2025-09-12T19:08:02.809961",
     "status": "completed"
    },
    "tags": []
   },
   "source": [
    "# Offline Evaluation Metrics Visualizations\n",
    "\n",
    "This notebook visualizes user-specific performance metrics of various recommenders in the mind-subset dataset to assess effectiveness and ranking overlap. We explore two metric groups:\n",
    "\n",
    "1. **Effectiveness Metrics**: We use ranking-based metrics, Normalized Discounted Cumulative Gain (NDCG) and Reciprocal Rank (RR), to evaluate recommender effectiveness.\n",
    "2. **Ranking Overlap Metrics**: We use Rank-Based Overlap (RBO) to assess consistency in top-k recommendations relative to final rankings.\n",
    "\n",
    "> [!NOTE]\n",
    "> This is a *parameterized* notebook, and is used to render the other specific evaluation notebooks with [Papermill](https://papermill.readthedocs.io/en/latest/).  By default, it displays\n",
    "> the MIND Subset results, for easy editing."
   ]
  },
  {
   "cell_type": "code",
   "execution_count": 1,
   "id": "e82acae8",
   "metadata": {
    "execution": {
     "iopub.execute_input": "2025-09-12T19:08:02.823663Z",
     "iopub.status.busy": "2025-09-12T19:08:02.823199Z",
     "iopub.status.idle": "2025-09-12T19:08:02.825520Z",
     "shell.execute_reply": "2025-09-12T19:08:02.825241Z"
    },
    "papermill": {
     "duration": 0.004589,
     "end_time": "2025-09-12T19:08:02.826070",
     "exception": false,
     "start_time": "2025-09-12T19:08:02.821481",
     "status": "completed"
    },
    "tags": [
     "parameters"
    ]
   },
   "outputs": [],
   "source": [
    "EVAL_NAME = \"mind-subset\""
   ]
  },
  {
   "cell_type": "code",
   "execution_count": 2,
   "id": "ed53eb7d",
   "metadata": {
    "execution": {
     "iopub.execute_input": "2025-09-12T19:08:02.828426Z",
     "iopub.status.busy": "2025-09-12T19:08:02.828343Z",
     "iopub.status.idle": "2025-09-12T19:08:02.829788Z",
     "shell.execute_reply": "2025-09-12T19:08:02.829571Z"
    },
    "papermill": {
     "duration": 0.003245,
     "end_time": "2025-09-12T19:08:02.830357",
     "exception": false,
     "start_time": "2025-09-12T19:08:02.827112",
     "status": "completed"
    },
    "tags": [
     "injected-parameters"
    ]
   },
   "outputs": [],
   "source": [
    "# Parameters\n",
    "EVAL_NAME = \"mind-subset\"\n"
   ]
  },
  {
   "cell_type": "markdown",
   "id": "c2641056",
   "metadata": {
    "papermill": {
     "duration": 0.000924,
     "end_time": "2025-09-12T19:08:02.832262",
     "exception": false,
     "start_time": "2025-09-12T19:08:02.831338",
     "status": "completed"
    },
    "tags": []
   },
   "source": [
    "## Setup"
   ]
  },
  {
   "cell_type": "markdown",
   "id": "046f2a64",
   "metadata": {
    "papermill": {
     "duration": 0.000904,
     "end_time": "2025-09-12T19:08:02.834133",
     "exception": false,
     "start_time": "2025-09-12T19:08:02.833229",
     "status": "completed"
    },
    "tags": []
   },
   "source": [
    "### Importing Libraries"
   ]
  },
  {
   "cell_type": "markdown",
   "id": "29746948",
   "metadata": {
    "papermill": {
     "duration": 0.000908,
     "end_time": "2025-09-12T19:08:02.835998",
     "exception": false,
     "start_time": "2025-09-12T19:08:02.835090",
     "status": "completed"
    },
    "tags": []
   },
   "source": [
    "PyData packages:"
   ]
  },
  {
   "cell_type": "code",
   "execution_count": 3,
   "id": "70b02420",
   "metadata": {
    "execution": {
     "iopub.execute_input": "2025-09-12T19:08:02.838342Z",
     "iopub.status.busy": "2025-09-12T19:08:02.838225Z",
     "iopub.status.idle": "2025-09-12T19:08:03.370644Z",
     "shell.execute_reply": "2025-09-12T19:08:03.370240Z"
    },
    "papermill": {
     "duration": 0.534505,
     "end_time": "2025-09-12T19:08:03.371481",
     "exception": false,
     "start_time": "2025-09-12T19:08:02.836976",
     "status": "completed"
    },
    "tags": []
   },
   "outputs": [],
   "source": [
    "import matplotlib.pyplot as plt\n",
    "import numpy as np\n",
    "import pandas as pd\n",
    "import seaborn as sns"
   ]
  },
  {
   "cell_type": "markdown",
   "id": "2a2dc22c",
   "metadata": {
    "papermill": {
     "duration": 0.001043,
     "end_time": "2025-09-12T19:08:03.373817",
     "exception": false,
     "start_time": "2025-09-12T19:08:03.372774",
     "status": "completed"
    },
    "tags": []
   },
   "source": [
    "Local code and display support:"
   ]
  },
  {
   "cell_type": "code",
   "execution_count": 4,
   "id": "c9c3fd9e",
   "metadata": {
    "execution": {
     "iopub.execute_input": "2025-09-12T19:08:03.376398Z",
     "iopub.status.busy": "2025-09-12T19:08:03.376290Z",
     "iopub.status.idle": "2025-09-12T19:08:03.378887Z",
     "shell.execute_reply": "2025-09-12T19:08:03.378719Z"
    },
    "papermill": {
     "duration": 0.004451,
     "end_time": "2025-09-12T19:08:03.379319",
     "exception": false,
     "start_time": "2025-09-12T19:08:03.374868",
     "status": "completed"
    },
    "tags": []
   },
   "outputs": [],
   "source": [
    "from IPython.display import HTML\n",
    "\n",
    "from poprox_recommender.eval_tables import EvalTable"
   ]
  },
  {
   "cell_type": "markdown",
   "id": "bfeb987f",
   "metadata": {
    "papermill": {
     "duration": 0.000932,
     "end_time": "2025-09-12T19:08:03.381292",
     "exception": false,
     "start_time": "2025-09-12T19:08:03.380360",
     "status": "completed"
    },
    "tags": []
   },
   "source": [
    "### Loading Data"
   ]
  },
  {
   "cell_type": "code",
   "execution_count": 5,
   "id": "a93f5ff3",
   "metadata": {
    "execution": {
     "iopub.execute_input": "2025-09-12T19:08:03.383703Z",
     "iopub.status.busy": "2025-09-12T19:08:03.383588Z",
     "iopub.status.idle": "2025-09-12T19:08:03.396828Z",
     "shell.execute_reply": "2025-09-12T19:08:03.396674Z"
    },
    "papermill": {
     "duration": 0.014963,
     "end_time": "2025-09-12T19:08:03.397257",
     "exception": false,
     "start_time": "2025-09-12T19:08:03.382294",
     "status": "completed"
    },
    "tags": []
   },
   "outputs": [
    {
     "data": {
      "text/html": [
       "<div>\n",
       "<style scoped>\n",
       "    .dataframe tbody tr th:only-of-type {\n",
       "        vertical-align: middle;\n",
       "    }\n",
       "\n",
       "    .dataframe tbody tr th {\n",
       "        vertical-align: top;\n",
       "    }\n",
       "\n",
       "    .dataframe thead th {\n",
       "        text-align: right;\n",
       "    }\n",
       "</style>\n",
       "<table border=\"1\" class=\"dataframe\">\n",
       "  <thead>\n",
       "    <tr style=\"text-align: right;\">\n",
       "      <th></th>\n",
       "      <th>pipeline</th>\n",
       "      <th>profile_id</th>\n",
       "      <th>Unnamed: 0</th>\n",
       "      <th>personalized</th>\n",
       "      <th>NDCG@5</th>\n",
       "      <th>NDCG@10</th>\n",
       "      <th>RR</th>\n",
       "      <th>RBO@5</th>\n",
       "      <th>RBO@10</th>\n",
       "      <th>rank_based_entropy</th>\n",
       "      <th>least_item_promoted</th>\n",
       "      <th>intralist_similarity</th>\n",
       "    </tr>\n",
       "  </thead>\n",
       "  <tbody>\n",
       "    <tr>\n",
       "      <th>0</th>\n",
       "      <td>nrms</td>\n",
       "      <td>00410eda-2611-5ecd-a53b-22b6d97c7a26</td>\n",
       "      <td>0</td>\n",
       "      <td>True</td>\n",
       "      <td>0.000000</td>\n",
       "      <td>0.356207</td>\n",
       "      <td>0.142857</td>\n",
       "      <td>0.0</td>\n",
       "      <td>0.0</td>\n",
       "      <td>NaN</td>\n",
       "      <td>0.0</td>\n",
       "      <td>NaN</td>\n",
       "    </tr>\n",
       "    <tr>\n",
       "      <th>1</th>\n",
       "      <td>nrms</td>\n",
       "      <td>004fbc6f-e842-5b58-8345-73a4dbf06a69</td>\n",
       "      <td>1</td>\n",
       "      <td>True</td>\n",
       "      <td>0.000000</td>\n",
       "      <td>0.000000</td>\n",
       "      <td>0.000000</td>\n",
       "      <td>0.0</td>\n",
       "      <td>0.0</td>\n",
       "      <td>NaN</td>\n",
       "      <td>0.0</td>\n",
       "      <td>NaN</td>\n",
       "    </tr>\n",
       "    <tr>\n",
       "      <th>2</th>\n",
       "      <td>nrms</td>\n",
       "      <td>00523b6e-a6b7-5b79-be99-0c95035bd0f5</td>\n",
       "      <td>2</td>\n",
       "      <td>True</td>\n",
       "      <td>1.000000</td>\n",
       "      <td>1.000000</td>\n",
       "      <td>1.000000</td>\n",
       "      <td>0.0</td>\n",
       "      <td>0.0</td>\n",
       "      <td>NaN</td>\n",
       "      <td>0.0</td>\n",
       "      <td>NaN</td>\n",
       "    </tr>\n",
       "    <tr>\n",
       "      <th>3</th>\n",
       "      <td>nrms</td>\n",
       "      <td>0120aa53-e102-5328-8a96-2a71a9bf9083</td>\n",
       "      <td>3</td>\n",
       "      <td>True</td>\n",
       "      <td>0.000000</td>\n",
       "      <td>0.356207</td>\n",
       "      <td>0.142857</td>\n",
       "      <td>0.0</td>\n",
       "      <td>0.0</td>\n",
       "      <td>NaN</td>\n",
       "      <td>0.0</td>\n",
       "      <td>NaN</td>\n",
       "    </tr>\n",
       "    <tr>\n",
       "      <th>4</th>\n",
       "      <td>nrms</td>\n",
       "      <td>01afa896-a556-552c-8d78-f16b81b285c1</td>\n",
       "      <td>4</td>\n",
       "      <td>True</td>\n",
       "      <td>0.565465</td>\n",
       "      <td>0.565465</td>\n",
       "      <td>0.333333</td>\n",
       "      <td>0.0</td>\n",
       "      <td>0.0</td>\n",
       "      <td>NaN</td>\n",
       "      <td>0.0</td>\n",
       "      <td>NaN</td>\n",
       "    </tr>\n",
       "  </tbody>\n",
       "</table>\n",
       "</div>"
      ],
      "text/plain": [
       "  pipeline                            profile_id  Unnamed: 0  personalized  \\\n",
       "0     nrms  00410eda-2611-5ecd-a53b-22b6d97c7a26           0          True   \n",
       "1     nrms  004fbc6f-e842-5b58-8345-73a4dbf06a69           1          True   \n",
       "2     nrms  00523b6e-a6b7-5b79-be99-0c95035bd0f5           2          True   \n",
       "3     nrms  0120aa53-e102-5328-8a96-2a71a9bf9083           3          True   \n",
       "4     nrms  01afa896-a556-552c-8d78-f16b81b285c1           4          True   \n",
       "\n",
       "     NDCG@5   NDCG@10        RR  RBO@5  RBO@10  rank_based_entropy  \\\n",
       "0  0.000000  0.356207  0.142857    0.0     0.0                 NaN   \n",
       "1  0.000000  0.000000  0.000000    0.0     0.0                 NaN   \n",
       "2  1.000000  1.000000  1.000000    0.0     0.0                 NaN   \n",
       "3  0.000000  0.356207  0.142857    0.0     0.0                 NaN   \n",
       "4  0.565465  0.565465  0.333333    0.0     0.0                 NaN   \n",
       "\n",
       "   least_item_promoted  intralist_similarity  \n",
       "0                  0.0                   NaN  \n",
       "1                  0.0                   NaN  \n",
       "2                  0.0                   NaN  \n",
       "3                  0.0                   NaN  \n",
       "4                  0.0                   NaN  "
      ]
     },
     "execution_count": 5,
     "metadata": {},
     "output_type": "execute_result"
    }
   ],
   "source": [
    "mind_subset_user_metrics = pd.read_csv(f\"../outputs/{EVAL_NAME}-profile-metrics.csv.gz\")\n",
    "mind_subset_user_metrics.head()"
   ]
  },
  {
   "cell_type": "code",
   "execution_count": 6,
   "id": "3a6ec2d4",
   "metadata": {
    "execution": {
     "iopub.execute_input": "2025-09-12T19:08:03.399894Z",
     "iopub.status.busy": "2025-09-12T19:08:03.399792Z",
     "iopub.status.idle": "2025-09-12T19:08:03.401116Z",
     "shell.execute_reply": "2025-09-12T19:08:03.400954Z"
    },
    "papermill": {
     "duration": 0.003113,
     "end_time": "2025-09-12T19:08:03.401532",
     "exception": false,
     "start_time": "2025-09-12T19:08:03.398419",
     "status": "completed"
    },
    "tags": []
   },
   "outputs": [],
   "source": [
    "effectiveness_metrics = [\"NDCG@5\", \"NDCG@10\", \"RR\"]\n",
    "overlap_metrics = [\"RBO@5\", \"RBO@10\"]"
   ]
  },
  {
   "cell_type": "markdown",
   "id": "c541e87d",
   "metadata": {
    "papermill": {
     "duration": 0.001044,
     "end_time": "2025-09-12T19:08:03.403739",
     "exception": false,
     "start_time": "2025-09-12T19:08:03.402695",
     "status": "completed"
    },
    "tags": []
   },
   "source": [
    "## Results"
   ]
  },
  {
   "cell_type": "markdown",
   "id": "41f78b8f",
   "metadata": {
    "papermill": {
     "duration": 0.00132,
     "end_time": "2025-09-12T19:08:03.406108",
     "exception": false,
     "start_time": "2025-09-12T19:08:03.404788",
     "status": "completed"
    },
    "tags": []
   },
   "source": [
    "### Effectiveness Metrics\n",
    "\n",
    "NDCG measures how well the recommendations align with user test data, focusing on the top-k positions, such as the top 5 (NDCG@5) or top 10 (NDCG@10). Likewise, RR evaluates how well the recommender finds the most relevant item as the top result."
   ]
  },
  {
   "cell_type": "code",
   "execution_count": 7,
   "id": "3d6e2454",
   "metadata": {
    "execution": {
     "iopub.execute_input": "2025-09-12T19:08:03.408748Z",
     "iopub.status.busy": "2025-09-12T19:08:03.408595Z",
     "iopub.status.idle": "2025-09-12T19:08:03.631451Z",
     "shell.execute_reply": "2025-09-12T19:08:03.631259Z"
    },
    "papermill": {
     "duration": 0.224802,
     "end_time": "2025-09-12T19:08:03.631995",
     "exception": false,
     "start_time": "2025-09-12T19:08:03.407193",
     "status": "completed"
    },
    "tags": []
   },
   "outputs": [
    {
     "data": {
      "image/png": "[encoded data removed]",
      "text/plain": [
       "<Figure size 1200x300 with 3 Axes>"
      ]
     },
     "metadata": {},
     "output_type": "display_data"
    }
   ],
   "source": [
    "plt.figure(figsize=(12, 3))\n",
    "plt.subplots_adjust(wspace=0.3)\n",
    "\n",
    "for i, metric in enumerate(effectiveness_metrics, 1):\n",
    "    plt.subplot(1, 3, i)\n",
    "    sns.barplot(data=mind_subset_user_metrics, x=\"pipeline\", y=metric)\n",
    "    plt.xticks(rotation=45)\n",
    "\n",
    "plt.show()"
   ]
  },
  {
   "cell_type": "markdown",
   "id": "22eabf45",
   "metadata": {
    "papermill": {
     "duration": 0.001315,
     "end_time": "2025-09-12T19:08:03.634749",
     "exception": false,
     "start_time": "2025-09-12T19:08:03.633434",
     "status": "completed"
    },
    "tags": []
   },
   "source": [
    "The summary tables show the mean values, standard deviation, and quantiles (10%ile, Median, 90%ile), each accompanied by their respective 95% confidence intervals for effectiveness metrics across recommenders."
   ]
  },
  {
   "cell_type": "code",
   "execution_count": 8,
   "id": "25632f44",
   "metadata": {
    "execution": {
     "iopub.execute_input": "2025-09-12T19:08:03.637778Z",
     "iopub.status.busy": "2025-09-12T19:08:03.637691Z",
     "iopub.status.idle": "2025-09-12T19:08:12.285069Z",
     "shell.execute_reply": "2025-09-12T19:08:12.284842Z"
    },
    "papermill": {
     "duration": 8.649621,
     "end_time": "2025-09-12T19:08:12.285570",
     "exception": false,
     "start_time": "2025-09-12T19:08:03.635949",
     "status": "completed"
    },
    "tags": []
   },
   "outputs": [
    {
     "data": {
      "text/html": [
       "<h3>Summary Table for NDCG@5</h3>"
      ],
      "text/plain": [
       "<IPython.core.display.HTML object>"
      ]
     },
     "metadata": {},
     "output_type": "display_data"
    },
    {
     "data": {
      "text/html": [
       "<table>\n",
       "<thead><tr>\n",
       "<th>Algorithm\n",
       "<th>Mean\n",
       "<th>Std Dev\n",
       "<th>10%ile\n",
       "<th>Median\n",
       "<th>90%ile\n",
       "<th>Dist. (KDE)\n",
       "</tr></thead>\n",
       "<tbody>\n",
       "<tr><td>nrms\n",
       "<td>0.401<br><span style=\"font-size: 75%;\">(0.375,0.427)</span></td>\n",
       "<td>0.412<br><span style=\"font-size: 75%;\">(0.403,0.422)</span></td>\n",
       "<td>0.000<br><span style=\"font-size: 75%;\">(0.000,0.000)</span></td>\n",
       "<td>0.319<br><span style=\"font-size: 75%;\">(0.240,0.426)</span></td>\n",
       "<td>1.000<br><span style=\"font-size: 75%;\">(1.000,1.000)</span></td>\n",
       "<td><img src=\"data:image/png;base64,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\"></td>\n",
       "</tr>\n",
       "<tr><td>nrms_rrf_static_user\n",
       "<td>0.381<br><span style=\"font-size: 75%;\">(0.355,0.407)</span></td>\n",
       "<td>0.414<br><span style=\"font-size: 75%;\">(0.404,0.424)</span></td>\n",
       "<td>0.000<br><span style=\"font-size: 75%;\">(0.000,0.000)</span></td>\n",
       "<td>0.250<br><span style=\"font-size: 75%;\">(0.140,0.367)</span></td>\n",
       "<td>1.000<br><span style=\"font-size: 75%;\">(1.000,1.000)</span></td>\n",
       "<td><img src=\"data:image/png;base64,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\"></td>\n",
       "</tr>\n",
       "<tr><td>nrms_topic_scores\n",
       "<td>0.403<br><span style=\"font-size: 75%;\">(0.377,0.429)</span></td>\n",
       "<td>0.412<br><span style=\"font-size: 75%;\">(0.403,0.422)</span></td>\n",
       "<td>0.000<br><span style=\"font-size: 75%;\">(0.000,0.000)</span></td>\n",
       "<td>0.329<br><span style=\"font-size: 75%;\">(0.245,0.431)</span></td>\n",
       "<td>1.000<br><span style=\"font-size: 75%;\">(1.000,1.000)</span></td>\n",
       "<td><img src=\"data:image/png;base64,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\"></td>\n",
       "</tr>\n",
       "<tr><td>nrms_topics_static\n",
       "<td>0.303<br><span style=\"font-size: 75%;\">(0.277,0.328)</span></td>\n",
       "<td>0.406<br><span style=\"font-size: 75%;\">(0.394,0.419)</span></td>\n",
       "<td>0.000<br><span style=\"font-size: 75%;\">(0.000,0.000)</span></td>\n",
       "<td>0.000<br><span style=\"font-size: 75%;\">(0.000,0.000)</span></td>\n",
       "<td>1.000<br><span style=\"font-size: 75%;\">(1.000,1.000)</span></td>\n",
       "<td><img src=\"data:image/png;base64,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\"></td>\n",
       "</tr>\n",
       "<tr><td>softmax\n",
       "<td>0.402<br><span style=\"font-size: 75%;\">(0.376,0.426)</span></td>\n",
       "<td>0.408<br><span style=\"font-size: 75%;\">(0.399,0.418)</span></td>\n",
       "<td>0.000<br><span style=\"font-size: 75%;\">(0.000,0.000)</span></td>\n",
       "<td>0.380<br><span style=\"font-size: 75%;\">(0.250,0.431)</span></td>\n",
       "<td>1.000<br><span style=\"font-size: 75%;\">(1.000,1.000)</span></td>\n",
       "<td><img src=\"data:image/png;base64,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\"></td>\n",
       "</tr>\n",
       "</tbody>\n",
       "</table>\n"
      ],
      "text/plain": [
       "<IPython.core.display.HTML object>"
      ]
     },
     "metadata": {},
     "output_type": "display_data"
    },
    {
     "data": {
      "text/html": [
       "<h3>Summary Table for NDCG@10</h3>"
      ],
      "text/plain": [
       "<IPython.core.display.HTML object>"
      ]
     },
     "metadata": {},
     "output_type": "display_data"
    },
    {
     "data": {
      "text/html": [
       "<table>\n",
       "<thead><tr>\n",
       "<th>Algorithm\n",
       "<th>Mean\n",
       "<th>Std Dev\n",
       "<th>10%ile\n",
       "<th>Median\n",
       "<th>90%ile\n",
       "<th>Dist. (KDE)\n",
       "</tr></thead>\n",
       "<tbody>\n",
       "<tr><td>nrms\n",
       "<td>0.471<br><span style=\"font-size: 75%;\">(0.449,0.494)</span></td>\n",
       "<td>0.371<br><span style=\"font-size: 75%;\">(0.361,0.381)</span></td>\n",
       "<td>0.000<br><span style=\"font-size: 75%;\">(0.000,0.000)</span></td>\n",
       "<td>0.408<br><span style=\"font-size: 75%;\">(0.387,0.431)</span></td>\n",
       "<td>1.000<br><span style=\"font-size: 75%;\">(1.000,1.000)</span></td>\n",
       "<td><img src=\"data:image/png;base64,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\"></td>\n",
       "</tr>\n",
       "<tr><td>nrms_rrf_static_user\n",
       "<td>0.437<br><span style=\"font-size: 75%;\">(0.413,0.461)</span></td>\n",
       "<td>0.384<br><span style=\"font-size: 75%;\">(0.375,0.394)</span></td>\n",
       "<td>0.000<br><span style=\"font-size: 75%;\">(0.000,0.000)</span></td>\n",
       "<td>0.384<br><span style=\"font-size: 75%;\">(0.356,0.431)</span></td>\n",
       "<td>1.000<br><span style=\"font-size: 75%;\">(1.000,1.000)</span></td>\n",
       "<td><img src=\"data:image/png;base64,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\"></td>\n",
       "</tr>\n",
       "<tr><td>nrms_topic_scores\n",
       "<td>0.472<br><span style=\"font-size: 75%;\">(0.449,0.495)</span></td>\n",
       "<td>0.372<br><span style=\"font-size: 75%;\">(0.362,0.382)</span></td>\n",
       "<td>0.000<br><span style=\"font-size: 75%;\">(0.000,0.000)</span></td>\n",
       "<td>0.428<br><span style=\"font-size: 75%;\">(0.387,0.431)</span></td>\n",
       "<td>1.000<br><span style=\"font-size: 75%;\">(1.000,1.000)</span></td>\n",
       "<td><img src=\"data:image/png;base64,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\"></td>\n",
       "</tr>\n",
       "<tr><td>nrms_topics_static\n",
       "<td>0.362<br><span style=\"font-size: 75%;\">(0.338,0.385)</span></td>\n",
       "<td>0.384<br><span style=\"font-size: 75%;\">(0.372,0.396)</span></td>\n",
       "<td>0.000<br><span style=\"font-size: 75%;\">(0.000,0.000)</span></td>\n",
       "<td>0.315<br><span style=\"font-size: 75%;\">(0.228,0.333)</span></td>\n",
       "<td>1.000<br><span style=\"font-size: 75%;\">(1.000,1.000)</span></td>\n",
       "<td><img src=\"data:image/png;base64,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\"></td>\n",
       "</tr>\n",
       "<tr><td>softmax\n",
       "<td>0.467<br><span style=\"font-size: 75%;\">(0.445,0.491)</span></td>\n",
       "<td>0.371<br><span style=\"font-size: 75%;\">(0.361,0.381)</span></td>\n",
       "<td>0.000<br><span style=\"font-size: 75%;\">(0.000,0.000)</span></td>\n",
       "<td>0.431<br><span style=\"font-size: 75%;\">(0.387,0.431)</span></td>\n",
       "<td>1.000<br><span style=\"font-size: 75%;\">(1.000,1.000)</span></td>\n",
       "<td><img src=\"data:image/png;base64,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\"></td>\n",
       "</tr>\n",
       "</tbody>\n",
       "</table>\n"
      ],
      "text/plain": [
       "<IPython.core.display.HTML object>"
      ]
     },
     "metadata": {},
     "output_type": "display_data"
    },
    {
     "data": {
      "text/html": [
       "<h3>Summary Table for RR</h3>"
      ],
      "text/plain": [
       "<IPython.core.display.HTML object>"
      ]
     },
     "metadata": {},
     "output_type": "display_data"
    },
    {
     "data": {
      "text/html": [
       "<table>\n",
       "<thead><tr>\n",
       "<th>Algorithm\n",
       "<th>Mean\n",
       "<th>Std Dev\n",
       "<th>10%ile\n",
       "<th>Median\n",
       "<th>90%ile\n",
       "<th>Dist. (KDE)\n",
       "</tr></thead>\n",
       "<tbody>\n",
       "<tr><td>nrms\n",
       "<td>0.362<br><span style=\"font-size: 75%;\">(0.340,0.385)</span></td>\n",
       "<td>0.359<br><span style=\"font-size: 75%;\">(0.346,0.372)</span></td>\n",
       "<td>0.000<br><span style=\"font-size: 75%;\">(0.000,0.000)</span></td>\n",
       "<td>0.250<br><span style=\"font-size: 75%;\">(0.200,0.250)</span></td>\n",
       "<td>1.000<br><span style=\"font-size: 75%;\">(1.000,1.000)</span></td>\n",
       "<td><img src=\"data:image/png;base64,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\"></td>\n",
       "</tr>\n",
       "<tr><td>nrms_rrf_static_user\n",
       "<td>0.333<br><span style=\"font-size: 75%;\">(0.311,0.355)</span></td>\n",
       "<td>0.359<br><span style=\"font-size: 75%;\">(0.346,0.373)</span></td>\n",
       "<td>0.000<br><span style=\"font-size: 75%;\">(0.000,0.000)</span></td>\n",
       "<td>0.200<br><span style=\"font-size: 75%;\">(0.200,0.250)</span></td>\n",
       "<td>1.000<br><span style=\"font-size: 75%;\">(1.000,1.000)</span></td>\n",
       "<td><img src=\"data:image/png;base64,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\"></td>\n",
       "</tr>\n",
       "<tr><td>nrms_topic_scores\n",
       "<td>0.364<br><span style=\"font-size: 75%;\">(0.341,0.386)</span></td>\n",
       "<td>0.360<br><span style=\"font-size: 75%;\">(0.348,0.373)</span></td>\n",
       "<td>0.000<br><span style=\"font-size: 75%;\">(0.000,0.000)</span></td>\n",
       "<td>0.250<br><span style=\"font-size: 75%;\">(0.200,0.250)</span></td>\n",
       "<td>1.000<br><span style=\"font-size: 75%;\">(1.000,1.000)</span></td>\n",
       "<td><img src=\"data:image/png;base64,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\"></td>\n",
       "</tr>\n",
       "<tr><td>nrms_topics_static\n",
       "<td>0.254<br><span style=\"font-size: 75%;\">(0.234,0.274)</span></td>\n",
       "<td>0.325<br><span style=\"font-size: 75%;\">(0.309,0.341)</span></td>\n",
       "<td>0.000<br><span style=\"font-size: 75%;\">(0.000,0.000)</span></td>\n",
       "<td>0.125<br><span style=\"font-size: 75%;\">(0.125,0.143)</span></td>\n",
       "<td>1.000<br><span style=\"font-size: 75%;\">(1.000,1.000)</span></td>\n",
       "<td><img src=\"data:image/png;base64,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\"></td>\n",
       "</tr>\n",
       "<tr><td>softmax\n",
       "<td>0.362<br><span style=\"font-size: 75%;\">(0.340,0.385)</span></td>\n",
       "<td>0.362<br><span style=\"font-size: 75%;\">(0.350,0.375)</span></td>\n",
       "<td>0.000<br><span style=\"font-size: 75%;\">(0.000,0.000)</span></td>\n",
       "<td>0.250<br><span style=\"font-size: 75%;\">(0.200,0.250)</span></td>\n",
       "<td>1.000<br><span style=\"font-size: 75%;\">(1.000,1.000)</span></td>\n",
       "<td><img src=\"data:image/png;base64,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\"></td>\n",
       "</tr>\n",
       "</tbody>\n",
       "</table>\n"
      ],
      "text/plain": [
       "<IPython.core.display.HTML object>"
      ]
     },
     "metadata": {},
     "output_type": "display_data"
    }
   ],
   "source": [
    "for metric in effectiveness_metrics:\n",
    "    tw = EvalTable(mind_subset_user_metrics, \"pipeline\", metric)\n",
    "    tw.add_stat(\"Mean\", np.mean, ci=True)\n",
    "    tw.add_stat(\"Std Dev\", np.std, ci=True)\n",
    "    tw.add_quantiles([\"10%ile\", \"Median\", \"90%ile\"], [0.1, 0.5, 0.9], ci=True)\n",
    "    display(HTML(f\"<h3>Summary Table for {metric}</h3>\"))\n",
    "    display(HTML(tw.html_table()))"
   ]
  },
  {
   "cell_type": "markdown",
   "id": "8f2085ad",
   "metadata": {
    "papermill": {
     "duration": 0.01163,
     "end_time": "2025-09-12T19:08:12.299988",
     "exception": false,
     "start_time": "2025-09-12T19:08:12.288358",
     "status": "completed"
    },
    "tags": []
   },
   "source": [
    "### Ranking Overlap Metrics\n",
    "RBO measures the similarity between two ranked lists, evaluating how much overlap exists between pure top-k recommendations and the actual rankings produced after recommendations. RBO can be applied at different list depths to analyze performance consistency, such as RBO@5 and RBO@10."
   ]
  },
  {
   "cell_type": "code",
   "execution_count": 9,
   "id": "e814150d",
   "metadata": {
    "execution": {
     "iopub.execute_input": "2025-09-12T19:08:12.305823Z",
     "iopub.status.busy": "2025-09-12T19:08:12.305714Z",
     "iopub.status.idle": "2025-09-12T19:08:12.495260Z",
     "shell.execute_reply": "2025-09-12T19:08:12.494849Z"
    },
    "papermill": {
     "duration": 0.192881,
     "end_time": "2025-09-12T19:08:12.495789",
     "exception": false,
     "start_time": "2025-09-12T19:08:12.302908",
     "status": "completed"
    },
    "tags": []
   },
   "outputs": [
    {
     "data": {
      "image/png": "[encoded data removed]",
      "text/plain": [
       "<Figure size 800x300 with 2 Axes>"
      ]
     },
     "metadata": {},
     "output_type": "display_data"
    }
   ],
   "source": [
    "plt.figure(figsize=(8, 3))\n",
    "plt.subplots_adjust(wspace=0.3)\n",
    "\n",
    "for i, metric in enumerate(overlap_metrics, 1):\n",
    "    plt.subplot(1, 2, i)\n",
    "    sns.barplot(data=mind_subset_user_metrics, x=\"pipeline\", y=metric)\n",
    "    plt.xticks(rotation=45)\n",
    "\n",
    "plt.show()"
   ]
  },
  {
   "cell_type": "markdown",
   "id": "0004c224",
   "metadata": {
    "papermill": {
     "duration": 0.001849,
     "end_time": "2025-09-12T19:08:12.499462",
     "exception": false,
     "start_time": "2025-09-12T19:08:12.497613",
     "status": "completed"
    },
    "tags": []
   },
   "source": [
    "The summary tables show the mean values, standard deviation, and quantiles (10%ile, Median, 90%ile), each accompanied by their respective 95% confidence intervals for ranking overlap metrics across recommenders."
   ]
  },
  {
   "cell_type": "code",
   "execution_count": 10,
   "id": "39273d26",
   "metadata": {
    "execution": {
     "iopub.execute_input": "2025-09-12T19:08:12.503541Z",
     "iopub.status.busy": "2025-09-12T19:08:12.503463Z",
     "iopub.status.idle": "2025-09-12T19:08:17.551139Z",
     "shell.execute_reply": "2025-09-12T19:08:17.550928Z"
    },
    "papermill": {
     "duration": 5.050054,
     "end_time": "2025-09-12T19:08:17.551541",
     "exception": false,
     "start_time": "2025-09-12T19:08:12.501487",
     "status": "completed"
    },
    "tags": []
   },
   "outputs": [
    {
     "data": {
      "text/html": [
       "<h3>Summary Table for RBO@5</h3>"
      ],
      "text/plain": [
       "<IPython.core.display.HTML object>"
      ]
     },
     "metadata": {},
     "output_type": "display_data"
    },
    {
     "data": {
      "text/html": [
       "<table>\n",
       "<thead><tr>\n",
       "<th>Algorithm\n",
       "<th>Mean\n",
       "<th>Std Dev\n",
       "<th>10%ile\n",
       "<th>Median\n",
       "<th>90%ile\n",
       "<th>Dist. (KDE)\n",
       "</tr></thead>\n",
       "<tbody>\n",
       "<tr><td>nrms\n",
       "<td>0.000<br><span style=\"font-size: 75%;\">(0.000,0.000)</span></td>\n",
       "<td>0.000<br><span style=\"font-size: 75%;\">(0.000,0.000)</span></td>\n",
       "<td>0.000<br><span style=\"font-size: 75%;\">(0.000,0.000)</span></td>\n",
       "<td>0.000<br><span style=\"font-size: 75%;\">(0.000,0.000)</span></td>\n",
       "<td>0.000<br><span style=\"font-size: 75%;\">(0.000,0.000)</span></td>\n",
       "<td></td>\n",
       "</tr>\n",
       "<tr><td>nrms_rrf_static_user\n",
       "<td>0.000<br><span style=\"font-size: 75%;\">(0.000,0.000)</span></td>\n",
       "<td>0.000<br><span style=\"font-size: 75%;\">(0.000,0.000)</span></td>\n",
       "<td>0.000<br><span style=\"font-size: 75%;\">(0.000,0.000)</span></td>\n",
       "<td>0.000<br><span style=\"font-size: 75%;\">(0.000,0.000)</span></td>\n",
       "<td>0.000<br><span style=\"font-size: 75%;\">(0.000,0.000)</span></td>\n",
       "<td></td>\n",
       "</tr>\n",
       "<tr><td>nrms_topic_scores\n",
       "<td>0.000<br><span style=\"font-size: 75%;\">(0.000,0.000)</span></td>\n",
       "<td>0.000<br><span style=\"font-size: 75%;\">(0.000,0.000)</span></td>\n",
       "<td>0.000<br><span style=\"font-size: 75%;\">(0.000,0.000)</span></td>\n",
       "<td>0.000<br><span style=\"font-size: 75%;\">(0.000,0.000)</span></td>\n",
       "<td>0.000<br><span style=\"font-size: 75%;\">(0.000,0.000)</span></td>\n",
       "<td></td>\n",
       "</tr>\n",
       "<tr><td>nrms_topics_static\n",
       "<td>0.000<br><span style=\"font-size: 75%;\">(0.000,0.000)</span></td>\n",
       "<td>0.000<br><span style=\"font-size: 75%;\">(0.000,0.000)</span></td>\n",
       "<td>0.000<br><span style=\"font-size: 75%;\">(0.000,0.000)</span></td>\n",
       "<td>0.000<br><span style=\"font-size: 75%;\">(0.000,0.000)</span></td>\n",
       "<td>0.000<br><span style=\"font-size: 75%;\">(0.000,0.000)</span></td>\n",
       "<td></td>\n",
       "</tr>\n",
       "<tr><td>softmax\n",
       "<td>0.728<br><span style=\"font-size: 75%;\">(0.714,0.743)</span></td>\n",
       "<td>0.232<br><span style=\"font-size: 75%;\">(0.219,0.245)</span></td>\n",
       "<td>0.436<br><span style=\"font-size: 75%;\">(0.407,0.481)</span></td>\n",
       "<td>0.768<br><span style=\"font-size: 75%;\">(0.768,0.779)</span></td>\n",
       "<td>0.972<br><span style=\"font-size: 75%;\">(0.972,1.000)</span></td>\n",
       "<td><img src=\"data:image/png;base64,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\"></td>\n",
       "</tr>\n",
       "</tbody>\n",
       "</table>\n"
      ],
      "text/plain": [
       "<IPython.core.display.HTML object>"
      ]
     },
     "metadata": {},
     "output_type": "display_data"
    },
    {
     "data": {
      "text/html": [
       "<h3>Summary Table for RBO@10</h3>"
      ],
      "text/plain": [
       "<IPython.core.display.HTML object>"
      ]
     },
     "metadata": {},
     "output_type": "display_data"
    },
    {
     "data": {
      "text/html": [
       "<table>\n",
       "<thead><tr>\n",
       "<th>Algorithm\n",
       "<th>Mean\n",
       "<th>Std Dev\n",
       "<th>10%ile\n",
       "<th>Median\n",
       "<th>90%ile\n",
       "<th>Dist. (KDE)\n",
       "</tr></thead>\n",
       "<tbody>\n",
       "<tr><td>nrms\n",
       "<td>0.000<br><span style=\"font-size: 75%;\">(0.000,0.000)</span></td>\n",
       "<td>0.000<br><span style=\"font-size: 75%;\">(0.000,0.000)</span></td>\n",
       "<td>0.000<br><span style=\"font-size: 75%;\">(0.000,0.000)</span></td>\n",
       "<td>0.000<br><span style=\"font-size: 75%;\">(0.000,0.000)</span></td>\n",
       "<td>0.000<br><span style=\"font-size: 75%;\">(0.000,0.000)</span></td>\n",
       "<td></td>\n",
       "</tr>\n",
       "<tr><td>nrms_rrf_static_user\n",
       "<td>0.000<br><span style=\"font-size: 75%;\">(0.000,0.000)</span></td>\n",
       "<td>0.000<br><span style=\"font-size: 75%;\">(0.000,0.000)</span></td>\n",
       "<td>0.000<br><span style=\"font-size: 75%;\">(0.000,0.000)</span></td>\n",
       "<td>0.000<br><span style=\"font-size: 75%;\">(0.000,0.000)</span></td>\n",
       "<td>0.000<br><span style=\"font-size: 75%;\">(0.000,0.000)</span></td>\n",
       "<td></td>\n",
       "</tr>\n",
       "<tr><td>nrms_topic_scores\n",
       "<td>0.000<br><span style=\"font-size: 75%;\">(0.000,0.000)</span></td>\n",
       "<td>0.000<br><span style=\"font-size: 75%;\">(0.000,0.000)</span></td>\n",
       "<td>0.000<br><span style=\"font-size: 75%;\">(0.000,0.000)</span></td>\n",
       "<td>0.000<br><span style=\"font-size: 75%;\">(0.000,0.000)</span></td>\n",
       "<td>0.000<br><span style=\"font-size: 75%;\">(0.000,0.000)</span></td>\n",
       "<td></td>\n",
       "</tr>\n",
       "<tr><td>nrms_topics_static\n",
       "<td>0.000<br><span style=\"font-size: 75%;\">(0.000,0.000)</span></td>\n",
       "<td>0.000<br><span style=\"font-size: 75%;\">(0.000,0.000)</span></td>\n",
       "<td>0.000<br><span style=\"font-size: 75%;\">(0.000,0.000)</span></td>\n",
       "<td>0.000<br><span style=\"font-size: 75%;\">(0.000,0.000)</span></td>\n",
       "<td>0.000<br><span style=\"font-size: 75%;\">(0.000,0.000)</span></td>\n",
       "<td></td>\n",
       "</tr>\n",
       "<tr><td>softmax\n",
       "<td>0.750<br><span style=\"font-size: 75%;\">(0.738,0.762)</span></td>\n",
       "<td>0.201<br><span style=\"font-size: 75%;\">(0.185,0.217)</span></td>\n",
       "<td>0.548<br><span style=\"font-size: 75%;\">(0.534,0.578)</span></td>\n",
       "<td>0.789<br><span style=\"font-size: 75%;\">(0.769,0.801)</span></td>\n",
       "<td>0.945<br><span style=\"font-size: 75%;\">(0.940,0.955)</span></td>\n",
       "<td><img src=\"data:image/png;base64,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\"></td>\n",
       "</tr>\n",
       "</tbody>\n",
       "</table>\n"
      ],
      "text/plain": [
       "<IPython.core.display.HTML object>"
      ]
     },
     "metadata": {},
     "output_type": "display_data"
    }
   ],
   "source": [
    "for metric in overlap_metrics:\n",
    "    tw = EvalTable(mind_subset_user_metrics, \"pipeline\", metric)\n",
    "    tw.add_stat(\"Mean\", np.mean, ci=True)\n",
    "    tw.add_stat(\"Std Dev\", np.std, ci=True)\n",
    "    tw.add_quantiles([\"10%ile\", \"Median\", \"90%ile\"], [0.1, 0.5, 0.9], ci=True)\n",
    "    display(HTML(f\"<h3>Summary Table for {metric}</h3>\"))\n",
    "    display(HTML(tw.html_table()))"
   ]
  }
 ],
 "metadata": {
  "jupytext": {
   "formats": "ipynb,md:myst"
  },
  "kernelspec": {
   "display_name": "Python 3 (ipykernel)",
   "language": "python",
   "name": "python3"
  },
  "language_info": {
   "codemirror_mode": {
    "name": "ipython",
    "version": 3
   },
   "file_extension": ".py",
   "mimetype": "text/x-python",
   "name": "python",
   "nbconvert_exporter": "python",
   "pygments_lexer": "ipython3",
   "version": "3.12.9"
  },
  "papermill": {
   "default_parameters": {},
   "duration": 15.601199,
   "end_time": "2025-09-12T19:08:17.769048",
   "environment_variables": {},
   "exception": null,
   "input_path": "basic-eval-template.ipynb",
   "output_path": "mind-subset.ipynb",
   "parameters": {
    "EVAL_NAME": "mind-subset"
   },
   "start_time": "2025-09-12T19:08:02.167849",
   "version": "2.6.0"
  }
 },
 "nbformat": 4,
 "nbformat_minor": 5
}