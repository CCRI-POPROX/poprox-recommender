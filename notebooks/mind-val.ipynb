{
 "cells": [
  {
   "cell_type": "markdown",
   "id": "929f3a03",
   "metadata": {},
   "source": [
    "# Offline Evaluation Metrics Visualizations\n",
    "This notebook visualizes user-specific performance metrics of various recommenders in the mind-val dataset to assess effectiveness and ranking overlap. We explore two metric groups:\n",
    "1. **Effectiveness Metrics**: We use ranking-based metrics, Normalized Discounted Cumulative Gain (NDCG) and Reciprocal Rank (RR), to evaluate recommender effectiveness.\n",
    "2. **Ranking Overlap Metrics**: We use Rank-Based Overlap (RBO) to assess consistency in top-k recommendations relative to final rankings."
   ]
  },
  {
   "cell_type": "markdown",
   "id": "e99caddf",
   "metadata": {},
   "source": [
    "## 1. Setup"
   ]
  },
  {
   "cell_type": "markdown",
   "id": "4a4e8a0b",
   "metadata": {},
   "source": [
    "### 1. 1 Importing Libraries"
   ]
  },
  {
   "cell_type": "markdown",
   "id": "e43c941e",
   "metadata": {},
   "source": [
    "PyData packages:"
   ]
  },
  {
   "cell_type": "code",
   "execution_count": 1,
   "id": "c6892756",
   "metadata": {
    "execution": {
     "iopub.execute_input": "2024-11-26T19:26:27.067164Z",
     "iopub.status.busy": "2024-11-26T19:26:27.067007Z",
     "iopub.status.idle": "2024-11-26T19:26:27.924038Z",
     "shell.execute_reply": "2024-11-26T19:26:27.923012Z"
    }
   },
   "outputs": [],
   "source": [
    "import matplotlib.pyplot as plt\n",
    "import numpy as np\n",
    "import pandas as pd\n",
    "import seaborn as sns"
   ]
  },
  {
   "cell_type": "markdown",
   "id": "3fd29064",
   "metadata": {},
   "source": [
    "Local code:"
   ]
  },
  {
   "cell_type": "code",
   "execution_count": 2,
   "id": "d90e1a87",
   "metadata": {
    "execution": {
     "iopub.execute_input": "2024-11-26T19:26:27.926858Z",
     "iopub.status.busy": "2024-11-26T19:26:27.926617Z",
     "iopub.status.idle": "2024-11-26T19:26:27.931317Z",
     "shell.execute_reply": "2024-11-26T19:26:27.930732Z"
    }
   },
   "outputs": [],
   "source": [
    "from IPython.display import HTML\n",
    "\n",
    "from poprox_recommender.eval_tables import EvalTable"
   ]
  },
  {
   "cell_type": "markdown",
   "id": "0c730e27",
   "metadata": {},
   "source": [
    "Set up progress:"
   ]
  },
  {
   "cell_type": "code",
   "execution_count": 3,
   "id": "2084d687",
   "metadata": {
    "execution": {
     "iopub.execute_input": "2024-11-26T19:26:27.933483Z",
     "iopub.status.busy": "2024-11-26T19:26:27.933331Z",
     "iopub.status.idle": "2024-11-26T19:26:27.940332Z",
     "shell.execute_reply": "2024-11-26T19:26:27.939701Z"
    }
   },
   "outputs": [
    {
     "name": "stderr",
     "output_type": "stream",
     "text": [
      "/tmp/ipykernel_340315/2439040576.py:1: TqdmWarning: IProgress not found. Please update jupyter and ipywidgets. See https://ipywidgets.readthedocs.io/en/stable/user_install.html\n",
      "  from tqdm.autonotebook import tqdm as notebook_tqdm\n"
     ]
    }
   ],
   "source": [
    "from tqdm.autonotebook import tqdm as notebook_tqdm"
   ]
  },
  {
   "cell_type": "markdown",
   "id": "929f3bba",
   "metadata": {},
   "source": [
    "### 1. 2 Loading Data"
   ]
  },
  {
   "cell_type": "code",
   "execution_count": 4,
   "id": "89a97468",
   "metadata": {
    "execution": {
     "iopub.execute_input": "2024-11-26T19:26:27.941972Z",
     "iopub.status.busy": "2024-11-26T19:26:27.941816Z",
     "iopub.status.idle": "2024-11-26T19:26:30.398200Z",
     "shell.execute_reply": "2024-11-26T19:26:30.397599Z"
    }
   },
   "outputs": [
    {
     "data": {
      "text/html": [
       "<div>\n",
       "<style scoped>\n",
       "    .dataframe tbody tr th:only-of-type {\n",
       "        vertical-align: middle;\n",
       "    }\n",
       "\n",
       "    .dataframe tbody tr th {\n",
       "        vertical-align: top;\n",
       "    }\n",
       "\n",
       "    .dataframe thead th {\n",
       "        text-align: right;\n",
       "    }\n",
       "</style>\n",
       "<table border=\"1\" class=\"dataframe\">\n",
       "  <thead>\n",
       "    <tr style=\"text-align: right;\">\n",
       "      <th></th>\n",
       "      <th>Unnamed: 0</th>\n",
       "      <th>profile_id</th>\n",
       "      <th>recommender</th>\n",
       "      <th>personalized</th>\n",
       "      <th>NDCG@5</th>\n",
       "      <th>NDCG@10</th>\n",
       "      <th>RR</th>\n",
       "      <th>RBO@5</th>\n",
       "      <th>RBO@10</th>\n",
       "    </tr>\n",
       "  </thead>\n",
       "  <tbody>\n",
       "    <tr>\n",
       "      <th>0</th>\n",
       "      <td>0</td>\n",
       "      <td>00002229-1f34-5beb-ba44-89021dd1f157</td>\n",
       "      <td>nrms</td>\n",
       "      <td>True</td>\n",
       "      <td>0.0</td>\n",
       "      <td>0.30103</td>\n",
       "      <td>0.1</td>\n",
       "      <td>0.409510</td>\n",
       "      <td>0.651322</td>\n",
       "    </tr>\n",
       "    <tr>\n",
       "      <th>1</th>\n",
       "      <td>1</td>\n",
       "      <td>00002229-1f34-5beb-ba44-89021dd1f157</td>\n",
       "      <td>mmr</td>\n",
       "      <td>True</td>\n",
       "      <td>0.0</td>\n",
       "      <td>0.00000</td>\n",
       "      <td>0.0</td>\n",
       "      <td>0.216469</td>\n",
       "      <td>0.289265</td>\n",
       "    </tr>\n",
       "    <tr>\n",
       "      <th>2</th>\n",
       "      <td>2</td>\n",
       "      <td>00002229-1f34-5beb-ba44-89021dd1f157</td>\n",
       "      <td>pfar</td>\n",
       "      <td>True</td>\n",
       "      <td>0.0</td>\n",
       "      <td>0.30103</td>\n",
       "      <td>0.1</td>\n",
       "      <td>0.409510</td>\n",
       "      <td>0.651322</td>\n",
       "    </tr>\n",
       "    <tr>\n",
       "      <th>3</th>\n",
       "      <td>3</td>\n",
       "      <td>00002229-1f34-5beb-ba44-89021dd1f157</td>\n",
       "      <td>topic-cali</td>\n",
       "      <td>True</td>\n",
       "      <td>0.0</td>\n",
       "      <td>0.30103</td>\n",
       "      <td>0.1</td>\n",
       "      <td>0.409510</td>\n",
       "      <td>0.651322</td>\n",
       "    </tr>\n",
       "    <tr>\n",
       "      <th>4</th>\n",
       "      <td>4</td>\n",
       "      <td>00002229-1f34-5beb-ba44-89021dd1f157</td>\n",
       "      <td>locality-cali</td>\n",
       "      <td>True</td>\n",
       "      <td>0.0</td>\n",
       "      <td>0.30103</td>\n",
       "      <td>0.1</td>\n",
       "      <td>0.409510</td>\n",
       "      <td>0.651322</td>\n",
       "    </tr>\n",
       "  </tbody>\n",
       "</table>\n",
       "</div>"
      ],
      "text/plain": [
       "   Unnamed: 0                            profile_id    recommender  \\\n",
       "0           0  00002229-1f34-5beb-ba44-89021dd1f157           nrms   \n",
       "1           1  00002229-1f34-5beb-ba44-89021dd1f157            mmr   \n",
       "2           2  00002229-1f34-5beb-ba44-89021dd1f157           pfar   \n",
       "3           3  00002229-1f34-5beb-ba44-89021dd1f157     topic-cali   \n",
       "4           4  00002229-1f34-5beb-ba44-89021dd1f157  locality-cali   \n",
       "\n",
       "   personalized  NDCG@5  NDCG@10   RR     RBO@5    RBO@10  \n",
       "0          True     0.0  0.30103  0.1  0.409510  0.651322  \n",
       "1          True     0.0  0.00000  0.0  0.216469  0.289265  \n",
       "2          True     0.0  0.30103  0.1  0.409510  0.651322  \n",
       "3          True     0.0  0.30103  0.1  0.409510  0.651322  \n",
       "4          True     0.0  0.30103  0.1  0.409510  0.651322  "
      ]
     },
     "execution_count": 4,
     "metadata": {},
     "output_type": "execute_result"
    }
   ],
   "source": [
    "mind_val_user_metrics = pd.read_csv(\"../outputs/mind-val/profile-metrics.csv.gz\")\n",
    "mind_val_user_metrics.head()"
   ]
  },
  {
   "cell_type": "code",
   "execution_count": 5,
   "id": "362f3bc5",
   "metadata": {
    "execution": {
     "iopub.execute_input": "2024-11-26T19:26:30.399885Z",
     "iopub.status.busy": "2024-11-26T19:26:30.399716Z",
     "iopub.status.idle": "2024-11-26T19:26:30.402768Z",
     "shell.execute_reply": "2024-11-26T19:26:30.402059Z"
    }
   },
   "outputs": [],
   "source": [
    "effectiveness_metrics = [\"NDCG@5\", \"NDCG@10\", \"RR\"]\n",
    "overlap_metrics = [\"RBO@5\", \"RBO@10\"]"
   ]
  },
  {
   "cell_type": "markdown",
   "id": "99d1aac6",
   "metadata": {},
   "source": [
    "## 2. Results"
   ]
  },
  {
   "cell_type": "markdown",
   "id": "fa366cc6",
   "metadata": {},
   "source": [
    "### 2. 1 Effectiveness Metrics\n",
    "NDCG measures how well the recommendations align with user test data, focusing on the top-k positions, such as the top 5 (NDCG@5) or top 10 (NDCG@10). Likewise, RR evaluates how well the recommender finds the most relevant item as the top result."
   ]
  },
  {
   "cell_type": "code",
   "execution_count": 6,
   "id": "4472f72e",
   "metadata": {
    "execution": {
     "iopub.execute_input": "2024-11-26T19:26:30.404562Z",
     "iopub.status.busy": "2024-11-26T19:26:30.404418Z",
     "iopub.status.idle": "2024-11-26T19:27:23.165004Z",
     "shell.execute_reply": "2024-11-26T19:27:23.164291Z"
    }
   },
   "outputs": [
    {
     "data": {
      "image/png": "[encoded data removed]",
      "text/plain": [
       "<Figure size 1200x300 with 3 Axes>"
      ]
     },
     "metadata": {},
     "output_type": "display_data"
    }
   ],
   "source": [
    "plt.figure(figsize=(12, 3))\n",
    "plt.subplots_adjust(wspace=0.3)\n",
    "\n",
    "for i, metric in enumerate(effectiveness_metrics, 1):\n",
    "    plt.subplot(1, 3, i)\n",
    "    sns.barplot(data=mind_val_user_metrics, x=\"recommender\", y=metric)\n",
    "    plt.xticks(rotation=45)\n",
    "\n",
    "plt.show()"
   ]
  },
  {
   "cell_type": "markdown",
   "id": "d20bf98b",
   "metadata": {},
   "source": [
    "The summary tables show the mean values, standard deviation, and quantiles (10%ile, Median, 90%ile), each accompanied by their respective 95% confidence intervals for effectiveness metrics across recommenders."
   ]
  },
  {
   "cell_type": "code",
   "execution_count": 7,
   "id": "81034f7f",
   "metadata": {
    "execution": {
     "iopub.execute_input": "2024-11-26T19:27:23.167356Z",
     "iopub.status.busy": "2024-11-26T19:27:23.167152Z",
     "iopub.status.idle": "2024-11-26T20:39:24.738194Z",
     "shell.execute_reply": "2024-11-26T20:39:24.737480Z"
    }
   },
   "outputs": [
    {
     "name": "stderr",
     "output_type": "stream",
     "text": [
      "\r\n",
      "Mean:   0%|                                                                                                                                                              | 0/6 [00:00<?, ?it/s]"
     ]
    },
    {
     "name": "stderr",
     "output_type": "stream",
     "text": [
      "\r\n",
      "Mean:  17%|█████████████████████████                                                                                                                             | 1/6 [00:59<04:55, 59.06s/it]"
     ]
    },
    {
     "name": "stderr",
     "output_type": "stream",
     "text": [
      "\r\n",
      "Mean:  33%|██████████████████████████████████████████████████                                                                                                    | 2/6 [01:57<03:54, 58.63s/it]"
     ]
    },
    {
     "name": "stderr",
     "output_type": "stream",
     "text": [
      "\r\n",
      "Mean:  50%|███████████████████████████████████████████████████████████████████████████                                                                           | 3/6 [03:01<03:02, 60.99s/it]"
     ]
    },
    {
     "name": "stderr",
     "output_type": "stream",
     "text": [
      "\r\n",
      "Mean:  67%|████████████████████████████████████████████████████████████████████████████████████████████████████                                                  | 4/6 [04:04<02:04, 62.05s/it]"
     ]
    },
    {
     "name": "stderr",
     "output_type": "stream",
     "text": [
      "\r\n",
      "Mean:  83%|█████████████████████████████████████████████████████████████████████████████████████████████████████████████████████████████                         | 5/6 [05:08<01:02, 62.57s/it]"
     ]
    },
    {
     "name": "stderr",
     "output_type": "stream",
     "text": [
      "\r\n",
      "Mean: 100%|██████████████████████████████████████████████████████████████████████████████████████████████████████████████████████████████████████████████████████| 6/6 [06:12<00:00, 63.22s/it]"
     ]
    },
    {
     "name": "stderr",
     "output_type": "stream",
     "text": [
      "\r\n",
      "Mean: 100%|██████████████████████████████████████████████████████████████████████████████████████████████████████████████████████████████████████████████████████| 6/6 [06:12<00:00, 62.14s/it]"
     ]
    },
    {
     "name": "stderr",
     "output_type": "stream",
     "text": [
      "\n"
     ]
    },
    {
     "name": "stderr",
     "output_type": "stream",
     "text": [
      "\r\n",
      "Std Dev:   0%|                                                                                                                                                           | 0/6 [00:00<?, ?it/s]"
     ]
    },
    {
     "name": "stderr",
     "output_type": "stream",
     "text": [
      "\r\n",
      "Std Dev:  17%|████████████████████████▌                                                                                                                          | 1/6 [01:06<05:31, 66.39s/it]"
     ]
    },
    {
     "name": "stderr",
     "output_type": "stream",
     "text": [
      "\r\n",
      "Std Dev:  33%|█████████████████████████████████████████████████                                                                                                  | 2/6 [02:13<04:26, 66.57s/it]"
     ]
    },
    {
     "name": "stderr",
     "output_type": "stream",
     "text": [
      "\r\n",
      "Std Dev:  50%|█████████████████████████████████████████████████████████████████████████▌                                                                         | 3/6 [03:14<03:12, 64.33s/it]"
     ]
    },
    {
     "name": "stderr",
     "output_type": "stream",
     "text": [
      "\r\n",
      "Std Dev:  67%|██████████████████████████████████████████████████████████████████████████████████████████████████                                                 | 4/6 [04:19<02:08, 64.38s/it]"
     ]
    },
    {
     "name": "stderr",
     "output_type": "stream",
     "text": [
      "\r\n",
      "Std Dev:  83%|██████████████████████████████████████████████████████████████████████████████████████████████████████████████████████████▌                        | 5/6 [05:21<01:03, 63.51s/it]"
     ]
    },
    {
     "name": "stderr",
     "output_type": "stream",
     "text": [
      "\r\n",
      "Std Dev: 100%|███████████████████████████████████████████████████████████████████████████████████████████████████████████████████████████████████████████████████| 6/6 [06:22<00:00, 62.75s/it]"
     ]
    },
    {
     "name": "stderr",
     "output_type": "stream",
     "text": [
      "\r\n",
      "Std Dev: 100%|███████████████████████████████████████████████████████████████████████████████████████████████████████████████████████████████████████████████████| 6/6 [06:22<00:00, 63.74s/it]"
     ]
    },
    {
     "name": "stderr",
     "output_type": "stream",
     "text": [
      "\n"
     ]
    },
    {
     "name": "stderr",
     "output_type": "stream",
     "text": [
      "\r\n",
      "quantiles:   0%|                                                                                                                                                         | 0/6 [00:00<?, ?it/s]"
     ]
    },
    {
     "name": "stderr",
     "output_type": "stream",
     "text": [
      "\r\n",
      "quantiles:  17%|████████████████████████                                                                                                                        | 1/6 [01:50<09:10, 110.15s/it]"
     ]
    },
    {
     "name": "stderr",
     "output_type": "stream",
     "text": [
      "\r\n",
      "quantiles:  33%|████████████████████████████████████████████████                                                                                                | 2/6 [03:35<07:08, 107.23s/it]"
     ]
    },
    {
     "name": "stderr",
     "output_type": "stream",
     "text": [
      "\r\n",
      "quantiles:  50%|████████████████████████████████████████████████████████████████████████                                                                        | 3/6 [05:27<05:27, 109.29s/it]"
     ]
    },
    {
     "name": "stderr",
     "output_type": "stream",
     "text": [
      "\r\n",
      "quantiles:  67%|████████████████████████████████████████████████████████████████████████████████████████████████                                                | 4/6 [07:18<03:40, 110.27s/it]"
     ]
    },
    {
     "name": "stderr",
     "output_type": "stream",
     "text": [
      "\r\n",
      "quantiles:  83%|████████████████████████████████████████████████████████████████████████████████████████████████████████████████████████                        | 5/6 [09:10<01:50, 110.76s/it]"
     ]
    },
    {
     "name": "stderr",
     "output_type": "stream",
     "text": [
      "\r\n",
      "quantiles: 100%|████████████████████████████████████████████████████████████████████████████████████████████████████████████████████████████████████████████████| 6/6 [11:02<00:00, 111.09s/it]"
     ]
    },
    {
     "name": "stderr",
     "output_type": "stream",
     "text": [
      "\r\n",
      "quantiles: 100%|████████████████████████████████████████████████████████████████████████████████████████████████████████████████████████████████████████████████| 6/6 [11:02<00:00, 110.37s/it]"
     ]
    },
    {
     "name": "stderr",
     "output_type": "stream",
     "text": [
      "\n"
     ]
    },
    {
     "data": {
      "text/html": [
       "<h3>Summary Table for NDCG@5</h3>"
      ],
      "text/plain": [
       "<IPython.core.display.HTML object>"
      ]
     },
     "metadata": {},
     "output_type": "display_data"
    },
    {
     "data": {
      "text/html": [
       "<table>\n",
       "<thead><tr>\n",
       "<th>Algorithm\n",
       "<th>Mean\n",
       "<th>Std Dev\n",
       "<th>10%ile\n",
       "<th>Median\n",
       "<th>90%ile\n",
       "<th>Dist. (KDE)\n",
       "</tr></thead>\n",
       "<tbody>\n",
       "<tr><td>locality-cali\n",
       "<td>0.418<br><span style=\"font-size: 75%;\">(0.417,0.419)</span></td>\n",
       "<td>0.410<br><span style=\"font-size: 75%;\">(0.410,0.411)</span></td>\n",
       "<td>0.000<br><span style=\"font-size: 75%;\">(0.000,0.000)</span></td>\n",
       "<td>0.431<br><span style=\"font-size: 75%;\">(0.431,0.431)</span></td>\n",
       "<td>1.000<br><span style=\"font-size: 75%;\">(1.000,1.000)</span></td>\n",
       "<td><img src=\"data:image/png;base64,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\"></td>\n",
       "</tr>\n",
       "<tr><td>mmr\n",
       "<td>0.359<br><span style=\"font-size: 75%;\">(0.357,0.361)</span></td>\n",
       "<td>0.537<br><span style=\"font-size: 75%;\">(0.534,0.539)</span></td>\n",
       "<td>0.000<br><span style=\"font-size: 75%;\">(0.000,0.000)</span></td>\n",
       "<td>0.000<br><span style=\"font-size: 75%;\">(0.000,0.000)</span></td>\n",
       "<td>1.000<br><span style=\"font-size: 75%;\">(1.000,1.000)</span></td>\n",
       "<td><img src=\"data:image/png;base64,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\"></td>\n",
       "</tr>\n",
       "<tr><td>nrms\n",
       "<td>0.418<br><span style=\"font-size: 75%;\">(0.416,0.419)</span></td>\n",
       "<td>0.410<br><span style=\"font-size: 75%;\">(0.410,0.411)</span></td>\n",
       "<td>0.000<br><span style=\"font-size: 75%;\">(0.000,0.000)</span></td>\n",
       "<td>0.431<br><span style=\"font-size: 75%;\">(0.431,0.431)</span></td>\n",
       "<td>1.000<br><span style=\"font-size: 75%;\">(1.000,1.000)</span></td>\n",
       "<td><img src=\"data:image/png;base64,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\"></td>\n",
       "</tr>\n",
       "<tr><td>pfar\n",
       "<td>0.418<br><span style=\"font-size: 75%;\">(0.417,0.419)</span></td>\n",
       "<td>0.410<br><span style=\"font-size: 75%;\">(0.410,0.411)</span></td>\n",
       "<td>0.000<br><span style=\"font-size: 75%;\">(0.000,0.000)</span></td>\n",
       "<td>0.431<br><span style=\"font-size: 75%;\">(0.431,0.431)</span></td>\n",
       "<td>1.000<br><span style=\"font-size: 75%;\">(1.000,1.000)</span></td>\n",
       "<td><img src=\"data:image/png;base64,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\"></td>\n",
       "</tr>\n",
       "<tr><td>softmax\n",
       "<td>0.383<br><span style=\"font-size: 75%;\">(0.382,0.385)</span></td>\n",
       "<td>0.406<br><span style=\"font-size: 75%;\">(0.405,0.406)</span></td>\n",
       "<td>0.000<br><span style=\"font-size: 75%;\">(0.000,0.000)</span></td>\n",
       "<td>0.281<br><span style=\"font-size: 75%;\">(0.281,0.297)</span></td>\n",
       "<td>1.000<br><span style=\"font-size: 75%;\">(1.000,1.000)</span></td>\n",
       "<td><img src=\"data:image/png;base64,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\"></td>\n",
       "</tr>\n",
       "<tr><td>topic-cali\n",
       "<td>0.418<br><span style=\"font-size: 75%;\">(0.417,0.419)</span></td>\n",
       "<td>0.410<br><span style=\"font-size: 75%;\">(0.410,0.411)</span></td>\n",
       "<td>0.000<br><span style=\"font-size: 75%;\">(0.000,0.000)</span></td>\n",
       "<td>0.431<br><span style=\"font-size: 75%;\">(0.431,0.431)</span></td>\n",
       "<td>1.000<br><span style=\"font-size: 75%;\">(1.000,1.000)</span></td>\n",
       "<td><img src=\"data:image/png;base64,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\"></td>\n",
       "</tr>\n",
       "</tbody>\n",
       "</table>\n"
      ],
      "text/plain": [
       "<IPython.core.display.HTML object>"
      ]
     },
     "metadata": {},
     "output_type": "display_data"
    },
    {
     "name": "stderr",
     "output_type": "stream",
     "text": [
      "\r\n",
      "Mean:   0%|                                                                                                                                                              | 0/6 [00:00<?, ?it/s]"
     ]
    },
    {
     "name": "stderr",
     "output_type": "stream",
     "text": [
      "\r\n",
      "Mean:  17%|█████████████████████████                                                                                                                             | 1/6 [01:04<05:21, 64.38s/it]"
     ]
    },
    {
     "name": "stderr",
     "output_type": "stream",
     "text": [
      "\r\n",
      "Mean:  33%|██████████████████████████████████████████████████                                                                                                    | 2/6 [02:02<04:03, 60.91s/it]"
     ]
    },
    {
     "name": "stderr",
     "output_type": "stream",
     "text": [
      "\r\n",
      "Mean:  50%|███████████████████████████████████████████████████████████████████████████                                                                           | 3/6 [03:01<02:59, 59.74s/it]"
     ]
    },
    {
     "name": "stderr",
     "output_type": "stream",
     "text": [
      "\r\n",
      "Mean:  67%|████████████████████████████████████████████████████████████████████████████████████████████████████                                                  | 4/6 [04:05<02:02, 61.40s/it]"
     ]
    },
    {
     "name": "stderr",
     "output_type": "stream",
     "text": [
      "\r\n",
      "Mean:  83%|█████████████████████████████████████████████████████████████████████████████████████████████████████████████████████████████                         | 5/6 [05:08<01:02, 62.28s/it]"
     ]
    },
    {
     "name": "stderr",
     "output_type": "stream",
     "text": [
      "\r\n",
      "Mean: 100%|██████████████████████████████████████████████████████████████████████████████████████████████████████████████████████████████████████████████████████| 6/6 [06:13<00:00, 62.91s/it]"
     ]
    },
    {
     "name": "stderr",
     "output_type": "stream",
     "text": [
      "\r\n",
      "Mean: 100%|██████████████████████████████████████████████████████████████████████████████████████████████████████████████████████████████████████████████████████| 6/6 [06:13<00:00, 62.19s/it]"
     ]
    },
    {
     "name": "stderr",
     "output_type": "stream",
     "text": [
      "\n"
     ]
    },
    {
     "name": "stderr",
     "output_type": "stream",
     "text": [
      "\r\n",
      "Std Dev:   0%|                                                                                                                                                           | 0/6 [00:00<?, ?it/s]"
     ]
    },
    {
     "name": "stderr",
     "output_type": "stream",
     "text": [
      "\r\n",
      "Std Dev:  17%|████████████████████████▌                                                                                                                          | 1/6 [01:01<05:06, 61.22s/it]"
     ]
    },
    {
     "name": "stderr",
     "output_type": "stream",
     "text": [
      "\r\n",
      "Std Dev:  33%|█████████████████████████████████████████████████                                                                                                  | 2/6 [02:02<04:03, 60.99s/it]"
     ]
    },
    {
     "name": "stderr",
     "output_type": "stream",
     "text": [
      "\r\n",
      "Std Dev:  50%|█████████████████████████████████████████████████████████████████████████▌                                                                         | 3/6 [03:02<03:02, 60.89s/it]"
     ]
    },
    {
     "name": "stderr",
     "output_type": "stream",
     "text": [
      "\r\n",
      "Std Dev:  67%|██████████████████████████████████████████████████████████████████████████████████████████████████                                                 | 4/6 [04:09<02:06, 63.26s/it]"
     ]
    },
    {
     "name": "stderr",
     "output_type": "stream",
     "text": [
      "\r\n",
      "Std Dev:  83%|██████████████████████████████████████████████████████████████████████████████████████████████████████████████████████████▌                        | 5/6 [05:17<01:04, 64.89s/it]"
     ]
    },
    {
     "name": "stderr",
     "output_type": "stream",
     "text": [
      "\r\n",
      "Std Dev: 100%|███████████████████████████████████████████████████████████████████████████████████████████████████████████████████████████████████████████████████| 6/6 [06:24<00:00, 65.52s/it]"
     ]
    },
    {
     "name": "stderr",
     "output_type": "stream",
     "text": [
      "\r\n",
      "Std Dev: 100%|███████████████████████████████████████████████████████████████████████████████████████████████████████████████████████████████████████████████████| 6/6 [06:24<00:00, 64.04s/it]"
     ]
    },
    {
     "name": "stderr",
     "output_type": "stream",
     "text": [
      "\n"
     ]
    },
    {
     "name": "stderr",
     "output_type": "stream",
     "text": [
      "\r\n",
      "quantiles:   0%|                                                                                                                                                         | 0/6 [00:00<?, ?it/s]"
     ]
    },
    {
     "name": "stderr",
     "output_type": "stream",
     "text": [
      "\r\n",
      "quantiles:  17%|████████████████████████                                                                                                                        | 1/6 [01:52<09:24, 112.90s/it]"
     ]
    },
    {
     "name": "stderr",
     "output_type": "stream",
     "text": [
      "\r\n",
      "quantiles:  33%|████████████████████████████████████████████████                                                                                                | 2/6 [03:48<07:38, 114.60s/it]"
     ]
    },
    {
     "name": "stderr",
     "output_type": "stream",
     "text": [
      "\r\n",
      "quantiles:  50%|████████████████████████████████████████████████████████████████████████                                                                        | 3/6 [05:42<05:42, 114.06s/it]"
     ]
    },
    {
     "name": "stderr",
     "output_type": "stream",
     "text": [
      "\r\n",
      "quantiles:  67%|████████████████████████████████████████████████████████████████████████████████████████████████                                                | 4/6 [07:34<03:46, 113.50s/it]"
     ]
    },
    {
     "name": "stderr",
     "output_type": "stream",
     "text": [
      "\r\n",
      "quantiles:  83%|████████████████████████████████████████████████████████████████████████████████████████████████████████████████████████                        | 5/6 [09:29<01:53, 113.84s/it]"
     ]
    },
    {
     "name": "stderr",
     "output_type": "stream",
     "text": [
      "\r\n",
      "quantiles: 100%|████████████████████████████████████████████████████████████████████████████████████████████████████████████████████████████████████████████████| 6/6 [11:20<00:00, 113.10s/it]"
     ]
    },
    {
     "name": "stderr",
     "output_type": "stream",
     "text": [
      "\r\n",
      "quantiles: 100%|████████████████████████████████████████████████████████████████████████████████████████████████████████████████████████████████████████████████| 6/6 [11:20<00:00, 113.47s/it]"
     ]
    },
    {
     "name": "stderr",
     "output_type": "stream",
     "text": [
      "\n"
     ]
    },
    {
     "data": {
      "text/html": [
       "<h3>Summary Table for NDCG@10</h3>"
      ],
      "text/plain": [
       "<IPython.core.display.HTML object>"
      ]
     },
     "metadata": {},
     "output_type": "display_data"
    },
    {
     "data": {
      "text/html": [
       "<table>\n",
       "<thead><tr>\n",
       "<th>Algorithm\n",
       "<th>Mean\n",
       "<th>Std Dev\n",
       "<th>10%ile\n",
       "<th>Median\n",
       "<th>90%ile\n",
       "<th>Dist. (KDE)\n",
       "</tr></thead>\n",
       "<tbody>\n",
       "<tr><td>locality-cali\n",
       "<td>0.483<br><span style=\"font-size: 75%;\">(0.482,0.484)</span></td>\n",
       "<td>0.370<br><span style=\"font-size: 75%;\">(0.370,0.371)</span></td>\n",
       "<td>0.000<br><span style=\"font-size: 75%;\">(0.000,0.000)</span></td>\n",
       "<td>0.431<br><span style=\"font-size: 75%;\">(0.431,0.431)</span></td>\n",
       "<td>1.000<br><span style=\"font-size: 75%;\">(1.000,1.000)</span></td>\n",
       "<td><img src=\"data:image/png;base64,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\"></td>\n",
       "</tr>\n",
       "<tr><td>mmr\n",
       "<td>0.503<br><span style=\"font-size: 75%;\">(0.500,0.505)</span></td>\n",
       "<td>0.784<br><span style=\"font-size: 75%;\">(0.779,0.788)</span></td>\n",
       "<td>0.000<br><span style=\"font-size: 75%;\">(0.000,0.000)</span></td>\n",
       "<td>0.333<br><span style=\"font-size: 75%;\">(0.333,0.333)</span></td>\n",
       "<td>1.000<br><span style=\"font-size: 75%;\">(1.000,1.000)</span></td>\n",
       "<td><img src=\"data:image/png;base64,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\"></td>\n",
       "</tr>\n",
       "<tr><td>nrms\n",
       "<td>0.483<br><span style=\"font-size: 75%;\">(0.482,0.484)</span></td>\n",
       "<td>0.370<br><span style=\"font-size: 75%;\">(0.370,0.371)</span></td>\n",
       "<td>0.000<br><span style=\"font-size: 75%;\">(0.000,0.000)</span></td>\n",
       "<td>0.431<br><span style=\"font-size: 75%;\">(0.431,0.431)</span></td>\n",
       "<td>1.000<br><span style=\"font-size: 75%;\">(1.000,1.000)</span></td>\n",
       "<td><img src=\"data:image/png;base64,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\"></td>\n",
       "</tr>\n",
       "<tr><td>pfar\n",
       "<td>0.483<br><span style=\"font-size: 75%;\">(0.482,0.484)</span></td>\n",
       "<td>0.370<br><span style=\"font-size: 75%;\">(0.370,0.371)</span></td>\n",
       "<td>0.000<br><span style=\"font-size: 75%;\">(0.000,0.000)</span></td>\n",
       "<td>0.431<br><span style=\"font-size: 75%;\">(0.431,0.431)</span></td>\n",
       "<td>1.000<br><span style=\"font-size: 75%;\">(1.000,1.000)</span></td>\n",
       "<td><img src=\"data:image/png;base64,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\"></td>\n",
       "</tr>\n",
       "<tr><td>softmax\n",
       "<td>0.451<br><span style=\"font-size: 75%;\">(0.450,0.452)</span></td>\n",
       "<td>0.368<br><span style=\"font-size: 75%;\">(0.367,0.368)</span></td>\n",
       "<td>0.000<br><span style=\"font-size: 75%;\">(0.000,0.000)</span></td>\n",
       "<td>0.387<br><span style=\"font-size: 75%;\">(0.387,0.387)</span></td>\n",
       "<td>1.000<br><span style=\"font-size: 75%;\">(1.000,1.000)</span></td>\n",
       "<td><img src=\"data:image/png;base64,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\"></td>\n",
       "</tr>\n",
       "<tr><td>topic-cali\n",
       "<td>0.483<br><span style=\"font-size: 75%;\">(0.482,0.484)</span></td>\n",
       "<td>0.370<br><span style=\"font-size: 75%;\">(0.370,0.371)</span></td>\n",
       "<td>0.000<br><span style=\"font-size: 75%;\">(0.000,0.000)</span></td>\n",
       "<td>0.431<br><span style=\"font-size: 75%;\">(0.431,0.431)</span></td>\n",
       "<td>1.000<br><span style=\"font-size: 75%;\">(1.000,1.000)</span></td>\n",
       "<td><img src=\"data:image/png;base64,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\"></td>\n",
       "</tr>\n",
       "</tbody>\n",
       "</table>\n"
      ],
      "text/plain": [
       "<IPython.core.display.HTML object>"
      ]
     },
     "metadata": {},
     "output_type": "display_data"
    },
    {
     "name": "stderr",
     "output_type": "stream",
     "text": [
      "\r\n",
      "Mean:   0%|                                                                                                                                                              | 0/6 [00:00<?, ?it/s]"
     ]
    },
    {
     "name": "stderr",
     "output_type": "stream",
     "text": [
      "\r\n",
      "Mean:  17%|█████████████████████████                                                                                                                             | 1/6 [01:04<05:22, 64.41s/it]"
     ]
    },
    {
     "name": "stderr",
     "output_type": "stream",
     "text": [
      "\r\n",
      "Mean:  33%|██████████████████████████████████████████████████                                                                                                    | 2/6 [02:08<04:16, 64.16s/it]"
     ]
    },
    {
     "name": "stderr",
     "output_type": "stream",
     "text": [
      "\r\n",
      "Mean:  50%|███████████████████████████████████████████████████████████████████████████                                                                           | 3/6 [03:12<03:12, 64.29s/it]"
     ]
    },
    {
     "name": "stderr",
     "output_type": "stream",
     "text": [
      "\r\n",
      "Mean:  67%|████████████████████████████████████████████████████████████████████████████████████████████████████                                                  | 4/6 [04:18<02:09, 64.73s/it]"
     ]
    },
    {
     "name": "stderr",
     "output_type": "stream",
     "text": [
      "\r\n",
      "Mean:  83%|█████████████████████████████████████████████████████████████████████████████████████████████████████████████████████████████                         | 5/6 [05:22<01:04, 64.40s/it]"
     ]
    },
    {
     "name": "stderr",
     "output_type": "stream",
     "text": [
      "\r\n",
      "Mean: 100%|██████████████████████████████████████████████████████████████████████████████████████████████████████████████████████████████████████████████████████| 6/6 [06:25<00:00, 64.22s/it]"
     ]
    },
    {
     "name": "stderr",
     "output_type": "stream",
     "text": [
      "\r\n",
      "Mean: 100%|██████████████████████████████████████████████████████████████████████████████████████████████████████████████████████████████████████████████████████| 6/6 [06:25<00:00, 64.32s/it]"
     ]
    },
    {
     "name": "stderr",
     "output_type": "stream",
     "text": [
      "\n"
     ]
    },
    {
     "name": "stderr",
     "output_type": "stream",
     "text": [
      "\r\n",
      "Std Dev:   0%|                                                                                                                                                           | 0/6 [00:00<?, ?it/s]"
     ]
    },
    {
     "name": "stderr",
     "output_type": "stream",
     "text": [
      "\r\n",
      "Std Dev:  17%|████████████████████████▌                                                                                                                          | 1/6 [01:07<05:36, 67.37s/it]"
     ]
    },
    {
     "name": "stderr",
     "output_type": "stream",
     "text": [
      "\r\n",
      "Std Dev:  33%|█████████████████████████████████████████████████                                                                                                  | 2/6 [02:13<04:26, 66.68s/it]"
     ]
    },
    {
     "name": "stderr",
     "output_type": "stream",
     "text": [
      "\r\n",
      "Std Dev:  50%|█████████████████████████████████████████████████████████████████████████▌                                                                         | 3/6 [03:15<03:12, 64.29s/it]"
     ]
    },
    {
     "name": "stderr",
     "output_type": "stream",
     "text": [
      "\r\n",
      "Std Dev:  67%|██████████████████████████████████████████████████████████████████████████████████████████████████                                                 | 4/6 [04:16<02:06, 63.20s/it]"
     ]
    },
    {
     "name": "stderr",
     "output_type": "stream",
     "text": [
      "\r\n",
      "Std Dev:  83%|██████████████████████████████████████████████████████████████████████████████████████████████████████████████████████████▌                        | 5/6 [05:17<01:02, 62.51s/it]"
     ]
    },
    {
     "name": "stderr",
     "output_type": "stream",
     "text": [
      "\r\n",
      "Std Dev: 100%|███████████████████████████████████████████████████████████████████████████████████████████████████████████████████████████████████████████████████| 6/6 [06:21<00:00, 63.06s/it]"
     ]
    },
    {
     "name": "stderr",
     "output_type": "stream",
     "text": [
      "\r\n",
      "Std Dev: 100%|███████████████████████████████████████████████████████████████████████████████████████████████████████████████████████████████████████████████████| 6/6 [06:21<00:00, 63.66s/it]"
     ]
    },
    {
     "name": "stderr",
     "output_type": "stream",
     "text": [
      "\n"
     ]
    },
    {
     "name": "stderr",
     "output_type": "stream",
     "text": [
      "\r\n",
      "quantiles:   0%|                                                                                                                                                         | 0/6 [00:00<?, ?it/s]"
     ]
    },
    {
     "name": "stderr",
     "output_type": "stream",
     "text": [
      "\r\n",
      "quantiles:  17%|████████████████████████                                                                                                                        | 1/6 [01:53<09:26, 113.21s/it]"
     ]
    },
    {
     "name": "stderr",
     "output_type": "stream",
     "text": [
      "\r\n",
      "quantiles:  33%|████████████████████████████████████████████████                                                                                                | 2/6 [03:46<07:32, 113.04s/it]"
     ]
    },
    {
     "name": "stderr",
     "output_type": "stream",
     "text": [
      "\r\n",
      "quantiles:  50%|████████████████████████████████████████████████████████████████████████                                                                        | 3/6 [05:40<05:40, 113.57s/it]"
     ]
    },
    {
     "name": "stderr",
     "output_type": "stream",
     "text": [
      "\r\n",
      "quantiles:  67%|████████████████████████████████████████████████████████████████████████████████████████████████                                                | 4/6 [07:34<03:47, 113.99s/it]"
     ]
    },
    {
     "name": "stderr",
     "output_type": "stream",
     "text": [
      "\r\n",
      "quantiles:  83%|████████████████████████████████████████████████████████████████████████████████████████████████████████████████████████                        | 5/6 [09:31<01:54, 114.88s/it]"
     ]
    },
    {
     "name": "stderr",
     "output_type": "stream",
     "text": [
      "\r\n",
      "quantiles: 100%|████████████████████████████████████████████████████████████████████████████████████████████████████████████████████████████████████████████████| 6/6 [11:25<00:00, 114.59s/it]"
     ]
    },
    {
     "name": "stderr",
     "output_type": "stream",
     "text": [
      "\r\n",
      "quantiles: 100%|████████████████████████████████████████████████████████████████████████████████████████████████████████████████████████████████████████████████| 6/6 [11:25<00:00, 114.24s/it]"
     ]
    },
    {
     "name": "stderr",
     "output_type": "stream",
     "text": [
      "\n"
     ]
    },
    {
     "data": {
      "text/html": [
       "<h3>Summary Table for RR</h3>"
      ],
      "text/plain": [
       "<IPython.core.display.HTML object>"
      ]
     },
     "metadata": {},
     "output_type": "display_data"
    },
    {
     "data": {
      "text/html": [
       "<table>\n",
       "<thead><tr>\n",
       "<th>Algorithm\n",
       "<th>Mean\n",
       "<th>Std Dev\n",
       "<th>10%ile\n",
       "<th>Median\n",
       "<th>90%ile\n",
       "<th>Dist. (KDE)\n",
       "</tr></thead>\n",
       "<tbody>\n",
       "<tr><td>locality-cali\n",
       "<td>0.372<br><span style=\"font-size: 75%;\">(0.370,0.373)</span></td>\n",
       "<td>0.360<br><span style=\"font-size: 75%;\">(0.359,0.360)</span></td>\n",
       "<td>0.000<br><span style=\"font-size: 75%;\">(0.000,0.000)</span></td>\n",
       "<td>0.250<br><span style=\"font-size: 75%;\">(0.250,0.250)</span></td>\n",
       "<td>1.000<br><span style=\"font-size: 75%;\">(1.000,1.000)</span></td>\n",
       "<td><img src=\"data:image/png;base64,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\"></td>\n",
       "</tr>\n",
       "<tr><td>mmr\n",
       "<td>0.313<br><span style=\"font-size: 75%;\">(0.312,0.314)</span></td>\n",
       "<td>0.380<br><span style=\"font-size: 75%;\">(0.379,0.381)</span></td>\n",
       "<td>0.000<br><span style=\"font-size: 75%;\">(0.000,0.000)</span></td>\n",
       "<td>0.143<br><span style=\"font-size: 75%;\">(0.143,0.143)</span></td>\n",
       "<td>1.000<br><span style=\"font-size: 75%;\">(1.000,1.000)</span></td>\n",
       "<td><img src=\"data:image/png;base64,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\"></td>\n",
       "</tr>\n",
       "<tr><td>nrms\n",
       "<td>0.371<br><span style=\"font-size: 75%;\">(0.370,0.373)</span></td>\n",
       "<td>0.360<br><span style=\"font-size: 75%;\">(0.359,0.360)</span></td>\n",
       "<td>0.000<br><span style=\"font-size: 75%;\">(0.000,0.000)</span></td>\n",
       "<td>0.250<br><span style=\"font-size: 75%;\">(0.250,0.250)</span></td>\n",
       "<td>1.000<br><span style=\"font-size: 75%;\">(1.000,1.000)</span></td>\n",
       "<td><img src=\"data:image/png;base64,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\"></td>\n",
       "</tr>\n",
       "<tr><td>pfar\n",
       "<td>0.372<br><span style=\"font-size: 75%;\">(0.370,0.373)</span></td>\n",
       "<td>0.360<br><span style=\"font-size: 75%;\">(0.359,0.360)</span></td>\n",
       "<td>0.000<br><span style=\"font-size: 75%;\">(0.000,0.000)</span></td>\n",
       "<td>0.250<br><span style=\"font-size: 75%;\">(0.250,0.250)</span></td>\n",
       "<td>1.000<br><span style=\"font-size: 75%;\">(1.000,1.000)</span></td>\n",
       "<td><img src=\"data:image/png;base64,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\"></td>\n",
       "</tr>\n",
       "<tr><td>softmax\n",
       "<td>0.333<br><span style=\"font-size: 75%;\">(0.332,0.335)</span></td>\n",
       "<td>0.342<br><span style=\"font-size: 75%;\">(0.342,0.343)</span></td>\n",
       "<td>0.000<br><span style=\"font-size: 75%;\">(0.000,0.000)</span></td>\n",
       "<td>0.200<br><span style=\"font-size: 75%;\">(0.200,0.200)</span></td>\n",
       "<td>1.000<br><span style=\"font-size: 75%;\">(1.000,1.000)</span></td>\n",
       "<td><img src=\"data:image/png;base64,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\"></td>\n",
       "</tr>\n",
       "<tr><td>topic-cali\n",
       "<td>0.372<br><span style=\"font-size: 75%;\">(0.370,0.373)</span></td>\n",
       "<td>0.360<br><span style=\"font-size: 75%;\">(0.359,0.360)</span></td>\n",
       "<td>0.000<br><span style=\"font-size: 75%;\">(0.000,0.000)</span></td>\n",
       "<td>0.250<br><span style=\"font-size: 75%;\">(0.250,0.250)</span></td>\n",
       "<td>1.000<br><span style=\"font-size: 75%;\">(1.000,1.000)</span></td>\n",
       "<td><img src=\"data:image/png;base64,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\"></td>\n",
       "</tr>\n",
       "</tbody>\n",
       "</table>\n"
      ],
      "text/plain": [
       "<IPython.core.display.HTML object>"
      ]
     },
     "metadata": {},
     "output_type": "display_data"
    }
   ],
   "source": [
    "for metric in effectiveness_metrics:\n",
    "    tw = EvalTable(mind_val_user_metrics, \"recommender\", metric, progress=notebook_tqdm)\n",
    "    tw.add_stat(\"Mean\", np.mean, ci=True)\n",
    "    tw.add_stat(\"Std Dev\", np.std, ci=True)\n",
    "    tw.add_quantiles([\"10%ile\", \"Median\", \"90%ile\"], [0.1, 0.5, 0.9], ci=True)\n",
    "    display(HTML(f\"<h3>Summary Table for {metric}</h3>\"))\n",
    "    display(HTML(tw.html_table()))"
   ]
  },
  {
   "cell_type": "markdown",
   "id": "7574d230",
   "metadata": {},
   "source": [
    "### 2. 2 Ranking Overlap Metrics\n",
    "RBO measures the similarity between two ranked lists, evaluating how much overlap exists between pure top-k recommendations and the actual rankings produced after recommendations. RBO can be applied at different list depths to analyze performance consistency, such as RBO@5 and RBO@10."
   ]
  },
  {
   "cell_type": "code",
   "execution_count": 8,
   "id": "f0e04b6a",
   "metadata": {
    "execution": {
     "iopub.execute_input": "2024-11-26T20:39:24.740241Z",
     "iopub.status.busy": "2024-11-26T20:39:24.740063Z",
     "iopub.status.idle": "2024-11-26T20:40:00.454664Z",
     "shell.execute_reply": "2024-11-26T20:40:00.453919Z"
    }
   },
   "outputs": [
    {
     "data": {
      "image/png": "[encoded data removed]",
      "text/plain": [
       "<Figure size 800x300 with 2 Axes>"
      ]
     },
     "metadata": {},
     "output_type": "display_data"
    }
   ],
   "source": [
    "plt.figure(figsize=(8, 3))\n",
    "plt.subplots_adjust(wspace=0.3)\n",
    "\n",
    "for i, metric in enumerate(overlap_metrics, 1):\n",
    "    plt.subplot(1, 2, i)\n",
    "    sns.barplot(data=mind_val_user_metrics, x=\"recommender\", y=metric)\n",
    "    plt.xticks(rotation=45)\n",
    "\n",
    "plt.show()"
   ]
  },
  {
   "cell_type": "markdown",
   "id": "8e57816c",
   "metadata": {},
   "source": [
    "The summary tables show the mean values, standard deviation, and quantiles (10%ile, Median, 90%ile), each accompanied by their respective 95% confidence intervals for ranking overlap metrics across recommenders."
   ]
  },
  {
   "cell_type": "code",
   "execution_count": 9,
   "id": "c0479dea",
   "metadata": {
    "execution": {
     "iopub.execute_input": "2024-11-26T20:40:00.456702Z",
     "iopub.status.busy": "2024-11-26T20:40:00.456546Z",
     "iopub.status.idle": "2024-11-26T21:28:20.501852Z",
     "shell.execute_reply": "2024-11-26T21:28:20.501119Z"
    }
   },
   "outputs": [
    {
     "name": "stderr",
     "output_type": "stream",
     "text": [
      "\r\n",
      "Mean:   0%|                                                                                                                                                              | 0/6 [00:00<?, ?it/s]"
     ]
    },
    {
     "name": "stderr",
     "output_type": "stream",
     "text": [
      "\r\n",
      "Mean:  17%|█████████████████████████                                                                                                                             | 1/6 [01:18<06:33, 78.64s/it]"
     ]
    },
    {
     "name": "stderr",
     "output_type": "stream",
     "text": [
      "\r\n",
      "Mean:  33%|██████████████████████████████████████████████████                                                                                                    | 2/6 [03:06<06:23, 95.81s/it]"
     ]
    },
    {
     "name": "stderr",
     "output_type": "stream",
     "text": [
      "\r\n",
      "Mean:  50%|███████████████████████████████████████████████████████████████████████████                                                                           | 3/6 [04:08<04:01, 80.54s/it]"
     ]
    },
    {
     "name": "stderr",
     "output_type": "stream",
     "text": [
      "\r\n",
      "Mean:  67%|████████████████████████████████████████████████████████████████████████████████████████████████████                                                  | 4/6 [05:13<02:28, 74.33s/it]"
     ]
    },
    {
     "name": "stderr",
     "output_type": "stream",
     "text": [
      "\r\n",
      "Mean:  83%|█████████████████████████████████████████████████████████████████████████████████████████████████████████████████████████████                         | 5/6 [06:19<01:11, 71.33s/it]"
     ]
    },
    {
     "name": "stderr",
     "output_type": "stream",
     "text": [
      "\r\n",
      "Mean: 100%|██████████████████████████████████████████████████████████████████████████████████████████████████████████████████████████████████████████████████████| 6/6 [07:25<00:00, 69.43s/it]"
     ]
    },
    {
     "name": "stderr",
     "output_type": "stream",
     "text": [
      "\r\n",
      "Mean: 100%|██████████████████████████████████████████████████████████████████████████████████████████████████████████████████████████████████████████████████████| 6/6 [07:25<00:00, 74.23s/it]"
     ]
    },
    {
     "name": "stderr",
     "output_type": "stream",
     "text": [
      "\n"
     ]
    },
    {
     "name": "stderr",
     "output_type": "stream",
     "text": [
      "\r\n",
      "Std Dev:   0%|                                                                                                                                                           | 0/6 [00:00<?, ?it/s]"
     ]
    },
    {
     "name": "stderr",
     "output_type": "stream",
     "text": [
      "\r\n",
      "Std Dev:  17%|████████████████████████▌                                                                                                                          | 1/6 [01:07<05:39, 67.80s/it]"
     ]
    },
    {
     "name": "stderr",
     "output_type": "stream",
     "text": [
      "\r\n",
      "Std Dev:  33%|█████████████████████████████████████████████████                                                                                                  | 2/6 [02:15<04:31, 67.81s/it]"
     ]
    },
    {
     "name": "stderr",
     "output_type": "stream",
     "text": [
      "\r\n",
      "Std Dev:  50%|█████████████████████████████████████████████████████████████████████████▌                                                                         | 3/6 [03:24<03:24, 68.09s/it]"
     ]
    },
    {
     "name": "stderr",
     "output_type": "stream",
     "text": [
      "\r\n",
      "Std Dev:  67%|██████████████████████████████████████████████████████████████████████████████████████████████████                                                 | 4/6 [04:31<02:15, 67.72s/it]"
     ]
    },
    {
     "name": "stderr",
     "output_type": "stream",
     "text": [
      "\r\n",
      "Std Dev:  83%|██████████████████████████████████████████████████████████████████████████████████████████████████████████████████████████▌                        | 5/6 [05:39<01:08, 68.10s/it]"
     ]
    },
    {
     "name": "stderr",
     "output_type": "stream",
     "text": [
      "\r\n",
      "Std Dev: 100%|███████████████████████████████████████████████████████████████████████████████████████████████████████████████████████████████████████████████████| 6/6 [06:43<00:00, 66.71s/it]"
     ]
    },
    {
     "name": "stderr",
     "output_type": "stream",
     "text": [
      "\r\n",
      "Std Dev: 100%|███████████████████████████████████████████████████████████████████████████████████████████████████████████████████████████████████████████████████| 6/6 [06:43<00:00, 67.33s/it]"
     ]
    },
    {
     "name": "stderr",
     "output_type": "stream",
     "text": [
      "\n"
     ]
    },
    {
     "name": "stderr",
     "output_type": "stream",
     "text": [
      "\r\n",
      "quantiles:   0%|                                                                                                                                                         | 0/6 [00:00<?, ?it/s]"
     ]
    },
    {
     "name": "stderr",
     "output_type": "stream",
     "text": [
      "\r\n",
      "quantiles:  17%|████████████████████████▏                                                                                                                        | 1/6 [01:30<07:33, 90.74s/it]"
     ]
    },
    {
     "name": "stderr",
     "output_type": "stream",
     "text": [
      "\r\n",
      "quantiles:  33%|████████████████████████████████████████████████                                                                                                | 2/6 [03:26<07:00, 105.17s/it]"
     ]
    },
    {
     "name": "stderr",
     "output_type": "stream",
     "text": [
      "\r\n",
      "quantiles:  50%|████████████████████████████████████████████████████████████████████████▌                                                                        | 3/6 [04:57<04:57, 99.08s/it]"
     ]
    },
    {
     "name": "stderr",
     "output_type": "stream",
     "text": [
      "\r\n",
      "quantiles:  67%|████████████████████████████████████████████████████████████████████████████████████████████████▋                                                | 4/6 [06:29<03:12, 96.26s/it]"
     ]
    },
    {
     "name": "stderr",
     "output_type": "stream",
     "text": [
      "\r\n",
      "quantiles:  83%|████████████████████████████████████████████████████████████████████████████████████████████████████████████████████████                        | 5/6 [08:38<01:48, 108.12s/it]"
     ]
    },
    {
     "name": "stderr",
     "output_type": "stream",
     "text": [
      "\r\n",
      "quantiles: 100%|████████████████████████████████████████████████████████████████████████████████████████████████████████████████████████████████████████████████| 6/6 [10:10<00:00, 102.40s/it]"
     ]
    },
    {
     "name": "stderr",
     "output_type": "stream",
     "text": [
      "\r\n",
      "quantiles: 100%|████████████████████████████████████████████████████████████████████████████████████████████████████████████████████████████████████████████████| 6/6 [10:10<00:00, 101.70s/it]"
     ]
    },
    {
     "name": "stderr",
     "output_type": "stream",
     "text": [
      "\n"
     ]
    },
    {
     "data": {
      "text/html": [
       "<h3>Summary Table for RBO@5</h3>"
      ],
      "text/plain": [
       "<IPython.core.display.HTML object>"
      ]
     },
     "metadata": {},
     "output_type": "display_data"
    },
    {
     "data": {
      "text/html": [
       "<table>\n",
       "<thead><tr>\n",
       "<th>Algorithm\n",
       "<th>Mean\n",
       "<th>Std Dev\n",
       "<th>10%ile\n",
       "<th>Median\n",
       "<th>90%ile\n",
       "<th>Dist. (KDE)\n",
       "</tr></thead>\n",
       "<tbody>\n",
       "<tr><td>locality-cali\n",
       "<td>0.391<br><span style=\"font-size: 75%;\">(0.391,0.392)</span></td>\n",
       "<td>0.072<br><span style=\"font-size: 75%;\">(0.072,0.073)</span></td>\n",
       "<td>0.396<br><span style=\"font-size: 75%;\">(0.396,0.396)</span></td>\n",
       "<td>0.410<br><span style=\"font-size: 75%;\">(0.410,0.410)</span></td>\n",
       "<td>0.410<br><span style=\"font-size: 75%;\">(0.410,0.410)</span></td>\n",
       "<td><img src=\"data:image/png;base64,iVBORw0KGgoAAAANSUhEUgAAASwAAAAZCAYAAACLvRPfAAAAOXRFWHRTb2Z0d2FyZQBNYXRwbG90bGliIHZlcnNpb24zLjkuMiwgaHR0cHM6Ly9tYXRwbG90bGliLm9yZy8hTgPZAAAACXBIWXMAAA9hAAAPYQGoP6dpAAADtUlEQVR4nO3cwUvjaBjH8W8aW0EFEWV0sIq7IAgehCgLPTmg9CC1K6wHD/4Pjih41YPHgfXidW7jTVBbUHZBGVpEWBW7FEQQRUcrglAtK9I2yR5qgq49bDvOdJo+H3gJSdM3Dw38eN8kjWKapokQQpQBV6kLEEKI/0sCSwhRNiSwKsTi4iKKotDT01PqUoQomgRWhVhZWQEgFotxenpa2mKEKJIEVgW4u7tjc3PTXl9bWythNUIUTwKrAqyvr5PJZOz11dXVElYjRPEksCqAFVAjIyMAbG1tcXt7W8KKhCiOBJbDZTIZwuEwAFNTU3R1dZHNZtnY2ChxZUIUTgLL4SKRCMlkkqamJnw+H8FgEJBpoShPElgOZwVTIBBAVVWGh4cBCIfDz65rCVEOJLAczDRN+3EGa2Tl8/lobGwkmUwSjUZLWZ4QBZPAcrB4PM7JyQnV1dX4/X4AVFUlEAgAMi0U5UcCy8GsQBocHKS2ttbe/vQ6lvz3XZQTCSwHswLLCiiL3+/H4/FwfHzM4eFhKUoToigSWA6VSCTY2dkBsC+0W+rq6hgYGABkWijKiwSWE+k6oQ8fAPilq4u3b9682EUebxDlSALLaZaXoaOD1cfACh4eQkdHbvsT1oX37e1trq+vv3eVQhRFAstJlpdhdJR/vnzhz8dNvwJcXMDo6LPQ8nq9aJqGaZr2k/BC/OgKDqybmxuurq4wDONb1FMRUqkUkUiEhYUF5ufnCYVCJBKJr+tU12FiAkyTP4AH4CegG8C6E/j+fW6/R9a0UN7eIMqFUug73WdnZ5mbm8Pj8eD1emlra7NbQ0MDiqK8PEiebU6W7ydNp9PE43F2d3c5OjrKu09LSwuapqFpGvX19S8+13WdTCZDOp22l+l0Gl3X0c/P0UMhDOAv4G9gAvj9v51sbsK7dwDs7++jaRo1NTXMzMzgcrlQVdVeVtp5E99eX18f/f39xXdgFmhyctJUFMUEpH1Fa21tNYPBoDk+Pm52d3ebLpfr1Y/xOTe2et4+fbLPpWEYZnt7e8l/C2mV06anpwuNnGcKHmFB7g0Al5eXnJ+fc3Z2Zi9TqVShXVUMRVHo7Oykt7cXTdNobm5+9vn9/T0HBwfs7e0Ri8V4eHjI24fH47Gb2+3G7XZTVVWFenaG+vEjLkAFfgZ+y1fIkxEWQDQaZWlpiWw2i2EYGIaRG7E9mToK8VqGhoYYGxsr+vtFBZb4Ael67m7gxQXkO6WKAl4vnJyAqn738oR4DRJYQoiy8S9HeN0RQHT55QAAAABJRU5ErkJggg==\"></td>\n",
       "</tr>\n",
       "<tr><td>mmr\n",
       "<td>0.227<br><span style=\"font-size: 75%;\">(0.227,0.227)</span></td>\n",
       "<td>0.058<br><span style=\"font-size: 75%;\">(0.058,0.058)</span></td>\n",
       "<td>0.203<br><span style=\"font-size: 75%;\">(0.203,0.203)</span></td>\n",
       "<td>0.203<br><span style=\"font-size: 75%;\">(0.203,0.203)</span></td>\n",
       "<td>0.307<br><span style=\"font-size: 75%;\">(0.307,0.307)</span></td>\n",
       "<td><img src=\"data:image/png;base64,iVBORw0KGgoAAAANSUhEUgAAASwAAAAZCAYAAACLvRPfAAAAOXRFWHRTb2Z0d2FyZQBNYXRwbG90bGliIHZlcnNpb24zLjkuMiwgaHR0cHM6Ly9tYXRwbG90bGliLm9yZy8hTgPZAAAACXBIWXMAAA9hAAAPYQGoP6dpAAAEhklEQVR4nO3cTUwTaRzH8e+AUnCtJcGIQRPwQPoSaA1vkROSTTAR7MFAAl68kHDxhkcOu+HImRsnkw0xNARLFCG41oNGysUE17bxYA+FAAHaBroF2jJ7oK0thRVwobD9f5In03n/Tw+/PvPMpIqqqipCCHEO5GW7ACGEOCwJLCHEuSGBlaKvrw9FUWhpacl2KUKIfSgyhvWd2Wxmbm6O/Px8FhcXuXr1arZLEkKkkB5WnNfrZW5uDoBYLMbY2Fh2CxJCZJDAihsfH0+bHxkZyVIlQoiDSGDF2e12AHp6egB48+YNq6ur2SxJCLGHBBYQDAZ59+4dAL29vVgsFrktFOIMksACJicniUQi6PV6KisraW9vB8Bms2W5MiFEKgksvo9fWa1WADo6OgCYnp5mbW0ta3UJIdLlfGBFo1FevnwJwIMHDwDQ6/VUV1cTjUZ58eJFNssTQqTI+cD68OEDfr+fkpISGhsbk8sTvSx5WijE2ZHzgZV4Otja2sqFCxeSy1NvC/1+f1ZqE0Kkk8CKB1bidjDBYDBQVVVFJBKR20IhzoicDiyPx8PXr18pKCjg3r17GesTvSzbyAg4HDA8vDuNxU63UCEEkOOBlehd3b17F61Wm7E+EVhTr14RaG6GR4+guRkqKmB09DRLFUKQ44G193WGvYwuFyYgAthTV8zPQ3v7T4dWKBRieXn5p44hRC7J2X9rWFlZobS0lJ2dHbxeL+Xl5ekbxGJQUcFvPh+/A63AH8DfQCg+DV+7xqXJSYpLSiguLuby5csoivKv51VVlY8fPzI0NMTz588JhUJYLBasVitWq5Wamhry8nL6d0SIAx05sMbHx7HZbDQ0NNDQ0IDZbEaj0ZxUfSfm2bNnPH78GIvFwqdPnzI3cDiguZm/gKpDHjMvLw+dTkdpaSl6vR6DwYDBYECv13P9+nXGxsYYGhriy5cvBx6jrKyMtrY27ty5g8lkwmg0cuXKlWNcoRD/P0cOrCdPnjA4OJicv3jxIrdv36a+vp5bt279sIeRDftdos1mY2Zmhr6+Pvr7+zN3Gh7eHbMCfgX+jC9WgF/irRAIabUENzeJRCKHrqeoqIiOjg66u7sxGo1MTExgt9t5/fo1GxsbGduXlZVhMpm4ceMG29vbbG1tJdv29jaFhYVotdq0VlRUhKIoyQbs+zl1XoiTVldXR1NT07H3P3JgvX//nqmpKWZnZ3E6nef+Hw2cTif19fWZK+I9LAAV8AOXAA27oZX09i1qUxPhcJhgMEggEMDn8+HxeHC73bjdbjweDz6fj9raWrq7u+nq6kKn02WccmtrC4fDwcTEBJ8/f8blcrGwsPCfX7MQ2fL06VMGBgaOvf9PjWGpqorX68XpdDI7O3vuBpDNZjO9vb379y7iY1jMz8N+X5GiwM2b8O0b5Of/8FzRaDTtxdTDCgQCuN1uXC4XS0tLaDSatFZQUMDm5ibr6+vJtrGxQTgcRlXVjAYcOBXipN2/f5/Ozs5j75+zg+6HMjq6+zQQ0kMrEXA2Gzx8ePp1CZGjJLCEEOfGP/nrwLIdmgmkAAAAAElFTkSuQmCC\"></td>\n",
       "</tr>\n",
       "<tr><td>nrms\n",
       "<td>0.391<br><span style=\"font-size: 75%;\">(0.391,0.391)</span></td>\n",
       "<td>0.072<br><span style=\"font-size: 75%;\">(0.072,0.073)</span></td>\n",
       "<td>0.396<br><span style=\"font-size: 75%;\">(0.396,0.396)</span></td>\n",
       "<td>0.410<br><span style=\"font-size: 75%;\">(0.410,0.410)</span></td>\n",
       "<td>0.410<br><span style=\"font-size: 75%;\">(0.410,0.410)</span></td>\n",
       "<td><img src=\"data:image/png;base64,iVBORw0KGgoAAAANSUhEUgAAASwAAAAZCAYAAACLvRPfAAAAOXRFWHRTb2Z0d2FyZQBNYXRwbG90bGliIHZlcnNpb24zLjkuMiwgaHR0cHM6Ly9tYXRwbG90bGliLm9yZy8hTgPZAAAACXBIWXMAAA9hAAAPYQGoP6dpAAADtUlEQVR4nO3cwUvjaBjH8W8aW0EFEWV0sIq7IAgehCgLPTmg9CC1K6wHD/4Pjih41YPHgfXidW7jTVBbUHZBB1pEWBW7FEQQRUcrglAtK9I2yR5qgq49bDvOdJo+H3gJSdM3Dw38eN8kjWKapokQQpQBV6kLEEKI/0sCSwhRNiSwKsTi4iKKotDT01PqUoQomgRWhVhZWQEgFotxenpa2mKEKJIEVgW4u7tjc3PTXl9bWythNUIUTwKrAqyvr5PJZOz11dXVElYjRPEksCqAFVAjIyMAbG1tcXt7W8KKhCiOBJbDZTIZwuEwAFNTU3R1dZHNZtnY2ChxZUIUTgLL4SKRCMlkkqamJnw+H8FgEJBpoShPElgOZwVTIBBAVVWGh4cBCIfDz65rCVEOJLAczDRN+3EGa2Tl8/lobGwkmUwSjUZLWZ4QBZPAcrB4PM7JyQnV1dX4/X4AVFUlEAgAMi0U5UcCy8GsQBocHKS2ttbe/vQ6lvz3XZQTCSwHswLLCiiL3+/H4/FwfHzM4eFhKUoToigSWA6VSCTY2dkBsC+0W+rq6hgYGABkWijKiwSWE+k6oQ8fAPilq4u3b9682EUebxDlSALLaZaXoaOD1cfACh4eQkdHbvsT1oX37e1trq+vv3eVQhRFAstJlpdhdJR/vnzhz8dNvwJcXMDo6LPQ8nq9aJqGaZr2k/BC/OgKDqybmxuurq4wDONb1FMRUqkUkUiEhYUF5ufnCYVCJBKJr+tU12FiAkyTP4AH4CegG8C6E/j+fW6/R9a0UN7eIMqFUug73WdnZ5mbm8Pj8eD1emlra7NbQ0MDiqK8PEiebU6W7ydNp9PE43F2d3c5OjrKu09LSwuapqFpGvX19S8+13WdTCZDOp22l+l0Gl3X0c/P0UMhDOAv4G9gAvj9v51sbsK7dwDs7++jaRo1NTXMzMzgcrlQVdVeVtp5E99eX18f/f39xXdgFmhyctJUFMUEpH1Fa21tNYPBoDk+Pm52d3ebLpfr1Y/xOTe2et4+fbLPpWEYZnt7e8l/C2mV06anpwuNnGcKHmFB7g0Al5eXnJ+fc3Z2Zi9TqVShXVUMRVHo7Oykt7cXTdNobm5+9vn9/T0HBwfs7e0Ri8V4eHjI24fH47Gb2+3G7XZTVVWFenaG+vEjLkAFfgZ+y1fIkxEWQDQaZWlpiWw2i2EYGIaRG7E9mToK8VqGhoYYGxsr+vtFBZb4Ael67m7gxQXkO6WKAl4vnJyAqn738oR4DRJYQoiy8S82kd0QPRDQ4gAAAABJRU5ErkJggg==\"></td>\n",
       "</tr>\n",
       "<tr><td>pfar\n",
       "<td>0.391<br><span style=\"font-size: 75%;\">(0.391,0.391)</span></td>\n",
       "<td>0.072<br><span style=\"font-size: 75%;\">(0.072,0.073)</span></td>\n",
       "<td>0.396<br><span style=\"font-size: 75%;\">(0.396,0.396)</span></td>\n",
       "<td>0.410<br><span style=\"font-size: 75%;\">(0.410,0.410)</span></td>\n",
       "<td>0.410<br><span style=\"font-size: 75%;\">(0.410,0.410)</span></td>\n",
       "<td><img src=\"data:image/png;base64,iVBORw0KGgoAAAANSUhEUgAAASwAAAAZCAYAAACLvRPfAAAAOXRFWHRTb2Z0d2FyZQBNYXRwbG90bGliIHZlcnNpb24zLjkuMiwgaHR0cHM6Ly9tYXRwbG90bGliLm9yZy8hTgPZAAAACXBIWXMAAA9hAAAPYQGoP6dpAAADtUlEQVR4nO3cwUvjaBjH8W8aW0EFEWV0sIq7IAgehCgLPTmg9CC1K6wHD/4Pjih41YPHgfXidW7jTVBbUHZBGVpEWBW7FEQQRUcrglAtK9I2yR5qgq49bDvOdJo+H3gJSdM3Dw38eN8kjWKapokQQpQBV6kLEEKI/0sCSwhRNiSwKsTi4iKKotDT01PqUoQomgRWhVhZWQEgFotxenpa2mKEKJIEVgW4u7tjc3PTXl9bWythNUIUTwKrAqyvr5PJZOz11dXVElYjRPEksCqAFVAjIyMAbG1tcXt7W8KKhCiOBJbDZTIZwuEwAFNTU3R1dZHNZtnY2ChxZUIUTgLL4SKRCMlkkqamJnw+H8FgEJBpoShPElgOZwVTIBBAVVWGh4cBCIfDz65rCVEOJLAczDRN+3EGa2Tl8/lobGwkmUwSjUZLWZ4QBZPAcrB4PM7JyQnV1dX4/X4AVFUlEAgAMi0U5UcCy8GsQBocHKS2ttbe/vQ6lvz3XZQTCSwHswLLCiiL3+/H4/FwfHzM4eFhKUoToigSWA6VSCTY2dkBsC+0W+rq6hgYGABkWijKiwSWE+k6oQ8fAPilq4u3b9682EUebxDlSALLaZaXoaOD1cfACh4eQkdHbvsT1oX37e1trq+vv3eVQhRFAstJlpdhdJR/vnzhz8dNvwJcXMDo6LPQ8nq9aJqGaZr2k/BC/OgKDqybmxuurq4wDONb1FMRUqkUkUiEhYUF5ufnCYVCJBKJr+tU12FiAkyTP4AH4CegG8C6E/j+fW6/R9a0UN7eIMqFUug73WdnZ5mbm8Pj8eD1emlra7NbQ0MDiqK8PEiebU6W7ydNp9PE43F2d3c5OjrKu09LSwuapqFpGvX19S8+13WdTCZDOp22l+l0Gl3X0c/P0UMhDOAv4G9gAvj9v51sbsK7dwDs7++jaRo1NTXMzMzgcrlQVdVeVtp5E99eX18f/f39xXdgFmhyctJUFMUEpH1Fa21tNYPBoDk+Pm52d3ebLpfr1Y/xOTe2et4+fbLPpWEYZnt7e8l/C2mV06anpwuNnGcKHmFB7g0Al5eXnJ+fc3Z2Zi9TqVShXVUMRVHo7Oykt7cXTdNobm5+9vn9/T0HBwfs7e0Ri8V4eHjI24fH47Gb2+3G7XZTVVWFenaG+vEjLkAFfgZ+y1fIkxEWQDQaZWlpiWw2i2EYGIaRG7E9mToK8VqGhoYYGxsr+vtFBZb4Ael67m7gxQXkO6WKAl4vnJyAqn738oR4DRJYQoiy8S9HeN0RQHT55QAAAABJRU5ErkJggg==\"></td>\n",
       "</tr>\n",
       "<tr><td>softmax\n",
       "<td>0.210<br><span style=\"font-size: 75%;\">(0.210,0.211)</span></td>\n",
       "<td>0.111<br><span style=\"font-size: 75%;\">(0.111,0.112)</span></td>\n",
       "<td>0.044<br><span style=\"font-size: 75%;\">(0.044,0.044)</span></td>\n",
       "<td>0.216<br><span style=\"font-size: 75%;\">(0.216,0.219)</span></td>\n",
       "<td>0.364<br><span style=\"font-size: 75%;\">(0.364,0.364)</span></td>\n",
       "<td><img src=\"data:image/png;base64,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\"></td>\n",
       "</tr>\n",
       "<tr><td>topic-cali\n",
       "<td>0.391<br><span style=\"font-size: 75%;\">(0.391,0.391)</span></td>\n",
       "<td>0.072<br><span style=\"font-size: 75%;\">(0.072,0.073)</span></td>\n",
       "<td>0.396<br><span style=\"font-size: 75%;\">(0.396,0.396)</span></td>\n",
       "<td>0.410<br><span style=\"font-size: 75%;\">(0.410,0.410)</span></td>\n",
       "<td>0.410<br><span style=\"font-size: 75%;\">(0.410,0.410)</span></td>\n",
       "<td><img src=\"data:image/png;base64,iVBORw0KGgoAAAANSUhEUgAAASwAAAAZCAYAAACLvRPfAAAAOXRFWHRTb2Z0d2FyZQBNYXRwbG90bGliIHZlcnNpb24zLjkuMiwgaHR0cHM6Ly9tYXRwbG90bGliLm9yZy8hTgPZAAAACXBIWXMAAA9hAAAPYQGoP6dpAAADtUlEQVR4nO3cwUvjaBjH8W8aW0EFEWV0sIq7IAgehCgLPTmg9CC1K6wHD/4Pjih41YPHgfXidW7jTVBbUHZBGVpEWBW7FEQQRUcrglAtK9I2yR5qgq49bDvOdJo+H3gJSdM3Dw38eN8kjWKapokQQpQBV6kLEEKI/0sCSwhRNiSwKsTi4iKKotDT01PqUoQomgRWhVhZWQEgFotxenpa2mKEKJIEVgW4u7tjc3PTXl9bWythNUIUTwKrAqyvr5PJZOz11dXVElYjRPEksCqAFVAjIyMAbG1tcXt7W8KKhCiOBJbDZTIZwuEwAFNTU3R1dZHNZtnY2ChxZUIUTgLL4SKRCMlkkqamJnw+H8FgEJBpoShPElgOZwVTIBBAVVWGh4cBCIfDz65rCVEOJLAczDRN+3EGa2Tl8/lobGwkmUwSjUZLWZ4QBZPAcrB4PM7JyQnV1dX4/X4AVFUlEAgAMi0U5UcCy8GsQBocHKS2ttbe/vQ6lvz3XZQTCSwHswLLCiiL3+/H4/FwfHzM4eFhKUoToigSWA6VSCTY2dkBsC+0W+rq6hgYGABkWijKiwSWE+k6oQ8fAPilq4u3b9682EUebxDlSALLaZaXoaOD1cfACh4eQkdHbvsT1oX37e1trq+vv3eVQhRFAstJlpdhdJR/vnzhz8dNvwJcXMDo6LPQ8nq9aJqGaZr2k/BC/OgKDqybmxuurq4wDONb1FMRUqkUkUiEhYUF5ufnCYVCJBKJr+tU12FiAkyTP4AH4CegG8C6E/j+fW6/R9a0UN7eIMqFUug73WdnZ5mbm8Pj8eD1emlra7NbQ0MDiqK8PEiebU6W7ydNp9PE43F2d3c5OjrKu09LSwuapqFpGvX19S8+13WdTCZDOp22l+l0Gl3X0c/P0UMhDOAv4G9gAvj9v51sbsK7dwDs7++jaRo1NTXMzMzgcrlQVdVeVtp5E99eX18f/f39xXdgFmhyctJUFMUEpH1Fa21tNYPBoDk+Pm52d3ebLpfr1Y/xOTe2et4+fbLPpWEYZnt7e8l/C2mV06anpwuNnGcKHmFB7g0Al5eXnJ+fc3Z2Zi9TqVShXVUMRVHo7Oykt7cXTdNobm5+9vn9/T0HBwfs7e0Ri8V4eHjI24fH47Gb2+3G7XZTVVWFenaG+vEjLkAFfgZ+y1fIkxEWQDQaZWlpiWw2i2EYGIaRG7E9mToK8VqGhoYYGxsr+vtFBZb4Ael67m7gxQXkO6WKAl4vnJyAqn738oR4DRJYQoiy8S9HeN0RQHT55QAAAABJRU5ErkJggg==\"></td>\n",
       "</tr>\n",
       "</tbody>\n",
       "</table>\n"
      ],
      "text/plain": [
       "<IPython.core.display.HTML object>"
      ]
     },
     "metadata": {},
     "output_type": "display_data"
    },
    {
     "name": "stderr",
     "output_type": "stream",
     "text": [
      "\r\n",
      "Mean:   0%|                                                                                                                                                              | 0/6 [00:00<?, ?it/s]"
     ]
    },
    {
     "name": "stderr",
     "output_type": "stream",
     "text": [
      "\r\n",
      "Mean:  17%|█████████████████████████                                                                                                                             | 1/6 [01:00<05:02, 60.54s/it]"
     ]
    },
    {
     "name": "stderr",
     "output_type": "stream",
     "text": [
      "\r\n",
      "Mean:  33%|██████████████████████████████████████████████████                                                                                                    | 2/6 [02:05<04:12, 63.10s/it]"
     ]
    },
    {
     "name": "stderr",
     "output_type": "stream",
     "text": [
      "\r\n",
      "Mean:  50%|███████████████████████████████████████████████████████████████████████████                                                                           | 3/6 [03:11<03:12, 64.30s/it]"
     ]
    },
    {
     "name": "stderr",
     "output_type": "stream",
     "text": [
      "\r\n",
      "Mean:  67%|████████████████████████████████████████████████████████████████████████████████████████████████████                                                  | 4/6 [04:16<02:09, 64.79s/it]"
     ]
    },
    {
     "name": "stderr",
     "output_type": "stream",
     "text": [
      "\r\n",
      "Mean:  83%|█████████████████████████████████████████████████████████████████████████████████████████████████████████████████████████████                         | 5/6 [05:22<01:05, 65.07s/it]"
     ]
    },
    {
     "name": "stderr",
     "output_type": "stream",
     "text": [
      "\r\n",
      "Mean: 100%|██████████████████████████████████████████████████████████████████████████████████████████████████████████████████████████████████████████████████████| 6/6 [06:28<00:00, 65.32s/it]"
     ]
    },
    {
     "name": "stderr",
     "output_type": "stream",
     "text": [
      "\r\n",
      "Mean: 100%|██████████████████████████████████████████████████████████████████████████████████████████████████████████████████████████████████████████████████████| 6/6 [06:28<00:00, 64.68s/it]"
     ]
    },
    {
     "name": "stderr",
     "output_type": "stream",
     "text": [
      "\n"
     ]
    },
    {
     "name": "stderr",
     "output_type": "stream",
     "text": [
      "\r\n",
      "Std Dev:   0%|                                                                                                                                                           | 0/6 [00:00<?, ?it/s]"
     ]
    },
    {
     "name": "stderr",
     "output_type": "stream",
     "text": [
      "\r\n",
      "Std Dev:  17%|████████████████████████▌                                                                                                                          | 1/6 [01:08<05:40, 68.08s/it]"
     ]
    },
    {
     "name": "stderr",
     "output_type": "stream",
     "text": [
      "\r\n",
      "Std Dev:  33%|█████████████████████████████████████████████████                                                                                                  | 2/6 [02:16<04:33, 68.35s/it]"
     ]
    },
    {
     "name": "stderr",
     "output_type": "stream",
     "text": [
      "\r\n",
      "Std Dev:  50%|█████████████████████████████████████████████████████████████████████████▌                                                                         | 3/6 [03:25<03:25, 68.50s/it]"
     ]
    },
    {
     "name": "stderr",
     "output_type": "stream",
     "text": [
      "\r\n",
      "Std Dev:  67%|██████████████████████████████████████████████████████████████████████████████████████████████████                                                 | 4/6 [04:32<02:15, 67.82s/it]"
     ]
    },
    {
     "name": "stderr",
     "output_type": "stream",
     "text": [
      "\r\n",
      "Std Dev:  83%|██████████████████████████████████████████████████████████████████████████████████████████████████████████████████████████▌                        | 5/6 [05:39<01:07, 67.61s/it]"
     ]
    },
    {
     "name": "stderr",
     "output_type": "stream",
     "text": [
      "\r\n",
      "Std Dev: 100%|███████████████████████████████████████████████████████████████████████████████████████████████████████████████████████████████████████████████████| 6/6 [06:44<00:00, 66.73s/it]"
     ]
    },
    {
     "name": "stderr",
     "output_type": "stream",
     "text": [
      "\r\n",
      "Std Dev: 100%|███████████████████████████████████████████████████████████████████████████████████████████████████████████████████████████████████████████████████| 6/6 [06:44<00:00, 67.39s/it]"
     ]
    },
    {
     "name": "stderr",
     "output_type": "stream",
     "text": [
      "\n"
     ]
    },
    {
     "name": "stderr",
     "output_type": "stream",
     "text": [
      "\r\n",
      "quantiles:   0%|                                                                                                                                                         | 0/6 [00:00<?, ?it/s]"
     ]
    },
    {
     "name": "stderr",
     "output_type": "stream",
     "text": [
      "\r\n",
      "quantiles:  17%|████████████████████████▏                                                                                                                        | 1/6 [01:36<08:04, 96.92s/it]"
     ]
    },
    {
     "name": "stderr",
     "output_type": "stream",
     "text": [
      "\r\n",
      "quantiles:  33%|████████████████████████████████████████████████                                                                                                | 2/6 [03:40<07:29, 112.41s/it]"
     ]
    },
    {
     "name": "stderr",
     "output_type": "stream",
     "text": [
      "\r\n",
      "quantiles:  50%|████████████████████████████████████████████████████████████████████████                                                                        | 3/6 [05:17<05:16, 105.39s/it]"
     ]
    },
    {
     "name": "stderr",
     "output_type": "stream",
     "text": [
      "\r\n",
      "quantiles:  67%|████████████████████████████████████████████████████████████████████████████████████████████████                                                | 4/6 [06:54<03:24, 102.17s/it]"
     ]
    },
    {
     "name": "stderr",
     "output_type": "stream",
     "text": [
      "\r\n",
      "quantiles:  83%|████████████████████████████████████████████████████████████████████████████████████████████████████████████████████████                        | 5/6 [09:02<01:51, 111.45s/it]"
     ]
    },
    {
     "name": "stderr",
     "output_type": "stream",
     "text": [
      "\r\n",
      "quantiles: 100%|████████████████████████████████████████████████████████████████████████████████████████████████████████████████████████████████████████████████| 6/6 [10:39<00:00, 106.56s/it]"
     ]
    },
    {
     "name": "stderr",
     "output_type": "stream",
     "text": [
      "\r\n",
      "quantiles: 100%|████████████████████████████████████████████████████████████████████████████████████████████████████████████████████████████████████████████████| 6/6 [10:39<00:00, 106.57s/it]"
     ]
    },
    {
     "name": "stderr",
     "output_type": "stream",
     "text": [
      "\n"
     ]
    },
    {
     "data": {
      "text/html": [
       "<h3>Summary Table for RBO@10</h3>"
      ],
      "text/plain": [
       "<IPython.core.display.HTML object>"
      ]
     },
     "metadata": {},
     "output_type": "display_data"
    },
    {
     "data": {
      "text/html": [
       "<table>\n",
       "<thead><tr>\n",
       "<th>Algorithm\n",
       "<th>Mean\n",
       "<th>Std Dev\n",
       "<th>10%ile\n",
       "<th>Median\n",
       "<th>90%ile\n",
       "<th>Dist. (KDE)\n",
       "</tr></thead>\n",
       "<tbody>\n",
       "<tr><td>locality-cali\n",
       "<td>0.608<br><span style=\"font-size: 75%;\">(0.607,0.608)</span></td>\n",
       "<td>0.126<br><span style=\"font-size: 75%;\">(0.125,0.127)</span></td>\n",
       "<td>0.525<br><span style=\"font-size: 75%;\">(0.525,0.525)</span></td>\n",
       "<td>0.651<br><span style=\"font-size: 75%;\">(0.651,0.651)</span></td>\n",
       "<td>0.651<br><span style=\"font-size: 75%;\">(0.651,0.651)</span></td>\n",
       "<td><img src=\"data:image/png;base64,iVBORw0KGgoAAAANSUhEUgAAASwAAAAZCAYAAACLvRPfAAAAOXRFWHRTb2Z0d2FyZQBNYXRwbG90bGliIHZlcnNpb24zLjkuMiwgaHR0cHM6Ly9tYXRwbG90bGliLm9yZy8hTgPZAAAACXBIWXMAAA9hAAAPYQGoP6dpAAAFL0lEQVR4nO3cTWgTaRjA8f/MpE0bbUaTpqzVdKvYg4WCLoVYqKjQiwVRMPgFikJPe/AgvSy4XoQFD972UPCj0IOKH/GuYEWLeLAKtSt4KppNW020jU0/TGfy7qFmtrFVmqy72bTPDx4mk/l6Jkyeed83QzSllEIIIUqAXuwEhBBiqaRgCSFKhhQssaLcunULTdPw+Xyk0+lipyPyJAVLrCiXLl0CYGxsjN7e3iJnI/IlBUusGK9fv+bu3bvO/O3bt4uYjSiEFCyxYnR3d6OUoqamBoA7d+5gWVaRsxL5kIIlVgTbtrly5QoAFy5cwO/3k0gkePjwYZEzE/mQgiVWhHv37hGNRvH5fITDYfbv3w9It7DUSMESK0J2sP3YsWNUVFQQDocBiEQiZDKZYqYm8qDJk+5iuXv37h3r16/HsiwGBgZoamoinU5TU1NDMpnk0aNHtLa2FjtNsQTSwhLLXk9PD5ZlEQqFaGpqAqC8vJx9+/YBc89midIgBUssa0oppzvY0dGRs+zAgQPA3DiWdAtLg3QJxbLW19fHjh07WLVqFSMjI1RVVTnLZmZmCAQCpFIpnjx5QigUKmKmYimkhSWWtcuXLwNw6NChnGIFUFFRwd69ewHpFpYKKVhi2Uomk9y4cQNY2B3Mmt8tlM7G/58ULFHabBsePIBr1+amtu0s6unpYWpqisbGRrZv377o5nv27MHj8TA0NMTz58//m5xFwaRgidIViUB9PezeDUePzk3r64l3d9PR0cGpU6eAudaVpmmL7sLj8dDe3g7IQ6SlQAbdRWmKRCAchnmXrwV0Ab8C45/fO3nyJF1dXZSXl391V9evX+fIkSM0NDTw6tWrrxY3UXx5F6xoNMr4+Dh1dXWYpvlv5SW+IZ1OMzg4SH9/P4ODg/j9fhobG9myZQsNDQ3f/HKWitnZWd6+fYvb7cbn82EYxt8LbXuuZfXnn6SBEeAP4Bdg4PMqP5WV8fv9+7Qs4YHQiYkJAoEAnz59orOzk7a2NlpaWvB6vd/9vMQ/k3fBOnv2LOfOnQPA6/USDAapq6sjGAzi9/txuVwYhoHL5XJeyx0rP0opMpkMtm07kclkGB0dpb+/nxcvXnz1z+cMw2Dz5s1s2rQJr9fL6tWrc8Llci3Y5stjzT9mNrI5AbhcLsrKynIinU4zNTWVE5OTk4yPj5NMJnPC4/FQXV2N3+93pm63m9HRUYaHh4nFYsTjcWcQXNM0Z91AIEDl9DSjT58yDCS+OBcf8BvQARi9vbBr15I+84MHD3Lz5k1nXtd1tm7dSmtrK8FgcNFt5LrOX3NzMzt37ix8BypPZ86cUT6fTwESRYy1a9eqtrY2dfr0aXXixAkVCoVUVVVV0fP6nmEYxpLWKwf1I6ifQSVAqWxcvbrk6zqZTKqLFy+q48ePq40bNxb93JdrdHZ25ltychQ8hjU5OUk0GuXNmzdOfPz4Edu2sSzLmcr/DRVG13UMw3BC13VM02Tbtm00NzdTX1+/4A6vlGJ4eJiXL18SjUZJpVJMTEyQSqWcsOf9ipalaZrTKp5/zOxxNU1D13V0XUcphWVZzM7O5oTb7aayshKPx5MTpmmyZs0aTNPENE28Xi/T09MkEgkSiQTv378nkUgwMzPDunXrqK2tdaK6uhrbtvnw4QPxeNyJ6WfP+OH8eWqBWuZaVYu2dfJoYX0pFovR19fH48ePGRsbK2gfYqH29nYOHz5c8PYy6C5KT3YMKxaDxS5fTYMNG2BoCOaPfYmSJwVLCFEy/gIqsb0i1HzjUgAAAABJRU5ErkJggg==\"></td>\n",
       "</tr>\n",
       "<tr><td>mmr\n",
       "<td>0.323<br><span style=\"font-size: 75%;\">(0.323,0.324)</span></td>\n",
       "<td>0.103<br><span style=\"font-size: 75%;\">(0.102,0.103)</span></td>\n",
       "<td>0.235<br><span style=\"font-size: 75%;\">(0.235,0.235)</span></td>\n",
       "<td>0.311<br><span style=\"font-size: 75%;\">(0.308,0.311)</span></td>\n",
       "<td>0.453<br><span style=\"font-size: 75%;\">(0.453,0.453)</span></td>\n",
       "<td><img src=\"data:image/png;base64,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\"></td>\n",
       "</tr>\n",
       "<tr><td>nrms\n",
       "<td>0.608<br><span style=\"font-size: 75%;\">(0.607,0.608)</span></td>\n",
       "<td>0.126<br><span style=\"font-size: 75%;\">(0.125,0.127)</span></td>\n",
       "<td>0.525<br><span style=\"font-size: 75%;\">(0.525,0.525)</span></td>\n",
       "<td>0.651<br><span style=\"font-size: 75%;\">(0.651,0.651)</span></td>\n",
       "<td>0.651<br><span style=\"font-size: 75%;\">(0.651,0.651)</span></td>\n",
       "<td><img src=\"data:image/png;base64,iVBORw0KGgoAAAANSUhEUgAAASwAAAAZCAYAAACLvRPfAAAAOXRFWHRTb2Z0d2FyZQBNYXRwbG90bGliIHZlcnNpb24zLjkuMiwgaHR0cHM6Ly9tYXRwbG90bGliLm9yZy8hTgPZAAAACXBIWXMAAA9hAAAPYQGoP6dpAAAFMklEQVR4nO3cTWgTaRjA8f/MpE0bbcYmTdlWU6rYg4WChUJ0aVGhFwuiYPALlB7Kwl48SC8LrhfZgwdveyj4UehBxY96V6SiRTxYhdoVPBWNaauJtrHph+lM3j3UzDa27jbV3Wza5wcPk2Q+3mfC8Mz7vhmiKaUUQghRAPR8JyCEEMslBUsIUTCkYIk15ebNm2iahs/nI5VK5TsdkSMpWGJNuXjxIgDj4+P09fXlORuRKylYYs149eoVd+7ccd7funUrj9mIlZCCJdaM7u5ulFJUVlYCcPv2bSzLynNWIhdSsMSaYNs2ly9fBuD8+fP4/X7i8TgPHjzIc2YiF1KwxJpw9+5dIpEIPp+PcDjMgQMHABkWFhopWGJNyEy2Hz9+nJKSEsLhMAC9vb2k0+l8piZyoMmT7mK1e/fuHRs3bsSyLAYHB2loaCCVSlFZWUkikeDhw4c0NzfnO02xDNLDEqteT08PlmURCoVoaGgAoLi4mP379wPzz2aJwiAFS6xqSilnONjR0ZG17uDBg8D8PJYMCwuDDAnFqtbf309LSwvr1q1jdHSUsrIyZ93s7CyBQIBkMsnjx48JhUJ5zFQsh/SwxKp26dIlAA4fPpxVrABKSkrYt28fIMPCQiEFS6xaiUSC69evA4uHgxkLh4Uy2Pj/k4IlCpttw/37cPXq/NK2nVU9PT1MT09TX1/Pjh07ltx97969eDwehoeHefbs2X+Ts1gxKViicPX2Qm0t7NkDx47NL2triXV309HRwcmTJ4H53pWmaUsewuPx0NbWBshDpIVAJt1FYerthXAYFly+FtAF/ApMfP6svb2drq4u3G73Vw917do1jh49Sl1dHS9fvvxqcRP5l3PBikQiTExMUFNTg2ma/1Ze4m+kUimGhoYYGBhgaGgIv99PfX0927Zto66ujuLi4nyn+M3m5uZ4+/Ytbrcbn8+HYRh/rbTt+Z7VmzekgFHgD+AXYPDzJo1FRfx+7x4/trT8Y1uTk5MEAgE+ffpEZ2cnra2t7Ny5E6/X+93PS3ybnAvWmTNnOHv2LABer5dgMEhNTQ3BYBC/34/L5cIwDFwul/Na7li5UUqRTqexbduJdDrN2NgYAwMDPH/+/Kt/PmcYBlu3bmXLli14vV7Wr1+fFS6Xa9E+X7a1sM1MZHICcLlcFBUVZUUqlWJ6ejorpqammJiYIJFIZIXH46GiogK/3+8s3W43Y2NjjIyMEI1GicViziS4pmnOtoFAgNKZGcaePGEEiH9xLuXAb8BPgNHXB7t3L+s7P3ToEDdu3HDe67rO9u3baW5uJhgMLrmPXNe5a2pqYteuXSs/gMrR6dOnlc/nU4BEHqO8vFy1traqU6dOqfb2dhUKhVRZWVne8/qeYRjGsrYrAlUD6mdQMVAqE1euLPu6TiQS6sKFC+rEiRNq8+bNeT/31RqdnZ25lpwsK57DmpqaIhKJ8Pr1ayc+fvyIbdtYluUs5f+GVkbXdQzDcELXdUzTpLGxkaamJmpraxfd4ZVSjIyM8OLFCyKRCMlkksnJSZLJpBP2gl/RMjRNc3rFC9vMtKtpGrquo+s6Siksy2Jubi4r3G43paWleDyerDBNkw0bNmCaJqZp4vV6mZmZIR6PE4/Hef/+PfF4nNnZWaqqqqiurnaioqIC27b58OEDsVjMiZmnT/nh3DmqgSrADyzZ18mhh/WlaDRKf38/jx49Ynx8fEXHEIu1tbVx5MiRFe8vk+6i8GTmsKJRWOry1TTYtAmGh2Hh3JcoeFKwhBAF40/qhr0ebL7orwAAAABJRU5ErkJggg==\"></td>\n",
       "</tr>\n",
       "<tr><td>pfar\n",
       "<td>0.608<br><span style=\"font-size: 75%;\">(0.607,0.608)</span></td>\n",
       "<td>0.126<br><span style=\"font-size: 75%;\">(0.125,0.127)</span></td>\n",
       "<td>0.525<br><span style=\"font-size: 75%;\">(0.525,0.525)</span></td>\n",
       "<td>0.651<br><span style=\"font-size: 75%;\">(0.651,0.651)</span></td>\n",
       "<td>0.651<br><span style=\"font-size: 75%;\">(0.651,0.651)</span></td>\n",
       "<td><img src=\"data:image/png;base64,iVBORw0KGgoAAAANSUhEUgAAASwAAAAZCAYAAACLvRPfAAAAOXRFWHRTb2Z0d2FyZQBNYXRwbG90bGliIHZlcnNpb24zLjkuMiwgaHR0cHM6Ly9tYXRwbG90bGliLm9yZy8hTgPZAAAACXBIWXMAAA9hAAAPYQGoP6dpAAAFL0lEQVR4nO3cTWgTaRjA8f/MpE0bbUaTpqzVdKvYg4WCLoVYqKjQiwVRMPgFikJPe/AgvSy4XoQFD972UPCj0IOKH/GuYEWLeLAKtSt4KppNW020jU0/TGfy7qFmtrFVmqy72bTPDx4mk/l6Jkyeed83QzSllEIIIUqAXuwEhBBiqaRgCSFKhhQssaLcunULTdPw+Xyk0+lipyPyJAVLrCiXLl0CYGxsjN7e3iJnI/IlBUusGK9fv+bu3bvO/O3bt4uYjSiEFCyxYnR3d6OUoqamBoA7d+5gWVaRsxL5kIIlVgTbtrly5QoAFy5cwO/3k0gkePjwYZEzE/mQgiVWhHv37hGNRvH5fITDYfbv3w9It7DUSMESK0J2sP3YsWNUVFQQDocBiEQiZDKZYqYm8qDJk+5iuXv37h3r16/HsiwGBgZoamoinU5TU1NDMpnk0aNHtLa2FjtNsQTSwhLLXk9PD5ZlEQqFaGpqAqC8vJx9+/YBc89midIgBUssa0oppzvY0dGRs+zAgQPA3DiWdAtLg3QJxbLW19fHjh07WLVqFSMjI1RVVTnLZmZmCAQCpFIpnjx5QigUKmKmYimkhSWWtcuXLwNw6NChnGIFUFFRwd69ewHpFpYKKVhi2Uomk9y4cQNY2B3Mmt8tlM7G/58ULFHabBsePIBr1+amtu0s6unpYWpqisbGRrZv377o5nv27MHj8TA0NMTz58//m5xFwaRgidIViUB9PezeDUePzk3r64l3d9PR0cGpU6eAudaVpmmL7sLj8dDe3g7IQ6SlQAbdRWmKRCAchnmXrwV0Ab8C45/fO3nyJF1dXZSXl391V9evX+fIkSM0NDTw6tWrrxY3UXx5F6xoNMr4+Dh1dXWYpvlv5SW+IZ1OMzg4SH9/P4ODg/j9fhobG9myZQsNDQ3f/HKWitnZWd6+fYvb7cbn82EYxt8LbXuuZfXnn6SBEeAP4Bdg4PMqP5WV8fv9+7Qs4YHQiYkJAoEAnz59orOzk7a2NlpaWvB6vd/9vMQ/k3fBOnv2LOfOnQPA6/USDAapq6sjGAzi9/txuVwYhoHL5XJeyx0rP0opMpkMtm07kclkGB0dpb+/nxcvXnz1z+cMw2Dz5s1s2rQJr9fL6tWrc8Llci3Y5stjzT9mNrI5AbhcLsrKynIinU4zNTWVE5OTk4yPj5NMJnPC4/FQXV2N3+93pm63m9HRUYaHh4nFYsTjcWcQXNM0Z91AIEDl9DSjT58yDCS+OBcf8BvQARi9vbBr15I+84MHD3Lz5k1nXtd1tm7dSmtrK8FgcNFt5LrOX3NzMzt37ix8BypPZ86cUT6fTwESRYy1a9eqtrY2dfr0aXXixAkVCoVUVVVV0fP6nmEYxpLWKwf1I6ifQSVAqWxcvbrk6zqZTKqLFy+q48ePq40bNxb93JdrdHZ25ltychQ8hjU5OUk0GuXNmzdOfPz4Edu2sSzLmcr/DRVG13UMw3BC13VM02Tbtm00NzdTX1+/4A6vlGJ4eJiXL18SjUZJpVJMTEyQSqWcsOf9ipalaZrTKp5/zOxxNU1D13V0XUcphWVZzM7O5oTb7aayshKPx5MTpmmyZs0aTNPENE28Xi/T09MkEgkSiQTv378nkUgwMzPDunXrqK2tdaK6uhrbtvnw4QPxeNyJ6WfP+OH8eWqBWuZaVYu2dfJoYX0pFovR19fH48ePGRsbK2gfYqH29nYOHz5c8PYy6C5KT3YMKxaDxS5fTYMNG2BoCOaPfYmSJwVLCFEy/gIqsb0i1HzjUgAAAABJRU5ErkJggg==\"></td>\n",
       "</tr>\n",
       "<tr><td>softmax\n",
       "<td>0.373<br><span style=\"font-size: 75%;\">(0.372,0.373)</span></td>\n",
       "<td>0.146<br><span style=\"font-size: 75%;\">(0.146,0.146)</span></td>\n",
       "<td>0.172<br><span style=\"font-size: 75%;\">(0.171,0.172)</span></td>\n",
       "<td>0.382<br><span style=\"font-size: 75%;\">(0.381,0.383)</span></td>\n",
       "<td>0.552<br><span style=\"font-size: 75%;\">(0.552,0.553)</span></td>\n",
       "<td><img src=\"data:image/png;base64,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\"></td>\n",
       "</tr>\n",
       "<tr><td>topic-cali\n",
       "<td>0.608<br><span style=\"font-size: 75%;\">(0.607,0.608)</span></td>\n",
       "<td>0.126<br><span style=\"font-size: 75%;\">(0.125,0.127)</span></td>\n",
       "<td>0.525<br><span style=\"font-size: 75%;\">(0.525,0.525)</span></td>\n",
       "<td>0.651<br><span style=\"font-size: 75%;\">(0.651,0.651)</span></td>\n",
       "<td>0.651<br><span style=\"font-size: 75%;\">(0.651,0.651)</span></td>\n",
       "<td><img src=\"data:image/png;base64,iVBORw0KGgoAAAANSUhEUgAAASwAAAAZCAYAAACLvRPfAAAAOXRFWHRTb2Z0d2FyZQBNYXRwbG90bGliIHZlcnNpb24zLjkuMiwgaHR0cHM6Ly9tYXRwbG90bGliLm9yZy8hTgPZAAAACXBIWXMAAA9hAAAPYQGoP6dpAAAFL0lEQVR4nO3cTWgTaRjA8f/MpE0bbUaTpqzVdKvYg4WCLoVYqKjQiwVRMPgFikJPe/AgvSy4XoQFD972UPCj0IOKH/GuYEWLeLAKtSt4KppNW020jU0/TGfy7qFmtrFVmqy72bTPDx4mk/l6Jkyeed83QzSllEIIIUqAXuwEhBBiqaRgCSFKhhQssaLcunULTdPw+Xyk0+lipyPyJAVLrCiXLl0CYGxsjN7e3iJnI/IlBUusGK9fv+bu3bvO/O3bt4uYjSiEFCyxYnR3d6OUoqamBoA7d+5gWVaRsxL5kIIlVgTbtrly5QoAFy5cwO/3k0gkePjwYZEzE/mQgiVWhHv37hGNRvH5fITDYfbv3w9It7DUSMESK0J2sP3YsWNUVFQQDocBiEQiZDKZYqYm8qDJk+5iuXv37h3r16/HsiwGBgZoamoinU5TU1NDMpnk0aNHtLa2FjtNsQTSwhLLXk9PD5ZlEQqFaGpqAqC8vJx9+/YBc89midIgBUssa0oppzvY0dGRs+zAgQPA3DiWdAtLg3QJxbLW19fHjh07WLVqFSMjI1RVVTnLZmZmCAQCpFIpnjx5QigUKmKmYimkhSWWtcuXLwNw6NChnGIFUFFRwd69ewHpFpYKKVhi2Uomk9y4cQNY2B3Mmt8tlM7G/58ULFHabBsePIBr1+amtu0s6unpYWpqisbGRrZv377o5nv27MHj8TA0NMTz58//m5xFwaRgidIViUB9PezeDUePzk3r64l3d9PR0cGpU6eAudaVpmmL7sLj8dDe3g7IQ6SlQAbdRWmKRCAchnmXrwV0Ab8C45/fO3nyJF1dXZSXl391V9evX+fIkSM0NDTw6tWrrxY3UXx5F6xoNMr4+Dh1dXWYpvlv5SW+IZ1OMzg4SH9/P4ODg/j9fhobG9myZQsNDQ3f/HKWitnZWd6+fYvb7cbn82EYxt8LbXuuZfXnn6SBEeAP4Bdg4PMqP5WV8fv9+7Qs4YHQiYkJAoEAnz59orOzk7a2NlpaWvB6vd/9vMQ/k3fBOnv2LOfOnQPA6/USDAapq6sjGAzi9/txuVwYhoHL5XJeyx0rP0opMpkMtm07kclkGB0dpb+/nxcvXnz1z+cMw2Dz5s1s2rQJr9fL6tWrc8Llci3Y5stjzT9mNrI5AbhcLsrKynIinU4zNTWVE5OTk4yPj5NMJnPC4/FQXV2N3+93pm63m9HRUYaHh4nFYsTjcWcQXNM0Z91AIEDl9DSjT58yDCS+OBcf8BvQARi9vbBr15I+84MHD3Lz5k1nXtd1tm7dSmtrK8FgcNFt5LrOX3NzMzt37ix8BypPZ86cUT6fTwESRYy1a9eqtrY2dfr0aXXixAkVCoVUVVVV0fP6nmEYxpLWKwf1I6ifQSVAqWxcvbrk6zqZTKqLFy+q48ePq40bNxb93JdrdHZ25ltychQ8hjU5OUk0GuXNmzdOfPz4Edu2sSzLmcr/DRVG13UMw3BC13VM02Tbtm00NzdTX1+/4A6vlGJ4eJiXL18SjUZJpVJMTEyQSqWcsOf9ipalaZrTKp5/zOxxNU1D13V0XUcphWVZzM7O5oTb7aayshKPx5MTpmmyZs0aTNPENE28Xi/T09MkEgkSiQTv378nkUgwMzPDunXrqK2tdaK6uhrbtvnw4QPxeNyJ6WfP+OH8eWqBWuZaVYu2dfJoYX0pFovR19fH48ePGRsbK2gfYqH29nYOHz5c8PYy6C5KT3YMKxaDxS5fTYMNG2BoCOaPfYmSJwVLCFEy/gIqsb0i1HzjUgAAAABJRU5ErkJggg==\"></td>\n",
       "</tr>\n",
       "</tbody>\n",
       "</table>\n"
      ],
      "text/plain": [
       "<IPython.core.display.HTML object>"
      ]
     },
     "metadata": {},
     "output_type": "display_data"
    }
   ],
   "source": [
    "for metric in overlap_metrics:\n",
    "    tw = EvalTable(mind_val_user_metrics, \"recommender\", metric, progress=notebook_tqdm)\n",
    "    tw.add_stat(\"Mean\", np.mean, ci=True)\n",
    "    tw.add_stat(\"Std Dev\", np.std, ci=True)\n",
    "    tw.add_quantiles([\"10%ile\", \"Median\", \"90%ile\"], [0.1, 0.5, 0.9], ci=True)\n",
    "    display(HTML(f\"<h3>Summary Table for {metric}</h3>\"))\n",
    "    display(HTML(tw.html_table()))"
   ]
  }
 ],
 "metadata": {
  "jupytext": {
   "formats": "ipynb,md:myst"
  },
  "kernelspec": {
   "display_name": "Python 3 (ipykernel)",
   "language": "python",
   "name": "python3"
  },
  "language_info": {
   "codemirror_mode": {
    "name": "ipython",
    "version": 3
   },
   "file_extension": ".py",
   "mimetype": "text/x-python",
   "name": "python",
   "nbconvert_exporter": "python",
   "pygments_lexer": "ipython3",
   "version": "3.11.10"
  }
 },
 "nbformat": 4,
 "nbformat_minor": 5
}
