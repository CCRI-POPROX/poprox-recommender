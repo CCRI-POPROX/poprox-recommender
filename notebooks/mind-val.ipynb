{
 "cells": [
  {
   "cell_type": "markdown",
   "id": "76fd0221",
   "metadata": {
    "papermill": {
     "duration": 0.010768,
     "end_time": "2025-09-12T19:20:48.338903",
     "exception": false,
     "start_time": "2025-09-12T19:20:48.328135",
     "status": "completed"
    },
    "tags": []
   },
   "source": [
    "# Offline Evaluation Metrics Visualizations\n",
    "\n",
    "This notebook visualizes user-specific performance metrics of various recommenders in the mind-subset dataset to assess effectiveness and ranking overlap. We explore two metric groups:\n",
    "\n",
    "1. **Effectiveness Metrics**: We use ranking-based metrics, Normalized Discounted Cumulative Gain (NDCG) and Reciprocal Rank (RR), to evaluate recommender effectiveness.\n",
    "2. **Ranking Overlap Metrics**: We use Rank-Based Overlap (RBO) to assess consistency in top-k recommendations relative to final rankings.\n",
    "\n",
    "> [!NOTE]\n",
    "> This is a *parameterized* notebook, and is used to render the other specific evaluation notebooks with [Papermill](https://papermill.readthedocs.io/en/latest/).  By default, it displays\n",
    "> the MIND Subset results, for easy editing."
   ]
  },
  {
   "cell_type": "code",
   "execution_count": 1,
   "id": "e82acae8",
   "metadata": {
    "execution": {
     "iopub.execute_input": "2025-09-12T19:20:48.341988Z",
     "iopub.status.busy": "2025-09-12T19:20:48.341844Z",
     "iopub.status.idle": "2025-09-12T19:20:48.344284Z",
     "shell.execute_reply": "2025-09-12T19:20:48.343942Z"
    },
    "papermill": {
     "duration": 0.004651,
     "end_time": "2025-09-12T19:20:48.344779",
     "exception": false,
     "start_time": "2025-09-12T19:20:48.340128",
     "status": "completed"
    },
    "tags": [
     "parameters"
    ]
   },
   "outputs": [],
   "source": [
    "EVAL_NAME = \"mind-subset\""
   ]
  },
  {
   "cell_type": "code",
   "execution_count": 2,
   "id": "4b974765",
   "metadata": {
    "execution": {
     "iopub.execute_input": "2025-09-12T19:20:48.347109Z",
     "iopub.status.busy": "2025-09-12T19:20:48.346998Z",
     "iopub.status.idle": "2025-09-12T19:20:48.348581Z",
     "shell.execute_reply": "2025-09-12T19:20:48.348273Z"
    },
    "papermill": {
     "duration": 0.003285,
     "end_time": "2025-09-12T19:20:48.349109",
     "exception": false,
     "start_time": "2025-09-12T19:20:48.345824",
     "status": "completed"
    },
    "tags": [
     "injected-parameters"
    ]
   },
   "outputs": [],
   "source": [
    "# Parameters\n",
    "EVAL_NAME = \"mind-val\"\n"
   ]
  },
  {
   "cell_type": "markdown",
   "id": "c2641056",
   "metadata": {
    "papermill": {
     "duration": 0.000919,
     "end_time": "2025-09-12T19:20:48.351009",
     "exception": false,
     "start_time": "2025-09-12T19:20:48.350090",
     "status": "completed"
    },
    "tags": []
   },
   "source": [
    "## Setup"
   ]
  },
  {
   "cell_type": "markdown",
   "id": "046f2a64",
   "metadata": {
    "papermill": {
     "duration": 0.000896,
     "end_time": "2025-09-12T19:20:48.352893",
     "exception": false,
     "start_time": "2025-09-12T19:20:48.351997",
     "status": "completed"
    },
    "tags": []
   },
   "source": [
    "### Importing Libraries"
   ]
  },
  {
   "cell_type": "markdown",
   "id": "29746948",
   "metadata": {
    "papermill": {
     "duration": 0.000885,
     "end_time": "2025-09-12T19:20:48.354886",
     "exception": false,
     "start_time": "2025-09-12T19:20:48.354001",
     "status": "completed"
    },
    "tags": []
   },
   "source": [
    "PyData packages:"
   ]
  },
  {
   "cell_type": "code",
   "execution_count": 3,
   "id": "70b02420",
   "metadata": {
    "execution": {
     "iopub.execute_input": "2025-09-12T19:20:48.357134Z",
     "iopub.status.busy": "2025-09-12T19:20:48.357043Z",
     "iopub.status.idle": "2025-09-12T19:20:48.916315Z",
     "shell.execute_reply": "2025-09-12T19:20:48.915881Z"
    },
    "papermill": {
     "duration": 0.561244,
     "end_time": "2025-09-12T19:20:48.917091",
     "exception": false,
     "start_time": "2025-09-12T19:20:48.355847",
     "status": "completed"
    },
    "tags": []
   },
   "outputs": [],
   "source": [
    "import matplotlib.pyplot as plt\n",
    "import numpy as np\n",
    "import pandas as pd\n",
    "import seaborn as sns"
   ]
  },
  {
   "cell_type": "markdown",
   "id": "2a2dc22c",
   "metadata": {
    "papermill": {
     "duration": 0.001076,
     "end_time": "2025-09-12T19:20:48.919422",
     "exception": false,
     "start_time": "2025-09-12T19:20:48.918346",
     "status": "completed"
    },
    "tags": []
   },
   "source": [
    "Local code and display support:"
   ]
  },
  {
   "cell_type": "code",
   "execution_count": 4,
   "id": "c9c3fd9e",
   "metadata": {
    "execution": {
     "iopub.execute_input": "2025-09-12T19:20:48.921991Z",
     "iopub.status.busy": "2025-09-12T19:20:48.921863Z",
     "iopub.status.idle": "2025-09-12T19:20:48.925137Z",
     "shell.execute_reply": "2025-09-12T19:20:48.924667Z"
    },
    "papermill": {
     "duration": 0.005121,
     "end_time": "2025-09-12T19:20:48.925597",
     "exception": false,
     "start_time": "2025-09-12T19:20:48.920476",
     "status": "completed"
    },
    "tags": []
   },
   "outputs": [],
   "source": [
    "from IPython.display import HTML\n",
    "\n",
    "from poprox_recommender.eval_tables import EvalTable"
   ]
  },
  {
   "cell_type": "markdown",
   "id": "bfeb987f",
   "metadata": {
    "papermill": {
     "duration": 0.000935,
     "end_time": "2025-09-12T19:20:48.927579",
     "exception": false,
     "start_time": "2025-09-12T19:20:48.926644",
     "status": "completed"
    },
    "tags": []
   },
   "source": [
    "### Loading Data"
   ]
  },
  {
   "cell_type": "code",
   "execution_count": 5,
   "id": "a93f5ff3",
   "metadata": {
    "execution": {
     "iopub.execute_input": "2025-09-12T19:20:48.930025Z",
     "iopub.status.busy": "2025-09-12T19:20:48.929885Z",
     "iopub.status.idle": "2025-09-12T19:20:50.521530Z",
     "shell.execute_reply": "2025-09-12T19:20:50.521217Z"
    },
    "papermill": {
     "duration": 1.593599,
     "end_time": "2025-09-12T19:20:50.522145",
     "exception": false,
     "start_time": "2025-09-12T19:20:48.928546",
     "status": "completed"
    },
    "tags": []
   },
   "outputs": [
    {
     "data": {
      "text/html": [
       "<div>\n",
       "<style scoped>\n",
       "    .dataframe tbody tr th:only-of-type {\n",
       "        vertical-align: middle;\n",
       "    }\n",
       "\n",
       "    .dataframe tbody tr th {\n",
       "        vertical-align: top;\n",
       "    }\n",
       "\n",
       "    .dataframe thead th {\n",
       "        text-align: right;\n",
       "    }\n",
       "</style>\n",
       "<table border=\"1\" class=\"dataframe\">\n",
       "  <thead>\n",
       "    <tr style=\"text-align: right;\">\n",
       "      <th></th>\n",
       "      <th>pipeline</th>\n",
       "      <th>profile_id</th>\n",
       "      <th>Unnamed: 0</th>\n",
       "      <th>personalized</th>\n",
       "      <th>NDCG@5</th>\n",
       "      <th>NDCG@10</th>\n",
       "      <th>RR</th>\n",
       "      <th>RBO@5</th>\n",
       "      <th>RBO@10</th>\n",
       "      <th>rank_based_entropy</th>\n",
       "      <th>least_item_promoted</th>\n",
       "      <th>intralist_similarity</th>\n",
       "    </tr>\n",
       "  </thead>\n",
       "  <tbody>\n",
       "    <tr>\n",
       "      <th>0</th>\n",
       "      <td>nrms</td>\n",
       "      <td>00001040-f87f-52ba-8fe6-1efe165ec8a5</td>\n",
       "      <td>0</td>\n",
       "      <td>True</td>\n",
       "      <td>0.630930</td>\n",
       "      <td>0.630930</td>\n",
       "      <td>0.333333</td>\n",
       "      <td>0.0</td>\n",
       "      <td>0.0</td>\n",
       "      <td>NaN</td>\n",
       "      <td>0.0</td>\n",
       "      <td>NaN</td>\n",
       "    </tr>\n",
       "    <tr>\n",
       "      <th>1</th>\n",
       "      <td>nrms</td>\n",
       "      <td>00002229-1f34-5beb-ba44-89021dd1f157</td>\n",
       "      <td>1</td>\n",
       "      <td>True</td>\n",
       "      <td>0.000000</td>\n",
       "      <td>0.000000</td>\n",
       "      <td>0.000000</td>\n",
       "      <td>0.0</td>\n",
       "      <td>0.0</td>\n",
       "      <td>NaN</td>\n",
       "      <td>0.0</td>\n",
       "      <td>NaN</td>\n",
       "    </tr>\n",
       "    <tr>\n",
       "      <th>2</th>\n",
       "      <td>nrms</td>\n",
       "      <td>0000d349-7cca-59a7-8ef6-11989a5848ba</td>\n",
       "      <td>2</td>\n",
       "      <td>True</td>\n",
       "      <td>1.000000</td>\n",
       "      <td>1.000000</td>\n",
       "      <td>1.000000</td>\n",
       "      <td>0.0</td>\n",
       "      <td>0.0</td>\n",
       "      <td>NaN</td>\n",
       "      <td>0.0</td>\n",
       "      <td>NaN</td>\n",
       "    </tr>\n",
       "    <tr>\n",
       "      <th>3</th>\n",
       "      <td>nrms</td>\n",
       "      <td>0000d4a3-b9a9-5946-9ca5-a37489d13b50</td>\n",
       "      <td>3</td>\n",
       "      <td>True</td>\n",
       "      <td>0.430677</td>\n",
       "      <td>0.430677</td>\n",
       "      <td>0.200000</td>\n",
       "      <td>0.0</td>\n",
       "      <td>0.0</td>\n",
       "      <td>NaN</td>\n",
       "      <td>0.0</td>\n",
       "      <td>NaN</td>\n",
       "    </tr>\n",
       "    <tr>\n",
       "      <th>4</th>\n",
       "      <td>nrms</td>\n",
       "      <td>0000ee60-94c7-5ed8-a1a8-3b29a0910618</td>\n",
       "      <td>4</td>\n",
       "      <td>True</td>\n",
       "      <td>0.315465</td>\n",
       "      <td>0.493568</td>\n",
       "      <td>0.333333</td>\n",
       "      <td>0.0</td>\n",
       "      <td>0.0</td>\n",
       "      <td>NaN</td>\n",
       "      <td>0.0</td>\n",
       "      <td>NaN</td>\n",
       "    </tr>\n",
       "  </tbody>\n",
       "</table>\n",
       "</div>"
      ],
      "text/plain": [
       "  pipeline                            profile_id  Unnamed: 0  personalized  \\\n",
       "0     nrms  00001040-f87f-52ba-8fe6-1efe165ec8a5           0          True   \n",
       "1     nrms  00002229-1f34-5beb-ba44-89021dd1f157           1          True   \n",
       "2     nrms  0000d349-7cca-59a7-8ef6-11989a5848ba           2          True   \n",
       "3     nrms  0000d4a3-b9a9-5946-9ca5-a37489d13b50           3          True   \n",
       "4     nrms  0000ee60-94c7-5ed8-a1a8-3b29a0910618           4          True   \n",
       "\n",
       "     NDCG@5   NDCG@10        RR  RBO@5  RBO@10  rank_based_entropy  \\\n",
       "0  0.630930  0.630930  0.333333    0.0     0.0                 NaN   \n",
       "1  0.000000  0.000000  0.000000    0.0     0.0                 NaN   \n",
       "2  1.000000  1.000000  1.000000    0.0     0.0                 NaN   \n",
       "3  0.430677  0.430677  0.200000    0.0     0.0                 NaN   \n",
       "4  0.315465  0.493568  0.333333    0.0     0.0                 NaN   \n",
       "\n",
       "   least_item_promoted  intralist_similarity  \n",
       "0                  0.0                   NaN  \n",
       "1                  0.0                   NaN  \n",
       "2                  0.0                   NaN  \n",
       "3                  0.0                   NaN  \n",
       "4                  0.0                   NaN  "
      ]
     },
     "execution_count": 5,
     "metadata": {},
     "output_type": "execute_result"
    }
   ],
   "source": [
    "mind_subset_user_metrics = pd.read_csv(f\"../outputs/{EVAL_NAME}-profile-metrics.csv.gz\")\n",
    "mind_subset_user_metrics.head()"
   ]
  },
  {
   "cell_type": "code",
   "execution_count": 6,
   "id": "3a6ec2d4",
   "metadata": {
    "execution": {
     "iopub.execute_input": "2025-09-12T19:20:50.533404Z",
     "iopub.status.busy": "2025-09-12T19:20:50.533337Z",
     "iopub.status.idle": "2025-09-12T19:20:50.534796Z",
     "shell.execute_reply": "2025-09-12T19:20:50.534628Z"
    },
    "papermill": {
     "duration": 0.011686,
     "end_time": "2025-09-12T19:20:50.535217",
     "exception": false,
     "start_time": "2025-09-12T19:20:50.523531",
     "status": "completed"
    },
    "tags": []
   },
   "outputs": [],
   "source": [
    "effectiveness_metrics = [\"NDCG@5\", \"NDCG@10\", \"RR\"]\n",
    "overlap_metrics = [\"RBO@5\", \"RBO@10\"]"
   ]
  },
  {
   "cell_type": "markdown",
   "id": "c541e87d",
   "metadata": {
    "papermill": {
     "duration": 0.001093,
     "end_time": "2025-09-12T19:20:50.537547",
     "exception": false,
     "start_time": "2025-09-12T19:20:50.536454",
     "status": "completed"
    },
    "tags": []
   },
   "source": [
    "## Results"
   ]
  },
  {
   "cell_type": "markdown",
   "id": "41f78b8f",
   "metadata": {
    "papermill": {
     "duration": 0.00103,
     "end_time": "2025-09-12T19:20:50.539653",
     "exception": false,
     "start_time": "2025-09-12T19:20:50.538623",
     "status": "completed"
    },
    "tags": []
   },
   "source": [
    "### Effectiveness Metrics\n",
    "\n",
    "NDCG measures how well the recommendations align with user test data, focusing on the top-k positions, such as the top 5 (NDCG@5) or top 10 (NDCG@10). Likewise, RR evaluates how well the recommender finds the most relevant item as the top result."
   ]
  },
  {
   "cell_type": "code",
   "execution_count": 7,
   "id": "3d6e2454",
   "metadata": {
    "execution": {
     "iopub.execute_input": "2025-09-12T19:20:50.542253Z",
     "iopub.status.busy": "2025-09-12T19:20:50.542164Z",
     "iopub.status.idle": "2025-09-12T19:21:10.361621Z",
     "shell.execute_reply": "2025-09-12T19:21:10.361364Z"
    },
    "papermill": {
     "duration": 19.821463,
     "end_time": "2025-09-12T19:21:10.362182",
     "exception": false,
     "start_time": "2025-09-12T19:20:50.540719",
     "status": "completed"
    },
    "tags": []
   },
   "outputs": [
    {
     "data": {
      "image/png": "[encoded data removed]",
      "text/plain": [
       "<Figure size 1200x300 with 3 Axes>"
      ]
     },
     "metadata": {},
     "output_type": "display_data"
    }
   ],
   "source": [
    "plt.figure(figsize=(12, 3))\n",
    "plt.subplots_adjust(wspace=0.3)\n",
    "\n",
    "for i, metric in enumerate(effectiveness_metrics, 1):\n",
    "    plt.subplot(1, 3, i)\n",
    "    sns.barplot(data=mind_subset_user_metrics, x=\"pipeline\", y=metric)\n",
    "    plt.xticks(rotation=45)\n",
    "\n",
    "plt.show()"
   ]
  },
  {
   "cell_type": "markdown",
   "id": "22eabf45",
   "metadata": {
    "papermill": {
     "duration": 0.009352,
     "end_time": "2025-09-12T19:21:10.373003",
     "exception": false,
     "start_time": "2025-09-12T19:21:10.363651",
     "status": "completed"
    },
    "tags": []
   },
   "source": [
    "The summary tables show the mean values, standard deviation, and quantiles (10%ile, Median, 90%ile), each accompanied by their respective 95% confidence intervals for effectiveness metrics across recommenders."
   ]
  },
  {
   "cell_type": "code",
   "execution_count": 8,
   "id": "25632f44",
   "metadata": {
    "execution": {
     "iopub.execute_input": "2025-09-12T19:21:10.376218Z",
     "iopub.status.busy": "2025-09-12T19:21:10.376097Z",
     "iopub.status.idle": "2025-09-12T19:54:57.892875Z",
     "shell.execute_reply": "2025-09-12T19:54:57.883209Z"
    },
    "papermill": {
     "duration": 2027.5312,
     "end_time": "2025-09-12T19:54:57.905401",
     "exception": false,
     "start_time": "2025-09-12T19:21:10.374201",
     "status": "completed"
    },
    "tags": []
   },
   "outputs": [
    {
     "data": {
      "text/html": [
       "<h3>Summary Table for NDCG@5</h3>"
      ],
      "text/plain": [
       "<IPython.core.display.HTML object>"
      ]
     },
     "metadata": {},
     "output_type": "display_data"
    },
    {
     "data": {
      "text/html": [
       "<table>\n",
       "<thead><tr>\n",
       "<th>Algorithm\n",
       "<th>Mean\n",
       "<th>Std Dev\n",
       "<th>10%ile\n",
       "<th>Median\n",
       "<th>90%ile\n",
       "<th>Dist. (KDE)\n",
       "</tr></thead>\n",
       "<tbody>\n",
       "<tr><td>nrms\n",
       "<td>0.414<br><span style=\"font-size: 75%;\">(0.412,0.415)</span></td>\n",
       "<td>0.411<br><span style=\"font-size: 75%;\">(0.411,0.412)</span></td>\n",
       "<td>0.000<br><span style=\"font-size: 75%;\">(0.000,0.000)</span></td>\n",
       "<td>0.402<br><span style=\"font-size: 75%;\">(0.380,0.421)</span></td>\n",
       "<td>1.000<br><span style=\"font-size: 75%;\">(1.000,1.000)</span></td>\n",
       "<td><img src=\"data:image/png;base64,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\"></td>\n",
       "</tr>\n",
       "<tr><td>nrms_rrf_static_user\n",
       "<td>0.378<br><span style=\"font-size: 75%;\">(0.377,0.379)</span></td>\n",
       "<td>0.408<br><span style=\"font-size: 75%;\">(0.407,0.408)</span></td>\n",
       "<td>0.000<br><span style=\"font-size: 75%;\">(0.000,0.000)</span></td>\n",
       "<td>0.250<br><span style=\"font-size: 75%;\">(0.250,0.250)</span></td>\n",
       "<td>1.000<br><span style=\"font-size: 75%;\">(1.000,1.000)</span></td>\n",
       "<td><img src=\"data:image/png;base64,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\"></td>\n",
       "</tr>\n",
       "<tr><td>nrms_topic_scores\n",
       "<td>0.414<br><span style=\"font-size: 75%;\">(0.413,0.416)</span></td>\n",
       "<td>0.411<br><span style=\"font-size: 75%;\">(0.411,0.412)</span></td>\n",
       "<td>0.000<br><span style=\"font-size: 75%;\">(0.000,0.000)</span></td>\n",
       "<td>0.404<br><span style=\"font-size: 75%;\">(0.402,0.421)</span></td>\n",
       "<td>1.000<br><span style=\"font-size: 75%;\">(1.000,1.000)</span></td>\n",
       "<td><img src=\"data:image/png;base64,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\"></td>\n",
       "</tr>\n",
       "<tr><td>nrms_topics_static\n",
       "<td>0.295<br><span style=\"font-size: 75%;\">(0.293,0.296)</span></td>\n",
       "<td>0.396<br><span style=\"font-size: 75%;\">(0.396,0.397)</span></td>\n",
       "<td>0.000<br><span style=\"font-size: 75%;\">(0.000,0.000)</span></td>\n",
       "<td>0.000<br><span style=\"font-size: 75%;\">(0.000,0.000)</span></td>\n",
       "<td>1.000<br><span style=\"font-size: 75%;\">(1.000,1.000)</span></td>\n",
       "<td><img src=\"data:image/png;base64,iVBORw0KGgoAAAANSUhEUgAAASwAAAAZCAYAAACLvRPfAAAAOnRFWHRTb2Z0d2FyZQBNYXRwbG90bGliIHZlcnNpb24zLjEwLjMsIGh0dHBzOi8vbWF0cGxvdGxpYi5vcmcvZiW1igAAAAlwSFlzAAAPYQAAD2EBqD+naQAABtxJREFUeJzt3EtME9sfwPHvtEPBYQqtpYhalLLRRF3g1W7MTYy6MNGFjxsx4W5MDNHAyp0LYgw7VybiAo2JLly04HWjiQsSTAw3+AgajQsTI0QulKeUPu30Mf+Fd+Y/RTR6aUHlfJJfzskU5pzptD9+czpF0nVdRxAE4SdgW+kJCIIgfCuRsARB+Gl8d8I6ePAgkiQhyzIdHR1omlaKeQmCIHxG+t41rOnpadra2ujp6QFgx44d3Lx5k507d5ZkgoIgCIbvrrC8Xi+hUIhQKITX6+XVq1cEAgFRbQmCUHLfXWFZTU9P097eTigUAmDXrl309/ejqmrRJigIgmBY0qK71+slGAzS09ODx+Ph2bNntLa2Iu6UEAShFJZUYVkNDAywd+9estksV65cob29vRi7FQRBMBXttoY9e/Zw6dIlAM6dO8fg4GCxdi0IggAUscIC0HWdEydO0Nvbi8/nY2hoCK/XW6zdC4KwyhU1YQFEo1ECgQBv3rzhwIEDPHjwALvdXswhBEFYpYp+p3tVVRV37txBURT6+vq4ePFisYcQBGGVKslXc7Zt28a1a9cA6OzsNG8yFQRBWIqSfZewpaWFtrY2AE6ePEl3d3ephhIE4QeWz+d5/fo1N27c4Pnz50val1ykOS3q8uXLaJrG9evXOXPmDJOTk3R0dCBJUimHFQRhBX348IGBgQEGBwd5/PgxT548IRaLAXD+/Hmampr+875LmrBkWaa7u5u6ujo6Ozu5cOEC4XCYrq6u1bkQn8vBo0cQDsP69fD777Aanwfhl/T06VO6uroIBoOk0+mCxxRFYffu3TQ2Ni5tEH2ZXL16VZckSQf0Y8eO6alUarmG/jHcuaPrPp+uw//D5/u0XRB+UqlUSr9165YeCAR0wIwtW7bop06d0ru7u/UXL17omUymKOMV/baGr+nt7aWlpQVN02hqaqK1tZXjx4//+vdq/fUX/PHHpzRlZVwa9/bCsWPLP68vyOVypNNpEokE8XicWCxGPB4nHo8TjUaZm5sjEomYbSQSAcDhcJhRXl6Oqqps3ryZxsZG/H4/Pp9vdVbWv5hEIkFfXx/379/n7t27zMzMAJ/Of3NzM+3t7QQCgZKMvawJC6C/v58jR44QjUYBsNvt7Nu3j+bmZo4ePcratWuXczqmXC5HJpMhm82Sy+XI5XLk83mz1XUdm82GJEkFrSzLBWGz2RbuGBoa4J9/Fh9YksDng+HhJV8eZjIZM7HMz88zOzvLzMxMQRuJRJifn2d+ft7sx+Nx0uk06XSajx8/ksvlljSPLykrK2PTpk34/X4aGhrw+/1m3+fzoaoqlZWVlJWVfbbOaRxbLBYjEokwOTn5WcRiMZLJZEFks1mcTicul4vq6mqz9Xq91NXVsX79ejNqampEQl1A13UikQjv37/n0aNH3Lt3j4cPHxZc8vl8Ps6ePcvp06epra0t6XyWPWEBjI2Ncfv2bYLBIENDQ+Z2m82Gx+PB7XbjdrtxuVy43W4URSGfz5uJw+hns1kzyVjbhf1veaxYT4MkSdjtdjNsuo49lcIOGG9BaUHYAKmmBltFhZkIbTbbp9+39AEzmVojmUwSj8dL8u99FEVBVVVUVcXpdKKqqnl+jHPkcrmQJAlN0woiEokwPDzM8PAwIyMjZDKZbxrTbrdTWVmJoihomlayY1tIkiScTifV1dVmVFVVsWbNGmRZxm63m3+Y7Hb7Vz88Mh6ztouF9bHF+tZtxh9K62vE2rdu+9JYxutc13V0XTeraU3TzDaRSDA2Nsbo6Cijo6MkEonPjs/v93Po0CEOHz7M/v37keWSLoebViRhWb19+5ZQKEQwGOTly5crOZUvMqom4yT/6BwOB1VVVXg8HmpqavB4PGa43e6CN6TL5UJVVSoqKigvLy8IRVGKVnHkcjnGx8d59+4dIyMjZhIz2vHxcbLZ7DcdW3V1NbW1taxbt64gXC4XiqIUhCzLRKPRgooyEokwNTVFOBxmYmKCcDjM1NTUT3FuV4rH42H79u1mktq6deuKfNq/4gnLamJigunpaebm5goilUoVVBvWy7GysjKz/VLfuu1rP2f0zero3/EWMhKXcclorfCMMC8p//6b3J9/Ylxk6Qva/L/9/LVr6L/9ZlaP1rBelhrzslZxRhXkdDqprKzE4XCU/mSVgKZpJJNJEokEiUSCZDKJw+FYlmPLZrPMzs6al8vW0DSt4Nwa8TXWt5XxerFGPp8v+LmvtQt/z1odWbcbr5XFxtN1fdHKTZZlc83RaCsqKtiwYQP19fXU19ezceNGFEUp4rP93/1QCeuXZKxhjY19vugORV3DEoRfnUhYgiD8NP4HnUZFls4pJ8wAAAAASUVORK5CYII=\"></td>\n",
       "</tr>\n",
       "<tr><td>softmax\n",
       "<td>0.407<br><span style=\"font-size: 75%;\">(0.406,0.409)</span></td>\n",
       "<td>0.410<br><span style=\"font-size: 75%;\">(0.410,0.411)</span></td>\n",
       "<td>0.000<br><span style=\"font-size: 75%;\">(0.000,0.000)</span></td>\n",
       "<td>0.380<br><span style=\"font-size: 75%;\">(0.380,0.380)</span></td>\n",
       "<td>1.000<br><span style=\"font-size: 75%;\">(1.000,1.000)</span></td>\n",
       "<td><img src=\"data:image/png;base64,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\"></td>\n",
       "</tr>\n",
       "</tbody>\n",
       "</table>\n"
      ],
      "text/plain": [
       "<IPython.core.display.HTML object>"
      ]
     },
     "metadata": {},
     "output_type": "display_data"
    },
    {
     "data": {
      "text/html": [
       "<h3>Summary Table for NDCG@10</h3>"
      ],
      "text/plain": [
       "<IPython.core.display.HTML object>"
      ]
     },
     "metadata": {},
     "output_type": "display_data"
    },
    {
     "data": {
      "text/html": [
       "<table>\n",
       "<thead><tr>\n",
       "<th>Algorithm\n",
       "<th>Mean\n",
       "<th>Std Dev\n",
       "<th>10%ile\n",
       "<th>Median\n",
       "<th>90%ile\n",
       "<th>Dist. (KDE)\n",
       "</tr></thead>\n",
       "<tbody>\n",
       "<tr><td>nrms\n",
       "<td>0.479<br><span style=\"font-size: 75%;\">(0.477,0.480)</span></td>\n",
       "<td>0.371<br><span style=\"font-size: 75%;\">(0.371,0.372)</span></td>\n",
       "<td>0.000<br><span style=\"font-size: 75%;\">(0.000,0.000)</span></td>\n",
       "<td>0.431<br><span style=\"font-size: 75%;\">(0.431,0.431)</span></td>\n",
       "<td>1.000<br><span style=\"font-size: 75%;\">(1.000,1.000)</span></td>\n",
       "<td><img src=\"data:image/png;base64,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\"></td>\n",
       "</tr>\n",
       "<tr><td>nrms_rrf_static_user\n",
       "<td>0.441<br><span style=\"font-size: 75%;\">(0.440,0.443)</span></td>\n",
       "<td>0.374<br><span style=\"font-size: 75%;\">(0.373,0.374)</span></td>\n",
       "<td>0.000<br><span style=\"font-size: 75%;\">(0.000,0.000)</span></td>\n",
       "<td>0.387<br><span style=\"font-size: 75%;\">(0.387,0.387)</span></td>\n",
       "<td>1.000<br><span style=\"font-size: 75%;\">(1.000,1.000)</span></td>\n",
       "<td><img src=\"data:image/png;base64,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\"></td>\n",
       "</tr>\n",
       "<tr><td>nrms_topic_scores\n",
       "<td>0.479<br><span style=\"font-size: 75%;\">(0.478,0.480)</span></td>\n",
       "<td>0.372<br><span style=\"font-size: 75%;\">(0.371,0.372)</span></td>\n",
       "<td>0.000<br><span style=\"font-size: 75%;\">(0.000,0.000)</span></td>\n",
       "<td>0.431<br><span style=\"font-size: 75%;\">(0.431,0.431)</span></td>\n",
       "<td>1.000<br><span style=\"font-size: 75%;\">(1.000,1.000)</span></td>\n",
       "<td><img src=\"data:image/png;base64,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\"></td>\n",
       "</tr>\n",
       "<tr><td>nrms_topics_static\n",
       "<td>0.353<br><span style=\"font-size: 75%;\">(0.352,0.355)</span></td>\n",
       "<td>0.375<br><span style=\"font-size: 75%;\">(0.375,0.376)</span></td>\n",
       "<td>0.000<br><span style=\"font-size: 75%;\">(0.000,0.000)</span></td>\n",
       "<td>0.315<br><span style=\"font-size: 75%;\">(0.310,0.315)</span></td>\n",
       "<td>1.000<br><span style=\"font-size: 75%;\">(1.000,1.000)</span></td>\n",
       "<td><img src=\"data:image/png;base64,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\"></td>\n",
       "</tr>\n",
       "<tr><td>softmax\n",
       "<td>0.473<br><span style=\"font-size: 75%;\">(0.472,0.474)</span></td>\n",
       "<td>0.371<br><span style=\"font-size: 75%;\">(0.370,0.371)</span></td>\n",
       "<td>0.000<br><span style=\"font-size: 75%;\">(0.000,0.000)</span></td>\n",
       "<td>0.431<br><span style=\"font-size: 75%;\">(0.431,0.431)</span></td>\n",
       "<td>1.000<br><span style=\"font-size: 75%;\">(1.000,1.000)</span></td>\n",
       "<td><img src=\"data:image/png;base64,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\"></td>\n",
       "</tr>\n",
       "</tbody>\n",
       "</table>\n"
      ],
      "text/plain": [
       "<IPython.core.display.HTML object>"
      ]
     },
     "metadata": {},
     "output_type": "display_data"
    },
    {
     "data": {
      "text/html": [
       "<h3>Summary Table for RR</h3>"
      ],
      "text/plain": [
       "<IPython.core.display.HTML object>"
      ]
     },
     "metadata": {},
     "output_type": "display_data"
    },
    {
     "data": {
      "text/html": [
       "<table>\n",
       "<thead><tr>\n",
       "<th>Algorithm\n",
       "<th>Mean\n",
       "<th>Std Dev\n",
       "<th>10%ile\n",
       "<th>Median\n",
       "<th>90%ile\n",
       "<th>Dist. (KDE)\n",
       "</tr></thead>\n",
       "<tbody>\n",
       "<tr><td>nrms\n",
       "<td>0.371<br><span style=\"font-size: 75%;\">(0.369,0.372)</span></td>\n",
       "<td>0.363<br><span style=\"font-size: 75%;\">(0.362,0.363)</span></td>\n",
       "<td>0.000<br><span style=\"font-size: 75%;\">(0.000,0.000)</span></td>\n",
       "<td>0.250<br><span style=\"font-size: 75%;\">(0.250,0.250)</span></td>\n",
       "<td>1.000<br><span style=\"font-size: 75%;\">(1.000,1.000)</span></td>\n",
       "<td><img src=\"data:image/png;base64,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\"></td>\n",
       "</tr>\n",
       "<tr><td>nrms_rrf_static_user\n",
       "<td>0.331<br><span style=\"font-size: 75%;\">(0.330,0.332)</span></td>\n",
       "<td>0.349<br><span style=\"font-size: 75%;\">(0.348,0.349)</span></td>\n",
       "<td>0.000<br><span style=\"font-size: 75%;\">(0.000,0.000)</span></td>\n",
       "<td>0.200<br><span style=\"font-size: 75%;\">(0.200,0.200)</span></td>\n",
       "<td>1.000<br><span style=\"font-size: 75%;\">(1.000,1.000)</span></td>\n",
       "<td><img src=\"data:image/png;base64,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\"></td>\n",
       "</tr>\n",
       "<tr><td>nrms_topic_scores\n",
       "<td>0.371<br><span style=\"font-size: 75%;\">(0.370,0.372)</span></td>\n",
       "<td>0.363<br><span style=\"font-size: 75%;\">(0.362,0.363)</span></td>\n",
       "<td>0.000<br><span style=\"font-size: 75%;\">(0.000,0.000)</span></td>\n",
       "<td>0.250<br><span style=\"font-size: 75%;\">(0.250,0.250)</span></td>\n",
       "<td>1.000<br><span style=\"font-size: 75%;\">(1.000,1.000)</span></td>\n",
       "<td><img src=\"data:image/png;base64,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\"></td>\n",
       "</tr>\n",
       "<tr><td>nrms_topics_static\n",
       "<td>0.245<br><span style=\"font-size: 75%;\">(0.244,0.246)</span></td>\n",
       "<td>0.312<br><span style=\"font-size: 75%;\">(0.311,0.313)</span></td>\n",
       "<td>0.000<br><span style=\"font-size: 75%;\">(0.000,0.000)</span></td>\n",
       "<td>0.143<br><span style=\"font-size: 75%;\">(0.143,0.143)</span></td>\n",
       "<td>1.000<br><span style=\"font-size: 75%;\">(1.000,1.000)</span></td>\n",
       "<td><img src=\"data:image/png;base64,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\"></td>\n",
       "</tr>\n",
       "<tr><td>softmax\n",
       "<td>0.362<br><span style=\"font-size: 75%;\">(0.361,0.363)</span></td>\n",
       "<td>0.358<br><span style=\"font-size: 75%;\">(0.357,0.358)</span></td>\n",
       "<td>0.000<br><span style=\"font-size: 75%;\">(0.000,0.000)</span></td>\n",
       "<td>0.250<br><span style=\"font-size: 75%;\">(0.250,0.250)</span></td>\n",
       "<td>1.000<br><span style=\"font-size: 75%;\">(1.000,1.000)</span></td>\n",
       "<td><img src=\"data:image/png;base64,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\"></td>\n",
       "</tr>\n",
       "</tbody>\n",
       "</table>\n"
      ],
      "text/plain": [
       "<IPython.core.display.HTML object>"
      ]
     },
     "metadata": {},
     "output_type": "display_data"
    }
   ],
   "source": [
    "for metric in effectiveness_metrics:\n",
    "    tw = EvalTable(mind_subset_user_metrics, \"pipeline\", metric)\n",
    "    tw.add_stat(\"Mean\", np.mean, ci=True)\n",
    "    tw.add_stat(\"Std Dev\", np.std, ci=True)\n",
    "    tw.add_quantiles([\"10%ile\", \"Median\", \"90%ile\"], [0.1, 0.5, 0.9], ci=True)\n",
    "    display(HTML(f\"<h3>Summary Table for {metric}</h3>\"))\n",
    "    display(HTML(tw.html_table()))"
   ]
  },
  {
   "cell_type": "markdown",
   "id": "8f2085ad",
   "metadata": {
    "papermill": {
     "duration": 0.004672,
     "end_time": "2025-09-12T19:54:57.924427",
     "exception": false,
     "start_time": "2025-09-12T19:54:57.919755",
     "status": "completed"
    },
    "tags": []
   },
   "source": [
    "### Ranking Overlap Metrics\n",
    "RBO measures the similarity between two ranked lists, evaluating how much overlap exists between pure top-k recommendations and the actual rankings produced after recommendations. RBO can be applied at different list depths to analyze performance consistency, such as RBO@5 and RBO@10."
   ]
  },
  {
   "cell_type": "code",
   "execution_count": 9,
   "id": "e814150d",
   "metadata": {
    "execution": {
     "iopub.execute_input": "2025-09-12T19:54:57.968531Z",
     "iopub.status.busy": "2025-09-12T19:54:57.967200Z",
     "iopub.status.idle": "2025-09-12T19:55:13.091246Z",
     "shell.execute_reply": "2025-09-12T19:55:13.091027Z"
    },
    "papermill": {
     "duration": 15.167014,
     "end_time": "2025-09-12T19:55:13.093065",
     "exception": false,
     "start_time": "2025-09-12T19:54:57.926051",
     "status": "completed"
    },
    "tags": []
   },
   "outputs": [
    {
     "data": {
      "image/png": "[encoded data removed]",
      "text/plain": [
       "<Figure size 800x300 with 2 Axes>"
      ]
     },
     "metadata": {},
     "output_type": "display_data"
    }
   ],
   "source": [
    "plt.figure(figsize=(8, 3))\n",
    "plt.subplots_adjust(wspace=0.3)\n",
    "\n",
    "for i, metric in enumerate(overlap_metrics, 1):\n",
    "    plt.subplot(1, 2, i)\n",
    "    sns.barplot(data=mind_subset_user_metrics, x=\"pipeline\", y=metric)\n",
    "    plt.xticks(rotation=45)\n",
    "\n",
    "plt.show()"
   ]
  },
  {
   "cell_type": "markdown",
   "id": "0004c224",
   "metadata": {
    "papermill": {
     "duration": 0.002087,
     "end_time": "2025-09-12T19:55:13.100815",
     "exception": false,
     "start_time": "2025-09-12T19:55:13.098728",
     "status": "completed"
    },
    "tags": []
   },
   "source": [
    "The summary tables show the mean values, standard deviation, and quantiles (10%ile, Median, 90%ile), each accompanied by their respective 95% confidence intervals for ranking overlap metrics across recommenders."
   ]
  },
  {
   "cell_type": "code",
   "execution_count": 10,
   "id": "39273d26",
   "metadata": {
    "execution": {
     "iopub.execute_input": "2025-09-12T19:55:13.104688Z",
     "iopub.status.busy": "2025-09-12T19:55:13.104576Z",
     "iopub.status.idle": "2025-09-12T20:15:15.826326Z",
     "shell.execute_reply": "2025-09-12T20:15:15.825873Z"
    },
    "papermill": {
     "duration": 1202.735955,
     "end_time": "2025-09-12T20:15:15.838320",
     "exception": false,
     "start_time": "2025-09-12T19:55:13.102365",
     "status": "completed"
    },
    "tags": []
   },
   "outputs": [
    {
     "data": {
      "text/html": [
       "<h3>Summary Table for RBO@5</h3>"
      ],
      "text/plain": [
       "<IPython.core.display.HTML object>"
      ]
     },
     "metadata": {},
     "output_type": "display_data"
    },
    {
     "data": {
      "text/html": [
       "<table>\n",
       "<thead><tr>\n",
       "<th>Algorithm\n",
       "<th>Mean\n",
       "<th>Std Dev\n",
       "<th>10%ile\n",
       "<th>Median\n",
       "<th>90%ile\n",
       "<th>Dist. (KDE)\n",
       "</tr></thead>\n",
       "<tbody>\n",
       "<tr><td>nrms\n",
       "<td>0.000<br><span style=\"font-size: 75%;\">(0.000,0.000)</span></td>\n",
       "<td>0.000<br><span style=\"font-size: 75%;\">(0.000,0.000)</span></td>\n",
       "<td>0.000<br><span style=\"font-size: 75%;\">(0.000,0.000)</span></td>\n",
       "<td>0.000<br><span style=\"font-size: 75%;\">(0.000,0.000)</span></td>\n",
       "<td>0.000<br><span style=\"font-size: 75%;\">(0.000,0.000)</span></td>\n",
       "<td></td>\n",
       "</tr>\n",
       "<tr><td>nrms_rrf_static_user\n",
       "<td>0.000<br><span style=\"font-size: 75%;\">(0.000,0.000)</span></td>\n",
       "<td>0.000<br><span style=\"font-size: 75%;\">(0.000,0.000)</span></td>\n",
       "<td>0.000<br><span style=\"font-size: 75%;\">(0.000,0.000)</span></td>\n",
       "<td>0.000<br><span style=\"font-size: 75%;\">(0.000,0.000)</span></td>\n",
       "<td>0.000<br><span style=\"font-size: 75%;\">(0.000,0.000)</span></td>\n",
       "<td></td>\n",
       "</tr>\n",
       "<tr><td>nrms_topic_scores\n",
       "<td>0.000<br><span style=\"font-size: 75%;\">(0.000,0.000)</span></td>\n",
       "<td>0.000<br><span style=\"font-size: 75%;\">(0.000,0.000)</span></td>\n",
       "<td>0.000<br><span style=\"font-size: 75%;\">(0.000,0.000)</span></td>\n",
       "<td>0.000<br><span style=\"font-size: 75%;\">(0.000,0.000)</span></td>\n",
       "<td>0.000<br><span style=\"font-size: 75%;\">(0.000,0.000)</span></td>\n",
       "<td></td>\n",
       "</tr>\n",
       "<tr><td>nrms_topics_static\n",
       "<td>0.000<br><span style=\"font-size: 75%;\">(0.000,0.000)</span></td>\n",
       "<td>0.000<br><span style=\"font-size: 75%;\">(0.000,0.000)</span></td>\n",
       "<td>0.000<br><span style=\"font-size: 75%;\">(0.000,0.000)</span></td>\n",
       "<td>0.000<br><span style=\"font-size: 75%;\">(0.000,0.000)</span></td>\n",
       "<td>0.000<br><span style=\"font-size: 75%;\">(0.000,0.000)</span></td>\n",
       "<td></td>\n",
       "</tr>\n",
       "<tr><td>softmax\n",
       "<td>0.734<br><span style=\"font-size: 75%;\">(0.733,0.735)</span></td>\n",
       "<td>0.232<br><span style=\"font-size: 75%;\">(0.231,0.233)</span></td>\n",
       "<td>0.436<br><span style=\"font-size: 75%;\">(0.436,0.440)</span></td>\n",
       "<td>0.779<br><span style=\"font-size: 75%;\">(0.779,0.779)</span></td>\n",
       "<td>0.972<br><span style=\"font-size: 75%;\">(0.972,0.972)</span></td>\n",
       "<td><img src=\"data:image/png;base64,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\"></td>\n",
       "</tr>\n",
       "</tbody>\n",
       "</table>\n"
      ],
      "text/plain": [
       "<IPython.core.display.HTML object>"
      ]
     },
     "metadata": {},
     "output_type": "display_data"
    },
    {
     "data": {
      "text/html": [
       "<h3>Summary Table for RBO@10</h3>"
      ],
      "text/plain": [
       "<IPython.core.display.HTML object>"
      ]
     },
     "metadata": {},
     "output_type": "display_data"
    },
    {
     "data": {
      "text/html": [
       "<table>\n",
       "<thead><tr>\n",
       "<th>Algorithm\n",
       "<th>Mean\n",
       "<th>Std Dev\n",
       "<th>10%ile\n",
       "<th>Median\n",
       "<th>90%ile\n",
       "<th>Dist. (KDE)\n",
       "</tr></thead>\n",
       "<tbody>\n",
       "<tr><td>nrms\n",
       "<td>0.000<br><span style=\"font-size: 75%;\">(0.000,0.000)</span></td>\n",
       "<td>0.000<br><span style=\"font-size: 75%;\">(0.000,0.000)</span></td>\n",
       "<td>0.000<br><span style=\"font-size: 75%;\">(0.000,0.000)</span></td>\n",
       "<td>0.000<br><span style=\"font-size: 75%;\">(0.000,0.000)</span></td>\n",
       "<td>0.000<br><span style=\"font-size: 75%;\">(0.000,0.000)</span></td>\n",
       "<td></td>\n",
       "</tr>\n",
       "<tr><td>nrms_rrf_static_user\n",
       "<td>0.000<br><span style=\"font-size: 75%;\">(0.000,0.000)</span></td>\n",
       "<td>0.000<br><span style=\"font-size: 75%;\">(0.000,0.000)</span></td>\n",
       "<td>0.000<br><span style=\"font-size: 75%;\">(0.000,0.000)</span></td>\n",
       "<td>0.000<br><span style=\"font-size: 75%;\">(0.000,0.000)</span></td>\n",
       "<td>0.000<br><span style=\"font-size: 75%;\">(0.000,0.000)</span></td>\n",
       "<td></td>\n",
       "</tr>\n",
       "<tr><td>nrms_topic_scores\n",
       "<td>0.000<br><span style=\"font-size: 75%;\">(0.000,0.000)</span></td>\n",
       "<td>0.000<br><span style=\"font-size: 75%;\">(0.000,0.000)</span></td>\n",
       "<td>0.000<br><span style=\"font-size: 75%;\">(0.000,0.000)</span></td>\n",
       "<td>0.000<br><span style=\"font-size: 75%;\">(0.000,0.000)</span></td>\n",
       "<td>0.000<br><span style=\"font-size: 75%;\">(0.000,0.000)</span></td>\n",
       "<td></td>\n",
       "</tr>\n",
       "<tr><td>nrms_topics_static\n",
       "<td>0.000<br><span style=\"font-size: 75%;\">(0.000,0.000)</span></td>\n",
       "<td>0.000<br><span style=\"font-size: 75%;\">(0.000,0.000)</span></td>\n",
       "<td>0.000<br><span style=\"font-size: 75%;\">(0.000,0.000)</span></td>\n",
       "<td>0.000<br><span style=\"font-size: 75%;\">(0.000,0.000)</span></td>\n",
       "<td>0.000<br><span style=\"font-size: 75%;\">(0.000,0.000)</span></td>\n",
       "<td></td>\n",
       "</tr>\n",
       "<tr><td>softmax\n",
       "<td>0.755<br><span style=\"font-size: 75%;\">(0.754,0.755)</span></td>\n",
       "<td>0.198<br><span style=\"font-size: 75%;\">(0.197,0.199)</span></td>\n",
       "<td>0.549<br><span style=\"font-size: 75%;\">(0.548,0.551)</span></td>\n",
       "<td>0.796<br><span style=\"font-size: 75%;\">(0.795,0.796)</span></td>\n",
       "<td>0.954<br><span style=\"font-size: 75%;\">(0.953,0.954)</span></td>\n",
       "<td><img src=\"data:image/png;base64,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\"></td>\n",
       "</tr>\n",
       "</tbody>\n",
       "</table>\n"
      ],
      "text/plain": [
       "<IPython.core.display.HTML object>"
      ]
     },
     "metadata": {},
     "output_type": "display_data"
    }
   ],
   "source": [
    "for metric in overlap_metrics:\n",
    "    tw = EvalTable(mind_subset_user_metrics, \"pipeline\", metric)\n",
    "    tw.add_stat(\"Mean\", np.mean, ci=True)\n",
    "    tw.add_stat(\"Std Dev\", np.std, ci=True)\n",
    "    tw.add_quantiles([\"10%ile\", \"Median\", \"90%ile\"], [0.1, 0.5, 0.9], ci=True)\n",
    "    display(HTML(f\"<h3>Summary Table for {metric}</h3>\"))\n",
    "    display(HTML(tw.html_table()))"
   ]
  }
 ],
 "metadata": {
  "jupytext": {
   "formats": "ipynb,md:myst"
  },
  "kernelspec": {
   "display_name": "Python 3 (ipykernel)",
   "language": "python",
   "name": "python3"
  },
  "language_info": {
   "codemirror_mode": {
    "name": "ipython",
    "version": 3
   },
   "file_extension": ".py",
   "mimetype": "text/x-python",
   "name": "python",
   "nbconvert_exporter": "python",
   "pygments_lexer": "ipython3",
   "version": "3.12.9"
  },
  "papermill": {
   "default_parameters": {},
   "duration": 3269.542199,
   "end_time": "2025-09-12T20:15:17.216754",
   "environment_variables": {},
   "exception": null,
   "input_path": "basic-eval-template.ipynb",
   "output_path": "mind-val.ipynb",
   "parameters": {
    "EVAL_NAME": "mind-val"
   },
   "start_time": "2025-09-12T19:20:47.674555",
   "version": "2.6.0"
  }
 },
 "nbformat": 4,
 "nbformat_minor": 5
}