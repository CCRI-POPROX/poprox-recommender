{
 "cells": [
  {
   "cell_type": "markdown",
   "id": "32451168",
   "metadata": {
    "editable": true,
    "slideshow": {
     "slide_type": ""
    }
   },
   "source": [
    "# Offline Evaluation Metrics Visualizations\n",
    "\n",
    "This notebook visualizes user-specific performance metrics of various recommenders in the mind-subset dataset to assess effectiveness and ranking overlap. We explore two metric groups:\n",
    "\n",
    "1. **Effectiveness Metrics**: We use ranking-based metrics, Normalized Discounted Cumulative Gain (NDCG) and Reciprocal Rank (RR), to evaluate recommender effectiveness.\n",
    "2. **Ranking Overlap Metrics**: We use Rank-Based Overlap (RBO) to assess consistency in top-k recommendations relative to final rankings.\n",
    "\n",
    "> [!NOTE]\n",
    "> This is a *parameterized* notebook, and is used to render the other specific evaluation notebooks with [Papermill](https://papermill.readthedocs.io/en/latest/).  By default, it displays\n",
    "> the MIND Subset results, for easy editing."
   ]
  },
  {
   "cell_type": "code",
   "execution_count": null,
   "id": "7dcdcf4a",
   "metadata": {
    "editable": true,
    "slideshow": {
     "slide_type": ""
    },
    "tags": [
     "parameters"
    ]
   },
   "outputs": [],
   "source": [
    "EVAL_NAME = \"mind-subset\""
   ]
  },
  {
   "cell_type": "markdown",
   "id": "d9b468ec",
   "metadata": {
    "editable": true,
    "slideshow": {
     "slide_type": ""
    }
   },
   "source": [
    "## Setup"
   ]
  },
  {
   "cell_type": "markdown",
   "id": "1c808f55",
   "metadata": {
    "editable": true,
    "slideshow": {
     "slide_type": ""
    }
   },
   "source": [
    "### Importing Libraries"
   ]
  },
  {
   "cell_type": "markdown",
   "id": "8d0c57e8",
   "metadata": {
    "editable": true,
    "slideshow": {
     "slide_type": ""
    }
   },
   "source": [
    "PyData packages:"
   ]
  },
  {
   "cell_type": "code",
   "execution_count": null,
   "id": "9eb7bf6e",
   "metadata": {
    "editable": true,
    "slideshow": {
     "slide_type": ""
    }
   },
   "outputs": [],
   "source": [
    "import matplotlib.pyplot as plt\n",
    "import numpy as np\n",
    "import pandas as pd\n",
    "import seaborn as sns"
   ]
  },
  {
   "cell_type": "markdown",
   "id": "2a80bce8",
   "metadata": {
    "editable": true,
    "slideshow": {
     "slide_type": ""
    }
   },
   "source": [
    "Local code and display support:"
   ]
  },
  {
   "cell_type": "code",
   "execution_count": null,
   "id": "6cd5fe7c",
   "metadata": {
    "editable": true,
    "slideshow": {
     "slide_type": ""
    }
   },
   "outputs": [],
   "source": [
    "from IPython.display import HTML\n",
    "\n",
    "from poprox_recommender.eval_tables import EvalTable"
   ]
  },
  {
   "cell_type": "markdown",
   "id": "a687c6b2",
   "metadata": {
    "editable": true,
    "slideshow": {
     "slide_type": ""
    }
   },
   "source": [
    "### Loading Data"
   ]
  },
  {
   "cell_type": "code",
   "execution_count": null,
   "id": "2068c2e1",
   "metadata": {
    "editable": true,
    "slideshow": {
     "slide_type": ""
    }
   },
   "outputs": [],
   "source": [
    "mind_subset_user_metrics = pd.read_csv(f\"../outputs/{EVAL_NAME}-profile-metrics.csv.gz\")\n",
    "mind_subset_user_metrics.head()"
   ]
  },
  {
   "cell_type": "code",
   "execution_count": null,
   "id": "e4ef4aae",
   "metadata": {
    "editable": true,
    "slideshow": {
     "slide_type": ""
    }
   },
   "outputs": [],
   "source": [
    "effectiveness_metrics = [\"NDCG@5\", \"NDCG@10\", \"RR\"]\n",
    "overlap_metrics = [\"RBO@5\", \"RBO@10\"]"
   ]
  },
  {
   "cell_type": "markdown",
   "id": "13a7aa6a",
   "metadata": {
    "editable": true,
    "slideshow": {
     "slide_type": ""
    }
   },
   "source": [
    "## Results"
   ]
  },
  {
   "cell_type": "markdown",
   "id": "17369a8f",
   "metadata": {
    "editable": true,
    "slideshow": {
     "slide_type": ""
    }
   },
   "source": [
    "### Effectiveness Metrics\n",
    "\n",
    "NDCG measures how well the recommendations align with user test data, focusing on the top-k positions, such as the top 5 (NDCG@5) or top 10 (NDCG@10). Likewise, RR evaluates how well the recommender finds the most relevant item as the top result."
   ]
  },
  {
   "cell_type": "code",
   "execution_count": null,
   "id": "4221368b",
   "metadata": {
    "editable": true,
    "slideshow": {
     "slide_type": ""
    }
   },
   "outputs": [],
   "source": [
    "plt.figure(figsize=(12, 3))\n",
    "plt.subplots_adjust(wspace=0.3)\n",
    "\n",
    "for i, metric in enumerate(effectiveness_metrics, 1):\n",
    "    plt.subplot(1, 3, i)\n",
    "    sns.barplot(data=mind_subset_user_metrics, x=\"pipeline\", y=metric)\n",
    "    plt.xticks(rotation=45)\n",
    "\n",
    "plt.show()"
   ]
  },
  {
   "cell_type": "markdown",
   "id": "7a59856f",
   "metadata": {},
   "source": [
    "The summary tables show the mean values, standard deviation, and quantiles (10%ile, Median, 90%ile), each accompanied by their respective 95% confidence intervals for effectiveness metrics across recommenders."
   ]
  },
  {
   "cell_type": "code",
   "execution_count": null,
   "id": "d728cbc8",
   "metadata": {
    "editable": true,
    "slideshow": {
     "slide_type": ""
    }
   },
   "outputs": [],
   "source": [
    "for metric in effectiveness_metrics:\n",
    "    tw = EvalTable(mind_subset_user_metrics, \"pipeline\", metric)\n",
    "    tw.add_stat(\"Mean\", np.mean, ci=True)\n",
    "    tw.add_stat(\"Std Dev\", np.std, ci=True)\n",
    "    tw.add_quantiles([\"10%ile\", \"Median\", \"90%ile\"], [0.1, 0.5, 0.9], ci=True)\n",
    "    display(HTML(f\"<h3>Summary Table for {metric}</h3>\"))\n",
    "    display(HTML(tw.html_table()))"
   ]
  },
  {
   "cell_type": "markdown",
   "id": "9dc4c738",
   "metadata": {
    "editable": true,
    "slideshow": {
     "slide_type": ""
    }
   },
   "source": [
    "### Ranking Overlap Metrics\n",
    "RBO measures the similarity between two ranked lists, evaluating how much overlap exists between pure top-k recommendations and the actual rankings produced after recommendations. RBO can be applied at different list depths to analyze performance consistency, such as RBO@5 and RBO@10."
   ]
  },
  {
   "cell_type": "code",
   "execution_count": null,
   "id": "b027061d",
   "metadata": {
    "editable": true,
    "slideshow": {
     "slide_type": ""
    }
   },
   "outputs": [],
   "source": [
    "plt.figure(figsize=(8, 3))\n",
    "plt.subplots_adjust(wspace=0.3)\n",
    "\n",
    "for i, metric in enumerate(overlap_metrics, 1):\n",
    "    plt.subplot(1, 2, i)\n",
    "    sns.barplot(data=mind_subset_user_metrics, x=\"pipeline\", y=metric)\n",
    "    plt.xticks(rotation=45)\n",
    "\n",
    "plt.show()"
   ]
  },
  {
   "cell_type": "markdown",
   "id": "5fd96c66",
   "metadata": {},
   "source": [
    "The summary tables show the mean values, standard deviation, and quantiles (10%ile, Median, 90%ile), each accompanied by their respective 95% confidence intervals for ranking overlap metrics across recommenders."
   ]
  },
  {
   "cell_type": "code",
   "execution_count": null,
   "id": "66152093",
   "metadata": {},
   "outputs": [],
   "source": [
    "for metric in overlap_metrics:\n",
    "    tw = EvalTable(mind_subset_user_metrics, \"pipeline\", metric)\n",
    "    tw.add_stat(\"Mean\", np.mean, ci=True)\n",
    "    tw.add_stat(\"Std Dev\", np.std, ci=True)\n",
    "    tw.add_quantiles([\"10%ile\", \"Median\", \"90%ile\"], [0.1, 0.5, 0.9], ci=True)\n",
    "    display(HTML(f\"<h3>Summary Table for {metric}</h3>\"))\n",
    "    display(HTML(tw.html_table()))"
   ]
  }
 ],
 "metadata": {
  "jupytext": {
   "formats": "ipynb,md:myst"
  },
  "kernelspec": {
   "display_name": "Python 3 (ipykernel)",
   "language": "python",
   "name": "python3"
  }
 },
 "nbformat": 4,
 "nbformat_minor": 5
}
